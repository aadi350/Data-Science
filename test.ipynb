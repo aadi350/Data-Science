{
 "cells": [
  {
   "cell_type": "markdown",
   "id": "7bc99051",
   "metadata": {
    "slideshow": {
     "slide_type": "slide"
    }
   },
   "source": [
    "# Heading I\n",
    "Some text"
   ]
  },
  {
   "cell_type": "code",
   "execution_count": 1,
   "id": "c64a993d",
   "metadata": {
    "slideshow": {
     "slide_type": "subslide"
    }
   },
   "outputs": [
    {
     "name": "stdout",
     "output_type": "stream",
     "text": [
      "<module 'os' from '/usr/lib/python3.10/os.py'>\n"
     ]
    }
   ],
   "source": [
    "import os\n",
    "\n",
    "print(os)"
   ]
  },
  {
   "cell_type": "code",
   "execution_count": null,
   "id": "83641195",
   "metadata": {
    "slideshow": {
     "slide_type": "subslide"
    }
   },
   "outputs": [],
   "source": []
  }
 ],
 "metadata": {
  "celltoolbar": "Slideshow",
  "kernelspec": {
   "display_name": "Python 3 (ipykernel)",
   "language": "python",
   "name": "python3"
  },
  "language_info": {
   "codemirror_mode": {
    "name": "ipython",
    "version": 3
   },
   "file_extension": ".py",
   "mimetype": "text/x-python",
   "name": "python",
   "nbconvert_exporter": "python",
   "pygments_lexer": "ipython3",
   "version": "3.10.9"
  }
 },
 "nbformat": 4,
 "nbformat_minor": 5
}
