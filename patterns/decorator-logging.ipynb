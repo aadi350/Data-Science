{
 "cells": [
  {
   "cell_type": "code",
   "execution_count": 80,
   "metadata": {},
   "outputs": [],
   "source": [
    "def log_metrics(conf,metrics_df):\n",
    "    import itertools\n",
    "    from tqdm import tqdm \n",
    "    \n",
    "    keys = conf.keys()\n",
    "    values = conf.values()\n",
    "    values_cross = itertools.product(*list(values))\n",
    "\n",
    "    def _decorate(input_fn):\n",
    "        def wrapper(*args, **kwargs):\n",
    "            for _value_list in values_cross:\n",
    "                input_args = dict(zip(keys, _value_list))\n",
    "                metrics = input_fn(*args, **kwargs, **input_args)\n",
    "\n",
    "                metrics_df.loc[_value_list, list(metrics.keys())] = list(metrics.values())\n",
    "    \n",
    "        return wrapper\n",
    "    return _decorate"
   ]
  },
  {
   "cell_type": "code",
   "execution_count": 87,
   "metadata": {},
   "outputs": [
    {
     "ename": "TypeError",
     "evalue": "'int' object is not iterable",
     "output_type": "error",
     "traceback": [
      "\u001b[0;31m---------------------------------------------------------------------------\u001b[0m",
      "\u001b[0;31mTypeError\u001b[0m                                 Traceback (most recent call last)",
      "\u001b[1;32m/storage/projects/notes/patterns/decorator-logging.ipynb Cell 2\u001b[0m in \u001b[0;36m<cell line: 9>\u001b[0;34m()\u001b[0m\n\u001b[1;32m      <a href='vscode-notebook-cell:/storage/projects/notes/patterns/decorator-logging.ipynb#X12sZmlsZQ%3D%3D?line=5'>6</a>\u001b[0m     metrics \u001b[39m=\u001b[39m foo(input_args)\n\u001b[1;32m      <a href='vscode-notebook-cell:/storage/projects/notes/patterns/decorator-logging.ipynb#X12sZmlsZQ%3D%3D?line=6'>7</a>\u001b[0m     d[value_list]  \u001b[39m=\u001b[39m metrics\n\u001b[0;32m----> <a href='vscode-notebook-cell:/storage/projects/notes/patterns/decorator-logging.ipynb#X12sZmlsZQ%3D%3D?line=8'>9</a>\u001b[0m \u001b[39mlist\u001b[39;49m(\u001b[39mmap\u001b[39;49m(\u001b[39meval\u001b[39;49m, [\u001b[39m1\u001b[39;49m, \u001b[39m2\u001b[39;49m, \u001b[39m3\u001b[39;49m], [\u001b[39m'\u001b[39;49m\u001b[39ma\u001b[39;49m\u001b[39m'\u001b[39;49m, \u001b[39m'\u001b[39;49m\u001b[39mb\u001b[39;49m\u001b[39m'\u001b[39;49m, \u001b[39m'\u001b[39;49m\u001b[39mc\u001b[39;49m\u001b[39m'\u001b[39;49m]))\n",
      "\u001b[1;32m/storage/projects/notes/patterns/decorator-logging.ipynb Cell 2\u001b[0m in \u001b[0;36meval\u001b[0;34m(value_list, keys)\u001b[0m\n\u001b[1;32m      <a href='vscode-notebook-cell:/storage/projects/notes/patterns/decorator-logging.ipynb#X12sZmlsZQ%3D%3D?line=3'>4</a>\u001b[0m \u001b[39mdef\u001b[39;00m \u001b[39meval\u001b[39m(value_list, keys):\n\u001b[0;32m----> <a href='vscode-notebook-cell:/storage/projects/notes/patterns/decorator-logging.ipynb#X12sZmlsZQ%3D%3D?line=4'>5</a>\u001b[0m     input_args \u001b[39m=\u001b[39m \u001b[39mdict\u001b[39m(\u001b[39mzip\u001b[39;49m(keys, value_list))\n\u001b[1;32m      <a href='vscode-notebook-cell:/storage/projects/notes/patterns/decorator-logging.ipynb#X12sZmlsZQ%3D%3D?line=5'>6</a>\u001b[0m     metrics \u001b[39m=\u001b[39m foo(input_args)\n\u001b[1;32m      <a href='vscode-notebook-cell:/storage/projects/notes/patterns/decorator-logging.ipynb#X12sZmlsZQ%3D%3D?line=6'>7</a>\u001b[0m     d[value_list]  \u001b[39m=\u001b[39m metrics\n",
      "\u001b[0;31mTypeError\u001b[0m: 'int' object is not iterable"
     ]
    }
   ],
   "source": [
    "def foo(i):\n",
    "    return i**2\n",
    "d = dict()\n",
    "def eval(value_list, keys):\n",
    "    input_args = dict(zip(keys, value_list))\n",
    "    metrics = foo(input_args)\n",
    "    d[value_list]  = metrics\n",
    "\n",
    "list(map(eval, [1, 2, 3], ['a', 'b', 'c']))"
   ]
  },
  {
   "cell_type": "code",
   "execution_count": 90,
   "metadata": {},
   "outputs": [
    {
     "ename": "AttributeError",
     "evalue": "'Figure' object has no attribute 'add_subplot'",
     "output_type": "error",
     "traceback": [
      "\u001b[0;31m---------------------------------------------------------------------------\u001b[0m",
      "\u001b[0;31mAttributeError\u001b[0m                            Traceback (most recent call last)",
      "\u001b[1;32m/storage/projects/notes/patterns/decorator-logging.ipynb Cell 3\u001b[0m in \u001b[0;36m<cell line: 16>\u001b[0;34m()\u001b[0m\n\u001b[1;32m     <a href='vscode-notebook-cell:/storage/projects/notes/patterns/decorator-logging.ipynb#W5sZmlsZQ%3D%3D?line=12'>13</a>\u001b[0m fig \u001b[39m=\u001b[39m go\u001b[39m.\u001b[39mFigure()\n\u001b[1;32m     <a href='vscode-notebook-cell:/storage/projects/notes/patterns/decorator-logging.ipynb#W5sZmlsZQ%3D%3D?line=13'>14</a>\u001b[0m linear_model \u001b[39m=\u001b[39m ols(\u001b[39m'\u001b[39m\u001b[39mBrain_weight ~ Head_size\u001b[39m\u001b[39m'\u001b[39m,\n\u001b[1;32m     <a href='vscode-notebook-cell:/storage/projects/notes/patterns/decorator-logging.ipynb#W5sZmlsZQ%3D%3D?line=14'>15</a>\u001b[0m                    data\u001b[39m=\u001b[39mdata)\u001b[39m.\u001b[39mfit()\n\u001b[0;32m---> <a href='vscode-notebook-cell:/storage/projects/notes/patterns/decorator-logging.ipynb#W5sZmlsZQ%3D%3D?line=15'>16</a>\u001b[0m sm\u001b[39m.\u001b[39;49mgraphics\u001b[39m.\u001b[39;49mplot_regress_exog(linear_model, \u001b[39m'\u001b[39;49m\u001b[39mHead_size\u001b[39;49m\u001b[39m'\u001b[39;49m, fig\u001b[39m=\u001b[39;49mfig)\n",
      "File \u001b[0;32m~/miniconda3/lib/python3.9/site-packages/statsmodels/graphics/regressionplots.py:229\u001b[0m, in \u001b[0;36mplot_regress_exog\u001b[0;34m(results, exog_idx, fig)\u001b[0m\n\u001b[1;32m    226\u001b[0m x1 \u001b[39m=\u001b[39m results\u001b[39m.\u001b[39mmodel\u001b[39m.\u001b[39mexog[:, exog_idx]\n\u001b[1;32m    227\u001b[0m prstd, iv_l, iv_u \u001b[39m=\u001b[39m wls_prediction_std(results)\n\u001b[0;32m--> 229\u001b[0m ax \u001b[39m=\u001b[39m fig\u001b[39m.\u001b[39;49madd_subplot(\u001b[39m2\u001b[39m, \u001b[39m2\u001b[39m, \u001b[39m1\u001b[39m)\n\u001b[1;32m    230\u001b[0m ax\u001b[39m.\u001b[39mplot(x1, results\u001b[39m.\u001b[39mmodel\u001b[39m.\u001b[39mendog, \u001b[39m'\u001b[39m\u001b[39mo\u001b[39m\u001b[39m'\u001b[39m, color\u001b[39m=\u001b[39m\u001b[39m'\u001b[39m\u001b[39mb\u001b[39m\u001b[39m'\u001b[39m, alpha\u001b[39m=\u001b[39m\u001b[39m0.9\u001b[39m, label\u001b[39m=\u001b[39my_name)\n\u001b[1;32m    231\u001b[0m ax\u001b[39m.\u001b[39mplot(x1, results\u001b[39m.\u001b[39mfittedvalues, \u001b[39m'\u001b[39m\u001b[39mD\u001b[39m\u001b[39m'\u001b[39m, color\u001b[39m=\u001b[39m\u001b[39m'\u001b[39m\u001b[39mr\u001b[39m\u001b[39m'\u001b[39m, label\u001b[39m=\u001b[39m\u001b[39m'\u001b[39m\u001b[39mfitted\u001b[39m\u001b[39m'\u001b[39m,\n\u001b[1;32m    232\u001b[0m         alpha\u001b[39m=\u001b[39m\u001b[39m.5\u001b[39m)\n",
      "\u001b[0;31mAttributeError\u001b[0m: 'Figure' object has no attribute 'add_subplot'"
     ]
    }
   ],
   "source": [
    "import plotly.graph_objects as go\n",
    "import numpy as np\n",
    "import pandas as pd\n",
    "import matplotlib.pyplot as plt\n",
    "import statsmodels.api as sm\n",
    "from statsmodels.formula.api import ols\n",
    "\n",
    "data = DataFrame({\n",
    "    'Brain_weight': [i for i in range(1, 10)],\n",
    "    'Head_size': [-i for i in range(1, 10)],\n",
    "})\n",
    "\n",
    "fig = go.Figure()\n",
    "linear_model = ols('Brain_weight ~ Head_size',\n",
    "                   data=data).fit()\n",
    "sm.graphics.plot_regress_exog(linear_model, 'Head_size', fig=fig)\n"
   ]
  },
  {
   "cell_type": "code",
   "execution_count": 2,
   "metadata": {},
   "outputs": [
    {
     "name": "stdout",
     "output_type": "stream",
     "text": [
      "('a', 'b')\n",
      "('b', 'c')\n",
      "('c', 'd')\n",
      "('d', 'e')\n",
      "('e', 'f')\n",
      "('f', 'g')\n"
     ]
    }
   ],
   "source": [
    "from itertools import islice, pairwise\n",
    "\n",
    "l =['a', 'b', 'c', 'd','e', 'f', 'g']\n",
    "\n",
    "for i in pairwise(l):\n",
    "    print(i)"
   ]
  },
  {
   "cell_type": "code",
   "execution_count": 3,
   "metadata": {},
   "outputs": [
    {
     "name": "stdout",
     "output_type": "stream",
     "text": [
      "Help on class pairwise in module itertools:\n",
      "\n",
      "class pairwise(builtins.object)\n",
      " |  pairwise(iterable, /)\n",
      " |  \n",
      " |  Return an iterator of overlapping pairs taken from the input iterator.\n",
      " |  \n",
      " |  s -> (s0,s1), (s1,s2), (s2, s3), ...\n",
      " |  \n",
      " |  Methods defined here:\n",
      " |  \n",
      " |  __getattribute__(self, name, /)\n",
      " |      Return getattr(self, name).\n",
      " |  \n",
      " |  __iter__(self, /)\n",
      " |      Implement iter(self).\n",
      " |  \n",
      " |  __next__(self, /)\n",
      " |      Implement next(self).\n",
      " |  \n",
      " |  ----------------------------------------------------------------------\n",
      " |  Static methods defined here:\n",
      " |  \n",
      " |  __new__(*args, **kwargs) from builtins.type\n",
      " |      Create and return a new object.  See help(type) for accurate signature.\n",
      "\n"
     ]
    }
   ],
   "source": [
    "help(pairwise)"
   ]
  },
  {
   "cell_type": "code",
   "execution_count": 81,
   "metadata": {},
   "outputs": [
    {
     "name": "stdout",
     "output_type": "stream",
     "text": [
      "(0.1, 0.1)\n",
      "0.1 0.1\n",
      "(0.1, 0.5)\n",
      "0.1 0.5\n",
      "(0.1, 0.9)\n",
      "0.1 0.9\n",
      "(0.5, 0.1)\n",
      "0.5 0.1\n",
      "(0.5, 0.5)\n",
      "0.5 0.5\n",
      "(0.5, 0.9)\n",
      "0.5 0.9\n",
      "(0.9, 0.1)\n",
      "0.9 0.1\n",
      "(0.9, 0.5)\n",
      "0.9 0.5\n",
      "(0.9, 0.9)\n",
      "0.9 0.9\n"
     ]
    }
   ],
   "source": [
    "conf = {\n",
    "    'over': [0.1, 0.5, 0.9],\n",
    "    'under': [0.1, 0.5, 0.9],\n",
    "}\n",
    "from pandas import DataFrame, MultiIndex\n",
    "values = conf.values()\n",
    "keys = conf.keys()\n",
    "midx =  MultiIndex.from_product(list(values), names=list(keys))\n",
    "metrics_df = DataFrame(index=midx)\n",
    "\n",
    "\n",
    "@log_metrics(conf, metrics_df)\n",
    "def a_print_function(clf, over, under):\n",
    "    print(over, under)\n",
    "\n",
    "    return {'deviance': 10}\n",
    "\n",
    "a_print_function(clf=1)\n"
   ]
  },
  {
   "cell_type": "code",
   "execution_count": 71,
   "metadata": {},
   "outputs": [
    {
     "data": {
      "text/html": [
       "<div>\n",
       "<style scoped>\n",
       "    .dataframe tbody tr th:only-of-type {\n",
       "        vertical-align: middle;\n",
       "    }\n",
       "\n",
       "    .dataframe tbody tr th {\n",
       "        vertical-align: top;\n",
       "    }\n",
       "\n",
       "    .dataframe thead th {\n",
       "        text-align: right;\n",
       "    }\n",
       "</style>\n",
       "<table border=\"1\" class=\"dataframe\">\n",
       "  <thead>\n",
       "    <tr style=\"text-align: right;\">\n",
       "      <th></th>\n",
       "      <th></th>\n",
       "      <th>deviance</th>\n",
       "    </tr>\n",
       "    <tr>\n",
       "      <th>over</th>\n",
       "      <th>under</th>\n",
       "      <th></th>\n",
       "    </tr>\n",
       "  </thead>\n",
       "  <tbody>\n",
       "    <tr>\n",
       "      <th rowspan=\"3\" valign=\"top\">0.1</th>\n",
       "      <th>0.1</th>\n",
       "      <td>10.0</td>\n",
       "    </tr>\n",
       "    <tr>\n",
       "      <th>0.5</th>\n",
       "      <td>10.0</td>\n",
       "    </tr>\n",
       "    <tr>\n",
       "      <th>0.9</th>\n",
       "      <td>10.0</td>\n",
       "    </tr>\n",
       "    <tr>\n",
       "      <th rowspan=\"3\" valign=\"top\">0.5</th>\n",
       "      <th>0.1</th>\n",
       "      <td>10.0</td>\n",
       "    </tr>\n",
       "    <tr>\n",
       "      <th>0.5</th>\n",
       "      <td>10.0</td>\n",
       "    </tr>\n",
       "    <tr>\n",
       "      <th>0.9</th>\n",
       "      <td>10.0</td>\n",
       "    </tr>\n",
       "    <tr>\n",
       "      <th rowspan=\"3\" valign=\"top\">0.9</th>\n",
       "      <th>0.1</th>\n",
       "      <td>10.0</td>\n",
       "    </tr>\n",
       "    <tr>\n",
       "      <th>0.5</th>\n",
       "      <td>10.0</td>\n",
       "    </tr>\n",
       "    <tr>\n",
       "      <th>0.9</th>\n",
       "      <td>10.0</td>\n",
       "    </tr>\n",
       "  </tbody>\n",
       "</table>\n",
       "</div>"
      ],
      "text/plain": [
       "            deviance\n",
       "over under          \n",
       "0.1  0.1        10.0\n",
       "     0.5        10.0\n",
       "     0.9        10.0\n",
       "0.5  0.1        10.0\n",
       "     0.5        10.0\n",
       "     0.9        10.0\n",
       "0.9  0.1        10.0\n",
       "     0.5        10.0\n",
       "     0.9        10.0"
      ]
     },
     "execution_count": 71,
     "metadata": {},
     "output_type": "execute_result"
    }
   ],
   "source": [
    "metrics_df"
   ]
  },
  {
   "cell_type": "code",
   "execution_count": null,
   "metadata": {},
   "outputs": [],
   "source": []
  }
 ],
 "metadata": {
  "kernelspec": {
   "display_name": "spark_env",
   "language": "python",
   "name": "python3"
  },
  "language_info": {
   "codemirror_mode": {
    "name": "ipython",
    "version": 3
   },
   "file_extension": ".py",
   "mimetype": "text/x-python",
   "name": "python",
   "nbconvert_exporter": "python",
   "pygments_lexer": "ipython3",
   "version": "3.8.15 (default, Nov 24 2022, 15:19:38) \n[GCC 11.2.0]"
  },
  "orig_nbformat": 4,
  "vscode": {
   "interpreter": {
    "hash": "bac5f9a12ce42e3ce4a716d69b8738cd831a51d5f24bd9d0d377d51220bf4645"
   }
  }
 },
 "nbformat": 4,
 "nbformat_minor": 2
}
