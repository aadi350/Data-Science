{
 "cells": [
  {
   "cell_type": "code",
   "execution_count": 1,
   "metadata": {},
   "outputs": [
    {
     "name": "stderr",
     "output_type": "stream",
     "text": [
      "/tmp/ipykernel_2045969/3712179070.py:5: UserWarning: \n",
      "The dash_core_components package is deprecated. Please replace\n",
      "`import dash_core_components as dcc` with `from dash import dcc`\n",
      "  import dash_core_components as dcc\n",
      "/tmp/ipykernel_2045969/3712179070.py:6: UserWarning: \n",
      "The dash_html_components package is deprecated. Please replace\n",
      "`import dash_html_components as html` with `from dash import html`\n",
      "  import dash_html_components as html\n"
     ]
    },
    {
     "data": {
      "text/html": [
       "\n",
       "        <iframe\n",
       "            width=\"100%\"\n",
       "            height=\"650\"\n",
       "            src=\"http://127.0.0.1:8050/\"\n",
       "            frameborder=\"0\"\n",
       "            allowfullscreen\n",
       "            \n",
       "        ></iframe>\n",
       "        "
      ],
      "text/plain": [
       "<IPython.lib.display.IFrame at 0x7ff7a9c84b50>"
      ]
     },
     "metadata": {},
     "output_type": "display_data"
    }
   ],
   "source": [
    "import plotly.graph_objects as go\n",
    "import numpy as np\n",
    "import pandas as pd\n",
    "from jupyter_dash import JupyterDash\n",
    "from dash import dcc\n",
    "from dash import html\n",
    "from dash.dependencies import Input, Output, State\n",
    "\n",
    "# initialise dataframe and figure\n",
    "df = pd.DataFrame({\"response\":[], \"currents\":[], \"frequencies\":[]})\n",
    "fig = go.Figure(data=go.Heatmap(z=df.response,\n",
    "                                x=df.currents,\n",
    "                                y=df.frequencies))\n",
    "\n",
    "\n",
    "\n",
    "# Build App\n",
    "app = JupyterDash(__name__)\n",
    "app.layout = html.Div(\n",
    "    [\n",
    "        dcc.Graph(id=\"heatmap\", figure=fig),\n",
    "        dcc.Interval(id=\"animateInterval\", interval=400, n_intervals=0),\n",
    "    ],\n",
    ")\n",
    "\n",
    "@app.callback(\n",
    "    Output(\"heatmap\", \"figure\"),\n",
    "    Input(\"animateInterval\", \"n_intervals\"),\n",
    "    State(\"heatmap\", \"figure\")\n",
    ")\n",
    "def doUpdate(i, fig):\n",
    "    global df\n",
    "    df = pd.concat([df, pd.DataFrame({\"response\":np.random.uniform(1,5,100), \"currents\":np.random.randint(1,20,100), \"frequencies\":np.random.randint(1,50,100)})])\n",
    "\n",
    "    return go.Figure(fig).update_traces(go.Heatmap(z=df.response,\n",
    "                                x=df.currents,\n",
    "                                y=df.frequencies))\n",
    "\n",
    "\n",
    "# Run app and display result inline in the notebook\n",
    "app.run_server(mode=\"inline\")"
   ]
  },
  {
   "cell_type": "code",
   "execution_count": 1,
   "metadata": {},
   "outputs": [
    {
     "data": {
      "text/html": [
       "\n",
       "        <iframe\n",
       "            width=\"100%\"\n",
       "            height=\"650\"\n",
       "            src=\"http://127.0.0.1:8050/\"\n",
       "            frameborder=\"0\"\n",
       "            allowfullscreen\n",
       "            \n",
       "        ></iframe>\n",
       "        "
      ],
      "text/plain": [
       "<IPython.lib.display.IFrame at 0x7fd693d78fd0>"
      ]
     },
     "metadata": {},
     "output_type": "display_data"
    }
   ],
   "source": [
    "import plotly.graph_objects as go\n",
    "import numpy as np\n",
    "import pandas as pd\n",
    "from jupyter_dash import JupyterDash\n",
    "from dash import dcc\n",
    "from dash import html\n",
    "from dash.dependencies import Input, Output, State\n",
    "\n",
    "# initialise dataframe and figure\n",
    "df = pd.DataFrame({\"response\":[], \"currents\":[], \"frequencies\":[]})\n",
    "fig = go.Figure(data=go.Heatmap(z=df.response,\n",
    "                                x=df.currents,\n",
    "                                y=df.frequencies))\n",
    "\n",
    "\n",
    "\n",
    "# Build App\n",
    "app = JupyterDash(__name__)\n",
    "app.layout = html.Div(\n",
    "    [\n",
    "        dcc.Graph(id=\"linegraph\", figure=fig),\n",
    "    ],\n",
    ")"
   ]
  },
  {
   "cell_type": "code",
   "execution_count": null,
   "metadata": {},
   "outputs": [],
   "source": []
  }
 ],
 "metadata": {
  "kernelspec": {
   "display_name": "Python 3.9.5 ('base')",
   "language": "python",
   "name": "python3"
  },
  "language_info": {
   "codemirror_mode": {
    "name": "ipython",
    "version": 3
   },
   "file_extension": ".py",
   "mimetype": "text/x-python",
   "name": "python",
   "nbconvert_exporter": "python",
   "pygments_lexer": "ipython3",
   "version": "3.9.15 (main, Nov 24 2022, 14:31:59) \n[GCC 11.2.0]"
  },
  "orig_nbformat": 4,
  "vscode": {
   "interpreter": {
    "hash": "71e8b1f6f3495059fce097d5c6575812dc5dac8fbff18ce1c88517378c99d58f"
   }
  }
 },
 "nbformat": 4,
 "nbformat_minor": 2
}
