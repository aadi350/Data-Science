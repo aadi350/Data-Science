{
 "cells": [
  {
   "cell_type": "code",
   "execution_count": 1,
   "metadata": {},
   "outputs": [],
   "source": [
    "import logging\n",
    "import os\n",
    "\n",
    "import torch\n",
    "import numpy as np\n",
    "import pandas as pd\n",
    "import seaborn as sns\n",
    "import matplotlib.pyplot as plt\n",
    "\n",
    "import pyro"
   ]
  },
  {
   "cell_type": "code",
   "execution_count": 2,
   "metadata": {},
   "outputs": [],
   "source": [
    "smoke_test = ('CI' in os.environ)\n",
    "assert pyro.__version__.startswith('1.8.2')\n",
    "\n",
    "pyro.enable_validation(True)\n",
    "pyro.set_rng_seed(1)\n",
    "logging.basicConfig(format='%(message)s', level=logging.INFO)\n",
    "\n",
    "# Set matplotlib settings\n",
    "%matplotlib inline\n",
    "plt.style.use('default')"
   ]
  },
  {
   "cell_type": "code",
   "execution_count": 8,
   "metadata": {},
   "outputs": [],
   "source": [
    "DATA_URL = \"https://d2hg8soec8ck9v.cloudfront.net/datasets/rugged_data.csv\"\n",
    "data = pd.read_csv(DATA_URL, encoding=\"ISO-8859-1\")\n",
    "df = data[[\"cont_africa\", \"rugged\", \"rgdppc_2000\"]]"
   ]
  },
  {
   "cell_type": "code",
   "execution_count": 9,
   "metadata": {},
   "outputs": [
    {
     "data": {
      "text/plain": [
       "<AxesSubplot:>"
      ]
     },
     "execution_count": 9,
     "metadata": {},
     "output_type": "execute_result"
    },
    {
     "data": {
      "image/png": "[encoded data removed]",
      "text/plain": [
       "<Figure size 640x480 with 1 Axes>"
      ]
     },
     "metadata": {},
     "output_type": "display_data"
    }
   ],
   "source": [
    "df.rgdppc_2000.hist()"
   ]
  },
  {
   "cell_type": "code",
   "execution_count": 10,
   "metadata": {},
   "outputs": [
    {
     "data": {
      "text/plain": [
       "<AxesSubplot:>"
      ]
     },
     "execution_count": 10,
     "metadata": {},
     "output_type": "execute_result"
    },
    {
     "data": {
      "image/png": "[encoded data removed]",
      "text/plain": [
       "<Figure size 640x480 with 1 Axes>"
      ]
     },
     "metadata": {},
     "output_type": "display_data"
    }
   ],
   "source": [
    "df = df[np.isfinite(df.rgdppc_2000)]\n",
    "df[\"rgdppc_2000\"] = np.log(df[\"rgdppc_2000\"])\n",
    "df.rgdppc_2000.hist()"
   ]
  },
  {
   "cell_type": "code",
   "execution_count": null,
   "metadata": {},
   "outputs": [],
   "source": [
    "# mean = a + b_a*is_cont_africa + b_r*ruggedness + b_ar*is_cont_africa*ruggedness\n",
    "\n",
    "def simple_model(is_cont_africa, ruggedness, log_gdp=None):\n",
    "    a = pyro.param('a', lambda: torch.randnd(()))\n"
   ]
  },
  {
   "cell_type": "code",
   "execution_count": 17,
   "metadata": {},
   "outputs": [
    {
     "data": {
      "text/plain": [
       "tensor(0.6614, requires_grad=True)"
      ]
     },
     "execution_count": 17,
     "metadata": {},
     "output_type": "execute_result"
    }
   ],
   "source": [
    "pyro.param(\"a\", lambda: torch.randn(()))"
   ]
  },
  {
   "cell_type": "code",
   "execution_count": 25,
   "metadata": {},
   "outputs": [],
   "source": [
    "train = torch.tensor(df.values, dtype=torch.float)\n",
    "is_cont_africa, ruggedness, log_gdp = train[:, 0], train[:, 1], train[:, 2]"
   ]
  },
  {
   "cell_type": "code",
   "execution_count": 28,
   "metadata": {},
   "outputs": [
    {
     "data": {
      "image/svg+xml": "<?xml version=\"1.0\" encoding=\"UTF-8\" standalone=\"no\"?>\n<!DOCTYPE svg PUBLIC \"-//W3C//DTD SVG 1.1//EN\"\n \"http://www.w3.org/Graphics/SVG/1.1/DTD/svg11.dtd\">\n<!-- Generated by graphviz version 2.42.3 (20191010.1750)\n -->\n<!-- Title: %3 Pages: 1 -->\n<svg width=\"523pt\" height=\"217pt\"\n viewBox=\"0.00 0.00 522.50 217.00\" xmlns=\"http://www.w3.org/2000/svg\" xmlns:xlink=\"http://www.w3.org/1999/xlink\">\n<g id=\"graph0\" class=\"graph\" transform=\"scale(1 1) rotate(0) translate(4 213)\">\n<title>%3</title>\n<polygon fill=\"white\" stroke=\"transparent\" points=\"-4,4 -4,-213 518.5,-213 518.5,4 -4,4\"/>\n<g id=\"clust1\" class=\"cluster\">\n<title>cluster_data</title>\n<polygon fill=\"none\" stroke=\"black\" points=\"57,-8 57,-83 127,-83 127,-8 57,-8\"/>\n<text text-anchor=\"middle\" x=\"103\" y=\"-15.8\" font-family=\"Times,serif\" font-size=\"14.00\">data</text>\n</g>\n<!-- bA -->\n<g id=\"node1\" class=\"node\">\n<title>bA</title>\n<polygon fill=\"white\" stroke=\"transparent\" points=\"20,-167.5 0,-167.5 0,-152.5 20,-152.5 20,-167.5\"/>\n<text text-anchor=\"middle\" x=\"10\" y=\"-156.3\" font-family=\"Times,serif\" font-size=\"14.00\">bA</text>\n</g>\n<!-- obs -->\n<g id=\"node6\" class=\"node\">\n<title>obs</title>\n<ellipse fill=\"grey\" stroke=\"black\" cx=\"92\" cy=\"-57\" rx=\"27\" ry=\"18\"/>\n<text text-anchor=\"middle\" x=\"92\" y=\"-53.3\" font-family=\"Times,serif\" font-size=\"14.00\">obs</text>\n</g>\n<!-- bA&#45;&gt;obs -->\n<g id=\"edge1\" class=\"edge\">\n<title>bA&#45;&gt;obs</title>\n<path fill=\"none\" stroke=\"black\" d=\"M11.54,-152.28C14.01,-142.5 19.57,-124.09 29,-111 38.71,-97.52 52.58,-85.36 64.84,-76.1\"/>\n<polygon fill=\"black\" stroke=\"black\" points=\"66.96,-78.88 72.99,-70.17 62.85,-73.22 66.96,-78.88\"/>\n</g>\n<!-- bR -->\n<g id=\"node2\" class=\"node\">\n<title>bR</title>\n<polygon fill=\"white\" stroke=\"transparent\" points=\"58,-167.5 38,-167.5 38,-152.5 58,-152.5 58,-167.5\"/>\n<text text-anchor=\"middle\" x=\"48\" y=\"-156.3\" font-family=\"Times,serif\" font-size=\"14.00\">bR</text>\n</g>\n<!-- bR&#45;&gt;obs -->\n<g id=\"edge2\" class=\"edge\">\n<title>bR&#45;&gt;obs</title>\n<path fill=\"none\" stroke=\"black\" d=\"M50.45,-152.42C53.95,-143.13 60.66,-125.64 67,-111 70.88,-102.05 75.36,-92.36 79.45,-83.75\"/>\n<polygon fill=\"black\" stroke=\"black\" points=\"82.68,-85.12 83.84,-74.58 76.36,-82.09 82.68,-85.12\"/>\n</g>\n<!-- bAR -->\n<g id=\"node3\" class=\"node\">\n<title>bAR</title>\n<polygon fill=\"white\" stroke=\"transparent\" points=\"107.5,-167.5 76.5,-167.5 76.5,-152.5 107.5,-152.5 107.5,-167.5\"/>\n<text text-anchor=\"middle\" x=\"92\" y=\"-156.3\" font-family=\"Times,serif\" font-size=\"14.00\">bAR</text>\n</g>\n<!-- bAR&#45;&gt;obs -->\n<g id=\"edge3\" class=\"edge\">\n<title>bAR&#45;&gt;obs</title>\n<path fill=\"none\" stroke=\"black\" d=\"M92,-152.37C92,-139.04 92,-108.29 92,-85.49\"/>\n<polygon fill=\"black\" stroke=\"black\" points=\"95.5,-85.36 92,-75.36 88.5,-85.36 95.5,-85.36\"/>\n</g>\n<!-- sigma -->\n<g id=\"node4\" class=\"node\">\n<title>sigma</title>\n<polygon fill=\"white\" stroke=\"transparent\" points=\"168.5,-167.5 125.5,-167.5 125.5,-152.5 168.5,-152.5 168.5,-167.5\"/>\n<text text-anchor=\"middle\" x=\"147\" y=\"-156.3\" font-family=\"Times,serif\" font-size=\"14.00\">sigma</text>\n</g>\n<!-- sigma&#45;&gt;obs -->\n<g id=\"edge5\" class=\"edge\">\n<title>sigma&#45;&gt;obs</title>\n<path fill=\"none\" stroke=\"black\" d=\"M143.39,-152.37C135.87,-138.56 118.19,-106.09 105.67,-83.1\"/>\n<polygon fill=\"black\" stroke=\"black\" points=\"108.69,-81.32 100.83,-74.21 102.54,-84.67 108.69,-81.32\"/>\n</g>\n<!-- a -->\n<g id=\"node5\" class=\"node\">\n<title>a</title>\n<polygon fill=\"white\" stroke=\"transparent\" points=\"195.5,-167.5 186.5,-167.5 186.5,-152.5 195.5,-152.5 195.5,-167.5\"/>\n<text text-anchor=\"middle\" x=\"191\" y=\"-156.3\" font-family=\"Times,serif\" font-size=\"14.00\">a</text>\n</g>\n<!-- a&#45;&gt;obs -->\n<g id=\"edge4\" class=\"edge\">\n<title>a&#45;&gt;obs</title>\n<path fill=\"none\" stroke=\"black\" d=\"M190.73,-152.44C190.01,-142.54 187.4,-123.59 178,-111 164.42,-92.81 142.58,-79.47 124.32,-70.72\"/>\n<polygon fill=\"black\" stroke=\"black\" points=\"125.7,-67.5 115.15,-66.56 122.81,-73.88 125.7,-67.5\"/>\n</g>\n<!-- distribution_description_node -->\n<g id=\"node7\" class=\"node\">\n<title>distribution_description_node</title>\n<text text-anchor=\"start\" x=\"221.5\" y=\"-193.8\" font-family=\"Times,serif\" font-size=\"14.00\">obs ~ Normal</text>\n<text text-anchor=\"start\" x=\"221.5\" y=\"-178.8\" font-family=\"Times,serif\" font-size=\"14.00\">a : Real()</text>\n<text text-anchor=\"start\" x=\"221.5\" y=\"-163.8\" font-family=\"Times,serif\" font-size=\"14.00\">bA : Real()</text>\n<text text-anchor=\"start\" x=\"221.5\" y=\"-148.8\" font-family=\"Times,serif\" font-size=\"14.00\">bR : Real()</text>\n<text text-anchor=\"start\" x=\"221.5\" y=\"-133.8\" font-family=\"Times,serif\" font-size=\"14.00\">bAR : Real()</text>\n<text text-anchor=\"start\" x=\"221.5\" y=\"-118.8\" font-family=\"Times,serif\" font-size=\"14.00\">sigma : GreaterThan(lower_bound=0.0)</text>\n</g>\n</g>\n</svg>\n",
      "text/plain": [
       "<graphviz.graphs.Digraph at 0x7fa46046b2b0>"
      ]
     },
     "execution_count": 28,
     "metadata": {},
     "output_type": "execute_result"
    }
   ],
   "source": [
    "import pyro.distributions as dist\n",
    "import pyro.distributions.constraints as constraints\n",
    "\n",
    "def simple_model(is_cont_africa, ruggedness, log_gdp=None):\n",
    "    a = pyro.param(\"a\", lambda: torch.randn(()))\n",
    "    b_a = pyro.param(\"bA\", lambda: torch.randn(()))\n",
    "    b_r = pyro.param(\"bR\", lambda: torch.randn(()))\n",
    "    b_ar = pyro.param(\"bAR\", lambda: torch.randn(()))\n",
    "    sigma = pyro.param(\"sigma\", lambda: torch.ones(()), constraint=constraints.positive)\n",
    "\n",
    "    mean = a + b_a * is_cont_africa + b_r * ruggedness + b_ar * is_cont_africa * ruggedness\n",
    "\n",
    "    with pyro.plate(\"data\", len(ruggedness)):\n",
    "        return pyro.sample(\"obs\", dist.Normal(mean, sigma), obs=log_gdp)\n",
    "\n",
    "pyro.render_model(simple_model, model_args=(is_cont_africa, ruggedness, log_gdp), render_distributions=True, render_params=True)"
   ]
  },
  {
   "cell_type": "code",
   "execution_count": null,
   "metadata": {},
   "outputs": [],
   "source": []
  }
 ],
 "metadata": {
  "kernelspec": {
   "display_name": "Python 3.7.3 ('torch_pm')",
   "language": "python",
   "name": "python3"
  },
  "language_info": {
   "codemirror_mode": {
    "name": "ipython",
    "version": 3
   },
   "file_extension": ".py",
   "mimetype": "text/x-python",
   "name": "python",
   "nbconvert_exporter": "python",
   "pygments_lexer": "ipython3",
   "version": "3.7.3"
  },
  "orig_nbformat": 4,
  "vscode": {
   "interpreter": {
    "hash": "2902af694af05a9148590129861f1c7c296f2644acfad00841ae21945bcf48f1"
   }
  }
 },
 "nbformat": 4,
 "nbformat_minor": 2
}
