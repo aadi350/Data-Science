{
 "cells": [
  {
   "cell_type": "markdown",
   "metadata": {},
   "source": [
    "# The Matrix Representation of a Graph"
   ]
  },
  {
   "cell_type": "markdown",
   "metadata": {},
   "source": [
    "Isomorphic graphs: if there's a 1 to 1 mapping from one graph to another preserving the exact number of edges for every pair of nodes. Mapping is called isomorphism  \n",
    "Determinant of adjacency matrix $A$ = $|A|$  \n",
    "Characteristic polynomial $|\\lambda I - A|$, eigenvalues of $A$ are zeros of the $P_G(\\lambda)$.  \n",
    "Spectrum of $A$ also consist the eignenvalues(entire set $[\\lambda_1,...\\lambda_n])$  \n",
    "OR $Ax=\\lambda x$ for usual decomposition\n",
    "\n",
    "Theoremm:  \n",
    "spectrum is finite sequence of numerical invariants. We can use the spectrum instead of the graph, if we have efficient ways to encode/decode graph spectra"
   ]
  }
 ],
 "metadata": {
  "language_info": {
   "name": "python"
  },
  "orig_nbformat": 4
 },
 "nbformat": 4,
 "nbformat_minor": 2
}
