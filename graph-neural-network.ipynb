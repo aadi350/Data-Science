{
 "cells": [
  {
   "cell_type": "markdown",
   "metadata": {},
   "source": [
    "# The Graph Neural Network\n",
    "The Graph Neural Network (GNN) was proposed ([Scarselli, 2008](https://ro.uow.edu.au/cgi/viewcontent.cgi?article=10501&context=infopapers)) as a general framework for defining deep neural networks on graph data.\n",
    "\n",
    "(If you need a refresher on deep learning, see [here](https://www.youtube.com/watch?v=tutlI9YzJ2g))\n",
    "\n",
    "The idea was to somehow utilize a deep neural network to generate node-embeddings in a generalize-able way to graph-structured data. The main idea in utilizing neural networks was that, apart from node features (degree, attributes, etc), the actual structure of the node's neighbourhood, and by extension the graph, should contribute somehow to the node embeddings.\n",
    "\n",
    "This task is further complicated by the fact that typical deep-learning approaches (Convolutional and Recurrent Neural Networks) expect some form of data structured in the Euclidean plane (images or sequences of text). Hence, a completely new way of utilizing deep, multi-layer perceptrons was needed."
   ]
  },
  {
   "cell_type": "code",
   "execution_count": 8,
   "metadata": {},
   "outputs": [
    {
     "data": {
      "text/html": [
       "\n",
       "    <div class=\"bk-root\">\n",
       "        <a href=\"https://bokeh.org\" target=\"_blank\" class=\"bk-logo bk-logo-small bk-logo-notebook\"></a>\n",
       "        <span id=\"1141\">Loading BokehJS ...</span>\n",
       "    </div>"
      ]
     },
     "metadata": {},
     "output_type": "display_data"
    },
    {
     "data": {
      "application/javascript": "\n(function(root) {\n  function now() {\n    return new Date();\n  }\n\n  const force = true;\n\n  if (typeof root._bokeh_onload_callbacks === \"undefined\" || force === true) {\n    root._bokeh_onload_callbacks = [];\n    root._bokeh_is_loading = undefined;\n  }\n\n  const JS_MIME_TYPE = 'application/javascript';\n  const HTML_MIME_TYPE = 'text/html';\n  const EXEC_MIME_TYPE = 'application/vnd.bokehjs_exec.v0+json';\n  const CLASS_NAME = 'output_bokeh rendered_html';\n\n  /**\n   * Render data to the DOM node\n   */\n  function render(props, node) {\n    const script = document.createElement(\"script\");\n    node.appendChild(script);\n  }\n\n  /**\n   * Handle when an output is cleared or removed\n   */\n  function handleClearOutput(event, handle) {\n    const cell = handle.cell;\n\n    const id = cell.output_area._bokeh_element_id;\n    const server_id = cell.output_area._bokeh_server_id;\n    // Clean up Bokeh references\n    if (id != null && id in Bokeh.index) {\n      Bokeh.index[id].model.document.clear();\n      delete Bokeh.index[id];\n    }\n\n    if (server_id !== undefined) {\n      // Clean up Bokeh references\n      const cmd_clean = \"from bokeh.io.state import curstate; print(curstate().uuid_to_server['\" + server_id + \"'].get_sessions()[0].document.roots[0]._id)\";\n      cell.notebook.kernel.execute(cmd_clean, {\n        iopub: {\n          output: function(msg) {\n            const id = msg.content.text.trim();\n            if (id in Bokeh.index) {\n              Bokeh.index[id].model.document.clear();\n              delete Bokeh.index[id];\n            }\n          }\n        }\n      });\n      // Destroy server and session\n      const cmd_destroy = \"import bokeh.io.notebook as ion; ion.destroy_server('\" + server_id + \"')\";\n      cell.notebook.kernel.execute(cmd_destroy);\n    }\n  }\n\n  /**\n   * Handle when a new output is added\n   */\n  function handleAddOutput(event, handle) {\n    const output_area = handle.output_area;\n    const output = handle.output;\n\n    // limit handleAddOutput to display_data with EXEC_MIME_TYPE content only\n    if ((output.output_type != \"display_data\") || (!Object.prototype.hasOwnProperty.call(output.data, EXEC_MIME_TYPE))) {\n      return\n    }\n\n    const toinsert = output_area.element.find(\".\" + CLASS_NAME.split(' ')[0]);\n\n    if (output.metadata[EXEC_MIME_TYPE][\"id\"] !== undefined) {\n      toinsert[toinsert.length - 1].firstChild.textContent = output.data[JS_MIME_TYPE];\n      // store reference to embed id on output_area\n      output_area._bokeh_element_id = output.metadata[EXEC_MIME_TYPE][\"id\"];\n    }\n    if (output.metadata[EXEC_MIME_TYPE][\"server_id\"] !== undefined) {\n      const bk_div = document.createElement(\"div\");\n      bk_div.innerHTML = output.data[HTML_MIME_TYPE];\n      const script_attrs = bk_div.children[0].attributes;\n      for (let i = 0; i < script_attrs.length; i++) {\n        toinsert[toinsert.length - 1].firstChild.setAttribute(script_attrs[i].name, script_attrs[i].value);\n        toinsert[toinsert.length - 1].firstChild.textContent = bk_div.children[0].textContent\n      }\n      // store reference to server id on output_area\n      output_area._bokeh_server_id = output.metadata[EXEC_MIME_TYPE][\"server_id\"];\n    }\n  }\n\n  function register_renderer(events, OutputArea) {\n\n    function append_mime(data, metadata, element) {\n      // create a DOM node to render to\n      const toinsert = this.create_output_subarea(\n        metadata,\n        CLASS_NAME,\n        EXEC_MIME_TYPE\n      );\n      this.keyboard_manager.register_events(toinsert);\n      // Render to node\n      const props = {data: data, metadata: metadata[EXEC_MIME_TYPE]};\n      render(props, toinsert[toinsert.length - 1]);\n      element.append(toinsert);\n      return toinsert\n    }\n\n    /* Handle when an output is cleared or removed */\n    events.on('clear_output.CodeCell', handleClearOutput);\n    events.on('delete.Cell', handleClearOutput);\n\n    /* Handle when a new output is added */\n    events.on('output_added.OutputArea', handleAddOutput);\n\n    /**\n     * Register the mime type and append_mime function with output_area\n     */\n    OutputArea.prototype.register_mime_type(EXEC_MIME_TYPE, append_mime, {\n      /* Is output safe? */\n      safe: true,\n      /* Index of renderer in `output_area.display_order` */\n      index: 0\n    });\n  }\n\n  // register the mime type if in Jupyter Notebook environment and previously unregistered\n  if (root.Jupyter !== undefined) {\n    const events = require('base/js/events');\n    const OutputArea = require('notebook/js/outputarea').OutputArea;\n\n    if (OutputArea.prototype.mime_types().indexOf(EXEC_MIME_TYPE) == -1) {\n      register_renderer(events, OutputArea);\n    }\n  }\n\n  \n  if (typeof (root._bokeh_timeout) === \"undefined\" || force === true) {\n    root._bokeh_timeout = Date.now() + 5000;\n    root._bokeh_failed_load = false;\n  }\n\n  const NB_LOAD_WARNING = {'data': {'text/html':\n     \"<div style='background-color: #fdd'>\\n\"+\n     \"<p>\\n\"+\n     \"BokehJS does not appear to have successfully loaded. If loading BokehJS from CDN, this \\n\"+\n     \"may be due to a slow or bad network connection. Possible fixes:\\n\"+\n     \"</p>\\n\"+\n     \"<ul>\\n\"+\n     \"<li>re-rerun `output_notebook()` to attempt to load from CDN again, or</li>\\n\"+\n     \"<li>use INLINE resources instead, as so:</li>\\n\"+\n     \"</ul>\\n\"+\n     \"<code>\\n\"+\n     \"from bokeh.resources import INLINE\\n\"+\n     \"output_notebook(resources=INLINE)\\n\"+\n     \"</code>\\n\"+\n     \"</div>\"}};\n\n  function display_loaded() {\n    const el = document.getElementById(\"1141\");\n    if (el != null) {\n      el.textContent = \"BokehJS is loading...\";\n    }\n    if (root.Bokeh !== undefined) {\n      if (el != null) {\n        el.textContent = \"BokehJS \" + root.Bokeh.version + \" successfully loaded.\";\n      }\n    } else if (Date.now() < root._bokeh_timeout) {\n      setTimeout(display_loaded, 100)\n    }\n  }\n\n\n  function run_callbacks() {\n    try {\n      root._bokeh_onload_callbacks.forEach(function(callback) {\n        if (callback != null)\n          callback();\n      });\n    } finally {\n      delete root._bokeh_onload_callbacks\n    }\n    console.debug(\"Bokeh: all callbacks have finished\");\n  }\n\n  function load_libs(css_urls, js_urls, callback) {\n    if (css_urls == null) css_urls = [];\n    if (js_urls == null) js_urls = [];\n\n    root._bokeh_onload_callbacks.push(callback);\n    if (root._bokeh_is_loading > 0) {\n      console.debug(\"Bokeh: BokehJS is being loaded, scheduling callback at\", now());\n      return null;\n    }\n    if (js_urls == null || js_urls.length === 0) {\n      run_callbacks();\n      return null;\n    }\n    console.debug(\"Bokeh: BokehJS not loaded, scheduling load and callback at\", now());\n    root._bokeh_is_loading = css_urls.length + js_urls.length;\n\n    function on_load() {\n      root._bokeh_is_loading--;\n      if (root._bokeh_is_loading === 0) {\n        console.debug(\"Bokeh: all BokehJS libraries/stylesheets loaded\");\n        run_callbacks()\n      }\n    }\n\n    function on_error(url) {\n      console.error(\"failed to load \" + url);\n    }\n\n    for (let i = 0; i < css_urls.length; i++) {\n      const url = css_urls[i];\n      const element = document.createElement(\"link\");\n      element.onload = on_load;\n      element.onerror = on_error.bind(null, url);\n      element.rel = \"stylesheet\";\n      element.type = \"text/css\";\n      element.href = url;\n      console.debug(\"Bokeh: injecting link tag for BokehJS stylesheet: \", url);\n      document.body.appendChild(element);\n    }\n\n    for (let i = 0; i < js_urls.length; i++) {\n      const url = js_urls[i];\n      const element = document.createElement('script');\n      element.onload = on_load;\n      element.onerror = on_error.bind(null, url);\n      element.async = false;\n      element.src = url;\n      console.debug(\"Bokeh: injecting script tag for BokehJS library: \", url);\n      document.head.appendChild(element);\n    }\n  };\n\n  function inject_raw_css(css) {\n    const element = document.createElement(\"style\");\n    element.appendChild(document.createTextNode(css));\n    document.body.appendChild(element);\n  }\n\n  \n  const js_urls = [\"https://cdn.bokeh.org/bokeh/release/bokeh-2.4.0.min.js\", \"https://cdn.bokeh.org/bokeh/release/bokeh-gl-2.4.0.min.js\", \"https://cdn.bokeh.org/bokeh/release/bokeh-widgets-2.4.0.min.js\", \"https://cdn.bokeh.org/bokeh/release/bokeh-tables-2.4.0.min.js\", \"https://cdn.bokeh.org/bokeh/release/bokeh-mathjax-2.4.0.min.js\"];\n  const css_urls = [];\n  \n\n  const inline_js = [\n    function(Bokeh) {\n      Bokeh.set_log_level(\"info\");\n    },\n    function(Bokeh) {\n    \n    \n    }\n  ];\n\n  function run_inline_js() {\n    \n    if (root.Bokeh !== undefined || force === true) {\n      \n    for (let i = 0; i < inline_js.length; i++) {\n      inline_js[i].call(root, root.Bokeh);\n    }\n    if (force === true) {\n        display_loaded();\n      }} else if (Date.now() < root._bokeh_timeout) {\n      setTimeout(run_inline_js, 100);\n    } else if (!root._bokeh_failed_load) {\n      console.log(\"Bokeh: BokehJS failed to load within specified timeout.\");\n      root._bokeh_failed_load = true;\n    } else if (force !== true) {\n      const cell = $(document.getElementById(\"1141\")).parents('.cell').data().cell;\n      cell.output_area.append_execute_result(NB_LOAD_WARNING)\n    }\n\n  }\n\n  if (root._bokeh_is_loading === 0) {\n    console.debug(\"Bokeh: BokehJS loaded, going straight to plotting\");\n    run_inline_js();\n  } else {\n    load_libs(css_urls, js_urls, function() {\n      console.debug(\"Bokeh: BokehJS plotting callback run at\", now());\n      run_inline_js();\n    });\n  }\n}(window));",
      "application/vnd.bokehjs_load.v0+json": ""
     },
     "metadata": {},
     "output_type": "display_data"
    },
    {
     "data": {
      "text/html": [
       "\n",
       "\n",
       "\n",
       "\n",
       "\n",
       "\n",
       "  <div class=\"bk-root\" id=\"a5607945-5cbb-444c-829a-f198f27ce3d5\" data-root-id=\"1142\"></div>\n"
      ]
     },
     "metadata": {},
     "output_type": "display_data"
    },
    {
     "data": {
      "application/javascript": "(function(root) {\n  function embed_document(root) {\n    \n  const docs_json = {\"26dbb091-0f37-49d5-b8db-b2d8b7e879d9\":{\"defs\":[],\"roots\":{\"references\":[{\"attributes\":{\"below\":[{\"id\":\"1153\"}],\"center\":[{\"id\":\"1156\"},{\"id\":\"1160\"}],\"height\":400,\"left\":[{\"id\":\"1157\"}],\"renderers\":[{\"id\":\"1179\"}],\"title\":{\"id\":\"1143\"},\"toolbar\":{\"id\":\"1168\"},\"width\":400,\"x_range\":{\"id\":\"1145\"},\"x_scale\":{\"id\":\"1149\"},\"y_range\":{\"id\":\"1147\"},\"y_scale\":{\"id\":\"1151\"}},\"id\":\"1142\",\"subtype\":\"Figure\",\"type\":\"Plot\"},{\"attributes\":{},\"id\":\"1164\",\"type\":\"SaveTool\"},{\"attributes\":{},\"id\":\"1165\",\"type\":\"ResetTool\"},{\"attributes\":{},\"id\":\"1194\",\"type\":\"BasicTickFormatter\"},{\"attributes\":{},\"id\":\"1199\",\"type\":\"UnionRenderers\"},{\"attributes\":{},\"id\":\"1149\",\"type\":\"LinearScale\"},{\"attributes\":{\"axis\":{\"id\":\"1157\"},\"coordinates\":null,\"dimension\":1,\"group\":null,\"ticker\":null},\"id\":\"1160\",\"type\":\"Grid\"},{\"attributes\":{},\"id\":\"1151\",\"type\":\"LinearScale\"},{\"attributes\":{},\"id\":\"1200\",\"type\":\"Selection\"},{\"attributes\":{},\"id\":\"1195\",\"type\":\"AllLabels\"},{\"attributes\":{\"axis\":{\"id\":\"1153\"},\"coordinates\":null,\"group\":null,\"ticker\":null},\"id\":\"1156\",\"type\":\"Grid\"},{\"attributes\":{},\"id\":\"1198\",\"type\":\"AllLabels\"},{\"attributes\":{\"coordinates\":null,\"data_source\":{\"id\":\"1175\"},\"glyph\":{\"id\":\"1176\"},\"group\":null,\"hover_glyph\":null,\"muted_glyph\":{\"id\":\"1178\"},\"nonselection_glyph\":{\"id\":\"1177\"},\"view\":{\"id\":\"1180\"}},\"id\":\"1179\",\"type\":\"GlyphRenderer\"},{\"attributes\":{\"coordinates\":null,\"group\":null,\"text\":\"Euclidean Data\"},\"id\":\"1143\",\"type\":\"Title\"},{\"attributes\":{},\"id\":\"1154\",\"type\":\"BasicTicker\"},{\"attributes\":{},\"id\":\"1158\",\"type\":\"BasicTicker\"},{\"attributes\":{\"fill_alpha\":{\"value\":0.2},\"fill_color\":{\"value\":\"orange\"},\"hatch_alpha\":{\"value\":0.2},\"line_alpha\":{\"value\":0.2},\"line_color\":{\"value\":\"navy\"},\"size\":{\"value\":15},\"x\":{\"field\":\"x\"},\"y\":{\"field\":\"y\"}},\"id\":\"1178\",\"type\":\"Circle\"},{\"attributes\":{},\"id\":\"1145\",\"type\":\"DataRange1d\"},{\"attributes\":{\"tools\":[{\"id\":\"1161\"},{\"id\":\"1162\"},{\"id\":\"1163\"},{\"id\":\"1164\"},{\"id\":\"1165\"},{\"id\":\"1166\"}]},\"id\":\"1168\",\"type\":\"Toolbar\"},{\"attributes\":{},\"id\":\"1197\",\"type\":\"BasicTickFormatter\"},{\"attributes\":{\"coordinates\":null,\"formatter\":{\"id\":\"1194\"},\"group\":null,\"major_label_policy\":{\"id\":\"1195\"},\"ticker\":{\"id\":\"1158\"}},\"id\":\"1157\",\"type\":\"LinearAxis\"},{\"attributes\":{\"coordinates\":null,\"formatter\":{\"id\":\"1197\"},\"group\":null,\"major_label_policy\":{\"id\":\"1198\"},\"ticker\":{\"id\":\"1154\"}},\"id\":\"1153\",\"type\":\"LinearAxis\"},{\"attributes\":{},\"id\":\"1166\",\"type\":\"HelpTool\"},{\"attributes\":{\"source\":{\"id\":\"1175\"}},\"id\":\"1180\",\"type\":\"CDSView\"},{\"attributes\":{},\"id\":\"1147\",\"type\":\"DataRange1d\"},{\"attributes\":{},\"id\":\"1161\",\"type\":\"PanTool\"},{\"attributes\":{},\"id\":\"1162\",\"type\":\"WheelZoomTool\"},{\"attributes\":{\"fill_alpha\":{\"value\":0.5},\"fill_color\":{\"value\":\"orange\"},\"line_color\":{\"value\":\"navy\"},\"size\":{\"value\":15},\"x\":{\"field\":\"x\"},\"y\":{\"field\":\"y\"}},\"id\":\"1176\",\"type\":\"Circle\"},{\"attributes\":{\"bottom_units\":\"screen\",\"coordinates\":null,\"fill_alpha\":0.5,\"fill_color\":\"lightgrey\",\"group\":null,\"left_units\":\"screen\",\"level\":\"overlay\",\"line_alpha\":1.0,\"line_color\":\"black\",\"line_dash\":[4,4],\"line_width\":2,\"right_units\":\"screen\",\"syncable\":false,\"top_units\":\"screen\"},\"id\":\"1167\",\"type\":\"BoxAnnotation\"},{\"attributes\":{\"fill_alpha\":{\"value\":0.1},\"fill_color\":{\"value\":\"orange\"},\"hatch_alpha\":{\"value\":0.1},\"line_alpha\":{\"value\":0.1},\"line_color\":{\"value\":\"navy\"},\"size\":{\"value\":15},\"x\":{\"field\":\"x\"},\"y\":{\"field\":\"y\"}},\"id\":\"1177\",\"type\":\"Circle\"},{\"attributes\":{\"data\":{\"x\":[1,2,3,4,5],\"y\":[6,7,2,4,5]},\"selected\":{\"id\":\"1200\"},\"selection_policy\":{\"id\":\"1199\"}},\"id\":\"1175\",\"type\":\"ColumnDataSource\"},{\"attributes\":{\"overlay\":{\"id\":\"1167\"}},\"id\":\"1163\",\"type\":\"BoxZoomTool\"}],\"root_ids\":[\"1142\"]},\"title\":\"Bokeh Application\",\"version\":\"2.4.0\"}};\n  const render_items = [{\"docid\":\"26dbb091-0f37-49d5-b8db-b2d8b7e879d9\",\"root_ids\":[\"1142\"],\"roots\":{\"1142\":\"a5607945-5cbb-444c-829a-f198f27ce3d5\"}}];\n  root.Bokeh.embed.embed_items_notebook(docs_json, render_items);\n\n  }\n  if (root.Bokeh !== undefined) {\n    embed_document(root);\n  } else {\n    let attempts = 0;\n    const timer = setInterval(function(root) {\n      if (root.Bokeh !== undefined) {\n        clearInterval(timer);\n        embed_document(root);\n      } else {\n        attempts++;\n        if (attempts > 100) {\n          clearInterval(timer);\n          console.log(\"Bokeh: ERROR: Unable to run BokehJS code because BokehJS library is missing\");\n        }\n      }\n    }, 10, root)\n  }\n})(window);",
      "application/vnd.bokehjs_exec.v0+json": ""
     },
     "metadata": {
      "application/vnd.bokehjs_exec.v0+json": {
       "id": "1142"
      }
     },
     "output_type": "display_data"
    }
   ],
   "source": [
    "from bokeh.io import output_notebook, show\n",
    "from bokeh.plotting import figure\n",
    "output_notebook()\n",
    "\n",
    "# create a new plot with default tools, using figure\n",
    "p = figure(plot_width=400, plot_height=400, title='Euclidean Data')\n",
    "\n",
    "# add a circle renderer with x and y coordinates, size, color, and alpha\n",
    "p.circle([1, 2, 3, 4, 5], [6, 7, 2, 4, 5], size=15, line_color=\"navy\", fill_color=\"orange\", fill_alpha=0.5)\n",
    "\n",
    "show(p) "
   ]
  },
  {
   "cell_type": "code",
   "execution_count": 21,
   "metadata": {},
   "outputs": [
    {
     "data": {
      "text/html": [
       "\n",
       "    <div class=\"bk-root\">\n",
       "        <a href=\"https://bokeh.org\" target=\"_blank\" class=\"bk-logo bk-logo-small bk-logo-notebook\"></a>\n",
       "        <span id=\"5661\">Loading BokehJS ...</span>\n",
       "    </div>"
      ]
     },
     "metadata": {},
     "output_type": "display_data"
    },
    {
     "data": {
      "application/javascript": "\n(function(root) {\n  function now() {\n    return new Date();\n  }\n\n  const force = true;\n\n  if (typeof root._bokeh_onload_callbacks === \"undefined\" || force === true) {\n    root._bokeh_onload_callbacks = [];\n    root._bokeh_is_loading = undefined;\n  }\n\n  const JS_MIME_TYPE = 'application/javascript';\n  const HTML_MIME_TYPE = 'text/html';\n  const EXEC_MIME_TYPE = 'application/vnd.bokehjs_exec.v0+json';\n  const CLASS_NAME = 'output_bokeh rendered_html';\n\n  /**\n   * Render data to the DOM node\n   */\n  function render(props, node) {\n    const script = document.createElement(\"script\");\n    node.appendChild(script);\n  }\n\n  /**\n   * Handle when an output is cleared or removed\n   */\n  function handleClearOutput(event, handle) {\n    const cell = handle.cell;\n\n    const id = cell.output_area._bokeh_element_id;\n    const server_id = cell.output_area._bokeh_server_id;\n    // Clean up Bokeh references\n    if (id != null && id in Bokeh.index) {\n      Bokeh.index[id].model.document.clear();\n      delete Bokeh.index[id];\n    }\n\n    if (server_id !== undefined) {\n      // Clean up Bokeh references\n      const cmd_clean = \"from bokeh.io.state import curstate; print(curstate().uuid_to_server['\" + server_id + \"'].get_sessions()[0].document.roots[0]._id)\";\n      cell.notebook.kernel.execute(cmd_clean, {\n        iopub: {\n          output: function(msg) {\n            const id = msg.content.text.trim();\n            if (id in Bokeh.index) {\n              Bokeh.index[id].model.document.clear();\n              delete Bokeh.index[id];\n            }\n          }\n        }\n      });\n      // Destroy server and session\n      const cmd_destroy = \"import bokeh.io.notebook as ion; ion.destroy_server('\" + server_id + \"')\";\n      cell.notebook.kernel.execute(cmd_destroy);\n    }\n  }\n\n  /**\n   * Handle when a new output is added\n   */\n  function handleAddOutput(event, handle) {\n    const output_area = handle.output_area;\n    const output = handle.output;\n\n    // limit handleAddOutput to display_data with EXEC_MIME_TYPE content only\n    if ((output.output_type != \"display_data\") || (!Object.prototype.hasOwnProperty.call(output.data, EXEC_MIME_TYPE))) {\n      return\n    }\n\n    const toinsert = output_area.element.find(\".\" + CLASS_NAME.split(' ')[0]);\n\n    if (output.metadata[EXEC_MIME_TYPE][\"id\"] !== undefined) {\n      toinsert[toinsert.length - 1].firstChild.textContent = output.data[JS_MIME_TYPE];\n      // store reference to embed id on output_area\n      output_area._bokeh_element_id = output.metadata[EXEC_MIME_TYPE][\"id\"];\n    }\n    if (output.metadata[EXEC_MIME_TYPE][\"server_id\"] !== undefined) {\n      const bk_div = document.createElement(\"div\");\n      bk_div.innerHTML = output.data[HTML_MIME_TYPE];\n      const script_attrs = bk_div.children[0].attributes;\n      for (let i = 0; i < script_attrs.length; i++) {\n        toinsert[toinsert.length - 1].firstChild.setAttribute(script_attrs[i].name, script_attrs[i].value);\n        toinsert[toinsert.length - 1].firstChild.textContent = bk_div.children[0].textContent\n      }\n      // store reference to server id on output_area\n      output_area._bokeh_server_id = output.metadata[EXEC_MIME_TYPE][\"server_id\"];\n    }\n  }\n\n  function register_renderer(events, OutputArea) {\n\n    function append_mime(data, metadata, element) {\n      // create a DOM node to render to\n      const toinsert = this.create_output_subarea(\n        metadata,\n        CLASS_NAME,\n        EXEC_MIME_TYPE\n      );\n      this.keyboard_manager.register_events(toinsert);\n      // Render to node\n      const props = {data: data, metadata: metadata[EXEC_MIME_TYPE]};\n      render(props, toinsert[toinsert.length - 1]);\n      element.append(toinsert);\n      return toinsert\n    }\n\n    /* Handle when an output is cleared or removed */\n    events.on('clear_output.CodeCell', handleClearOutput);\n    events.on('delete.Cell', handleClearOutput);\n\n    /* Handle when a new output is added */\n    events.on('output_added.OutputArea', handleAddOutput);\n\n    /**\n     * Register the mime type and append_mime function with output_area\n     */\n    OutputArea.prototype.register_mime_type(EXEC_MIME_TYPE, append_mime, {\n      /* Is output safe? */\n      safe: true,\n      /* Index of renderer in `output_area.display_order` */\n      index: 0\n    });\n  }\n\n  // register the mime type if in Jupyter Notebook environment and previously unregistered\n  if (root.Jupyter !== undefined) {\n    const events = require('base/js/events');\n    const OutputArea = require('notebook/js/outputarea').OutputArea;\n\n    if (OutputArea.prototype.mime_types().indexOf(EXEC_MIME_TYPE) == -1) {\n      register_renderer(events, OutputArea);\n    }\n  }\n\n  \n  if (typeof (root._bokeh_timeout) === \"undefined\" || force === true) {\n    root._bokeh_timeout = Date.now() + 5000;\n    root._bokeh_failed_load = false;\n  }\n\n  const NB_LOAD_WARNING = {'data': {'text/html':\n     \"<div style='background-color: #fdd'>\\n\"+\n     \"<p>\\n\"+\n     \"BokehJS does not appear to have successfully loaded. If loading BokehJS from CDN, this \\n\"+\n     \"may be due to a slow or bad network connection. Possible fixes:\\n\"+\n     \"</p>\\n\"+\n     \"<ul>\\n\"+\n     \"<li>re-rerun `output_notebook()` to attempt to load from CDN again, or</li>\\n\"+\n     \"<li>use INLINE resources instead, as so:</li>\\n\"+\n     \"</ul>\\n\"+\n     \"<code>\\n\"+\n     \"from bokeh.resources import INLINE\\n\"+\n     \"output_notebook(resources=INLINE)\\n\"+\n     \"</code>\\n\"+\n     \"</div>\"}};\n\n  function display_loaded() {\n    const el = document.getElementById(\"5661\");\n    if (el != null) {\n      el.textContent = \"BokehJS is loading...\";\n    }\n    if (root.Bokeh !== undefined) {\n      if (el != null) {\n        el.textContent = \"BokehJS \" + root.Bokeh.version + \" successfully loaded.\";\n      }\n    } else if (Date.now() < root._bokeh_timeout) {\n      setTimeout(display_loaded, 100)\n    }\n  }\n\n\n  function run_callbacks() {\n    try {\n      root._bokeh_onload_callbacks.forEach(function(callback) {\n        if (callback != null)\n          callback();\n      });\n    } finally {\n      delete root._bokeh_onload_callbacks\n    }\n    console.debug(\"Bokeh: all callbacks have finished\");\n  }\n\n  function load_libs(css_urls, js_urls, callback) {\n    if (css_urls == null) css_urls = [];\n    if (js_urls == null) js_urls = [];\n\n    root._bokeh_onload_callbacks.push(callback);\n    if (root._bokeh_is_loading > 0) {\n      console.debug(\"Bokeh: BokehJS is being loaded, scheduling callback at\", now());\n      return null;\n    }\n    if (js_urls == null || js_urls.length === 0) {\n      run_callbacks();\n      return null;\n    }\n    console.debug(\"Bokeh: BokehJS not loaded, scheduling load and callback at\", now());\n    root._bokeh_is_loading = css_urls.length + js_urls.length;\n\n    function on_load() {\n      root._bokeh_is_loading--;\n      if (root._bokeh_is_loading === 0) {\n        console.debug(\"Bokeh: all BokehJS libraries/stylesheets loaded\");\n        run_callbacks()\n      }\n    }\n\n    function on_error(url) {\n      console.error(\"failed to load \" + url);\n    }\n\n    for (let i = 0; i < css_urls.length; i++) {\n      const url = css_urls[i];\n      const element = document.createElement(\"link\");\n      element.onload = on_load;\n      element.onerror = on_error.bind(null, url);\n      element.rel = \"stylesheet\";\n      element.type = \"text/css\";\n      element.href = url;\n      console.debug(\"Bokeh: injecting link tag for BokehJS stylesheet: \", url);\n      document.body.appendChild(element);\n    }\n\n    for (let i = 0; i < js_urls.length; i++) {\n      const url = js_urls[i];\n      const element = document.createElement('script');\n      element.onload = on_load;\n      element.onerror = on_error.bind(null, url);\n      element.async = false;\n      element.src = url;\n      console.debug(\"Bokeh: injecting script tag for BokehJS library: \", url);\n      document.head.appendChild(element);\n    }\n  };\n\n  function inject_raw_css(css) {\n    const element = document.createElement(\"style\");\n    element.appendChild(document.createTextNode(css));\n    document.body.appendChild(element);\n  }\n\n  \n  const js_urls = [\"https://cdn.bokeh.org/bokeh/release/bokeh-2.4.0.min.js\", \"https://cdn.bokeh.org/bokeh/release/bokeh-gl-2.4.0.min.js\", \"https://cdn.bokeh.org/bokeh/release/bokeh-widgets-2.4.0.min.js\", \"https://cdn.bokeh.org/bokeh/release/bokeh-tables-2.4.0.min.js\", \"https://cdn.bokeh.org/bokeh/release/bokeh-mathjax-2.4.0.min.js\"];\n  const css_urls = [];\n  \n\n  const inline_js = [\n    function(Bokeh) {\n      Bokeh.set_log_level(\"info\");\n    },\n    function(Bokeh) {\n    \n    \n    }\n  ];\n\n  function run_inline_js() {\n    \n    if (root.Bokeh !== undefined || force === true) {\n      \n    for (let i = 0; i < inline_js.length; i++) {\n      inline_js[i].call(root, root.Bokeh);\n    }\n    if (force === true) {\n        display_loaded();\n      }} else if (Date.now() < root._bokeh_timeout) {\n      setTimeout(run_inline_js, 100);\n    } else if (!root._bokeh_failed_load) {\n      console.log(\"Bokeh: BokehJS failed to load within specified timeout.\");\n      root._bokeh_failed_load = true;\n    } else if (force !== true) {\n      const cell = $(document.getElementById(\"5661\")).parents('.cell').data().cell;\n      cell.output_area.append_execute_result(NB_LOAD_WARNING)\n    }\n\n  }\n\n  if (root._bokeh_is_loading === 0) {\n    console.debug(\"Bokeh: BokehJS loaded, going straight to plotting\");\n    run_inline_js();\n  } else {\n    load_libs(css_urls, js_urls, function() {\n      console.debug(\"Bokeh: BokehJS plotting callback run at\", now());\n      run_inline_js();\n    });\n  }\n}(window));",
      "application/vnd.bokehjs_load.v0+json": ""
     },
     "metadata": {},
     "output_type": "display_data"
    },
    {
     "data": {
      "text/html": [
       "\n",
       "\n",
       "\n",
       "\n",
       "\n",
       "\n",
       "  <div class=\"bk-root\" id=\"9a91d3e5-bc9d-4f47-8697-a2ae0c410cfb\" data-root-id=\"5637\"></div>\n"
      ]
     },
     "metadata": {},
     "output_type": "display_data"
    },
    {
     "data": {
      "application/javascript": "(function(root) {\n  function embed_document(root) {\n    \n  const docs_json = {\"aaac84e5-2fcd-4f4d-9f3d-85f168c38988\":{\"defs\":[],\"roots\":{\"references\":[{\"attributes\":{\"height\":400,\"renderers\":[{\"id\":\"5641\"}],\"title\":{\"id\":\"5640\"},\"toolbar\":{\"id\":\"5838\"},\"width\":400,\"x_range\":{\"id\":\"5635\"},\"x_scale\":{\"id\":\"5835\"},\"y_range\":{\"id\":\"5636\"},\"y_scale\":{\"id\":\"5836\"}},\"id\":\"5637\",\"type\":\"Plot\"},{\"attributes\":{\"coordinates\":null,\"data_source\":{\"id\":\"5647\"},\"glyph\":{\"id\":\"5656\"},\"group\":null,\"hover_glyph\":null,\"view\":{\"id\":\"5649\"}},\"id\":\"5648\",\"type\":\"GlyphRenderer\"},{\"attributes\":{\"coordinates\":null,\"data_source\":{\"id\":\"5643\"},\"glyph\":{\"id\":\"5651\"},\"group\":null,\"hover_glyph\":null,\"view\":{\"id\":\"5645\"}},\"id\":\"5644\",\"type\":\"GlyphRenderer\"},{\"attributes\":{\"end\":1.1,\"start\":-1.1},\"id\":\"5636\",\"type\":\"Range1d\"},{\"attributes\":{\"source\":{\"id\":\"5647\"}},\"id\":\"5649\",\"type\":\"CDSView\"},{\"attributes\":{},\"id\":\"5835\",\"type\":\"LinearScale\"},{\"attributes\":{},\"id\":\"5849\",\"type\":\"UnionRenderers\"},{\"attributes\":{\"graph_layout\":{\"0\":[-0.33570782404319965,-0.055402189020986585],\"1\":[-0.16408356991194745,-0.19726550052647268],\"10\":[-0.6440116716934239,0.07109081424691215],\"11\":[-0.5391394752933102,0.22485492160720308],\"12\":[-0.5019653809584239,-0.22416743289755484],\"13\":[-0.074165476156143,-0.06643851295978108],\"14\":[0.43237246259531653,-0.2533125638034685],\"15\":[0.5294687598605908,-0.2068174723619011],\"16\":[-1.0,-0.08575342037880411],\"17\":[-0.3046426151673168,-0.3727034249642093],\"18\":[0.6092139461695432,-0.1331219377168408],\"19\":[-0.013530575213609813,-0.17979390540750864],\"2\":[-0.014427467115840774,0.03992771872795803],\"20\":[0.5865540242003542,-0.040598855577374374],\"21\":[-0.398648749060456,-0.32487165036314847],\"22\":[0.44258945030717284,0.19209523748291213],\"23\":[0.49803519880585395,0.1670637892363099],\"24\":[0.2991451293515455,0.4520249194975157],\"25\":[0.4307749605408791,0.37950731723620335],\"26\":[0.6465685514142543,0.2432710617955767],\"27\":[0.2758745250002322,0.2386281625055259],\"28\":[0.07045950663716667,0.19120594548073502],\"29\":[0.6070576649191176,0.08920089335230505],\"3\":[-0.2629305004799643,-0.12489410204738677],\"30\":[0.17308219295893956,-0.19255809291269163],\"31\":[0.15288218978178547,0.16449896215814958],\"32\":[0.37000443959938306,-0.03429236430717976],\"33\":[0.3185223324240915,0.020083455951105805],\"4\":[-0.6329477996843605,-0.06196890726434884],\"5\":[-0.7587653209535464,-0.018112173224858304],\"6\":[-0.7498939255483783,-0.12936547249004748],\"7\":[-0.2425899886243228,0.015385814963921822],\"8\":[0.08229990381173692,-0.07078525573589652],\"9\":[0.11254510152628283,0.2833842197181262]}},\"id\":\"5650\",\"type\":\"StaticLayoutProvider\"},{\"attributes\":{\"coordinates\":null,\"edge_renderer\":{\"id\":\"5648\"},\"group\":null,\"inspection_policy\":{\"id\":\"5848\"},\"layout_provider\":{\"id\":\"5650\"},\"node_renderer\":{\"id\":\"5644\"},\"selection_policy\":{\"id\":\"5847\"}},\"id\":\"5641\",\"type\":\"GraphRenderer\"},{\"attributes\":{\"source\":{\"id\":\"5643\"}},\"id\":\"5645\",\"type\":\"CDSView\"},{\"attributes\":{\"end\":1.1,\"start\":-1.1},\"id\":\"5635\",\"type\":\"Range1d\"},{\"attributes\":{},\"id\":\"5851\",\"type\":\"UnionRenderers\"},{\"attributes\":{\"line_alpha\":{\"value\":0.8},\"line_color\":{\"field\":\"edge_color\"}},\"id\":\"5656\",\"type\":\"MultiLine\"},{\"attributes\":{\"fill_color\":{\"value\":\"#2b83ba\"},\"size\":{\"value\":15}},\"id\":\"5651\",\"type\":\"Circle\"},{\"attributes\":{},\"id\":\"5850\",\"type\":\"Selection\"},{\"attributes\":{\"data\":{\"club\":[\"Mr. Hi\",\"Mr. Hi\",\"Mr. Hi\",\"Mr. Hi\",\"Mr. Hi\",\"Mr. Hi\",\"Mr. Hi\",\"Mr. Hi\",\"Mr. Hi\",\"Officer\",\"Mr. Hi\",\"Mr. Hi\",\"Mr. Hi\",\"Mr. Hi\",\"Officer\",\"Officer\",\"Mr. Hi\",\"Mr. Hi\",\"Officer\",\"Mr. Hi\",\"Officer\",\"Mr. Hi\",\"Officer\",\"Officer\",\"Officer\",\"Officer\",\"Officer\",\"Officer\",\"Officer\",\"Officer\",\"Officer\",\"Officer\",\"Officer\",\"Officer\"],\"index\":[0,1,2,3,4,5,6,7,8,9,10,11,12,13,14,15,16,17,18,19,20,21,22,23,24,25,26,27,28,29,30,31,32,33]},\"selected\":{\"id\":\"5850\"},\"selection_policy\":{\"id\":\"5849\"}},\"id\":\"5643\",\"type\":\"ColumnDataSource\"},{\"attributes\":{},\"id\":\"5838\",\"type\":\"Toolbar\"},{\"attributes\":{\"data\":{\"edge_color\":[\"black\",\"black\",\"black\",\"black\",\"black\",\"black\",\"black\",\"black\",\"black\",\"black\",\"black\",\"black\",\"black\",\"black\",\"black\",\"red\",\"black\",\"black\",\"black\",\"black\",\"black\",\"black\",\"black\",\"red\",\"black\",\"black\",\"black\",\"red\",\"black\",\"red\",\"red\",\"red\",\"black\",\"black\",\"black\",\"black\",\"black\",\"black\",\"black\",\"black\",\"black\",\"red\",\"red\",\"red\",\"black\",\"red\",\"black\",\"black\",\"black\",\"black\",\"black\",\"black\",\"red\",\"black\",\"black\",\"black\",\"black\",\"black\",\"black\",\"black\",\"black\",\"black\",\"black\",\"black\",\"black\",\"black\",\"black\",\"black\",\"black\",\"black\",\"black\",\"black\",\"black\",\"black\",\"black\",\"black\",\"black\",\"black\"],\"end\":[1,2,3,4,5,6,7,8,10,11,12,13,17,19,21,31,2,3,7,13,17,19,21,30,3,7,8,9,13,27,28,32,7,12,13,6,10,6,10,16,16,30,32,33,33,33,32,33,32,33,32,33,33,32,33,32,33,25,27,29,32,33,25,27,31,31,29,33,33,31,33,32,33,32,33,32,33,33],\"start\":[0,0,0,0,0,0,0,0,0,0,0,0,0,0,0,0,1,1,1,1,1,1,1,1,2,2,2,2,2,2,2,2,3,3,3,4,4,5,5,5,6,8,8,8,9,13,14,14,15,15,18,18,19,20,20,22,22,23,23,23,23,23,24,24,24,25,26,26,27,28,28,29,29,30,30,31,31,32]},\"selected\":{\"id\":\"5852\"},\"selection_policy\":{\"id\":\"5851\"}},\"id\":\"5647\",\"type\":\"ColumnDataSource\"},{\"attributes\":{},\"id\":\"5852\",\"type\":\"Selection\"},{\"attributes\":{},\"id\":\"5848\",\"type\":\"NodesOnly\"},{\"attributes\":{\"coordinates\":null,\"group\":null,\"text\":\"Graph-Based Data\"},\"id\":\"5640\",\"type\":\"Title\"},{\"attributes\":{},\"id\":\"5836\",\"type\":\"LinearScale\"},{\"attributes\":{},\"id\":\"5847\",\"type\":\"NodesOnly\"}],\"root_ids\":[\"5637\"]},\"title\":\"Bokeh Application\",\"version\":\"2.4.0\"}};\n  const render_items = [{\"docid\":\"aaac84e5-2fcd-4f4d-9f3d-85f168c38988\",\"root_ids\":[\"5637\"],\"roots\":{\"5637\":\"9a91d3e5-bc9d-4f47-8697-a2ae0c410cfb\"}}];\n  root.Bokeh.embed.embed_items_notebook(docs_json, render_items);\n\n  }\n  if (root.Bokeh !== undefined) {\n    embed_document(root);\n  } else {\n    let attempts = 0;\n    const timer = setInterval(function(root) {\n      if (root.Bokeh !== undefined) {\n        clearInterval(timer);\n        embed_document(root);\n      } else {\n        attempts++;\n        if (attempts > 100) {\n          clearInterval(timer);\n          console.log(\"Bokeh: ERROR: Unable to run BokehJS code because BokehJS library is missing\");\n        }\n      }\n    }, 10, root)\n  }\n})(window);",
      "application/vnd.bokehjs_exec.v0+json": ""
     },
     "metadata": {
      "application/vnd.bokehjs_exec.v0+json": {
       "id": "5637"
      }
     },
     "output_type": "display_data"
    },
    {
     "name": "stderr",
     "output_type": "stream",
     "text": [
      "\n",
      "(brave:796435): Gtk-WARNING **: 06:11:10.897: Theme parsing error: gtk.css:46:15: Not using units is deprecated. Assuming 'px'.\n",
      "\n",
      "(brave:796435): Gtk-WARNING **: 06:11:10.897: Theme parsing error: gtk.css:46:17: Not using units is deprecated. Assuming 'px'.\n",
      "\n",
      "(brave:796435): Gtk-WARNING **: 06:11:10.897: Theme parsing error: gtk.css:64:47: The :prelight pseudo-class is deprecated. Use :hover instead.\n",
      "\n",
      "(brave:796435): Gtk-WARNING **: 06:11:10.897: Theme parsing error: gtk.css:93:13: not a number\n",
      "\n",
      "(brave:796435): Gtk-WARNING **: 06:11:10.897: Theme parsing error: gtk.css:93:13: Expected a string.\n",
      "\n",
      "(brave:796435): Gtk-WARNING **: 06:11:10.897: Theme parsing error: gtk.css:94:17: Not using units is deprecated. Assuming 'px'.\n",
      "\n",
      "(brave:796435): Gtk-WARNING **: 06:11:10.897: Theme parsing error: gtk.css:99:17: Not using units is deprecated. Assuming 'px'.\n",
      "\n",
      "(brave:796435): Gtk-WARNING **: 06:11:10.897: Theme parsing error: gtk.css:103:41: The :prelight pseudo-class is deprecated. Use :hover instead.\n",
      "\n",
      "(brave:796435): Gtk-WARNING **: 06:11:10.897: Theme parsing error: gtk.css:128:17: Not using units is deprecated. Assuming 'px'.\n",
      "\n",
      "(brave:796435): Gtk-WARNING **: 06:11:10.897: Theme parsing error: gtk.css:133:18: Not using units is deprecated. Assuming 'px'.\n"
     ]
    },
    {
     "name": "stdout",
     "output_type": "stream",
     "text": [
      "Opening in existing browser session.\n"
     ]
    }
   ],
   "source": [
    "import networkx as nx\n",
    "import logging \n",
    "logging.basicConfig(level=logging.ERROR)\n",
    "from bokeh.io import output_file, show\n",
    "from bokeh.models import (BoxZoomTool, Circle, HoverTool,\n",
    "                          MultiLine, Plot, Range1d, ResetTool)\n",
    "from bokeh.palettes import Spectral4\n",
    "from bokeh.plotting import from_networkx\n",
    "\n",
    "# Prepare Data\n",
    "G = nx.karate_club_graph()\n",
    "\n",
    "SAME_CLUB_COLOR, DIFFERENT_CLUB_COLOR = \"black\", \"red\"\n",
    "edge_attrs = {}\n",
    "\n",
    "for start_node, end_node, _ in G.edges(data=True):\n",
    "    edge_color = SAME_CLUB_COLOR if G.nodes[start_node][\"club\"] == G.nodes[end_node][\"club\"] else DIFFERENT_CLUB_COLOR\n",
    "    edge_attrs[(start_node, end_node)] = edge_color\n",
    "\n",
    "nx.set_edge_attributes(G, edge_attrs, \"edge_color\")\n",
    "\n",
    "# Show with Bokeh\n",
    "plot = Plot(width=400, height=400,\n",
    "            x_range=Range1d(-1.1, 1.1), y_range=Range1d(-1.1, 1.1))\n",
    "plot.title.text = \"Graph-Based Data\"\n",
    "\n",
    "# node_hover_tool = HoverTool(tooltips=[(\"index\", \"@index\"), (\"club\", \"@club\")])\n",
    "# plot.add_tools(node_hover_tool, BoxZoomTool(), ResetTool())\n",
    "\n",
    "graph_renderer = from_networkx(G, nx.spring_layout, scale=1, center=(0, 0))\n",
    "\n",
    "graph_renderer.node_renderer.glyph = Circle(size=15, fill_color=Spectral4[0])\n",
    "graph_renderer.edge_renderer.glyph = MultiLine(line_color=\"edge_color\", line_alpha=0.8, line_width=1)\n",
    "plot.renderers.append(graph_renderer)\n",
    "output_notebook()\n",
    "show(plot)"
   ]
  },
  {
   "cell_type": "markdown",
   "metadata": {},
   "source": [
    "Before we go further, here are two concepts that are fairly significant to the field: Inductive and Transductive Learning\n",
    "\n",
    "**Inductive learning** is what you'd think about as typical, supervised machine learning. This is where a model learns general rules from observed training data, which are then applied to test cases which are unseen during training. Although the model is exposed to a restricted scope of training data, it is expected to generalize by learning latent pattern present in a feature-target relationship. \n",
    "\n",
    "**Tranductive learning** uses both the training and testing data during the learning phase. In this case, the model is, for example, aware of test-node in a graph, but attempts to find information in the combined dataset for later use in predicting the unlabelled data points"
   ]
  },
  {
   "cell_type": "markdown",
   "metadata": {},
   "source": [
    "Now that we've gotten definitions out of the way, we need to define some method, or set of functions by which our deep embeddings can be generated. Additionally, these embeddings need be permutation invariant and equivariant. (This is why we can't simply feed the adjacency matrix into a neural network; The order of the nodes in the matrix would impact the actual solutions approximated by the network, and the number of parameters in the network would severely outstrip the number of nodes thereby inducing inherent instability in training and result in overfitting)\n",
    "\n",
    "Mathematically, if $\\bold{P}$ is the permutation matrix:\n",
    "$$\n",
    "f(\\bold{PAP}^T) = f(\\bold{A})\\\\\n",
    "f(\\bold{PAP}^T) = \\bold{P}f(\\bold{A})\\\\\n",
    "$$\n",
    "Permutation invariance means that the output doesn't depend on how the rows and columns are ordered (multiple adjacency matrices can represent the same graph). Permutation equivariance means that the output of $f$ is permuted in a consistent way when $\\bold{A}$ is permuted."
   ]
  },
  {
   "cell_type": "markdown",
   "metadata": {},
   "source": [
    "## The Basic Neural Network Model\n",
    "I won't go through the motivations of how the GNN materialized, but I can think of it as a generalization of convolutions to non-Euclidean data. The idea is to have a vector $\\bold{h}_u$, or hidden-state for each node $u$, which is updated iteratively by gaining information from its neighbourhood. (This is known as *neural message passing*, because the updates from the neighbourhood is received via a nonlinear activation function wrapping a neural network)\n",
    "\n",
    "The way we can mathematically generalize this notion is by the following:\n",
    "\n",
    "We generate a node embedding $\\bold{h}_u^{(k+1)}$ (for node $u$ from its $k+1$-hop neighbourhood), by applying some function $U$, to both its own embedding from the previous ($k^{th}$) iteration, as well as from the aggregate of its neighbours' embeddings. Less confusingly:\n",
    "$$\n",
    "\\bold{h}_u^{k+1} = U^k(\\bold{h}_u^k, AGG^k({\\bold{h}_v^k, \\forall v\\in\\mathcal{N}_u}))\n",
    "$$\n",
    "where $\\mathcal{N}_u$ are all the nodes in the neighbourhood of node $u$. To put it more simply, we can think of the aggregate information as a neural \"message\" from the node neighbours, passed through the update function, along with the node's previous state at the previous iteration.\n",
    "$$\n",
    "\\bold{h}_u^{k+1} = U^k(\\bold{h}_u^k, \\bold{m}^k_{\\mathcal{N}_u})\n",
    "$$\n",
    "\n",
    "At each iteration, a node learns more about its wider neigbourhood, and as such, the above is not iterated to convergence, but is instead iterated for a fixed, pre-determined $K$ set of times. More concretely, at iteration $k=1$, a node has information from its immediate, one-hop neighbourhood (nodes that can be reached using a path length of one in the graph). In general, after $k$ iterations, every node contains information about its $k$-hop neighbourhood.\n",
    "\n",
    "This information is composed both structural and feature-based components. Structure would comprise encoded information about the density and connectivity of the node's neighbourhood, while feature-based information aggregation would be analagous to the operation of convolutional kernels in a pixel-neighbourhood."
   ]
  },
  {
   "cell_type": "markdown",
   "metadata": {},
   "source": [
    "# Thinking About Implementation\n",
    "In order to concretize the above formulation, we need to define actual functions for the update and aggregate step. As given in the [2008 paper](https://ieeexplore.ieee.org/abstract/document/4700287), the aggregate function is given by:\n",
    "$$\n",
    "\\bold{m}_{\\mathcal{N}(u)}=\\sum_{u\\in\\mathcal{N}_(u)}\\bold{h}_v\n",
    "$$\n",
    "and the update function is given by:\n",
    "$$\n",
    "U(\\bold{h}_u, \\bold{m}_{\\mathcal{N}_{(u)})}=\\sigma(\\bold{W}_{self}\\bold{h}_u+\\bold{W}_{neigh}\\bold{m}_{\\mathcal{N}_{(u)}})\n",
    "\n"
   ]
  },
  {
   "cell_type": "markdown",
   "metadata": {},
   "source": [
    "## Types of Aggregate Functions\n",
    "Taking the sum of node features is highly sensitive to the number of nodes in a given neighbourhood, as such different ways of normalizing the aggregate function have been proposed:\n",
    "\n",
    "### 1. Neighbourhood Normalization\n",
    "A simple way to account for varying ranges of node degrees is to simply normalize the sum of node features by the number of nodes.\n",
    "$$\n",
    "\\bold{M}_\\mathcal{N}=\\frac{\\sum_{v\\in\\mathcal{N}(u)}\\bold{h}_v}{|\\mathcal{N}(u)|}\n",
    "$$\n",
    "\n",
    "Others, such as the symmetric normalization used for citation networks, idea being that high-degree nodes may not be useful for finding communities, since they are cited across many diverse subfields. \n",
    "$$\n",
    "\\bold{M}_{\\mathcal{N}(u)}=\\sum_{v\\in\\mathcal{N}(u)}\\frac{\\bold{h}_v}{\\sqrt{|\\mathcal{N}(u)||\\mathcal{N}(v)|}}\n",
    "$$\n",
    "\n",
    "### 2. Graph Convolutions\n",
    "This was proposed in [this paper](https://arxiv.org/abs/1609.02907) in 2015 and is based on the Fourier decomposition of graph-signals. The idea is that eigenvectors of the graph Laplacian is associated with a corresponding eigenvalue analagous to the complex exponential at a certain frequency. The message-passing function is therefore defined as:\n",
    "$$\n",
    "\\bold{h}_u^k=\\sigma\\left(\\bold{W}\\sum_{v\\in\\mathcal{N}(u)\\cup \\{u\\}}\\frac{\\bold{h}_v}{\\sqrt{|\\mathcal{N}(u)||\\mathcal{N}(v)|}}\\right)\n",
    "$$\n",
    "It is of note that using the above formulation, we also use the concept of self-loops, in order to eliminate an explicit update step, where aggregation is taken over the joing set $\\mathcal{N}\\cup \\{u\\}$\n",
    "\n",
    "### 3. Neighbourhood Pooling\n",
    "Any permutation-invariant function which maps to a single embedding is suitable for the aggregate function. One way to do this is by using an arbitrarily deep multi-layer perceptron $\\bold{MLP}_\\theta$ with some trainable parameters $\\theta$. For example, using a sum function:\n",
    "$$\n",
    "\\bold{m}_{\\mathcal{N}(u)}=MLP_\\theta\\left(\\sum_{v\\in N(u)}MLP_\\phi (\\bold{h}_v)\\right)\n",
    "$$"
   ]
  },
  {
   "cell_type": "markdown",
   "metadata": {},
   "source": [
    "### 4. Attention\n",
    "This is possibly the most hyped topic in machine learning over the past 5 years since the [2015 paper](https://proceedings.neurips.cc/paper/2015/hash/1068c6e4c8051cfd4e9ea8072e3189e2-Abstract.html) and the subsequent explosion of multi-head attention (known as transformers). The fundamental predicate is in weighting each neighbour based on their influence (left up to interpretation) during the aggregation step. For example:\n",
    "\n",
    "$$\n",
    "\\bold{m}_{\\mathcal{N}(u)}=\\sum_{v\\in\\mathcal{N}(u)}\\alpha_{u,v}\\bold{h}_v\n",
    "$$\n",
    "You can see [here]() for the original Graph-attention paper to see how the attention mechanism was defined.\n",
    "\n",
    "GAT is shown to work well with graph data, where others have applied differing ways of aggregating the attention mechanisms"
   ]
  },
  {
   "cell_type": "code",
   "execution_count": 5,
   "metadata": {},
   "outputs": [],
   "source": [
    "# basic\n",
    "import dgl \n",
    "import dgl.function as fn\n",
    "import torch\n",
    "import torch.nn as nn\n",
    "from torch.nn import init\n",
    "import torch.nn.functional as F \n"
   ]
  },
  {
   "cell_type": "code",
   "execution_count": 12,
   "metadata": {},
   "outputs": [],
   "source": [
    "class GraphConv(nn.Module):\n",
    "    def __init__(self, in_feat, out_feat, k=1):\n",
    "        super(GraphConv, self).__init__()\n",
    "        self.fc = nn.Linear(in_feat, out_feat, bias=True)\n",
    "        self.k = k\n",
    "        nn.init.xavier_uniform_(self.fc.weight)\n",
    "        nn.init.zeros_(self.fc.bias)\n",
    "\n",
    "    def forward(self, graph, feat):\n",
    "        msg_func = fn.copy_u(\"h\", \"m\")\n",
    "        degs = graph.in_degrees().float().clamp(min=1)\n",
    "        norm = torch.pow(degs, -0.5)\n",
    "        norm = norm.to(feat.device).unsqueeze(1)\n",
    "\n",
    "        # hop-step\n",
    "        for _ in range(self.k):\n",
    "            graph.ndata['h'] = feat\n",
    "            graph.update_all(msg_func, fn.sum('m', 'h'))\n",
    "            feat = graph.ndata.pop('h')\n",
    "            feat = feat * norm\n",
    "\n",
    "        return self.fc(feat)"
   ]
  },
  {
   "cell_type": "code",
   "execution_count": 5,
   "metadata": {},
   "outputs": [],
   "source": [
    "# GraphSAGE\n",
    "import dgl.function as fn\n",
    "\n",
    "class SAGEConv(nn.Module):\n",
    "    \"\"\"Graph convolution module used by the GraphSAGE model.\n",
    "\n",
    "    Parameters\n",
    "    ----------\n",
    "    in_feat : int\n",
    "        Input feature size.\n",
    "    out_feat : int\n",
    "        Output feature size.\n",
    "    \"\"\"\n",
    "    def __init__(self, in_feat, out_feat):\n",
    "        super(SAGEConv, self).__init__()\n",
    "        # A linear submodule for projecting the input and neighbor feature to the output.\n",
    "        self.linear = nn.Linear(in_feat * 2, out_feat)\n",
    "\n",
    "    def forward(self, g, h):\n",
    "        \"\"\"Forward computation\n",
    "\n",
    "        Parameters\n",
    "        ----------\n",
    "        g : Graph\n",
    "            The input graph.\n",
    "        h : Tensor\n",
    "            The input node feature.\n",
    "        \"\"\"\n",
    "        with g.local_scope():\n",
    "            g.ndata['h'] = h\n",
    "            # update_all is a message passing API.\n",
    "            g.update_all(message_func=fn.copy_u('h', 'm'), reduce_func=fn.mean('m', 'h_N'))\n",
    "            h_N = g.ndata['h_N']\n",
    "            h_total = torch.cat([h, h_N], dim=1)\n",
    "            return self.linear(h_total)"
   ]
  },
  {
   "cell_type": "markdown",
   "metadata": {},
   "source": [
    "# Types of Update Functions\n",
    "While the aggregate function defines *how* the data is treated as it arrives at each node, the update function defines *where* the data moves between nodes. A common issue is over-smoothing, making it impossible to build deeper models. This is due to the fact that the common message-passing paradigm is [essentially a low-pass filter over the graph](https://openreview.net/forum?id=-qh0M9XWxnv). As the signal is propagated throughout the graph, the high-frequency patterns get lost in the constancy of the low frequencies. This results in the updated node representations which depend too strongly on incoming message from neighbours, at expense of node embeddings from previous neighbours.\n",
    "\n",
    "Two ways of addressing this are: skip connections and gated updates.\n",
    "\n",
    "## 1. Skip Connections\n",
    "This is analagous to drop-out and skip-connections from computer vision. Essentially, only updates from certain nodes are allowed to arrive at a given node. This is implemented by concatenating the  output of the update function with the node's previous-layer representation (like GraphSAGE). Another interpretation is by linearly interpolating between the current and new node values to achieve updated state:\n",
    "\n",
    "$$\n",
    "\\text{UPDATE}_\\text{interpolate}(\\bold{h}_u, \\bold{m}_{\\mathcal{N}(u)}) = \\alpha_1\\circ\\text{UPDATE}(\\bold{h}_u, \\bold{m}_{\\mathcal{N}(u)})+\\alpha_2\\odot\\bold{h}_u\n",
    "$$\n",
    "\n",
    "$\\alpha_1, \\alpha_2\\in [0,1]^d$ are gating vectors s.t. $\\alpha_2 = 1-\\alpha_1$. Updated representation is a linear interpolation between previous embedding and (vanilla) updated embedding. \n",
    "\n",
    "Skip-connections address over-smoothing and numerical stability during optimization. \n",
    "\n",
    "## 2. Gated Updates\n",
    "If skip-connections are analagous to dropout in Convolutional Neural Networks, gated updates are analagous to the Gated-Recurrent Unit in the RNN world. Here, an aggregation function receives an observation from its neighbours, which is then used to update a hidden node state. In this case, we can apply basic RNN/GRU logic:\n",
    "$$\n",
    "\\bold{h}_u^{(k)}=\\text{GRU}(\\bold{h}_u^{k-1}, \\bold{m}_{\\mathcal{N}(u)}^k)\n",
    "$$\n"
   ]
  },
  {
   "cell_type": "code",
   "execution_count": 8,
   "metadata": {},
   "outputs": [],
   "source": [
    "class GatedGraphConv(nn.Module):\n",
    "    def __init__(self, in_feats, out_feats, n_steps, n_etypes, bias=True):\n",
    "        super(GatedGraphConv, self).__init__()\n",
    "        self.in_feats = in_feats\n",
    "        self.out_feats = out_feats\n",
    "        self.n_steps = n_steps\n",
    "        self.n_etypes = n_etypes\n",
    "        self.linear_layers = nn.ModuleList(\n",
    "            [nn.Linear(out_feats, out_feats) for _ in range(n_etypes)]\n",
    "        )\n",
    "        self.gru = nn.GRUCell(out_feats, out_feats, bias=bias)\n",
    "\n",
    "\n",
    "        gain = init.calculate_gain('relu')\n",
    "        self.gru.reset_parameters()\n",
    "        for linear in self.linear_layers:\n",
    "            init.xavier_normal_(linear.weight, gain=gain)\n",
    "            init.zeros_(linear.bias)\n",
    "\n",
    "    def forward(self, graph, feat, etypes=None):\n",
    "        with graph.local_scope():\n",
    "            zero_pad = feat.new_zeros(\n",
    "                (feat.shape[0], self.out_feats - feat.shape[1])\n",
    "            )\n",
    "            feat = torch.cat([feat, zero_pad],-1)\n",
    "\n",
    "            for _ in range(self.steps):\n",
    "                graph.ndata['h'] = feat\n",
    "                for i in range(self.n_etypes):\n",
    "                    eids = torch.nonzero(\n",
    "                        etypes==i, as_tuple=False\n",
    "                    ).view(-1).type(graph.idtype)\n",
    "                    if len(eids) > 0:\n",
    "                        graph.apply_edges(\n",
    "                            lambda edges: {\n",
    "                                'W_e*h': self.linear_layers[i](edges.src['h'])\n",
    "                            }\n",
    "                        )\n",
    "\n",
    "            graph.update_all(fn.copy_e('W_e*h', 'm'), fn.sum('m', 'a'))\n",
    "            a = graph.ndata.pop('a')\n",
    "            feat  = self.gru(a, feat)\n",
    "\n",
    "            return feat\n",
    "\n",
    "g=GatedGraphConv(10,2, 2,3)"
   ]
  },
  {
   "cell_type": "markdown",
   "metadata": {},
   "source": [
    "## Notes on MPNNs \n",
    "The basic idea behind node embedding approaches is to use dimensionality reduction techniques to distill the\n",
    "high-dimensional information about a node’s neighborhood into a dense vector embedding. These\n",
    "node embeddings can then be fed to downstream machine learning systems and aid in tasks such as\n",
    "node classification, clustering, and link prediction. MPNNs can additionally generalize to much larger graphs (see [here]())\n",
    "\n",
    "\n",
    "### MPNNs Limits\n",
    "Message-passing has linear time complexity (see [Breaking the Limits of Message Passing Graph Neural Networks](http://proceedings.mlr.press/v139/balcilar21a/balcilar21a.pdf)). This may be a limit depending on what architecture it is compared to. (For example, even basic CNNs usually are not linear).\n",
    "\n",
    "It it theoretically impractical to make an MPNN more powerful in terms of the 1-WL test. The [1-WL test](https://arxiv.org/pdf/2201.07083.pdf) is a standard measure of the ability of a particular model to differentiate between non-isomorphic graphs. (Graphs are isomorphic if a relabelling of one graph results in another).\n",
    "\n",
    "1-WL graphs (MPNNs) cannot count the number of cycles, triangles and other strucutral features, informative for some social and/or chemical graphs (see [here](https://arxiv.org/pdf/2201.07083.pdf)).\n",
    "\n",
    "\n",
    "However, heres is an interesting paper that practically superceeds the expressive power of the 1-WL test (http://proceedings.mlr.press/v139/balcilar21a/balcilar21a.pdf). Additionally, more \"features\" of the graph have been proposed to potentially increase its ability in terms of 1-WL, such as adding trainable weights for:\n",
    "- Distance between nodes (Deferard 2016)\n",
    "- Connected node features GAT\n",
    "- Edge-features (Bresson and Laurent 2018)"
   ]
  }
 ],
 "metadata": {
  "interpreter": {
   "hash": "2902af694af05a9148590129861f1c7c296f2644acfad00841ae21945bcf48f1"
  },
  "kernelspec": {
   "display_name": "Python 3.7.3 ('torch_pm')",
   "language": "python",
   "name": "python3"
  },
  "language_info": {
   "codemirror_mode": {
    "name": "ipython",
    "version": 3
   },
   "file_extension": ".py",
   "mimetype": "text/x-python",
   "name": "python",
   "nbconvert_exporter": "python",
   "pygments_lexer": "ipython3",
   "version": "3.9.10"
  },
  "orig_nbformat": 4
 },
 "nbformat": 4,
 "nbformat_minor": 2
}
