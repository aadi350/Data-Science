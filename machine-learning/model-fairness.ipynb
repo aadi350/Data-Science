{
 "cells": [
  {
   "cell_type": "code",
   "execution_count": 4,
   "metadata": {},
   "outputs": [
    {
     "name": "stdout",
     "output_type": "stream",
     "text": [
      "Retrieving notices: ...working... done\n",
      "Collecting package metadata (current_repodata.json): done\n",
      "Solving environment: done\n",
      "\n",
      "## Package Plan ##\n",
      "\n",
      "  environment location: /home/aadi/miniconda3\n",
      "\n",
      "  added / updated specs:\n",
      "    - fastcore\n",
      "\n",
      "\n",
      "The following NEW packages will be INSTALLED:\n",
      "\n",
      "  fastcore           fastai/noarch::fastcore-1.5.27-py_0 \n",
      "\n",
      "\n",
      "\n",
      "Downloading and Extracting Packages\n",
      "\n",
      "Preparing transaction: done\n",
      "Verifying transaction: done\n",
      "Executing transaction: done\n"
     ]
    }
   ],
   "source": [
    "!conda install -y fastcore -c fastai"
   ]
  },
  {
   "cell_type": "code",
   "execution_count": 1,
   "metadata": {},
   "outputs": [],
   "source": [
    "import sys\n",
    "import os\n",
    "\n",
    "os.environ['JAVA_HOME'] = '/usr/lib/jvm/java-1.8.0-openjdk-amd64'\n",
    "os.environ['PYSPARK_PYTHON'] = '/home/aadi/miniconda3/envs/pyspark_env/bin/python' \n",
    "os.environ['PYSPARK_DRIVER_PYTHON'] = '/home/aadi/miniconda3/envs/pyspark_env/bin/python' \n"
   ]
  },
  {
   "cell_type": "code",
   "execution_count": 2,
   "metadata": {},
   "outputs": [
    {
     "name": "stderr",
     "output_type": "stream",
     "text": [
      "23/03/01 14:03:31 WARN Utils: Your hostname, debian resolves to a loopback address: 127.0.1.1; using 192.168.100.254 instead (on interface wlp5s0)\n",
      "23/03/01 14:03:31 WARN Utils: Set SPARK_LOCAL_IP if you need to bind to another address\n",
      "Using Spark's default log4j profile: org/apache/spark/log4j-defaults.properties\n",
      "Setting default log level to \"WARN\".\n",
      "To adjust logging level use sc.setLogLevel(newLevel). For SparkR, use setLogLevel(newLevel).\n",
      "23/03/01 14:03:31 WARN NativeCodeLoader: Unable to load native-hadoop library for your platform... using builtin-java classes where applicable\n"
     ]
    }
   ],
   "source": [
    "import pyspark\n",
    "\n",
    "spark = pyspark.sql.SparkSession.Builder().getOrCreate()"
   ]
  },
  {
   "cell_type": "code",
   "execution_count": 3,
   "metadata": {},
   "outputs": [
    {
     "name": "stderr",
     "output_type": "stream",
     "text": [
      "/home/aadi/miniconda3/envs/spark_env/lib/python3.8/site-packages/pyspark/sql/pandas/conversion.py:371: FutureWarning: iteritems is deprecated and will be removed in a future version. Use .items instead.\n",
      "  for column, series in pdf.iteritems():\n"
     ]
    },
    {
     "name": "stdout",
     "output_type": "stream",
     "text": [
      "+------+---+-------------------+-------------+----+\n",
      "|Gender|Age|              Score|Binary_Target|Pred|\n",
      "+------+---+-------------------+-------------+----+\n",
      "|     F| 13| 0.8020636228021221|            0|   1|\n",
      "|     F| 98|0.17461547993526194|            1|   0|\n",
      "|     M| 20| 0.7345702319301879|            1|   1|\n",
      "|     M| 29| 0.9666501783296002|            0|   1|\n",
      "|     F| 37| 0.9798025598241514|            0|   1|\n",
      "|     M| 88| 0.1920040322549238|            0|   0|\n",
      "|     F| 33| 0.6642727956768272|            1|   1|\n",
      "|     F| 88| 0.8674975138997422|            1|   1|\n",
      "|     F| 11| 0.3040404904876275|            0|   0|\n",
      "|     F| 93| 0.6925469701105321|            0|   1|\n",
      "|     F| 97|  0.839024350812226|            0|   1|\n",
      "|     M| 12| 0.9340784848483313|            1|   1|\n",
      "|     F| 81| 0.7937690320812052|            0|   1|\n",
      "|     M| 35| 0.5292736282638121|            0|   1|\n",
      "|     M| 12|0.03605670898047186|            0|   0|\n",
      "|     M| 82|  0.548874333718212|            0|   1|\n",
      "|     M| 71| 0.5471929896982108|            0|   1|\n",
      "|     F| 73| 0.2630724449696342|            0|   0|\n",
      "|     F| 38| 0.7995124723294355|            0|   1|\n",
      "|     F| 12|0.37470434325277835|            0|   0|\n",
      "+------+---+-------------------+-------------+----+\n",
      "only showing top 20 rows\n",
      "\n"
     ]
    },
    {
     "name": "stderr",
     "output_type": "stream",
     "text": [
      "                                                                                \r"
     ]
    }
   ],
   "source": [
    "import numpy as np\n",
    "import pandas as pd\n",
    "from pandas import DataFrame\n",
    "\n",
    "\n",
    "N = 1000\n",
    "df = DataFrame({\n",
    "    'Gender': np.random.choice(['M', 'F'], size=N),\n",
    "    'Age': np.random.randint(low=10, high=100, size=N),\n",
    "    'Score': np.random.uniform(0, 1, size=N),\n",
    "    'Binary_Target': np.random.binomial(n=1, p=0.2, size=N)\n",
    "})\n",
    "\n",
    "df = df.assign(Pred=np.where(df.Score > 0.5, 1, 0))\n",
    "data = spark.createDataFrame(df)\n",
    "data.show()"
   ]
  },
  {
   "cell_type": "code",
   "execution_count": 4,
   "metadata": {},
   "outputs": [
    {
     "name": "stderr",
     "output_type": "stream",
     "text": [
      "23/03/01 14:04:03 WARN MemoryManager: Total allocation exceeds 95.00% (964,768,551 bytes) of heap memory\n",
      "Scaling row group sizes to 89.85% for 8 writers\n",
      "23/03/01 14:04:03 WARN MemoryManager: Total allocation exceeds 95.00% (964,768,551 bytes) of heap memory\n",
      "Scaling row group sizes to 79.87% for 9 writers\n",
      "23/03/01 14:04:03 WARN MemoryManager: Total allocation exceeds 95.00% (964,768,551 bytes) of heap memory\n",
      "Scaling row group sizes to 71.88% for 10 writers\n",
      "23/03/01 14:04:03 WARN MemoryManager: Total allocation exceeds 95.00% (964,768,551 bytes) of heap memory\n",
      "Scaling row group sizes to 65.35% for 11 writers\n",
      "23/03/01 14:04:03 WARN MemoryManager: Total allocation exceeds 95.00% (964,768,551 bytes) of heap memory\n",
      "Scaling row group sizes to 59.90% for 12 writers\n",
      "23/03/01 14:04:03 WARN MemoryManager: Total allocation exceeds 95.00% (964,768,551 bytes) of heap memory\n",
      "Scaling row group sizes to 65.35% for 11 writers\n",
      "23/03/01 14:04:03 WARN MemoryManager: Total allocation exceeds 95.00% (964,768,551 bytes) of heap memory\n",
      "Scaling row group sizes to 71.88% for 10 writers\n",
      "23/03/01 14:04:03 WARN MemoryManager: Total allocation exceeds 95.00% (964,768,551 bytes) of heap memory\n",
      "Scaling row group sizes to 79.87% for 9 writers\n",
      "23/03/01 14:04:03 WARN MemoryManager: Total allocation exceeds 95.00% (964,768,551 bytes) of heap memory\n",
      "Scaling row group sizes to 89.85% for 8 writers\n",
      "                                                                                \r"
     ]
    }
   ],
   "source": [
    "data.write.mode('overwrite').parquet('./test.parquet')"
   ]
  },
  {
   "cell_type": "code",
   "execution_count": 5,
   "metadata": {},
   "outputs": [
    {
     "data": {
      "text/html": [
       "<div>\n",
       "<style scoped>\n",
       "    .dataframe tbody tr th:only-of-type {\n",
       "        vertical-align: middle;\n",
       "    }\n",
       "\n",
       "    .dataframe tbody tr th {\n",
       "        vertical-align: top;\n",
       "    }\n",
       "\n",
       "    .dataframe thead th {\n",
       "        text-align: right;\n",
       "    }\n",
       "</style>\n",
       "<table border=\"1\" class=\"dataframe\">\n",
       "  <thead>\n",
       "    <tr style=\"text-align: right;\">\n",
       "      <th></th>\n",
       "      <th>Gender</th>\n",
       "      <th>Age</th>\n",
       "      <th>Score</th>\n",
       "      <th>Binary_Target</th>\n",
       "      <th>Pred</th>\n",
       "    </tr>\n",
       "  </thead>\n",
       "  <tbody>\n",
       "    <tr>\n",
       "      <th>0</th>\n",
       "      <td>F</td>\n",
       "      <td>13</td>\n",
       "      <td>0.802064</td>\n",
       "      <td>0</td>\n",
       "      <td>1</td>\n",
       "    </tr>\n",
       "    <tr>\n",
       "      <th>1</th>\n",
       "      <td>F</td>\n",
       "      <td>98</td>\n",
       "      <td>0.174615</td>\n",
       "      <td>1</td>\n",
       "      <td>0</td>\n",
       "    </tr>\n",
       "    <tr>\n",
       "      <th>2</th>\n",
       "      <td>M</td>\n",
       "      <td>20</td>\n",
       "      <td>0.734570</td>\n",
       "      <td>1</td>\n",
       "      <td>1</td>\n",
       "    </tr>\n",
       "    <tr>\n",
       "      <th>3</th>\n",
       "      <td>M</td>\n",
       "      <td>29</td>\n",
       "      <td>0.966650</td>\n",
       "      <td>0</td>\n",
       "      <td>1</td>\n",
       "    </tr>\n",
       "    <tr>\n",
       "      <th>4</th>\n",
       "      <td>F</td>\n",
       "      <td>37</td>\n",
       "      <td>0.979803</td>\n",
       "      <td>0</td>\n",
       "      <td>1</td>\n",
       "    </tr>\n",
       "    <tr>\n",
       "      <th>...</th>\n",
       "      <td>...</td>\n",
       "      <td>...</td>\n",
       "      <td>...</td>\n",
       "      <td>...</td>\n",
       "      <td>...</td>\n",
       "    </tr>\n",
       "    <tr>\n",
       "      <th>995</th>\n",
       "      <td>F</td>\n",
       "      <td>95</td>\n",
       "      <td>0.373565</td>\n",
       "      <td>0</td>\n",
       "      <td>0</td>\n",
       "    </tr>\n",
       "    <tr>\n",
       "      <th>996</th>\n",
       "      <td>F</td>\n",
       "      <td>75</td>\n",
       "      <td>0.858257</td>\n",
       "      <td>0</td>\n",
       "      <td>1</td>\n",
       "    </tr>\n",
       "    <tr>\n",
       "      <th>997</th>\n",
       "      <td>F</td>\n",
       "      <td>12</td>\n",
       "      <td>0.355249</td>\n",
       "      <td>0</td>\n",
       "      <td>0</td>\n",
       "    </tr>\n",
       "    <tr>\n",
       "      <th>998</th>\n",
       "      <td>F</td>\n",
       "      <td>95</td>\n",
       "      <td>0.158455</td>\n",
       "      <td>1</td>\n",
       "      <td>0</td>\n",
       "    </tr>\n",
       "    <tr>\n",
       "      <th>999</th>\n",
       "      <td>M</td>\n",
       "      <td>56</td>\n",
       "      <td>0.356191</td>\n",
       "      <td>0</td>\n",
       "      <td>0</td>\n",
       "    </tr>\n",
       "  </tbody>\n",
       "</table>\n",
       "<p>1000 rows × 5 columns</p>\n",
       "</div>"
      ],
      "text/plain": [
       "    Gender  Age     Score  Binary_Target  Pred\n",
       "0        F   13  0.802064              0     1\n",
       "1        F   98  0.174615              1     0\n",
       "2        M   20  0.734570              1     1\n",
       "3        M   29  0.966650              0     1\n",
       "4        F   37  0.979803              0     1\n",
       "..     ...  ...       ...            ...   ...\n",
       "995      F   95  0.373565              0     0\n",
       "996      F   75  0.858257              0     1\n",
       "997      F   12  0.355249              0     0\n",
       "998      F   95  0.158455              1     0\n",
       "999      M   56  0.356191              0     0\n",
       "\n",
       "[1000 rows x 5 columns]"
      ]
     },
     "execution_count": 5,
     "metadata": {},
     "output_type": "execute_result"
    }
   ],
   "source": [
    "from pandas import read_parquet\n",
    "\n",
    "read_parquet('./test.parquet/')"
   ]
  },
  {
   "cell_type": "code",
   "execution_count": 176,
   "metadata": {},
   "outputs": [],
   "source": [
    "import pyspark\n",
    "from tqdm import tqdm\n",
    "from collections import defaultdict\n",
    "from plotly.subplots import make_subplots\n",
    "from plotly import graph_objects as go\n",
    "from scipy import stats\n",
    "from sklearn.metrics import confusion_matrix\n",
    "\n",
    "class BinaryFairnessEval:\n",
    "    '''Class for evaluating model fairness on categorical variables\n",
    "    \n",
    "    Constructor args:\n",
    "        pred: name of column contraining hard predictions\n",
    "        pred_proba: name of column containing probability scores \n",
    "        actual: name of column containing actual targets\n",
    "        data: pyspark dataframe\n",
    "\n",
    "    Methods:\n",
    "     make_prevalence(sensitive_variable)\n",
    "        Plots prevalence for categories using bootstrap samples\n",
    "\n",
    "     make_equal_opportunity(sensitive_variable)\n",
    "        Plots classification metrics for all categories\n",
    "\n",
    "     make_independence(sensitive_variable)\n",
    "        Prints Chi2 contingency test between sensitive variable and target\n",
    "\n",
    "     make_separation(sensitive_variable)\n",
    "        Plots separation of scores for sensitive variable\n",
    "\n",
    "\n",
    "    Simple usage:\n",
    "\n",
    "    b = BinaryFairnessEval(\n",
    "        pred='Predicted', \n",
    "        pred_proba='Scores', \n",
    "        actual='Target',\n",
    "        data=data\n",
    "    )\n",
    "    b.make_prevalence(sensitive_variable='Gender')\n",
    "    \n",
    "    '''\n",
    "    def __init__(self,\n",
    "        pred: str,\n",
    "        pred_proba: str,\n",
    "        actual: str,\n",
    "        data: pyspark.sql.DataFrame) -> None:\n",
    "        self.pred = pred # this is y_pred NOT y_pred_proba\n",
    "        self.pred_proba = pred_proba # this is y_pred_proba NOT y_pred_proba_proba\n",
    "        self.actual = actual # this is y_pred NOT y_pred_proba\n",
    "        self.data = data\n",
    "\n",
    "\n",
    "    def make_prevalence(self, sensitive_variable, n_samples=1000, fraction=0.1):\n",
    "        pos_cnts = defaultdict(list) \n",
    "        neg_cnts = defaultdict(list) \n",
    "\n",
    "        for i in tqdm(range(n_samples)):\n",
    "            sample = data.sample(fraction=fraction, withReplacement=True)\n",
    "\n",
    "            grouped = sample.groupBy([self.pred, sensitive_variable]).count().toPandas()\n",
    "            pos = grouped.query(f'{self.pred} == 1')\n",
    "            neg = grouped.query(f'{self.pred} == 0')\n",
    "\n",
    "            for cat in grouped[sensitive_variable].unique():\n",
    "                pos_cnts[cat].extend(pos.loc[pos[sensitive_variable]==cat, 'count'])\n",
    "                neg_cnts[cat].extend(neg.loc[neg[sensitive_variable]==cat, 'count'])\n",
    "\n",
    "        cnts = {\n",
    "            1: pos_cnts,\n",
    "            0: neg_cnts\n",
    "        }\n",
    "        summaries = {}\n",
    "        for target in [0, 1]: # HACK\n",
    "            max_cnts = {} \n",
    "            min_cnts = {} \n",
    "            avg_cnts = {} \n",
    "            for cat in grouped[sensitive_variable].unique():\n",
    "                max_cnts[cat] = np.max(cnts[target][cat])\n",
    "                min_cnts[cat] = np.min(cnts[target][cat])\n",
    "                avg_cnts[cat] = np.mean(cnts[target][cat])\n",
    "\n",
    "            summaries[target] = {\n",
    "                'max': max_cnts,\n",
    "                'min': min_cnts,\n",
    "                'avg': avg_cnts,\n",
    "        }\n",
    "        self._plot_prevalence(sensitive_variable, grouped, summaries)\n",
    "\n",
    "    @staticmethod\n",
    "    def fairness_metrics(data, pred, actual):\n",
    "        \"\"\"Calculate fairness for subgroup of population\"\"\"\n",
    "        # from https://towardsdatascience.com/analysing-fairness-in-machine-learning-with-python-96a9ab0d0705\n",
    "        \n",
    "        #Confusion Matrix\n",
    "        if isinstance(data, pyspark.sql.DataFrame):\n",
    "            data = data.select(*[pred, actual]).toPandas()\n",
    "        cm=confusion_matrix(df[actual],df[pred])\n",
    "        TN, FP, FN, TP = cm.ravel()\n",
    "        \n",
    "        N = TP+FP+FN+TN #Total population\n",
    "        ACC = (TP+TN)/N #Accuracy\n",
    "        TPR = TP/(TP+FN) # True positive rate\n",
    "        FPR = FP/(FP+TN) # False positive rate\n",
    "        FNR = FN/(TP+FN) # False negative rate\n",
    "        PPP = (TP + FP)/N # % predicted as positive\n",
    "        \n",
    "        return np.array([ACC, TPR, FPR, FNR, PPP])\n",
    "\n",
    "    def make_equal_opportunity(self, sensitive_variable):\n",
    "        df = self.data.toPandas()\n",
    "        fig = go.Figure()\n",
    "        for cat in df[sensitive_variable].unique():\n",
    "            df_cat = df.loc[df[sensitive_variable]==cat, ]\n",
    "            metrics_cat = BinaryFairnessEval.fairness_metrics(df, self.pred, self.actual)\n",
    "            fig.add_trace(go.Bar(\n",
    "                x=['ACC', 'TPR', 'FPR', 'FNR', 'PPP'],\n",
    "                y=list(metrics_cat),\n",
    "                name=cat\n",
    "            ))\n",
    "\n",
    "        fig.update_layout(\n",
    "            barmode='group',\n",
    "            title=f'Equal Opportunity for {sensitive_variable}'\n",
    "        )\n",
    "        fig.show()\n",
    "\n",
    "    def _plot_prevalence(self, sensitive_variable, grouped, summaries):\n",
    "        fig = go.Figure()\n",
    "        fig.add_trace(go.Bar(\n",
    "            x=grouped[sensitive_variable].unique(),\n",
    "            y=[summaries[0]['avg'][c] for c in grouped[sensitive_variable].unique()], \n",
    "            name='Negative',\n",
    "            error_y={\n",
    "                'type':'data',\n",
    "                'symmetric': False, \n",
    "                'array': [summaries[0]['max'][c] - summaries[0]['avg'][c] for c in grouped[sensitive_variable].unique()], \n",
    "                'arrayminus': [summaries[0]['min'][c] for c in grouped[sensitive_variable].unique()], \n",
    "\n",
    "            }\n",
    "        ))\n",
    "\n",
    "        fig.add_trace(go.Bar(\n",
    "            x=grouped[sensitive_variable].unique(),\n",
    "            y=[summaries[1]['avg'][c] for c in grouped[sensitive_variable].unique()], \n",
    "            name='Positive',\n",
    "            error_y={\n",
    "                'type':'data',\n",
    "                'symmetric': False, \n",
    "                'array': [summaries[1]['max'][c] - summaries[1]['avg'][c] for c in grouped[sensitive_variable].unique()], \n",
    "                'arrayminus': [summaries[1]['min'][c] for c in grouped[sensitive_variable].unique()], \n",
    "\n",
    "            }\n",
    "        ))\n",
    "\n",
    "        fig.show()\n",
    "\n",
    "    def make_independence(self, sensitive_variable):\n",
    "        df = self.data.select(*[self.pred,self.pred_proba, self.actual, sensitive_variable]).toPandas()\n",
    "        crosstab = pd.crosstab(df[self.pred], df[sensitive_variable])\n",
    "\n",
    "\n",
    "        chi2, p, dof, expected = stats.chi2_contingency(crosstab)\n",
    "        print(f'Chi2 Contingency Test for {sensitive_variable}')\n",
    "        print(f'Chi2    :    {chi2}')\n",
    "        print(f'p_value :    {p}')\n",
    "        print(f'dof     :    {dof}')\n",
    "        if p < 0.05:\n",
    "            print(f'Little evidence to support dependence')\n",
    "        if p >= 0.05 and p < 0.20:\n",
    "            print(f'Some evidence to support dependence')\n",
    "        else:\n",
    "            print('Not enough evidence to disprove dependence')\n",
    "\n",
    "    def make_separation(self, sensitive_variable):\n",
    "        df = self.data.select(*[self.pred,self.pred_proba, self.actual, sensitive_variable]).toPandas()\n",
    "        fig = make_subplots(rows=2, cols=1, subplot_titles=['Negative', 'Positive'])\n",
    "        for cat in df[sensitive_variable].unique():\n",
    "            fig.add_trace(\n",
    "                go.Histogram(x=df.loc[\n",
    "                    (df[sensitive_variable]==cat) & (df[self.actual]==0), \n",
    "                    self.pred_proba],\n",
    "                    name=cat,\n",
    "                ),\n",
    "                row=1,\n",
    "                col=1\n",
    "            )\n",
    "            fig.add_trace(\n",
    "                go.Histogram(x=df.loc[\n",
    "                    (df[sensitive_variable]==cat) & (df[self.actual]==1), \n",
    "                    self.pred_proba],\n",
    "                    name=cat     \n",
    "                ), \n",
    "                row=2,\n",
    "                col=1\n",
    "            )\n",
    "\n",
    "        fig.update_layout(barmode='overlay')\n",
    "        fig.update_traces(opacity=0.75)\n",
    "        fig.show()\n",
    "\n"
   ]
  },
  {
   "cell_type": "code",
   "execution_count": 182,
   "metadata": {},
   "outputs": [
    {
     "name": "stderr",
     "output_type": "stream",
     "text": [
      "Exception ignored in: <function tqdm.__del__ at 0x7f7f1d936d30>\n",
      "Traceback (most recent call last):\n",
      "  File \"/home/aadi/miniconda3/envs/spark_env/lib/python3.8/site-packages/tqdm/std.py\", line 1162, in __del__\n",
      "    self.close()\n",
      "  File \"/home/aadi/miniconda3/envs/spark_env/lib/python3.8/site-packages/tqdm/notebook.py\", line 288, in close\n",
      "    self.disp(bar_style='danger', check_delay=False)\n",
      "AttributeError: 'tqdm_notebook' object has no attribute 'disp'\n"
     ]
    },
    {
     "data": {
      "application/vnd.plotly.v1+json": {
       "config": {
        "plotlyServerURL": "https://plot.ly"
       },
       "data": [
        {
         "error_y": {
          "array": [
           11.41,
           11.260000000000002
          ],
          "arrayminus": [
           16,
           12
          ],
          "symmetric": false,
          "type": "data"
         },
         "name": "Negative",
         "type": "bar",
         "x": [
          "F",
          "M"
         ],
         "y": [
          25.59,
          22.74
         ]
        },
        {
         "error_y": {
          "array": [
           13.09,
           15.68
          ],
          "arrayminus": [
           12,
           17
          ],
          "symmetric": false,
          "type": "data"
         },
         "name": "Positive",
         "type": "bar",
         "x": [
          "F",
          "M"
         ],
         "y": [
          25.91,
          27.32
         ]
        }
       ],
       "layout": {
        "template": {
         "data": {
          "bar": [
           {
            "error_x": {
             "color": "#2a3f5f"
            },
            "error_y": {
             "color": "#2a3f5f"
            },
            "marker": {
             "line": {
              "color": "#E5ECF6",
              "width": 0.5
             },
             "pattern": {
              "fillmode": "overlay",
              "size": 10,
              "solidity": 0.2
             }
            },
            "type": "bar"
           }
          ],
          "barpolar": [
           {
            "marker": {
             "line": {
              "color": "#E5ECF6",
              "width": 0.5
             },
             "pattern": {
              "fillmode": "overlay",
              "size": 10,
              "solidity": 0.2
             }
            },
            "type": "barpolar"
           }
          ],
          "carpet": [
           {
            "aaxis": {
             "endlinecolor": "#2a3f5f",
             "gridcolor": "white",
             "linecolor": "white",
             "minorgridcolor": "white",
             "startlinecolor": "#2a3f5f"
            },
            "baxis": {
             "endlinecolor": "#2a3f5f",
             "gridcolor": "white",
             "linecolor": "white",
             "minorgridcolor": "white",
             "startlinecolor": "#2a3f5f"
            },
            "type": "carpet"
           }
          ],
          "choropleth": [
           {
            "colorbar": {
             "outlinewidth": 0,
             "ticks": ""
            },
            "type": "choropleth"
           }
          ],
          "contour": [
           {
            "colorbar": {
             "outlinewidth": 0,
             "ticks": ""
            },
            "colorscale": [
             [
              0,
              "#0d0887"
             ],
             [
              0.1111111111111111,
              "#46039f"
             ],
             [
              0.2222222222222222,
              "#7201a8"
             ],
             [
              0.3333333333333333,
              "#9c179e"
             ],
             [
              0.4444444444444444,
              "#bd3786"
             ],
             [
              0.5555555555555556,
              "#d8576b"
             ],
             [
              0.6666666666666666,
              "#ed7953"
             ],
             [
              0.7777777777777778,
              "#fb9f3a"
             ],
             [
              0.8888888888888888,
              "#fdca26"
             ],
             [
              1,
              "#f0f921"
             ]
            ],
            "type": "contour"
           }
          ],
          "contourcarpet": [
           {
            "colorbar": {
             "outlinewidth": 0,
             "ticks": ""
            },
            "type": "contourcarpet"
           }
          ],
          "heatmap": [
           {
            "colorbar": {
             "outlinewidth": 0,
             "ticks": ""
            },
            "colorscale": [
             [
              0,
              "#0d0887"
             ],
             [
              0.1111111111111111,
              "#46039f"
             ],
             [
              0.2222222222222222,
              "#7201a8"
             ],
             [
              0.3333333333333333,
              "#9c179e"
             ],
             [
              0.4444444444444444,
              "#bd3786"
             ],
             [
              0.5555555555555556,
              "#d8576b"
             ],
             [
              0.6666666666666666,
              "#ed7953"
             ],
             [
              0.7777777777777778,
              "#fb9f3a"
             ],
             [
              0.8888888888888888,
              "#fdca26"
             ],
             [
              1,
              "#f0f921"
             ]
            ],
            "type": "heatmap"
           }
          ],
          "heatmapgl": [
           {
            "colorbar": {
             "outlinewidth": 0,
             "ticks": ""
            },
            "colorscale": [
             [
              0,
              "#0d0887"
             ],
             [
              0.1111111111111111,
              "#46039f"
             ],
             [
              0.2222222222222222,
              "#7201a8"
             ],
             [
              0.3333333333333333,
              "#9c179e"
             ],
             [
              0.4444444444444444,
              "#bd3786"
             ],
             [
              0.5555555555555556,
              "#d8576b"
             ],
             [
              0.6666666666666666,
              "#ed7953"
             ],
             [
              0.7777777777777778,
              "#fb9f3a"
             ],
             [
              0.8888888888888888,
              "#fdca26"
             ],
             [
              1,
              "#f0f921"
             ]
            ],
            "type": "heatmapgl"
           }
          ],
          "histogram": [
           {
            "marker": {
             "pattern": {
              "fillmode": "overlay",
              "size": 10,
              "solidity": 0.2
             }
            },
            "type": "histogram"
           }
          ],
          "histogram2d": [
           {
            "colorbar": {
             "outlinewidth": 0,
             "ticks": ""
            },
            "colorscale": [
             [
              0,
              "#0d0887"
             ],
             [
              0.1111111111111111,
              "#46039f"
             ],
             [
              0.2222222222222222,
              "#7201a8"
             ],
             [
              0.3333333333333333,
              "#9c179e"
             ],
             [
              0.4444444444444444,
              "#bd3786"
             ],
             [
              0.5555555555555556,
              "#d8576b"
             ],
             [
              0.6666666666666666,
              "#ed7953"
             ],
             [
              0.7777777777777778,
              "#fb9f3a"
             ],
             [
              0.8888888888888888,
              "#fdca26"
             ],
             [
              1,
              "#f0f921"
             ]
            ],
            "type": "histogram2d"
           }
          ],
          "histogram2dcontour": [
           {
            "colorbar": {
             "outlinewidth": 0,
             "ticks": ""
            },
            "colorscale": [
             [
              0,
              "#0d0887"
             ],
             [
              0.1111111111111111,
              "#46039f"
             ],
             [
              0.2222222222222222,
              "#7201a8"
             ],
             [
              0.3333333333333333,
              "#9c179e"
             ],
             [
              0.4444444444444444,
              "#bd3786"
             ],
             [
              0.5555555555555556,
              "#d8576b"
             ],
             [
              0.6666666666666666,
              "#ed7953"
             ],
             [
              0.7777777777777778,
              "#fb9f3a"
             ],
             [
              0.8888888888888888,
              "#fdca26"
             ],
             [
              1,
              "#f0f921"
             ]
            ],
            "type": "histogram2dcontour"
           }
          ],
          "mesh3d": [
           {
            "colorbar": {
             "outlinewidth": 0,
             "ticks": ""
            },
            "type": "mesh3d"
           }
          ],
          "parcoords": [
           {
            "line": {
             "colorbar": {
              "outlinewidth": 0,
              "ticks": ""
             }
            },
            "type": "parcoords"
           }
          ],
          "pie": [
           {
            "automargin": true,
            "type": "pie"
           }
          ],
          "scatter": [
           {
            "fillpattern": {
             "fillmode": "overlay",
             "size": 10,
             "solidity": 0.2
            },
            "type": "scatter"
           }
          ],
          "scatter3d": [
           {
            "line": {
             "colorbar": {
              "outlinewidth": 0,
              "ticks": ""
             }
            },
            "marker": {
             "colorbar": {
              "outlinewidth": 0,
              "ticks": ""
             }
            },
            "type": "scatter3d"
           }
          ],
          "scattercarpet": [
           {
            "marker": {
             "colorbar": {
              "outlinewidth": 0,
              "ticks": ""
             }
            },
            "type": "scattercarpet"
           }
          ],
          "scattergeo": [
           {
            "marker": {
             "colorbar": {
              "outlinewidth": 0,
              "ticks": ""
             }
            },
            "type": "scattergeo"
           }
          ],
          "scattergl": [
           {
            "marker": {
             "colorbar": {
              "outlinewidth": 0,
              "ticks": ""
             }
            },
            "type": "scattergl"
           }
          ],
          "scattermapbox": [
           {
            "marker": {
             "colorbar": {
              "outlinewidth": 0,
              "ticks": ""
             }
            },
            "type": "scattermapbox"
           }
          ],
          "scatterpolar": [
           {
            "marker": {
             "colorbar": {
              "outlinewidth": 0,
              "ticks": ""
             }
            },
            "type": "scatterpolar"
           }
          ],
          "scatterpolargl": [
           {
            "marker": {
             "colorbar": {
              "outlinewidth": 0,
              "ticks": ""
             }
            },
            "type": "scatterpolargl"
           }
          ],
          "scatterternary": [
           {
            "marker": {
             "colorbar": {
              "outlinewidth": 0,
              "ticks": ""
             }
            },
            "type": "scatterternary"
           }
          ],
          "surface": [
           {
            "colorbar": {
             "outlinewidth": 0,
             "ticks": ""
            },
            "colorscale": [
             [
              0,
              "#0d0887"
             ],
             [
              0.1111111111111111,
              "#46039f"
             ],
             [
              0.2222222222222222,
              "#7201a8"
             ],
             [
              0.3333333333333333,
              "#9c179e"
             ],
             [
              0.4444444444444444,
              "#bd3786"
             ],
             [
              0.5555555555555556,
              "#d8576b"
             ],
             [
              0.6666666666666666,
              "#ed7953"
             ],
             [
              0.7777777777777778,
              "#fb9f3a"
             ],
             [
              0.8888888888888888,
              "#fdca26"
             ],
             [
              1,
              "#f0f921"
             ]
            ],
            "type": "surface"
           }
          ],
          "table": [
           {
            "cells": {
             "fill": {
              "color": "#EBF0F8"
             },
             "line": {
              "color": "white"
             }
            },
            "header": {
             "fill": {
              "color": "#C8D4E3"
             },
             "line": {
              "color": "white"
             }
            },
            "type": "table"
           }
          ]
         },
         "layout": {
          "annotationdefaults": {
           "arrowcolor": "#2a3f5f",
           "arrowhead": 0,
           "arrowwidth": 1
          },
          "autotypenumbers": "strict",
          "coloraxis": {
           "colorbar": {
            "outlinewidth": 0,
            "ticks": ""
           }
          },
          "colorscale": {
           "diverging": [
            [
             0,
             "#8e0152"
            ],
            [
             0.1,
             "#c51b7d"
            ],
            [
             0.2,
             "#de77ae"
            ],
            [
             0.3,
             "#f1b6da"
            ],
            [
             0.4,
             "#fde0ef"
            ],
            [
             0.5,
             "#f7f7f7"
            ],
            [
             0.6,
             "#e6f5d0"
            ],
            [
             0.7,
             "#b8e186"
            ],
            [
             0.8,
             "#7fbc41"
            ],
            [
             0.9,
             "#4d9221"
            ],
            [
             1,
             "#276419"
            ]
           ],
           "sequential": [
            [
             0,
             "#0d0887"
            ],
            [
             0.1111111111111111,
             "#46039f"
            ],
            [
             0.2222222222222222,
             "#7201a8"
            ],
            [
             0.3333333333333333,
             "#9c179e"
            ],
            [
             0.4444444444444444,
             "#bd3786"
            ],
            [
             0.5555555555555556,
             "#d8576b"
            ],
            [
             0.6666666666666666,
             "#ed7953"
            ],
            [
             0.7777777777777778,
             "#fb9f3a"
            ],
            [
             0.8888888888888888,
             "#fdca26"
            ],
            [
             1,
             "#f0f921"
            ]
           ],
           "sequentialminus": [
            [
             0,
             "#0d0887"
            ],
            [
             0.1111111111111111,
             "#46039f"
            ],
            [
             0.2222222222222222,
             "#7201a8"
            ],
            [
             0.3333333333333333,
             "#9c179e"
            ],
            [
             0.4444444444444444,
             "#bd3786"
            ],
            [
             0.5555555555555556,
             "#d8576b"
            ],
            [
             0.6666666666666666,
             "#ed7953"
            ],
            [
             0.7777777777777778,
             "#fb9f3a"
            ],
            [
             0.8888888888888888,
             "#fdca26"
            ],
            [
             1,
             "#f0f921"
            ]
           ]
          },
          "colorway": [
           "#636efa",
           "#EF553B",
           "#00cc96",
           "#ab63fa",
           "#FFA15A",
           "#19d3f3",
           "#FF6692",
           "#B6E880",
           "#FF97FF",
           "#FECB52"
          ],
          "font": {
           "color": "#2a3f5f"
          },
          "geo": {
           "bgcolor": "white",
           "lakecolor": "white",
           "landcolor": "#E5ECF6",
           "showlakes": true,
           "showland": true,
           "subunitcolor": "white"
          },
          "hoverlabel": {
           "align": "left"
          },
          "hovermode": "closest",
          "mapbox": {
           "style": "light"
          },
          "paper_bgcolor": "white",
          "plot_bgcolor": "#E5ECF6",
          "polar": {
           "angularaxis": {
            "gridcolor": "white",
            "linecolor": "white",
            "ticks": ""
           },
           "bgcolor": "#E5ECF6",
           "radialaxis": {
            "gridcolor": "white",
            "linecolor": "white",
            "ticks": ""
           }
          },
          "scene": {
           "xaxis": {
            "backgroundcolor": "#E5ECF6",
            "gridcolor": "white",
            "gridwidth": 2,
            "linecolor": "white",
            "showbackground": true,
            "ticks": "",
            "zerolinecolor": "white"
           },
           "yaxis": {
            "backgroundcolor": "#E5ECF6",
            "gridcolor": "white",
            "gridwidth": 2,
            "linecolor": "white",
            "showbackground": true,
            "ticks": "",
            "zerolinecolor": "white"
           },
           "zaxis": {
            "backgroundcolor": "#E5ECF6",
            "gridcolor": "white",
            "gridwidth": 2,
            "linecolor": "white",
            "showbackground": true,
            "ticks": "",
            "zerolinecolor": "white"
           }
          },
          "shapedefaults": {
           "line": {
            "color": "#2a3f5f"
           }
          },
          "ternary": {
           "aaxis": {
            "gridcolor": "white",
            "linecolor": "white",
            "ticks": ""
           },
           "baxis": {
            "gridcolor": "white",
            "linecolor": "white",
            "ticks": ""
           },
           "bgcolor": "#E5ECF6",
           "caxis": {
            "gridcolor": "white",
            "linecolor": "white",
            "ticks": ""
           }
          },
          "title": {
           "x": 0.05
          },
          "xaxis": {
           "automargin": true,
           "gridcolor": "white",
           "linecolor": "white",
           "ticks": "",
           "title": {
            "standoff": 15
           },
           "zerolinecolor": "white",
           "zerolinewidth": 2
          },
          "yaxis": {
           "automargin": true,
           "gridcolor": "white",
           "linecolor": "white",
           "ticks": "",
           "title": {
            "standoff": 15
           },
           "zerolinecolor": "white",
           "zerolinewidth": 2
          }
         }
        }
       }
      }
     },
     "metadata": {},
     "output_type": "display_data"
    }
   ],
   "source": [
    "f = FairnessEval(actual='Binary_Target', pred='Pred', pred_proba='Score', data=data)\n",
    "f.make_prevalence(sensitive_variable='Gender', n_samples=100)"
   ]
  },
  {
   "cell_type": "code",
   "execution_count": 172,
   "metadata": {},
   "outputs": [
    {
     "data": {
      "application/vnd.plotly.v1+json": {
       "config": {
        "plotlyServerURL": "https://plot.ly"
       },
       "data": [
        {
         "name": "M",
         "type": "bar",
         "x": [
          "ACC",
          "TPR",
          "FPR",
          "FNR",
          "PPP"
         ],
         "y": [
          0.482,
          0.5165876777251185,
          0.5272496831432193,
          0.4834123222748815,
          0.525
         ]
        },
        {
         "name": "F",
         "type": "bar",
         "x": [
          "ACC",
          "TPR",
          "FPR",
          "FNR",
          "PPP"
         ],
         "y": [
          0.482,
          0.5165876777251185,
          0.5272496831432193,
          0.4834123222748815,
          0.525
         ]
        }
       ],
       "layout": {
        "barmode": "group",
        "template": {
         "data": {
          "bar": [
           {
            "error_x": {
             "color": "#2a3f5f"
            },
            "error_y": {
             "color": "#2a3f5f"
            },
            "marker": {
             "line": {
              "color": "#E5ECF6",
              "width": 0.5
             },
             "pattern": {
              "fillmode": "overlay",
              "size": 10,
              "solidity": 0.2
             }
            },
            "type": "bar"
           }
          ],
          "barpolar": [
           {
            "marker": {
             "line": {
              "color": "#E5ECF6",
              "width": 0.5
             },
             "pattern": {
              "fillmode": "overlay",
              "size": 10,
              "solidity": 0.2
             }
            },
            "type": "barpolar"
           }
          ],
          "carpet": [
           {
            "aaxis": {
             "endlinecolor": "#2a3f5f",
             "gridcolor": "white",
             "linecolor": "white",
             "minorgridcolor": "white",
             "startlinecolor": "#2a3f5f"
            },
            "baxis": {
             "endlinecolor": "#2a3f5f",
             "gridcolor": "white",
             "linecolor": "white",
             "minorgridcolor": "white",
             "startlinecolor": "#2a3f5f"
            },
            "type": "carpet"
           }
          ],
          "choropleth": [
           {
            "colorbar": {
             "outlinewidth": 0,
             "ticks": ""
            },
            "type": "choropleth"
           }
          ],
          "contour": [
           {
            "colorbar": {
             "outlinewidth": 0,
             "ticks": ""
            },
            "colorscale": [
             [
              0,
              "#0d0887"
             ],
             [
              0.1111111111111111,
              "#46039f"
             ],
             [
              0.2222222222222222,
              "#7201a8"
             ],
             [
              0.3333333333333333,
              "#9c179e"
             ],
             [
              0.4444444444444444,
              "#bd3786"
             ],
             [
              0.5555555555555556,
              "#d8576b"
             ],
             [
              0.6666666666666666,
              "#ed7953"
             ],
             [
              0.7777777777777778,
              "#fb9f3a"
             ],
             [
              0.8888888888888888,
              "#fdca26"
             ],
             [
              1,
              "#f0f921"
             ]
            ],
            "type": "contour"
           }
          ],
          "contourcarpet": [
           {
            "colorbar": {
             "outlinewidth": 0,
             "ticks": ""
            },
            "type": "contourcarpet"
           }
          ],
          "heatmap": [
           {
            "colorbar": {
             "outlinewidth": 0,
             "ticks": ""
            },
            "colorscale": [
             [
              0,
              "#0d0887"
             ],
             [
              0.1111111111111111,
              "#46039f"
             ],
             [
              0.2222222222222222,
              "#7201a8"
             ],
             [
              0.3333333333333333,
              "#9c179e"
             ],
             [
              0.4444444444444444,
              "#bd3786"
             ],
             [
              0.5555555555555556,
              "#d8576b"
             ],
             [
              0.6666666666666666,
              "#ed7953"
             ],
             [
              0.7777777777777778,
              "#fb9f3a"
             ],
             [
              0.8888888888888888,
              "#fdca26"
             ],
             [
              1,
              "#f0f921"
             ]
            ],
            "type": "heatmap"
           }
          ],
          "heatmapgl": [
           {
            "colorbar": {
             "outlinewidth": 0,
             "ticks": ""
            },
            "colorscale": [
             [
              0,
              "#0d0887"
             ],
             [
              0.1111111111111111,
              "#46039f"
             ],
             [
              0.2222222222222222,
              "#7201a8"
             ],
             [
              0.3333333333333333,
              "#9c179e"
             ],
             [
              0.4444444444444444,
              "#bd3786"
             ],
             [
              0.5555555555555556,
              "#d8576b"
             ],
             [
              0.6666666666666666,
              "#ed7953"
             ],
             [
              0.7777777777777778,
              "#fb9f3a"
             ],
             [
              0.8888888888888888,
              "#fdca26"
             ],
             [
              1,
              "#f0f921"
             ]
            ],
            "type": "heatmapgl"
           }
          ],
          "histogram": [
           {
            "marker": {
             "pattern": {
              "fillmode": "overlay",
              "size": 10,
              "solidity": 0.2
             }
            },
            "type": "histogram"
           }
          ],
          "histogram2d": [
           {
            "colorbar": {
             "outlinewidth": 0,
             "ticks": ""
            },
            "colorscale": [
             [
              0,
              "#0d0887"
             ],
             [
              0.1111111111111111,
              "#46039f"
             ],
             [
              0.2222222222222222,
              "#7201a8"
             ],
             [
              0.3333333333333333,
              "#9c179e"
             ],
             [
              0.4444444444444444,
              "#bd3786"
             ],
             [
              0.5555555555555556,
              "#d8576b"
             ],
             [
              0.6666666666666666,
              "#ed7953"
             ],
             [
              0.7777777777777778,
              "#fb9f3a"
             ],
             [
              0.8888888888888888,
              "#fdca26"
             ],
             [
              1,
              "#f0f921"
             ]
            ],
            "type": "histogram2d"
           }
          ],
          "histogram2dcontour": [
           {
            "colorbar": {
             "outlinewidth": 0,
             "ticks": ""
            },
            "colorscale": [
             [
              0,
              "#0d0887"
             ],
             [
              0.1111111111111111,
              "#46039f"
             ],
             [
              0.2222222222222222,
              "#7201a8"
             ],
             [
              0.3333333333333333,
              "#9c179e"
             ],
             [
              0.4444444444444444,
              "#bd3786"
             ],
             [
              0.5555555555555556,
              "#d8576b"
             ],
             [
              0.6666666666666666,
              "#ed7953"
             ],
             [
              0.7777777777777778,
              "#fb9f3a"
             ],
             [
              0.8888888888888888,
              "#fdca26"
             ],
             [
              1,
              "#f0f921"
             ]
            ],
            "type": "histogram2dcontour"
           }
          ],
          "mesh3d": [
           {
            "colorbar": {
             "outlinewidth": 0,
             "ticks": ""
            },
            "type": "mesh3d"
           }
          ],
          "parcoords": [
           {
            "line": {
             "colorbar": {
              "outlinewidth": 0,
              "ticks": ""
             }
            },
            "type": "parcoords"
           }
          ],
          "pie": [
           {
            "automargin": true,
            "type": "pie"
           }
          ],
          "scatter": [
           {
            "fillpattern": {
             "fillmode": "overlay",
             "size": 10,
             "solidity": 0.2
            },
            "type": "scatter"
           }
          ],
          "scatter3d": [
           {
            "line": {
             "colorbar": {
              "outlinewidth": 0,
              "ticks": ""
             }
            },
            "marker": {
             "colorbar": {
              "outlinewidth": 0,
              "ticks": ""
             }
            },
            "type": "scatter3d"
           }
          ],
          "scattercarpet": [
           {
            "marker": {
             "colorbar": {
              "outlinewidth": 0,
              "ticks": ""
             }
            },
            "type": "scattercarpet"
           }
          ],
          "scattergeo": [
           {
            "marker": {
             "colorbar": {
              "outlinewidth": 0,
              "ticks": ""
             }
            },
            "type": "scattergeo"
           }
          ],
          "scattergl": [
           {
            "marker": {
             "colorbar": {
              "outlinewidth": 0,
              "ticks": ""
             }
            },
            "type": "scattergl"
           }
          ],
          "scattermapbox": [
           {
            "marker": {
             "colorbar": {
              "outlinewidth": 0,
              "ticks": ""
             }
            },
            "type": "scattermapbox"
           }
          ],
          "scatterpolar": [
           {
            "marker": {
             "colorbar": {
              "outlinewidth": 0,
              "ticks": ""
             }
            },
            "type": "scatterpolar"
           }
          ],
          "scatterpolargl": [
           {
            "marker": {
             "colorbar": {
              "outlinewidth": 0,
              "ticks": ""
             }
            },
            "type": "scatterpolargl"
           }
          ],
          "scatterternary": [
           {
            "marker": {
             "colorbar": {
              "outlinewidth": 0,
              "ticks": ""
             }
            },
            "type": "scatterternary"
           }
          ],
          "surface": [
           {
            "colorbar": {
             "outlinewidth": 0,
             "ticks": ""
            },
            "colorscale": [
             [
              0,
              "#0d0887"
             ],
             [
              0.1111111111111111,
              "#46039f"
             ],
             [
              0.2222222222222222,
              "#7201a8"
             ],
             [
              0.3333333333333333,
              "#9c179e"
             ],
             [
              0.4444444444444444,
              "#bd3786"
             ],
             [
              0.5555555555555556,
              "#d8576b"
             ],
             [
              0.6666666666666666,
              "#ed7953"
             ],
             [
              0.7777777777777778,
              "#fb9f3a"
             ],
             [
              0.8888888888888888,
              "#fdca26"
             ],
             [
              1,
              "#f0f921"
             ]
            ],
            "type": "surface"
           }
          ],
          "table": [
           {
            "cells": {
             "fill": {
              "color": "#EBF0F8"
             },
             "line": {
              "color": "white"
             }
            },
            "header": {
             "fill": {
              "color": "#C8D4E3"
             },
             "line": {
              "color": "white"
             }
            },
            "type": "table"
           }
          ]
         },
         "layout": {
          "annotationdefaults": {
           "arrowcolor": "#2a3f5f",
           "arrowhead": 0,
           "arrowwidth": 1
          },
          "autotypenumbers": "strict",
          "coloraxis": {
           "colorbar": {
            "outlinewidth": 0,
            "ticks": ""
           }
          },
          "colorscale": {
           "diverging": [
            [
             0,
             "#8e0152"
            ],
            [
             0.1,
             "#c51b7d"
            ],
            [
             0.2,
             "#de77ae"
            ],
            [
             0.3,
             "#f1b6da"
            ],
            [
             0.4,
             "#fde0ef"
            ],
            [
             0.5,
             "#f7f7f7"
            ],
            [
             0.6,
             "#e6f5d0"
            ],
            [
             0.7,
             "#b8e186"
            ],
            [
             0.8,
             "#7fbc41"
            ],
            [
             0.9,
             "#4d9221"
            ],
            [
             1,
             "#276419"
            ]
           ],
           "sequential": [
            [
             0,
             "#0d0887"
            ],
            [
             0.1111111111111111,
             "#46039f"
            ],
            [
             0.2222222222222222,
             "#7201a8"
            ],
            [
             0.3333333333333333,
             "#9c179e"
            ],
            [
             0.4444444444444444,
             "#bd3786"
            ],
            [
             0.5555555555555556,
             "#d8576b"
            ],
            [
             0.6666666666666666,
             "#ed7953"
            ],
            [
             0.7777777777777778,
             "#fb9f3a"
            ],
            [
             0.8888888888888888,
             "#fdca26"
            ],
            [
             1,
             "#f0f921"
            ]
           ],
           "sequentialminus": [
            [
             0,
             "#0d0887"
            ],
            [
             0.1111111111111111,
             "#46039f"
            ],
            [
             0.2222222222222222,
             "#7201a8"
            ],
            [
             0.3333333333333333,
             "#9c179e"
            ],
            [
             0.4444444444444444,
             "#bd3786"
            ],
            [
             0.5555555555555556,
             "#d8576b"
            ],
            [
             0.6666666666666666,
             "#ed7953"
            ],
            [
             0.7777777777777778,
             "#fb9f3a"
            ],
            [
             0.8888888888888888,
             "#fdca26"
            ],
            [
             1,
             "#f0f921"
            ]
           ]
          },
          "colorway": [
           "#636efa",
           "#EF553B",
           "#00cc96",
           "#ab63fa",
           "#FFA15A",
           "#19d3f3",
           "#FF6692",
           "#B6E880",
           "#FF97FF",
           "#FECB52"
          ],
          "font": {
           "color": "#2a3f5f"
          },
          "geo": {
           "bgcolor": "white",
           "lakecolor": "white",
           "landcolor": "#E5ECF6",
           "showlakes": true,
           "showland": true,
           "subunitcolor": "white"
          },
          "hoverlabel": {
           "align": "left"
          },
          "hovermode": "closest",
          "mapbox": {
           "style": "light"
          },
          "paper_bgcolor": "white",
          "plot_bgcolor": "#E5ECF6",
          "polar": {
           "angularaxis": {
            "gridcolor": "white",
            "linecolor": "white",
            "ticks": ""
           },
           "bgcolor": "#E5ECF6",
           "radialaxis": {
            "gridcolor": "white",
            "linecolor": "white",
            "ticks": ""
           }
          },
          "scene": {
           "xaxis": {
            "backgroundcolor": "#E5ECF6",
            "gridcolor": "white",
            "gridwidth": 2,
            "linecolor": "white",
            "showbackground": true,
            "ticks": "",
            "zerolinecolor": "white"
           },
           "yaxis": {
            "backgroundcolor": "#E5ECF6",
            "gridcolor": "white",
            "gridwidth": 2,
            "linecolor": "white",
            "showbackground": true,
            "ticks": "",
            "zerolinecolor": "white"
           },
           "zaxis": {
            "backgroundcolor": "#E5ECF6",
            "gridcolor": "white",
            "gridwidth": 2,
            "linecolor": "white",
            "showbackground": true,
            "ticks": "",
            "zerolinecolor": "white"
           }
          },
          "shapedefaults": {
           "line": {
            "color": "#2a3f5f"
           }
          },
          "ternary": {
           "aaxis": {
            "gridcolor": "white",
            "linecolor": "white",
            "ticks": ""
           },
           "baxis": {
            "gridcolor": "white",
            "linecolor": "white",
            "ticks": ""
           },
           "bgcolor": "#E5ECF6",
           "caxis": {
            "gridcolor": "white",
            "linecolor": "white",
            "ticks": ""
           }
          },
          "title": {
           "x": 0.05
          },
          "xaxis": {
           "automargin": true,
           "gridcolor": "white",
           "linecolor": "white",
           "ticks": "",
           "title": {
            "standoff": 15
           },
           "zerolinecolor": "white",
           "zerolinewidth": 2
          },
          "yaxis": {
           "automargin": true,
           "gridcolor": "white",
           "linecolor": "white",
           "ticks": "",
           "title": {
            "standoff": 15
           },
           "zerolinecolor": "white",
           "zerolinewidth": 2
          }
         }
        },
        "title": {
         "text": "Equal Opportunity for Gender"
        }
       }
      }
     },
     "metadata": {},
     "output_type": "display_data"
    }
   ],
   "source": [
    "f.make_equal_opportunity(sensitive_variable='Gender')"
   ]
  },
  {
   "cell_type": "code",
   "execution_count": 173,
   "metadata": {},
   "outputs": [
    {
     "name": "stdout",
     "output_type": "stream",
     "text": [
      "Chi2 Contingency Test for Gender\n",
      "Chi2    :    1.6527292210780082\n",
      "p_value :    0.19858787622022533\n",
      "dof     :    1\n",
      "Some evidence to support dependence\n"
     ]
    }
   ],
   "source": [
    "f.make_independence(sensitive_variable='Gender')"
   ]
  },
  {
   "cell_type": "code",
   "execution_count": 174,
   "metadata": {},
   "outputs": [
    {
     "data": {
      "application/vnd.plotly.v1+json": {
       "config": {
        "plotlyServerURL": "https://plot.ly"
       },
       "data": [
        {
         "name": "M",
         "opacity": 0.75,
         "type": "histogram",
         "x": [
          0.9115457231955388,
          0.7949338974658905,
          0.4900665770581083,
          0.2630141919560629,
          0.8973189797403375,
          0.9939497881036927,
          0.3000733799854368,
          0.324254143376136,
          0.7108161558062053,
          0.009551776137464163,
          0.12177322722795392,
          0.6712059357162807,
          0.32287957196802075,
          0.43749159944960125,
          0.7183721298765011,
          0.9067000897029527,
          0.6648926541819464,
          0.680480915231752,
          0.9747462373996897,
          0.2598597382935248,
          0.6596922621715139,
          0.005706472171258525,
          0.35769694998890844,
          0.7850535702946329,
          0.7963545843315606,
          0.05934141830021278,
          0.24393601058747716,
          0.6326317968379256,
          0.6579176441716597,
          0.7036676179834364,
          0.5838904455861671,
          0.8716922672067747,
          0.22786472294940097,
          0.7643567945898166,
          0.06811387521355039,
          0.3026833858318557,
          0.04758128718065158,
          0.31807045864160255,
          0.7850452951371867,
          0.7433116247309306,
          0.0960111108879933,
          0.1418802567110612,
          0.46922775985425025,
          0.5131999850969232,
          0.34769933214844684,
          0.6506275747049896,
          0.1528196567950746,
          0.7596216226119411,
          0.05193208813763628,
          0.3584367386688573,
          0.3096685116268153,
          0.09597439238814975,
          0.7805622169952742,
          0.5643427732793634,
          0.7668929590725079,
          0.9598552789090979,
          0.6253394663985639,
          0.609314976420726,
          0.7394707776784376,
          0.10508262868788254,
          0.3421445550077391,
          0.22681913313344526,
          0.47439002356538695,
          0.8908344059016514,
          0.8613861825231577,
          0.03180125288265734,
          0.8591647233992326,
          0.18674302442918578,
          0.576595130890316,
          0.44228341958846473,
          0.7612475851659939,
          0.8754772251515419,
          0.3850807702010747,
          0.8321912568698961,
          0.08218371220739085,
          0.26299217993690605,
          0.24029307305126157,
          0.21100567661463077,
          0.8624058548915879,
          0.5534966276425246,
          0.4927124853842252,
          0.5951350361284302,
          0.7557581395074254,
          0.16534517886370348,
          0.6519347737332134,
          0.43404024411289244,
          0.8054720837492739,
          0.8567111660479374,
          0.4276895334432579,
          0.18713040421910077,
          0.6596045319202559,
          0.23829812966144082,
          0.48034056587321916,
          0.38931963313701634,
          0.8184823465336638,
          0.01063989292452494,
          0.9837173495801317,
          0.7084690641701186,
          0.1028041720386541,
          0.5878229311785954,
          0.02462140120753653,
          0.2695713510299821,
          0.6537829145555514,
          0.9408753620100062,
          0.8861010654912854,
          0.41806402065352033,
          0.7045473583938535,
          0.9813303323413092,
          0.6278261064054304,
          0.8163694373724546,
          0.1659084545535311,
          0.2603332915729306,
          0.8513335454528461,
          0.24027777700606312,
          0.6554128319098406,
          0.9504510173510323,
          0.46035896258611386,
          0.6005737102818038,
          0.26090791267904323,
          0.656074746774686,
          0.9621271395676906,
          0.809653489580276,
          0.5055822337754876,
          0.22200025657571087,
          0.9431705800516244,
          0.3565124314066481,
          0.10575131024913309,
          0.9637850914820345,
          0.787193431232836,
          0.139002590715953,
          0.49490413916953657,
          0.4530215143787186,
          0.20420591578258684,
          0.17728696126554788,
          0.9922806495170723,
          0.23357372430449563,
          0.21111000892186138,
          0.942667850409378,
          0.8755940077228018,
          0.23912886441741932,
          0.9303618101044406,
          0.2528688157159249,
          0.8845550300131955,
          0.6031620945640728,
          0.29083790838653967,
          0.35289144098416336,
          0.8233822104483624,
          0.6250578263130026,
          0.5210988491134427,
          0.9612730592335582,
          0.9672901464127918,
          0.46633383794908834,
          0.9104959931144274,
          0.8521451956811257,
          0.8925574120745478,
          0.22926198741683834,
          0.8238591274405664,
          0.06398538890325312,
          0.6917912664918067,
          0.7460761149249074,
          0.8584855599640372,
          0.47704232966857274,
          0.17284711540756248,
          0.7080289233938568,
          0.4618350878620644,
          0.3279820876757009,
          0.7072808272360054,
          0.12237061120647308,
          0.8129520997289132,
          0.9701114130125007,
          0.9701090219827646,
          0.7849921412184823,
          0.1266290361762885,
          0.853040174700806,
          0.9174698175431143,
          0.969871719565106,
          0.0893915285012693,
          0.40515997686670313,
          0.773484371189026,
          0.7172452352018762,
          0.7685594132161772,
          0.3567806248330222,
          0.9775008609245832,
          0.2696214072344788,
          0.949150077139902,
          0.47154713448979,
          0.7350976941312349,
          0.41604609917581403,
          0.06793935307986221,
          0.012569243978633793,
          0.5606378881965973,
          0.19764549740708504,
          0.042650859260659146,
          0.29162946713763793,
          0.6094055385742854,
          0.3676883313364653,
          0.28533077128068796,
          0.9054386882751789,
          0.005125348435957577,
          0.5127214616442212,
          0.25929822725967777,
          0.863784513283828,
          0.9992114687761375,
          0.2192154613141426,
          0.49874135472460757,
          0.2320366009539524,
          0.7368508571264698,
          0.7810977720239193,
          0.28668860167813337,
          0.3986464535226245,
          0.19973130931335814,
          0.9211680164953121,
          0.49061716304703407,
          0.6552922702511829,
          0.460557736602371,
          0.5448227826882273,
          0.5384694939851256,
          0.01855073879492508,
          0.8790244634672973,
          0.19692318103641748,
          0.7036086157500719,
          0.9190248888508296,
          0.5525972875987932,
          0.8831171316523091,
          0.0048620012235224275,
          0.6079370243635461,
          0.5135830105992806,
          0.4901523398534575,
          0.5092615680422424,
          0.6086667234763662,
          0.05550066023238909,
          0.13552464727335212,
          0.7827533737648653,
          0.48993338743252035,
          0.4199888598160607,
          0.3879808636861727,
          0.31680001295658966,
          0.699509292382515,
          0.8448120816381759,
          0.4897363058115751,
          0.9386104857894616,
          0.7366952289954359,
          0.5937498888161332,
          0.8703958200949748,
          0.4333661181101015,
          0.5698189757289781,
          0.6581910818246687,
          0.3747708775442353,
          0.7011622845624655,
          0.649206168971619,
          0.6233716110156475,
          0.0342344074432378,
          0.7447748707131718,
          0.8785162617696929,
          0.5211569391416978,
          0.7508264147454602,
          0.014962667352198644,
          0.628035696865867,
          0.673093994374386,
          0.8646585114558796,
          0.7966168787972078,
          0.29477501841265374,
          0.9031742575540805,
          0.7058907817232398,
          0.2784669797949014,
          0.03862494538037431,
          0.3688869196268787,
          0.5522921038495844,
          0.17552293840340172,
          0.24178026319538537,
          0.10420468552227569,
          0.09703495717504329,
          0.13756891923776182,
          0.9890679095188937,
          0.6160391706157862,
          0.7626231124135341,
          0.6703452276048673,
          0.812629363938041,
          0.6388652934155687,
          0.17422948971081953,
          0.2530802665231199,
          0.7134633851606672,
          0.013683403203066047,
          0.9825941212529788,
          0.41502288679940624,
          0.1698935313675689,
          0.05518231399703766,
          0.952410951621945,
          0.1684630006529929,
          0.1475218876949349,
          0.8807036634733898,
          0.7346383064443764,
          0.658515677414464,
          0.38189462865116464,
          0.4875105665134234,
          0.7820348202930547,
          0.438332448358153,
          0.24027480723390027,
          0.18759316207308108,
          0.858782360990577,
          0.6356987191153466,
          0.07770391068184224,
          0.7870216679433006,
          0.17906209261930384,
          0.1096059325116624,
          0.9786710896139055,
          0.03325099715439117,
          0.8451773720808633,
          0.6107826898310728,
          0.2001960306081677,
          0.9464270282219303,
          0.04018024267204123,
          0.5531942180485624,
          0.0251209624396197,
          0.15621548984760714,
          0.6193685552006201,
          0.4549217438462094,
          0.1533286512907912,
          0.4891584521184774,
          0.09467837567692727,
          0.8114400115413224,
          0.14266596199085668,
          0.4257668415939624,
          0.5485603199086887,
          0.07772277203909905,
          0.7022357235335607,
          0.36026884542829196,
          0.28170189505205223,
          0.44895401408326363,
          0.763624770079702,
          0.8002817203377897,
          0.7449300873961756,
          0.03760133624221351,
          0.6750596703657923,
          0.5598133472883453,
          0.3567272106738252,
          0.537815471578987,
          0.7522353820804498,
          0.7944912120511831,
          0.2707280344725361,
          0.6095935607253666,
          0.05478889820456678,
          0.9899661152749407,
          0.6755720118982008,
          0.5920269412653724,
          0.0729817821236387,
          0.750924781797637,
          0.06641398679708599,
          0.6923397636451504,
          0.9492806417655619,
          0.9709391546363645,
          0.6088837659192764,
          0.9106135273464261,
          0.6962570507787247,
          0.8771075691036153,
          0.42825633903060834,
          0.4580282954232703,
          0.9864108542646959,
          0.02822489599249689,
          0.1315885883088923,
          0.07173777042213925,
          0.12992153329282996,
          0.6768129335373584,
          0.4764756546989347,
          0.6311134086554853,
          0.4844141578969242,
          0.8189721873961928,
          0.9612240460913307,
          0.7605951593738418,
          0.73553985530489,
          0.9254462035316652,
          0.018192648586926707,
          0.2842180350418515,
          0.7168500671602922,
          0.5430899907945977,
          0.5115748979697415,
          0.718325788498822,
          0.8312086067387898
         ],
         "xaxis": "x",
         "yaxis": "y"
        },
        {
         "name": "M",
         "opacity": 0.75,
         "type": "histogram",
         "x": [
          0.14233700198588017,
          0.8873892849130218,
          0.08442468407620163,
          0.5333831917863849,
          0.8067489519544128,
          0.6711684115617689,
          0.9878650510370155,
          0.8950107676661188,
          0.46618318220636,
          0.8386212824047498,
          0.5604476796623983,
          0.5516158207084049,
          0.06672051931888112,
          0.30095671766464005,
          0.23917843107475345,
          0.07271611479241669,
          0.5688183536522086,
          0.1928112599625207,
          0.15332011378289756,
          0.3742404819853363,
          0.5127146450044809,
          0.604394604349936,
          0.3986874721558158,
          0.14121908823515283,
          0.056127564570186306,
          0.8451419329101447,
          0.8312462316053764,
          0.37878717794512806,
          0.5142380861093366,
          0.2705032391220151,
          0.5470298267682628,
          0.07519756700018454,
          0.8403545005160162,
          0.34597311006188614,
          0.8918926405778341,
          0.889325918662149,
          0.17510049645379988,
          0.6900996255603228,
          0.00410976694115095,
          0.854065708727753,
          0.437992583413796,
          0.6707011873551109,
          0.1904714145435651,
          0.8014590998224832,
          0.095780904077306,
          0.732915573588374,
          0.09157002881911158,
          0.04142502971366546,
          0.564233064252225,
          0.9030116912870274,
          0.8375594858564515,
          0.4291234180336376,
          0.6430738001482781,
          0.2512726249522045,
          0.16430515913840404,
          0.8091186758799018,
          0.4673043070175622,
          0.601924812410721,
          0.02008063209336841,
          0.975109278512255,
          0.5289172434482602,
          0.2244054208761359,
          0.5262823949410717,
          0.26468589738337667,
          0.32098050447732174,
          0.5040272520449596,
          0.5407691651189046,
          0.824530311452088,
          0.6887874858878056,
          0.6163044341345179,
          0.631506270984837,
          0.09281587526877955,
          0.02700956158285861,
          0.281120985567034,
          0.0786539849719845,
          0.9593453580854664,
          0.2162073311187266,
          0.5994429474269058,
          0.4410260184632463,
          0.6298571297889299,
          0.7541966240791884,
          0.4942060307111945,
          0.864131058515001,
          0.5861389636002701,
          0.15034032330303182,
          0.8942662956003804,
          0.7770248352138142,
          0.20179105995465407,
          0.007163239369604946,
          0.739793844294594,
          0.9480079608971735,
          0.9531043274791551,
          0.9708427801046376,
          0.9661160086594032,
          0.35100231485713096,
          0.873304524960974,
          0.7048877146513503,
          0.12064047463460648,
          0.4234950263879701,
          0.9885008599119596,
          0.45627671132598835,
          0.5598774042809891,
          0.9783860513164223,
          0.6095536711392525,
          0.8306046964444153,
          0.4930649609319061,
          0.0516396297261702,
          0.16163750033051194,
          0.7218994412480161,
          0.9966848534983004,
          0.6255580801687232,
          0.8581897493151733,
          0.07660253712770682,
          0.8751782880693019,
          0.9169079177143468,
          0.559619936536519
         ],
         "xaxis": "x2",
         "yaxis": "y2"
        },
        {
         "name": "F",
         "opacity": 0.75,
         "type": "histogram",
         "x": [
          0.4840576034190063,
          0.5336222871106779,
          0.06463821666459713,
          0.8338958903855059,
          0.05561584883611592,
          0.2198372209359002,
          0.4317653406198746,
          0.13136776731489974,
          0.20533235187696697,
          0.8309651581831445,
          0.6429901945192963,
          0.32095986924233466,
          0.1642749319830884,
          0.3353106302631289,
          0.5605104402670495,
          0.5553636130080092,
          0.7019632724666073,
          0.5702026294217258,
          0.09665837923805853,
          0.16836302729716457,
          0.7224005267118979,
          0.6838676126688643,
          0.9328207266548201,
          0.2366698655289492,
          0.09577641707242845,
          0.7485862544323727,
          0.7823872736684225,
          0.317341255947984,
          0.86196918225201,
          0.3181992124596904,
          0.7607473380643412,
          0.8478571891659289,
          0.17428424401377596,
          0.4180529917922625,
          0.024370652922383385,
          0.17159832535651198,
          0.3504494479432654,
          0.45707668671420465,
          0.5550788520497377,
          0.8668166424503546,
          0.7047094198415108,
          0.3164164934314083,
          0.012366947745229728,
          0.03311307103136807,
          0.41307911878717507,
          0.48460795846184446,
          0.6848860278147748,
          0.7908890793689423,
          0.23125269374345392,
          0.22159684153083015,
          0.997817945146294,
          0.7198894439858381,
          0.5542896532139567,
          0.09299827771626801,
          0.8976350141001621,
          0.177101507636499,
          0.4614936059336684,
          0.18359697708401157,
          0.783155592808849,
          0.5148751690634922,
          0.6712797370008963,
          0.7074090762892423,
          0.4751699912048798,
          0.3114707433666243,
          0.12961282138815933,
          0.9252092794864645,
          0.3346531736440451,
          0.9703486215350577,
          0.9869798628934922,
          0.5457635098323614,
          0.4439890880464913,
          0.02889730860668216,
          0.8073508931692222,
          0.39506880992771076,
          0.15739464801306857,
          0.08629576482091073,
          0.3325515652034996,
          0.5803246027903409,
          0.8519379239071164,
          0.7089328826823524,
          0.7777136188042921,
          0.5426910415980122,
          0.15834906381804725,
          0.3859698741567994,
          0.5058455115759345,
          0.9662175119767886,
          0.23678252403718536,
          0.737846798903043,
          0.3184647361454269,
          0.3242461315860591,
          0.8535412751546383,
          0.17232932896516429,
          0.951742690351833,
          0.574972272296212,
          0.32815057294763195,
          0.786780495910652,
          0.8578499017432996,
          0.5401548292353117,
          0.86192601590427,
          0.993956169535081,
          0.709210942763719,
          0.24688932280446796,
          0.7610326543897972,
          0.7863078023027507,
          0.660266333531182,
          0.998995819520874,
          0.0717624241451209,
          0.08179272105739466,
          0.6200551671545904,
          0.8537551336261191,
          0.2705815149803703,
          0.13319655582855683,
          0.3785149832523591,
          0.6262811040401038,
          0.8056939665411118,
          0.26227137467537753,
          0.21223628036379416,
          0.8350335413504791,
          0.7982270170032797,
          0.19107925973964657,
          0.6344821478537604,
          0.5907193410763764,
          0.8331141128827162,
          0.8564120827069496,
          0.6076490387834117,
          0.3142524162264878,
          0.5008515814516756,
          0.3521398954691749,
          0.03036445948689337,
          0.5013105517706478,
          0.20648819151418873,
          0.4337079029163158,
          0.926625879107879,
          0.09388928094647175,
          0.33443097916581344,
          0.8702960044594854,
          0.15216866082701697,
          0.2553651347778908,
          0.0022435679927583774,
          0.006074126758258913,
          0.8274762967036473,
          0.9830078545399684,
          0.23144253138532123,
          0.8148658564496254,
          0.537651437863606,
          0.4778458214442768,
          0.3671407238746419,
          0.9692351936503768,
          0.18474528498515042,
          0.9352820188361928,
          0.4696011143461113,
          0.1993453127102549,
          0.8135617410546676,
          0.6290753260661008,
          0.13208951450179962,
          0.9354561154732179,
          0.14067650969834888,
          0.23911753776601752,
          0.9794282660643947,
          0.6614532432309853,
          0.2450363393688092,
          0.3361034726677239,
          0.6253316637171912,
          0.47719095827184177,
          0.1662744019078073,
          0.04693849687077367,
          0.09599556263805997,
          0.4894640983035966,
          0.2858960145100983,
          0.6457916535705704,
          0.481921055495932,
          0.10924459138302756,
          0.7398564400762907,
          0.18675762288132192,
          0.17704201693262678,
          0.570828517034242,
          0.9486248245751558,
          0.6887442651627766,
          0.7513518629204243,
          0.8880288494558496,
          0.49007170161080504,
          0.8049725597270998,
          0.4554521760959467,
          0.34626812629526316,
          0.5701032326459932,
          0.5891163612503734,
          0.3287234442550202,
          0.5147128129178024,
          0.6953054270883384,
          0.9271387875995819,
          0.5811448022007419,
          0.7113480356245787,
          0.06789329199893879,
          0.6835815117649205,
          0.002717914064128135,
          0.8474998082283721,
          0.5992877022309415,
          0.23861524466435258,
          0.19771494950095359,
          0.7955150152228122,
          0.10769740911760162,
          0.13170378083029044,
          0.685924260384537,
          0.2616404740838041,
          0.2020136825519685,
          0.6125218755165067,
          0.8178002174738668,
          0.4367399201041082,
          0.8856909598570317,
          0.8845035948413751,
          0.9185326278609125,
          0.5625354962054575,
          0.3352667406469717,
          0.7631138439750019,
          0.10299397765158391,
          0.28175956676837866,
          0.9460887483031895,
          0.07889848543746691,
          0.7351760891830543,
          0.2218120429423488,
          0.6564833270981218,
          0.5628025067555658,
          0.8508777499359031,
          0.9011876396661334,
          0.23191947654519907,
          0.8320588041000517,
          0.08504746351178205,
          0.08444269932728532,
          0.9678513386437306,
          0.3455753909182627,
          0.1314790213124114,
          0.9729026955260949,
          0.558478299141487,
          0.7440722070023277,
          0.6285336934617073,
          0.9559627771528791,
          0.005659126282825833,
          0.7242774390016864,
          0.21238379281872843,
          0.937746285047009,
          0.7744450414009245,
          0.9387638588416247,
          0.9925789408581576,
          0.7450113822363791,
          0.462068400899479,
          0.3947674586804192,
          0.21927292820577982,
          0.5421665590481904,
          0.7184025791796907,
          0.6651231074197359,
          0.7855656371362633,
          0.8270138889758647,
          0.6187591884350373,
          0.8177224984508358,
          0.038907024728371264,
          0.7376809325393514,
          0.9959870479390218,
          0.42505277066926783,
          0.16472791422830513,
          0.6200782793072368,
          0.7846130746798635,
          0.841938919564428,
          0.37800383188624687,
          0.405873104282242,
          0.7966093742903546,
          0.48222121079249003,
          0.6157986672053573,
          0.41831104427189536,
          0.8867967501373298,
          0.45182135578439175,
          0.3566670918406598,
          0.7145907610366627,
          0.7747892459278469,
          0.05350293698149167,
          0.9386909969780148,
          0.4895553086811093,
          0.5505033443590249,
          0.8637573594234239,
          0.853560806545923,
          0.2272826854483465,
          0.7822197258266513,
          0.5854020260630711,
          0.9684628727394318,
          0.8228518662527076,
          0.807860213046421,
          0.7075685182839981,
          0.1729723081050527,
          0.4613746839808206,
          0.8237322322430832,
          0.9517019294689926,
          0.2315407105195867,
          0.16381734127352576,
          0.6887835477258,
          0.8314405642181565,
          0.8321463031084325,
          0.699016697142036,
          0.6903690592379568,
          0.7825957175193932,
          0.1308762641559551,
          0.08518725561594354,
          0.568266939181159,
          0.7493669857063769,
          0.3091586062401477,
          0.5483249697611342,
          0.3777044202295913,
          0.7301978274361253,
          0.12382849698746934,
          0.111678512485051,
          0.3039582413060046,
          0.6318920330451504,
          0.06697120568562653,
          0.6150886054720266,
          0.5089132171477502,
          0.43454130971848415,
          0.005662962901792579,
          0.04264240136121411,
          0.9754385889545653,
          0.8161299567474208,
          0.846588060869542,
          0.7914452774220968,
          0.3381421958218396,
          0.5056615392956023,
          0.18572927490745073,
          0.06228090956516452,
          0.23289072748957707,
          0.2800326656349894,
          0.21794518197100243,
          0.02205986515189251,
          0.7705798239677929,
          0.36103515908151496,
          0.18532449748907687,
          0.5439036457183766,
          0.1837135787298556,
          0.0946287258792442,
          0.22542960706168635,
          0.2970481399741277,
          0.9603208148413676,
          0.3121550546846713,
          0.05982243350106309,
          0.8732030705383967,
          0.8819262364875059,
          0.1406126346588713,
          0.8122407689102505,
          0.07136936156301532,
          0.09130097675091897,
          0.9973138635594496,
          0.9153894102510679,
          0.8821407368508092,
          0.14440172993756817,
          0.3607846044162756,
          0.6981171451751684,
          0.05209220202372922,
          0.22671012466571838,
          0.3839322023430377,
          0.5205595815409263,
          0.2535024048531438,
          0.7806426929473579,
          0.7241709783223835,
          0.4075277331205118,
          0.7732808735429809,
          0.5834842658289895,
          0.7597776228841139,
          0.17441923330437326,
          0.2767299696651775,
          0.2856941965297054,
          0.42834838506746964,
          0.8678193381264416,
          0.6252834005798367,
          0.27987061464724006,
          0.7017851928039345,
          0.7480009135245975,
          0.2036600730998983,
          0.5273918686016965,
          0.48812888248176056,
          0.1058931621018453,
          0.4803999546903872,
          0.6983557464137283,
          0.1467936213428077,
          0.7354792181844817,
          0.39424060193418586,
          0.9488340299862592,
          0.6127848938893558,
          0.22389303304277963,
          0.4852367240451436,
          0.9245850721091198,
          0.4761464461843038,
          0.9407317478802791,
          0.18570523188360966,
          0.7757096658463917,
          0.3292902744569792,
          0.8148003952396695,
          0.558919673549409,
          0.2329071470527866,
          0.2922009010603056,
          0.8756045699361606,
          0.29697121561916817,
          0.049959159130145925,
          0.0688306223443752,
          0.7835973470649522,
          0.5964929638252988,
          0.24798958832474416,
          0.6347738065064215,
          0.17339966381628058,
          0.3667539697440213,
          0.3640042178745331,
          0.640666260101239,
          0.5119306311024093,
          0.6227643740167929,
          0.4964451723964709,
          0.4115800675392326,
          0.41069203939630683
         ],
         "xaxis": "x",
         "yaxis": "y"
        },
        {
         "name": "F",
         "opacity": 0.75,
         "type": "histogram",
         "x": [
          0.9995215367913062,
          0.23829274851685545,
          0.14270674245974935,
          0.980734231833694,
          0.23576491443897685,
          0.2704035179183468,
          0.22304588285692406,
          0.2739139972534881,
          0.9912636355232151,
          0.6144738845556111,
          0.9143210436664974,
          0.26984982448280215,
          0.1923014710943285,
          0.7768534388982893,
          0.7266462600972998,
          0.07430252023022732,
          0.9609128389949693,
          0.4093687664520407,
          0.349973929086453,
          0.15240384535989615,
          0.25129188963882476,
          0.8495380718211806,
          0.9210188981965061,
          0.7725908308664219,
          0.8644616138305105,
          0.19698632104099234,
          0.3219718450709049,
          0.12644877719002479,
          0.14345196280754635,
          0.21592030871280354,
          0.47608328893244467,
          0.040631877401059,
          0.4567833210282721,
          0.9284649522335742,
          0.6554351933105094,
          0.7245091508599738,
          0.25878581960140923,
          0.002780382184335406,
          0.1643767127339668,
          0.6073314452205748,
          0.5401986390619894,
          0.1012437573986199,
          0.27747196351486847,
          0.9259432477640318,
          0.07078342025878304,
          0.155819661356965,
          0.19304119492982597,
          0.3072185845431489,
          0.7346937503707304,
          0.6582377628461529,
          0.969855085763147,
          0.4403550185501056,
          0.8309424036760628,
          0.7024078082447434,
          0.1667562730899257,
          0.7114258881640806,
          0.0790005257136932,
          0.24151547030663323,
          0.1301914399249089,
          0.5321260913245051,
          0.15051274024425798,
          0.347525483367938,
          0.10679477348083977,
          0.8029829552068887,
          0.004137405611601697,
          0.38349580792931237,
          0.9042324330478951,
          0.10852889833506041,
          0.9219837144537001,
          0.7582397690787589,
          0.028310958398215957,
          0.8290191261790526,
          0.7630867971127641,
          0.1008849026081714,
          0.5787206420279919,
          0.39458463602978466,
          0.630290695447029,
          0.4773726608511837,
          0.5132105406058733,
          0.5561016484943344,
          0.5246135513345312,
          0.24907375364338513,
          0.2166012565979174,
          0.1615939413535319,
          0.9257314083857284,
          0.7349196605710986,
          0.9103471297961662,
          0.28583737105145657,
          0.793730172664691,
          0.22579886971868468,
          0.8151586921941064,
          0.06833917363794229,
          0.5939832976630818,
          0.8015977109799677,
          0.08625745144530772
         ],
         "xaxis": "x2",
         "yaxis": "y2"
        }
       ],
       "layout": {
        "annotations": [
         {
          "font": {
           "size": 16
          },
          "showarrow": false,
          "text": "Negative",
          "x": 0.5,
          "xanchor": "center",
          "xref": "paper",
          "y": 1,
          "yanchor": "bottom",
          "yref": "paper"
         },
         {
          "font": {
           "size": 16
          },
          "showarrow": false,
          "text": "Positive",
          "x": 0.5,
          "xanchor": "center",
          "xref": "paper",
          "y": 0.375,
          "yanchor": "bottom",
          "yref": "paper"
         }
        ],
        "barmode": "overlay",
        "template": {
         "data": {
          "bar": [
           {
            "error_x": {
             "color": "#2a3f5f"
            },
            "error_y": {
             "color": "#2a3f5f"
            },
            "marker": {
             "line": {
              "color": "#E5ECF6",
              "width": 0.5
             },
             "pattern": {
              "fillmode": "overlay",
              "size": 10,
              "solidity": 0.2
             }
            },
            "type": "bar"
           }
          ],
          "barpolar": [
           {
            "marker": {
             "line": {
              "color": "#E5ECF6",
              "width": 0.5
             },
             "pattern": {
              "fillmode": "overlay",
              "size": 10,
              "solidity": 0.2
             }
            },
            "type": "barpolar"
           }
          ],
          "carpet": [
           {
            "aaxis": {
             "endlinecolor": "#2a3f5f",
             "gridcolor": "white",
             "linecolor": "white",
             "minorgridcolor": "white",
             "startlinecolor": "#2a3f5f"
            },
            "baxis": {
             "endlinecolor": "#2a3f5f",
             "gridcolor": "white",
             "linecolor": "white",
             "minorgridcolor": "white",
             "startlinecolor": "#2a3f5f"
            },
            "type": "carpet"
           }
          ],
          "choropleth": [
           {
            "colorbar": {
             "outlinewidth": 0,
             "ticks": ""
            },
            "type": "choropleth"
           }
          ],
          "contour": [
           {
            "colorbar": {
             "outlinewidth": 0,
             "ticks": ""
            },
            "colorscale": [
             [
              0,
              "#0d0887"
             ],
             [
              0.1111111111111111,
              "#46039f"
             ],
             [
              0.2222222222222222,
              "#7201a8"
             ],
             [
              0.3333333333333333,
              "#9c179e"
             ],
             [
              0.4444444444444444,
              "#bd3786"
             ],
             [
              0.5555555555555556,
              "#d8576b"
             ],
             [
              0.6666666666666666,
              "#ed7953"
             ],
             [
              0.7777777777777778,
              "#fb9f3a"
             ],
             [
              0.8888888888888888,
              "#fdca26"
             ],
             [
              1,
              "#f0f921"
             ]
            ],
            "type": "contour"
           }
          ],
          "contourcarpet": [
           {
            "colorbar": {
             "outlinewidth": 0,
             "ticks": ""
            },
            "type": "contourcarpet"
           }
          ],
          "heatmap": [
           {
            "colorbar": {
             "outlinewidth": 0,
             "ticks": ""
            },
            "colorscale": [
             [
              0,
              "#0d0887"
             ],
             [
              0.1111111111111111,
              "#46039f"
             ],
             [
              0.2222222222222222,
              "#7201a8"
             ],
             [
              0.3333333333333333,
              "#9c179e"
             ],
             [
              0.4444444444444444,
              "#bd3786"
             ],
             [
              0.5555555555555556,
              "#d8576b"
             ],
             [
              0.6666666666666666,
              "#ed7953"
             ],
             [
              0.7777777777777778,
              "#fb9f3a"
             ],
             [
              0.8888888888888888,
              "#fdca26"
             ],
             [
              1,
              "#f0f921"
             ]
            ],
            "type": "heatmap"
           }
          ],
          "heatmapgl": [
           {
            "colorbar": {
             "outlinewidth": 0,
             "ticks": ""
            },
            "colorscale": [
             [
              0,
              "#0d0887"
             ],
             [
              0.1111111111111111,
              "#46039f"
             ],
             [
              0.2222222222222222,
              "#7201a8"
             ],
             [
              0.3333333333333333,
              "#9c179e"
             ],
             [
              0.4444444444444444,
              "#bd3786"
             ],
             [
              0.5555555555555556,
              "#d8576b"
             ],
             [
              0.6666666666666666,
              "#ed7953"
             ],
             [
              0.7777777777777778,
              "#fb9f3a"
             ],
             [
              0.8888888888888888,
              "#fdca26"
             ],
             [
              1,
              "#f0f921"
             ]
            ],
            "type": "heatmapgl"
           }
          ],
          "histogram": [
           {
            "marker": {
             "pattern": {
              "fillmode": "overlay",
              "size": 10,
              "solidity": 0.2
             }
            },
            "type": "histogram"
           }
          ],
          "histogram2d": [
           {
            "colorbar": {
             "outlinewidth": 0,
             "ticks": ""
            },
            "colorscale": [
             [
              0,
              "#0d0887"
             ],
             [
              0.1111111111111111,
              "#46039f"
             ],
             [
              0.2222222222222222,
              "#7201a8"
             ],
             [
              0.3333333333333333,
              "#9c179e"
             ],
             [
              0.4444444444444444,
              "#bd3786"
             ],
             [
              0.5555555555555556,
              "#d8576b"
             ],
             [
              0.6666666666666666,
              "#ed7953"
             ],
             [
              0.7777777777777778,
              "#fb9f3a"
             ],
             [
              0.8888888888888888,
              "#fdca26"
             ],
             [
              1,
              "#f0f921"
             ]
            ],
            "type": "histogram2d"
           }
          ],
          "histogram2dcontour": [
           {
            "colorbar": {
             "outlinewidth": 0,
             "ticks": ""
            },
            "colorscale": [
             [
              0,
              "#0d0887"
             ],
             [
              0.1111111111111111,
              "#46039f"
             ],
             [
              0.2222222222222222,
              "#7201a8"
             ],
             [
              0.3333333333333333,
              "#9c179e"
             ],
             [
              0.4444444444444444,
              "#bd3786"
             ],
             [
              0.5555555555555556,
              "#d8576b"
             ],
             [
              0.6666666666666666,
              "#ed7953"
             ],
             [
              0.7777777777777778,
              "#fb9f3a"
             ],
             [
              0.8888888888888888,
              "#fdca26"
             ],
             [
              1,
              "#f0f921"
             ]
            ],
            "type": "histogram2dcontour"
           }
          ],
          "mesh3d": [
           {
            "colorbar": {
             "outlinewidth": 0,
             "ticks": ""
            },
            "type": "mesh3d"
           }
          ],
          "parcoords": [
           {
            "line": {
             "colorbar": {
              "outlinewidth": 0,
              "ticks": ""
             }
            },
            "type": "parcoords"
           }
          ],
          "pie": [
           {
            "automargin": true,
            "type": "pie"
           }
          ],
          "scatter": [
           {
            "fillpattern": {
             "fillmode": "overlay",
             "size": 10,
             "solidity": 0.2
            },
            "type": "scatter"
           }
          ],
          "scatter3d": [
           {
            "line": {
             "colorbar": {
              "outlinewidth": 0,
              "ticks": ""
             }
            },
            "marker": {
             "colorbar": {
              "outlinewidth": 0,
              "ticks": ""
             }
            },
            "type": "scatter3d"
           }
          ],
          "scattercarpet": [
           {
            "marker": {
             "colorbar": {
              "outlinewidth": 0,
              "ticks": ""
             }
            },
            "type": "scattercarpet"
           }
          ],
          "scattergeo": [
           {
            "marker": {
             "colorbar": {
              "outlinewidth": 0,
              "ticks": ""
             }
            },
            "type": "scattergeo"
           }
          ],
          "scattergl": [
           {
            "marker": {
             "colorbar": {
              "outlinewidth": 0,
              "ticks": ""
             }
            },
            "type": "scattergl"
           }
          ],
          "scattermapbox": [
           {
            "marker": {
             "colorbar": {
              "outlinewidth": 0,
              "ticks": ""
             }
            },
            "type": "scattermapbox"
           }
          ],
          "scatterpolar": [
           {
            "marker": {
             "colorbar": {
              "outlinewidth": 0,
              "ticks": ""
             }
            },
            "type": "scatterpolar"
           }
          ],
          "scatterpolargl": [
           {
            "marker": {
             "colorbar": {
              "outlinewidth": 0,
              "ticks": ""
             }
            },
            "type": "scatterpolargl"
           }
          ],
          "scatterternary": [
           {
            "marker": {
             "colorbar": {
              "outlinewidth": 0,
              "ticks": ""
             }
            },
            "type": "scatterternary"
           }
          ],
          "surface": [
           {
            "colorbar": {
             "outlinewidth": 0,
             "ticks": ""
            },
            "colorscale": [
             [
              0,
              "#0d0887"
             ],
             [
              0.1111111111111111,
              "#46039f"
             ],
             [
              0.2222222222222222,
              "#7201a8"
             ],
             [
              0.3333333333333333,
              "#9c179e"
             ],
             [
              0.4444444444444444,
              "#bd3786"
             ],
             [
              0.5555555555555556,
              "#d8576b"
             ],
             [
              0.6666666666666666,
              "#ed7953"
             ],
             [
              0.7777777777777778,
              "#fb9f3a"
             ],
             [
              0.8888888888888888,
              "#fdca26"
             ],
             [
              1,
              "#f0f921"
             ]
            ],
            "type": "surface"
           }
          ],
          "table": [
           {
            "cells": {
             "fill": {
              "color": "#EBF0F8"
             },
             "line": {
              "color": "white"
             }
            },
            "header": {
             "fill": {
              "color": "#C8D4E3"
             },
             "line": {
              "color": "white"
             }
            },
            "type": "table"
           }
          ]
         },
         "layout": {
          "annotationdefaults": {
           "arrowcolor": "#2a3f5f",
           "arrowhead": 0,
           "arrowwidth": 1
          },
          "autotypenumbers": "strict",
          "coloraxis": {
           "colorbar": {
            "outlinewidth": 0,
            "ticks": ""
           }
          },
          "colorscale": {
           "diverging": [
            [
             0,
             "#8e0152"
            ],
            [
             0.1,
             "#c51b7d"
            ],
            [
             0.2,
             "#de77ae"
            ],
            [
             0.3,
             "#f1b6da"
            ],
            [
             0.4,
             "#fde0ef"
            ],
            [
             0.5,
             "#f7f7f7"
            ],
            [
             0.6,
             "#e6f5d0"
            ],
            [
             0.7,
             "#b8e186"
            ],
            [
             0.8,
             "#7fbc41"
            ],
            [
             0.9,
             "#4d9221"
            ],
            [
             1,
             "#276419"
            ]
           ],
           "sequential": [
            [
             0,
             "#0d0887"
            ],
            [
             0.1111111111111111,
             "#46039f"
            ],
            [
             0.2222222222222222,
             "#7201a8"
            ],
            [
             0.3333333333333333,
             "#9c179e"
            ],
            [
             0.4444444444444444,
             "#bd3786"
            ],
            [
             0.5555555555555556,
             "#d8576b"
            ],
            [
             0.6666666666666666,
             "#ed7953"
            ],
            [
             0.7777777777777778,
             "#fb9f3a"
            ],
            [
             0.8888888888888888,
             "#fdca26"
            ],
            [
             1,
             "#f0f921"
            ]
           ],
           "sequentialminus": [
            [
             0,
             "#0d0887"
            ],
            [
             0.1111111111111111,
             "#46039f"
            ],
            [
             0.2222222222222222,
             "#7201a8"
            ],
            [
             0.3333333333333333,
             "#9c179e"
            ],
            [
             0.4444444444444444,
             "#bd3786"
            ],
            [
             0.5555555555555556,
             "#d8576b"
            ],
            [
             0.6666666666666666,
             "#ed7953"
            ],
            [
             0.7777777777777778,
             "#fb9f3a"
            ],
            [
             0.8888888888888888,
             "#fdca26"
            ],
            [
             1,
             "#f0f921"
            ]
           ]
          },
          "colorway": [
           "#636efa",
           "#EF553B",
           "#00cc96",
           "#ab63fa",
           "#FFA15A",
           "#19d3f3",
           "#FF6692",
           "#B6E880",
           "#FF97FF",
           "#FECB52"
          ],
          "font": {
           "color": "#2a3f5f"
          },
          "geo": {
           "bgcolor": "white",
           "lakecolor": "white",
           "landcolor": "#E5ECF6",
           "showlakes": true,
           "showland": true,
           "subunitcolor": "white"
          },
          "hoverlabel": {
           "align": "left"
          },
          "hovermode": "closest",
          "mapbox": {
           "style": "light"
          },
          "paper_bgcolor": "white",
          "plot_bgcolor": "#E5ECF6",
          "polar": {
           "angularaxis": {
            "gridcolor": "white",
            "linecolor": "white",
            "ticks": ""
           },
           "bgcolor": "#E5ECF6",
           "radialaxis": {
            "gridcolor": "white",
            "linecolor": "white",
            "ticks": ""
           }
          },
          "scene": {
           "xaxis": {
            "backgroundcolor": "#E5ECF6",
            "gridcolor": "white",
            "gridwidth": 2,
            "linecolor": "white",
            "showbackground": true,
            "ticks": "",
            "zerolinecolor": "white"
           },
           "yaxis": {
            "backgroundcolor": "#E5ECF6",
            "gridcolor": "white",
            "gridwidth": 2,
            "linecolor": "white",
            "showbackground": true,
            "ticks": "",
            "zerolinecolor": "white"
           },
           "zaxis": {
            "backgroundcolor": "#E5ECF6",
            "gridcolor": "white",
            "gridwidth": 2,
            "linecolor": "white",
            "showbackground": true,
            "ticks": "",
            "zerolinecolor": "white"
           }
          },
          "shapedefaults": {
           "line": {
            "color": "#2a3f5f"
           }
          },
          "ternary": {
           "aaxis": {
            "gridcolor": "white",
            "linecolor": "white",
            "ticks": ""
           },
           "baxis": {
            "gridcolor": "white",
            "linecolor": "white",
            "ticks": ""
           },
           "bgcolor": "#E5ECF6",
           "caxis": {
            "gridcolor": "white",
            "linecolor": "white",
            "ticks": ""
           }
          },
          "title": {
           "x": 0.05
          },
          "xaxis": {
           "automargin": true,
           "gridcolor": "white",
           "linecolor": "white",
           "ticks": "",
           "title": {
            "standoff": 15
           },
           "zerolinecolor": "white",
           "zerolinewidth": 2
          },
          "yaxis": {
           "automargin": true,
           "gridcolor": "white",
           "linecolor": "white",
           "ticks": "",
           "title": {
            "standoff": 15
           },
           "zerolinecolor": "white",
           "zerolinewidth": 2
          }
         }
        },
        "xaxis": {
         "anchor": "y",
         "domain": [
          0,
          1
         ]
        },
        "xaxis2": {
         "anchor": "y2",
         "domain": [
          0,
          1
         ]
        },
        "yaxis": {
         "anchor": "x",
         "domain": [
          0.625,
          1
         ]
        },
        "yaxis2": {
         "anchor": "x2",
         "domain": [
          0,
          0.375
         ]
        }
       }
      }
     },
     "metadata": {},
     "output_type": "display_data"
    }
   ],
   "source": [
    "f.make_separation(sensitive_variable='Gender')"
   ]
  },
  {
   "cell_type": "code",
   "execution_count": 49,
   "metadata": {},
   "outputs": [
    {
     "data": {
      "text/plain": [
       "{0: {'max': {'F': 40, 'M': 35},\n",
       "  'min': {'F': 14, 'M': 11},\n",
       "  'avg': {'F': 25.81, 'M': 23.56}},\n",
       " 1: {'max': {'F': 38, 'M': 39},\n",
       "  'min': {'F': 14, 'M': 10},\n",
       "  'avg': {'F': 25.24, 'M': 27.44}}}"
      ]
     },
     "execution_count": 49,
     "metadata": {},
     "output_type": "execute_result"
    }
   ],
   "source": [
    "summaries"
   ]
  },
  {
   "cell_type": "code",
   "execution_count": 73,
   "metadata": {},
   "outputs": [
    {
     "data": {
      "application/vnd.plotly.v1+json": {
       "config": {
        "plotlyServerURL": "https://plot.ly"
       },
       "data": [
        {
         "error_y": {
          "array": [
           14.190000000000001,
           11.440000000000001
          ],
          "arrayminus": [
           14,
           11
          ],
          "symmetric": false,
          "type": "data"
         },
         "name": "Negative",
         "type": "bar",
         "x": [
          "F",
          "M"
         ],
         "y": [
          25.81,
          23.56
         ]
        },
        {
         "error_y": {
          "array": [
           12.760000000000002,
           11.559999999999999
          ],
          "arrayminus": [
           14,
           10
          ],
          "symmetric": false,
          "type": "data"
         },
         "name": "Positive",
         "type": "bar",
         "x": [
          "F",
          "M"
         ],
         "y": [
          25.24,
          27.44
         ]
        }
       ],
       "layout": {
        "template": {
         "data": {
          "bar": [
           {
            "error_x": {
             "color": "#2a3f5f"
            },
            "error_y": {
             "color": "#2a3f5f"
            },
            "marker": {
             "line": {
              "color": "#E5ECF6",
              "width": 0.5
             },
             "pattern": {
              "fillmode": "overlay",
              "size": 10,
              "solidity": 0.2
             }
            },
            "type": "bar"
           }
          ],
          "barpolar": [
           {
            "marker": {
             "line": {
              "color": "#E5ECF6",
              "width": 0.5
             },
             "pattern": {
              "fillmode": "overlay",
              "size": 10,
              "solidity": 0.2
             }
            },
            "type": "barpolar"
           }
          ],
          "carpet": [
           {
            "aaxis": {
             "endlinecolor": "#2a3f5f",
             "gridcolor": "white",
             "linecolor": "white",
             "minorgridcolor": "white",
             "startlinecolor": "#2a3f5f"
            },
            "baxis": {
             "endlinecolor": "#2a3f5f",
             "gridcolor": "white",
             "linecolor": "white",
             "minorgridcolor": "white",
             "startlinecolor": "#2a3f5f"
            },
            "type": "carpet"
           }
          ],
          "choropleth": [
           {
            "colorbar": {
             "outlinewidth": 0,
             "ticks": ""
            },
            "type": "choropleth"
           }
          ],
          "contour": [
           {
            "colorbar": {
             "outlinewidth": 0,
             "ticks": ""
            },
            "colorscale": [
             [
              0,
              "#0d0887"
             ],
             [
              0.1111111111111111,
              "#46039f"
             ],
             [
              0.2222222222222222,
              "#7201a8"
             ],
             [
              0.3333333333333333,
              "#9c179e"
             ],
             [
              0.4444444444444444,
              "#bd3786"
             ],
             [
              0.5555555555555556,
              "#d8576b"
             ],
             [
              0.6666666666666666,
              "#ed7953"
             ],
             [
              0.7777777777777778,
              "#fb9f3a"
             ],
             [
              0.8888888888888888,
              "#fdca26"
             ],
             [
              1,
              "#f0f921"
             ]
            ],
            "type": "contour"
           }
          ],
          "contourcarpet": [
           {
            "colorbar": {
             "outlinewidth": 0,
             "ticks": ""
            },
            "type": "contourcarpet"
           }
          ],
          "heatmap": [
           {
            "colorbar": {
             "outlinewidth": 0,
             "ticks": ""
            },
            "colorscale": [
             [
              0,
              "#0d0887"
             ],
             [
              0.1111111111111111,
              "#46039f"
             ],
             [
              0.2222222222222222,
              "#7201a8"
             ],
             [
              0.3333333333333333,
              "#9c179e"
             ],
             [
              0.4444444444444444,
              "#bd3786"
             ],
             [
              0.5555555555555556,
              "#d8576b"
             ],
             [
              0.6666666666666666,
              "#ed7953"
             ],
             [
              0.7777777777777778,
              "#fb9f3a"
             ],
             [
              0.8888888888888888,
              "#fdca26"
             ],
             [
              1,
              "#f0f921"
             ]
            ],
            "type": "heatmap"
           }
          ],
          "heatmapgl": [
           {
            "colorbar": {
             "outlinewidth": 0,
             "ticks": ""
            },
            "colorscale": [
             [
              0,
              "#0d0887"
             ],
             [
              0.1111111111111111,
              "#46039f"
             ],
             [
              0.2222222222222222,
              "#7201a8"
             ],
             [
              0.3333333333333333,
              "#9c179e"
             ],
             [
              0.4444444444444444,
              "#bd3786"
             ],
             [
              0.5555555555555556,
              "#d8576b"
             ],
             [
              0.6666666666666666,
              "#ed7953"
             ],
             [
              0.7777777777777778,
              "#fb9f3a"
             ],
             [
              0.8888888888888888,
              "#fdca26"
             ],
             [
              1,
              "#f0f921"
             ]
            ],
            "type": "heatmapgl"
           }
          ],
          "histogram": [
           {
            "marker": {
             "pattern": {
              "fillmode": "overlay",
              "size": 10,
              "solidity": 0.2
             }
            },
            "type": "histogram"
           }
          ],
          "histogram2d": [
           {
            "colorbar": {
             "outlinewidth": 0,
             "ticks": ""
            },
            "colorscale": [
             [
              0,
              "#0d0887"
             ],
             [
              0.1111111111111111,
              "#46039f"
             ],
             [
              0.2222222222222222,
              "#7201a8"
             ],
             [
              0.3333333333333333,
              "#9c179e"
             ],
             [
              0.4444444444444444,
              "#bd3786"
             ],
             [
              0.5555555555555556,
              "#d8576b"
             ],
             [
              0.6666666666666666,
              "#ed7953"
             ],
             [
              0.7777777777777778,
              "#fb9f3a"
             ],
             [
              0.8888888888888888,
              "#fdca26"
             ],
             [
              1,
              "#f0f921"
             ]
            ],
            "type": "histogram2d"
           }
          ],
          "histogram2dcontour": [
           {
            "colorbar": {
             "outlinewidth": 0,
             "ticks": ""
            },
            "colorscale": [
             [
              0,
              "#0d0887"
             ],
             [
              0.1111111111111111,
              "#46039f"
             ],
             [
              0.2222222222222222,
              "#7201a8"
             ],
             [
              0.3333333333333333,
              "#9c179e"
             ],
             [
              0.4444444444444444,
              "#bd3786"
             ],
             [
              0.5555555555555556,
              "#d8576b"
             ],
             [
              0.6666666666666666,
              "#ed7953"
             ],
             [
              0.7777777777777778,
              "#fb9f3a"
             ],
             [
              0.8888888888888888,
              "#fdca26"
             ],
             [
              1,
              "#f0f921"
             ]
            ],
            "type": "histogram2dcontour"
           }
          ],
          "mesh3d": [
           {
            "colorbar": {
             "outlinewidth": 0,
             "ticks": ""
            },
            "type": "mesh3d"
           }
          ],
          "parcoords": [
           {
            "line": {
             "colorbar": {
              "outlinewidth": 0,
              "ticks": ""
             }
            },
            "type": "parcoords"
           }
          ],
          "pie": [
           {
            "automargin": true,
            "type": "pie"
           }
          ],
          "scatter": [
           {
            "fillpattern": {
             "fillmode": "overlay",
             "size": 10,
             "solidity": 0.2
            },
            "type": "scatter"
           }
          ],
          "scatter3d": [
           {
            "line": {
             "colorbar": {
              "outlinewidth": 0,
              "ticks": ""
             }
            },
            "marker": {
             "colorbar": {
              "outlinewidth": 0,
              "ticks": ""
             }
            },
            "type": "scatter3d"
           }
          ],
          "scattercarpet": [
           {
            "marker": {
             "colorbar": {
              "outlinewidth": 0,
              "ticks": ""
             }
            },
            "type": "scattercarpet"
           }
          ],
          "scattergeo": [
           {
            "marker": {
             "colorbar": {
              "outlinewidth": 0,
              "ticks": ""
             }
            },
            "type": "scattergeo"
           }
          ],
          "scattergl": [
           {
            "marker": {
             "colorbar": {
              "outlinewidth": 0,
              "ticks": ""
             }
            },
            "type": "scattergl"
           }
          ],
          "scattermapbox": [
           {
            "marker": {
             "colorbar": {
              "outlinewidth": 0,
              "ticks": ""
             }
            },
            "type": "scattermapbox"
           }
          ],
          "scatterpolar": [
           {
            "marker": {
             "colorbar": {
              "outlinewidth": 0,
              "ticks": ""
             }
            },
            "type": "scatterpolar"
           }
          ],
          "scatterpolargl": [
           {
            "marker": {
             "colorbar": {
              "outlinewidth": 0,
              "ticks": ""
             }
            },
            "type": "scatterpolargl"
           }
          ],
          "scatterternary": [
           {
            "marker": {
             "colorbar": {
              "outlinewidth": 0,
              "ticks": ""
             }
            },
            "type": "scatterternary"
           }
          ],
          "surface": [
           {
            "colorbar": {
             "outlinewidth": 0,
             "ticks": ""
            },
            "colorscale": [
             [
              0,
              "#0d0887"
             ],
             [
              0.1111111111111111,
              "#46039f"
             ],
             [
              0.2222222222222222,
              "#7201a8"
             ],
             [
              0.3333333333333333,
              "#9c179e"
             ],
             [
              0.4444444444444444,
              "#bd3786"
             ],
             [
              0.5555555555555556,
              "#d8576b"
             ],
             [
              0.6666666666666666,
              "#ed7953"
             ],
             [
              0.7777777777777778,
              "#fb9f3a"
             ],
             [
              0.8888888888888888,
              "#fdca26"
             ],
             [
              1,
              "#f0f921"
             ]
            ],
            "type": "surface"
           }
          ],
          "table": [
           {
            "cells": {
             "fill": {
              "color": "#EBF0F8"
             },
             "line": {
              "color": "white"
             }
            },
            "header": {
             "fill": {
              "color": "#C8D4E3"
             },
             "line": {
              "color": "white"
             }
            },
            "type": "table"
           }
          ]
         },
         "layout": {
          "annotationdefaults": {
           "arrowcolor": "#2a3f5f",
           "arrowhead": 0,
           "arrowwidth": 1
          },
          "autotypenumbers": "strict",
          "coloraxis": {
           "colorbar": {
            "outlinewidth": 0,
            "ticks": ""
           }
          },
          "colorscale": {
           "diverging": [
            [
             0,
             "#8e0152"
            ],
            [
             0.1,
             "#c51b7d"
            ],
            [
             0.2,
             "#de77ae"
            ],
            [
             0.3,
             "#f1b6da"
            ],
            [
             0.4,
             "#fde0ef"
            ],
            [
             0.5,
             "#f7f7f7"
            ],
            [
             0.6,
             "#e6f5d0"
            ],
            [
             0.7,
             "#b8e186"
            ],
            [
             0.8,
             "#7fbc41"
            ],
            [
             0.9,
             "#4d9221"
            ],
            [
             1,
             "#276419"
            ]
           ],
           "sequential": [
            [
             0,
             "#0d0887"
            ],
            [
             0.1111111111111111,
             "#46039f"
            ],
            [
             0.2222222222222222,
             "#7201a8"
            ],
            [
             0.3333333333333333,
             "#9c179e"
            ],
            [
             0.4444444444444444,
             "#bd3786"
            ],
            [
             0.5555555555555556,
             "#d8576b"
            ],
            [
             0.6666666666666666,
             "#ed7953"
            ],
            [
             0.7777777777777778,
             "#fb9f3a"
            ],
            [
             0.8888888888888888,
             "#fdca26"
            ],
            [
             1,
             "#f0f921"
            ]
           ],
           "sequentialminus": [
            [
             0,
             "#0d0887"
            ],
            [
             0.1111111111111111,
             "#46039f"
            ],
            [
             0.2222222222222222,
             "#7201a8"
            ],
            [
             0.3333333333333333,
             "#9c179e"
            ],
            [
             0.4444444444444444,
             "#bd3786"
            ],
            [
             0.5555555555555556,
             "#d8576b"
            ],
            [
             0.6666666666666666,
             "#ed7953"
            ],
            [
             0.7777777777777778,
             "#fb9f3a"
            ],
            [
             0.8888888888888888,
             "#fdca26"
            ],
            [
             1,
             "#f0f921"
            ]
           ]
          },
          "colorway": [
           "#636efa",
           "#EF553B",
           "#00cc96",
           "#ab63fa",
           "#FFA15A",
           "#19d3f3",
           "#FF6692",
           "#B6E880",
           "#FF97FF",
           "#FECB52"
          ],
          "font": {
           "color": "#2a3f5f"
          },
          "geo": {
           "bgcolor": "white",
           "lakecolor": "white",
           "landcolor": "#E5ECF6",
           "showlakes": true,
           "showland": true,
           "subunitcolor": "white"
          },
          "hoverlabel": {
           "align": "left"
          },
          "hovermode": "closest",
          "mapbox": {
           "style": "light"
          },
          "paper_bgcolor": "white",
          "plot_bgcolor": "#E5ECF6",
          "polar": {
           "angularaxis": {
            "gridcolor": "white",
            "linecolor": "white",
            "ticks": ""
           },
           "bgcolor": "#E5ECF6",
           "radialaxis": {
            "gridcolor": "white",
            "linecolor": "white",
            "ticks": ""
           }
          },
          "scene": {
           "xaxis": {
            "backgroundcolor": "#E5ECF6",
            "gridcolor": "white",
            "gridwidth": 2,
            "linecolor": "white",
            "showbackground": true,
            "ticks": "",
            "zerolinecolor": "white"
           },
           "yaxis": {
            "backgroundcolor": "#E5ECF6",
            "gridcolor": "white",
            "gridwidth": 2,
            "linecolor": "white",
            "showbackground": true,
            "ticks": "",
            "zerolinecolor": "white"
           },
           "zaxis": {
            "backgroundcolor": "#E5ECF6",
            "gridcolor": "white",
            "gridwidth": 2,
            "linecolor": "white",
            "showbackground": true,
            "ticks": "",
            "zerolinecolor": "white"
           }
          },
          "shapedefaults": {
           "line": {
            "color": "#2a3f5f"
           }
          },
          "ternary": {
           "aaxis": {
            "gridcolor": "white",
            "linecolor": "white",
            "ticks": ""
           },
           "baxis": {
            "gridcolor": "white",
            "linecolor": "white",
            "ticks": ""
           },
           "bgcolor": "#E5ECF6",
           "caxis": {
            "gridcolor": "white",
            "linecolor": "white",
            "ticks": ""
           }
          },
          "title": {
           "x": 0.05
          },
          "xaxis": {
           "automargin": true,
           "gridcolor": "white",
           "linecolor": "white",
           "ticks": "",
           "title": {
            "standoff": 15
           },
           "zerolinecolor": "white",
           "zerolinewidth": 2
          },
          "yaxis": {
           "automargin": true,
           "gridcolor": "white",
           "linecolor": "white",
           "ticks": "",
           "title": {
            "standoff": 15
           },
           "zerolinecolor": "white",
           "zerolinewidth": 2
          }
         }
        }
       }
      }
     },
     "metadata": {},
     "output_type": "display_data"
    }
   ],
   "source": [
    "from plotly import graph_objects as go\n",
    "\n",
    "fig = go.Figure()\n",
    "fig.add_trace(go.Bar(\n",
    "    x=grouped[sensitive_variable].unique(),\n",
    "    y=[summaries[0]['avg'][c] for c in grouped[sensitive_variable].unique()], \n",
    "    name='Negative',\n",
    "    error_y={\n",
    "        'type':'data',\n",
    "        'symmetric': False, \n",
    "        'array': [summaries[0]['max'][c] - summaries[0]['avg'][c] for c in grouped[sensitive_variable].unique()], \n",
    "        'arrayminus': [summaries[0]['min'][c] for c in grouped[sensitive_variable].unique()], \n",
    "\n",
    "    }\n",
    "))\n",
    "\n",
    "fig.add_trace(go.Bar(\n",
    "    x=grouped[sensitive_variable].unique(),\n",
    "    y=[summaries[1]['avg'][c] for c in grouped[sensitive_variable].unique()], \n",
    "    name='Positive',\n",
    "    error_y={\n",
    "        'type':'data',\n",
    "        'symmetric': False, \n",
    "        'array': [summaries[1]['max'][c] - summaries[1]['avg'][c] for c in grouped[sensitive_variable].unique()], \n",
    "        'arrayminus': [summaries[1]['min'][c] for c in grouped[sensitive_variable].unique()], \n",
    "\n",
    "    }\n",
    "))\n",
    "\n"
   ]
  },
  {
   "cell_type": "code",
   "execution_count": null,
   "metadata": {},
   "outputs": [],
   "source": []
  }
 ],
 "metadata": {
  "kernelspec": {
   "display_name": "spark_env",
   "language": "python",
   "name": "python3"
  },
  "language_info": {
   "codemirror_mode": {
    "name": "ipython",
    "version": 3
   },
   "file_extension": ".py",
   "mimetype": "text/x-python",
   "name": "python",
   "nbconvert_exporter": "python",
   "pygments_lexer": "ipython3",
   "version": "3.8.15 (default, Nov 24 2022, 15:19:38) \n[GCC 11.2.0]"
  },
  "orig_nbformat": 4,
  "vscode": {
   "interpreter": {
    "hash": "bac5f9a12ce42e3ce4a716d69b8738cd831a51d5f24bd9d0d377d51220bf4645"
   }
  }
 },
 "nbformat": 4,
 "nbformat_minor": 2
}
