{
 "cells": [
  {
   "cell_type": "code",
   "execution_count": 44,
   "metadata": {},
   "outputs": [
    {
     "name": "stderr",
     "output_type": "stream",
     "text": [
      "2023/03/09 19:24:25 INFO mlflow.tracking.fluent: Experiment with name 'test2' does not exist. Creating a new experiment.\n"
     ]
    },
    {
     "data": {
      "text/plain": [
       "'file:///storage/projects/notes/machine-learning/mlruns'"
      ]
     },
     "execution_count": 44,
     "metadata": {},
     "output_type": "execute_result"
    }
   ],
   "source": [
    "import os\n",
    "from pathlib import Path\n",
    "import mlflow\n",
    "\n",
    "\n",
    "mlflow.set_experiment(experiment_name='test2')\n",
    "\n",
    "mlflow.get_tracking_uri()"
   ]
  },
  {
   "cell_type": "code",
   "execution_count": 45,
   "metadata": {},
   "outputs": [],
   "source": [
    "import model_card_toolkit as mctlib"
   ]
  },
  {
   "cell_type": "code",
   "execution_count": 46,
   "metadata": {},
   "outputs": [],
   "source": [
    "with mlflow.start_run():\n",
    "    mct = mctlib.ModelCardToolkit()\n",
    "    model_card = mct.scaffold_assets()\n",
    "    model_card.model_details.name = 'Fine-tuned MobileNetV2 Model for Cats vs. Dogs'\n",
    "    model_card.model_details.overview = (\n",
    "        'This model distinguishes cat and dog images. It uses the MobileNetV2 '\n",
    "        'architecture (https://arxiv.org/abs/1801.04381) and is trained on the '\n",
    "        'Cats vs Dogs dataset '\n",
    "        '(https://www.tensorflow.org/datasets/catalog/cats_vs_dogs). This model '\n",
    "        'performed with high accuracy on both Cat and Dog images.'\n",
    "    )\n",
    "    model_card.model_details.owners = [\n",
    "    mctlib.Owner(name='Model Cards Team', contact='model-cards@google.com')\n",
    "    ]\n",
    "    model_card.model_details.version = mctlib.Version(name='v1.0', date='08/28/2020')\n",
    "    model_card.model_details.references = [\n",
    "        mctlib.Reference(reference='https://www.tensorflow.org/guide/keras/transfer_learning'),\n",
    "        mctlib.Reference(reference='https://arxiv.org/abs/1801.04381'),\n",
    "    ]\n",
    "    model_card.model_details.licenses = [mctlib.License(identifier='Apache-2.0')]\n",
    "    model_card.model_details.citations = [mctlib.Citation(citation='https://github.com/tensorflow/model-card-toolkit/blob/master/model_card_toolkit/documentation/examples/Standalone_Model_Card_Toolkit_Demo.ipynb')] \n",
    "\n",
    "    html_doc = mct.export_format()\n",
    "    mct.update_model_card(model_card)\n",
    "    with open('model_card.html', 'w') as f:\n",
    "        f.write(html_doc)\n",
    "\n",
    "    mlflow.log_artifact(\"./model_card.html\")\n",
    "\n",
    "    # mlflow.log_artifact('model_card', mct.export_format())\n",
    "    mlflow.log_param('test2', 0)"
   ]
  },
  {
   "cell_type": "code",
   "execution_count": 37,
   "metadata": {},
   "outputs": [],
   "source": [
    "from IPython.display import HTML\n",
    "\n"
   ]
  },
  {
   "cell_type": "code",
   "execution_count": null,
   "metadata": {},
   "outputs": [],
   "source": []
  }
 ],
 "metadata": {
  "kernelspec": {
   "display_name": "mlflow_env",
   "language": "python",
   "name": "python3"
  },
  "language_info": {
   "codemirror_mode": {
    "name": "ipython",
    "version": 3
   },
   "file_extension": ".py",
   "mimetype": "text/x-python",
   "name": "python",
   "nbconvert_exporter": "python",
   "pygments_lexer": "ipython3",
   "version": "3.8.16"
  },
  "orig_nbformat": 4,
  "vscode": {
   "interpreter": {
    "hash": "d4bfad64bd9aab17040762e2646407c8a32fe29ed5ac8f9c85943867820978e1"
   }
  }
 },
 "nbformat": 4,
 "nbformat_minor": 2
}
