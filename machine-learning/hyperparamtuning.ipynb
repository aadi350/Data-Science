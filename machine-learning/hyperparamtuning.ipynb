{
 "cells": [
  {
   "cell_type": "markdown",
   "metadata": {},
   "source": [
    "# XGBoost, Imbalanced Classification and Hyperopt "
   ]
  },
  {
   "cell_type": "markdown",
   "metadata": {},
   "source": [
    "This is a tutorial/explanation of how to set up XGBoost for imbalanced classification while tuning for imbalanced data.  \n",
    "\n",
    "There are three main sections:\n",
    "1. Hyperopt/Bayesian Hyperparameter Tuning\n",
    "2. Focal and Crossentropy losses\n",
    "3. XGBoost Parameter Meanings\n",
    "\n",
    "(references are dropped as-needed)"
   ]
  },
  {
   "cell_type": "markdown",
   "metadata": {},
   "source": [
    "# Hyperopt  \n",
    "\n",
    "The `hyperopt` package is associated with [Bergstra et. al.](http://proceedings.mlr.press/v28/bergstra13.pdf). The authors argued that the performance of a given model depends both on the fundamental quality of the algorithm as well as details of its tuning (also known as its *hyper-parameters*). \n",
    "\n",
    "\n",
    "For the unitiated, if we have some dataset `X, y` and we train a model on it:"
   ]
  },
  {
   "cell_type": "code",
   "execution_count": null,
   "metadata": {},
   "outputs": [],
   "source": [
    "from sklearn.linear_model import ElasticNet \n",
    "\n",
    "X = np.expand_dims(np.arange(0, 100, 1), -1)\n",
    "y = 2*X + 1\n",
    "\n",
    "lr = ElasticNet(alpha=0.5)\n",
    "\n",
    "lr.fit(X, y)"
   ]
  },
  {
   "cell_type": "markdown",
   "metadata": {},
   "source": [
    "The hyper-parameters are \"meta\" parameters which control the training process:"
   ]
  },
  {
   "cell_type": "code",
   "execution_count": null,
   "metadata": {},
   "outputs": [],
   "source": [
    "lr.get_params() # returns hyper-parameters"
   ]
  },
  {
   "cell_type": "markdown",
   "metadata": {},
   "source": [
    "while parameters are (e.g. in this case) model coefficients"
   ]
  },
  {
   "cell_type": "code",
   "execution_count": null,
   "metadata": {},
   "outputs": [],
   "source": [
    "lr.coef_, lr.intercept_ # returns parameters"
   ]
  },
  {
   "cell_type": "markdown",
   "metadata": {},
   "source": [
    "The authors of [Bergstra et. al.](http://proceedings.mlr.press/v28/bergstra13.pdf) proposed an optimization algorithm which transformed the underlying expression graph of how a performance metric is computed from hyper-parameters.\n",
    "\n",
    "The idea (in a **very** summarized manner), is to take as inputs, the null prior and an experimental history of $H$ values of the loss function, and returns suggestions for which configurations to try next. Random sampling from the prior is taken as valid, and was shown to significantly increase model performance in vision-related tasks \n",
    "\n",
    "The accompanying package which implements much of these ideas is [hyperopt](https://hyperopt.github.io/hyperopt/). \n",
    "\n",
    "The basic steps to set this up is as follows:"
   ]
  },
  {
   "cell_type": "code",
   "execution_count": null,
   "metadata": {},
   "outputs": [],
   "source": [
    "# STEP 1: define a search space\n",
    "SPACE = {\n",
    "    'param1': hp.uniform('param1', 0, 1),\n",
    "    'param2': hp.choice('param2', ['option1', 'option2']),\n",
    "    # and so on\n",
    "}\n",
    "\n",
    "# STEP 2: define an objective function\n",
    "def objective(params):\n",
    "\n",
    "    # do some computation and evaluation here\n",
    "\n",
    "    loss: float # compute some loss\n",
    "    return {'loss': loss, 'status': STATUS_OK}\n",
    "\n",
    "# STEP 3: evaluate the search space\n",
    "\n",
    "best_hyperparams = fmin(\n",
    "    fn=objective,\n",
    "    max_evals=5, \n",
    "    space=SPACE,\n",
    "    algo=tpe.suggest,\n",
    "    trials=Trials()\n",
    ")"
   ]
  },
  {
   "cell_type": "markdown",
   "metadata": {},
   "source": [
    "The above needs some heavy explanation, so let's break this down:\n",
    "\n",
    "### Search Space\n",
    "This is a dictionary of parameters that are used as the inputs to the optimization. Each parameter is randomly sampled (like statistic random, not \"completely undefined\" random) from some domain. `hyperopt` provides [multiple methods](https://hyperopt.github.io/hyperopt/getting-started/search_spaces/) for generating these values, but the ones I used the most are as follows:\n",
    "\n",
    "`hp.choice(label, options)`  \n",
    "Gives a random choice from a list of options  \n",
    "\n",
    "`hp.uniform(label, low, high)`  \n",
    "Uniform float in the bounded range inclusive\n",
    "\n",
    "\n",
    "The `label` parameter is used to to retrieve the value from the output  \n",
    "\n",
    "### Objective Function\n",
    "This takes in a single argument (in this case a dictionary), does some computation and returns a loss. This function must return a single dictionary with EXACTLY two entries: loss and status.\n",
    "\n",
    "### Algorithm\n",
    "This is the novelty proposed in the paper. In the above I use the tree of parzen estimators (TPE), while RandomSearch and Adaptive TPE are also available\n",
    "\n",
    "### Trials\n",
    "Finally, this object simply stores a list of all the parameters at a given run along with the run counter  \n"
   ]
  },
  {
   "cell_type": "code",
   "execution_count": 3,
   "metadata": {},
   "outputs": [
    {
     "name": "stdout",
     "output_type": "stream",
     "text": [
      "params:                                              \n",
      "{'param1': 'a', 'param2': 0.1292582357515779}        \n",
      "params:                                              \n",
      "{'param1': 'b', 'param2': 0.4778423756288549}                    \n",
      "params:                                                          \n",
      "{'param1': 'b', 'param2': 0.025131981759641153}                  \n",
      "params:                                                          \n",
      "{'param1': 'a', 'param2': 0.6118336123855543}                    \n",
      "params:                                                          \n",
      "{'param1': 'a', 'param2': 0.9059446777046133}                    \n",
      "100%|██████████| 5/5 [00:00<00:00, 269.84trial/s, best loss: inf]\n"
     ]
    },
    {
     "data": {
      "text/plain": [
       "{'param1': 0, 'param2': 0.1292582357515779}"
      ]
     },
     "execution_count": 3,
     "metadata": {},
     "output_type": "execute_result"
    }
   ],
   "source": [
    "# a dummy example showing how parameters are chosen to minimize loss\n",
    "\n",
    "from hyperopt import STATUS_OK, Trials, fmin, hp, tpe\n",
    "\n",
    "SPACE = {\n",
    "    'param1': hp.choice('param1', ['a', 'b']),\n",
    "    'param2': hp.uniform('param2', 0, 1)\n",
    "}\n",
    "\n",
    "# some \"computation\" which changes our loss\n",
    "def objective(params):\n",
    "    loss = float('Inf')\n",
    "\n",
    "    print('params: ', params) # to show choices\n",
    "\n",
    "    if params['param1']  == 'a':\n",
    "        loss += 3\n",
    "    elif params['param1'] == 'b':\n",
    "        loss += 1\n",
    "\n",
    "    if params['param2'] < 0.5:\n",
    "        loss += 1\n",
    "    if params['param2'] >= 0.5:\n",
    "        loss += 2\n",
    "\n",
    "    return {'loss': loss, 'status': STATUS_OK}\n",
    "\n",
    "trials = Trials()\n",
    "fmin(\n",
    "    fn=objective,\n",
    "    space=SPACE,\n",
    "    max_evals=5,\n",
    "    algo=tpe.suggest,\n",
    "    trials=trials\n",
    ")"
   ]
  },
  {
   "cell_type": "markdown",
   "metadata": {},
   "source": [
    "# Imbalanced Learning \n",
    "\n",
    "[Wang et. al](https://arxiv.org/pdf/1908.01672.pdf) proposed modification to the [original XGBoost](https://cran.microsoft.com/snapshot/2017-12-11/web/packages/xgboost/vignettes/xgboost.pdf) algorithm, by modification of the loss-function. Concretely, two losses were proposed as follows:\n",
    "\n",
    "Weighted Crossentropy:  \n",
    "$$\n",
    "L_w = -\\sum_{i=1}^m \\left(\\alpha y_i \\log(\\hat{y_i}) +  (1-y_i)\\log(1-\\hat{y_i})\\right)\n",
    "$$\n",
    "\n",
    "if α is greater than 1, extra loss will be counted on ’classifying\n",
    "1 as 0’; On the other hand, if α is less than 1, the loss function will weight relatively more on whether data points with\n",
    "label 0 are correctly identified\n",
    "\n",
    "and\n",
    "\n",
    "Focal Loss:  \n",
    "$$\n",
    "L_f = -\\sum_{i=1}^m y_i (1-\\hat{y_i})^\\gamma \\log(\\hat{y_i}) + (1-y_i)\\hat{y_i}^\\gamma \\log(1-\\hat{y}_i)\n",
    "$$\n",
    "\n",
    "If $\\gamma=0$, the above becomes regular crossentropy. The paper goes into more detail on the first and second-order derivatives (since XGBoost does not implement autodif), and how it is integrated into the algorithm. \n",
    "\n",
    "The main focus of both of the above losses is in weighting misclassification of the minority class more heavily than misclassification of the majority class. \n",
    "\n",
    "*Calling a 0 a 1 is penalized less than calling a 1 a 0 if we have substantially more 0's than 1's*  \n",
    "\n",
    "The authors of the paper implemented these loss functions in [imbalance-xgboost](https://github.com/jhwjhw0123/Imbalance-XGBoost). We will not be using the entire library (since it masks too many moving parts behind high-level interfaces for my liking), but we will borrow their implementation of the Weighted Crossentropy and Focal losses:\n",
    "\n"
   ]
  },
  {
   "cell_type": "code",
   "execution_count": 5,
   "metadata": {},
   "outputs": [],
   "source": [
    "# credit to https://github.com/jhwjhw0123/Imbalance-XGBoost\n",
    "\n",
    "class Weight_Binary_Cross_Entropy:\n",
    "    '''\n",
    "    The class of binary cross entropy loss, allows the users to change the weight parameter\n",
    "    '''\n",
    "\n",
    "    def __init__(self, imbalance_alpha):\n",
    "        '''\n",
    "        :param imbalance_alpha: the imbalanced \\alpha value for the minority class (label as '1')\n",
    "        '''\n",
    "        self.imbalance_alpha = imbalance_alpha\n",
    "\n",
    "    def weighted_binary_cross_entropy(self, pred, dtrain):\n",
    "        # assign the value of imbalanced alpha\n",
    "        imbalance_alpha = self.imbalance_alpha\n",
    "        # retrieve data from dtrain matrix\n",
    "        label = dtrain.get_label()\n",
    "        # compute the prediction with sigmoid\n",
    "        sigmoid_pred = 1.0 / (1.0 + np.exp(-pred))\n",
    "        # gradient\n",
    "        grad = -(imbalance_alpha ** label) * (label - sigmoid_pred)\n",
    "        hess = (imbalance_alpha ** label) * sigmoid_pred * (1.0 - sigmoid_pred)\n",
    "\n",
    "        return grad, hess\n",
    "      \n",
    "      \n",
    "class Focal_Binary_Loss:\n",
    "    '''\n",
    "    The class of focal loss, allows the users to change the gamma parameter\n",
    "    '''\n",
    "\n",
    "    def __init__(self, gamma_indct):\n",
    "        '''\n",
    "        :param gamma_indct: The parameter to specify the gamma indicator\n",
    "        '''\n",
    "        self.gamma_indct = gamma_indct\n",
    "\n",
    "    def robust_pow(self, num_base, num_pow):\n",
    "        # numpy does not permit negative numbers to fractional power\n",
    "        # use this to perform the power algorithmic\n",
    "\n",
    "        return np.sign(num_base) * (np.abs(num_base)) ** (num_pow)\n",
    "\n",
    "    def focal_binary_object(self, pred, dtrain):\n",
    "        gamma_indct = self.gamma_indct\n",
    "        # retrieve data from dtrain matrix\n",
    "        label = dtrain.get_label()\n",
    "        # compute the prediction with sigmoid\n",
    "        sigmoid_pred = 1.0 / (1.0 + np.exp(-pred))\n",
    "        # gradient\n",
    "        # complex gradient with different parts\n",
    "        g1 = sigmoid_pred * (1 - sigmoid_pred)\n",
    "        g2 = label + ((-1) ** label) * sigmoid_pred\n",
    "        g3 = sigmoid_pred + label - 1\n",
    "        g4 = 1 - label - ((-1) ** label) * sigmoid_pred\n",
    "        g5 = label + ((-1) ** label) * sigmoid_pred\n",
    "        # combine the gradient\n",
    "        grad = gamma_indct * g3 * self.robust_pow(g2, gamma_indct) * np.log(g4 + 1e-9) + \\\n",
    "               ((-1) ** label) * self.robust_pow(g5, (gamma_indct + 1))\n",
    "        # combine the gradient parts to get hessian components\n",
    "        hess_1 = self.robust_pow(g2, gamma_indct) + \\\n",
    "                 gamma_indct * ((-1) ** label) * g3 * self.robust_pow(g2, (gamma_indct - 1))\n",
    "        hess_2 = ((-1) ** label) * g3 * self.robust_pow(g2, gamma_indct) / g4\n",
    "        # get the final 2nd order derivative\n",
    "        hess = ((hess_1 * np.log(g4 + 1e-9) - hess_2) * gamma_indct +\n",
    "                (gamma_indct + 1) * self.robust_pow(g5, gamma_indct)) * g1\n",
    "\n",
    "        return grad, hess"
   ]
  },
  {
   "cell_type": "markdown",
   "metadata": {},
   "source": [
    "# Application to XGBoost\n",
    "\n",
    "Finally, we will combine the Bayesian `hyperopt` with the imbalanced losses and apply these to a theoretical imbalanced dataset. Before this however, we need some clarity on the `xgb` parameters:\n",
    "\n",
    "`booster`  \n",
    "This determines which booster to use, can be `gbtree`, `gblinear` or `dart`. `gbtree` drops trees in order to solve over-fitting, and actually inherits from `gbtree`. This booster combines a large amount of regression trees with a small learning rate. \n",
    "\n",
    "`eta`  \n",
    "This is learning rate, or how much influence the newly updated gradients affect old parameters. It reduces the influence of each individual tree and leaves space for future trees to improve the model\n",
    "\n",
    "`gamma`   \n",
    "This is the minimum loss reduction required to further partition on a leaf node (larger gamma means more underfitting)\n",
    "\n",
    "`max_depth`   \n",
    "`0` is a no-limit. In this case, this controls how deep a single decision tree is allowed to branch in any update step  \n",
    "\n",
    "`subsample`  \n",
    "This is borrowed from RandomForest, and prevents over-fitting by randomly subsampling columns to use/not-used, whilst also speeding up computations. \n",
    "\n",
    "`lambda` and `alpha`  \n",
    "L2 and L1 regularization \n",
    "\n",
    "`tree_method`   \n",
    "The ones you most commonly would use on large data are `approx` and `hist` (or if you have a GPU `gpu_hist`)\n",
    "\n",
    "`scale_pos_weight`   \n",
    "This works in tandem with the imbalanced losses to upscale the penalty of misclassifying minority classes. Typically set to the number of negative instances over the number of positive instances. \n",
    "\n",
    "Another keyword argument that we will also use is `feval` which allows specification of a custom evaluation metric (in our case we use a customized `f1` score)  \n",
    "\n",
    "Finally, we use `opt` to pass in our custom objective functions"
   ]
  },
  {
   "cell_type": "markdown",
   "metadata": {},
   "source": [
    "Okay let's put this all together:\n",
    "\n"
   ]
  },
  {
   "cell_type": "code",
   "execution_count": 6,
   "metadata": {},
   "outputs": [],
   "source": [
    "# some toy data \n",
    "from sklearn.datasets import make_moons\n",
    "X_train, y_train = make_moons(n_samples=200, shuffle=True, noise=0.5, random_state=10)\n",
    "X_test, y_test = make_moons(n_samples=200, shuffle=True, noise=0.5, random_state=10)\n",
    "\n",
    "dtrain = xgb.DMatrix(X_train, y_train)\n",
    "dtest = xgb.DMatrix(X_test, y_test)"
   ]
  },
  {
   "cell_type": "code",
   "execution_count": 7,
   "metadata": {},
   "outputs": [],
   "source": [
    "# custom f1 evaluation metric\n",
    "from sklearn.metrics import f1_score\n",
    "\n",
    "# f1 evaluating score for XGBoost\n",
    "def f1_eval(y_pred, dtrain):\n",
    "    y_true = dtrain.get_label()\n",
    "    \n",
    "    y_pred[y_pred < 0.20] = 0\n",
    "    y_pred[y_pred > 0.20] = 1\n",
    "    \n",
    "    err = 1-skmetrics.f1_score(y_true, np.round(y_pred))\n",
    "    return 'f1_err', err"
   ]
  },
  {
   "cell_type": "code",
   "execution_count": 16,
   "metadata": {},
   "outputs": [
    {
     "name": "stdout",
     "output_type": "stream",
     "text": [
      "[17:50:54] WARNING: /tmp/abs_40obctay9q/croots/recipe/xgboost-split_1659548945886/work/src/learner.cc:576: \n",
      "Parameters: { \"max_depth\", \"min_child_weight\", \"min_split_loss\", \"num_parallel_tree\", \"subsample\", \"tree_method\" } might not be used.\n",
      "\n",
      "  This could be a false alarm, with some parameters getting used by language bindings but\n",
      "  then being mistakenly passed down to XGBoost core, or some parameter actually being used\n",
      "  but getting flagged wrongly here. Please open an issue if you find any such cases.\n",
      "\n",
      "\n",
      "[17:50:54] WARNING: /tmp/abs_40obctay9q/croots/recipe/xgboost-split_1659548945886/work/src/learner.cc:576: \n",
      "Parameters: { \"max_depth\", \"min_child_weight\", \"min_split_loss\", \"num_parallel_tree\", \"subsample\", \"tree_method\" } might not be used.\n",
      "\n",
      "  This could be a false alarm, with some parameters getting used by language bindings but\n",
      "  then being mistakenly passed down to XGBoost core, or some parameter actually being used\n",
      "  but getting flagged wrongly here. Please open an issue if you find any such cases.\n",
      "\n",
      "\n",
      "[17:50:54] WARNING: /tmp/abs_40obctay9q/croots/recipe/xgboost-split_1659548945886/work/src/learner.cc:576: \n",
      "Parameters: { \"max_depth\", \"min_child_weight\", \"min_split_loss\", \"num_parallel_tree\", \"subsample\", \"tree_method\" } might not be used.\n",
      "\n",
      "  This could be a false alarm, with some parameters getting used by language bindings but\n",
      "  then being mistakenly passed down to XGBoost core, or some parameter actually being used\n",
      "  but getting flagged wrongly here. Please open an issue if you find any such cases.\n",
      "\n",
      "\n",
      "[17:50:54] WARNING: /tmp/abs_40obctay9q/croots/recipe/xgboost-split_1659548945886/work/src/learner.cc:576: \n",
      "Parameters: { \"max_depth\", \"min_child_weight\", \"min_split_loss\", \"num_parallel_tree\", \"subsample\", \"tree_method\" } might not be used.\n",
      "\n",
      "  This could be a false alarm, with some parameters getting used by language bindings but\n",
      "  then being mistakenly passed down to XGBoost core, or some parameter actually being used\n",
      "  but getting flagged wrongly here. Please open an issue if you find any such cases.\n",
      "\n",
      "\n",
      "[17:50:54] WARNING: /tmp/abs_40obctay9q/croots/recipe/xgboost-split_1659548945886/work/src/learner.cc:576: \n",
      "Parameters: { \"max_depth\", \"min_child_weight\", \"min_split_loss\", \"num_parallel_tree\", \"subsample\", \"tree_method\" } might not be used.\n",
      "\n",
      "  This could be a false alarm, with some parameters getting used by language bindings but\n",
      "  then being mistakenly passed down to XGBoost core, or some parameter actually being used\n",
      "  but getting flagged wrongly here. Please open an issue if you find any such cases.\n",
      "\n",
      "\n",
      "[17:50:54] WARNING: /tmp/abs_40obctay9q/croots/recipe/xgboost-split_1659548945886/work/src/learner.cc:576: \n",
      "Parameters: { \"max_depth\", \"min_child_weight\", \"min_split_loss\", \"num_parallel_tree\", \"subsample\", \"tree_method\" } might not be used.\n",
      "\n",
      "  This could be a false alarm, with some parameters getting used by language bindings but\n",
      "  then being mistakenly passed down to XGBoost core, or some parameter actually being used\n",
      "  but getting flagged wrongly here. Please open an issue if you find any such cases.\n",
      "\n",
      "\n",
      "[17:50:55] WARNING: /tmp/abs_40obctay9q/croots/recipe/xgboost-split_1659548945886/work/src/learner.cc:576: \n",
      "Parameters: { \"max_depth\", \"min_child_weight\", \"min_split_loss\", \"num_parallel_tree\", \"subsample\", \"tree_method\" } might not be used.\n",
      "\n",
      "  This could be a false alarm, with some parameters getting used by language bindings but\n",
      "  then being mistakenly passed down to XGBoost core, or some parameter actually being used\n",
      "  but getting flagged wrongly here. Please open an issue if you find any such cases.\n",
      "\n",
      "\n",
      "[17:50:55] WARNING: /tmp/abs_40obctay9q/croots/recipe/xgboost-split_1659548945886/work/src/learner.cc:576: \n",
      "Parameters: { \"max_depth\", \"min_child_weight\", \"min_split_loss\", \"num_parallel_tree\", \"subsample\", \"tree_method\" } might not be used.\n",
      "\n",
      "  This could be a false alarm, with some parameters getting used by language bindings but\n",
      "  then being mistakenly passed down to XGBoost core, or some parameter actually being used\n",
      "  but getting flagged wrongly here. Please open an issue if you find any such cases.\n",
      "\n",
      "\n",
      "[17:50:56] WARNING: /tmp/abs_40obctay9q/croots/recipe/xgboost-split_1659548945886/work/src/learner.cc:576: \n",
      "Parameters: { \"max_depth\", \"min_child_weight\", \"min_split_loss\", \"num_parallel_tree\", \"subsample\", \"tree_method\" } might not be used.\n",
      "\n",
      "  This could be a false alarm, with some parameters getting used by language bindings but\n",
      "  then being mistakenly passed down to XGBoost core, or some parameter actually being used\n",
      "  but getting flagged wrongly here. Please open an issue if you find any such cases.\n",
      "\n",
      "\n",
      "[17:50:56] WARNING: /tmp/abs_40obctay9q/croots/recipe/xgboost-split_1659548945886/work/src/learner.cc:576: \n",
      "Parameters: { \"max_depth\", \"min_child_weight\", \"min_split_loss\", \"num_parallel_tree\", \"subsample\", \"tree_method\" } might not be used.\n",
      "\n",
      "  This could be a false alarm, with some parameters getting used by language bindings but\n",
      "  then being mistakenly passed down to XGBoost core, or some parameter actually being used\n",
      "  but getting flagged wrongly here. Please open an issue if you find any such cases.\n",
      "\n",
      "\n",
      "[17:50:57] WARNING: /tmp/abs_40obctay9q/croots/recipe/xgboost-split_1659548945886/work/src/learner.cc:576: \n",
      "Parameters: { \"max_depth\", \"min_child_weight\", \"min_split_loss\", \"num_parallel_tree\", \"subsample\", \"tree_method\" } might not be used.\n",
      "\n",
      "  This could be a false alarm, with some parameters getting used by language bindings but\n",
      "  then being mistakenly passed down to XGBoost core, or some parameter actually being used\n",
      "  but getting flagged wrongly here. Please open an issue if you find any such cases.\n",
      "\n",
      "\n",
      "[17:50:57] WARNING: /tmp/abs_40obctay9q/croots/recipe/xgboost-split_1659548945886/work/src/learner.cc:576: \n",
      "Parameters: { \"max_depth\", \"min_child_weight\", \"min_split_loss\", \"num_parallel_tree\", \"subsample\", \"tree_method\" } might not be used.\n",
      "\n",
      "  This could be a false alarm, with some parameters getting used by language bindings but\n",
      "  then being mistakenly passed down to XGBoost core, or some parameter actually being used\n",
      "  but getting flagged wrongly here. Please open an issue if you find any such cases.\n",
      "\n",
      "\n",
      "[17:50:57] WARNING: /tmp/abs_40obctay9q/croots/recipe/xgboost-split_1659548945886/work/src/learner.cc:576: \n",
      "Parameters: { \"max_depth\", \"min_child_weight\", \"min_split_loss\", \"num_parallel_tree\", \"subsample\", \"tree_method\" } might not be used.\n",
      "\n",
      "  This could be a false alarm, with some parameters getting used by language bindings but\n",
      "  then being mistakenly passed down to XGBoost core, or some parameter actually being used\n",
      "  but getting flagged wrongly here. Please open an issue if you find any such cases.\n",
      "\n",
      "\n",
      "[17:50:57] WARNING: /tmp/abs_40obctay9q/croots/recipe/xgboost-split_1659548945886/work/src/learner.cc:576: \n",
      "Parameters: { \"max_depth\", \"min_child_weight\", \"min_split_loss\", \"num_parallel_tree\", \"subsample\", \"tree_method\" } might not be used.\n",
      "\n",
      "  This could be a false alarm, with some parameters getting used by language bindings but\n",
      "  then being mistakenly passed down to XGBoost core, or some parameter actually being used\n",
      "  but getting flagged wrongly here. Please open an issue if you find any such cases.\n",
      "\n",
      "\n",
      "[17:50:57] WARNING: /tmp/abs_40obctay9q/croots/recipe/xgboost-split_1659548945886/work/src/learner.cc:576: \n",
      "Parameters: { \"max_depth\", \"min_child_weight\", \"min_split_loss\", \"num_parallel_tree\", \"subsample\", \"tree_method\" } might not be used.\n",
      "\n",
      "  This could be a false alarm, with some parameters getting used by language bindings but\n",
      "  then being mistakenly passed down to XGBoost core, or some parameter actually being used\n",
      "  but getting flagged wrongly here. Please open an issue if you find any such cases.\n",
      "\n",
      "\n",
      "[17:50:58] WARNING: /tmp/abs_40obctay9q/croots/recipe/xgboost-split_1659548945886/work/src/learner.cc:576: \n",
      "Parameters: { \"max_depth\", \"min_child_weight\", \"min_split_loss\", \"num_parallel_tree\", \"subsample\", \"tree_method\" } might not be used.\n",
      "\n",
      "  This could be a false alarm, with some parameters getting used by language bindings but\n",
      "  then being mistakenly passed down to XGBoost core, or some parameter actually being used\n",
      "  but getting flagged wrongly here. Please open an issue if you find any such cases.\n",
      "\n",
      "\n",
      "[17:50:58] WARNING: /tmp/abs_40obctay9q/croots/recipe/xgboost-split_1659548945886/work/src/learner.cc:576: \n",
      "Parameters: { \"max_depth\", \"min_child_weight\", \"min_split_loss\", \"num_parallel_tree\", \"subsample\", \"tree_method\" } might not be used.\n",
      "\n",
      "  This could be a false alarm, with some parameters getting used by language bindings but\n",
      "  then being mistakenly passed down to XGBoost core, or some parameter actually being used\n",
      "  but getting flagged wrongly here. Please open an issue if you find any such cases.\n",
      "\n",
      "\n",
      "[17:50:58] WARNING: /tmp/abs_40obctay9q/croots/recipe/xgboost-split_1659548945886/work/src/learner.cc:576: \n",
      "Parameters: { \"max_depth\", \"min_child_weight\", \"min_split_loss\", \"num_parallel_tree\", \"subsample\", \"tree_method\" } might not be used.\n",
      "\n",
      "  This could be a false alarm, with some parameters getting used by language bindings but\n",
      "  then being mistakenly passed down to XGBoost core, or some parameter actually being used\n",
      "  but getting flagged wrongly here. Please open an issue if you find any such cases.\n",
      "\n",
      "\n",
      "[17:50:58] WARNING: /tmp/abs_40obctay9q/croots/recipe/xgboost-split_1659548945886/work/src/learner.cc:576: \n",
      "Parameters: { \"max_depth\", \"min_child_weight\", \"min_split_loss\", \"num_parallel_tree\", \"subsample\", \"tree_method\" } might not be used.\n",
      "\n",
      "  This could be a false alarm, with some parameters getting used by language bindings but\n",
      "  then being mistakenly passed down to XGBoost core, or some parameter actually being used\n",
      "  but getting flagged wrongly here. Please open an issue if you find any such cases.\n",
      "\n",
      "\n",
      "100%|██████████| 100/100 [00:04<00:00, 20.51trial/s, best loss: -0.97]\n"
     ]
    }
   ],
   "source": [
    "import numpy as np\n",
    "from sklearn.datasets import make_moons\n",
    "import xgboost as xgb\n",
    "from hyperopt import STATUS_OK, Trials, fmin, hp, tpe\n",
    "from hyperopt.pyll import scope\n",
    "\n",
    "# Step I: Define the search space\n",
    "# here is where we use hyperopt's choice to choose between Weighted Cross Entropy and the Focal loss functoin\n",
    "#    as a parameter of the optimization!\n",
    "\n",
    "wbce = Weight_Binary_Cross_Entropy(imbalance_alpha=0.5)\n",
    "weighted_ce_obj = wbce.weighted_binary_cross_entropy\n",
    "wf = Focal_Binary_Loss(0.5)\n",
    "weighted_focal_obj = wf.focal_binary_object\n",
    "\n",
    "SPACE = {\n",
    "    'n_jobs': 0, \n",
    "    'objective': 'binary:hinge',\n",
    "    'subsample': hp.uniform('subsample', 0.5, 1),\n",
    "    'min_child_weight': hp.uniform('min_child_weight', 1, 10),\n",
    "    'eta': hp.uniform('eta', 0, 1),\n",
    "    'max_depth': scope.int(hp.quniform('max_depth', 1, 12, 1)),\n",
    "    'min_split_loss': hp.uniform('min_split_loss', 0, 0.2),\n",
    "    'obj': hp.choice('obj', (weighted_ce_obj, weighted_focal_obj)), # hyperopt will sample one of these objectives\n",
    "    'num_parallel_tree': hp.choice('n_estimators', np.arange(1, 10, 1)),\n",
    "    'lambda': hp.uniform('lambda', 0, 1),\n",
    "    'alpha': hp.uniform('alpha', 0, 1),\n",
    "    'booster': hp.choice('booster', ['gbtree', 'gblinear', 'dart']),\n",
    "    'tree_method': hp.choice('tree_method', ('approx', 'hist')), \n",
    "}\n",
    "\n",
    "# Step II: Define the objective function\n",
    "def objective(space):\n",
    "\n",
    "    # this is a \"hack\" since I want to pass obj in as\n",
    "    #   a member of the search space\n",
    "    #   but treat it ALONE as a keyword argument\n",
    "    #   may increase computation time ever-so-slightly \n",
    "    params = {}\n",
    "    for k, v in space.items():\n",
    "        if k != 'obj' :\n",
    "            params[k] = v\n",
    "\n",
    "    obj = space['obj']\n",
    "\n",
    "    # train the classifier\n",
    "    booster = xgb.train(\n",
    "        params,\n",
    "        dtrain,\n",
    "        obj=obj,\n",
    "        feval=f1_eval # we also pass in a custom F1 evaluation metric here\n",
    "    )\n",
    "\n",
    "    y_pred = booster.predict(dtest)\n",
    "    y_pred[y_pred < 0.5] = 0\n",
    "    y_pred[y_pred >= 0.5] = 1\n",
    "\n",
    "    # evaluate and return\n",
    "    # note we want to maximize F1 and hence MINIMIZE NEGATIVE F1\n",
    "    return {'loss': -f1_score(y_pred, y_test), 'status': STATUS_OK}\n",
    "\n",
    "\n",
    "# Step III: Optimize! \n",
    "trials = Trials()\n",
    "best_hyperparams = fmin(\n",
    "  space=SPACE, \n",
    "  fn=objective,\n",
    "  algo=tpe.suggest,\n",
    "  max_evals=100, # this would be 100, 500 or something higher when actually optimizing\n",
    "  trials=trials\n",
    ")"
   ]
  },
  {
   "cell_type": "code",
   "execution_count": 17,
   "metadata": {},
   "outputs": [
    {
     "name": "stdout",
     "output_type": "stream",
     "text": [
      "{'alpha': 0.1490985558271541, 'booster': 0, 'eta': 0.9253667840977927, 'lambda': 0.04797837847632137, 'max_depth': 8.0, 'min_child_weight': 1.5191535389428135, 'min_split_loss': 0.14374170690472327, 'n_estimators': 5, 'obj': 0, 'subsample': 0.986953635736163, 'tree_method': 1}\n"
     ]
    }
   ],
   "source": [
    "# we can get the best_parameters:\n",
    "print(best_hyperparams)"
   ]
  },
  {
   "cell_type": "markdown",
   "metadata": {},
   "source": [
    "We can also plot how the F1 score varied with any of our hyperparameters:  "
   ]
  },
  {
   "cell_type": "code",
   "execution_count": 30,
   "metadata": {},
   "outputs": [
    {
     "data": {
      "application/vnd.plotly.v1+json": {
       "config": {
        "plotlyServerURL": "https://plot.ly"
       },
       "data": [
        {
         "mode": "markers",
         "type": "scatter",
         "x": [
          0,
          1,
          2,
          3,
          4,
          5,
          6,
          7,
          8,
          9,
          10,
          11,
          12,
          13,
          14,
          15,
          16,
          17,
          18,
          19,
          20,
          21,
          22,
          23,
          24,
          25,
          26,
          27,
          28,
          29,
          30,
          31,
          32,
          33,
          34,
          35,
          36,
          37,
          38,
          39,
          40,
          41,
          42,
          43,
          44,
          45,
          46,
          47,
          48,
          49,
          50,
          51,
          52,
          53,
          54,
          55,
          56,
          57,
          58,
          59,
          60,
          61,
          62,
          63,
          64,
          65,
          66,
          67,
          68,
          69,
          70,
          71,
          72,
          73,
          74,
          75,
          76,
          77,
          78,
          79,
          80,
          81,
          82,
          83,
          84,
          85,
          86,
          87,
          88,
          89,
          90,
          91,
          92,
          93,
          94,
          95,
          96,
          97,
          98,
          99
         ],
         "y": [
          0.8854166666666666,
          0.7979797979797979,
          0,
          0.68,
          0.8214285714285714,
          0.68,
          0.6666666666666666,
          0.8062827225130889,
          0.6666666666666666,
          0.8669950738916256,
          0,
          0.7640449438202247,
          0.7982456140350876,
          0.8442211055276383,
          0.8144329896907218,
          0.7640449438202247,
          0.6666666666666666,
          0.7888888888888889,
          0,
          0.8442211055276383,
          0.8432432432432432,
          0.7528089887640449,
          0,
          0.888888888888889,
          0.8854166666666666,
          0.8021978021978022,
          0.8369565217391305,
          0.8172043010752689,
          0.7955801104972375,
          0.8659793814432989,
          0.9435897435897437,
          0.9270833333333334,
          0.9538461538461539,
          0.8342245989304813,
          0.7845303867403315,
          0.6666666666666666,
          0.7727272727272727,
          0.8526315789473685,
          0.7868852459016394,
          0.7613636363636364,
          0.8900523560209425,
          0,
          0.8087431693989071,
          0.6666666666666666,
          0.8152173913043479,
          0.8442211055276383,
          0,
          0.8202764976958524,
          0.7912087912087912,
          0,
          0.8341708542713568,
          0.5987261146496815,
          0.6666666666666666,
          0.9150943396226415,
          0.8196721311475409,
          0.7528089887640449,
          0.8223350253807107,
          0,
          0.7999999999999999,
          0.797752808988764,
          0.8349514563106797,
          0.8279569892473118,
          0.8279569892473118,
          0.6666666666666666,
          0.8846153846153846,
          0.9263157894736842,
          0.9278350515463918,
          0.8877005347593583,
          0.8663101604278076,
          0.9052631578947369,
          0.8842105263157894,
          0.8152173913043479,
          0.9591836734693877,
          0.9263157894736842,
          0.9381443298969071,
          0.8865979381443299,
          0.9081632653061226,
          0.7570621468926553,
          0.8677248677248677,
          0,
          0.9166666666666666,
          0.89,
          0.7752808988764044,
          0.8087431693989071,
          0.4186046511627907,
          0.8306010928961748,
          0.900990099009901,
          0.782608695652174,
          0.7912087912087912,
          0.8540540540540541,
          0.6666666666666666,
          0.8306010928961748,
          0.7666666666666667,
          0.97,
          0.9166666666666666,
          0.89,
          0.5850340136054422,
          0.8043478260869565,
          0.7692307692307692,
          0.6746987951807228
         ]
        }
       ],
       "layout": {
        "autosize": false,
        "height": 800,
        "template": {
         "data": {
          "bar": [
           {
            "error_x": {
             "color": "#f2f5fa"
            },
            "error_y": {
             "color": "#f2f5fa"
            },
            "marker": {
             "line": {
              "color": "rgb(17,17,17)",
              "width": 0.5
             },
             "pattern": {
              "fillmode": "overlay",
              "size": 10,
              "solidity": 0.2
             }
            },
            "type": "bar"
           }
          ],
          "barpolar": [
           {
            "marker": {
             "line": {
              "color": "rgb(17,17,17)",
              "width": 0.5
             },
             "pattern": {
              "fillmode": "overlay",
              "size": 10,
              "solidity": 0.2
             }
            },
            "type": "barpolar"
           }
          ],
          "carpet": [
           {
            "aaxis": {
             "endlinecolor": "#A2B1C6",
             "gridcolor": "#506784",
             "linecolor": "#506784",
             "minorgridcolor": "#506784",
             "startlinecolor": "#A2B1C6"
            },
            "baxis": {
             "endlinecolor": "#A2B1C6",
             "gridcolor": "#506784",
             "linecolor": "#506784",
             "minorgridcolor": "#506784",
             "startlinecolor": "#A2B1C6"
            },
            "type": "carpet"
           }
          ],
          "choropleth": [
           {
            "colorbar": {
             "outlinewidth": 0,
             "ticks": ""
            },
            "type": "choropleth"
           }
          ],
          "contour": [
           {
            "colorbar": {
             "outlinewidth": 0,
             "ticks": ""
            },
            "colorscale": [
             [
              0,
              "#0d0887"
             ],
             [
              0.1111111111111111,
              "#46039f"
             ],
             [
              0.2222222222222222,
              "#7201a8"
             ],
             [
              0.3333333333333333,
              "#9c179e"
             ],
             [
              0.4444444444444444,
              "#bd3786"
             ],
             [
              0.5555555555555556,
              "#d8576b"
             ],
             [
              0.6666666666666666,
              "#ed7953"
             ],
             [
              0.7777777777777778,
              "#fb9f3a"
             ],
             [
              0.8888888888888888,
              "#fdca26"
             ],
             [
              1,
              "#f0f921"
             ]
            ],
            "type": "contour"
           }
          ],
          "contourcarpet": [
           {
            "colorbar": {
             "outlinewidth": 0,
             "ticks": ""
            },
            "type": "contourcarpet"
           }
          ],
          "heatmap": [
           {
            "colorbar": {
             "outlinewidth": 0,
             "ticks": ""
            },
            "colorscale": [
             [
              0,
              "#0d0887"
             ],
             [
              0.1111111111111111,
              "#46039f"
             ],
             [
              0.2222222222222222,
              "#7201a8"
             ],
             [
              0.3333333333333333,
              "#9c179e"
             ],
             [
              0.4444444444444444,
              "#bd3786"
             ],
             [
              0.5555555555555556,
              "#d8576b"
             ],
             [
              0.6666666666666666,
              "#ed7953"
             ],
             [
              0.7777777777777778,
              "#fb9f3a"
             ],
             [
              0.8888888888888888,
              "#fdca26"
             ],
             [
              1,
              "#f0f921"
             ]
            ],
            "type": "heatmap"
           }
          ],
          "heatmapgl": [
           {
            "colorbar": {
             "outlinewidth": 0,
             "ticks": ""
            },
            "colorscale": [
             [
              0,
              "#0d0887"
             ],
             [
              0.1111111111111111,
              "#46039f"
             ],
             [
              0.2222222222222222,
              "#7201a8"
             ],
             [
              0.3333333333333333,
              "#9c179e"
             ],
             [
              0.4444444444444444,
              "#bd3786"
             ],
             [
              0.5555555555555556,
              "#d8576b"
             ],
             [
              0.6666666666666666,
              "#ed7953"
             ],
             [
              0.7777777777777778,
              "#fb9f3a"
             ],
             [
              0.8888888888888888,
              "#fdca26"
             ],
             [
              1,
              "#f0f921"
             ]
            ],
            "type": "heatmapgl"
           }
          ],
          "histogram": [
           {
            "marker": {
             "pattern": {
              "fillmode": "overlay",
              "size": 10,
              "solidity": 0.2
             }
            },
            "type": "histogram"
           }
          ],
          "histogram2d": [
           {
            "colorbar": {
             "outlinewidth": 0,
             "ticks": ""
            },
            "colorscale": [
             [
              0,
              "#0d0887"
             ],
             [
              0.1111111111111111,
              "#46039f"
             ],
             [
              0.2222222222222222,
              "#7201a8"
             ],
             [
              0.3333333333333333,
              "#9c179e"
             ],
             [
              0.4444444444444444,
              "#bd3786"
             ],
             [
              0.5555555555555556,
              "#d8576b"
             ],
             [
              0.6666666666666666,
              "#ed7953"
             ],
             [
              0.7777777777777778,
              "#fb9f3a"
             ],
             [
              0.8888888888888888,
              "#fdca26"
             ],
             [
              1,
              "#f0f921"
             ]
            ],
            "type": "histogram2d"
           }
          ],
          "histogram2dcontour": [
           {
            "colorbar": {
             "outlinewidth": 0,
             "ticks": ""
            },
            "colorscale": [
             [
              0,
              "#0d0887"
             ],
             [
              0.1111111111111111,
              "#46039f"
             ],
             [
              0.2222222222222222,
              "#7201a8"
             ],
             [
              0.3333333333333333,
              "#9c179e"
             ],
             [
              0.4444444444444444,
              "#bd3786"
             ],
             [
              0.5555555555555556,
              "#d8576b"
             ],
             [
              0.6666666666666666,
              "#ed7953"
             ],
             [
              0.7777777777777778,
              "#fb9f3a"
             ],
             [
              0.8888888888888888,
              "#fdca26"
             ],
             [
              1,
              "#f0f921"
             ]
            ],
            "type": "histogram2dcontour"
           }
          ],
          "mesh3d": [
           {
            "colorbar": {
             "outlinewidth": 0,
             "ticks": ""
            },
            "type": "mesh3d"
           }
          ],
          "parcoords": [
           {
            "line": {
             "colorbar": {
              "outlinewidth": 0,
              "ticks": ""
             }
            },
            "type": "parcoords"
           }
          ],
          "pie": [
           {
            "automargin": true,
            "type": "pie"
           }
          ],
          "scatter": [
           {
            "marker": {
             "line": {
              "color": "#283442"
             }
            },
            "type": "scatter"
           }
          ],
          "scatter3d": [
           {
            "line": {
             "colorbar": {
              "outlinewidth": 0,
              "ticks": ""
             }
            },
            "marker": {
             "colorbar": {
              "outlinewidth": 0,
              "ticks": ""
             }
            },
            "type": "scatter3d"
           }
          ],
          "scattercarpet": [
           {
            "marker": {
             "colorbar": {
              "outlinewidth": 0,
              "ticks": ""
             }
            },
            "type": "scattercarpet"
           }
          ],
          "scattergeo": [
           {
            "marker": {
             "colorbar": {
              "outlinewidth": 0,
              "ticks": ""
             }
            },
            "type": "scattergeo"
           }
          ],
          "scattergl": [
           {
            "marker": {
             "line": {
              "color": "#283442"
             }
            },
            "type": "scattergl"
           }
          ],
          "scattermapbox": [
           {
            "marker": {
             "colorbar": {
              "outlinewidth": 0,
              "ticks": ""
             }
            },
            "type": "scattermapbox"
           }
          ],
          "scatterpolar": [
           {
            "marker": {
             "colorbar": {
              "outlinewidth": 0,
              "ticks": ""
             }
            },
            "type": "scatterpolar"
           }
          ],
          "scatterpolargl": [
           {
            "marker": {
             "colorbar": {
              "outlinewidth": 0,
              "ticks": ""
             }
            },
            "type": "scatterpolargl"
           }
          ],
          "scatterternary": [
           {
            "marker": {
             "colorbar": {
              "outlinewidth": 0,
              "ticks": ""
             }
            },
            "type": "scatterternary"
           }
          ],
          "surface": [
           {
            "colorbar": {
             "outlinewidth": 0,
             "ticks": ""
            },
            "colorscale": [
             [
              0,
              "#0d0887"
             ],
             [
              0.1111111111111111,
              "#46039f"
             ],
             [
              0.2222222222222222,
              "#7201a8"
             ],
             [
              0.3333333333333333,
              "#9c179e"
             ],
             [
              0.4444444444444444,
              "#bd3786"
             ],
             [
              0.5555555555555556,
              "#d8576b"
             ],
             [
              0.6666666666666666,
              "#ed7953"
             ],
             [
              0.7777777777777778,
              "#fb9f3a"
             ],
             [
              0.8888888888888888,
              "#fdca26"
             ],
             [
              1,
              "#f0f921"
             ]
            ],
            "type": "surface"
           }
          ],
          "table": [
           {
            "cells": {
             "fill": {
              "color": "#506784"
             },
             "line": {
              "color": "rgb(17,17,17)"
             }
            },
            "header": {
             "fill": {
              "color": "#2a3f5f"
             },
             "line": {
              "color": "rgb(17,17,17)"
             }
            },
            "type": "table"
           }
          ]
         },
         "layout": {
          "annotationdefaults": {
           "arrowcolor": "#f2f5fa",
           "arrowhead": 0,
           "arrowwidth": 1
          },
          "autotypenumbers": "strict",
          "coloraxis": {
           "colorbar": {
            "outlinewidth": 0,
            "ticks": ""
           }
          },
          "colorscale": {
           "diverging": [
            [
             0,
             "#8e0152"
            ],
            [
             0.1,
             "#c51b7d"
            ],
            [
             0.2,
             "#de77ae"
            ],
            [
             0.3,
             "#f1b6da"
            ],
            [
             0.4,
             "#fde0ef"
            ],
            [
             0.5,
             "#f7f7f7"
            ],
            [
             0.6,
             "#e6f5d0"
            ],
            [
             0.7,
             "#b8e186"
            ],
            [
             0.8,
             "#7fbc41"
            ],
            [
             0.9,
             "#4d9221"
            ],
            [
             1,
             "#276419"
            ]
           ],
           "sequential": [
            [
             0,
             "#0d0887"
            ],
            [
             0.1111111111111111,
             "#46039f"
            ],
            [
             0.2222222222222222,
             "#7201a8"
            ],
            [
             0.3333333333333333,
             "#9c179e"
            ],
            [
             0.4444444444444444,
             "#bd3786"
            ],
            [
             0.5555555555555556,
             "#d8576b"
            ],
            [
             0.6666666666666666,
             "#ed7953"
            ],
            [
             0.7777777777777778,
             "#fb9f3a"
            ],
            [
             0.8888888888888888,
             "#fdca26"
            ],
            [
             1,
             "#f0f921"
            ]
           ],
           "sequentialminus": [
            [
             0,
             "#0d0887"
            ],
            [
             0.1111111111111111,
             "#46039f"
            ],
            [
             0.2222222222222222,
             "#7201a8"
            ],
            [
             0.3333333333333333,
             "#9c179e"
            ],
            [
             0.4444444444444444,
             "#bd3786"
            ],
            [
             0.5555555555555556,
             "#d8576b"
            ],
            [
             0.6666666666666666,
             "#ed7953"
            ],
            [
             0.7777777777777778,
             "#fb9f3a"
            ],
            [
             0.8888888888888888,
             "#fdca26"
            ],
            [
             1,
             "#f0f921"
            ]
           ]
          },
          "colorway": [
           "#636efa",
           "#EF553B",
           "#00cc96",
           "#ab63fa",
           "#FFA15A",
           "#19d3f3",
           "#FF6692",
           "#B6E880",
           "#FF97FF",
           "#FECB52"
          ],
          "font": {
           "color": "#f2f5fa"
          },
          "geo": {
           "bgcolor": "rgb(17,17,17)",
           "lakecolor": "rgb(17,17,17)",
           "landcolor": "rgb(17,17,17)",
           "showlakes": true,
           "showland": true,
           "subunitcolor": "#506784"
          },
          "hoverlabel": {
           "align": "left"
          },
          "hovermode": "closest",
          "mapbox": {
           "style": "dark"
          },
          "paper_bgcolor": "rgb(17,17,17)",
          "plot_bgcolor": "rgb(17,17,17)",
          "polar": {
           "angularaxis": {
            "gridcolor": "#506784",
            "linecolor": "#506784",
            "ticks": ""
           },
           "bgcolor": "rgb(17,17,17)",
           "radialaxis": {
            "gridcolor": "#506784",
            "linecolor": "#506784",
            "ticks": ""
           }
          },
          "scene": {
           "xaxis": {
            "backgroundcolor": "rgb(17,17,17)",
            "gridcolor": "#506784",
            "gridwidth": 2,
            "linecolor": "#506784",
            "showbackground": true,
            "ticks": "",
            "zerolinecolor": "#C8D4E3"
           },
           "yaxis": {
            "backgroundcolor": "rgb(17,17,17)",
            "gridcolor": "#506784",
            "gridwidth": 2,
            "linecolor": "#506784",
            "showbackground": true,
            "ticks": "",
            "zerolinecolor": "#C8D4E3"
           },
           "zaxis": {
            "backgroundcolor": "rgb(17,17,17)",
            "gridcolor": "#506784",
            "gridwidth": 2,
            "linecolor": "#506784",
            "showbackground": true,
            "ticks": "",
            "zerolinecolor": "#C8D4E3"
           }
          },
          "shapedefaults": {
           "line": {
            "color": "#f2f5fa"
           }
          },
          "sliderdefaults": {
           "bgcolor": "#C8D4E3",
           "bordercolor": "rgb(17,17,17)",
           "borderwidth": 1,
           "tickwidth": 0
          },
          "ternary": {
           "aaxis": {
            "gridcolor": "#506784",
            "linecolor": "#506784",
            "ticks": ""
           },
           "baxis": {
            "gridcolor": "#506784",
            "linecolor": "#506784",
            "ticks": ""
           },
           "bgcolor": "rgb(17,17,17)",
           "caxis": {
            "gridcolor": "#506784",
            "linecolor": "#506784",
            "ticks": ""
           }
          },
          "title": {
           "x": 0.05
          },
          "updatemenudefaults": {
           "bgcolor": "#506784",
           "borderwidth": 0
          },
          "xaxis": {
           "automargin": true,
           "gridcolor": "#283442",
           "linecolor": "#506784",
           "ticks": "",
           "title": {
            "standoff": 15
           },
           "zerolinecolor": "#283442",
           "zerolinewidth": 2
          },
          "yaxis": {
           "automargin": true,
           "gridcolor": "#283442",
           "linecolor": "#506784",
           "ticks": "",
           "title": {
            "standoff": 15
           },
           "zerolinecolor": "#283442",
           "zerolinewidth": 2
          }
         }
        },
        "title": {
         "text": "F1 Score against Max-Depth of XGBoost Trees"
        },
        "width": 800,
        "xaxis": {
         "title": {
          "text": "max_depth"
         }
        },
        "yaxis": {
         "title": {
          "text": "f1_score"
         }
        }
       }
      }
     },
     "metadata": {},
     "output_type": "display_data"
    }
   ],
   "source": [
    "import plotly.graph_objects as go\n",
    "\n",
    "trials.trials[0]\n",
    "\n",
    "fig = go.Figure(data=go.Scatter(\n",
    "    x=[t['misc']['idxs']['max_depth'][0] for t in trials.trials],\n",
    "    y=[-t['result']['loss'] for t in trials.trials],\n",
    "    mode='markers'\n",
    "))\n",
    "\n",
    "fig.update_layout(\n",
    "    xaxis=dict(title='max_depth'),\n",
    "    yaxis=dict(title='f1_score'),\n",
    "    autosize=False,\n",
    "    width=800,\n",
    "    height=800,\n",
    "    template='plotly_dark',\n",
    "    title='F1 Score against Max-Depth of XGBoost Trees'\n",
    ")\n",
    "\n",
    "fig.show()"
   ]
  }
 ],
 "metadata": {
  "kernelspec": {
   "display_name": "Python 3.8.15 ('basic_clean')",
   "language": "python",
   "name": "python3"
  },
  "language_info": {
   "codemirror_mode": {
    "name": "ipython",
    "version": 3
   },
   "file_extension": ".py",
   "mimetype": "text/x-python",
   "name": "python",
   "nbconvert_exporter": "python",
   "pygments_lexer": "ipython3",
   "version": "3.8.15"
  },
  "orig_nbformat": 4,
  "vscode": {
   "interpreter": {
    "hash": "def76ed885bc94f182c997508dd94bdc1bafad87e7bfd4e70b216ce388e01bfe"
   }
  }
 },
 "nbformat": 4,
 "nbformat_minor": 2
}
