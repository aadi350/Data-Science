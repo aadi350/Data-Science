{
 "cells": [
  {
   "cell_type": "markdown",
   "metadata": {},
   "source": [
    "This notebook covers feature-selection using multiple algorithms\n",
    "\n",
    "**Game plan**\n",
    "\n",
    "- Try with vs. without resampling methods (including with and w/o over-sampling)\n",
    "- Classical feature-selection techniques: RFE, SFS, Chi2 (SelectKBest from sklearn)\n",
    "- Novel feature-selection: boruta (Stephan), RelieF (Kononenko, I. 1994)\n",
    "- Sensitivity-analysis based, vary each feature by a considerable range and observe relative changes in outputs, the features that produce the greatest deviation in the output considered most relevant (VARS and Sobol), this requires a fitted estimator\n",
    "\n",
    "> The key idea in **ReliefF** is to evaluate the contribution of each feature to the\n",
    "> class difference and intraclass similarity [15]. With a randomly selected data,\n",
    "> the algorithm looks for the closest k hits (those with the same class label) and\n",
    "> errors (those with a different class label). After that, it updates the quality of the\n",
    "> contribution of the features with regard to the difference between the features values\n",
    "> of the selected data and the closest ones\n",
    "\n",
    "_Evaluating Selection Process_\n",
    "\n",
    "- `evaluate_classifier` function\n",
    "- Information-Gain per-features\n",
    "- Peasrons, Feature-Assessment by Sliding Thresholds (FAST, FAIR)\n",
    "- S2N (signal-to-noise correlation coefficient)\n"
   ]
  },
  {
   "cell_type": "code",
   "execution_count": null,
   "metadata": {},
   "outputs": [],
   "source": []
  },
  {
   "cell_type": "code",
   "execution_count": 2,
   "metadata": {},
   "outputs": [],
   "source": [
    "import pandas as pd\n",
    "from pandas import DataFrame\n",
    "import imblearn\n",
    "from imblearn.over_sampling import ADASYN, SMOTE\n",
    "from imblearn.under_sampling import InstanceHardnessThreshold, RandomUnderSampler\n",
    "from imblearn.pipeline import Pipeline\n",
    "import numpy as np\n",
    "from pandas import DataFrame, MultiIndex\n",
    "from sklearn import preprocessing\n",
    "from tqdm import tqdm\n",
    "from sklearn import metrics\n",
    "from sklearn.linear_model import LogisticRegression\n",
    "\n",
    "np.logical_xnor = lambda a, b: np.logical_not(np.logical_xor(a, b))\n",
    "\n",
    "pd.set_option(\"display.max_rows\", None)\n",
    "\n",
    "KEYS = [\"UUID\", \"year_month\"]\n",
    "TARGET = \"has_card\"\n",
    "ROOT = \"dbfs:/mnt/zcae070001/2XG_Tables/CC/DM/\"\n",
    "ROOT_MISSING_REMOVE = ROOT + \"high_missing_remove/\"\n",
    "ROOT_VAR_REMOVE = ROOT + \"low_var_remove/\"\n",
    "ROOT_CHI_REMOVE = ROOT + \"chi_remove/\"\n"
   ]
  },
  {
   "cell_type": "code",
   "execution_count": 3,
   "metadata": {},
   "outputs": [
    {
     "data": {
      "text/plain": [
       "(357, 569)"
      ]
     },
     "execution_count": 3,
     "metadata": {},
     "output_type": "execute_result"
    }
   ],
   "source": [
    "from sklearn.datasets import load_breast_cancer\n",
    "from imblearn.datasets import make_imbalance\n",
    "from sklearn.model_selection import train_test_split\n",
    "\n",
    "# assume this is where I load data\n",
    "X, y = load_breast_cancer(return_X_y=True)\n",
    "X.shape, y.shape\n",
    "y.sum(), len(y)\n"
   ]
  },
  {
   "cell_type": "code",
   "execution_count": 4,
   "metadata": {},
   "outputs": [
    {
     "name": "stdout",
     "output_type": "stream",
     "text": [
      "[14:00:24] WARNING: /tmp/abs_40obctay9q/croots/recipe/xgboost-split_1659548945886/work/src/learner.cc:1115: Starting in XGBoost 1.3.0, the default evaluation metric used with the objective 'binary:logistic' was changed from 'error' to 'logloss'. Explicitly set eval_metric if you'd like to restore the old behavior.\n"
     ]
    },
    {
     "name": "stderr",
     "output_type": "stream",
     "text": [
      "/home/aadi/miniconda3/envs/basic_clean/lib/python3.8/site-packages/xgboost/compat.py:36: FutureWarning: pandas.Int64Index is deprecated and will be removed from pandas in a future version. Use pandas.Index with the appropriate dtype instead.\n",
      "  from pandas import MultiIndex, Int64Index\n",
      "/home/aadi/miniconda3/envs/basic_clean/lib/python3.8/site-packages/xgboost/sklearn.py:1224: UserWarning: The use of label encoder in XGBClassifier is deprecated and will be removed in a future release. To remove this warning, do the following: 1) Pass option use_label_encoder=False when constructing XGBClassifier object; and 2) Encode your labels (y) as integers starting with 0, i.e. 0, 1, 2, ..., [num_class - 1].\n",
      "  warnings.warn(label_encoder_deprecation_msg, UserWarning)\n"
     ]
    }
   ],
   "source": [
    "from xgboost import XGBClassifier\n",
    "X_train, X_test, y_train, y_test = train_test_split(X, y, stratify=y)\n",
    "\n",
    "clf = XGBClassifier()\n",
    "clf = clf.fit(X_train, y_train)\n",
    "y_pred = clf.predict(X_test)\n",
    "y_pred_proba = clf.predict_proba(X_test)\n"
   ]
  },
  {
   "cell_type": "markdown",
   "metadata": {},
   "source": [
    "# Functions\n",
    "\n",
    "Two functions:\n",
    "1. For evaluating a *SINGLE* classifier (more detail, DiscriminationThreshold, etc)\n",
    "2. For *COMPARING* classifiers, less detail, side-by-side bar plots, etc"
   ]
  },
  {
   "cell_type": "markdown",
   "metadata": {},
   "source": [
    "## Evaluation"
   ]
  },
  {
   "cell_type": "code",
   "execution_count": 5,
   "metadata": {},
   "outputs": [],
   "source": [
    "def cumulative_gain_curve(y_true, y_score, pos_label=None):\n",
    "    \"\"\"This function generates the points necessary to plot the Cumulative Gain\n",
    "    Note: This implementation is restricted to the binary classification task.\n",
    "    Args:\n",
    "        y_true (array-like, shape (n_samples)): True labels of the data.\n",
    "        y_score (array-like, shape (n_samples)): Target scores, can either be\n",
    "            probability estimates of the positive class, confidence values, or\n",
    "            non-thresholded measure of decisions (as returned by\n",
    "            decision_function on some classifiers).\n",
    "        pos_label (int or str, default=None): Label considered as positive and\n",
    "            others are considered negative\n",
    "    Returns:\n",
    "        percentages (numpy.ndarray): An array containing the X-axis values for\n",
    "            plotting the Cumulative Gains chart.\n",
    "        gains (numpy.ndarray): An array containing the Y-axis values for one\n",
    "            curve of the Cumulative Gains chart.\n",
    "    Raises:\n",
    "        ValueError: If `y_true` is not composed of 2 classes. The Cumulative\n",
    "            Gain Chart is only relevant in binary classification.\n",
    "    \"\"\"\n",
    "    y_true, y_score = np.asarray(y_true), np.asarray(y_score)\n",
    "\n",
    "    # ensure binary classification if pos_label is not specified\n",
    "    classes = np.unique(y_true)\n",
    "    if pos_label is None and not (\n",
    "        np.array_equal(classes, [0, 1])\n",
    "        or np.array_equal(classes, [-1, 1])\n",
    "        or np.array_equal(classes, [0])\n",
    "        or np.array_equal(classes, [-1])\n",
    "        or np.array_equal(classes, [1])\n",
    "    ):\n",
    "        raise ValueError(\"Data is not binary and pos_label is not specified\")\n",
    "    elif pos_label is None:\n",
    "        pos_label = 1.0\n",
    "\n",
    "    # make y_true a boolean vector\n",
    "    y_true = y_true == pos_label\n",
    "\n",
    "    sorted_indices = np.argsort(y_score)[::-1]\n",
    "    y_true = y_true[sorted_indices]\n",
    "    gains = np.cumsum(y_true)\n",
    "\n",
    "    percentages = np.arange(start=1, stop=len(y_true) + 1)\n",
    "\n",
    "    gains = gains / float(np.sum(y_true))\n",
    "    percentages = percentages / float(len(y_true))\n",
    "\n",
    "    gains = np.insert(gains, 0, [0])\n",
    "    percentages = np.insert(percentages, 0, [0])\n",
    "\n",
    "    return percentages, gains\n",
    "\n",
    "def aic(y, y_pred):\n",
    "  resid = y - y_pred.ravel()\n",
    "  sse = sum(resid ** 2)\n",
    "\n",
    "  return 2 - 2*np.log(sse) \n",
    "\n",
    "\n",
    "def binned_residuals(y_true, y_pred_proba):\n",
    "    import pandas as pd\n",
    "    from pandas import DataFrame\n",
    "    def get_upper(x):\n",
    "        return x.split(',')[1][:-1]\n",
    "\n",
    "    y_join = []\n",
    "    for valid, pred_proba in zip(y_true, y_pred_proba):\n",
    "        residual = float(valid) - float(pred_proba)\n",
    "        y_join.append([valid, pred_proba, residual])\n",
    "\n",
    "    y_join = np.array(sorted(y_join, key=lambda x: x[1]))\n",
    "\n",
    "    y_pd = pd.DataFrame(y_join, columns=['Actual', 'Predicted', 'Residual'])\n",
    "\n",
    "    n_bins = 50\n",
    "    y_pd['bin'], bins = pd.cut(y_pd['Predicted'], bins=n_bins, retbins=True)\n",
    "    grp = y_pd.groupby('bin').agg({'Residual': 'mean'}).reset_index()\n",
    "    grp['bin'] = grp['bin'].astype('str').map(get_upper)\n",
    "\n",
    "    return grp\n",
    "\n",
    "def class_separation(y, y_hat_proba):\n",
    "  bins = np.linspace(0, 1, 11)\n",
    "  data = pd.DataFrame({'y': y, 'y_hat_proba': y_hat_proba})\n",
    "\n",
    "  pos = data[data.y == 1]\n",
    "  neg = data[data.y == 0]\n",
    "\n",
    "  pos_hist, _ = np.histogram(pos.y_hat_proba, bins=bins)\n",
    "  neg_hist, _ = np.histogram(neg.y_hat_proba, bins=bins)\n",
    "\n",
    "  return (bins, pos_hist, neg_hist)\n",
    "\n",
    "def gain_bar_chart(y, y_pred_proba):\n",
    "    df = pd.DataFrame({\n",
    "        'y_true': y,\n",
    "        'y_pred_proba': y_pred_proba\n",
    "    }).sort_values('y_pred_proba')\n",
    "\n",
    "    df['bin'] = pd.cut(df.y_pred_proba, bins=np.linspace(0,1, 11)).astype(str)\n",
    "    net_pos_cnt = np.sum(y)\n",
    "    df = df.groupby('bin', as_index=False).sum()\n",
    "\n",
    "    return df.bin.values, df.y_true/net_pos_cnt\n",
    "\n",
    "def evaluate_classifier(y, y_hat, y_hat_proba):\n",
    "  \n",
    "  from sklearn import metrics\n",
    "  from sklearn import calibration\n",
    "  \n",
    "  if len(y_hat_proba.shape) > 1:\n",
    "    raise IndexError('Scores should be one dimensional')\n",
    "    \n",
    "    \n",
    "  metrics_dict = {}\n",
    "  tn, fp, fn, tp = metrics.confusion_matrix(y, y_hat).ravel()\n",
    "  f1_score = metrics.f1_score(y, y_hat)\n",
    "  fbeta_score = metrics.fbeta_score(y, y_hat, beta=2)\n",
    "  specificity = tn / (tn+fp)\n",
    "  recall = tp / (tp + fn)\n",
    "  precision = tp / (tp+fp) \n",
    "\n",
    "  fpr, tpr, _ = metrics.roc_curve(y, y_hat_proba)\n",
    "  pr, rec, _ = metrics.precision_recall_curve(y, y_hat_proba)\n",
    "  aucpr = metrics.auc(rec, pr)\n",
    "  prob_true, prob_pred = calibration.calibration_curve(y, y_hat_proba)\n",
    "  binary_crossentropy = metrics.log_loss(y, y_hat_proba)\n",
    "  residuals = binned_residuals(y, y_hat_proba)\n",
    "\n",
    "  hist, bin_edges = np.histogram(y_pred_proba, bins=np.linspace(0, 1, 11))\n",
    "\n",
    "  classes = np.unique(y)\n",
    "  percentages, gains0 = cumulative_gain_curve(y, y_hat_proba,classes[0])\n",
    "  percentages, gains1 = cumulative_gain_curve(y, y_hat_proba,classes[1])\n",
    "\n",
    "  bins, pos_cnt = gain_bar_chart(y, y_hat_proba)\n",
    "\n",
    "  spec, sens = specificity_sensitivity_curve(y, y_hat_proba)\n",
    "\n",
    "  deviance = 2*metrics.log_loss(y, y_hat_proba, normalize=False)\n",
    "\n",
    "  _aic = None \n",
    "\n",
    "  try:\n",
    "    _aic = aic(y, y_hat_proba)  \n",
    "  except Exception as e:\n",
    "    print('no aic: ', e) \n",
    "\n",
    "  metrics_dict = {\n",
    "    'tn': tn, \n",
    "    'fp': fp,\n",
    "    'fn': fn, \n",
    "    'tp': tp, \n",
    "    'f1': f1_score, \n",
    "    'aic': _aic,\n",
    "    'specificity': specificity,\n",
    "    'precision': precision,\n",
    "    'recall': recall,\n",
    "    'aucpr': aucpr,\n",
    "    'roc_curve': (fpr, tpr),\n",
    "    'pr_curve': (pr, rec),\n",
    "    'residuals': residuals, \n",
    "    'calibration': (prob_true, prob_pred), \n",
    "    'deviance': deviance,\n",
    "    'binary_crossentropy': binary_crossentropy,\n",
    "    'lift_curve': (percentages, gains0, gains1),\n",
    "    'spec_sens': (spec, sens),\n",
    "    'prob_hist': (bin_edges, hist),\n",
    "    'fbeta': fbeta_score,\n",
    "    'gain_bar': (bins, pos_cnt)\n",
    "  }\n",
    "  \n",
    "    \n",
    "  return metrics_dict\n",
    "\n",
    "def specificity_sensitivity_curve(y, y_pred_proba):\n",
    "  from copy import deepcopy\n",
    "  from sklearn.metrics import confusion_matrix\n",
    "  # sensitivity = TP/(TP + FN)\n",
    "  # specificity = TP/(TP + FP)\n",
    "\n",
    "  # assuming threshold is between 0 and 1\n",
    "  sens, spec = [], []\n",
    "  probs = np.linspace(0, 1, num=51) # range of thresholds\n",
    "  for prob in probs:\n",
    "      y_pred = deepcopy(y_pred_proba)\n",
    "      y_pred[y_pred <= prob] = 0\n",
    "      y_pred[y_pred > prob] = 1\n",
    "      tn, fp, fn, tp = confusion_matrix(y, y_pred).ravel()\n",
    "      sens.append(tn/(tn+fp))\n",
    "      spec.append(tp/(tp+fp))\n",
    "\n",
    "  return spec, sens \n",
    "\n",
    "\n"
   ]
  },
  {
   "cell_type": "markdown",
   "metadata": {},
   "source": [
    "## Plotting"
   ]
  },
  {
   "cell_type": "code",
   "execution_count": 23,
   "metadata": {},
   "outputs": [],
   "source": [
    "from plotly.subplots import make_subplots\n",
    "from plotly import graph_objects as go\n",
    "\n",
    "\n",
    "def discrimination_threshold(y, y_hat_proba, thresholds=None):\n",
    "    from sklearn import metrics\n",
    "    from copy import deepcopy\n",
    "    precisions = []\n",
    "    recalls = []\n",
    "    f1s = []\n",
    "    if not thresholds:\n",
    "        thresholds = np.linspace(0, 1, 101)\n",
    "\n",
    "    for t in thresholds:\n",
    "        y_pred = deepcopy(y_hat_proba)\n",
    "        y_pred[y_pred < t] = 0\n",
    "        y_pred[y_pred >= t] = 1\n",
    "        precisions.append(metrics.precision_score(y, y_pred))\n",
    "        recalls.append(metrics.recall_score(y, y_pred))\n",
    "        f1s.append(metrics.f1_score(y, y_pred))\n",
    "\n",
    "    return {'precision': precisions, 'recall': recalls, 'f1': f1s, 'thresholds': thresholds}\n",
    "\n",
    "def plot_metrics(title, y, y_hat, y_hat_proba):\n",
    "    '''For SINGLE evaluation'''\n",
    "    line_spec = None\n",
    "    marker_spec = None\n",
    "    annotations = [] \n",
    "    metrics_dict = evaluate_classifier(y, y_hat, y_hat_proba)\n",
    "\n",
    "    fig = make_subplots(\n",
    "        rows=3, cols=3, \n",
    "        specs = [\n",
    "            [{'type': 'scatter'}, {'type': 'scatter'},{'type': 'scatter'},],\n",
    "            [{'type': 'scatter'}, {'type': 'scatter'},{'type': 'scatter'},],\n",
    "            [{'type': 'scatter'}, {'type': 'table'},{'type': 'scatter'},],\n",
    "        ],\n",
    "        subplot_titles=['ROC', 'PR', 'Probability Distribution', 'Residual', 'Calibration', 'Spec-Sens', 'Gains', 'Metrics', 'Discrimination Threshold'])\n",
    "\n",
    "\n",
    "\n",
    "    #------------------------------PRECISION RECALL---------------------#\n",
    "    pr, rec = metrics_dict['pr_curve']\n",
    "    fig.add_trace(go.Scatter(\n",
    "        x=[float(i) for i in rec],\n",
    "        y=pr,\n",
    "    ), row=1, col=2)\n",
    "    fig['layout']['yaxis2']['title']='Precision'\n",
    "    fig['layout']['xaxis2']['title']='Recall'\n",
    "\n",
    "    fig.update_layout(\n",
    "        yaxis2=dict(tickvals=[0.0, 0.25, 0.50, 0.75, 1.00]),\n",
    "        xaxis2=dict(tickvals=[0.0, 0.25, 0.50, 0.75, 1.00]),\n",
    "    )\n",
    "\n",
    "    #-------------------------------FPR-vs-TPR--------------------------#\n",
    "\n",
    "    fpr, tpr = metrics_dict['roc_curve']\n",
    "    fig.add_trace(go.Scatter(\n",
    "        x=fpr,\n",
    "        y=tpr,\n",
    "    ), row=1, col=1)\n",
    "    fig['layout']['yaxis1']['title']='FPR'\n",
    "    fig['layout']['xaxis1']['title']='TPR'\n",
    "\n",
    "\n",
    "    #------------------------------CLASS SEPARATION---------------------#\n",
    "    bins, pos_hist, neg_hist = class_separation(y, y_hat_proba)\n",
    "    fig.add_trace(\n",
    "        go.Bar(\n",
    "            x=bins,\n",
    "            y=list(np.round(pos_hist, 1)),\n",
    "            marker=dict(color='red'),\n",
    "            name='+ve'\n",
    "        ),\n",
    "        row=1, col=3\n",
    "    )\n",
    "    fig.add_trace(\n",
    "        go.Bar(\n",
    "            x=bins,\n",
    "            y=list(np.round(neg_hist, 1)),\n",
    "            marker=dict(color='blue'),\n",
    "            name='-ve'\n",
    "        ),\n",
    "        row=1, col=3\n",
    "    )\n",
    "    fig['layout']['xaxis3']['title']='Mean Probability'\n",
    "    fig['layout']['yaxis3']['title']='Count'\n",
    "\n",
    "\n",
    "    #------------------------------BINNED RESIDUALS---------------------#\n",
    "    residuals = metrics_dict['residuals']\n",
    "    fig.add_trace(go.Scatter(\n",
    "        x=[float(i) for i in residuals['bin']],\n",
    "        y=[float(i) for i in residuals['Residual']],\n",
    "        mode='markers'\n",
    "      ), row=2, col=1)\n",
    "    fig['layout']['xaxis4']['title']='Bin'\n",
    "    fig['layout']['yaxis4']['title']='Residual'\n",
    "\n",
    "\n",
    "    #--------------------------------CALIBRATION-------------------------#\n",
    "    prob_true, prob_pred = metrics_dict['calibration']\n",
    "    fig.add_trace(go.Scatter(\n",
    "        x=prob_true,\n",
    "        y=prob_pred,\n",
    "        mode='markers'\n",
    "    ), row=2, col=2)\n",
    "    fig['layout']['xaxis5']['title']='Prob True'\n",
    "    fig['layout']['yaxis5']['title']='Prob Pred'\n",
    "\n",
    "    #---------------------------------SPEC-SENS---------------------------#\n",
    "    spec, sens = metrics_dict['spec_sens']\n",
    "    fig.add_trace(go.Scatter(\n",
    "        x=np.linspace(0, 1, 51),\n",
    "        y=spec,\n",
    "        line=dict(color='red'),\n",
    "        mode='markers+lines'\n",
    "    ), row=2, col=3)\n",
    "\n",
    "    fig.add_trace(go.Scatter(\n",
    "        x=np.linspace(0, 1, 51),\n",
    "        y=sens,\n",
    "        line=dict(color='blue'),\n",
    "        mode='markers+lines'\n",
    "    ), row=2, col=3)\n",
    "\n",
    "    #---------------------------------GAIN CHART---------------------------#\n",
    "    percentages, gain0, gain1 = metrics_dict['lift_curve']\n",
    "    bins, pos_cnt = metrics_dict['gain_bar']\n",
    "    # fig.add_trace(\n",
    "    #     go.Scatter(x=percentages, y=gain0,name='-ve',  line=dict(color='blue')),row=3, col=1\n",
    "    # )\n",
    "    # fig.add_trace(\n",
    "    #     go.Scatter(x=percentages, y=gain1, name='+ve', line=dict(color='red')),row=3, col=1\n",
    "    # )\n",
    "\n",
    "    fig.add_trace(\n",
    "        go.Bar(x=bins, y=pos_cnt), row=3, col=1\n",
    "    )\n",
    "    fig.add_trace(\n",
    "        go.Scatter(x=bins, y=np.cumsum(pos_cnt)), row=3, col=1\n",
    "    )\n",
    "\n",
    "\n",
    "    #---------------------------------THRESHOLDS----------------------------#\n",
    "    threshold_dict = discrimination_threshold(y, y_hat_proba)\n",
    "    fig.add_trace(\n",
    "       go.Scatter(\n",
    "            x=threshold_dict['thresholds'],\n",
    "            y=threshold_dict['precision'],\n",
    "            line=dict(color='royalblue'),\n",
    "            name='precision'\n",
    "        ),\n",
    "        row=3, col=3\n",
    "    )\n",
    "    fig.add_trace(\n",
    "       go.Scatter(\n",
    "            x=threshold_dict['thresholds'],\n",
    "            y=threshold_dict['recall'],\n",
    "            line=dict(color='green'),\n",
    "            name='recall'\n",
    "        ),\n",
    "        row=3, col=3\n",
    "    )\n",
    "    fig.add_trace(\n",
    "       go.Scatter(\n",
    "            x=threshold_dict['thresholds'],\n",
    "            y=threshold_dict['f1'],\n",
    "            line=dict(color='firebrick'),\n",
    "            name='f1'\n",
    "        ),\n",
    "        row=3, col=3\n",
    "    )\n",
    "\n",
    "    fig['layout']['yaxis8']['title']='Metric'\n",
    "    fig['layout']['xaxis8']['title']='Threshold'\n",
    "    \n",
    "    #---------------------------------TABLE METRICS-------------------------#\n",
    "\n",
    "    values = [\n",
    "        ['fbeta', 'precision', 'recall', 'AIC', 'binary_crossentropy', 'F1', 'specificity', 'AUC PR'],\n",
    "        [metrics_dict['fbeta'], metrics_dict['precision'],metrics_dict['recall'], metrics_dict['aic'], metrics_dict['binary_crossentropy'], metrics_dict['f1'], metrics_dict['specificity'], metrics_dict['aucpr']]\n",
    "      ]\n",
    "\n",
    "    fig.add_trace(go.Table(\n",
    "        cells=dict(\n",
    "          values=values,\n",
    "          line_color='darkslategray',\n",
    "        #   fill=dict(color=['paleturquoise', 'white']),\n",
    "          align=['left', 'center'],\n",
    "          font_size=12,\n",
    "          height=25)\n",
    "      ), row=3, col=2)\n",
    "\n",
    "    fig.update_layout(\n",
    "        title=title,\n",
    "        template='plotly_dark',\n",
    "        autosize=False,\n",
    "        width=1200,\n",
    "        height=1200,\n",
    "        showlegend=False,\n",
    "        yaxis2=dict(tickmode='array', tickvals=[0.0, 0.25, 0.50, 0.75, 1.00]),\n",
    "        xaxis2=dict(tickmode='array', tickvals=[0.0, 0.25, 0.50, 0.75, 1.00]),\n",
    "        yaxis1=dict(tickmode='array', tickvals=[0.0, 0.25, 0.50, 0.75, 1.00]),\n",
    "        xaxis1=dict(tickmode='array', tickvals=[0.0, 0.25, 0.50, 0.75, 1.00]),\n",
    "    )\n",
    "\n",
    "    fig.show()\n"
   ]
  },
  {
   "cell_type": "code",
   "execution_count": 24,
   "metadata": {},
   "outputs": [
    {
     "name": "stderr",
     "output_type": "stream",
     "text": [
      "/tmp/ipykernel_3451206/1772923598.py:191: RuntimeWarning:\n",
      "\n",
      "invalid value encountered in long_scalars\n",
      "\n",
      "/home/aadi/miniconda3/envs/basic_clean/lib/python3.8/site-packages/sklearn/metrics/_classification.py:1334: UndefinedMetricWarning:\n",
      "\n",
      "Precision is ill-defined and being set to 0.0 due to no predicted samples. Use `zero_division` parameter to control this behavior.\n",
      "\n"
     ]
    },
    {
     "data": {
      "application/vnd.plotly.v1+json": {
       "config": {
        "plotlyServerURL": "https://plot.ly"
       },
       "data": [
        {
         "type": "scatter",
         "x": [
          1,
          1,
          1,
          1,
          1,
          1,
          1,
          1,
          1,
          1,
          1,
          1,
          1,
          1,
          1,
          1,
          1,
          1,
          1,
          1,
          1,
          1,
          1,
          1,
          1,
          1,
          1,
          1,
          1,
          1,
          1,
          1,
          1,
          1,
          1,
          1,
          1,
          1,
          1,
          1,
          1,
          1,
          1,
          1,
          1,
          1,
          1,
          0.9888888888888889,
          0.9888888888888889,
          0.9888888888888889,
          0.9777777777777777,
          0.9666666666666667,
          0.9666666666666667,
          0.9555555555555556,
          0.9444444444444444,
          0.9333333333333333,
          0.9222222222222223,
          0.9111111111111111,
          0.9,
          0.8888888888888888,
          0.8777777777777778,
          0.8666666666666667,
          0.8555555555555555,
          0.8444444444444444,
          0.8333333333333334,
          0.8222222222222222,
          0.8111111111111111,
          0.8,
          0.7888888888888889,
          0.7777777777777778,
          0.7666666666666667,
          0.7555555555555555,
          0.7444444444444445,
          0.7333333333333333,
          0.7222222222222222,
          0.7111111111111111,
          0.7,
          0.6888888888888889,
          0.6777777777777778,
          0.6666666666666666,
          0.6555555555555556,
          0.6444444444444445,
          0.6333333333333333,
          0.6222222222222222,
          0.6111111111111112,
          0.6,
          0.5888888888888889,
          0.5777777777777777,
          0.5666666666666667,
          0.5555555555555556,
          0.5444444444444444,
          0.5333333333333333,
          0.5222222222222223,
          0.5111111111111111,
          0.5,
          0.4888888888888889,
          0.4777777777777778,
          0.4666666666666667,
          0.45555555555555555,
          0.4444444444444444,
          0.43333333333333335,
          0.4222222222222222,
          0.4111111111111111,
          0.4,
          0.3888888888888889,
          0.36666666666666664,
          0.35555555555555557,
          0.34444444444444444,
          0.3333333333333333,
          0.32222222222222224,
          0.3111111111111111,
          0.3,
          0.28888888888888886,
          0.2777777777777778,
          0.26666666666666666,
          0.25555555555555554,
          0.24444444444444444,
          0.23333333333333334,
          0.2222222222222222,
          0.2111111111111111,
          0.2,
          0.18888888888888888,
          0.17777777777777778,
          0.16666666666666666,
          0.15555555555555556,
          0.14444444444444443,
          0.13333333333333333,
          0.1111111111111111,
          0.1,
          0.08888888888888889,
          0.07777777777777778,
          0.06666666666666667,
          0.05555555555555555,
          0.044444444444444446,
          0.03333333333333333,
          0.022222222222222223,
          0.011111111111111112,
          0
         ],
         "xaxis": "x2",
         "y": [
          0.6293706293706294,
          0.6338028169014085,
          0.6382978723404256,
          0.6428571428571429,
          0.6474820143884892,
          0.6521739130434783,
          0.656934306569343,
          0.6617647058823529,
          0.6870229007633588,
          0.6923076923076923,
          0.6976744186046512,
          0.703125,
          0.7086614173228346,
          0.7142857142857143,
          0.72,
          0.7258064516129032,
          0.7317073170731707,
          0.7377049180327869,
          0.743801652892562,
          0.75,
          0.7563025210084033,
          0.7627118644067796,
          0.7692307692307693,
          0.7758620689655172,
          0.782608695652174,
          0.7894736842105263,
          0.7964601769911505,
          0.8035714285714286,
          0.8108108108108109,
          0.8181818181818182,
          0.8256880733944955,
          0.8333333333333334,
          0.8411214953271028,
          0.8490566037735849,
          0.8571428571428571,
          0.8653846153846154,
          0.8737864077669902,
          0.8823529411764706,
          0.8910891089108911,
          0.9,
          0.9090909090909091,
          0.9183673469387755,
          0.9278350515463918,
          0.9375,
          0.9473684210526315,
          0.9574468085106383,
          0.967741935483871,
          0.967391304347826,
          0.978021978021978,
          0.9888888888888889,
          0.9887640449438202,
          0.9886363636363636,
          1,
          1,
          1,
          1,
          1,
          1,
          1,
          1,
          1,
          1,
          1,
          1,
          1,
          1,
          1,
          1,
          1,
          1,
          1,
          1,
          1,
          1,
          1,
          1,
          1,
          1,
          1,
          1,
          1,
          1,
          1,
          1,
          1,
          1,
          1,
          1,
          1,
          1,
          1,
          1,
          1,
          1,
          1,
          1,
          1,
          1,
          1,
          1,
          1,
          1,
          1,
          1,
          1,
          1,
          1,
          1,
          1,
          1,
          1,
          1,
          1,
          1,
          1,
          1,
          1,
          1,
          1,
          1,
          1,
          1,
          1,
          1,
          1,
          1,
          1,
          1,
          1,
          1,
          1,
          1,
          1,
          1,
          1,
          1,
          1,
          1
         ],
         "yaxis": "y2"
        },
        {
         "type": "scatter",
         "x": [
          0,
          0,
          0,
          0,
          0,
          0,
          0,
          0.018867924528301886,
          0.018867924528301886,
          0.05660377358490566,
          0.05660377358490566,
          0.7735849056603774,
          0.8679245283018868,
          1
         ],
         "xaxis": "x",
         "y": [
          0,
          0.011111111111111112,
          0.1111111111111111,
          0.13333333333333333,
          0.36666666666666664,
          0.3888888888888889,
          0.9666666666666667,
          0.9666666666666667,
          0.9888888888888889,
          0.9888888888888889,
          1,
          1,
          1,
          1
         ],
         "yaxis": "y"
        },
        {
         "marker": {
          "color": "red"
         },
         "name": "+ve",
         "type": "bar",
         "x": [
          0,
          0.1,
          0.2,
          0.30000000000000004,
          0.4,
          0.5,
          0.6000000000000001,
          0.7000000000000001,
          0.8,
          0.9,
          1
         ],
         "xaxis": "x3",
         "y": [
          0,
          0,
          0,
          1,
          0,
          0,
          1,
          0,
          4,
          84
         ],
         "yaxis": "y3"
        },
        {
         "marker": {
          "color": "blue"
         },
         "name": "-ve",
         "type": "bar",
         "x": [
          0,
          0.1,
          0.2,
          0.30000000000000004,
          0.4,
          0.5,
          0.6000000000000001,
          0.7000000000000001,
          0.8,
          0.9,
          1
         ],
         "xaxis": "x3",
         "y": [
          48,
          1,
          1,
          0,
          1,
          1,
          0,
          0,
          1,
          0
         ],
         "yaxis": "y3"
        },
        {
         "mode": "markers",
         "type": "scatter",
         "x": [
          0.0201,
          0.0401,
          0.0601,
          0.0801,
          0.1,
          0.12,
          0.14,
          0.16,
          0.18,
          0.2,
          0.22,
          0.24,
          0.26,
          0.28,
          0.3,
          0.32,
          0.34,
          0.36,
          0.38,
          0.4,
          0.42,
          0.44,
          0.46,
          0.48,
          0.5,
          0.52,
          0.54,
          0.56,
          0.58,
          0.6,
          0.62,
          0.64,
          0.66,
          0.68,
          0.7,
          0.72,
          0.74,
          0.76,
          0.78,
          0.8,
          0.82,
          0.84,
          0.86,
          0.88,
          0.9,
          0.92,
          0.94,
          0.96,
          0.98,
          1
         ],
         "xaxis": "x4",
         "y": [
          -0.001008961349032775,
          -0.02664772793650627,
          -0.04585350304841995,
          -0.07864124327898026,
          -0.08755754679441452,
          null,
          -0.13807152211666107,
          null,
          null,
          null,
          -0.20084242522716522,
          null,
          null,
          null,
          null,
          null,
          null,
          null,
          0.6289817988872528,
          null,
          null,
          null,
          null,
          null,
          -0.49360212683677673,
          null,
          null,
          null,
          null,
          -0.5996347069740295,
          null,
          null,
          0.3491414785385132,
          null,
          null,
          null,
          null,
          null,
          null,
          null,
          null,
          -0.32878968119621277,
          0.1543670892715454,
          null,
          0.1107054054737091,
          0.08637648820877075,
          0.07584977149963379,
          0.04355752468109131,
          0.030360976854960125,
          0.00293229558528998
         ],
         "yaxis": "y4"
        },
        {
         "mode": "markers",
         "type": "scatter",
         "x": [
          0,
          0.5,
          0,
          1,
          0.9887640449438202
         ],
         "xaxis": "x5",
         "y": [
          0.009641701545048391,
          0.2859303131699562,
          0.5466184169054031,
          0.6508585214614868,
          0.9860248954108591
         ],
         "yaxis": "y5"
        },
        {
         "line": {
          "color": "red"
         },
         "mode": "markers+lines",
         "type": "scatter",
         "x": [
          0,
          0.02,
          0.04,
          0.06,
          0.08,
          0.1,
          0.12,
          0.14,
          0.16,
          0.18,
          0.2,
          0.22,
          0.24,
          0.26,
          0.28,
          0.3,
          0.32,
          0.34,
          0.36,
          0.38,
          0.4,
          0.42,
          0.44,
          0.46,
          0.48,
          0.5,
          0.52,
          0.54,
          0.56,
          0.58,
          0.6,
          0.62,
          0.64,
          0.66,
          0.68,
          0.7000000000000001,
          0.72,
          0.74,
          0.76,
          0.78,
          0.8,
          0.8200000000000001,
          0.84,
          0.86,
          0.88,
          0.9,
          0.92,
          0.9400000000000001,
          0.96,
          0.98,
          1
         ],
         "xaxis": "x6",
         "y": [
          0.6293706293706294,
          0.8910891089108911,
          0.9183673469387755,
          0.9278350515463918,
          0.9375,
          0.9473684210526315,
          0.9473684210526315,
          0.9574468085106383,
          0.9574468085106383,
          0.9574468085106383,
          0.9574468085106383,
          0.967741935483871,
          0.967741935483871,
          0.967741935483871,
          0.967741935483871,
          0.967741935483871,
          0.967741935483871,
          0.967741935483871,
          0.967741935483871,
          0.967391304347826,
          0.967391304347826,
          0.967391304347826,
          0.967391304347826,
          0.967391304347826,
          0.967391304347826,
          0.978021978021978,
          0.978021978021978,
          0.978021978021978,
          0.978021978021978,
          0.978021978021978,
          0.9888888888888889,
          0.9888888888888889,
          0.9888888888888889,
          0.9887640449438202,
          0.9887640449438202,
          0.9887640449438202,
          0.9887640449438202,
          0.9887640449438202,
          0.9887640449438202,
          0.9887640449438202,
          0.9887640449438202,
          0.9887640449438202,
          1,
          1,
          1,
          1,
          1,
          1,
          1,
          1,
          null
         ],
         "yaxis": "y6"
        },
        {
         "line": {
          "color": "blue"
         },
         "mode": "markers+lines",
         "type": "scatter",
         "x": [
          0,
          0.02,
          0.04,
          0.06,
          0.08,
          0.1,
          0.12,
          0.14,
          0.16,
          0.18,
          0.2,
          0.22,
          0.24,
          0.26,
          0.28,
          0.3,
          0.32,
          0.34,
          0.36,
          0.38,
          0.4,
          0.42,
          0.44,
          0.46,
          0.48,
          0.5,
          0.52,
          0.54,
          0.56,
          0.58,
          0.6,
          0.62,
          0.64,
          0.66,
          0.68,
          0.7000000000000001,
          0.72,
          0.74,
          0.76,
          0.78,
          0.8,
          0.8200000000000001,
          0.84,
          0.86,
          0.88,
          0.9,
          0.92,
          0.9400000000000001,
          0.96,
          0.98,
          1
         ],
         "xaxis": "x6",
         "y": [
          0,
          0.7924528301886793,
          0.8490566037735849,
          0.8679245283018868,
          0.8867924528301887,
          0.9056603773584906,
          0.9056603773584906,
          0.9245283018867925,
          0.9245283018867925,
          0.9245283018867925,
          0.9245283018867925,
          0.9433962264150944,
          0.9433962264150944,
          0.9433962264150944,
          0.9433962264150944,
          0.9433962264150944,
          0.9433962264150944,
          0.9433962264150944,
          0.9433962264150944,
          0.9433962264150944,
          0.9433962264150944,
          0.9433962264150944,
          0.9433962264150944,
          0.9433962264150944,
          0.9433962264150944,
          0.9622641509433962,
          0.9622641509433962,
          0.9622641509433962,
          0.9622641509433962,
          0.9622641509433962,
          0.9811320754716981,
          0.9811320754716981,
          0.9811320754716981,
          0.9811320754716981,
          0.9811320754716981,
          0.9811320754716981,
          0.9811320754716981,
          0.9811320754716981,
          0.9811320754716981,
          0.9811320754716981,
          0.9811320754716981,
          0.9811320754716981,
          1,
          1,
          1,
          1,
          1,
          1,
          1,
          1,
          1
         ],
         "yaxis": "y6"
        },
        {
         "type": "bar",
         "x": [
          "(0.0, 0.1]",
          "(0.1, 0.2]",
          "(0.2, 0.3]",
          "(0.3, 0.4]",
          "(0.4, 0.5]",
          "(0.5, 0.6]",
          "(0.6, 0.7]",
          "(0.8, 0.9]",
          "(0.9, 1.0]"
         ],
         "xaxis": "x7",
         "y": [
          0,
          0,
          0,
          0.011111111111111112,
          0,
          0,
          0.011111111111111112,
          0.044444444444444446,
          0.9333333333333333
         ],
         "yaxis": "y7"
        },
        {
         "type": "scatter",
         "x": [
          "(0.0, 0.1]",
          "(0.1, 0.2]",
          "(0.2, 0.3]",
          "(0.3, 0.4]",
          "(0.4, 0.5]",
          "(0.5, 0.6]",
          "(0.6, 0.7]",
          "(0.8, 0.9]",
          "(0.9, 1.0]"
         ],
         "xaxis": "x7",
         "y": [
          0,
          0,
          0,
          0.011111111111111112,
          0.011111111111111112,
          0.011111111111111112,
          0.022222222222222223,
          0.06666666666666667,
          1
         ],
         "yaxis": "y7"
        },
        {
         "line": {
          "color": "royalblue"
         },
         "name": "precision",
         "type": "scatter",
         "x": [
          0,
          0.01,
          0.02,
          0.03,
          0.04,
          0.05,
          0.06,
          0.07,
          0.08,
          0.09,
          0.1,
          0.11,
          0.12,
          0.13,
          0.14,
          0.15,
          0.16,
          0.17,
          0.18,
          0.19,
          0.2,
          0.21,
          0.22,
          0.23,
          0.24,
          0.25,
          0.26,
          0.27,
          0.28,
          0.29,
          0.3,
          0.31,
          0.32,
          0.33,
          0.34,
          0.35000000000000003,
          0.36,
          0.37,
          0.38,
          0.39,
          0.4,
          0.41000000000000003,
          0.42,
          0.43,
          0.44,
          0.45,
          0.46,
          0.47000000000000003,
          0.48,
          0.49,
          0.5,
          0.51,
          0.52,
          0.53,
          0.54,
          0.55,
          0.56,
          0.5700000000000001,
          0.58,
          0.59,
          0.6,
          0.61,
          0.62,
          0.63,
          0.64,
          0.65,
          0.66,
          0.67,
          0.68,
          0.6900000000000001,
          0.7000000000000001,
          0.71,
          0.72,
          0.73,
          0.74,
          0.75,
          0.76,
          0.77,
          0.78,
          0.79,
          0.8,
          0.81,
          0.8200000000000001,
          0.8300000000000001,
          0.84,
          0.85,
          0.86,
          0.87,
          0.88,
          0.89,
          0.9,
          0.91,
          0.92,
          0.93,
          0.9400000000000001,
          0.9500000000000001,
          0.96,
          0.97,
          0.98,
          0.99,
          1
         ],
         "xaxis": "x8",
         "y": [
          0.6293706293706294,
          0.8910891089108911,
          0.8910891089108911,
          0.9183673469387755,
          0.9183673469387755,
          0.9278350515463918,
          0.9278350515463918,
          0.9278350515463918,
          0.9375,
          0.9473684210526315,
          0.9473684210526315,
          0.9473684210526315,
          0.9473684210526315,
          0.9473684210526315,
          0.9574468085106383,
          0.9574468085106383,
          0.9574468085106383,
          0.9574468085106383,
          0.9574468085106383,
          0.9574468085106383,
          0.9574468085106383,
          0.967741935483871,
          0.967741935483871,
          0.967741935483871,
          0.967741935483871,
          0.967741935483871,
          0.967741935483871,
          0.967741935483871,
          0.967741935483871,
          0.967741935483871,
          0.967741935483871,
          0.967741935483871,
          0.967741935483871,
          0.967741935483871,
          0.967741935483871,
          0.967741935483871,
          0.967741935483871,
          0.967741935483871,
          0.967391304347826,
          0.967391304347826,
          0.967391304347826,
          0.967391304347826,
          0.967391304347826,
          0.967391304347826,
          0.967391304347826,
          0.967391304347826,
          0.967391304347826,
          0.967391304347826,
          0.967391304347826,
          0.967391304347826,
          0.978021978021978,
          0.978021978021978,
          0.978021978021978,
          0.978021978021978,
          0.978021978021978,
          0.978021978021978,
          0.978021978021978,
          0.978021978021978,
          0.978021978021978,
          0.978021978021978,
          0.9888888888888889,
          0.9888888888888889,
          0.9888888888888889,
          0.9888888888888889,
          0.9888888888888889,
          0.9888888888888889,
          0.9887640449438202,
          0.9887640449438202,
          0.9887640449438202,
          0.9887640449438202,
          0.9887640449438202,
          0.9887640449438202,
          0.9887640449438202,
          0.9887640449438202,
          0.9887640449438202,
          0.9887640449438202,
          0.9887640449438202,
          0.9887640449438202,
          0.9887640449438202,
          0.9887640449438202,
          0.9887640449438202,
          0.9887640449438202,
          0.9887640449438202,
          0.9886363636363636,
          1,
          1,
          1,
          1,
          1,
          1,
          1,
          1,
          1,
          1,
          1,
          1,
          1,
          1,
          1,
          1,
          0
         ],
         "yaxis": "y8"
        },
        {
         "line": {
          "color": "green"
         },
         "name": "recall",
         "type": "scatter",
         "x": [
          0,
          0.01,
          0.02,
          0.03,
          0.04,
          0.05,
          0.06,
          0.07,
          0.08,
          0.09,
          0.1,
          0.11,
          0.12,
          0.13,
          0.14,
          0.15,
          0.16,
          0.17,
          0.18,
          0.19,
          0.2,
          0.21,
          0.22,
          0.23,
          0.24,
          0.25,
          0.26,
          0.27,
          0.28,
          0.29,
          0.3,
          0.31,
          0.32,
          0.33,
          0.34,
          0.35000000000000003,
          0.36,
          0.37,
          0.38,
          0.39,
          0.4,
          0.41000000000000003,
          0.42,
          0.43,
          0.44,
          0.45,
          0.46,
          0.47000000000000003,
          0.48,
          0.49,
          0.5,
          0.51,
          0.52,
          0.53,
          0.54,
          0.55,
          0.56,
          0.5700000000000001,
          0.58,
          0.59,
          0.6,
          0.61,
          0.62,
          0.63,
          0.64,
          0.65,
          0.66,
          0.67,
          0.68,
          0.6900000000000001,
          0.7000000000000001,
          0.71,
          0.72,
          0.73,
          0.74,
          0.75,
          0.76,
          0.77,
          0.78,
          0.79,
          0.8,
          0.81,
          0.8200000000000001,
          0.8300000000000001,
          0.84,
          0.85,
          0.86,
          0.87,
          0.88,
          0.89,
          0.9,
          0.91,
          0.92,
          0.93,
          0.9400000000000001,
          0.9500000000000001,
          0.96,
          0.97,
          0.98,
          0.99,
          1
         ],
         "xaxis": "x8",
         "y": [
          1,
          1,
          1,
          1,
          1,
          1,
          1,
          1,
          1,
          1,
          1,
          1,
          1,
          1,
          1,
          1,
          1,
          1,
          1,
          1,
          1,
          1,
          1,
          1,
          1,
          1,
          1,
          1,
          1,
          1,
          1,
          1,
          1,
          1,
          1,
          1,
          1,
          1,
          0.9888888888888889,
          0.9888888888888889,
          0.9888888888888889,
          0.9888888888888889,
          0.9888888888888889,
          0.9888888888888889,
          0.9888888888888889,
          0.9888888888888889,
          0.9888888888888889,
          0.9888888888888889,
          0.9888888888888889,
          0.9888888888888889,
          0.9888888888888889,
          0.9888888888888889,
          0.9888888888888889,
          0.9888888888888889,
          0.9888888888888889,
          0.9888888888888889,
          0.9888888888888889,
          0.9888888888888889,
          0.9888888888888889,
          0.9888888888888889,
          0.9888888888888889,
          0.9888888888888889,
          0.9888888888888889,
          0.9888888888888889,
          0.9888888888888889,
          0.9888888888888889,
          0.9777777777777777,
          0.9777777777777777,
          0.9777777777777777,
          0.9777777777777777,
          0.9777777777777777,
          0.9777777777777777,
          0.9777777777777777,
          0.9777777777777777,
          0.9777777777777777,
          0.9777777777777777,
          0.9777777777777777,
          0.9777777777777777,
          0.9777777777777777,
          0.9777777777777777,
          0.9777777777777777,
          0.9777777777777777,
          0.9777777777777777,
          0.9666666666666667,
          0.9666666666666667,
          0.9555555555555556,
          0.9555555555555556,
          0.9555555555555556,
          0.9555555555555556,
          0.9444444444444444,
          0.9333333333333333,
          0.9333333333333333,
          0.9222222222222223,
          0.9111111111111111,
          0.9111111111111111,
          0.9111111111111111,
          0.9,
          0.8777777777777778,
          0.8666666666666667,
          0.7777777777777778,
          0
         ],
         "yaxis": "y8"
        },
        {
         "line": {
          "color": "firebrick"
         },
         "name": "f1",
         "type": "scatter",
         "x": [
          0,
          0.01,
          0.02,
          0.03,
          0.04,
          0.05,
          0.06,
          0.07,
          0.08,
          0.09,
          0.1,
          0.11,
          0.12,
          0.13,
          0.14,
          0.15,
          0.16,
          0.17,
          0.18,
          0.19,
          0.2,
          0.21,
          0.22,
          0.23,
          0.24,
          0.25,
          0.26,
          0.27,
          0.28,
          0.29,
          0.3,
          0.31,
          0.32,
          0.33,
          0.34,
          0.35000000000000003,
          0.36,
          0.37,
          0.38,
          0.39,
          0.4,
          0.41000000000000003,
          0.42,
          0.43,
          0.44,
          0.45,
          0.46,
          0.47000000000000003,
          0.48,
          0.49,
          0.5,
          0.51,
          0.52,
          0.53,
          0.54,
          0.55,
          0.56,
          0.5700000000000001,
          0.58,
          0.59,
          0.6,
          0.61,
          0.62,
          0.63,
          0.64,
          0.65,
          0.66,
          0.67,
          0.68,
          0.6900000000000001,
          0.7000000000000001,
          0.71,
          0.72,
          0.73,
          0.74,
          0.75,
          0.76,
          0.77,
          0.78,
          0.79,
          0.8,
          0.81,
          0.8200000000000001,
          0.8300000000000001,
          0.84,
          0.85,
          0.86,
          0.87,
          0.88,
          0.89,
          0.9,
          0.91,
          0.92,
          0.93,
          0.9400000000000001,
          0.9500000000000001,
          0.96,
          0.97,
          0.98,
          0.99,
          1
         ],
         "xaxis": "x8",
         "y": [
          0.7725321888412017,
          0.9424083769633509,
          0.9424083769633509,
          0.9574468085106383,
          0.9574468085106383,
          0.9625668449197862,
          0.9625668449197862,
          0.9625668449197862,
          0.967741935483871,
          0.972972972972973,
          0.972972972972973,
          0.972972972972973,
          0.972972972972973,
          0.972972972972973,
          0.9782608695652174,
          0.9782608695652174,
          0.9782608695652174,
          0.9782608695652174,
          0.9782608695652174,
          0.9782608695652174,
          0.9782608695652174,
          0.9836065573770492,
          0.9836065573770492,
          0.9836065573770492,
          0.9836065573770492,
          0.9836065573770492,
          0.9836065573770492,
          0.9836065573770492,
          0.9836065573770492,
          0.9836065573770492,
          0.9836065573770492,
          0.9836065573770492,
          0.9836065573770492,
          0.9836065573770492,
          0.9836065573770492,
          0.9836065573770492,
          0.9836065573770492,
          0.9836065573770492,
          0.978021978021978,
          0.978021978021978,
          0.978021978021978,
          0.978021978021978,
          0.978021978021978,
          0.978021978021978,
          0.978021978021978,
          0.978021978021978,
          0.978021978021978,
          0.978021978021978,
          0.978021978021978,
          0.978021978021978,
          0.9834254143646408,
          0.9834254143646408,
          0.9834254143646408,
          0.9834254143646408,
          0.9834254143646408,
          0.9834254143646408,
          0.9834254143646408,
          0.9834254143646408,
          0.9834254143646408,
          0.9834254143646408,
          0.9888888888888889,
          0.9888888888888889,
          0.9888888888888889,
          0.9888888888888889,
          0.9888888888888889,
          0.9888888888888889,
          0.9832402234636872,
          0.9832402234636872,
          0.9832402234636872,
          0.9832402234636872,
          0.9832402234636872,
          0.9832402234636872,
          0.9832402234636872,
          0.9832402234636872,
          0.9832402234636872,
          0.9832402234636872,
          0.9832402234636872,
          0.9832402234636872,
          0.9832402234636872,
          0.9832402234636872,
          0.9832402234636872,
          0.9832402234636872,
          0.9832402234636872,
          0.9775280898876404,
          0.983050847457627,
          0.9772727272727273,
          0.9772727272727273,
          0.9772727272727273,
          0.9772727272727273,
          0.9714285714285714,
          0.9655172413793104,
          0.9655172413793104,
          0.9595375722543353,
          0.9534883720930233,
          0.9534883720930233,
          0.9534883720930233,
          0.9473684210526316,
          0.9349112426035503,
          0.9285714285714286,
          0.8750000000000001,
          0
         ],
         "yaxis": "y8"
        },
        {
         "cells": {
          "align": [
           "left",
           "center"
          ],
          "font": {
           "size": 12
          },
          "height": 25,
          "line": {
           "color": "darkslategray"
          },
          "values": [
           [
            "fbeta",
            "precision",
            "recall",
            "AIC",
            "binary_crossentropy",
            "F1",
            "specificity",
            "AUC PR"
           ],
           [
            0.9866962305986695,
            0.978021978021978,
            0.9888888888888889,
            0.621954643909719,
            0.04653455158012758,
            0.9834254143646408,
            0.9622641509433962,
            0.9993899254569144
           ]
          ]
         },
         "domain": {
          "x": [
           0.35555555555555557,
           0.6444444444444445
          ],
          "y": [
           0,
           0.22222222222222224
          ]
         },
         "type": "table"
        }
       ],
       "layout": {
        "annotations": [
         {
          "font": {
           "size": 16
          },
          "showarrow": false,
          "text": "ROC",
          "x": 0.14444444444444446,
          "xanchor": "center",
          "xref": "paper",
          "y": 1,
          "yanchor": "bottom",
          "yref": "paper"
         },
         {
          "font": {
           "size": 16
          },
          "showarrow": false,
          "text": "PR",
          "x": 0.5,
          "xanchor": "center",
          "xref": "paper",
          "y": 1,
          "yanchor": "bottom",
          "yref": "paper"
         },
         {
          "font": {
           "size": 16
          },
          "showarrow": false,
          "text": "Probability Distribution",
          "x": 0.8555555555555556,
          "xanchor": "center",
          "xref": "paper",
          "y": 1,
          "yanchor": "bottom",
          "yref": "paper"
         },
         {
          "font": {
           "size": 16
          },
          "showarrow": false,
          "text": "Residual",
          "x": 0.14444444444444446,
          "xanchor": "center",
          "xref": "paper",
          "y": 0.6111111111111112,
          "yanchor": "bottom",
          "yref": "paper"
         },
         {
          "font": {
           "size": 16
          },
          "showarrow": false,
          "text": "Calibration",
          "x": 0.5,
          "xanchor": "center",
          "xref": "paper",
          "y": 0.6111111111111112,
          "yanchor": "bottom",
          "yref": "paper"
         },
         {
          "font": {
           "size": 16
          },
          "showarrow": false,
          "text": "Spec-Sens",
          "x": 0.8555555555555556,
          "xanchor": "center",
          "xref": "paper",
          "y": 0.6111111111111112,
          "yanchor": "bottom",
          "yref": "paper"
         },
         {
          "font": {
           "size": 16
          },
          "showarrow": false,
          "text": "Gains",
          "x": 0.14444444444444446,
          "xanchor": "center",
          "xref": "paper",
          "y": 0.22222222222222224,
          "yanchor": "bottom",
          "yref": "paper"
         },
         {
          "font": {
           "size": 16
          },
          "showarrow": false,
          "text": "Metrics",
          "x": 0.5,
          "xanchor": "center",
          "xref": "paper",
          "y": 0.22222222222222224,
          "yanchor": "bottom",
          "yref": "paper"
         },
         {
          "font": {
           "size": 16
          },
          "showarrow": false,
          "text": "Discrimination Threshold",
          "x": 0.8555555555555556,
          "xanchor": "center",
          "xref": "paper",
          "y": 0.22222222222222224,
          "yanchor": "bottom",
          "yref": "paper"
         }
        ],
        "autosize": false,
        "height": 1200,
        "showlegend": false,
        "template": {
         "data": {
          "bar": [
           {
            "error_x": {
             "color": "#f2f5fa"
            },
            "error_y": {
             "color": "#f2f5fa"
            },
            "marker": {
             "line": {
              "color": "rgb(17,17,17)",
              "width": 0.5
             },
             "pattern": {
              "fillmode": "overlay",
              "size": 10,
              "solidity": 0.2
             }
            },
            "type": "bar"
           }
          ],
          "barpolar": [
           {
            "marker": {
             "line": {
              "color": "rgb(17,17,17)",
              "width": 0.5
             },
             "pattern": {
              "fillmode": "overlay",
              "size": 10,
              "solidity": 0.2
             }
            },
            "type": "barpolar"
           }
          ],
          "carpet": [
           {
            "aaxis": {
             "endlinecolor": "#A2B1C6",
             "gridcolor": "#506784",
             "linecolor": "#506784",
             "minorgridcolor": "#506784",
             "startlinecolor": "#A2B1C6"
            },
            "baxis": {
             "endlinecolor": "#A2B1C6",
             "gridcolor": "#506784",
             "linecolor": "#506784",
             "minorgridcolor": "#506784",
             "startlinecolor": "#A2B1C6"
            },
            "type": "carpet"
           }
          ],
          "choropleth": [
           {
            "colorbar": {
             "outlinewidth": 0,
             "ticks": ""
            },
            "type": "choropleth"
           }
          ],
          "contour": [
           {
            "colorbar": {
             "outlinewidth": 0,
             "ticks": ""
            },
            "colorscale": [
             [
              0,
              "#0d0887"
             ],
             [
              0.1111111111111111,
              "#46039f"
             ],
             [
              0.2222222222222222,
              "#7201a8"
             ],
             [
              0.3333333333333333,
              "#9c179e"
             ],
             [
              0.4444444444444444,
              "#bd3786"
             ],
             [
              0.5555555555555556,
              "#d8576b"
             ],
             [
              0.6666666666666666,
              "#ed7953"
             ],
             [
              0.7777777777777778,
              "#fb9f3a"
             ],
             [
              0.8888888888888888,
              "#fdca26"
             ],
             [
              1,
              "#f0f921"
             ]
            ],
            "type": "contour"
           }
          ],
          "contourcarpet": [
           {
            "colorbar": {
             "outlinewidth": 0,
             "ticks": ""
            },
            "type": "contourcarpet"
           }
          ],
          "heatmap": [
           {
            "colorbar": {
             "outlinewidth": 0,
             "ticks": ""
            },
            "colorscale": [
             [
              0,
              "#0d0887"
             ],
             [
              0.1111111111111111,
              "#46039f"
             ],
             [
              0.2222222222222222,
              "#7201a8"
             ],
             [
              0.3333333333333333,
              "#9c179e"
             ],
             [
              0.4444444444444444,
              "#bd3786"
             ],
             [
              0.5555555555555556,
              "#d8576b"
             ],
             [
              0.6666666666666666,
              "#ed7953"
             ],
             [
              0.7777777777777778,
              "#fb9f3a"
             ],
             [
              0.8888888888888888,
              "#fdca26"
             ],
             [
              1,
              "#f0f921"
             ]
            ],
            "type": "heatmap"
           }
          ],
          "heatmapgl": [
           {
            "colorbar": {
             "outlinewidth": 0,
             "ticks": ""
            },
            "colorscale": [
             [
              0,
              "#0d0887"
             ],
             [
              0.1111111111111111,
              "#46039f"
             ],
             [
              0.2222222222222222,
              "#7201a8"
             ],
             [
              0.3333333333333333,
              "#9c179e"
             ],
             [
              0.4444444444444444,
              "#bd3786"
             ],
             [
              0.5555555555555556,
              "#d8576b"
             ],
             [
              0.6666666666666666,
              "#ed7953"
             ],
             [
              0.7777777777777778,
              "#fb9f3a"
             ],
             [
              0.8888888888888888,
              "#fdca26"
             ],
             [
              1,
              "#f0f921"
             ]
            ],
            "type": "heatmapgl"
           }
          ],
          "histogram": [
           {
            "marker": {
             "pattern": {
              "fillmode": "overlay",
              "size": 10,
              "solidity": 0.2
             }
            },
            "type": "histogram"
           }
          ],
          "histogram2d": [
           {
            "colorbar": {
             "outlinewidth": 0,
             "ticks": ""
            },
            "colorscale": [
             [
              0,
              "#0d0887"
             ],
             [
              0.1111111111111111,
              "#46039f"
             ],
             [
              0.2222222222222222,
              "#7201a8"
             ],
             [
              0.3333333333333333,
              "#9c179e"
             ],
             [
              0.4444444444444444,
              "#bd3786"
             ],
             [
              0.5555555555555556,
              "#d8576b"
             ],
             [
              0.6666666666666666,
              "#ed7953"
             ],
             [
              0.7777777777777778,
              "#fb9f3a"
             ],
             [
              0.8888888888888888,
              "#fdca26"
             ],
             [
              1,
              "#f0f921"
             ]
            ],
            "type": "histogram2d"
           }
          ],
          "histogram2dcontour": [
           {
            "colorbar": {
             "outlinewidth": 0,
             "ticks": ""
            },
            "colorscale": [
             [
              0,
              "#0d0887"
             ],
             [
              0.1111111111111111,
              "#46039f"
             ],
             [
              0.2222222222222222,
              "#7201a8"
             ],
             [
              0.3333333333333333,
              "#9c179e"
             ],
             [
              0.4444444444444444,
              "#bd3786"
             ],
             [
              0.5555555555555556,
              "#d8576b"
             ],
             [
              0.6666666666666666,
              "#ed7953"
             ],
             [
              0.7777777777777778,
              "#fb9f3a"
             ],
             [
              0.8888888888888888,
              "#fdca26"
             ],
             [
              1,
              "#f0f921"
             ]
            ],
            "type": "histogram2dcontour"
           }
          ],
          "mesh3d": [
           {
            "colorbar": {
             "outlinewidth": 0,
             "ticks": ""
            },
            "type": "mesh3d"
           }
          ],
          "parcoords": [
           {
            "line": {
             "colorbar": {
              "outlinewidth": 0,
              "ticks": ""
             }
            },
            "type": "parcoords"
           }
          ],
          "pie": [
           {
            "automargin": true,
            "type": "pie"
           }
          ],
          "scatter": [
           {
            "marker": {
             "line": {
              "color": "#283442"
             }
            },
            "type": "scatter"
           }
          ],
          "scatter3d": [
           {
            "line": {
             "colorbar": {
              "outlinewidth": 0,
              "ticks": ""
             }
            },
            "marker": {
             "colorbar": {
              "outlinewidth": 0,
              "ticks": ""
             }
            },
            "type": "scatter3d"
           }
          ],
          "scattercarpet": [
           {
            "marker": {
             "colorbar": {
              "outlinewidth": 0,
              "ticks": ""
             }
            },
            "type": "scattercarpet"
           }
          ],
          "scattergeo": [
           {
            "marker": {
             "colorbar": {
              "outlinewidth": 0,
              "ticks": ""
             }
            },
            "type": "scattergeo"
           }
          ],
          "scattergl": [
           {
            "marker": {
             "line": {
              "color": "#283442"
             }
            },
            "type": "scattergl"
           }
          ],
          "scattermapbox": [
           {
            "marker": {
             "colorbar": {
              "outlinewidth": 0,
              "ticks": ""
             }
            },
            "type": "scattermapbox"
           }
          ],
          "scatterpolar": [
           {
            "marker": {
             "colorbar": {
              "outlinewidth": 0,
              "ticks": ""
             }
            },
            "type": "scatterpolar"
           }
          ],
          "scatterpolargl": [
           {
            "marker": {
             "colorbar": {
              "outlinewidth": 0,
              "ticks": ""
             }
            },
            "type": "scatterpolargl"
           }
          ],
          "scatterternary": [
           {
            "marker": {
             "colorbar": {
              "outlinewidth": 0,
              "ticks": ""
             }
            },
            "type": "scatterternary"
           }
          ],
          "surface": [
           {
            "colorbar": {
             "outlinewidth": 0,
             "ticks": ""
            },
            "colorscale": [
             [
              0,
              "#0d0887"
             ],
             [
              0.1111111111111111,
              "#46039f"
             ],
             [
              0.2222222222222222,
              "#7201a8"
             ],
             [
              0.3333333333333333,
              "#9c179e"
             ],
             [
              0.4444444444444444,
              "#bd3786"
             ],
             [
              0.5555555555555556,
              "#d8576b"
             ],
             [
              0.6666666666666666,
              "#ed7953"
             ],
             [
              0.7777777777777778,
              "#fb9f3a"
             ],
             [
              0.8888888888888888,
              "#fdca26"
             ],
             [
              1,
              "#f0f921"
             ]
            ],
            "type": "surface"
           }
          ],
          "table": [
           {
            "cells": {
             "fill": {
              "color": "#506784"
             },
             "line": {
              "color": "rgb(17,17,17)"
             }
            },
            "header": {
             "fill": {
              "color": "#2a3f5f"
             },
             "line": {
              "color": "rgb(17,17,17)"
             }
            },
            "type": "table"
           }
          ]
         },
         "layout": {
          "annotationdefaults": {
           "arrowcolor": "#f2f5fa",
           "arrowhead": 0,
           "arrowwidth": 1
          },
          "autotypenumbers": "strict",
          "coloraxis": {
           "colorbar": {
            "outlinewidth": 0,
            "ticks": ""
           }
          },
          "colorscale": {
           "diverging": [
            [
             0,
             "#8e0152"
            ],
            [
             0.1,
             "#c51b7d"
            ],
            [
             0.2,
             "#de77ae"
            ],
            [
             0.3,
             "#f1b6da"
            ],
            [
             0.4,
             "#fde0ef"
            ],
            [
             0.5,
             "#f7f7f7"
            ],
            [
             0.6,
             "#e6f5d0"
            ],
            [
             0.7,
             "#b8e186"
            ],
            [
             0.8,
             "#7fbc41"
            ],
            [
             0.9,
             "#4d9221"
            ],
            [
             1,
             "#276419"
            ]
           ],
           "sequential": [
            [
             0,
             "#0d0887"
            ],
            [
             0.1111111111111111,
             "#46039f"
            ],
            [
             0.2222222222222222,
             "#7201a8"
            ],
            [
             0.3333333333333333,
             "#9c179e"
            ],
            [
             0.4444444444444444,
             "#bd3786"
            ],
            [
             0.5555555555555556,
             "#d8576b"
            ],
            [
             0.6666666666666666,
             "#ed7953"
            ],
            [
             0.7777777777777778,
             "#fb9f3a"
            ],
            [
             0.8888888888888888,
             "#fdca26"
            ],
            [
             1,
             "#f0f921"
            ]
           ],
           "sequentialminus": [
            [
             0,
             "#0d0887"
            ],
            [
             0.1111111111111111,
             "#46039f"
            ],
            [
             0.2222222222222222,
             "#7201a8"
            ],
            [
             0.3333333333333333,
             "#9c179e"
            ],
            [
             0.4444444444444444,
             "#bd3786"
            ],
            [
             0.5555555555555556,
             "#d8576b"
            ],
            [
             0.6666666666666666,
             "#ed7953"
            ],
            [
             0.7777777777777778,
             "#fb9f3a"
            ],
            [
             0.8888888888888888,
             "#fdca26"
            ],
            [
             1,
             "#f0f921"
            ]
           ]
          },
          "colorway": [
           "#636efa",
           "#EF553B",
           "#00cc96",
           "#ab63fa",
           "#FFA15A",
           "#19d3f3",
           "#FF6692",
           "#B6E880",
           "#FF97FF",
           "#FECB52"
          ],
          "font": {
           "color": "#f2f5fa"
          },
          "geo": {
           "bgcolor": "rgb(17,17,17)",
           "lakecolor": "rgb(17,17,17)",
           "landcolor": "rgb(17,17,17)",
           "showlakes": true,
           "showland": true,
           "subunitcolor": "#506784"
          },
          "hoverlabel": {
           "align": "left"
          },
          "hovermode": "closest",
          "mapbox": {
           "style": "dark"
          },
          "paper_bgcolor": "rgb(17,17,17)",
          "plot_bgcolor": "rgb(17,17,17)",
          "polar": {
           "angularaxis": {
            "gridcolor": "#506784",
            "linecolor": "#506784",
            "ticks": ""
           },
           "bgcolor": "rgb(17,17,17)",
           "radialaxis": {
            "gridcolor": "#506784",
            "linecolor": "#506784",
            "ticks": ""
           }
          },
          "scene": {
           "xaxis": {
            "backgroundcolor": "rgb(17,17,17)",
            "gridcolor": "#506784",
            "gridwidth": 2,
            "linecolor": "#506784",
            "showbackground": true,
            "ticks": "",
            "zerolinecolor": "#C8D4E3"
           },
           "yaxis": {
            "backgroundcolor": "rgb(17,17,17)",
            "gridcolor": "#506784",
            "gridwidth": 2,
            "linecolor": "#506784",
            "showbackground": true,
            "ticks": "",
            "zerolinecolor": "#C8D4E3"
           },
           "zaxis": {
            "backgroundcolor": "rgb(17,17,17)",
            "gridcolor": "#506784",
            "gridwidth": 2,
            "linecolor": "#506784",
            "showbackground": true,
            "ticks": "",
            "zerolinecolor": "#C8D4E3"
           }
          },
          "shapedefaults": {
           "line": {
            "color": "#f2f5fa"
           }
          },
          "sliderdefaults": {
           "bgcolor": "#C8D4E3",
           "bordercolor": "rgb(17,17,17)",
           "borderwidth": 1,
           "tickwidth": 0
          },
          "ternary": {
           "aaxis": {
            "gridcolor": "#506784",
            "linecolor": "#506784",
            "ticks": ""
           },
           "baxis": {
            "gridcolor": "#506784",
            "linecolor": "#506784",
            "ticks": ""
           },
           "bgcolor": "rgb(17,17,17)",
           "caxis": {
            "gridcolor": "#506784",
            "linecolor": "#506784",
            "ticks": ""
           }
          },
          "title": {
           "x": 0.05
          },
          "updatemenudefaults": {
           "bgcolor": "#506784",
           "borderwidth": 0
          },
          "xaxis": {
           "automargin": true,
           "gridcolor": "#283442",
           "linecolor": "#506784",
           "ticks": "",
           "title": {
            "standoff": 15
           },
           "zerolinecolor": "#283442",
           "zerolinewidth": 2
          },
          "yaxis": {
           "automargin": true,
           "gridcolor": "#283442",
           "linecolor": "#506784",
           "ticks": "",
           "title": {
            "standoff": 15
           },
           "zerolinecolor": "#283442",
           "zerolinewidth": 2
          }
         }
        },
        "title": {
         "text": ""
        },
        "width": 1200,
        "xaxis": {
         "anchor": "y",
         "domain": [
          0,
          0.2888888888888889
         ],
         "tickmode": "array",
         "tickvals": [
          0,
          0.25,
          0.5,
          0.75,
          1
         ],
         "title": {
          "text": "TPR"
         }
        },
        "xaxis2": {
         "anchor": "y2",
         "domain": [
          0.35555555555555557,
          0.6444444444444445
         ],
         "tickmode": "array",
         "tickvals": [
          0,
          0.25,
          0.5,
          0.75,
          1
         ],
         "title": {
          "text": "Recall"
         }
        },
        "xaxis3": {
         "anchor": "y3",
         "domain": [
          0.7111111111111111,
          1
         ],
         "title": {
          "text": "Mean Probability"
         }
        },
        "xaxis4": {
         "anchor": "y4",
         "domain": [
          0,
          0.2888888888888889
         ],
         "title": {
          "text": "Bin"
         }
        },
        "xaxis5": {
         "anchor": "y5",
         "domain": [
          0.35555555555555557,
          0.6444444444444445
         ],
         "title": {
          "text": "Prob True"
         }
        },
        "xaxis6": {
         "anchor": "y6",
         "domain": [
          0.7111111111111111,
          1
         ]
        },
        "xaxis7": {
         "anchor": "y7",
         "domain": [
          0,
          0.2888888888888889
         ]
        },
        "xaxis8": {
         "anchor": "y8",
         "domain": [
          0.7111111111111111,
          1
         ],
         "title": {
          "text": "Threshold"
         }
        },
        "yaxis": {
         "anchor": "x",
         "domain": [
          0.7777777777777778,
          1
         ],
         "tickmode": "array",
         "tickvals": [
          0,
          0.25,
          0.5,
          0.75,
          1
         ],
         "title": {
          "text": "FPR"
         }
        },
        "yaxis2": {
         "anchor": "x2",
         "domain": [
          0.7777777777777778,
          1
         ],
         "tickmode": "array",
         "tickvals": [
          0,
          0.25,
          0.5,
          0.75,
          1
         ],
         "title": {
          "text": "Precision"
         }
        },
        "yaxis3": {
         "anchor": "x3",
         "domain": [
          0.7777777777777778,
          1
         ],
         "title": {
          "text": "Count"
         }
        },
        "yaxis4": {
         "anchor": "x4",
         "domain": [
          0.3888888888888889,
          0.6111111111111112
         ],
         "title": {
          "text": "Residual"
         }
        },
        "yaxis5": {
         "anchor": "x5",
         "domain": [
          0.3888888888888889,
          0.6111111111111112
         ],
         "title": {
          "text": "Prob Pred"
         }
        },
        "yaxis6": {
         "anchor": "x6",
         "domain": [
          0.3888888888888889,
          0.6111111111111112
         ]
        },
        "yaxis7": {
         "anchor": "x7",
         "domain": [
          0,
          0.22222222222222224
         ]
        },
        "yaxis8": {
         "anchor": "x8",
         "domain": [
          0,
          0.22222222222222224
         ],
         "title": {
          "text": "Metric"
         }
        }
       }
      }
     },
     "metadata": {},
     "output_type": "display_data"
    }
   ],
   "source": [
    "# clf = clf.fit(X_train, y_train)\n",
    "# y_pred = clf.predict(X_test)\n",
    "# y_pred_proba = clf.predict_proba(X_test)\n",
    "\n",
    "plot_metrics('', y_test, y_pred, y_pred_proba[:, 1])"
   ]
  },
  {
   "cell_type": "code",
   "execution_count": null,
   "metadata": {},
   "outputs": [],
   "source": [
    "\n",
    "def plot_compare(title, metrics_dict):\n",
    "  '''For COMPARING things'''\n",
    "  pass"
   ]
  },
  {
   "cell_type": "code",
   "execution_count": 148,
   "metadata": {},
   "outputs": [],
   "source": [
    "  import colorcet as ct\n",
    "  from plotly.subplots import make_subplots\n",
    "  '''Plots curves and comparisons'''\n",
    "  if metrics:\n",
    "    # single\n",
    "    metrics_dict = {title: metrics}\n",
    "  \n",
    "  # if metrics_dict is passed, assume compare\n",
    "  if metrics_dict:\n",
    "    line_ = {}\n",
    "    marker_ = {}\n",
    "    colors_ = {}\n",
    "    for i, key in enumerate(metrics_dict.keys()):\n",
    "      \n",
    "      #np.random.choice(['#1f77b4','#ff7f0e','#2ca02c','#d62728','#9467bd','#8c564b','#e377c2','#7f7f7f','#bcbd22','#17becf'])\n",
    "      colors_[key] = ct.glasbey[i]\n",
    "      line_[key] = go.scatter.Line(color=ct.glasbey[i], dash=np.random.choice(['dash', 'dot']))\n",
    "      marker_[key] = go.scatter.Marker(color=ct.glasbey[i], symbol=np.random.choice(['diamond', 'triangle-up', 'square']))\n",
    "    \n",
    "    fig = make_subplots(rows=2, cols=3, \n",
    "                            subplot_titles=['ROC', 'PR', None, 'Residual','Calibration', 'Specificity-Sensitivity'],\n",
    "                           specs=[\n",
    "                             [{\"type\": \"scatter\"},{\"type\": \"scatter\"}, {\"type\": \"scatter\"}],\n",
    "                             [{\"type\": \"scatter\"}, {'type': 'scatter'}, {'type': 'scatter'}]])\n",
    "    \n",
    "\n",
    "    for model in metrics_dict.keys():\n",
    "      # pr_curve\n",
    "      _metrics =  metrics_dict[model]\n",
    "      pr, rec = _metrics['pr_curve']\n",
    "      fpr, tpr = _metrics['roc_curve']\n",
    "\n",
    "\n",
    "      prob_true, prob_pred = _metrics['calibration']\n",
    "\n",
    "      residuals = _metrics['residuals']\n",
    "      percentages, gain0, gain1 = _metrics['lift_curve']\n",
    "\n",
    "      spec, sens = _metrics['spec_sens']\n",
    "\n",
    "      fig.add_trace(go.Scatter(\n",
    "        x=[float(i) for i in rec],\n",
    "        y=pr,\n",
    "        name=model, \n",
    "        line=line_[model]\n",
    "      ), row=1, col=2)\n",
    "\n",
    "      fig.add_trace(go.Scatter(\n",
    "        x=fpr,\n",
    "        y=tpr,\n",
    "        name=model, \n",
    "        line=line_[model]\n",
    "      ), row=1, col=1)\n",
    "\n",
    "\n",
    "      fig.add_trace(go.Scatter(\n",
    "        x=[float(i) for i in residuals['bin']],\n",
    "        y=[float(i) for i in residuals['Residual']],\n",
    "        name=model,\n",
    "        line=line_[model],\n",
    "        marker=marker_[model],\n",
    "        mode='markers'\n",
    "      ), row=2, col=1)\n",
    "\n",
    "      fig.add_trace(go.Scatter(\n",
    "        x=prob_true,\n",
    "        y=prob_pred,\n",
    "        name=model,\n",
    "        line=line_[model],\n",
    "        marker=marker_[model],\n",
    "        mode='markers+lines'\n",
    "      ), row=2, col=2)\n",
    "\n",
    "      fig.add_trace(go.Scatter(\n",
    "        x=np.linspace(0, 1, 51),\n",
    "        y=spec,\n",
    "        name=model+'_specificity',\n",
    "        line=dict(color='red'),#line_[model],\n",
    "        # marker=marker_[model],\n",
    "        mode='markers+lines'\n",
    "      ), row=2, col=3)\n",
    "\n",
    "      fig.add_trace(go.Scatter(\n",
    "        x=np.linspace(0, 1, 51),\n",
    "        y=sens,\n",
    "        name=model+'_sensivity',\n",
    "        line=dict(color='blue'),#line_[model],\n",
    "        # marker=marker_[model],\n",
    "        mode='markers+lines'\n",
    "      ), row=2, col=3)\n",
    "  \n",
    "    fig.update_layout(\n",
    "      title=title,\n",
    "      autosize=False,\n",
    "      width=1200,\n",
    "      height=800\n",
    "    )\n",
    "    fig.show()\n",
    "    \n",
    "    \n",
    "    fig = make_subplots(rows=2, cols=4, subplot_titles=['precision', 'recall', 'binary_crossentropy', 'AIC', 'f1', 'specificity', 'aucpr'])\n",
    "\n",
    "    if len(metrics_dict.keys()) == 1:\n",
    "\n",
    "      fig = go.Figure(\n",
    "        go.Scatter(\n",
    "          x=metrics_dict[key]['prob_hist'][0][:-1],\n",
    "          y=metrics_dict[key]['prob_hist'][1],\n",
    "          name='Prediction Distribution'\n",
    "        )\n",
    "      )\n",
    "      \n",
    "      fig.update_layout(\n",
    "        autosize=False,\n",
    "        width=600, height=600,\n",
    "        xaxis = dict(title='Mean Probability'), \n",
    "        yaxis = dict(title='Count')\n",
    "      )\n",
    "      \n",
    "      fig.show()\n",
    "      \n",
    "      # if only single, output as table\n",
    "      values = [\n",
    "        ['precision', 'recall', 'AIC', 'binary_crossentropy', 'F1', 'specificity', 'AUC PR'],\n",
    "        [metrics_dict[key]['precision'],metrics_dict[key]['recall'], metrics_dict[key]['aic'], metrics_dict[key]['binary_crossentropy'], metrics_dict[key]['f1'], metrics_dict[key]['specificity'], metrics_dict[key]['aucpr']]\n",
    "      ]\n",
    "\n",
    "      fig = go.Figure(go.Table(\n",
    "        cells=dict(\n",
    "          values=values,\n",
    "          line_color='darkslategray',\n",
    "          fill=dict(color=['paleturquoise', 'white']),\n",
    "          align=['left', 'center'],\n",
    "          font_size=12,\n",
    "          height=30)\n",
    "      ))\n",
    "      fig.update_layout(\n",
    "        autosize=False,\n",
    "        width=800,\n",
    "        height=800\n",
    "      )\n",
    "      fig.show()\n",
    "    else:\n",
    "      for key in metrics_dict.keys():\n",
    "        fig.add_trace(go.Bar(\n",
    "          x=[key], \n",
    "          y=[metrics_dict[key]['precision']],\n",
    "          name=key, \n",
    "          marker_color=colors_[key]\n",
    "        ), row=1, col=1)\n",
    "        fig.add_trace(go.Bar(\n",
    "          x=[key], \n",
    "          y=[metrics_dict[key]['recall']],\n",
    "          name=key, \n",
    "          marker_color=colors_[key]\n",
    "        ), row=1, col=2)\n",
    "        fig.add_trace(go.Bar(\n",
    "          x=[key], \n",
    "          y=[metrics_dict[key]['aic']],\n",
    "          name=key, \n",
    "          marker_color=colors_[key]\n",
    "        ), row=1, col=4)\n",
    "        fig.add_trace(go.Bar(\n",
    "          x=[key], \n",
    "          y=[metrics_dict[key]['binary_crossentropy']],\n",
    "          name=key, \n",
    "          marker_color=colors_[key]\n",
    "        ), row=1, col=3)\n",
    "        fig.add_trace(go.Bar(\n",
    "          x=[key], \n",
    "          y=[metrics_dict[key]['f1']],\n",
    "          name=key, \n",
    "          marker_color=colors_[key]\n",
    "        ), row=2, col=1)\n",
    "        fig.add_trace(go.Bar(\n",
    "          x=[key], \n",
    "          y=[metrics_dict[key]['specificity']],\n",
    "          name=key, \n",
    "          marker_color=colors_[key]\n",
    "        ), row=2, col=2)\n",
    "        fig.add_trace(go.Bar(\n",
    "          x=[key], \n",
    "          y=[metrics_dict[key]['aucpr']],\n",
    "          name=key, \n",
    "          marker_color=colors_[key]\n",
    "        ), row=2, col=3)\n",
    "\n",
    "      fig.update_layout(showlegend=False, autosize=False, width=1200, height=800)\n",
    "      fig.show()"
   ]
  },
  {
   "cell_type": "code",
   "execution_count": 149,
   "metadata": {},
   "outputs": [],
   "source": [
    "from xgboost import XGBClassifier\n",
    "\n",
    "clf = XGBClassifier(eval_metric=\"logloss\", use_label_encoder=False)\n",
    "\n",
    "model = clf.fit(\n",
    "    X_train,\n",
    "    y_train,\n",
    ")\n"
   ]
  },
  {
   "cell_type": "code",
   "execution_count": 150,
   "metadata": {},
   "outputs": [
    {
     "name": "stderr",
     "output_type": "stream",
     "text": [
      "/tmp/ipykernel_3234698/4009526930.py:121: RuntimeWarning:\n",
      "\n",
      "invalid value encountered in long_scalars\n",
      "\n"
     ]
    }
   ],
   "source": [
    "y_pred = model.predict(X_test)\n",
    "y_pred_proba = model.predict_proba(X_test)[:, 1]\n",
    "\n",
    "spec, sens = specificity_sensitivity_curve(y_pred, y_pred_proba)\n"
   ]
  },
  {
   "cell_type": "code",
   "execution_count": 151,
   "metadata": {},
   "outputs": [
    {
     "data": {
      "application/vnd.plotly.v1+json": {
       "config": {
        "plotlyServerURL": "https://plot.ly"
       },
       "data": [
        {
         "name": "Class: 0",
         "type": "scatter",
         "x": [
          0,
          0.006993006993006993,
          0.013986013986013986,
          0.02097902097902098,
          0.027972027972027972,
          0.03496503496503497,
          0.04195804195804196,
          0.04895104895104895,
          0.055944055944055944,
          0.06293706293706294,
          0.06993006993006994,
          0.07692307692307693,
          0.08391608391608392,
          0.09090909090909091,
          0.0979020979020979,
          0.1048951048951049,
          0.11188811188811189,
          0.11888111888111888,
          0.1258741258741259,
          0.13286713286713286,
          0.13986013986013987,
          0.14685314685314685,
          0.15384615384615385,
          0.16083916083916083,
          0.16783216783216784,
          0.17482517482517482,
          0.18181818181818182,
          0.1888111888111888,
          0.1958041958041958,
          0.20279720279720279,
          0.2097902097902098,
          0.21678321678321677,
          0.22377622377622378,
          0.23076923076923078,
          0.23776223776223776,
          0.24475524475524477,
          0.2517482517482518,
          0.25874125874125875,
          0.26573426573426573,
          0.2727272727272727,
          0.27972027972027974,
          0.2867132867132867,
          0.2937062937062937,
          0.3006993006993007,
          0.3076923076923077,
          0.3146853146853147,
          0.32167832167832167,
          0.32867132867132864,
          0.3356643356643357,
          0.34265734265734266,
          0.34965034965034963,
          0.35664335664335667,
          0.36363636363636365,
          0.3706293706293706,
          0.3776223776223776,
          0.38461538461538464,
          0.3916083916083916,
          0.3986013986013986,
          0.40559440559440557,
          0.4125874125874126,
          0.4195804195804196,
          0.42657342657342656,
          0.43356643356643354,
          0.4405594405594406,
          0.44755244755244755,
          0.45454545454545453,
          0.46153846153846156,
          0.46853146853146854,
          0.4755244755244755,
          0.4825174825174825,
          0.48951048951048953,
          0.4965034965034965,
          0.5034965034965035,
          0.5104895104895105,
          0.5174825174825175,
          0.5244755244755245,
          0.5314685314685315,
          0.5384615384615384,
          0.5454545454545454,
          0.5524475524475524,
          0.5594405594405595,
          0.5664335664335665,
          0.5734265734265734,
          0.5804195804195804,
          0.5874125874125874,
          0.5944055944055944,
          0.6013986013986014,
          0.6083916083916084,
          0.6153846153846154,
          0.6223776223776224,
          0.6293706293706294,
          0.6363636363636364,
          0.6433566433566433,
          0.6503496503496503,
          0.6573426573426573,
          0.6643356643356644,
          0.6713286713286714,
          0.6783216783216783,
          0.6853146853146853,
          0.6923076923076923,
          0.6993006993006993,
          0.7062937062937062,
          0.7132867132867133,
          0.7202797202797203,
          0.7272727272727273,
          0.7342657342657343,
          0.7412587412587412,
          0.7482517482517482,
          0.7552447552447552,
          0.7622377622377622,
          0.7692307692307693,
          0.7762237762237763,
          0.7832167832167832,
          0.7902097902097902,
          0.7972027972027972,
          0.8041958041958042,
          0.8111888111888111,
          0.8181818181818182,
          0.8251748251748252,
          0.8321678321678322,
          0.8391608391608392,
          0.8461538461538461,
          0.8531468531468531,
          0.8601398601398601,
          0.8671328671328671,
          0.8741258741258742,
          0.8811188811188811,
          0.8881118881118881,
          0.8951048951048951,
          0.9020979020979021,
          0.9090909090909091,
          0.916083916083916,
          0.9230769230769231,
          0.9300699300699301,
          0.9370629370629371,
          0.9440559440559441,
          0.951048951048951,
          0.958041958041958,
          0.965034965034965,
          0.972027972027972,
          0.9790209790209791,
          0.986013986013986,
          0.993006993006993,
          1
         ],
         "y": [
          0,
          0,
          0,
          0,
          0,
          0,
          0,
          0,
          0,
          0,
          0,
          0,
          0,
          0,
          0,
          0,
          0,
          0,
          0,
          0,
          0,
          0,
          0,
          0,
          0,
          0,
          0,
          0,
          0,
          0,
          0,
          0,
          0,
          0,
          0,
          0,
          0,
          0,
          0,
          0,
          0,
          0,
          0,
          0,
          0,
          0,
          0,
          0,
          0,
          0,
          0,
          0,
          0,
          0,
          0,
          0,
          0,
          0,
          0,
          0,
          0,
          0,
          0,
          0,
          0,
          0,
          0,
          0,
          0,
          0,
          0,
          0,
          0,
          0,
          0,
          0,
          0,
          0,
          0,
          0,
          0,
          0,
          0,
          0,
          0,
          0,
          0,
          0.018867924528301886,
          0.03773584905660377,
          0.03773584905660377,
          0.05660377358490566,
          0.07547169811320754,
          0.07547169811320754,
          0.07547169811320754,
          0.09433962264150944,
          0.11320754716981132,
          0.11320754716981132,
          0.1320754716981132,
          0.1509433962264151,
          0.16981132075471697,
          0.18867924528301888,
          0.20754716981132076,
          0.22641509433962265,
          0.24528301886792453,
          0.2641509433962264,
          0.2830188679245283,
          0.3018867924528302,
          0.32075471698113206,
          0.33962264150943394,
          0.3584905660377358,
          0.37735849056603776,
          0.39622641509433965,
          0.41509433962264153,
          0.4339622641509434,
          0.4528301886792453,
          0.4716981132075472,
          0.49056603773584906,
          0.5094339622641509,
          0.5283018867924528,
          0.5471698113207547,
          0.5660377358490566,
          0.5849056603773585,
          0.6037735849056604,
          0.6226415094339622,
          0.6415094339622641,
          0.660377358490566,
          0.6792452830188679,
          0.6981132075471698,
          0.7169811320754716,
          0.7358490566037735,
          0.7547169811320755,
          0.7735849056603774,
          0.7924528301886793,
          0.8113207547169812,
          0.8301886792452831,
          0.8490566037735849,
          0.8679245283018868,
          0.8867924528301887,
          0.9056603773584906,
          0.9245283018867925,
          0.9433962264150944,
          0.9622641509433962,
          0.9811320754716981,
          1
         ]
        },
        {
         "name": "Class: 1",
         "type": "scatter",
         "x": [
          0,
          0.006993006993006993,
          0.013986013986013986,
          0.02097902097902098,
          0.027972027972027972,
          0.03496503496503497,
          0.04195804195804196,
          0.04895104895104895,
          0.055944055944055944,
          0.06293706293706294,
          0.06993006993006994,
          0.07692307692307693,
          0.08391608391608392,
          0.09090909090909091,
          0.0979020979020979,
          0.1048951048951049,
          0.11188811188811189,
          0.11888111888111888,
          0.1258741258741259,
          0.13286713286713286,
          0.13986013986013987,
          0.14685314685314685,
          0.15384615384615385,
          0.16083916083916083,
          0.16783216783216784,
          0.17482517482517482,
          0.18181818181818182,
          0.1888111888111888,
          0.1958041958041958,
          0.20279720279720279,
          0.2097902097902098,
          0.21678321678321677,
          0.22377622377622378,
          0.23076923076923078,
          0.23776223776223776,
          0.24475524475524477,
          0.2517482517482518,
          0.25874125874125875,
          0.26573426573426573,
          0.2727272727272727,
          0.27972027972027974,
          0.2867132867132867,
          0.2937062937062937,
          0.3006993006993007,
          0.3076923076923077,
          0.3146853146853147,
          0.32167832167832167,
          0.32867132867132864,
          0.3356643356643357,
          0.34265734265734266,
          0.34965034965034963,
          0.35664335664335667,
          0.36363636363636365,
          0.3706293706293706,
          0.3776223776223776,
          0.38461538461538464,
          0.3916083916083916,
          0.3986013986013986,
          0.40559440559440557,
          0.4125874125874126,
          0.4195804195804196,
          0.42657342657342656,
          0.43356643356643354,
          0.4405594405594406,
          0.44755244755244755,
          0.45454545454545453,
          0.46153846153846156,
          0.46853146853146854,
          0.4755244755244755,
          0.4825174825174825,
          0.48951048951048953,
          0.4965034965034965,
          0.5034965034965035,
          0.5104895104895105,
          0.5174825174825175,
          0.5244755244755245,
          0.5314685314685315,
          0.5384615384615384,
          0.5454545454545454,
          0.5524475524475524,
          0.5594405594405595,
          0.5664335664335665,
          0.5734265734265734,
          0.5804195804195804,
          0.5874125874125874,
          0.5944055944055944,
          0.6013986013986014,
          0.6083916083916084,
          0.6153846153846154,
          0.6223776223776224,
          0.6293706293706294,
          0.6363636363636364,
          0.6433566433566433,
          0.6503496503496503,
          0.6573426573426573,
          0.6643356643356644,
          0.6713286713286714,
          0.6783216783216783,
          0.6853146853146853,
          0.6923076923076923,
          0.6993006993006993,
          0.7062937062937062,
          0.7132867132867133,
          0.7202797202797203,
          0.7272727272727273,
          0.7342657342657343,
          0.7412587412587412,
          0.7482517482517482,
          0.7552447552447552,
          0.7622377622377622,
          0.7692307692307693,
          0.7762237762237763,
          0.7832167832167832,
          0.7902097902097902,
          0.7972027972027972,
          0.8041958041958042,
          0.8111888111888111,
          0.8181818181818182,
          0.8251748251748252,
          0.8321678321678322,
          0.8391608391608392,
          0.8461538461538461,
          0.8531468531468531,
          0.8601398601398601,
          0.8671328671328671,
          0.8741258741258742,
          0.8811188811188811,
          0.8881118881118881,
          0.8951048951048951,
          0.9020979020979021,
          0.9090909090909091,
          0.916083916083916,
          0.9230769230769231,
          0.9300699300699301,
          0.9370629370629371,
          0.9440559440559441,
          0.951048951048951,
          0.958041958041958,
          0.965034965034965,
          0.972027972027972,
          0.9790209790209791,
          0.986013986013986,
          0.993006993006993,
          1
         ],
         "y": [
          0,
          0.011111111111111112,
          0.022222222222222223,
          0.03333333333333333,
          0.044444444444444446,
          0.05555555555555555,
          0.06666666666666667,
          0.07777777777777778,
          0.08888888888888889,
          0.1,
          0.1111111111111111,
          0.12222222222222222,
          0.13333333333333333,
          0.14444444444444443,
          0.15555555555555556,
          0.16666666666666666,
          0.17777777777777778,
          0.18888888888888888,
          0.2,
          0.2111111111111111,
          0.2222222222222222,
          0.23333333333333334,
          0.24444444444444444,
          0.25555555555555554,
          0.26666666666666666,
          0.2777777777777778,
          0.28888888888888886,
          0.3,
          0.3111111111111111,
          0.32222222222222224,
          0.3333333333333333,
          0.34444444444444444,
          0.35555555555555557,
          0.36666666666666664,
          0.37777777777777777,
          0.3888888888888889,
          0.4,
          0.4111111111111111,
          0.4222222222222222,
          0.43333333333333335,
          0.4444444444444444,
          0.45555555555555555,
          0.4666666666666667,
          0.4777777777777778,
          0.4888888888888889,
          0.5,
          0.5111111111111111,
          0.5222222222222223,
          0.5333333333333333,
          0.5444444444444444,
          0.5555555555555556,
          0.5666666666666667,
          0.5777777777777777,
          0.5888888888888889,
          0.6,
          0.6111111111111112,
          0.6222222222222222,
          0.6333333333333333,
          0.6444444444444445,
          0.6555555555555556,
          0.6666666666666666,
          0.6777777777777778,
          0.6888888888888889,
          0.7,
          0.7111111111111111,
          0.7222222222222222,
          0.7333333333333333,
          0.7444444444444445,
          0.7555555555555555,
          0.7666666666666667,
          0.7777777777777778,
          0.7888888888888889,
          0.8,
          0.8111111111111111,
          0.8222222222222222,
          0.8333333333333334,
          0.8444444444444444,
          0.8555555555555555,
          0.8666666666666667,
          0.8777777777777778,
          0.8888888888888888,
          0.9,
          0.9111111111111111,
          0.9222222222222223,
          0.9333333333333333,
          0.9444444444444444,
          0.9555555555555556,
          0.9555555555555556,
          0.9555555555555556,
          0.9666666666666667,
          0.9666666666666667,
          0.9666666666666667,
          0.9777777777777777,
          0.9888888888888889,
          0.9888888888888889,
          0.9888888888888889,
          1,
          1,
          1,
          1,
          1,
          1,
          1,
          1,
          1,
          1,
          1,
          1,
          1,
          1,
          1,
          1,
          1,
          1,
          1,
          1,
          1,
          1,
          1,
          1,
          1,
          1,
          1,
          1,
          1,
          1,
          1,
          1,
          1,
          1,
          1,
          1,
          1,
          1,
          1,
          1,
          1,
          1,
          1,
          1,
          1,
          1,
          1,
          1
         ]
        }
       ],
       "layout": {
        "autosize": false,
        "height": 600,
        "template": {
         "data": {
          "bar": [
           {
            "error_x": {
             "color": "#2a3f5f"
            },
            "error_y": {
             "color": "#2a3f5f"
            },
            "marker": {
             "line": {
              "color": "#E5ECF6",
              "width": 0.5
             },
             "pattern": {
              "fillmode": "overlay",
              "size": 10,
              "solidity": 0.2
             }
            },
            "type": "bar"
           }
          ],
          "barpolar": [
           {
            "marker": {
             "line": {
              "color": "#E5ECF6",
              "width": 0.5
             },
             "pattern": {
              "fillmode": "overlay",
              "size": 10,
              "solidity": 0.2
             }
            },
            "type": "barpolar"
           }
          ],
          "carpet": [
           {
            "aaxis": {
             "endlinecolor": "#2a3f5f",
             "gridcolor": "white",
             "linecolor": "white",
             "minorgridcolor": "white",
             "startlinecolor": "#2a3f5f"
            },
            "baxis": {
             "endlinecolor": "#2a3f5f",
             "gridcolor": "white",
             "linecolor": "white",
             "minorgridcolor": "white",
             "startlinecolor": "#2a3f5f"
            },
            "type": "carpet"
           }
          ],
          "choropleth": [
           {
            "colorbar": {
             "outlinewidth": 0,
             "ticks": ""
            },
            "type": "choropleth"
           }
          ],
          "contour": [
           {
            "colorbar": {
             "outlinewidth": 0,
             "ticks": ""
            },
            "colorscale": [
             [
              0,
              "#0d0887"
             ],
             [
              0.1111111111111111,
              "#46039f"
             ],
             [
              0.2222222222222222,
              "#7201a8"
             ],
             [
              0.3333333333333333,
              "#9c179e"
             ],
             [
              0.4444444444444444,
              "#bd3786"
             ],
             [
              0.5555555555555556,
              "#d8576b"
             ],
             [
              0.6666666666666666,
              "#ed7953"
             ],
             [
              0.7777777777777778,
              "#fb9f3a"
             ],
             [
              0.8888888888888888,
              "#fdca26"
             ],
             [
              1,
              "#f0f921"
             ]
            ],
            "type": "contour"
           }
          ],
          "contourcarpet": [
           {
            "colorbar": {
             "outlinewidth": 0,
             "ticks": ""
            },
            "type": "contourcarpet"
           }
          ],
          "heatmap": [
           {
            "colorbar": {
             "outlinewidth": 0,
             "ticks": ""
            },
            "colorscale": [
             [
              0,
              "#0d0887"
             ],
             [
              0.1111111111111111,
              "#46039f"
             ],
             [
              0.2222222222222222,
              "#7201a8"
             ],
             [
              0.3333333333333333,
              "#9c179e"
             ],
             [
              0.4444444444444444,
              "#bd3786"
             ],
             [
              0.5555555555555556,
              "#d8576b"
             ],
             [
              0.6666666666666666,
              "#ed7953"
             ],
             [
              0.7777777777777778,
              "#fb9f3a"
             ],
             [
              0.8888888888888888,
              "#fdca26"
             ],
             [
              1,
              "#f0f921"
             ]
            ],
            "type": "heatmap"
           }
          ],
          "heatmapgl": [
           {
            "colorbar": {
             "outlinewidth": 0,
             "ticks": ""
            },
            "colorscale": [
             [
              0,
              "#0d0887"
             ],
             [
              0.1111111111111111,
              "#46039f"
             ],
             [
              0.2222222222222222,
              "#7201a8"
             ],
             [
              0.3333333333333333,
              "#9c179e"
             ],
             [
              0.4444444444444444,
              "#bd3786"
             ],
             [
              0.5555555555555556,
              "#d8576b"
             ],
             [
              0.6666666666666666,
              "#ed7953"
             ],
             [
              0.7777777777777778,
              "#fb9f3a"
             ],
             [
              0.8888888888888888,
              "#fdca26"
             ],
             [
              1,
              "#f0f921"
             ]
            ],
            "type": "heatmapgl"
           }
          ],
          "histogram": [
           {
            "marker": {
             "pattern": {
              "fillmode": "overlay",
              "size": 10,
              "solidity": 0.2
             }
            },
            "type": "histogram"
           }
          ],
          "histogram2d": [
           {
            "colorbar": {
             "outlinewidth": 0,
             "ticks": ""
            },
            "colorscale": [
             [
              0,
              "#0d0887"
             ],
             [
              0.1111111111111111,
              "#46039f"
             ],
             [
              0.2222222222222222,
              "#7201a8"
             ],
             [
              0.3333333333333333,
              "#9c179e"
             ],
             [
              0.4444444444444444,
              "#bd3786"
             ],
             [
              0.5555555555555556,
              "#d8576b"
             ],
             [
              0.6666666666666666,
              "#ed7953"
             ],
             [
              0.7777777777777778,
              "#fb9f3a"
             ],
             [
              0.8888888888888888,
              "#fdca26"
             ],
             [
              1,
              "#f0f921"
             ]
            ],
            "type": "histogram2d"
           }
          ],
          "histogram2dcontour": [
           {
            "colorbar": {
             "outlinewidth": 0,
             "ticks": ""
            },
            "colorscale": [
             [
              0,
              "#0d0887"
             ],
             [
              0.1111111111111111,
              "#46039f"
             ],
             [
              0.2222222222222222,
              "#7201a8"
             ],
             [
              0.3333333333333333,
              "#9c179e"
             ],
             [
              0.4444444444444444,
              "#bd3786"
             ],
             [
              0.5555555555555556,
              "#d8576b"
             ],
             [
              0.6666666666666666,
              "#ed7953"
             ],
             [
              0.7777777777777778,
              "#fb9f3a"
             ],
             [
              0.8888888888888888,
              "#fdca26"
             ],
             [
              1,
              "#f0f921"
             ]
            ],
            "type": "histogram2dcontour"
           }
          ],
          "mesh3d": [
           {
            "colorbar": {
             "outlinewidth": 0,
             "ticks": ""
            },
            "type": "mesh3d"
           }
          ],
          "parcoords": [
           {
            "line": {
             "colorbar": {
              "outlinewidth": 0,
              "ticks": ""
             }
            },
            "type": "parcoords"
           }
          ],
          "pie": [
           {
            "automargin": true,
            "type": "pie"
           }
          ],
          "scatter": [
           {
            "fillpattern": {
             "fillmode": "overlay",
             "size": 10,
             "solidity": 0.2
            },
            "type": "scatter"
           }
          ],
          "scatter3d": [
           {
            "line": {
             "colorbar": {
              "outlinewidth": 0,
              "ticks": ""
             }
            },
            "marker": {
             "colorbar": {
              "outlinewidth": 0,
              "ticks": ""
             }
            },
            "type": "scatter3d"
           }
          ],
          "scattercarpet": [
           {
            "marker": {
             "colorbar": {
              "outlinewidth": 0,
              "ticks": ""
             }
            },
            "type": "scattercarpet"
           }
          ],
          "scattergeo": [
           {
            "marker": {
             "colorbar": {
              "outlinewidth": 0,
              "ticks": ""
             }
            },
            "type": "scattergeo"
           }
          ],
          "scattergl": [
           {
            "marker": {
             "colorbar": {
              "outlinewidth": 0,
              "ticks": ""
             }
            },
            "type": "scattergl"
           }
          ],
          "scattermapbox": [
           {
            "marker": {
             "colorbar": {
              "outlinewidth": 0,
              "ticks": ""
             }
            },
            "type": "scattermapbox"
           }
          ],
          "scatterpolar": [
           {
            "marker": {
             "colorbar": {
              "outlinewidth": 0,
              "ticks": ""
             }
            },
            "type": "scatterpolar"
           }
          ],
          "scatterpolargl": [
           {
            "marker": {
             "colorbar": {
              "outlinewidth": 0,
              "ticks": ""
             }
            },
            "type": "scatterpolargl"
           }
          ],
          "scatterternary": [
           {
            "marker": {
             "colorbar": {
              "outlinewidth": 0,
              "ticks": ""
             }
            },
            "type": "scatterternary"
           }
          ],
          "surface": [
           {
            "colorbar": {
             "outlinewidth": 0,
             "ticks": ""
            },
            "colorscale": [
             [
              0,
              "#0d0887"
             ],
             [
              0.1111111111111111,
              "#46039f"
             ],
             [
              0.2222222222222222,
              "#7201a8"
             ],
             [
              0.3333333333333333,
              "#9c179e"
             ],
             [
              0.4444444444444444,
              "#bd3786"
             ],
             [
              0.5555555555555556,
              "#d8576b"
             ],
             [
              0.6666666666666666,
              "#ed7953"
             ],
             [
              0.7777777777777778,
              "#fb9f3a"
             ],
             [
              0.8888888888888888,
              "#fdca26"
             ],
             [
              1,
              "#f0f921"
             ]
            ],
            "type": "surface"
           }
          ],
          "table": [
           {
            "cells": {
             "fill": {
              "color": "#EBF0F8"
             },
             "line": {
              "color": "white"
             }
            },
            "header": {
             "fill": {
              "color": "#C8D4E3"
             },
             "line": {
              "color": "white"
             }
            },
            "type": "table"
           }
          ]
         },
         "layout": {
          "annotationdefaults": {
           "arrowcolor": "#2a3f5f",
           "arrowhead": 0,
           "arrowwidth": 1
          },
          "autotypenumbers": "strict",
          "coloraxis": {
           "colorbar": {
            "outlinewidth": 0,
            "ticks": ""
           }
          },
          "colorscale": {
           "diverging": [
            [
             0,
             "#8e0152"
            ],
            [
             0.1,
             "#c51b7d"
            ],
            [
             0.2,
             "#de77ae"
            ],
            [
             0.3,
             "#f1b6da"
            ],
            [
             0.4,
             "#fde0ef"
            ],
            [
             0.5,
             "#f7f7f7"
            ],
            [
             0.6,
             "#e6f5d0"
            ],
            [
             0.7,
             "#b8e186"
            ],
            [
             0.8,
             "#7fbc41"
            ],
            [
             0.9,
             "#4d9221"
            ],
            [
             1,
             "#276419"
            ]
           ],
           "sequential": [
            [
             0,
             "#0d0887"
            ],
            [
             0.1111111111111111,
             "#46039f"
            ],
            [
             0.2222222222222222,
             "#7201a8"
            ],
            [
             0.3333333333333333,
             "#9c179e"
            ],
            [
             0.4444444444444444,
             "#bd3786"
            ],
            [
             0.5555555555555556,
             "#d8576b"
            ],
            [
             0.6666666666666666,
             "#ed7953"
            ],
            [
             0.7777777777777778,
             "#fb9f3a"
            ],
            [
             0.8888888888888888,
             "#fdca26"
            ],
            [
             1,
             "#f0f921"
            ]
           ],
           "sequentialminus": [
            [
             0,
             "#0d0887"
            ],
            [
             0.1111111111111111,
             "#46039f"
            ],
            [
             0.2222222222222222,
             "#7201a8"
            ],
            [
             0.3333333333333333,
             "#9c179e"
            ],
            [
             0.4444444444444444,
             "#bd3786"
            ],
            [
             0.5555555555555556,
             "#d8576b"
            ],
            [
             0.6666666666666666,
             "#ed7953"
            ],
            [
             0.7777777777777778,
             "#fb9f3a"
            ],
            [
             0.8888888888888888,
             "#fdca26"
            ],
            [
             1,
             "#f0f921"
            ]
           ]
          },
          "colorway": [
           "#636efa",
           "#EF553B",
           "#00cc96",
           "#ab63fa",
           "#FFA15A",
           "#19d3f3",
           "#FF6692",
           "#B6E880",
           "#FF97FF",
           "#FECB52"
          ],
          "font": {
           "color": "#2a3f5f"
          },
          "geo": {
           "bgcolor": "white",
           "lakecolor": "white",
           "landcolor": "#E5ECF6",
           "showlakes": true,
           "showland": true,
           "subunitcolor": "white"
          },
          "hoverlabel": {
           "align": "left"
          },
          "hovermode": "closest",
          "mapbox": {
           "style": "light"
          },
          "paper_bgcolor": "white",
          "plot_bgcolor": "#E5ECF6",
          "polar": {
           "angularaxis": {
            "gridcolor": "white",
            "linecolor": "white",
            "ticks": ""
           },
           "bgcolor": "#E5ECF6",
           "radialaxis": {
            "gridcolor": "white",
            "linecolor": "white",
            "ticks": ""
           }
          },
          "scene": {
           "xaxis": {
            "backgroundcolor": "#E5ECF6",
            "gridcolor": "white",
            "gridwidth": 2,
            "linecolor": "white",
            "showbackground": true,
            "ticks": "",
            "zerolinecolor": "white"
           },
           "yaxis": {
            "backgroundcolor": "#E5ECF6",
            "gridcolor": "white",
            "gridwidth": 2,
            "linecolor": "white",
            "showbackground": true,
            "ticks": "",
            "zerolinecolor": "white"
           },
           "zaxis": {
            "backgroundcolor": "#E5ECF6",
            "gridcolor": "white",
            "gridwidth": 2,
            "linecolor": "white",
            "showbackground": true,
            "ticks": "",
            "zerolinecolor": "white"
           }
          },
          "shapedefaults": {
           "line": {
            "color": "#2a3f5f"
           }
          },
          "ternary": {
           "aaxis": {
            "gridcolor": "white",
            "linecolor": "white",
            "ticks": ""
           },
           "baxis": {
            "gridcolor": "white",
            "linecolor": "white",
            "ticks": ""
           },
           "bgcolor": "#E5ECF6",
           "caxis": {
            "gridcolor": "white",
            "linecolor": "white",
            "ticks": ""
           }
          },
          "title": {
           "x": 0.05
          },
          "xaxis": {
           "automargin": true,
           "gridcolor": "white",
           "linecolor": "white",
           "ticks": "",
           "title": {
            "standoff": 15
           },
           "zerolinecolor": "white",
           "zerolinewidth": 2
          },
          "yaxis": {
           "automargin": true,
           "gridcolor": "white",
           "linecolor": "white",
           "ticks": "",
           "title": {
            "standoff": 15
           },
           "zerolinecolor": "white",
           "zerolinewidth": 2
          }
         }
        },
        "width": 600
       }
      }
     },
     "metadata": {},
     "output_type": "display_data"
    },
    {
     "name": "stderr",
     "output_type": "stream",
     "text": [
      "/tmp/ipykernel_3234698/4009526930.py:121: RuntimeWarning:\n",
      "\n",
      "invalid value encountered in long_scalars\n",
      "\n"
     ]
    }
   ],
   "source": [
    "from plotly import graph_objects as go\n",
    "\n",
    "y = y_test  # for testing\n",
    "classes = np.unique(y)\n",
    "percentages, gains1 = cumulative_gain_curve(y, y_pred_proba, classes[0])\n",
    "percentages, gains2 = cumulative_gain_curve(y, y_pred_proba, classes[1])\n",
    "\n",
    "\n",
    "fig = go.Figure(\n",
    "    [\n",
    "        go.Scatter(x=percentages, y=gains1, name=f\"Class: {classes[0]}\"),\n",
    "        go.Scatter(x=percentages, y=gains2, name=f\"Class: {classes[1]}\"),\n",
    "    ]\n",
    ")\n",
    "fig.update_layout(autosize=False, width=600, height=600)\n",
    "fig.show()\n",
    "\n",
    "metrics = evaluate_classifier(y_test, y_pred, y_pred_proba)\n"
   ]
  },
  {
   "cell_type": "code",
   "execution_count": 152,
   "metadata": {},
   "outputs": [
    {
     "name": "stderr",
     "output_type": "stream",
     "text": [
      "/tmp/ipykernel_3234698/3665964953.py:43: FutureWarning:\n",
      "\n",
      "The frame.append method is deprecated and will be removed from pandas in a future version. Use pandas.concat instead.\n",
      "\n",
      "/home/aadi/miniconda3/envs/basic_clean/lib/python3.8/site-packages/sklearn/metrics/_classification.py:1334: UndefinedMetricWarning:\n",
      "\n",
      "Precision is ill-defined and being set to 0.0 due to no predicted samples. Use `zero_division` parameter to control this behavior.\n",
      "\n",
      "/tmp/ipykernel_3234698/3665964953.py:43: FutureWarning:\n",
      "\n",
      "The frame.append method is deprecated and will be removed from pandas in a future version. Use pandas.concat instead.\n",
      "\n",
      "/tmp/ipykernel_3234698/3665964953.py:43: FutureWarning:\n",
      "\n",
      "The frame.append method is deprecated and will be removed from pandas in a future version. Use pandas.concat instead.\n",
      "\n",
      "/tmp/ipykernel_3234698/3665964953.py:43: FutureWarning:\n",
      "\n",
      "The frame.append method is deprecated and will be removed from pandas in a future version. Use pandas.concat instead.\n",
      "\n",
      "/tmp/ipykernel_3234698/3665964953.py:43: FutureWarning:\n",
      "\n",
      "The frame.append method is deprecated and will be removed from pandas in a future version. Use pandas.concat instead.\n",
      "\n",
      "/home/aadi/miniconda3/envs/basic_clean/lib/python3.8/site-packages/sklearn/metrics/_classification.py:1334: UndefinedMetricWarning:\n",
      "\n",
      "Precision is ill-defined and being set to 0.0 due to no predicted samples. Use `zero_division` parameter to control this behavior.\n",
      "\n",
      "/tmp/ipykernel_3234698/3665964953.py:43: FutureWarning:\n",
      "\n",
      "The frame.append method is deprecated and will be removed from pandas in a future version. Use pandas.concat instead.\n",
      "\n",
      "/home/aadi/miniconda3/envs/basic_clean/lib/python3.8/site-packages/sklearn/metrics/_classification.py:1334: UndefinedMetricWarning:\n",
      "\n",
      "Precision is ill-defined and being set to 0.0 due to no predicted samples. Use `zero_division` parameter to control this behavior.\n",
      "\n",
      "/tmp/ipykernel_3234698/3665964953.py:43: FutureWarning:\n",
      "\n",
      "The frame.append method is deprecated and will be removed from pandas in a future version. Use pandas.concat instead.\n",
      "\n",
      "/tmp/ipykernel_3234698/3665964953.py:43: FutureWarning:\n",
      "\n",
      "The frame.append method is deprecated and will be removed from pandas in a future version. Use pandas.concat instead.\n",
      "\n",
      "/tmp/ipykernel_3234698/3665964953.py:43: FutureWarning:\n",
      "\n",
      "The frame.append method is deprecated and will be removed from pandas in a future version. Use pandas.concat instead.\n",
      "\n",
      "/tmp/ipykernel_3234698/3665964953.py:43: FutureWarning:\n",
      "\n",
      "The frame.append method is deprecated and will be removed from pandas in a future version. Use pandas.concat instead.\n",
      "\n"
     ]
    },
    {
     "data": {
      "application/vnd.plotly.v1+json": {
       "config": {
        "plotlyServerURL": "https://plot.ly"
       },
       "data": [
        {
         "name": "Cohort true target %",
         "type": "bar",
         "x": [
          0,
          1,
          2,
          3,
          4,
          5,
          6,
          7,
          8,
          9
         ],
         "y": [
          1,
          0,
          1,
          0.4,
          0,
          0,
          0,
          1,
          0.5,
          0.02040816326530612
         ]
        },
        {
         "line": {
          "color": "orange"
         },
         "name": "Cumulative Coverage %",
         "type": "scatter",
         "x": [
          0,
          1,
          2,
          3,
          4,
          5,
          6,
          7,
          8,
          9
         ],
         "y": [
          0.9111111111111111,
          0.9111111111111111,
          0.9444444444444444,
          0.9666666666666667,
          0.9666666666666667,
          0.9666666666666667,
          0.9666666666666667,
          0.9777777777777777,
          0.9888888888888888,
          0.9999999999999999
         ]
        }
       ],
       "layout": {
        "annotations": [
         {
          "showarrow": false,
          "text": "1.59",
          "x": 0,
          "y": 1.03
         },
         {
          "showarrow": false,
          "text": "0.00",
          "x": 1,
          "y": 0.03
         },
         {
          "showarrow": false,
          "text": "1.59",
          "x": 2,
          "y": 1.03
         },
         {
          "showarrow": false,
          "text": "0.64",
          "x": 3,
          "y": 0.43000000000000005
         },
         {
          "showarrow": false,
          "text": "0.00",
          "x": 4,
          "y": 0.03
         },
         {
          "showarrow": false,
          "text": "0.00",
          "x": 5,
          "y": 0.03
         },
         {
          "showarrow": false,
          "text": "0.00",
          "x": 6,
          "y": 0.03
         },
         {
          "showarrow": false,
          "text": "1.59",
          "x": 7,
          "y": 1.03
         },
         {
          "showarrow": false,
          "text": "0.79",
          "x": 8,
          "y": 0.53
         },
         {
          "showarrow": false,
          "text": "0.03",
          "x": 9,
          "y": 0.050408163265306116
         }
        ],
        "autosize": false,
        "height": 800,
        "showlegend": true,
        "template": {
         "data": {
          "bar": [
           {
            "error_x": {
             "color": "#2a3f5f"
            },
            "error_y": {
             "color": "#2a3f5f"
            },
            "marker": {
             "line": {
              "color": "#E5ECF6",
              "width": 0.5
             },
             "pattern": {
              "fillmode": "overlay",
              "size": 10,
              "solidity": 0.2
             }
            },
            "type": "bar"
           }
          ],
          "barpolar": [
           {
            "marker": {
             "line": {
              "color": "#E5ECF6",
              "width": 0.5
             },
             "pattern": {
              "fillmode": "overlay",
              "size": 10,
              "solidity": 0.2
             }
            },
            "type": "barpolar"
           }
          ],
          "carpet": [
           {
            "aaxis": {
             "endlinecolor": "#2a3f5f",
             "gridcolor": "white",
             "linecolor": "white",
             "minorgridcolor": "white",
             "startlinecolor": "#2a3f5f"
            },
            "baxis": {
             "endlinecolor": "#2a3f5f",
             "gridcolor": "white",
             "linecolor": "white",
             "minorgridcolor": "white",
             "startlinecolor": "#2a3f5f"
            },
            "type": "carpet"
           }
          ],
          "choropleth": [
           {
            "colorbar": {
             "outlinewidth": 0,
             "ticks": ""
            },
            "type": "choropleth"
           }
          ],
          "contour": [
           {
            "colorbar": {
             "outlinewidth": 0,
             "ticks": ""
            },
            "colorscale": [
             [
              0,
              "#0d0887"
             ],
             [
              0.1111111111111111,
              "#46039f"
             ],
             [
              0.2222222222222222,
              "#7201a8"
             ],
             [
              0.3333333333333333,
              "#9c179e"
             ],
             [
              0.4444444444444444,
              "#bd3786"
             ],
             [
              0.5555555555555556,
              "#d8576b"
             ],
             [
              0.6666666666666666,
              "#ed7953"
             ],
             [
              0.7777777777777778,
              "#fb9f3a"
             ],
             [
              0.8888888888888888,
              "#fdca26"
             ],
             [
              1,
              "#f0f921"
             ]
            ],
            "type": "contour"
           }
          ],
          "contourcarpet": [
           {
            "colorbar": {
             "outlinewidth": 0,
             "ticks": ""
            },
            "type": "contourcarpet"
           }
          ],
          "heatmap": [
           {
            "colorbar": {
             "outlinewidth": 0,
             "ticks": ""
            },
            "colorscale": [
             [
              0,
              "#0d0887"
             ],
             [
              0.1111111111111111,
              "#46039f"
             ],
             [
              0.2222222222222222,
              "#7201a8"
             ],
             [
              0.3333333333333333,
              "#9c179e"
             ],
             [
              0.4444444444444444,
              "#bd3786"
             ],
             [
              0.5555555555555556,
              "#d8576b"
             ],
             [
              0.6666666666666666,
              "#ed7953"
             ],
             [
              0.7777777777777778,
              "#fb9f3a"
             ],
             [
              0.8888888888888888,
              "#fdca26"
             ],
             [
              1,
              "#f0f921"
             ]
            ],
            "type": "heatmap"
           }
          ],
          "heatmapgl": [
           {
            "colorbar": {
             "outlinewidth": 0,
             "ticks": ""
            },
            "colorscale": [
             [
              0,
              "#0d0887"
             ],
             [
              0.1111111111111111,
              "#46039f"
             ],
             [
              0.2222222222222222,
              "#7201a8"
             ],
             [
              0.3333333333333333,
              "#9c179e"
             ],
             [
              0.4444444444444444,
              "#bd3786"
             ],
             [
              0.5555555555555556,
              "#d8576b"
             ],
             [
              0.6666666666666666,
              "#ed7953"
             ],
             [
              0.7777777777777778,
              "#fb9f3a"
             ],
             [
              0.8888888888888888,
              "#fdca26"
             ],
             [
              1,
              "#f0f921"
             ]
            ],
            "type": "heatmapgl"
           }
          ],
          "histogram": [
           {
            "marker": {
             "pattern": {
              "fillmode": "overlay",
              "size": 10,
              "solidity": 0.2
             }
            },
            "type": "histogram"
           }
          ],
          "histogram2d": [
           {
            "colorbar": {
             "outlinewidth": 0,
             "ticks": ""
            },
            "colorscale": [
             [
              0,
              "#0d0887"
             ],
             [
              0.1111111111111111,
              "#46039f"
             ],
             [
              0.2222222222222222,
              "#7201a8"
             ],
             [
              0.3333333333333333,
              "#9c179e"
             ],
             [
              0.4444444444444444,
              "#bd3786"
             ],
             [
              0.5555555555555556,
              "#d8576b"
             ],
             [
              0.6666666666666666,
              "#ed7953"
             ],
             [
              0.7777777777777778,
              "#fb9f3a"
             ],
             [
              0.8888888888888888,
              "#fdca26"
             ],
             [
              1,
              "#f0f921"
             ]
            ],
            "type": "histogram2d"
           }
          ],
          "histogram2dcontour": [
           {
            "colorbar": {
             "outlinewidth": 0,
             "ticks": ""
            },
            "colorscale": [
             [
              0,
              "#0d0887"
             ],
             [
              0.1111111111111111,
              "#46039f"
             ],
             [
              0.2222222222222222,
              "#7201a8"
             ],
             [
              0.3333333333333333,
              "#9c179e"
             ],
             [
              0.4444444444444444,
              "#bd3786"
             ],
             [
              0.5555555555555556,
              "#d8576b"
             ],
             [
              0.6666666666666666,
              "#ed7953"
             ],
             [
              0.7777777777777778,
              "#fb9f3a"
             ],
             [
              0.8888888888888888,
              "#fdca26"
             ],
             [
              1,
              "#f0f921"
             ]
            ],
            "type": "histogram2dcontour"
           }
          ],
          "mesh3d": [
           {
            "colorbar": {
             "outlinewidth": 0,
             "ticks": ""
            },
            "type": "mesh3d"
           }
          ],
          "parcoords": [
           {
            "line": {
             "colorbar": {
              "outlinewidth": 0,
              "ticks": ""
             }
            },
            "type": "parcoords"
           }
          ],
          "pie": [
           {
            "automargin": true,
            "type": "pie"
           }
          ],
          "scatter": [
           {
            "fillpattern": {
             "fillmode": "overlay",
             "size": 10,
             "solidity": 0.2
            },
            "type": "scatter"
           }
          ],
          "scatter3d": [
           {
            "line": {
             "colorbar": {
              "outlinewidth": 0,
              "ticks": ""
             }
            },
            "marker": {
             "colorbar": {
              "outlinewidth": 0,
              "ticks": ""
             }
            },
            "type": "scatter3d"
           }
          ],
          "scattercarpet": [
           {
            "marker": {
             "colorbar": {
              "outlinewidth": 0,
              "ticks": ""
             }
            },
            "type": "scattercarpet"
           }
          ],
          "scattergeo": [
           {
            "marker": {
             "colorbar": {
              "outlinewidth": 0,
              "ticks": ""
             }
            },
            "type": "scattergeo"
           }
          ],
          "scattergl": [
           {
            "marker": {
             "colorbar": {
              "outlinewidth": 0,
              "ticks": ""
             }
            },
            "type": "scattergl"
           }
          ],
          "scattermapbox": [
           {
            "marker": {
             "colorbar": {
              "outlinewidth": 0,
              "ticks": ""
             }
            },
            "type": "scattermapbox"
           }
          ],
          "scatterpolar": [
           {
            "marker": {
             "colorbar": {
              "outlinewidth": 0,
              "ticks": ""
             }
            },
            "type": "scatterpolar"
           }
          ],
          "scatterpolargl": [
           {
            "marker": {
             "colorbar": {
              "outlinewidth": 0,
              "ticks": ""
             }
            },
            "type": "scatterpolargl"
           }
          ],
          "scatterternary": [
           {
            "marker": {
             "colorbar": {
              "outlinewidth": 0,
              "ticks": ""
             }
            },
            "type": "scatterternary"
           }
          ],
          "surface": [
           {
            "colorbar": {
             "outlinewidth": 0,
             "ticks": ""
            },
            "colorscale": [
             [
              0,
              "#0d0887"
             ],
             [
              0.1111111111111111,
              "#46039f"
             ],
             [
              0.2222222222222222,
              "#7201a8"
             ],
             [
              0.3333333333333333,
              "#9c179e"
             ],
             [
              0.4444444444444444,
              "#bd3786"
             ],
             [
              0.5555555555555556,
              "#d8576b"
             ],
             [
              0.6666666666666666,
              "#ed7953"
             ],
             [
              0.7777777777777778,
              "#fb9f3a"
             ],
             [
              0.8888888888888888,
              "#fdca26"
             ],
             [
              1,
              "#f0f921"
             ]
            ],
            "type": "surface"
           }
          ],
          "table": [
           {
            "cells": {
             "fill": {
              "color": "#EBF0F8"
             },
             "line": {
              "color": "white"
             }
            },
            "header": {
             "fill": {
              "color": "#C8D4E3"
             },
             "line": {
              "color": "white"
             }
            },
            "type": "table"
           }
          ]
         },
         "layout": {
          "annotationdefaults": {
           "arrowcolor": "#2a3f5f",
           "arrowhead": 0,
           "arrowwidth": 1
          },
          "autotypenumbers": "strict",
          "coloraxis": {
           "colorbar": {
            "outlinewidth": 0,
            "ticks": ""
           }
          },
          "colorscale": {
           "diverging": [
            [
             0,
             "#8e0152"
            ],
            [
             0.1,
             "#c51b7d"
            ],
            [
             0.2,
             "#de77ae"
            ],
            [
             0.3,
             "#f1b6da"
            ],
            [
             0.4,
             "#fde0ef"
            ],
            [
             0.5,
             "#f7f7f7"
            ],
            [
             0.6,
             "#e6f5d0"
            ],
            [
             0.7,
             "#b8e186"
            ],
            [
             0.8,
             "#7fbc41"
            ],
            [
             0.9,
             "#4d9221"
            ],
            [
             1,
             "#276419"
            ]
           ],
           "sequential": [
            [
             0,
             "#0d0887"
            ],
            [
             0.1111111111111111,
             "#46039f"
            ],
            [
             0.2222222222222222,
             "#7201a8"
            ],
            [
             0.3333333333333333,
             "#9c179e"
            ],
            [
             0.4444444444444444,
             "#bd3786"
            ],
            [
             0.5555555555555556,
             "#d8576b"
            ],
            [
             0.6666666666666666,
             "#ed7953"
            ],
            [
             0.7777777777777778,
             "#fb9f3a"
            ],
            [
             0.8888888888888888,
             "#fdca26"
            ],
            [
             1,
             "#f0f921"
            ]
           ],
           "sequentialminus": [
            [
             0,
             "#0d0887"
            ],
            [
             0.1111111111111111,
             "#46039f"
            ],
            [
             0.2222222222222222,
             "#7201a8"
            ],
            [
             0.3333333333333333,
             "#9c179e"
            ],
            [
             0.4444444444444444,
             "#bd3786"
            ],
            [
             0.5555555555555556,
             "#d8576b"
            ],
            [
             0.6666666666666666,
             "#ed7953"
            ],
            [
             0.7777777777777778,
             "#fb9f3a"
            ],
            [
             0.8888888888888888,
             "#fdca26"
            ],
            [
             1,
             "#f0f921"
            ]
           ]
          },
          "colorway": [
           "#636efa",
           "#EF553B",
           "#00cc96",
           "#ab63fa",
           "#FFA15A",
           "#19d3f3",
           "#FF6692",
           "#B6E880",
           "#FF97FF",
           "#FECB52"
          ],
          "font": {
           "color": "#2a3f5f"
          },
          "geo": {
           "bgcolor": "white",
           "lakecolor": "white",
           "landcolor": "#E5ECF6",
           "showlakes": true,
           "showland": true,
           "subunitcolor": "white"
          },
          "hoverlabel": {
           "align": "left"
          },
          "hovermode": "closest",
          "mapbox": {
           "style": "light"
          },
          "paper_bgcolor": "white",
          "plot_bgcolor": "#E5ECF6",
          "polar": {
           "angularaxis": {
            "gridcolor": "white",
            "linecolor": "white",
            "ticks": ""
           },
           "bgcolor": "#E5ECF6",
           "radialaxis": {
            "gridcolor": "white",
            "linecolor": "white",
            "ticks": ""
           }
          },
          "scene": {
           "xaxis": {
            "backgroundcolor": "#E5ECF6",
            "gridcolor": "white",
            "gridwidth": 2,
            "linecolor": "white",
            "showbackground": true,
            "ticks": "",
            "zerolinecolor": "white"
           },
           "yaxis": {
            "backgroundcolor": "#E5ECF6",
            "gridcolor": "white",
            "gridwidth": 2,
            "linecolor": "white",
            "showbackground": true,
            "ticks": "",
            "zerolinecolor": "white"
           },
           "zaxis": {
            "backgroundcolor": "#E5ECF6",
            "gridcolor": "white",
            "gridwidth": 2,
            "linecolor": "white",
            "showbackground": true,
            "ticks": "",
            "zerolinecolor": "white"
           }
          },
          "shapedefaults": {
           "line": {
            "color": "#2a3f5f"
           }
          },
          "ternary": {
           "aaxis": {
            "gridcolor": "white",
            "linecolor": "white",
            "ticks": ""
           },
           "baxis": {
            "gridcolor": "white",
            "linecolor": "white",
            "ticks": ""
           },
           "bgcolor": "#E5ECF6",
           "caxis": {
            "gridcolor": "white",
            "linecolor": "white",
            "ticks": ""
           }
          },
          "title": {
           "x": 0.05
          },
          "xaxis": {
           "automargin": true,
           "gridcolor": "white",
           "linecolor": "white",
           "ticks": "",
           "title": {
            "standoff": 15
           },
           "zerolinecolor": "white",
           "zerolinewidth": 2
          },
          "yaxis": {
           "automargin": true,
           "gridcolor": "white",
           "linecolor": "white",
           "ticks": "",
           "title": {
            "standoff": 15
           },
           "zerolinecolor": "white",
           "zerolinewidth": 2
          }
         }
        },
        "width": 1000,
        "xaxis": {
         "tickmode": "array",
         "ticktext": [
          "1.0-0.9",
          "0.9-0.8",
          "0.8-0.7",
          "0.7-0.6",
          "0.6-0.5",
          "0.5-0.4",
          "0.4-0.3",
          "0.3-0.2",
          "0.2-0.1",
          "0.1-0.0"
         ],
         "tickvals": [
          0,
          1,
          2,
          3,
          4,
          5,
          6,
          7,
          8,
          9
         ],
         "title": {
          "text": "Model Prediction Range"
         }
        },
        "yaxis": {
         "tickmode": "array",
         "ticktext": [
          "0%",
          "10%",
          "20%",
          "30%",
          "40%",
          "50%",
          "60%",
          "70%",
          "80%",
          "90%",
          "100%"
         ],
         "tickvals": [
          0,
          0.1,
          0.2,
          0.30000000000000004,
          0.4,
          0.5,
          0.6000000000000001,
          0.7000000000000001,
          0.8,
          0.9,
          1
         ],
         "title": {
          "text": "True Target %"
         }
        }
       }
      }
     },
     "metadata": {},
     "output_type": "display_data"
    }
   ],
   "source": [
    "def plot_lift(y, y_pred_proba):\n",
    "    import pandas as pd\n",
    "    import numpy as np\n",
    "    from pandas import DataFrame\n",
    "    from plotly import graph_objects as go\n",
    "    from sklearn.metrics import precision_score\n",
    "\n",
    "    ranges = np.linspace(0, 1, 11)\n",
    "\n",
    "    model_predictions = DataFrame({\"target\": y, \"pred\": y_pred_proba})\n",
    "    model_predictions[\"decile\"] = pd.cut(\n",
    "        model_predictions[\"pred\"], ranges, include_lowest=True, labels=False\n",
    "    )\n",
    "    rand_model_prec = precision_score(\n",
    "        model_predictions[\"target\"], model_predictions[\"target\"] * 0 + 1\n",
    "    )\n",
    "\n",
    "    data = DataFrame(\n",
    "        columns=[\"prop_cohort\", \"size\", \"true_target_perc\", \"lift\", \"acum_coverage\"]\n",
    "    )\n",
    "    ticks_range = list(range(10))\n",
    "    ticks_y = [None] * 10\n",
    "    ticks_x = [None] * 10\n",
    "    coverage = [None] * 10\n",
    "\n",
    "    fig = go.Figure()\n",
    "\n",
    "    bar_x = []\n",
    "    bar_y = []\n",
    "    for i in ticks_range:\n",
    "        ticks_y[i] = \"{:.0f}%\".format((i + 1) * 10)\n",
    "        ticks_x[i] = f\"{ranges[9-i+1]} - {ranges[9-i]}\"\n",
    "\n",
    "        dec_df = model_predictions[model_predictions[\"decile\"] == 9 - i]\n",
    "        decile_prec = precision_score(dec_df[\"target\"], dec_df[\"target\"] * 0 + 1)\n",
    "        lift = decile_prec / rand_model_prec\n",
    "\n",
    "        if i == 0:\n",
    "            coverage[i] = dec_df[\"target\"].sum() / model_predictions[\"target\"].sum()\n",
    "        else:\n",
    "            coverage[i] = (\n",
    "                coverage[i - 1]\n",
    "                + dec_df[\"target\"].sum() / model_predictions[\"target\"].sum()\n",
    "            )\n",
    "\n",
    "        bar_x.append(i)\n",
    "        bar_y.append(decile_prec)\n",
    "        data = data.append(\n",
    "            {\n",
    "                \"prop_cohort\": ticks_x[i],\n",
    "                \"size\": dec_df.shape[0],\n",
    "                \"true_target_perc\": decile_prec,\n",
    "                \"lift\": lift,\n",
    "                \"acum_coverage\": coverage[i],\n",
    "            },\n",
    "            ignore_index=True,\n",
    "        )\n",
    "        fig.add_annotation(\n",
    "            x=i, y=decile_prec + 0.03, text=\"{:.2f}\".format(lift), showarrow=False\n",
    "        )\n",
    "\n",
    "    fig.add_trace(go.Bar(x=bar_x, y=bar_y, name=\"Cohort true target %\"))\n",
    "\n",
    "    fig.add_trace(\n",
    "        go.Scatter(\n",
    "            x=ticks_range,\n",
    "            y=coverage,\n",
    "            line=dict(color=\"orange\"),\n",
    "            name=\"Cumulative Coverage %\",\n",
    "        )\n",
    "    )\n",
    "\n",
    "    fig.update_layout(\n",
    "        yaxis=dict(\n",
    "            title=\"True Target %\",\n",
    "            tickmode=\"array\",\n",
    "            tickvals=np.linspace(0, 1, 11),\n",
    "            ticktext=[f\"{i}%\" for i in range(0, 101, 10)],\n",
    "        ),\n",
    "        xaxis=dict(\n",
    "            title=\"Model Prediction Range\",\n",
    "            tickmode=\"array\",\n",
    "            tickvals=np.linspace(0, 9, 10),\n",
    "            ticktext=[f\"{i/10}-{(i-1)/10}\" for i in range(10, 0, -1)],\n",
    "        ),\n",
    "        showlegend=True,\n",
    "        autosize=False,\n",
    "        width=1000,\n",
    "        height=800,\n",
    "    )\n",
    "\n",
    "    fig.show()\n",
    "\n",
    "\n",
    "plot_lift(y_test, y_pred_proba)\n"
   ]
  },
  {
   "cell_type": "code",
   "execution_count": 153,
   "metadata": {},
   "outputs": [
    {
     "data": {
      "application/vnd.plotly.v1+json": {
       "config": {
        "plotlyServerURL": "https://plot.ly"
       },
       "data": [
        {
         "line": {
          "color": "#d60000",
          "dash": "dot"
         },
         "name": "",
         "type": "scatter",
         "x": [
          1,
          0.9666666666666667,
          0
         ],
         "xaxis": "x2",
         "y": [
          0.6293706293706294,
          0.9560439560439561,
          1
         ],
         "yaxis": "y2"
        },
        {
         "line": {
          "color": "#d60000",
          "dash": "dot"
         },
         "name": "",
         "type": "scatter",
         "x": [
          0,
          0.07547169811320754,
          1
         ],
         "xaxis": "x",
         "y": [
          0,
          0.9666666666666667,
          1
         ],
         "yaxis": "y"
        },
        {
         "line": {
          "color": "#d60000",
          "dash": "dot"
         },
         "marker": {
          "color": "#d60000",
          "symbol": "triangle-up"
         },
         "mode": "markers",
         "name": "",
         "type": "scatter",
         "x": [
          0.0202,
          0.0401,
          0.0601,
          0.0801,
          0.1,
          0.12,
          0.14,
          0.16,
          0.18,
          0.2,
          0.22,
          0.24,
          0.26,
          0.28,
          0.3,
          0.32,
          0.34,
          0.36,
          0.38,
          0.4,
          0.42,
          0.44,
          0.46,
          0.48,
          0.5,
          0.52,
          0.54,
          0.56,
          0.58,
          0.6,
          0.62,
          0.64,
          0.66,
          0.68,
          0.7,
          0.72,
          0.74,
          0.76,
          0.78,
          0.8,
          0.82,
          0.84,
          0.86,
          0.88,
          0.9,
          0.92,
          0.94,
          0.96,
          0.98,
          1
         ],
         "xaxis": "x4",
         "y": [
          -0.0017203457935703109,
          0.47391693759709597,
          -0.04619024321436882,
          null,
          null,
          0.3891743868589401,
          null,
          null,
          null,
          null,
          null,
          null,
          null,
          0.7399031221866608,
          null,
          null,
          null,
          null,
          null,
          null,
          null,
          null,
          null,
          null,
          null,
          null,
          null,
          null,
          -0.5633273124694824,
          null,
          null,
          -0.630379319190979,
          null,
          -0.17003247141838074,
          -0.18654751777648926,
          0.28622865676879883,
          null,
          0.2574312090873718,
          null,
          0.2124965786933899,
          null,
          null,
          null,
          null,
          null,
          null,
          0.07090917229652405,
          null,
          0.0264931321144104,
          0.00259225070476532
         ],
         "yaxis": "y4"
        },
        {
         "line": {
          "color": "#d60000",
          "dash": "dot"
         },
         "marker": {
          "color": "#d60000",
          "symbol": "triangle-up"
         },
         "mode": "markers+lines",
         "name": "",
         "type": "scatter",
         "x": [
          0.0392156862745098,
          1,
          0,
          0.625,
          1
         ],
         "xaxis": "x5",
         "y": [
          0.007826343153069234,
          0.26009687781333923,
          0.5633273124694824,
          0.6984228566288948,
          0.9945755862608189
         ],
         "yaxis": "y5"
        },
        {
         "line": {
          "color": "red"
         },
         "mode": "markers+lines",
         "name": "_specificity",
         "type": "scatter",
         "x": [
          0,
          0.02,
          0.04,
          0.06,
          0.08,
          0.1,
          0.12,
          0.14,
          0.16,
          0.18,
          0.2,
          0.22,
          0.24,
          0.26,
          0.28,
          0.3,
          0.32,
          0.34,
          0.36,
          0.38,
          0.4,
          0.42,
          0.44,
          0.46,
          0.48,
          0.5,
          0.52,
          0.54,
          0.56,
          0.58,
          0.6,
          0.62,
          0.64,
          0.66,
          0.68,
          0.7000000000000001,
          0.72,
          0.74,
          0.76,
          0.78,
          0.8,
          0.8200000000000001,
          0.84,
          0.86,
          0.88,
          0.9,
          0.92,
          0.9400000000000001,
          0.96,
          0.98,
          1
         ],
         "xaxis": "x6",
         "y": [
          0.6293706293706294,
          0.9278350515463918,
          0.9368421052631579,
          0.9468085106382979,
          0.9468085106382979,
          0.9468085106382979,
          0.9565217391304348,
          0.9565217391304348,
          0.9565217391304348,
          0.9565217391304348,
          0.9565217391304348,
          0.9565217391304348,
          0.9565217391304348,
          0.9565217391304348,
          0.9560439560439561,
          0.9560439560439561,
          0.9560439560439561,
          0.9560439560439561,
          0.9560439560439561,
          0.9560439560439561,
          0.9560439560439561,
          0.9560439560439561,
          0.9560439560439561,
          0.9560439560439561,
          0.9560439560439561,
          0.9560439560439561,
          0.9560439560439561,
          0.9560439560439561,
          0.9560439560439561,
          0.9666666666666667,
          0.9666666666666667,
          0.9666666666666667,
          0.9775280898876404,
          0.9775280898876404,
          0.9885057471264368,
          1,
          1,
          1,
          1,
          1,
          1,
          1,
          1,
          1,
          1,
          1,
          1,
          1,
          1,
          1,
          null
         ],
         "yaxis": "y6"
        },
        {
         "line": {
          "color": "blue"
         },
         "mode": "markers+lines",
         "name": "_sensivity",
         "type": "scatter",
         "x": [
          0,
          0.02,
          0.04,
          0.06,
          0.08,
          0.1,
          0.12,
          0.14,
          0.16,
          0.18,
          0.2,
          0.22,
          0.24,
          0.26,
          0.28,
          0.3,
          0.32,
          0.34,
          0.36,
          0.38,
          0.4,
          0.42,
          0.44,
          0.46,
          0.48,
          0.5,
          0.52,
          0.54,
          0.56,
          0.58,
          0.6,
          0.62,
          0.64,
          0.66,
          0.68,
          0.7000000000000001,
          0.72,
          0.74,
          0.76,
          0.78,
          0.8,
          0.8200000000000001,
          0.84,
          0.86,
          0.88,
          0.9,
          0.92,
          0.9400000000000001,
          0.96,
          0.98,
          1
         ],
         "xaxis": "x6",
         "y": [
          0,
          0.8679245283018868,
          0.8867924528301887,
          0.9056603773584906,
          0.9056603773584906,
          0.9056603773584906,
          0.9245283018867925,
          0.9245283018867925,
          0.9245283018867925,
          0.9245283018867925,
          0.9245283018867925,
          0.9245283018867925,
          0.9245283018867925,
          0.9245283018867925,
          0.9245283018867925,
          0.9245283018867925,
          0.9245283018867925,
          0.9245283018867925,
          0.9245283018867925,
          0.9245283018867925,
          0.9245283018867925,
          0.9245283018867925,
          0.9245283018867925,
          0.9245283018867925,
          0.9245283018867925,
          0.9245283018867925,
          0.9245283018867925,
          0.9245283018867925,
          0.9245283018867925,
          0.9433962264150944,
          0.9433962264150944,
          0.9433962264150944,
          0.9622641509433962,
          0.9622641509433962,
          0.9811320754716981,
          1,
          1,
          1,
          1,
          1,
          1,
          1,
          1,
          1,
          1,
          1,
          1,
          1,
          1,
          1,
          1
         ],
         "yaxis": "y6"
        }
       ],
       "layout": {
        "annotations": [
         {
          "font": {
           "size": 16
          },
          "showarrow": false,
          "text": "ROC",
          "x": 0.14444444444444446,
          "xanchor": "center",
          "xref": "paper",
          "y": 1,
          "yanchor": "bottom",
          "yref": "paper"
         },
         {
          "font": {
           "size": 16
          },
          "showarrow": false,
          "text": "PR",
          "x": 0.5,
          "xanchor": "center",
          "xref": "paper",
          "y": 1,
          "yanchor": "bottom",
          "yref": "paper"
         },
         {
          "font": {
           "size": 16
          },
          "showarrow": false,
          "text": "Residual",
          "x": 0.14444444444444446,
          "xanchor": "center",
          "xref": "paper",
          "y": 0.375,
          "yanchor": "bottom",
          "yref": "paper"
         },
         {
          "font": {
           "size": 16
          },
          "showarrow": false,
          "text": "Calibration",
          "x": 0.5,
          "xanchor": "center",
          "xref": "paper",
          "y": 0.375,
          "yanchor": "bottom",
          "yref": "paper"
         },
         {
          "font": {
           "size": 16
          },
          "showarrow": false,
          "text": "Specificity-Sensitivity",
          "x": 0.8555555555555556,
          "xanchor": "center",
          "xref": "paper",
          "y": 0.375,
          "yanchor": "bottom",
          "yref": "paper"
         }
        ],
        "autosize": false,
        "height": 800,
        "template": {
         "data": {
          "bar": [
           {
            "error_x": {
             "color": "#2a3f5f"
            },
            "error_y": {
             "color": "#2a3f5f"
            },
            "marker": {
             "line": {
              "color": "#E5ECF6",
              "width": 0.5
             },
             "pattern": {
              "fillmode": "overlay",
              "size": 10,
              "solidity": 0.2
             }
            },
            "type": "bar"
           }
          ],
          "barpolar": [
           {
            "marker": {
             "line": {
              "color": "#E5ECF6",
              "width": 0.5
             },
             "pattern": {
              "fillmode": "overlay",
              "size": 10,
              "solidity": 0.2
             }
            },
            "type": "barpolar"
           }
          ],
          "carpet": [
           {
            "aaxis": {
             "endlinecolor": "#2a3f5f",
             "gridcolor": "white",
             "linecolor": "white",
             "minorgridcolor": "white",
             "startlinecolor": "#2a3f5f"
            },
            "baxis": {
             "endlinecolor": "#2a3f5f",
             "gridcolor": "white",
             "linecolor": "white",
             "minorgridcolor": "white",
             "startlinecolor": "#2a3f5f"
            },
            "type": "carpet"
           }
          ],
          "choropleth": [
           {
            "colorbar": {
             "outlinewidth": 0,
             "ticks": ""
            },
            "type": "choropleth"
           }
          ],
          "contour": [
           {
            "colorbar": {
             "outlinewidth": 0,
             "ticks": ""
            },
            "colorscale": [
             [
              0,
              "#0d0887"
             ],
             [
              0.1111111111111111,
              "#46039f"
             ],
             [
              0.2222222222222222,
              "#7201a8"
             ],
             [
              0.3333333333333333,
              "#9c179e"
             ],
             [
              0.4444444444444444,
              "#bd3786"
             ],
             [
              0.5555555555555556,
              "#d8576b"
             ],
             [
              0.6666666666666666,
              "#ed7953"
             ],
             [
              0.7777777777777778,
              "#fb9f3a"
             ],
             [
              0.8888888888888888,
              "#fdca26"
             ],
             [
              1,
              "#f0f921"
             ]
            ],
            "type": "contour"
           }
          ],
          "contourcarpet": [
           {
            "colorbar": {
             "outlinewidth": 0,
             "ticks": ""
            },
            "type": "contourcarpet"
           }
          ],
          "heatmap": [
           {
            "colorbar": {
             "outlinewidth": 0,
             "ticks": ""
            },
            "colorscale": [
             [
              0,
              "#0d0887"
             ],
             [
              0.1111111111111111,
              "#46039f"
             ],
             [
              0.2222222222222222,
              "#7201a8"
             ],
             [
              0.3333333333333333,
              "#9c179e"
             ],
             [
              0.4444444444444444,
              "#bd3786"
             ],
             [
              0.5555555555555556,
              "#d8576b"
             ],
             [
              0.6666666666666666,
              "#ed7953"
             ],
             [
              0.7777777777777778,
              "#fb9f3a"
             ],
             [
              0.8888888888888888,
              "#fdca26"
             ],
             [
              1,
              "#f0f921"
             ]
            ],
            "type": "heatmap"
           }
          ],
          "heatmapgl": [
           {
            "colorbar": {
             "outlinewidth": 0,
             "ticks": ""
            },
            "colorscale": [
             [
              0,
              "#0d0887"
             ],
             [
              0.1111111111111111,
              "#46039f"
             ],
             [
              0.2222222222222222,
              "#7201a8"
             ],
             [
              0.3333333333333333,
              "#9c179e"
             ],
             [
              0.4444444444444444,
              "#bd3786"
             ],
             [
              0.5555555555555556,
              "#d8576b"
             ],
             [
              0.6666666666666666,
              "#ed7953"
             ],
             [
              0.7777777777777778,
              "#fb9f3a"
             ],
             [
              0.8888888888888888,
              "#fdca26"
             ],
             [
              1,
              "#f0f921"
             ]
            ],
            "type": "heatmapgl"
           }
          ],
          "histogram": [
           {
            "marker": {
             "pattern": {
              "fillmode": "overlay",
              "size": 10,
              "solidity": 0.2
             }
            },
            "type": "histogram"
           }
          ],
          "histogram2d": [
           {
            "colorbar": {
             "outlinewidth": 0,
             "ticks": ""
            },
            "colorscale": [
             [
              0,
              "#0d0887"
             ],
             [
              0.1111111111111111,
              "#46039f"
             ],
             [
              0.2222222222222222,
              "#7201a8"
             ],
             [
              0.3333333333333333,
              "#9c179e"
             ],
             [
              0.4444444444444444,
              "#bd3786"
             ],
             [
              0.5555555555555556,
              "#d8576b"
             ],
             [
              0.6666666666666666,
              "#ed7953"
             ],
             [
              0.7777777777777778,
              "#fb9f3a"
             ],
             [
              0.8888888888888888,
              "#fdca26"
             ],
             [
              1,
              "#f0f921"
             ]
            ],
            "type": "histogram2d"
           }
          ],
          "histogram2dcontour": [
           {
            "colorbar": {
             "outlinewidth": 0,
             "ticks": ""
            },
            "colorscale": [
             [
              0,
              "#0d0887"
             ],
             [
              0.1111111111111111,
              "#46039f"
             ],
             [
              0.2222222222222222,
              "#7201a8"
             ],
             [
              0.3333333333333333,
              "#9c179e"
             ],
             [
              0.4444444444444444,
              "#bd3786"
             ],
             [
              0.5555555555555556,
              "#d8576b"
             ],
             [
              0.6666666666666666,
              "#ed7953"
             ],
             [
              0.7777777777777778,
              "#fb9f3a"
             ],
             [
              0.8888888888888888,
              "#fdca26"
             ],
             [
              1,
              "#f0f921"
             ]
            ],
            "type": "histogram2dcontour"
           }
          ],
          "mesh3d": [
           {
            "colorbar": {
             "outlinewidth": 0,
             "ticks": ""
            },
            "type": "mesh3d"
           }
          ],
          "parcoords": [
           {
            "line": {
             "colorbar": {
              "outlinewidth": 0,
              "ticks": ""
             }
            },
            "type": "parcoords"
           }
          ],
          "pie": [
           {
            "automargin": true,
            "type": "pie"
           }
          ],
          "scatter": [
           {
            "fillpattern": {
             "fillmode": "overlay",
             "size": 10,
             "solidity": 0.2
            },
            "type": "scatter"
           }
          ],
          "scatter3d": [
           {
            "line": {
             "colorbar": {
              "outlinewidth": 0,
              "ticks": ""
             }
            },
            "marker": {
             "colorbar": {
              "outlinewidth": 0,
              "ticks": ""
             }
            },
            "type": "scatter3d"
           }
          ],
          "scattercarpet": [
           {
            "marker": {
             "colorbar": {
              "outlinewidth": 0,
              "ticks": ""
             }
            },
            "type": "scattercarpet"
           }
          ],
          "scattergeo": [
           {
            "marker": {
             "colorbar": {
              "outlinewidth": 0,
              "ticks": ""
             }
            },
            "type": "scattergeo"
           }
          ],
          "scattergl": [
           {
            "marker": {
             "colorbar": {
              "outlinewidth": 0,
              "ticks": ""
             }
            },
            "type": "scattergl"
           }
          ],
          "scattermapbox": [
           {
            "marker": {
             "colorbar": {
              "outlinewidth": 0,
              "ticks": ""
             }
            },
            "type": "scattermapbox"
           }
          ],
          "scatterpolar": [
           {
            "marker": {
             "colorbar": {
              "outlinewidth": 0,
              "ticks": ""
             }
            },
            "type": "scatterpolar"
           }
          ],
          "scatterpolargl": [
           {
            "marker": {
             "colorbar": {
              "outlinewidth": 0,
              "ticks": ""
             }
            },
            "type": "scatterpolargl"
           }
          ],
          "scatterternary": [
           {
            "marker": {
             "colorbar": {
              "outlinewidth": 0,
              "ticks": ""
             }
            },
            "type": "scatterternary"
           }
          ],
          "surface": [
           {
            "colorbar": {
             "outlinewidth": 0,
             "ticks": ""
            },
            "colorscale": [
             [
              0,
              "#0d0887"
             ],
             [
              0.1111111111111111,
              "#46039f"
             ],
             [
              0.2222222222222222,
              "#7201a8"
             ],
             [
              0.3333333333333333,
              "#9c179e"
             ],
             [
              0.4444444444444444,
              "#bd3786"
             ],
             [
              0.5555555555555556,
              "#d8576b"
             ],
             [
              0.6666666666666666,
              "#ed7953"
             ],
             [
              0.7777777777777778,
              "#fb9f3a"
             ],
             [
              0.8888888888888888,
              "#fdca26"
             ],
             [
              1,
              "#f0f921"
             ]
            ],
            "type": "surface"
           }
          ],
          "table": [
           {
            "cells": {
             "fill": {
              "color": "#EBF0F8"
             },
             "line": {
              "color": "white"
             }
            },
            "header": {
             "fill": {
              "color": "#C8D4E3"
             },
             "line": {
              "color": "white"
             }
            },
            "type": "table"
           }
          ]
         },
         "layout": {
          "annotationdefaults": {
           "arrowcolor": "#2a3f5f",
           "arrowhead": 0,
           "arrowwidth": 1
          },
          "autotypenumbers": "strict",
          "coloraxis": {
           "colorbar": {
            "outlinewidth": 0,
            "ticks": ""
           }
          },
          "colorscale": {
           "diverging": [
            [
             0,
             "#8e0152"
            ],
            [
             0.1,
             "#c51b7d"
            ],
            [
             0.2,
             "#de77ae"
            ],
            [
             0.3,
             "#f1b6da"
            ],
            [
             0.4,
             "#fde0ef"
            ],
            [
             0.5,
             "#f7f7f7"
            ],
            [
             0.6,
             "#e6f5d0"
            ],
            [
             0.7,
             "#b8e186"
            ],
            [
             0.8,
             "#7fbc41"
            ],
            [
             0.9,
             "#4d9221"
            ],
            [
             1,
             "#276419"
            ]
           ],
           "sequential": [
            [
             0,
             "#0d0887"
            ],
            [
             0.1111111111111111,
             "#46039f"
            ],
            [
             0.2222222222222222,
             "#7201a8"
            ],
            [
             0.3333333333333333,
             "#9c179e"
            ],
            [
             0.4444444444444444,
             "#bd3786"
            ],
            [
             0.5555555555555556,
             "#d8576b"
            ],
            [
             0.6666666666666666,
             "#ed7953"
            ],
            [
             0.7777777777777778,
             "#fb9f3a"
            ],
            [
             0.8888888888888888,
             "#fdca26"
            ],
            [
             1,
             "#f0f921"
            ]
           ],
           "sequentialminus": [
            [
             0,
             "#0d0887"
            ],
            [
             0.1111111111111111,
             "#46039f"
            ],
            [
             0.2222222222222222,
             "#7201a8"
            ],
            [
             0.3333333333333333,
             "#9c179e"
            ],
            [
             0.4444444444444444,
             "#bd3786"
            ],
            [
             0.5555555555555556,
             "#d8576b"
            ],
            [
             0.6666666666666666,
             "#ed7953"
            ],
            [
             0.7777777777777778,
             "#fb9f3a"
            ],
            [
             0.8888888888888888,
             "#fdca26"
            ],
            [
             1,
             "#f0f921"
            ]
           ]
          },
          "colorway": [
           "#636efa",
           "#EF553B",
           "#00cc96",
           "#ab63fa",
           "#FFA15A",
           "#19d3f3",
           "#FF6692",
           "#B6E880",
           "#FF97FF",
           "#FECB52"
          ],
          "font": {
           "color": "#2a3f5f"
          },
          "geo": {
           "bgcolor": "white",
           "lakecolor": "white",
           "landcolor": "#E5ECF6",
           "showlakes": true,
           "showland": true,
           "subunitcolor": "white"
          },
          "hoverlabel": {
           "align": "left"
          },
          "hovermode": "closest",
          "mapbox": {
           "style": "light"
          },
          "paper_bgcolor": "white",
          "plot_bgcolor": "#E5ECF6",
          "polar": {
           "angularaxis": {
            "gridcolor": "white",
            "linecolor": "white",
            "ticks": ""
           },
           "bgcolor": "#E5ECF6",
           "radialaxis": {
            "gridcolor": "white",
            "linecolor": "white",
            "ticks": ""
           }
          },
          "scene": {
           "xaxis": {
            "backgroundcolor": "#E5ECF6",
            "gridcolor": "white",
            "gridwidth": 2,
            "linecolor": "white",
            "showbackground": true,
            "ticks": "",
            "zerolinecolor": "white"
           },
           "yaxis": {
            "backgroundcolor": "#E5ECF6",
            "gridcolor": "white",
            "gridwidth": 2,
            "linecolor": "white",
            "showbackground": true,
            "ticks": "",
            "zerolinecolor": "white"
           },
           "zaxis": {
            "backgroundcolor": "#E5ECF6",
            "gridcolor": "white",
            "gridwidth": 2,
            "linecolor": "white",
            "showbackground": true,
            "ticks": "",
            "zerolinecolor": "white"
           }
          },
          "shapedefaults": {
           "line": {
            "color": "#2a3f5f"
           }
          },
          "ternary": {
           "aaxis": {
            "gridcolor": "white",
            "linecolor": "white",
            "ticks": ""
           },
           "baxis": {
            "gridcolor": "white",
            "linecolor": "white",
            "ticks": ""
           },
           "bgcolor": "#E5ECF6",
           "caxis": {
            "gridcolor": "white",
            "linecolor": "white",
            "ticks": ""
           }
          },
          "title": {
           "x": 0.05
          },
          "xaxis": {
           "automargin": true,
           "gridcolor": "white",
           "linecolor": "white",
           "ticks": "",
           "title": {
            "standoff": 15
           },
           "zerolinecolor": "white",
           "zerolinewidth": 2
          },
          "yaxis": {
           "automargin": true,
           "gridcolor": "white",
           "linecolor": "white",
           "ticks": "",
           "title": {
            "standoff": 15
           },
           "zerolinecolor": "white",
           "zerolinewidth": 2
          }
         }
        },
        "title": {
         "text": ""
        },
        "width": 1200,
        "xaxis": {
         "anchor": "y",
         "domain": [
          0,
          0.2888888888888889
         ]
        },
        "xaxis2": {
         "anchor": "y2",
         "domain": [
          0.35555555555555557,
          0.6444444444444445
         ]
        },
        "xaxis3": {
         "anchor": "y3",
         "domain": [
          0.7111111111111111,
          1
         ]
        },
        "xaxis4": {
         "anchor": "y4",
         "domain": [
          0,
          0.2888888888888889
         ]
        },
        "xaxis5": {
         "anchor": "y5",
         "domain": [
          0.35555555555555557,
          0.6444444444444445
         ]
        },
        "xaxis6": {
         "anchor": "y6",
         "domain": [
          0.7111111111111111,
          1
         ]
        },
        "yaxis": {
         "anchor": "x",
         "domain": [
          0.625,
          1
         ]
        },
        "yaxis2": {
         "anchor": "x2",
         "domain": [
          0.625,
          1
         ]
        },
        "yaxis3": {
         "anchor": "x3",
         "domain": [
          0.625,
          1
         ]
        },
        "yaxis4": {
         "anchor": "x4",
         "domain": [
          0,
          0.375
         ]
        },
        "yaxis5": {
         "anchor": "x5",
         "domain": [
          0,
          0.375
         ]
        },
        "yaxis6": {
         "anchor": "x6",
         "domain": [
          0,
          0.375
         ]
        }
       }
      }
     },
     "metadata": {},
     "output_type": "display_data"
    },
    {
     "data": {
      "application/vnd.plotly.v1+json": {
       "config": {
        "plotlyServerURL": "https://plot.ly"
       },
       "data": [
        {
         "marker": {
          "color": "#d60000"
         },
         "name": "",
         "type": "bar",
         "x": [
          ""
         ],
         "xaxis": "x",
         "y": [
          0.9560439560439561
         ],
         "yaxis": "y"
        },
        {
         "marker": {
          "color": "#d60000"
         },
         "name": "",
         "type": "bar",
         "x": [
          ""
         ],
         "xaxis": "x2",
         "y": [
          0.9666666666666667
         ],
         "yaxis": "y2"
        },
        {
         "marker": {
          "color": "#d60000"
         },
         "name": "",
         "type": "bar",
         "x": [
          ""
         ],
         "xaxis": "x4",
         "y": [
          -0.94277015521293
         ],
         "yaxis": "y4"
        },
        {
         "marker": {
          "color": "#d60000"
         },
         "name": "",
         "type": "bar",
         "x": [
          ""
         ],
         "xaxis": "x3",
         "y": [
          0.09431113398241504
         ],
         "yaxis": "y3"
        },
        {
         "marker": {
          "color": "#d60000"
         },
         "name": "",
         "type": "bar",
         "x": [
          ""
         ],
         "xaxis": "x5",
         "y": [
          0.9613259668508287
         ],
         "yaxis": "y5"
        },
        {
         "marker": {
          "color": "#d60000"
         },
         "name": "",
         "type": "bar",
         "x": [
          ""
         ],
         "xaxis": "x6",
         "y": [
          0.9245283018867925
         ],
         "yaxis": "y6"
        },
        {
         "marker": {
          "color": "#d60000"
         },
         "name": "",
         "type": "bar",
         "x": [
          ""
         ],
         "xaxis": "x7",
         "y": [
          0.9718448218448219
         ],
         "yaxis": "y7"
        }
       ],
       "layout": {
        "annotations": [
         {
          "font": {
           "size": 16
          },
          "showarrow": false,
          "text": "precision",
          "x": 0.10625,
          "xanchor": "center",
          "xref": "paper",
          "y": 1,
          "yanchor": "bottom",
          "yref": "paper"
         },
         {
          "font": {
           "size": 16
          },
          "showarrow": false,
          "text": "recall",
          "x": 0.36875,
          "xanchor": "center",
          "xref": "paper",
          "y": 1,
          "yanchor": "bottom",
          "yref": "paper"
         },
         {
          "font": {
           "size": 16
          },
          "showarrow": false,
          "text": "binary_crossentropy",
          "x": 0.6312500000000001,
          "xanchor": "center",
          "xref": "paper",
          "y": 1,
          "yanchor": "bottom",
          "yref": "paper"
         },
         {
          "font": {
           "size": 16
          },
          "showarrow": false,
          "text": "AIC",
          "x": 0.89375,
          "xanchor": "center",
          "xref": "paper",
          "y": 1,
          "yanchor": "bottom",
          "yref": "paper"
         },
         {
          "font": {
           "size": 16
          },
          "showarrow": false,
          "text": "f1",
          "x": 0.10625,
          "xanchor": "center",
          "xref": "paper",
          "y": 0.375,
          "yanchor": "bottom",
          "yref": "paper"
         },
         {
          "font": {
           "size": 16
          },
          "showarrow": false,
          "text": "specificity",
          "x": 0.36875,
          "xanchor": "center",
          "xref": "paper",
          "y": 0.375,
          "yanchor": "bottom",
          "yref": "paper"
         },
         {
          "font": {
           "size": 16
          },
          "showarrow": false,
          "text": "aucpr",
          "x": 0.6312500000000001,
          "xanchor": "center",
          "xref": "paper",
          "y": 0.375,
          "yanchor": "bottom",
          "yref": "paper"
         }
        ],
        "autosize": false,
        "height": 800,
        "showlegend": false,
        "template": {
         "data": {
          "bar": [
           {
            "error_x": {
             "color": "#2a3f5f"
            },
            "error_y": {
             "color": "#2a3f5f"
            },
            "marker": {
             "line": {
              "color": "#E5ECF6",
              "width": 0.5
             },
             "pattern": {
              "fillmode": "overlay",
              "size": 10,
              "solidity": 0.2
             }
            },
            "type": "bar"
           }
          ],
          "barpolar": [
           {
            "marker": {
             "line": {
              "color": "#E5ECF6",
              "width": 0.5
             },
             "pattern": {
              "fillmode": "overlay",
              "size": 10,
              "solidity": 0.2
             }
            },
            "type": "barpolar"
           }
          ],
          "carpet": [
           {
            "aaxis": {
             "endlinecolor": "#2a3f5f",
             "gridcolor": "white",
             "linecolor": "white",
             "minorgridcolor": "white",
             "startlinecolor": "#2a3f5f"
            },
            "baxis": {
             "endlinecolor": "#2a3f5f",
             "gridcolor": "white",
             "linecolor": "white",
             "minorgridcolor": "white",
             "startlinecolor": "#2a3f5f"
            },
            "type": "carpet"
           }
          ],
          "choropleth": [
           {
            "colorbar": {
             "outlinewidth": 0,
             "ticks": ""
            },
            "type": "choropleth"
           }
          ],
          "contour": [
           {
            "colorbar": {
             "outlinewidth": 0,
             "ticks": ""
            },
            "colorscale": [
             [
              0,
              "#0d0887"
             ],
             [
              0.1111111111111111,
              "#46039f"
             ],
             [
              0.2222222222222222,
              "#7201a8"
             ],
             [
              0.3333333333333333,
              "#9c179e"
             ],
             [
              0.4444444444444444,
              "#bd3786"
             ],
             [
              0.5555555555555556,
              "#d8576b"
             ],
             [
              0.6666666666666666,
              "#ed7953"
             ],
             [
              0.7777777777777778,
              "#fb9f3a"
             ],
             [
              0.8888888888888888,
              "#fdca26"
             ],
             [
              1,
              "#f0f921"
             ]
            ],
            "type": "contour"
           }
          ],
          "contourcarpet": [
           {
            "colorbar": {
             "outlinewidth": 0,
             "ticks": ""
            },
            "type": "contourcarpet"
           }
          ],
          "heatmap": [
           {
            "colorbar": {
             "outlinewidth": 0,
             "ticks": ""
            },
            "colorscale": [
             [
              0,
              "#0d0887"
             ],
             [
              0.1111111111111111,
              "#46039f"
             ],
             [
              0.2222222222222222,
              "#7201a8"
             ],
             [
              0.3333333333333333,
              "#9c179e"
             ],
             [
              0.4444444444444444,
              "#bd3786"
             ],
             [
              0.5555555555555556,
              "#d8576b"
             ],
             [
              0.6666666666666666,
              "#ed7953"
             ],
             [
              0.7777777777777778,
              "#fb9f3a"
             ],
             [
              0.8888888888888888,
              "#fdca26"
             ],
             [
              1,
              "#f0f921"
             ]
            ],
            "type": "heatmap"
           }
          ],
          "heatmapgl": [
           {
            "colorbar": {
             "outlinewidth": 0,
             "ticks": ""
            },
            "colorscale": [
             [
              0,
              "#0d0887"
             ],
             [
              0.1111111111111111,
              "#46039f"
             ],
             [
              0.2222222222222222,
              "#7201a8"
             ],
             [
              0.3333333333333333,
              "#9c179e"
             ],
             [
              0.4444444444444444,
              "#bd3786"
             ],
             [
              0.5555555555555556,
              "#d8576b"
             ],
             [
              0.6666666666666666,
              "#ed7953"
             ],
             [
              0.7777777777777778,
              "#fb9f3a"
             ],
             [
              0.8888888888888888,
              "#fdca26"
             ],
             [
              1,
              "#f0f921"
             ]
            ],
            "type": "heatmapgl"
           }
          ],
          "histogram": [
           {
            "marker": {
             "pattern": {
              "fillmode": "overlay",
              "size": 10,
              "solidity": 0.2
             }
            },
            "type": "histogram"
           }
          ],
          "histogram2d": [
           {
            "colorbar": {
             "outlinewidth": 0,
             "ticks": ""
            },
            "colorscale": [
             [
              0,
              "#0d0887"
             ],
             [
              0.1111111111111111,
              "#46039f"
             ],
             [
              0.2222222222222222,
              "#7201a8"
             ],
             [
              0.3333333333333333,
              "#9c179e"
             ],
             [
              0.4444444444444444,
              "#bd3786"
             ],
             [
              0.5555555555555556,
              "#d8576b"
             ],
             [
              0.6666666666666666,
              "#ed7953"
             ],
             [
              0.7777777777777778,
              "#fb9f3a"
             ],
             [
              0.8888888888888888,
              "#fdca26"
             ],
             [
              1,
              "#f0f921"
             ]
            ],
            "type": "histogram2d"
           }
          ],
          "histogram2dcontour": [
           {
            "colorbar": {
             "outlinewidth": 0,
             "ticks": ""
            },
            "colorscale": [
             [
              0,
              "#0d0887"
             ],
             [
              0.1111111111111111,
              "#46039f"
             ],
             [
              0.2222222222222222,
              "#7201a8"
             ],
             [
              0.3333333333333333,
              "#9c179e"
             ],
             [
              0.4444444444444444,
              "#bd3786"
             ],
             [
              0.5555555555555556,
              "#d8576b"
             ],
             [
              0.6666666666666666,
              "#ed7953"
             ],
             [
              0.7777777777777778,
              "#fb9f3a"
             ],
             [
              0.8888888888888888,
              "#fdca26"
             ],
             [
              1,
              "#f0f921"
             ]
            ],
            "type": "histogram2dcontour"
           }
          ],
          "mesh3d": [
           {
            "colorbar": {
             "outlinewidth": 0,
             "ticks": ""
            },
            "type": "mesh3d"
           }
          ],
          "parcoords": [
           {
            "line": {
             "colorbar": {
              "outlinewidth": 0,
              "ticks": ""
             }
            },
            "type": "parcoords"
           }
          ],
          "pie": [
           {
            "automargin": true,
            "type": "pie"
           }
          ],
          "scatter": [
           {
            "fillpattern": {
             "fillmode": "overlay",
             "size": 10,
             "solidity": 0.2
            },
            "type": "scatter"
           }
          ],
          "scatter3d": [
           {
            "line": {
             "colorbar": {
              "outlinewidth": 0,
              "ticks": ""
             }
            },
            "marker": {
             "colorbar": {
              "outlinewidth": 0,
              "ticks": ""
             }
            },
            "type": "scatter3d"
           }
          ],
          "scattercarpet": [
           {
            "marker": {
             "colorbar": {
              "outlinewidth": 0,
              "ticks": ""
             }
            },
            "type": "scattercarpet"
           }
          ],
          "scattergeo": [
           {
            "marker": {
             "colorbar": {
              "outlinewidth": 0,
              "ticks": ""
             }
            },
            "type": "scattergeo"
           }
          ],
          "scattergl": [
           {
            "marker": {
             "colorbar": {
              "outlinewidth": 0,
              "ticks": ""
             }
            },
            "type": "scattergl"
           }
          ],
          "scattermapbox": [
           {
            "marker": {
             "colorbar": {
              "outlinewidth": 0,
              "ticks": ""
             }
            },
            "type": "scattermapbox"
           }
          ],
          "scatterpolar": [
           {
            "marker": {
             "colorbar": {
              "outlinewidth": 0,
              "ticks": ""
             }
            },
            "type": "scatterpolar"
           }
          ],
          "scatterpolargl": [
           {
            "marker": {
             "colorbar": {
              "outlinewidth": 0,
              "ticks": ""
             }
            },
            "type": "scatterpolargl"
           }
          ],
          "scatterternary": [
           {
            "marker": {
             "colorbar": {
              "outlinewidth": 0,
              "ticks": ""
             }
            },
            "type": "scatterternary"
           }
          ],
          "surface": [
           {
            "colorbar": {
             "outlinewidth": 0,
             "ticks": ""
            },
            "colorscale": [
             [
              0,
              "#0d0887"
             ],
             [
              0.1111111111111111,
              "#46039f"
             ],
             [
              0.2222222222222222,
              "#7201a8"
             ],
             [
              0.3333333333333333,
              "#9c179e"
             ],
             [
              0.4444444444444444,
              "#bd3786"
             ],
             [
              0.5555555555555556,
              "#d8576b"
             ],
             [
              0.6666666666666666,
              "#ed7953"
             ],
             [
              0.7777777777777778,
              "#fb9f3a"
             ],
             [
              0.8888888888888888,
              "#fdca26"
             ],
             [
              1,
              "#f0f921"
             ]
            ],
            "type": "surface"
           }
          ],
          "table": [
           {
            "cells": {
             "fill": {
              "color": "#EBF0F8"
             },
             "line": {
              "color": "white"
             }
            },
            "header": {
             "fill": {
              "color": "#C8D4E3"
             },
             "line": {
              "color": "white"
             }
            },
            "type": "table"
           }
          ]
         },
         "layout": {
          "annotationdefaults": {
           "arrowcolor": "#2a3f5f",
           "arrowhead": 0,
           "arrowwidth": 1
          },
          "autotypenumbers": "strict",
          "coloraxis": {
           "colorbar": {
            "outlinewidth": 0,
            "ticks": ""
           }
          },
          "colorscale": {
           "diverging": [
            [
             0,
             "#8e0152"
            ],
            [
             0.1,
             "#c51b7d"
            ],
            [
             0.2,
             "#de77ae"
            ],
            [
             0.3,
             "#f1b6da"
            ],
            [
             0.4,
             "#fde0ef"
            ],
            [
             0.5,
             "#f7f7f7"
            ],
            [
             0.6,
             "#e6f5d0"
            ],
            [
             0.7,
             "#b8e186"
            ],
            [
             0.8,
             "#7fbc41"
            ],
            [
             0.9,
             "#4d9221"
            ],
            [
             1,
             "#276419"
            ]
           ],
           "sequential": [
            [
             0,
             "#0d0887"
            ],
            [
             0.1111111111111111,
             "#46039f"
            ],
            [
             0.2222222222222222,
             "#7201a8"
            ],
            [
             0.3333333333333333,
             "#9c179e"
            ],
            [
             0.4444444444444444,
             "#bd3786"
            ],
            [
             0.5555555555555556,
             "#d8576b"
            ],
            [
             0.6666666666666666,
             "#ed7953"
            ],
            [
             0.7777777777777778,
             "#fb9f3a"
            ],
            [
             0.8888888888888888,
             "#fdca26"
            ],
            [
             1,
             "#f0f921"
            ]
           ],
           "sequentialminus": [
            [
             0,
             "#0d0887"
            ],
            [
             0.1111111111111111,
             "#46039f"
            ],
            [
             0.2222222222222222,
             "#7201a8"
            ],
            [
             0.3333333333333333,
             "#9c179e"
            ],
            [
             0.4444444444444444,
             "#bd3786"
            ],
            [
             0.5555555555555556,
             "#d8576b"
            ],
            [
             0.6666666666666666,
             "#ed7953"
            ],
            [
             0.7777777777777778,
             "#fb9f3a"
            ],
            [
             0.8888888888888888,
             "#fdca26"
            ],
            [
             1,
             "#f0f921"
            ]
           ]
          },
          "colorway": [
           "#636efa",
           "#EF553B",
           "#00cc96",
           "#ab63fa",
           "#FFA15A",
           "#19d3f3",
           "#FF6692",
           "#B6E880",
           "#FF97FF",
           "#FECB52"
          ],
          "font": {
           "color": "#2a3f5f"
          },
          "geo": {
           "bgcolor": "white",
           "lakecolor": "white",
           "landcolor": "#E5ECF6",
           "showlakes": true,
           "showland": true,
           "subunitcolor": "white"
          },
          "hoverlabel": {
           "align": "left"
          },
          "hovermode": "closest",
          "mapbox": {
           "style": "light"
          },
          "paper_bgcolor": "white",
          "plot_bgcolor": "#E5ECF6",
          "polar": {
           "angularaxis": {
            "gridcolor": "white",
            "linecolor": "white",
            "ticks": ""
           },
           "bgcolor": "#E5ECF6",
           "radialaxis": {
            "gridcolor": "white",
            "linecolor": "white",
            "ticks": ""
           }
          },
          "scene": {
           "xaxis": {
            "backgroundcolor": "#E5ECF6",
            "gridcolor": "white",
            "gridwidth": 2,
            "linecolor": "white",
            "showbackground": true,
            "ticks": "",
            "zerolinecolor": "white"
           },
           "yaxis": {
            "backgroundcolor": "#E5ECF6",
            "gridcolor": "white",
            "gridwidth": 2,
            "linecolor": "white",
            "showbackground": true,
            "ticks": "",
            "zerolinecolor": "white"
           },
           "zaxis": {
            "backgroundcolor": "#E5ECF6",
            "gridcolor": "white",
            "gridwidth": 2,
            "linecolor": "white",
            "showbackground": true,
            "ticks": "",
            "zerolinecolor": "white"
           }
          },
          "shapedefaults": {
           "line": {
            "color": "#2a3f5f"
           }
          },
          "ternary": {
           "aaxis": {
            "gridcolor": "white",
            "linecolor": "white",
            "ticks": ""
           },
           "baxis": {
            "gridcolor": "white",
            "linecolor": "white",
            "ticks": ""
           },
           "bgcolor": "#E5ECF6",
           "caxis": {
            "gridcolor": "white",
            "linecolor": "white",
            "ticks": ""
           }
          },
          "title": {
           "x": 0.05
          },
          "xaxis": {
           "automargin": true,
           "gridcolor": "white",
           "linecolor": "white",
           "ticks": "",
           "title": {
            "standoff": 15
           },
           "zerolinecolor": "white",
           "zerolinewidth": 2
          },
          "yaxis": {
           "automargin": true,
           "gridcolor": "white",
           "linecolor": "white",
           "ticks": "",
           "title": {
            "standoff": 15
           },
           "zerolinecolor": "white",
           "zerolinewidth": 2
          }
         }
        },
        "width": 1200,
        "xaxis": {
         "anchor": "y",
         "domain": [
          0,
          0.2125
         ]
        },
        "xaxis2": {
         "anchor": "y2",
         "domain": [
          0.2625,
          0.475
         ]
        },
        "xaxis3": {
         "anchor": "y3",
         "domain": [
          0.525,
          0.7375
         ]
        },
        "xaxis4": {
         "anchor": "y4",
         "domain": [
          0.7875,
          1
         ]
        },
        "xaxis5": {
         "anchor": "y5",
         "domain": [
          0,
          0.2125
         ]
        },
        "xaxis6": {
         "anchor": "y6",
         "domain": [
          0.2625,
          0.475
         ]
        },
        "xaxis7": {
         "anchor": "y7",
         "domain": [
          0.525,
          0.7375
         ]
        },
        "xaxis8": {
         "anchor": "y8",
         "domain": [
          0.7875,
          1
         ]
        },
        "yaxis": {
         "anchor": "x",
         "domain": [
          0.625,
          1
         ]
        },
        "yaxis2": {
         "anchor": "x2",
         "domain": [
          0.625,
          1
         ]
        },
        "yaxis3": {
         "anchor": "x3",
         "domain": [
          0.625,
          1
         ]
        },
        "yaxis4": {
         "anchor": "x4",
         "domain": [
          0.625,
          1
         ]
        },
        "yaxis5": {
         "anchor": "x5",
         "domain": [
          0,
          0.375
         ]
        },
        "yaxis6": {
         "anchor": "x6",
         "domain": [
          0,
          0.375
         ]
        },
        "yaxis7": {
         "anchor": "x7",
         "domain": [
          0,
          0.375
         ]
        },
        "yaxis8": {
         "anchor": "x8",
         "domain": [
          0,
          0.375
         ]
        }
       }
      }
     },
     "metadata": {},
     "output_type": "display_data"
    }
   ],
   "source": [
    "plot_metrics(title=\"\", metrics=metrics)\n"
   ]
  },
  {
   "cell_type": "code",
   "execution_count": null,
   "metadata": {},
   "outputs": [],
   "source": [
    "def aic(y, y_pred, k):\n",
    "    resid = y - y_pred.ravel()\n",
    "    sse = sum(resid**2)\n",
    "\n",
    "    return 2 * k - 2 * np.log(sse)\n"
   ]
  },
  {
   "cell_type": "code",
   "execution_count": 166,
   "metadata": {},
   "outputs": [],
   "source": [
    "from sklearn.metrics import precision_recall_curve\n",
    "\n",
    "prec, rec, thresh = precision_recall_curve(y_test, y_pred_proba[:, 1])"
   ]
  },
  {
   "cell_type": "code",
   "execution_count": 158,
   "metadata": {},
   "outputs": [],
   "source": [
    "def plot_compare(title, metrics_dict=None):\n",
    "  import colorcet as ct\n",
    "  from plotly.subplots import make_subplots\n",
    "  '''Plots curves and comparisons'''\n",
    "  # if metrics_dict is passed, assume compare\n",
    "  line_ = {}\n",
    "  marker_ = {}\n",
    "  colors_ = {}\n",
    "  for i, key in enumerate(metrics_dict.keys()):\n",
    "    colors_[key] = ct.glasbey[i]\n",
    "    line_[key] = go.scatter.Line(color=ct.glasbey[i], dash=np.random.choice(['dash', 'dot']))\n",
    "    marker_[key] = go.scatter.Marker(color=ct.glasbey[i], symbol=np.random.choice(['diamond', 'triangle-up', 'square']))\n",
    "  \n",
    "  fig = make_subplots(rows=3, cols=3, \n",
    "                          subplot_titles=['ROC', 'Residuals','Calibration','PR Curve', 'Precision', 'Recall', 'FBeta', 'AIC', 'AUC'],\n",
    "                          specs=[\n",
    "                            [{\"type\": \"scatter\"},{\"type\": \"scatter\"}, {\"type\": \"scatter\"}, ],\n",
    "                            [{\"type\": \"scatter\"}, {'type': 'bar'}, {'type': 'bar'}],\n",
    "                            [{\"type\": \"bar\"}, {'type': 'bar'}, {'type': 'bar'}]])\n",
    "  \n",
    "\n",
    "  for model in metrics_dict.keys():\n",
    "    # pr_curve\n",
    "    _metrics =  metrics_dict[model]\n",
    "    pr, rec = _metrics['pr_curve']\n",
    "    fpr, tpr = _metrics['roc_curve']\n",
    "\n",
    "\n",
    "\n",
    "    prob_true, prob_pred = _metrics['calibration']\n",
    "\n",
    "    residuals = _metrics['residuals']\n",
    "    percentages, gain0, gain1 = _metrics['lift_curve']\n",
    "\n",
    "    spec, sens = _metrics['spec_sens']\n",
    "\n",
    "    # Curves\n",
    "    #------------------------------ROC CURVE------------------------------#\n",
    "    fig.add_trace(go.Scatter(\n",
    "      y=tpr,\n",
    "      x=fpr,\n",
    "      name=model,\n",
    "      line=line_[model]\n",
    "    ), row=1, col=1)\n",
    "    #------------------------------RESIDUALS------------------------------#\n",
    "    fig.add_trace(go.Scatter(\n",
    "      x=[float(i) for i in residuals['bin']],\n",
    "      y=[float(i) for i in residuals['Residual']],\n",
    "      name=model,\n",
    "      line=line_[model],\n",
    "      marker=marker_[model],\n",
    "      mode='markers'\n",
    "    ), row=1, col=2)\n",
    "    #------------------------------CALIBRATION----------------------------#\n",
    "\n",
    "    fig.add_trace(go.Scatter(\n",
    "      x=prob_true,\n",
    "      y=prob_pred,\n",
    "      name=model,\n",
    "      line=line_[model],\n",
    "      marker=marker_[model],\n",
    "      mode='markers+lines'\n",
    "    ), row=1, col=3)\n",
    "\n",
    "    #------------------------------PR-CURVE-------------------------------#\n",
    "    fig.add_trace(go.Scatter(\n",
    "      x=rec,\n",
    "      y=pr,\n",
    "      name=model,\n",
    "      line=line_[model],\n",
    "      marker=marker_[model],\n",
    "      mode='markers+lines'\n",
    "    ), row=2, col=1)\n",
    "\n",
    "\n",
    "    # Bar Charts\n",
    "    #------------------------------PRECISOIN------------------------------#\n",
    "    fig.add_trace(go.Bar(\n",
    "        x=[model], \n",
    "        y=[_metrics['precision']],\n",
    "        name=model, \n",
    "        marker_color=colors_[model]\n",
    "      ), row=2, col=2)\n",
    "    #--------------------------------RECALL-------------------------------#\n",
    "    fig.add_trace(go.Bar(\n",
    "      x=[model], \n",
    "      y=[_metrics['recall']],\n",
    "      name=model, \n",
    "      marker_color=colors_[model]\n",
    "    ), row=2, col=3)\n",
    "    #-------------------------------F BETA--------------------------------#\n",
    "    fig.add_trace(go.Bar(\n",
    "      x=[model],\n",
    "      y=[_metrics['fbeta']],\n",
    "      name=model,\n",
    "      marker_color=colors_[model],\n",
    "    ), row=3, col=1)\n",
    "    #------------------------------- AIC ---------------------------------#\n",
    "    fig.add_trace(go.Bar(\n",
    "      x=[model],\n",
    "      y=[_metrics['aic']],\n",
    "      name=model,\n",
    "      marker_color=colors_[model],\n",
    "    ), row=3, col=2)\n",
    "    #------------------------------- AUC ---------------------------------#\n",
    "    fig.add_trace(go.Bar(\n",
    "      x=[model],\n",
    "      y=[_metrics['aucpr']],\n",
    "      name=model,\n",
    "      marker_color=colors_[model],\n",
    "    ), row=3, col=3)  \n",
    "\n",
    "\n",
    "    fig.update_layout(\n",
    "      title=title,\n",
    "      template='plotly_dark',\n",
    "      autosize=False,\n",
    "      width=1200,\n",
    "      height=1200\n",
    "    )\n",
    "    fig.show()"
   ]
  },
  {
   "cell_type": "code",
   "execution_count": 159,
   "metadata": {},
   "outputs": [
    {
     "name": "stderr",
     "output_type": "stream",
     "text": [
      "/tmp/ipykernel_483785/983215488.py:177: RuntimeWarning:\n",
      "\n",
      "invalid value encountered in long_scalars\n",
      "\n"
     ]
    }
   ],
   "source": [
    "metrics_dict = evaluate_classifier(y_test, y_pred, y_pred_proba[:, 1])"
   ]
  },
  {
   "cell_type": "code",
   "execution_count": 160,
   "metadata": {},
   "outputs": [
    {
     "data": {
      "application/vnd.plotly.v1+json": {
       "config": {
        "plotlyServerURL": "https://plot.ly"
       },
       "data": [
        {
         "line": {
          "color": "#d60000",
          "dash": "dot"
         },
         "name": "model1",
         "type": "scatter",
         "x": [
          0,
          0.03773584905660377,
          1
         ],
         "xaxis": "x",
         "y": [
          0,
          0.9777777777777777,
          1
         ],
         "yaxis": "y"
        },
        {
         "line": {
          "color": "#d60000",
          "dash": "dot"
         },
         "marker": {
          "color": "#d60000",
          "symbol": "diamond"
         },
         "mode": "markers",
         "name": "model1",
         "type": "scatter",
         "x": [
          0.0201,
          0.0401,
          0.0601,
          0.0801,
          0.1,
          0.12,
          0.14,
          0.16,
          0.18,
          0.2,
          0.22,
          0.24,
          0.26,
          0.28,
          0.3,
          0.32,
          0.34,
          0.36,
          0.38,
          0.4,
          0.42,
          0.44,
          0.46,
          0.48,
          0.5,
          0.52,
          0.54,
          0.56,
          0.58,
          0.6,
          0.62,
          0.64,
          0.66,
          0.68,
          0.7,
          0.72,
          0.74,
          0.76,
          0.78,
          0.8,
          0.82,
          0.84,
          0.86,
          0.88,
          0.9,
          0.92,
          0.94,
          0.96,
          0.98,
          1
         ],
         "xaxis": "x2",
         "y": [
          -0.0017005555401556193,
          -0.026143753901124,
          null,
          null,
          null,
          null,
          null,
          null,
          null,
          null,
          null,
          null,
          null,
          0.7331675291061401,
          null,
          null,
          null,
          null,
          null,
          null,
          0.5830322802066803,
          null,
          null,
          null,
          null,
          null,
          null,
          null,
          null,
          null,
          null,
          -0.6398054361343384,
          null,
          null,
          null,
          null,
          null,
          null,
          null,
          0.2083948254585266,
          null,
          0.17235511541366577,
          0.1585426926612854,
          null,
          null,
          null,
          0.06350469589233398,
          0.049304425716400146,
          0.02937893569469452,
          -0.010555349573304382
         ],
         "yaxis": "y2"
        },
        {
         "line": {
          "color": "#d60000",
          "dash": "dot"
         },
         "marker": {
          "color": "#d60000",
          "symbol": "diamond"
         },
         "mode": "markers+lines",
         "name": "model1",
         "type": "scatter",
         "x": [
          0,
          1,
          1,
          0.6666666666666666,
          0.9885057471264368
         ],
         "xaxis": "x3",
         "y": [
          0.0021798339393902934,
          0.26683247089385986,
          0.4169677197933197,
          0.7410052617390951,
          0.9916396545267653
         ],
         "yaxis": "y3"
        },
        {
         "line": {
          "color": "#d60000",
          "dash": "dot"
         },
         "marker": {
          "color": "#d60000",
          "symbol": "diamond"
         },
         "mode": "markers+lines",
         "name": "model1",
         "type": "scatter",
         "x": [
          1,
          0.9777777777777777,
          0
         ],
         "xaxis": "x4",
         "y": [
          0.6293706293706294,
          0.9777777777777777,
          1
         ],
         "yaxis": "y4"
        },
        {
         "marker": {
          "color": "#d60000"
         },
         "name": "model1",
         "type": "bar",
         "x": [
          "model1"
         ],
         "xaxis": "x5",
         "y": [
          0.9777777777777777
         ],
         "yaxis": "y5"
        },
        {
         "marker": {
          "color": "#d60000"
         },
         "name": "model1",
         "type": "bar",
         "x": [
          "model1"
         ],
         "xaxis": "x6",
         "y": [
          0.9777777777777777
         ],
         "yaxis": "y6"
        },
        {
         "marker": {
          "color": "#d60000"
         },
         "name": "model1",
         "type": "bar",
         "x": [
          "model1"
         ],
         "xaxis": "x7",
         "y": [
          0.9777777777777777
         ],
         "yaxis": "y7"
        },
        {
         "marker": {
          "color": "#d60000"
         },
         "name": "model1",
         "type": "bar",
         "x": [
          "model1"
         ],
         "xaxis": "x8",
         "y": [
          0.2180319815801095
         ],
         "yaxis": "y8"
        },
        {
         "marker": {
          "color": "#d60000"
         },
         "name": "model1",
         "type": "bar",
         "x": [
          "model1"
         ],
         "xaxis": "x9",
         "y": [
          0.9847707847707847
         ],
         "yaxis": "y9"
        }
       ],
       "layout": {
        "annotations": [
         {
          "font": {
           "size": 16
          },
          "showarrow": false,
          "text": "ROC",
          "x": 0.14444444444444446,
          "xanchor": "center",
          "xref": "paper",
          "y": 1,
          "yanchor": "bottom",
          "yref": "paper"
         },
         {
          "font": {
           "size": 16
          },
          "showarrow": false,
          "text": "Residuals",
          "x": 0.5,
          "xanchor": "center",
          "xref": "paper",
          "y": 1,
          "yanchor": "bottom",
          "yref": "paper"
         },
         {
          "font": {
           "size": 16
          },
          "showarrow": false,
          "text": "Calibration",
          "x": 0.8555555555555556,
          "xanchor": "center",
          "xref": "paper",
          "y": 1,
          "yanchor": "bottom",
          "yref": "paper"
         },
         {
          "font": {
           "size": 16
          },
          "showarrow": false,
          "text": "PR Curve",
          "x": 0.14444444444444446,
          "xanchor": "center",
          "xref": "paper",
          "y": 0.6111111111111112,
          "yanchor": "bottom",
          "yref": "paper"
         },
         {
          "font": {
           "size": 16
          },
          "showarrow": false,
          "text": "Precision",
          "x": 0.5,
          "xanchor": "center",
          "xref": "paper",
          "y": 0.6111111111111112,
          "yanchor": "bottom",
          "yref": "paper"
         },
         {
          "font": {
           "size": 16
          },
          "showarrow": false,
          "text": "Recall",
          "x": 0.8555555555555556,
          "xanchor": "center",
          "xref": "paper",
          "y": 0.6111111111111112,
          "yanchor": "bottom",
          "yref": "paper"
         },
         {
          "font": {
           "size": 16
          },
          "showarrow": false,
          "text": "FBeta",
          "x": 0.14444444444444446,
          "xanchor": "center",
          "xref": "paper",
          "y": 0.22222222222222224,
          "yanchor": "bottom",
          "yref": "paper"
         },
         {
          "font": {
           "size": 16
          },
          "showarrow": false,
          "text": "AIC",
          "x": 0.5,
          "xanchor": "center",
          "xref": "paper",
          "y": 0.22222222222222224,
          "yanchor": "bottom",
          "yref": "paper"
         },
         {
          "font": {
           "size": 16
          },
          "showarrow": false,
          "text": "AUC",
          "x": 0.8555555555555556,
          "xanchor": "center",
          "xref": "paper",
          "y": 0.22222222222222224,
          "yanchor": "bottom",
          "yref": "paper"
         }
        ],
        "autosize": false,
        "height": 1200,
        "template": {
         "data": {
          "bar": [
           {
            "error_x": {
             "color": "#f2f5fa"
            },
            "error_y": {
             "color": "#f2f5fa"
            },
            "marker": {
             "line": {
              "color": "rgb(17,17,17)",
              "width": 0.5
             },
             "pattern": {
              "fillmode": "overlay",
              "size": 10,
              "solidity": 0.2
             }
            },
            "type": "bar"
           }
          ],
          "barpolar": [
           {
            "marker": {
             "line": {
              "color": "rgb(17,17,17)",
              "width": 0.5
             },
             "pattern": {
              "fillmode": "overlay",
              "size": 10,
              "solidity": 0.2
             }
            },
            "type": "barpolar"
           }
          ],
          "carpet": [
           {
            "aaxis": {
             "endlinecolor": "#A2B1C6",
             "gridcolor": "#506784",
             "linecolor": "#506784",
             "minorgridcolor": "#506784",
             "startlinecolor": "#A2B1C6"
            },
            "baxis": {
             "endlinecolor": "#A2B1C6",
             "gridcolor": "#506784",
             "linecolor": "#506784",
             "minorgridcolor": "#506784",
             "startlinecolor": "#A2B1C6"
            },
            "type": "carpet"
           }
          ],
          "choropleth": [
           {
            "colorbar": {
             "outlinewidth": 0,
             "ticks": ""
            },
            "type": "choropleth"
           }
          ],
          "contour": [
           {
            "colorbar": {
             "outlinewidth": 0,
             "ticks": ""
            },
            "colorscale": [
             [
              0,
              "#0d0887"
             ],
             [
              0.1111111111111111,
              "#46039f"
             ],
             [
              0.2222222222222222,
              "#7201a8"
             ],
             [
              0.3333333333333333,
              "#9c179e"
             ],
             [
              0.4444444444444444,
              "#bd3786"
             ],
             [
              0.5555555555555556,
              "#d8576b"
             ],
             [
              0.6666666666666666,
              "#ed7953"
             ],
             [
              0.7777777777777778,
              "#fb9f3a"
             ],
             [
              0.8888888888888888,
              "#fdca26"
             ],
             [
              1,
              "#f0f921"
             ]
            ],
            "type": "contour"
           }
          ],
          "contourcarpet": [
           {
            "colorbar": {
             "outlinewidth": 0,
             "ticks": ""
            },
            "type": "contourcarpet"
           }
          ],
          "heatmap": [
           {
            "colorbar": {
             "outlinewidth": 0,
             "ticks": ""
            },
            "colorscale": [
             [
              0,
              "#0d0887"
             ],
             [
              0.1111111111111111,
              "#46039f"
             ],
             [
              0.2222222222222222,
              "#7201a8"
             ],
             [
              0.3333333333333333,
              "#9c179e"
             ],
             [
              0.4444444444444444,
              "#bd3786"
             ],
             [
              0.5555555555555556,
              "#d8576b"
             ],
             [
              0.6666666666666666,
              "#ed7953"
             ],
             [
              0.7777777777777778,
              "#fb9f3a"
             ],
             [
              0.8888888888888888,
              "#fdca26"
             ],
             [
              1,
              "#f0f921"
             ]
            ],
            "type": "heatmap"
           }
          ],
          "heatmapgl": [
           {
            "colorbar": {
             "outlinewidth": 0,
             "ticks": ""
            },
            "colorscale": [
             [
              0,
              "#0d0887"
             ],
             [
              0.1111111111111111,
              "#46039f"
             ],
             [
              0.2222222222222222,
              "#7201a8"
             ],
             [
              0.3333333333333333,
              "#9c179e"
             ],
             [
              0.4444444444444444,
              "#bd3786"
             ],
             [
              0.5555555555555556,
              "#d8576b"
             ],
             [
              0.6666666666666666,
              "#ed7953"
             ],
             [
              0.7777777777777778,
              "#fb9f3a"
             ],
             [
              0.8888888888888888,
              "#fdca26"
             ],
             [
              1,
              "#f0f921"
             ]
            ],
            "type": "heatmapgl"
           }
          ],
          "histogram": [
           {
            "marker": {
             "pattern": {
              "fillmode": "overlay",
              "size": 10,
              "solidity": 0.2
             }
            },
            "type": "histogram"
           }
          ],
          "histogram2d": [
           {
            "colorbar": {
             "outlinewidth": 0,
             "ticks": ""
            },
            "colorscale": [
             [
              0,
              "#0d0887"
             ],
             [
              0.1111111111111111,
              "#46039f"
             ],
             [
              0.2222222222222222,
              "#7201a8"
             ],
             [
              0.3333333333333333,
              "#9c179e"
             ],
             [
              0.4444444444444444,
              "#bd3786"
             ],
             [
              0.5555555555555556,
              "#d8576b"
             ],
             [
              0.6666666666666666,
              "#ed7953"
             ],
             [
              0.7777777777777778,
              "#fb9f3a"
             ],
             [
              0.8888888888888888,
              "#fdca26"
             ],
             [
              1,
              "#f0f921"
             ]
            ],
            "type": "histogram2d"
           }
          ],
          "histogram2dcontour": [
           {
            "colorbar": {
             "outlinewidth": 0,
             "ticks": ""
            },
            "colorscale": [
             [
              0,
              "#0d0887"
             ],
             [
              0.1111111111111111,
              "#46039f"
             ],
             [
              0.2222222222222222,
              "#7201a8"
             ],
             [
              0.3333333333333333,
              "#9c179e"
             ],
             [
              0.4444444444444444,
              "#bd3786"
             ],
             [
              0.5555555555555556,
              "#d8576b"
             ],
             [
              0.6666666666666666,
              "#ed7953"
             ],
             [
              0.7777777777777778,
              "#fb9f3a"
             ],
             [
              0.8888888888888888,
              "#fdca26"
             ],
             [
              1,
              "#f0f921"
             ]
            ],
            "type": "histogram2dcontour"
           }
          ],
          "mesh3d": [
           {
            "colorbar": {
             "outlinewidth": 0,
             "ticks": ""
            },
            "type": "mesh3d"
           }
          ],
          "parcoords": [
           {
            "line": {
             "colorbar": {
              "outlinewidth": 0,
              "ticks": ""
             }
            },
            "type": "parcoords"
           }
          ],
          "pie": [
           {
            "automargin": true,
            "type": "pie"
           }
          ],
          "scatter": [
           {
            "marker": {
             "line": {
              "color": "#283442"
             }
            },
            "type": "scatter"
           }
          ],
          "scatter3d": [
           {
            "line": {
             "colorbar": {
              "outlinewidth": 0,
              "ticks": ""
             }
            },
            "marker": {
             "colorbar": {
              "outlinewidth": 0,
              "ticks": ""
             }
            },
            "type": "scatter3d"
           }
          ],
          "scattercarpet": [
           {
            "marker": {
             "colorbar": {
              "outlinewidth": 0,
              "ticks": ""
             }
            },
            "type": "scattercarpet"
           }
          ],
          "scattergeo": [
           {
            "marker": {
             "colorbar": {
              "outlinewidth": 0,
              "ticks": ""
             }
            },
            "type": "scattergeo"
           }
          ],
          "scattergl": [
           {
            "marker": {
             "line": {
              "color": "#283442"
             }
            },
            "type": "scattergl"
           }
          ],
          "scattermapbox": [
           {
            "marker": {
             "colorbar": {
              "outlinewidth": 0,
              "ticks": ""
             }
            },
            "type": "scattermapbox"
           }
          ],
          "scatterpolar": [
           {
            "marker": {
             "colorbar": {
              "outlinewidth": 0,
              "ticks": ""
             }
            },
            "type": "scatterpolar"
           }
          ],
          "scatterpolargl": [
           {
            "marker": {
             "colorbar": {
              "outlinewidth": 0,
              "ticks": ""
             }
            },
            "type": "scatterpolargl"
           }
          ],
          "scatterternary": [
           {
            "marker": {
             "colorbar": {
              "outlinewidth": 0,
              "ticks": ""
             }
            },
            "type": "scatterternary"
           }
          ],
          "surface": [
           {
            "colorbar": {
             "outlinewidth": 0,
             "ticks": ""
            },
            "colorscale": [
             [
              0,
              "#0d0887"
             ],
             [
              0.1111111111111111,
              "#46039f"
             ],
             [
              0.2222222222222222,
              "#7201a8"
             ],
             [
              0.3333333333333333,
              "#9c179e"
             ],
             [
              0.4444444444444444,
              "#bd3786"
             ],
             [
              0.5555555555555556,
              "#d8576b"
             ],
             [
              0.6666666666666666,
              "#ed7953"
             ],
             [
              0.7777777777777778,
              "#fb9f3a"
             ],
             [
              0.8888888888888888,
              "#fdca26"
             ],
             [
              1,
              "#f0f921"
             ]
            ],
            "type": "surface"
           }
          ],
          "table": [
           {
            "cells": {
             "fill": {
              "color": "#506784"
             },
             "line": {
              "color": "rgb(17,17,17)"
             }
            },
            "header": {
             "fill": {
              "color": "#2a3f5f"
             },
             "line": {
              "color": "rgb(17,17,17)"
             }
            },
            "type": "table"
           }
          ]
         },
         "layout": {
          "annotationdefaults": {
           "arrowcolor": "#f2f5fa",
           "arrowhead": 0,
           "arrowwidth": 1
          },
          "autotypenumbers": "strict",
          "coloraxis": {
           "colorbar": {
            "outlinewidth": 0,
            "ticks": ""
           }
          },
          "colorscale": {
           "diverging": [
            [
             0,
             "#8e0152"
            ],
            [
             0.1,
             "#c51b7d"
            ],
            [
             0.2,
             "#de77ae"
            ],
            [
             0.3,
             "#f1b6da"
            ],
            [
             0.4,
             "#fde0ef"
            ],
            [
             0.5,
             "#f7f7f7"
            ],
            [
             0.6,
             "#e6f5d0"
            ],
            [
             0.7,
             "#b8e186"
            ],
            [
             0.8,
             "#7fbc41"
            ],
            [
             0.9,
             "#4d9221"
            ],
            [
             1,
             "#276419"
            ]
           ],
           "sequential": [
            [
             0,
             "#0d0887"
            ],
            [
             0.1111111111111111,
             "#46039f"
            ],
            [
             0.2222222222222222,
             "#7201a8"
            ],
            [
             0.3333333333333333,
             "#9c179e"
            ],
            [
             0.4444444444444444,
             "#bd3786"
            ],
            [
             0.5555555555555556,
             "#d8576b"
            ],
            [
             0.6666666666666666,
             "#ed7953"
            ],
            [
             0.7777777777777778,
             "#fb9f3a"
            ],
            [
             0.8888888888888888,
             "#fdca26"
            ],
            [
             1,
             "#f0f921"
            ]
           ],
           "sequentialminus": [
            [
             0,
             "#0d0887"
            ],
            [
             0.1111111111111111,
             "#46039f"
            ],
            [
             0.2222222222222222,
             "#7201a8"
            ],
            [
             0.3333333333333333,
             "#9c179e"
            ],
            [
             0.4444444444444444,
             "#bd3786"
            ],
            [
             0.5555555555555556,
             "#d8576b"
            ],
            [
             0.6666666666666666,
             "#ed7953"
            ],
            [
             0.7777777777777778,
             "#fb9f3a"
            ],
            [
             0.8888888888888888,
             "#fdca26"
            ],
            [
             1,
             "#f0f921"
            ]
           ]
          },
          "colorway": [
           "#636efa",
           "#EF553B",
           "#00cc96",
           "#ab63fa",
           "#FFA15A",
           "#19d3f3",
           "#FF6692",
           "#B6E880",
           "#FF97FF",
           "#FECB52"
          ],
          "font": {
           "color": "#f2f5fa"
          },
          "geo": {
           "bgcolor": "rgb(17,17,17)",
           "lakecolor": "rgb(17,17,17)",
           "landcolor": "rgb(17,17,17)",
           "showlakes": true,
           "showland": true,
           "subunitcolor": "#506784"
          },
          "hoverlabel": {
           "align": "left"
          },
          "hovermode": "closest",
          "mapbox": {
           "style": "dark"
          },
          "paper_bgcolor": "rgb(17,17,17)",
          "plot_bgcolor": "rgb(17,17,17)",
          "polar": {
           "angularaxis": {
            "gridcolor": "#506784",
            "linecolor": "#506784",
            "ticks": ""
           },
           "bgcolor": "rgb(17,17,17)",
           "radialaxis": {
            "gridcolor": "#506784",
            "linecolor": "#506784",
            "ticks": ""
           }
          },
          "scene": {
           "xaxis": {
            "backgroundcolor": "rgb(17,17,17)",
            "gridcolor": "#506784",
            "gridwidth": 2,
            "linecolor": "#506784",
            "showbackground": true,
            "ticks": "",
            "zerolinecolor": "#C8D4E3"
           },
           "yaxis": {
            "backgroundcolor": "rgb(17,17,17)",
            "gridcolor": "#506784",
            "gridwidth": 2,
            "linecolor": "#506784",
            "showbackground": true,
            "ticks": "",
            "zerolinecolor": "#C8D4E3"
           },
           "zaxis": {
            "backgroundcolor": "rgb(17,17,17)",
            "gridcolor": "#506784",
            "gridwidth": 2,
            "linecolor": "#506784",
            "showbackground": true,
            "ticks": "",
            "zerolinecolor": "#C8D4E3"
           }
          },
          "shapedefaults": {
           "line": {
            "color": "#f2f5fa"
           }
          },
          "sliderdefaults": {
           "bgcolor": "#C8D4E3",
           "bordercolor": "rgb(17,17,17)",
           "borderwidth": 1,
           "tickwidth": 0
          },
          "ternary": {
           "aaxis": {
            "gridcolor": "#506784",
            "linecolor": "#506784",
            "ticks": ""
           },
           "baxis": {
            "gridcolor": "#506784",
            "linecolor": "#506784",
            "ticks": ""
           },
           "bgcolor": "rgb(17,17,17)",
           "caxis": {
            "gridcolor": "#506784",
            "linecolor": "#506784",
            "ticks": ""
           }
          },
          "title": {
           "x": 0.05
          },
          "updatemenudefaults": {
           "bgcolor": "#506784",
           "borderwidth": 0
          },
          "xaxis": {
           "automargin": true,
           "gridcolor": "#283442",
           "linecolor": "#506784",
           "ticks": "",
           "title": {
            "standoff": 15
           },
           "zerolinecolor": "#283442",
           "zerolinewidth": 2
          },
          "yaxis": {
           "automargin": true,
           "gridcolor": "#283442",
           "linecolor": "#506784",
           "ticks": "",
           "title": {
            "standoff": 15
           },
           "zerolinecolor": "#283442",
           "zerolinewidth": 2
          }
         }
        },
        "title": {
         "text": ""
        },
        "width": 1200,
        "xaxis": {
         "anchor": "y",
         "domain": [
          0,
          0.2888888888888889
         ]
        },
        "xaxis2": {
         "anchor": "y2",
         "domain": [
          0.35555555555555557,
          0.6444444444444445
         ]
        },
        "xaxis3": {
         "anchor": "y3",
         "domain": [
          0.7111111111111111,
          1
         ]
        },
        "xaxis4": {
         "anchor": "y4",
         "domain": [
          0,
          0.2888888888888889
         ]
        },
        "xaxis5": {
         "anchor": "y5",
         "domain": [
          0.35555555555555557,
          0.6444444444444445
         ]
        },
        "xaxis6": {
         "anchor": "y6",
         "domain": [
          0.7111111111111111,
          1
         ]
        },
        "xaxis7": {
         "anchor": "y7",
         "domain": [
          0,
          0.2888888888888889
         ]
        },
        "xaxis8": {
         "anchor": "y8",
         "domain": [
          0.35555555555555557,
          0.6444444444444445
         ]
        },
        "xaxis9": {
         "anchor": "y9",
         "domain": [
          0.7111111111111111,
          1
         ]
        },
        "yaxis": {
         "anchor": "x",
         "domain": [
          0.7777777777777778,
          1
         ]
        },
        "yaxis2": {
         "anchor": "x2",
         "domain": [
          0.7777777777777778,
          1
         ]
        },
        "yaxis3": {
         "anchor": "x3",
         "domain": [
          0.7777777777777778,
          1
         ]
        },
        "yaxis4": {
         "anchor": "x4",
         "domain": [
          0.3888888888888889,
          0.6111111111111112
         ]
        },
        "yaxis5": {
         "anchor": "x5",
         "domain": [
          0.3888888888888889,
          0.6111111111111112
         ]
        },
        "yaxis6": {
         "anchor": "x6",
         "domain": [
          0.3888888888888889,
          0.6111111111111112
         ]
        },
        "yaxis7": {
         "anchor": "x7",
         "domain": [
          0,
          0.22222222222222224
         ]
        },
        "yaxis8": {
         "anchor": "x8",
         "domain": [
          0,
          0.22222222222222224
         ]
        },
        "yaxis9": {
         "anchor": "x9",
         "domain": [
          0,
          0.22222222222222224
         ]
        }
       }
      }
     },
     "metadata": {},
     "output_type": "display_data"
    }
   ],
   "source": [
    "plot_compare('', {'model1': metrics_dict})"
   ]
  },
  {
   "cell_type": "code",
   "execution_count": 181,
   "metadata": {},
   "outputs": [],
   "source": [
    "#Feature selection class to eliminate multicollinearity\n",
    "class MultiCollinearityEliminator():\n",
    "    \n",
    "    #Class Constructor\n",
    "    def __init__(self, df, target, threshold):\n",
    "        self.df = df\n",
    "        self.target = target\n",
    "        self.threshold = threshold\n",
    "\n",
    "    #Method to create and return the feature correlation matrix dataframe\n",
    "    def createCorrMatrix(self, include_target = False):\n",
    "        #Checking we should include the target in the correlation matrix\n",
    "        if (include_target == False):\n",
    "            df_temp = self.df.drop([self.target], axis =1)\n",
    "            \n",
    "            #Setting method to Pearson to prevent issues in case the default method for df.corr() gets changed\n",
    "            #Setting min_period to 30 for the sample size to be statistically significant (normal) according to \n",
    "            #central limit theorem\n",
    "            corrMatrix = df_temp.corr(method='pearson', min_periods=30).abs()\n",
    "        #Target is included for creating the series of feature to target correlation - Please refer the notes under the \n",
    "        #print statement to understand why we create the series of feature to target correlation\n",
    "        elif (include_target == True):\n",
    "            corrMatrix = self.df.corr(method='pearson', min_periods=30).abs()\n",
    "        return corrMatrix\n",
    "\n",
    "    #Method to create and return the feature to target correlation matrix dataframe\n",
    "    def createCorrMatrixWithTarget(self):\n",
    "        #After obtaining the list of correlated features, this method will help to view which variables \n",
    "        #(in the list of correlated features) are least correlated with the target\n",
    "        #This way, out the list of correlated features, we can ensure to elimate the feature that is \n",
    "        #least correlated with the target\n",
    "        #This not only helps to sustain the predictive power of the model but also helps in reducing model complexity\n",
    "        \n",
    "        #Obtaining the correlation matrix of the dataframe (along with the target)\n",
    "        corrMatrix = self.createCorrMatrix(include_target = True)                           \n",
    "        #Creating the required dataframe, then dropping the target row \n",
    "        #and sorting by the value of correlation with target (in asceding order)\n",
    "        corrWithTarget = pd.DataFrame(corrMatrix.loc[:,self.target]).drop([self.target], axis = 0).sort_values(by = self.target)                    \n",
    "        print(corrWithTarget, '\\n')\n",
    "        return corrWithTarget\n",
    "\n",
    "    #Method to create and return the list of correlated features\n",
    "    def createCorrelatedFeaturesList(self):\n",
    "        #Obtaining the correlation matrix of the dataframe (without the target)\n",
    "        corrMatrix = self.createCorrMatrix(include_target = False)                          \n",
    "        colCorr = []\n",
    "        #Iterating through the columns of the correlation matrix dataframe\n",
    "        for column in corrMatrix.columns:\n",
    "            #Iterating through the values (row wise) of the correlation matrix dataframe\n",
    "            for idx, row in corrMatrix.iterrows():                                            \n",
    "                if(row[column]>self.threshold) and (row[column]<1):\n",
    "                    #Adding the features that are not already in the list of correlated features\n",
    "                    if (idx not in colCorr):\n",
    "                        colCorr.append(idx)\n",
    "                    if (column not in colCorr):\n",
    "                        colCorr.append(column)\n",
    "        print(colCorr, '\\n')\n",
    "        return colCorr\n",
    "\n",
    "    #Method to eliminate the least important features from the list of correlated features\n",
    "    def deleteFeatures(self, colCorr):\n",
    "        #Obtaining the feature to target correlation matrix dataframe\n",
    "        corrWithTarget = self.createCorrMatrixWithTarget()                                  \n",
    "        for idx, row in corrWithTarget.iterrows():\n",
    "            print(idx, '\\n')\n",
    "            if (idx in colCorr):\n",
    "                self.df = self.df.drop(idx, axis =1)\n",
    "                break\n",
    "        return self.df\n",
    "\n",
    "    #Method to run automatically eliminate multicollinearity\n",
    "    def autoEliminateMulticollinearity(self):\n",
    "        #Obtaining the list of correlated features\n",
    "        colCorr = self.createCorrelatedFeaturesList()                                       \n",
    "        while colCorr != []:\n",
    "            #Obtaining the dataframe after deleting the feature (from the list of correlated features) \n",
    "            #that is least correlated with the taregt\n",
    "            self.df = self.deleteFeatures(colCorr)\n",
    "            #Obtaining the list of correlated features\n",
    "            colCorr = self.createCorrelatedFeaturesList()                                     \n",
    "        return self.df"
   ]
  },
  {
   "cell_type": "code",
   "execution_count": 22,
   "metadata": {},
   "outputs": [
    {
     "name": "stdout",
     "output_type": "stream",
     "text": [
      "[07:09:34] WARNING: /tmp/abs_40obctay9q/croots/recipe/xgboost-split_1659548945886/work/src/learner.cc:1115: Starting in XGBoost 1.3.0, the default evaluation metric used with the objective 'binary:logistic' was changed from 'error' to 'logloss'. Explicitly set eval_metric if you'd like to restore the old behavior.\n"
     ]
    },
    {
     "name": "stderr",
     "output_type": "stream",
     "text": [
      "/home/aadi/miniconda3/envs/basic_clean/lib/python3.8/site-packages/xgboost/sklearn.py:1224: UserWarning: The use of label encoder in XGBClassifier is deprecated and will be removed in a future release. To remove this warning, do the following: 1) Pass option use_label_encoder=False when constructing XGBClassifier object; and 2) Encode your labels (y) as integers starting with 0, i.e. 0, 1, 2, ..., [num_class - 1].\n",
      "  warnings.warn(label_encoder_deprecation_msg, UserWarning)\n"
     ]
    }
   ],
   "source": [
    "# y_pred, y_pred_proba, y_test  \n",
    "from xgboost import XGBClassifier\n",
    "X_train, X_test, y_train, y_test = train_test_split(X, y, stratify=y)\n",
    "\n",
    "clf = XGBClassifier()\n",
    "clf = clf.fit(X_train, y_train)\n",
    "y_pred = clf.predict(X_test)\n",
    "y_pred_proba = clf.predict_proba(X_test)[:, 1]\n",
    "\n",
    "# y_pred = np.expand_dims(y_pred, -1)\n",
    "# y_pred_proba = np.expand_dims(y_pred_proba[:, 1], -1)\n",
    "# y_test = np.expand_dims(y_test, -1)"
   ]
  },
  {
   "cell_type": "code",
   "execution_count": 43,
   "metadata": {},
   "outputs": [],
   "source": [
    "def gain_bar_chart(y, y_pred_proba):\n",
    "    df = pd.DataFrame({\n",
    "        'y_true': y,\n",
    "        'y_pred_proba': y_pred_proba\n",
    "    }).sort_values('y_pred_proba')\n",
    "\n",
    "    df['bin'] = pd.cut(df.y_pred_proba, bins=np.linspace(0,1, 11)).astype(str)\n",
    "    net_pos_cnt = np.sum(y)\n",
    "    df = df.groupby('bin', as_index=False).sum()\n",
    "\n",
    "    return df.bin.values, df.y_true/net_pos_cnt"
   ]
  },
  {
   "cell_type": "code",
   "execution_count": 44,
   "metadata": {},
   "outputs": [
    {
     "data": {
      "text/plain": [
       "(array(['(0.0, 0.1]', '(0.1, 0.2]', '(0.5, 0.6]', '(0.6, 0.7]',\n",
       "        '(0.7, 0.8]', '(0.8, 0.9]', '(0.9, 1.0]'], dtype=object),\n",
       " 0    0.000000\n",
       " 1    0.000000\n",
       " 2    0.022222\n",
       " 3    0.000000\n",
       " 4    0.000000\n",
       " 5    0.022222\n",
       " 6    0.955556\n",
       " Name: y_true, dtype: float64)"
      ]
     },
     "execution_count": 44,
     "metadata": {},
     "output_type": "execute_result"
    }
   ],
   "source": [
    "gain_bar_chart(y_test, y_pred_proba)"
   ]
  },
  {
   "cell_type": "code",
   "execution_count": 31,
   "metadata": {},
   "outputs": [
    {
     "data": {
      "text/html": [
       "<div>\n",
       "<style scoped>\n",
       "    .dataframe tbody tr th:only-of-type {\n",
       "        vertical-align: middle;\n",
       "    }\n",
       "\n",
       "    .dataframe tbody tr th {\n",
       "        vertical-align: top;\n",
       "    }\n",
       "\n",
       "    .dataframe thead th {\n",
       "        text-align: right;\n",
       "    }\n",
       "</style>\n",
       "<table border=\"1\" class=\"dataframe\">\n",
       "  <thead>\n",
       "    <tr style=\"text-align: right;\">\n",
       "      <th></th>\n",
       "      <th>bin</th>\n",
       "      <th>y_true</th>\n",
       "      <th>y_pred_proba</th>\n",
       "    </tr>\n",
       "  </thead>\n",
       "  <tbody>\n",
       "    <tr>\n",
       "      <th>0</th>\n",
       "      <td>(0.0, 0.1]</td>\n",
       "      <td>0</td>\n",
       "      <td>0.379376</td>\n",
       "    </tr>\n",
       "    <tr>\n",
       "      <th>1</th>\n",
       "      <td>(0.1, 0.2]</td>\n",
       "      <td>0</td>\n",
       "      <td>0.158570</td>\n",
       "    </tr>\n",
       "    <tr>\n",
       "      <th>2</th>\n",
       "      <td>(0.5, 0.6]</td>\n",
       "      <td>2</td>\n",
       "      <td>1.150462</td>\n",
       "    </tr>\n",
       "    <tr>\n",
       "      <th>3</th>\n",
       "      <td>(0.6, 0.7]</td>\n",
       "      <td>0</td>\n",
       "      <td>0.602850</td>\n",
       "    </tr>\n",
       "    <tr>\n",
       "      <th>4</th>\n",
       "      <td>(0.7, 0.8]</td>\n",
       "      <td>0</td>\n",
       "      <td>0.797633</td>\n",
       "    </tr>\n",
       "    <tr>\n",
       "      <th>5</th>\n",
       "      <td>(0.8, 0.9]</td>\n",
       "      <td>2</td>\n",
       "      <td>2.672747</td>\n",
       "    </tr>\n",
       "    <tr>\n",
       "      <th>6</th>\n",
       "      <td>(0.9, 1.0]</td>\n",
       "      <td>86</td>\n",
       "      <td>87.535446</td>\n",
       "    </tr>\n",
       "  </tbody>\n",
       "</table>\n",
       "</div>"
      ],
      "text/plain": [
       "          bin  y_true  y_pred_proba\n",
       "0  (0.0, 0.1]       0      0.379376\n",
       "1  (0.1, 0.2]       0      0.158570\n",
       "2  (0.5, 0.6]       2      1.150462\n",
       "3  (0.6, 0.7]       0      0.602850\n",
       "4  (0.7, 0.8]       0      0.797633\n",
       "5  (0.8, 0.9]       2      2.672747\n",
       "6  (0.9, 1.0]      86     87.535446"
      ]
     },
     "execution_count": 31,
     "metadata": {},
     "output_type": "execute_result"
    }
   ],
   "source": [
    "df.groupby('bin', as_index=False).sum()"
   ]
  },
  {
   "cell_type": "code",
   "execution_count": null,
   "metadata": {},
   "outputs": [],
   "source": []
  }
 ],
 "metadata": {
  "kernelspec": {
   "display_name": "Python 3.8.15 ('basic_clean')",
   "language": "python",
   "name": "python3"
  },
  "language_info": {
   "codemirror_mode": {
    "name": "ipython",
    "version": 3
   },
   "file_extension": ".py",
   "mimetype": "text/x-python",
   "name": "python",
   "nbconvert_exporter": "python",
   "pygments_lexer": "ipython3",
   "version": "3.10.8 (main, Nov 24 2022, 14:13:03) [GCC 11.2.0]"
  },
  "orig_nbformat": 4,
  "vscode": {
   "interpreter": {
    "hash": "def76ed885bc94f182c997508dd94bdc1bafad87e7bfd4e70b216ce388e01bfe"
   }
  }
 },
 "nbformat": 4,
 "nbformat_minor": 2
}
