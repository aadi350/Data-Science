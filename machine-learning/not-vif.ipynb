{
 "cells": [
  {
   "cell_type": "code",
   "execution_count": 1,
   "metadata": {},
   "outputs": [],
   "source": [
    "from cudf import DataFrame, Series\n",
    "import cupy as cp\n",
    "\n",
    "cp.set_printoptions(linewidth=150)\n"
   ]
  },
  {
   "cell_type": "code",
   "execution_count": 2,
   "metadata": {},
   "outputs": [],
   "source": [
    "# n = 100, p = 4\n",
    "X = DataFrame(\n",
    "    {\n",
    "        \"a\": cp.random.randint(low=-10, high=10, size=100),\n",
    "        \"b\": cp.random.randint(low=-10, high=10, size=100),\n",
    "        \"c\": cp.random.randint(low=-10, high=10, size=100),\n",
    "        \"C\": [1] * 100,\n",
    "    }\n",
    ")\n",
    "\n",
    "df = X.assign(d=X.a * 5)\n",
    "X = df.to_cupy()\n"
   ]
  },
  {
   "cell_type": "code",
   "execution_count": 3,
   "metadata": {},
   "outputs": [],
   "source": [
    "# conditional means\n",
    "conditional = [df.groupby(col_name) for col_name in df.columns]\n",
    "mean = [cond.mean() for cond in conditional]\n",
    "var = [cond.var() for cond in conditional]\n"
   ]
  },
  {
   "cell_type": "code",
   "execution_count": 4,
   "metadata": {},
   "outputs": [
    {
     "data": {
      "text/plain": [
       "array(4)"
      ]
     },
     "execution_count": 4,
     "metadata": {},
     "output_type": "execute_result"
    }
   ],
   "source": [
    "cp.linalg.matrix_rank(X)  # r < p\n"
   ]
  },
  {
   "cell_type": "code",
   "execution_count": 5,
   "metadata": {},
   "outputs": [
    {
     "data": {
      "text/plain": [
       "((100, 100), (5,), (5, 5))"
      ]
     },
     "execution_count": 5,
     "metadata": {},
     "output_type": "execute_result"
    }
   ],
   "source": [
    "# SVD\n",
    "# X = UDV^T\n",
    "U, S, VH = cp.linalg.svd(X)\n",
    "U.shape, S.shape, VH.shape\n"
   ]
  },
  {
   "cell_type": "code",
   "execution_count": 6,
   "metadata": {},
   "outputs": [
    {
     "data": {
      "text/plain": [
       "array([3.03498512e+02, 6.38137277e+01, 5.72160079e+01, 9.09889016e+00, 1.04045120e-14])"
      ]
     },
     "execution_count": 6,
     "metadata": {},
     "output_type": "execute_result"
    }
   ],
   "source": [
    "S\n"
   ]
  },
  {
   "cell_type": "code",
   "execution_count": 7,
   "metadata": {},
   "outputs": [
    {
     "data": {
      "text/plain": [
       "array([[   -74,     80,     18,    -56,   -112],\n",
       "       [    14,    -69,     21,     52,    104],\n",
       "       [    66,    -72,     -5,    764,   1528],\n",
       "       [   -12,     66,    -30,   4096,   8192],\n",
       "       [     3,      8,     -7, -13276, -26552],\n",
       "       [     4,    -12,      4,   8421,  16842]])"
      ]
     },
     "execution_count": 7,
     "metadata": {},
     "output_type": "execute_result"
    }
   ],
   "source": [
    "import numpy as cp\n",
    "X1 = cp.array(\n",
    "    (\n",
    "        (-74, 80, 18),\n",
    "        (14, -69, 21),\n",
    "        (66, -72, -5),\n",
    "        (-12, 66, -30),\n",
    "        (3, 8, -7),\n",
    "        (4, -12, 4),\n",
    "    )\n",
    ")\n",
    "\n",
    "X2 = cp.array(\n",
    "    ((-56, -112), (52, 104), (764, 1528), (4096, 8192), (-13276, -26552), (8421, 16842))\n",
    ")\n",
    "\n",
    "X1.T @ X2\n",
    "\n",
    "(X := cp.hstack([X1, X2]))\n"
   ]
  },
  {
   "cell_type": "code",
   "execution_count": 8,
   "metadata": {},
   "outputs": [
    {
     "data": {
      "text/plain": [
       "(3, 1)"
      ]
     },
     "execution_count": 8,
     "metadata": {},
     "output_type": "execute_result"
    }
   ],
   "source": [
    "cp.linalg.matrix_rank(X1), cp.linalg.matrix_rank(X2)\n"
   ]
  },
  {
   "cell_type": "code",
   "execution_count": 9,
   "metadata": {},
   "outputs": [
    {
     "data": {
      "text/plain": [
       "array([3.63684045e+04, 1.70701331e+02, 6.05331879e+01, 7.60190176e+00, 9.23124373e-13])"
      ]
     },
     "execution_count": 9,
     "metadata": {},
     "output_type": "execute_result"
    }
   ],
   "source": [
    "U, D, VT = cp.linalg.svd(X)\n",
    "D\n"
   ]
  },
  {
   "cell_type": "code",
   "execution_count": 10,
   "metadata": {},
   "outputs": [
    {
     "data": {
      "text/plain": [
       "((6, 6), (5,), (5, 5))"
      ]
     },
     "execution_count": 10,
     "metadata": {},
     "output_type": "execute_result"
    }
   ],
   "source": [
    "U, D, V = cp.linalg.svd(X)\n",
    "U.shape, D.shape, V.shape\n"
   ]
  },
  {
   "cell_type": "code",
   "execution_count": 11,
   "metadata": {},
   "outputs": [
    {
     "data": {
      "text/plain": [
       "array([[5.46036229e-03, 3.82677443e-03, 6.93056814e-03, 0.00000000e+00, 0.00000000e+00],\n",
       "       [3.82677443e-03, 2.73399993e-03, 4.90857229e-03, 0.00000000e+00, 0.00000000e+00],\n",
       "       [6.93056814e-03, 4.90857229e-03, 9.41722012e-03, 0.00000000e+00, 0.00000000e+00],\n",
       "       [0.00000000e+00, 0.00000000e+00, 0.00000000e+00, 1.51210343e-10, 3.02420686e-10],\n",
       "       [0.00000000e+00, 0.00000000e+00, 0.00000000e+00, 3.02420686e-10, 6.04841372e-10]])"
      ]
     },
     "execution_count": 11,
     "metadata": {},
     "output_type": "execute_result"
    }
   ],
   "source": [
    "cp.linalg.pinv(X.T @ X)\n"
   ]
  },
  {
   "attachments": {},
   "cell_type": "markdown",
   "metadata": {},
   "source": [
    "condition indices defined as:\n",
    "\n",
    "$$\n",
    "\\eta_k \\equiv \\frac{\\mu_{max}}{\\mu_k}\n",
    "$$\n",
    "\n",
    "where $\\mu_k$ is the $k^{th}$ singular value\n"
   ]
  },
  {
   "cell_type": "code",
   "execution_count": 12,
   "metadata": {},
   "outputs": [
    {
     "data": {
      "text/plain": [
       "4826.461448679665"
      ]
     },
     "execution_count": 12,
     "metadata": {},
     "output_type": "execute_result"
    }
   ],
   "source": [
    "cp.linalg.norm(X) * cp.linalg.norm(cp.linalg.pinv(X))\n"
   ]
  },
  {
   "cell_type": "code",
   "execution_count": 13,
   "metadata": {},
   "outputs": [
    {
     "data": {
      "text/plain": [
       "array([[-7.4000e+01,  8.0000e+01,  1.8000e+01, -5.6000e+01, -1.1200e+02],\n",
       "       [ 1.4000e+01, -6.9000e+01,  2.1000e+01,  5.2000e+01,  1.0400e+02],\n",
       "       [ 6.6000e+01, -7.2000e+01, -5.0000e+00,  7.6400e+02,  1.5280e+03],\n",
       "       [-1.2000e+01,  6.6000e+01, -3.0000e+01,  4.0960e+03,  8.1920e+03],\n",
       "       [ 3.0000e+00,  8.0000e+00, -7.0000e+00, -1.3276e+04, -2.6552e+04],\n",
       "       [ 4.0000e+00, -1.2000e+01,  4.0000e+00,  8.4210e+03,  1.6842e+04]])"
      ]
     },
     "execution_count": 13,
     "metadata": {},
     "output_type": "execute_result"
    }
   ],
   "source": [
    "# generalized inverse X+ of X is VD+ UT\n",
    "\n",
    "# D+ is inverse of D\n",
    "U, D, VT = cp.linalg.svd(X)\n",
    "\n",
    "\n",
    "cp.dot(U[:, :5] * D, VT)\n"
   ]
  },
  {
   "cell_type": "code",
   "execution_count": 14,
   "metadata": {},
   "outputs": [
    {
     "data": {
      "text/plain": [
       "3.939707969283433e+16"
      ]
     },
     "execution_count": 14,
     "metadata": {},
     "output_type": "execute_result"
    }
   ],
   "source": [
    "D.max() / D.min()  # YUP\n"
   ]
  },
  {
   "cell_type": "code",
   "execution_count": 15,
   "metadata": {},
   "outputs": [
    {
     "data": {
      "text/plain": [
       "array([[5.46036229e-03, 3.82677443e-03, 6.93056814e-03, 0.00000000e+00, 0.00000000e+00],\n",
       "       [3.82677443e-03, 2.73399993e-03, 4.90857229e-03, 0.00000000e+00, 0.00000000e+00],\n",
       "       [6.93056814e-03, 4.90857229e-03, 9.41722012e-03, 0.00000000e+00, 0.00000000e+00],\n",
       "       [0.00000000e+00, 0.00000000e+00, 0.00000000e+00, 1.51210343e-10, 3.02420686e-10],\n",
       "       [0.00000000e+00, 0.00000000e+00, 0.00000000e+00, 3.02420686e-10, 6.04841372e-10]])"
      ]
     },
     "execution_count": 15,
     "metadata": {},
     "output_type": "execute_result"
    }
   ],
   "source": [
    "cp.linalg.pinv(X.T @ X)\n"
   ]
  },
  {
   "cell_type": "code",
   "execution_count": 16,
   "metadata": {},
   "outputs": [
    {
     "data": {
      "text/plain": [
       "array([[   -74,     80,     18,    -56,   -112],\n",
       "       [    14,    -69,     21,     52,    104],\n",
       "       [    66,    -72,     -5,    764,   1528],\n",
       "       [   -12,     66,    -30,   4096,   8192],\n",
       "       [     3,      8,     -7, -13276, -26552],\n",
       "       [     4,    -12,      4,   8421,  16842]])"
      ]
     },
     "execution_count": 16,
     "metadata": {},
     "output_type": "execute_result"
    }
   ],
   "source": [
    "X1 = cp.array(\n",
    "    (\n",
    "        (-74, 80, 18),\n",
    "        (14, -69, 21),\n",
    "        (66, -72, -5),\n",
    "        (-12, 66, -30),\n",
    "        (3, 8, -7),\n",
    "        (4, -12, 4),\n",
    "    )\n",
    ")\n",
    "\n",
    "X2 = cp.array(\n",
    "    ((-56, -112), (52, 104), (764, 1528), (4096, 8192), (-13276, -26552), (8421, 16842))\n",
    ")\n",
    "\n",
    "X1.T @ X2\n",
    "\n",
    "(X := cp.hstack([X1, X2]))\n"
   ]
  },
  {
   "cell_type": "code",
   "execution_count": 17,
   "metadata": {},
   "outputs": [
    {
     "name": "stdout",
     "output_type": "stream",
     "text": [
      "\n",
      "        Variance decomposition proportions\n",
      "\t\n",
      "CondInd\n",
      "1\t0.000  0.000  0.000  0.000  0.800  \n",
      "213\t0.000  0.000  0.000  0.000  0.000  \n",
      "601\t0.000  0.000  0.000  0.000  0.000  \n",
      "4784\t0.000  0.000  0.000  0.000  0.000  \n",
      "7.0993e+16\t0.000  0.000  0.000  0.000  0.200  \n",
      "\n",
      "   VIF: 3915733117946.5  4342021745497.8  364329869592405.2  13189775158915042.0   -0.0  \n",
      "\n"
     ]
    }
   ],
   "source": [
    "(X := cp.hstack([X1, X2]))\n",
    "(n, p) = X.shape\n",
    "\n",
    "# normalize\n",
    "l = cp.power(cp.sum(cp.power(X, 2)), 0.5)\n",
    "X = X / l\n",
    "\n",
    "_, S, V = cp.linalg.svd(X)\n",
    "λ = S  # cp.diag(S)\n",
    "\n",
    "# ratio of largest SV to all\n",
    "# condind = bsxfun(@rdivide,S(1,1),lambda);\n",
    "condind = S[0] / S\n",
    "\n",
    "# % variance decomposition proportions\n",
    "# .* is element-wise multiplication\n",
    "# phi_mat = bsxfun(@rdivide,V'.*V',lambda.^2);\n",
    "phi_mat = cp.multiply(V, V) / cp.power(λ, 2)\n",
    "phi = cp.sum(phi_mat)\n",
    "\n",
    "# vdp = bsxfun(@rdivide,phi_mat,phi);\n",
    "vdp = phi_mat / phi\n",
    "\n",
    "# VIFs\n",
    "#  vif = diag(inv(corr(X)));\n",
    "vif = cp.diag(cp.linalg.inv(cp.corrcoef(X)))\n",
    "\n",
    "fuzz = 0.0\n",
    "s = \"\\n        Variance decomposition proportions\\n\\t\"\n",
    "# p = len(labels)\n",
    "# for i in range(p):\n",
    "#    temp = labels[i][:min(5, len(labels[i]))].ljust(7, ' ')\n",
    "#    s += temp\n",
    "s += \"\\nCondInd\\n\"\n",
    "for i in range(p):\n",
    "    s += \"{:g}\\t\".format(round(condind[i]))\n",
    "    for j in range(p):\n",
    "        s += \"{:2.3f}  \".format(vdp[i, j])\n",
    "    s += \"\\n\"\n",
    "s += \"\\n   VIF: \"\n",
    "for i in range(p):\n",
    "    s += \"{:5.1f}  \".format(vif[i])\n",
    "s += \"\\n\"\n",
    "\n",
    "print(s)\n"
   ]
  },
  {
   "cell_type": "code",
   "execution_count": 92,
   "metadata": {},
   "outputs": [],
   "source": [
    "import numpy as np\n",
    "import scipy.linalg\n",
    "from statsmodels.stats.outliers_influence import variance_inflation_factor\n",
    "from pandas import read_csv, DataFrame, Series\n",
    "\n",
    "def colldiag(X, labels=None, add_intercept=False, normalize=True, condind_thresh=20, vdp_thresh=0.5):\n",
    "    if labels is None:\n",
    "        labels = [f\"X{i}\" for i in range(X.shape[1])]\n",
    "    elif not labels:\n",
    "        labels = [f\"X{i}\" for i in range(X.shape[1])]\n",
    "\n",
    "    if add_intercept:\n",
    "        if np.all(X == 1):\n",
    "            print(\"Intercept already present in design matrix. ADD_INTERCEPT parameter ignored.\")\n",
    "        else:\n",
    "            X = np.hstack([np.ones((X.shape[0], 1)), X])\n",
    "            labels.insert(0, 'int')\n",
    "    n, p = X.shape\n",
    "\n",
    "    if p != len(labels):\n",
    "        raise ValueError(\"Labels don't match design matrix.\")\n",
    "\n",
    "    if normalize:\n",
    "        # Normalize each column to unit length (pg 183 in Belsley et al)\n",
    "        _len = np.sqrt(np.sum(X ** 2, axis=0)) \n",
    "        X = X/_len\n",
    "\n",
    "    U, S, V = np.linalg.svd(X,full_matrices=False)\n",
    "\n",
    "    \n",
    "    # already diagonal values alone\n",
    "    lambda_ = S #np.diag(S), might have to reshape into column\n",
    "    condind = S[0] / lambda_\n",
    "    phi_mat = (V.T * V.T) / (lambda_ ** 2) \n",
    "    phi = np.sum(phi_mat, axis=1).reshape(-1, 1) # expects COLUMN\n",
    "    vdp = np.divide(phi_mat,phi).T # urgh\n",
    "\n",
    "    # up to here is fine\n",
    "    \n",
    "    vdp_df = DataFrame(data=vdp, columns=labels)\n",
    "    vdp_df = vdp_df.assign(condind=condind)\n",
    "    vdp_df.insert(0, 'sv', range(1, 1+len(vdp_df)))\n",
    "    vdp_df = vdp_df.set_index('sv')\n",
    "    vif_df = Series(index=labels, data=vif)\n",
    "\n",
    "    # need to find rows whre\n",
    "    collinear = []\n",
    "    for row in vdp_df.index:\n",
    "        # filter for \"high\" condind\n",
    "        s = vdp_df.loc[row][labels]\n",
    "        if vdp_df.loc[row, 'condind'] > 30 and len(s[s > 0.5]) > 2:\n",
    "            collinear_tuple = tuple(s[s > 0.5].index)\n",
    "            collinear.append(collinear_tuple)\n",
    "\n",
    "    return {\n",
    "        'vdp': vdp_df, \n",
    "        'collinear': collinear\n",
    "    }\n",
    "\n",
    "\n",
    "info = colldiag(X, labels, normalize=True, add_intercept=True) "
   ]
  },
  {
   "cell_type": "code",
   "execution_count": 197,
   "metadata": {},
   "outputs": [
    {
     "data": {
      "text/plain": [
       "((5, 5), (4, 3), (4, 1))"
      ]
     },
     "execution_count": 197,
     "metadata": {},
     "output_type": "execute_result"
    }
   ],
   "source": [
    "from numpy import linalg\n",
    "\n",
    "X = np.array([\n",
    "    np.random.randint(-5, 5, size=(4)),\n",
    "    np.random.randint(-5, 5, size=(4)),\n",
    "    np.random.randint(-5, 5, size=(4)),\n",
    "])\n",
    "\n",
    "X = np.vstack([X, X[2, :]*1.5, X[1, :]/0.5, X[0, :]])\n",
    "\n",
    "# adding constant\n",
    "# X = np.hstack([np.ones((X.shape[0], 1)), X])\n",
    "\n",
    "# n is number of rows in X\n",
    "# p is number of variables\n",
    "n, p = X.shape\n",
    "\n",
    "(r := linalg.matrix_rank(X))\n",
    "U, D, VH = linalg.svd(X)\n",
    "\n",
    "# U = U.round(2)\n",
    "# D = D.round(2)\n",
    "# VH = VH.round(2)\n",
    "\n",
    "D = np.diag(D) # output of numpy svd is row\n",
    "\n",
    "# partition V into V1 \\in (p\\times r) and V2 \\in (p\\times (p-r))\n",
    "V1 = V[:p, :r]\n",
    "V2 = V[:p, -(p-r):]\n",
    "V.shape, V1.shape, V2.shape"
   ]
  },
  {
   "cell_type": "code",
   "execution_count": 198,
   "metadata": {},
   "outputs": [
    {
     "data": {
      "text/plain": [
       "array([[ 3.92817447, -2.17480867,  0.91632557],\n",
       "       [ 2.12179558, -3.33423406,  1.54300576],\n",
       "       [ 0.37725819, -5.7318771 ,  0.05710632],\n",
       "       [ 0.56588729, -8.59781565,  0.08565948],\n",
       "       [ 4.24359116, -6.66846812,  3.08601151],\n",
       "       [ 3.92817447, -2.17480867,  0.91632557]])"
      ]
     },
     "execution_count": 198,
     "metadata": {},
     "output_type": "execute_result"
    }
   ],
   "source": [
    "(X @ V1)"
   ]
  },
  {
   "cell_type": "code",
   "execution_count": 199,
   "metadata": {},
   "outputs": [
    {
     "data": {
      "text/plain": [
       "((6, 6), (6, 3), (6, 1))"
      ]
     },
     "execution_count": 199,
     "metadata": {},
     "output_type": "execute_result"
    }
   ],
   "source": [
    "# partition U into U\\in (n\\times r) and U\\in (n\\times (p-r))\n",
    "\n",
    "U1 = U[:n, :r]\n",
    "U2 = U[:n, -(p-r):]\n",
    "U.shape, U1.shape, U2.shape"
   ]
  },
  {
   "cell_type": "code",
   "execution_count": 200,
   "metadata": {},
   "outputs": [
    {
     "data": {
      "text/plain": [
       "array([[ 1.9507716 , -5.11250166, -0.23836299],\n",
       "       [ 4.98076596,  0.26782492,  1.45610448],\n",
       "       [ 5.73588382,  0.71221161, -1.89536049],\n",
       "       [ 8.60382573,  1.06831741, -2.84304074],\n",
       "       [ 9.96153192,  0.53564984,  2.91220896],\n",
       "       [ 1.9507716 , -5.11250166, -0.23836299]])"
      ]
     },
     "execution_count": 200,
     "metadata": {},
     "output_type": "execute_result"
    }
   ],
   "source": [
    "D11 = D[:3, :3] # non-zeros of D\n",
    "\n",
    "U1 @ D11"
   ]
  },
  {
   "cell_type": "code",
   "execution_count": 177,
   "metadata": {},
   "outputs": [
    {
     "data": {
      "text/plain": [
       "((6, 6), (6, 3), (6, 1))"
      ]
     },
     "execution_count": 177,
     "metadata": {},
     "output_type": "execute_result"
    }
   ],
   "source": []
  },
  {
   "cell_type": "code",
   "execution_count": 179,
   "metadata": {},
   "outputs": [
    {
     "data": {
      "text/plain": [
       "array([[-2.68328157],\n",
       "       [-3.57770876],\n",
       "       [ 3.57770876],\n",
       "       [ 5.36656315],\n",
       "       [-7.15541753],\n",
       "       [-2.68328157]])"
      ]
     },
     "execution_count": 179,
     "metadata": {},
     "output_type": "execute_result"
    }
   ],
   "source": [
    "X @ V2 # THIS SHOULD BE ZERO"
   ]
  },
  {
   "cell_type": "code",
   "execution_count": 77,
   "metadata": {},
   "outputs": [
    {
     "name": "stdout",
     "output_type": "stream",
     "text": [
      "Index(['C', 'DPI', 'dDPI'], dtype='object')\n",
      "\n",
      "\n"
     ]
    }
   ],
   "source": [
    "# need to find rows whre\n",
    "for row in vdp.index:\n",
    "    # filter for \"high\" condind\n",
    "    s = vdp.loc[row][labels]\n",
    "    if vdp.loc[row, 'condind'] > 30 and len(s[s > 0.5]) > 2:\n",
    "        collinear = s[s > 0.5].index\n",
    "        print(collinear)\n",
    "        print('\\n')"
   ]
  },
  {
   "cell_type": "code",
   "execution_count": 86,
   "metadata": {},
   "outputs": [
    {
     "data": {
      "text/html": [
       "<div>\n",
       "<style scoped>\n",
       "    .dataframe tbody tr th:only-of-type {\n",
       "        vertical-align: middle;\n",
       "    }\n",
       "\n",
       "    .dataframe tbody tr th {\n",
       "        vertical-align: top;\n",
       "    }\n",
       "\n",
       "    .dataframe thead th {\n",
       "        text-align: right;\n",
       "    }\n",
       "</style>\n",
       "<table border=\"1\" class=\"dataframe\">\n",
       "  <thead>\n",
       "    <tr style=\"text-align: right;\">\n",
       "      <th></th>\n",
       "      <th>int</th>\n",
       "      <th>C</th>\n",
       "      <th>DPI</th>\n",
       "      <th>R</th>\n",
       "      <th>dDPI</th>\n",
       "      <th>condind</th>\n",
       "    </tr>\n",
       "    <tr>\n",
       "      <th>sv</th>\n",
       "      <th></th>\n",
       "      <th></th>\n",
       "      <th></th>\n",
       "      <th></th>\n",
       "      <th></th>\n",
       "      <th></th>\n",
       "    </tr>\n",
       "  </thead>\n",
       "  <tbody>\n",
       "    <tr>\n",
       "      <th>1</th>\n",
       "      <td>0.001383</td>\n",
       "      <td>0.000003</td>\n",
       "      <td>0.000003</td>\n",
       "      <td>0.000244</td>\n",
       "      <td>0.001594</td>\n",
       "      <td>1.000000</td>\n",
       "    </tr>\n",
       "    <tr>\n",
       "      <th>2</th>\n",
       "      <td>0.003785</td>\n",
       "      <td>0.000010</td>\n",
       "      <td>0.000007</td>\n",
       "      <td>0.001425</td>\n",
       "      <td>0.135836</td>\n",
       "      <td>4.142638</td>\n",
       "    </tr>\n",
       "    <tr>\n",
       "      <th>3</th>\n",
       "      <td>0.310490</td>\n",
       "      <td>0.000028</td>\n",
       "      <td>0.000037</td>\n",
       "      <td>0.012988</td>\n",
       "      <td>0.000640</td>\n",
       "      <td>7.798541</td>\n",
       "    </tr>\n",
       "    <tr>\n",
       "      <th>4</th>\n",
       "      <td>0.263488</td>\n",
       "      <td>0.004662</td>\n",
       "      <td>0.004818</td>\n",
       "      <td>0.984368</td>\n",
       "      <td>0.048055</td>\n",
       "      <td>39.405786</td>\n",
       "    </tr>\n",
       "    <tr>\n",
       "      <th>5</th>\n",
       "      <td>0.420854</td>\n",
       "      <td>0.995297</td>\n",
       "      <td>0.995135</td>\n",
       "      <td>0.000975</td>\n",
       "      <td>0.813874</td>\n",
       "      <td>375.614256</td>\n",
       "    </tr>\n",
       "  </tbody>\n",
       "</table>\n",
       "</div>"
      ],
      "text/plain": [
       "         int         C       DPI         R      dDPI     condind\n",
       "sv                                                              \n",
       "1   0.001383  0.000003  0.000003  0.000244  0.001594    1.000000\n",
       "2   0.003785  0.000010  0.000007  0.001425  0.135836    4.142638\n",
       "3   0.310490  0.000028  0.000037  0.012988  0.000640    7.798541\n",
       "4   0.263488  0.004662  0.004818  0.984368  0.048055   39.405786\n",
       "5   0.420854  0.995297  0.995135  0.000975  0.813874  375.614256"
      ]
     },
     "execution_count": 86,
     "metadata": {},
     "output_type": "execute_result"
    }
   ],
   "source": [
    "info['vdp']"
   ]
  },
  {
   "attachments": {},
   "cell_type": "markdown",
   "metadata": {},
   "source": [
    "## Why VIF Doesn't Work"
   ]
  },
  {
   "attachments": {},
   "cell_type": "markdown",
   "metadata": {},
   "source": [
    "       Variance decomposition proportions\n",
    "\tint    C      DPI    R      dDPI   \n",
    "CondInd\n",
    "1.0\t0.001  0.000  0.000  0.000  0.002  \n",
    "4.142637961897447\t0.004  0.000  0.000  0.001  0.136  \n",
    "7.798541471121814\t0.310  0.000  0.000  0.013  0.001  \n",
    "39.40578642668783\t0.263  0.005  0.005  0.984  0.048  \n",
    "375.61425582792555\t0.421  0.995  0.995  0.001  0.814  \n"
   ]
  }
 ],
 "metadata": {
  "kernelspec": {
   "display_name": "rapids-env",
   "language": "python",
   "name": "python3"
  },
  "language_info": {
   "codemirror_mode": {
    "name": "ipython",
    "version": 3
   },
   "file_extension": ".py",
   "mimetype": "text/x-python",
   "name": "python",
   "nbconvert_exporter": "python",
   "pygments_lexer": "ipython3",
   "version": "3.9.15 | packaged by conda-forge | (main, Nov 22 2022, 08:45:29) \n[GCC 10.4.0]"
  },
  "orig_nbformat": 4,
  "vscode": {
   "interpreter": {
    "hash": "9b2a7621d22ed921f36047c52dc88e1a5b3c5b5c2f07a2c1a0056caf99c45d95"
   }
  }
 },
 "nbformat": 4,
 "nbformat_minor": 2
}
