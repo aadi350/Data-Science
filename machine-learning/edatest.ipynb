{
 "cells": [
  {
   "cell_type": "code",
   "execution_count": 3,
   "metadata": {},
   "outputs": [],
   "source": [
    "from pyspark.sql import DataFrame, SparkSession\n",
    "\n",
    "spark = SparkSession.builder.appName('eda').getOrCreate()"
   ]
  },
  {
   "cell_type": "code",
   "execution_count": 4,
   "metadata": {},
   "outputs": [],
   "source": [
    "import numpy as np\n",
    "import pandas as pd"
   ]
  },
  {
   "cell_type": "code",
   "execution_count": 5,
   "metadata": {},
   "outputs": [
    {
     "data": {
      "text/html": [
       "<div>\n",
       "<style scoped>\n",
       "    .dataframe tbody tr th:only-of-type {\n",
       "        vertical-align: middle;\n",
       "    }\n",
       "\n",
       "    .dataframe tbody tr th {\n",
       "        vertical-align: top;\n",
       "    }\n",
       "\n",
       "    .dataframe thead th {\n",
       "        text-align: right;\n",
       "    }\n",
       "</style>\n",
       "<table border=\"1\" class=\"dataframe\">\n",
       "  <thead>\n",
       "    <tr style=\"text-align: right;\">\n",
       "      <th></th>\n",
       "      <th>id</th>\n",
       "      <th>year</th>\n",
       "      <th>month</th>\n",
       "      <th>num1</th>\n",
       "      <th>num2</th>\n",
       "      <th>cat1</th>\n",
       "      <th>cat2</th>\n",
       "      <th>bin_target</th>\n",
       "      <th>multi_target</th>\n",
       "    </tr>\n",
       "  </thead>\n",
       "  <tbody>\n",
       "    <tr>\n",
       "      <th>0</th>\n",
       "      <td>A</td>\n",
       "      <td>2023</td>\n",
       "      <td>1.0</td>\n",
       "      <td>1002.398970</td>\n",
       "      <td>78.289810</td>\n",
       "      <td>c</td>\n",
       "      <td>A</td>\n",
       "      <td>0</td>\n",
       "      <td>-1</td>\n",
       "    </tr>\n",
       "    <tr>\n",
       "      <th>1</th>\n",
       "      <td>A</td>\n",
       "      <td>2023</td>\n",
       "      <td>2.0</td>\n",
       "      <td>945.292032</td>\n",
       "      <td>-48.193934</td>\n",
       "      <td>a</td>\n",
       "      <td>A</td>\n",
       "      <td>1</td>\n",
       "      <td>1</td>\n",
       "    </tr>\n",
       "    <tr>\n",
       "      <th>2</th>\n",
       "      <td>A</td>\n",
       "      <td>2023</td>\n",
       "      <td>3.0</td>\n",
       "      <td>803.047617</td>\n",
       "      <td>-31.003851</td>\n",
       "      <td>a</td>\n",
       "      <td>A</td>\n",
       "      <td>0</td>\n",
       "      <td>1</td>\n",
       "    </tr>\n",
       "    <tr>\n",
       "      <th>3</th>\n",
       "      <td>A</td>\n",
       "      <td>2023</td>\n",
       "      <td>4.0</td>\n",
       "      <td>837.898480</td>\n",
       "      <td>-319.630657</td>\n",
       "      <td>a</td>\n",
       "      <td>A</td>\n",
       "      <td>1</td>\n",
       "      <td>1</td>\n",
       "    </tr>\n",
       "    <tr>\n",
       "      <th>4</th>\n",
       "      <td>A</td>\n",
       "      <td>2023</td>\n",
       "      <td>5.0</td>\n",
       "      <td>842.321657</td>\n",
       "      <td>-16.540610</td>\n",
       "      <td>c</td>\n",
       "      <td>C</td>\n",
       "      <td>1</td>\n",
       "      <td>-1</td>\n",
       "    </tr>\n",
       "  </tbody>\n",
       "</table>\n",
       "</div>"
      ],
      "text/plain": [
       "  id  year  month         num1        num2 cat1 cat2  bin_target  multi_target\n",
       "0  A  2023    1.0  1002.398970   78.289810    c    A           0            -1\n",
       "1  A  2023    2.0   945.292032  -48.193934    a    A           1             1\n",
       "2  A  2023    3.0   803.047617  -31.003851    a    A           0             1\n",
       "3  A  2023    4.0   837.898480 -319.630657    a    A           1             1\n",
       "4  A  2023    5.0   842.321657  -16.540610    c    C           1            -1"
      ]
     },
     "execution_count": 5,
     "metadata": {},
     "output_type": "execute_result"
    }
   ],
   "source": [
    "# make some dummy data\n",
    "\n",
    "df = pd.DataFrame({\n",
    "    'id': ['A'] * 100,\n",
    "    'year': [2023] * 100,\n",
    "    'month': np.linspace(1, 100, 100), # not real obviously\n",
    "    'num1': np.random.normal(1000, 100, size=100),\n",
    "    'num2': np.random.normal(10, 100, size=100),\n",
    "    'cat1': np.random.choice(['a', 'b', 'c'], size=100),\n",
    "    'cat2': np.random.choice(['A', 'B', 'C'], size=100),\n",
    "    'bin_target': np.random.choice([0, 1],size=100, p=[0.2, 0.8]),\n",
    "    'multi_target': np.random.choice([-1, 0, 1], size=100, replace=True, p=[0.2, 0.5, 0.3])\n",
    "})\n",
    "\n",
    "df.head()"
   ]
  },
  {
   "cell_type": "code",
   "execution_count": 6,
   "metadata": {},
   "outputs": [
    {
     "name": "stderr",
     "output_type": "stream",
     "text": [
      "/home/aadi/miniconda3/envs/spark_env/lib/python3.8/site-packages/pyspark/sql/pandas/conversion.py:371: FutureWarning: iteritems is deprecated and will be removed in a future version. Use .items instead.\n",
      "  for column, series in pdf.iteritems():\n"
     ]
    }
   ],
   "source": [
    "dd = spark.createDataFrame(df)"
   ]
  },
  {
   "cell_type": "code",
   "execution_count": 7,
   "metadata": {},
   "outputs": [
    {
     "name": "stdout",
     "output_type": "stream",
     "text": [
      "+---+----+-----+------------------+--------------------+----+----+----------+------------+\n",
      "| id|year|month|              num1|                num2|cat1|cat2|bin_target|multi_target|\n",
      "+---+----+-----+------------------+--------------------+----+----+----------+------------+\n",
      "|  A|2023|  1.0|1002.3989695645216|   78.28981021365396|   c|   A|         0|          -1|\n",
      "|  A|2023|  2.0| 945.2920324240617|  -48.19393418442653|   a|   A|         1|           1|\n",
      "|  A|2023|  3.0| 803.0476168393415|  -31.00385061597097|   a|   A|         0|           1|\n",
      "|  A|2023|  4.0| 837.8984800348729| -319.63065707325995|   a|   A|         1|           1|\n",
      "|  A|2023|  5.0| 842.3216571543076| -16.540609711770397|   c|   C|         1|          -1|\n",
      "|  A|2023|  6.0| 843.5387529856456|  202.61459610296797|   b|   A|         1|           1|\n",
      "|  A|2023|  7.0| 886.5776484723364|-0.09885695743611222|   c|   B|         1|           0|\n",
      "|  A|2023|  8.0|1052.1454089179265|  -75.38275449654631|   c|   B|         1|           1|\n",
      "|  A|2023|  9.0|1056.1255237710996|  -36.15593114014091|   a|   B|         1|           0|\n",
      "|  A|2023| 10.0|1100.8811737613632| -188.52522706523823|   c|   B|         1|           0|\n",
      "|  A|2023| 11.0|1007.8508704864715|  -0.947164401516055|   c|   C|         1|           0|\n",
      "|  A|2023| 12.0| 949.9774348111349|  18.241726050422443|   a|   A|         1|           0|\n",
      "|  A|2023| 13.0|1015.3067935840193|  -83.25767300243083|   b|   B|         1|           0|\n",
      "|  A|2023| 14.0| 982.5889053782971|   81.95477904743383|   c|   B|         1|           1|\n",
      "|  A|2023| 15.0| 937.1979170929823|  11.127339196065948|   c|   B|         0|           0|\n",
      "|  A|2023| 16.0|1026.9186687170297|  28.750344933932308|   a|   A|         1|          -1|\n",
      "|  A|2023| 17.0|1045.2063721372854|  -74.96737567430303|   a|   C|         1|           0|\n",
      "|  A|2023| 18.0|1022.1035862754602| -1.7228540631794083|   a|   A|         1|           0|\n",
      "|  A|2023| 19.0|1086.1133326189133| -58.384913368021074|   c|   C|         1|          -1|\n",
      "|  A|2023| 20.0| 931.8414361300239|  -75.46334192436545|   c|   C|         1|           0|\n",
      "+---+----+-----+------------------+--------------------+----+----+----------+------------+\n",
      "only showing top 20 rows\n",
      "\n"
     ]
    }
   ],
   "source": [
    "dd.show()"
   ]
  },
  {
   "attachments": {},
   "cell_type": "markdown",
   "metadata": {},
   "source": [
    "# Box Plots"
   ]
  },
  {
   "cell_type": "code",
   "execution_count": 34,
   "metadata": {},
   "outputs": [],
   "source": [
    "# need to do type chekcing\n",
    "cols = ['num1',]# 'num2']"
   ]
  },
  {
   "cell_type": "code",
   "execution_count": 35,
   "metadata": {},
   "outputs": [],
   "source": [
    "import plotly.graph_objects as go\n",
    "\n",
    "cols_q = dd.approxQuantile(cols, [0.00, 0.01, 0.25, 0.50, 0.75, 0.99, 1.00], 0)\n",
    "cols_q_dict = {}\n",
    "for idx, col in enumerate(cols):\n",
    "    cols_q_dict[col] = cols_q[idx]\n",
    "\n",
    "# assume subplots are 3 wide, need to find num cols in subplot based on number columns in dataframe needed \n",
    "if len(cols) == 1:\n",
    "    # no subplot needed\n",
    "\n",
    "    q0, q01, q25, q50, q75, q99, q100 = cols_q[0]  \n",
    "    fig = go.Figure(\n",
    "        go.Box(\n",
    "            q1=[q25],\n",
    "            median=[q50],\n",
    "            q3=[q75],\n",
    "            upperfence=[q99],\n",
    "            lowerfence=[q01]\n",
    "        )\n",
    "    )"
   ]
  },
  {
   "cell_type": "code",
   "execution_count": 36,
   "metadata": {},
   "outputs": [
    {
     "name": "stdout",
     "output_type": "stream",
     "text": [
      "+----------+--------------------+\n",
      "|bin_target|         percentiles|\n",
      "+----------+--------------------+\n",
      "|         0|[935.376196164749...|\n",
      "|         1|[953.810277191174...|\n",
      "+----------+--------------------+\n",
      "\n"
     ]
    }
   ],
   "source": [
    "from pyspark.sql import functions as F \n",
    "\n",
    "# need to do for individual columns\n",
    "col = cols[0]\n",
    "q_expr = F.expr(f'percentile_approx({col}, array(0.25, 0.50, 0.75))')\n",
    "dd.groupBy('bin_target').agg(q_expr.alias('percentiles')).show()"
   ]
  },
  {
   "cell_type": "code",
   "execution_count": 43,
   "metadata": {},
   "outputs": [
    {
     "name": "stdout",
     "output_type": "stream",
     "text": [
      "+----------+-----------------------------------+\n",
      "|bin_target|percentile_approx(num1, 0.5, 10000)|\n",
      "+----------+-----------------------------------+\n",
      "|         0|                  991.0439847015035|\n",
      "|         1|                 1009.3529238157965|\n",
      "+----------+-----------------------------------+\n",
      "\n"
     ]
    }
   ],
   "source": [
    "(dd.groupBy('bin_target')\n",
    "    .agg(F.percentile_approx(col, 0.5))).show()"
   ]
  },
  {
   "cell_type": "code",
   "execution_count": 104,
   "metadata": {},
   "outputs": [],
   "source": [
    "# split by target\n",
    "\n",
    "# by column\n",
    "class Explorer:\n",
    "    pass\n",
    "\n",
    "# pyspark\n",
    "def make_box(self, cols):\n",
    "    quantile_dict = {}\n",
    "    for col in cols:\n",
    "        # q00, q01, q25, q50, q75, q99, q100 = \n",
    "        target_q = (dd.groupBy(self.target)\n",
    "            .agg(\n",
    "                F.percentile_approx(col, [0.00, 0.01, 0.25, 0.50, 0.75, 0.99, 1.00], 1).alias('percentiles'))\n",
    "            .collect())\n",
    "\n",
    "        target_dict = {}\n",
    "        for target in target_q:\n",
    "            target_val = target[self.target]\n",
    "            q00, q01, q25, q50, q75, q99, q100 = target.percentiles\n",
    "            target_dict[target_val] = {\n",
    "                    'q00': q00,\n",
    "                    'q01': q01,\n",
    "                    'q25': q25,\n",
    "                    'q50': q50,\n",
    "                    'q75': q75,\n",
    "                    'q99': q99,\n",
    "                    'q100': q100\n",
    "                }\n",
    "        quantile_dict[col] = target_dict\n",
    "\n",
    "    # returns dictionary indexed by column -> target_value -> quantile\n",
    "\n",
    "    return quantile_dict\n",
    "\n",
    "Explorer.make_box = make_box\n",
    "\n",
    "\n",
    "e = Explorer()\n",
    "self = e\n",
    "\n",
    "self.target = 'bin_target'"
   ]
  },
  {
   "cell_type": "code",
   "execution_count": 105,
   "metadata": {},
   "outputs": [
    {
     "data": {
      "text/plain": [
       "{'num1': {0: {'q00': 806.5001352447177,\n",
       "   'q01': 806.5001352447177,\n",
       "   'q25': 806.5001352447177,\n",
       "   'q50': 806.5001352447177,\n",
       "   'q75': 806.5001352447177,\n",
       "   'q99': 806.5001352447177,\n",
       "   'q100': 806.5001352447177},\n",
       "  1: {'q00': 770.9262639045318,\n",
       "   'q01': 770.9262639045318,\n",
       "   'q25': 770.9262639045318,\n",
       "   'q50': 770.9262639045318,\n",
       "   'q75': 770.9262639045318,\n",
       "   'q99': 770.9262639045318,\n",
       "   'q100': 770.9262639045318}}}"
      ]
     },
     "execution_count": 105,
     "metadata": {},
     "output_type": "execute_result"
    }
   ],
   "source": [
    "e.make_box(cols)"
   ]
  },
  {
   "cell_type": "code",
   "execution_count": 192,
   "metadata": {},
   "outputs": [],
   "source": [
    "# pandas\n",
    "class PandasExplorer:\n",
    "    pass\n",
    "cols = ['num1', 'num2']\n",
    "# pandas\n",
    "def make_box(self, cols):\n",
    "    df_q = df.groupby('bin_target')[cols].quantile((0.00, 0.01, 0.25, 0.50, 0.75, 0.99, 1.00)).reset_index()\n",
    "\n",
    "    quantile_dict = {}\n",
    "    for col in cols:\n",
    "        target_dict = {}\n",
    "        for target in df_q[self.target].unique():\n",
    "            target_q = df_q.loc[df_q[self.target] == target, :]\n",
    "            q00, q01, q25, q50, q75, q99, q100 = target_q[col].values\n",
    "            target_dict[target] = {\n",
    "                'q00': q00,\n",
    "                'q01': q01,\n",
    "                'q25': q25,\n",
    "                'q50': q50,\n",
    "                'q75': q75,\n",
    "                'q99': q99,\n",
    "                'q100': q100\n",
    "            }\n",
    "\n",
    "        quantile_dict[col] = target_dict\n",
    "\n",
    "    return quantile_dict\n",
    "\n",
    "PandasExplorer.make_box = make_box\n",
    "p = PandasExplorer()\n",
    "p.target = 'bin_target'\n",
    "self = p\n",
    "\n",
    "quantile_dict = p.make_box(cols)"
   ]
  },
  {
   "cell_type": "code",
   "execution_count": 274,
   "metadata": {},
   "outputs": [],
   "source": [
    "import colorcet\n",
    "self = p\n",
    "from plotly.subplots import make_subplots\n",
    "p.target_vals = [0, 1]\n",
    "\n",
    "\n",
    "def plot_box(self, quantile_dict):\n",
    "    if len(quantile_dict.keys()) == 1:\n",
    "        col = list(quantile_dict.keys())[0]\n",
    "        fig = go.Figure()\n",
    "        for idx, target_val in enumerate(self.target_vals):\n",
    "            fig.add_trace(go.Box(\n",
    "                q1=[quantile_dict[col][target_val]['q25']],\n",
    "                median=[quantile_dict[col][target_val]['q50']],\n",
    "                q3=[quantile_dict[col][target_val]['q75']],\n",
    "                x=[target_val], \n",
    "                upperfence=[quantile_dict[col][target_val]['q99']],\n",
    "                lowerfence=[quantile_dict[col][target_val]['q01']],\n",
    "                name=target_val,\n",
    "                marker=dict(color=colorcet.glasbey_dark[idx])\n",
    "            ))\n",
    "\n",
    "        fig.show()\n",
    "\n",
    "    else:\n",
    "        num_cols = len(list(quantile_dict.keys()))\n",
    "        fig = make_subplots(rows=math.ceil(num_cols/3), cols=3, subplot_titles=list(quantile_dict.keys()))\n",
    "        row_num = 1\n",
    "        col_num = 1\n",
    "        for col in quantile_dict.keys():\n",
    "            for idx, target_val in enumerate(self.target_vals):\n",
    "                fig.add_trace(go.Box(\n",
    "                    q1=[quantile_dict[col][target_val]['q25']],\n",
    "                    median=[quantile_dict[col][target_val]['q50']],\n",
    "                    q3=[quantile_dict[col][target_val]['q75']],\n",
    "                    x=[target_val], \n",
    "                    upperfence=[quantile_dict[col][target_val]['q99']],\n",
    "                    lowerfence=[quantile_dict[col][target_val]['q01']],\n",
    "                    name=target_val,\n",
    "                    marker=dict(color=colorcet.glasbey_dark[idx])\n",
    "                ), row=row_num, col=col_num)            \n",
    "                \n",
    "            col_num += 1\n",
    "            if col_num > 3:\n",
    "                row_num += 1\n",
    "                col_num = 1\n",
    "\n",
    "        fig.update_layout(\n",
    "            autosize=False,\n",
    "            width=1200,\n",
    "            height=math.ceil(num_cols/3) * 400\n",
    "        )\n",
    "        fig.show()"
   ]
  },
  {
   "cell_type": "code",
   "execution_count": 276,
   "metadata": {},
   "outputs": [
    {
     "data": {
      "application/vnd.plotly.v1+json": {
       "config": {
        "plotlyServerURL": "https://plot.ly"
       },
       "data": [
        {
         "lowerfence": [
          812.4429977125134
         ],
         "marker": {
          "color": "#d60000"
         },
         "median": [
          991.9576820482221
         ],
         "name": "0",
         "q1": [
          940.7519908777558
         ],
         "q3": [
          1054.2785680687562
         ],
         "type": "box",
         "upperfence": [
          1130.8098425782653
         ],
         "x": [
          0
         ],
         "xaxis": "x",
         "yaxis": "y"
        },
        {
         "lowerfence": [
          782.4965286071763
         ],
         "marker": {
          "color": "#8c3bff"
         },
         "median": [
          1010.8230992812453
         ],
         "name": "1",
         "q1": [
          954.2106580038879
         ],
         "q3": [
          1062.5197642134708
         ],
         "type": "box",
         "upperfence": [
          1223.4253949342165
         ],
         "x": [
          1
         ],
         "xaxis": "x",
         "yaxis": "y"
        },
        {
         "lowerfence": [
          -151.4851312019718
         ],
         "marker": {
          "color": "#d60000"
         },
         "median": [
          -22.027481812211334
         ],
         "name": "0",
         "q1": [
          -78.96054332918577
         ],
         "q3": [
          65.8105487378183
         ],
         "type": "box",
         "upperfence": [
          231.12170881475515
         ],
         "x": [
          0
         ],
         "xaxis": "x2",
         "yaxis": "y2"
        },
        {
         "lowerfence": [
          -209.62938426941014
         ],
         "marker": {
          "color": "#8c3bff"
         },
         "median": [
          -19.95337124724544
         ],
         "name": "1",
         "q1": [
          -78.39748074312527
         ],
         "q3": [
          48.66887283490432
         ],
         "type": "box",
         "upperfence": [
          228.82564095963372
         ],
         "x": [
          1
         ],
         "xaxis": "x2",
         "yaxis": "y2"
        }
       ],
       "layout": {
        "annotations": [
         {
          "font": {
           "size": 16
          },
          "showarrow": false,
          "text": "num1",
          "x": 0.14444444444444446,
          "xanchor": "center",
          "xref": "paper",
          "y": 1,
          "yanchor": "bottom",
          "yref": "paper"
         },
         {
          "font": {
           "size": 16
          },
          "showarrow": false,
          "text": "num2",
          "x": 0.5,
          "xanchor": "center",
          "xref": "paper",
          "y": 1,
          "yanchor": "bottom",
          "yref": "paper"
         }
        ],
        "autosize": false,
        "height": 400,
        "template": {
         "data": {
          "bar": [
           {
            "error_x": {
             "color": "#2a3f5f"
            },
            "error_y": {
             "color": "#2a3f5f"
            },
            "marker": {
             "line": {
              "color": "#E5ECF6",
              "width": 0.5
             },
             "pattern": {
              "fillmode": "overlay",
              "size": 10,
              "solidity": 0.2
             }
            },
            "type": "bar"
           }
          ],
          "barpolar": [
           {
            "marker": {
             "line": {
              "color": "#E5ECF6",
              "width": 0.5
             },
             "pattern": {
              "fillmode": "overlay",
              "size": 10,
              "solidity": 0.2
             }
            },
            "type": "barpolar"
           }
          ],
          "carpet": [
           {
            "aaxis": {
             "endlinecolor": "#2a3f5f",
             "gridcolor": "white",
             "linecolor": "white",
             "minorgridcolor": "white",
             "startlinecolor": "#2a3f5f"
            },
            "baxis": {
             "endlinecolor": "#2a3f5f",
             "gridcolor": "white",
             "linecolor": "white",
             "minorgridcolor": "white",
             "startlinecolor": "#2a3f5f"
            },
            "type": "carpet"
           }
          ],
          "choropleth": [
           {
            "colorbar": {
             "outlinewidth": 0,
             "ticks": ""
            },
            "type": "choropleth"
           }
          ],
          "contour": [
           {
            "colorbar": {
             "outlinewidth": 0,
             "ticks": ""
            },
            "colorscale": [
             [
              0,
              "#0d0887"
             ],
             [
              0.1111111111111111,
              "#46039f"
             ],
             [
              0.2222222222222222,
              "#7201a8"
             ],
             [
              0.3333333333333333,
              "#9c179e"
             ],
             [
              0.4444444444444444,
              "#bd3786"
             ],
             [
              0.5555555555555556,
              "#d8576b"
             ],
             [
              0.6666666666666666,
              "#ed7953"
             ],
             [
              0.7777777777777778,
              "#fb9f3a"
             ],
             [
              0.8888888888888888,
              "#fdca26"
             ],
             [
              1,
              "#f0f921"
             ]
            ],
            "type": "contour"
           }
          ],
          "contourcarpet": [
           {
            "colorbar": {
             "outlinewidth": 0,
             "ticks": ""
            },
            "type": "contourcarpet"
           }
          ],
          "heatmap": [
           {
            "colorbar": {
             "outlinewidth": 0,
             "ticks": ""
            },
            "colorscale": [
             [
              0,
              "#0d0887"
             ],
             [
              0.1111111111111111,
              "#46039f"
             ],
             [
              0.2222222222222222,
              "#7201a8"
             ],
             [
              0.3333333333333333,
              "#9c179e"
             ],
             [
              0.4444444444444444,
              "#bd3786"
             ],
             [
              0.5555555555555556,
              "#d8576b"
             ],
             [
              0.6666666666666666,
              "#ed7953"
             ],
             [
              0.7777777777777778,
              "#fb9f3a"
             ],
             [
              0.8888888888888888,
              "#fdca26"
             ],
             [
              1,
              "#f0f921"
             ]
            ],
            "type": "heatmap"
           }
          ],
          "heatmapgl": [
           {
            "colorbar": {
             "outlinewidth": 0,
             "ticks": ""
            },
            "colorscale": [
             [
              0,
              "#0d0887"
             ],
             [
              0.1111111111111111,
              "#46039f"
             ],
             [
              0.2222222222222222,
              "#7201a8"
             ],
             [
              0.3333333333333333,
              "#9c179e"
             ],
             [
              0.4444444444444444,
              "#bd3786"
             ],
             [
              0.5555555555555556,
              "#d8576b"
             ],
             [
              0.6666666666666666,
              "#ed7953"
             ],
             [
              0.7777777777777778,
              "#fb9f3a"
             ],
             [
              0.8888888888888888,
              "#fdca26"
             ],
             [
              1,
              "#f0f921"
             ]
            ],
            "type": "heatmapgl"
           }
          ],
          "histogram": [
           {
            "marker": {
             "pattern": {
              "fillmode": "overlay",
              "size": 10,
              "solidity": 0.2
             }
            },
            "type": "histogram"
           }
          ],
          "histogram2d": [
           {
            "colorbar": {
             "outlinewidth": 0,
             "ticks": ""
            },
            "colorscale": [
             [
              0,
              "#0d0887"
             ],
             [
              0.1111111111111111,
              "#46039f"
             ],
             [
              0.2222222222222222,
              "#7201a8"
             ],
             [
              0.3333333333333333,
              "#9c179e"
             ],
             [
              0.4444444444444444,
              "#bd3786"
             ],
             [
              0.5555555555555556,
              "#d8576b"
             ],
             [
              0.6666666666666666,
              "#ed7953"
             ],
             [
              0.7777777777777778,
              "#fb9f3a"
             ],
             [
              0.8888888888888888,
              "#fdca26"
             ],
             [
              1,
              "#f0f921"
             ]
            ],
            "type": "histogram2d"
           }
          ],
          "histogram2dcontour": [
           {
            "colorbar": {
             "outlinewidth": 0,
             "ticks": ""
            },
            "colorscale": [
             [
              0,
              "#0d0887"
             ],
             [
              0.1111111111111111,
              "#46039f"
             ],
             [
              0.2222222222222222,
              "#7201a8"
             ],
             [
              0.3333333333333333,
              "#9c179e"
             ],
             [
              0.4444444444444444,
              "#bd3786"
             ],
             [
              0.5555555555555556,
              "#d8576b"
             ],
             [
              0.6666666666666666,
              "#ed7953"
             ],
             [
              0.7777777777777778,
              "#fb9f3a"
             ],
             [
              0.8888888888888888,
              "#fdca26"
             ],
             [
              1,
              "#f0f921"
             ]
            ],
            "type": "histogram2dcontour"
           }
          ],
          "mesh3d": [
           {
            "colorbar": {
             "outlinewidth": 0,
             "ticks": ""
            },
            "type": "mesh3d"
           }
          ],
          "parcoords": [
           {
            "line": {
             "colorbar": {
              "outlinewidth": 0,
              "ticks": ""
             }
            },
            "type": "parcoords"
           }
          ],
          "pie": [
           {
            "automargin": true,
            "type": "pie"
           }
          ],
          "scatter": [
           {
            "fillpattern": {
             "fillmode": "overlay",
             "size": 10,
             "solidity": 0.2
            },
            "type": "scatter"
           }
          ],
          "scatter3d": [
           {
            "line": {
             "colorbar": {
              "outlinewidth": 0,
              "ticks": ""
             }
            },
            "marker": {
             "colorbar": {
              "outlinewidth": 0,
              "ticks": ""
             }
            },
            "type": "scatter3d"
           }
          ],
          "scattercarpet": [
           {
            "marker": {
             "colorbar": {
              "outlinewidth": 0,
              "ticks": ""
             }
            },
            "type": "scattercarpet"
           }
          ],
          "scattergeo": [
           {
            "marker": {
             "colorbar": {
              "outlinewidth": 0,
              "ticks": ""
             }
            },
            "type": "scattergeo"
           }
          ],
          "scattergl": [
           {
            "marker": {
             "colorbar": {
              "outlinewidth": 0,
              "ticks": ""
             }
            },
            "type": "scattergl"
           }
          ],
          "scattermapbox": [
           {
            "marker": {
             "colorbar": {
              "outlinewidth": 0,
              "ticks": ""
             }
            },
            "type": "scattermapbox"
           }
          ],
          "scatterpolar": [
           {
            "marker": {
             "colorbar": {
              "outlinewidth": 0,
              "ticks": ""
             }
            },
            "type": "scatterpolar"
           }
          ],
          "scatterpolargl": [
           {
            "marker": {
             "colorbar": {
              "outlinewidth": 0,
              "ticks": ""
             }
            },
            "type": "scatterpolargl"
           }
          ],
          "scatterternary": [
           {
            "marker": {
             "colorbar": {
              "outlinewidth": 0,
              "ticks": ""
             }
            },
            "type": "scatterternary"
           }
          ],
          "surface": [
           {
            "colorbar": {
             "outlinewidth": 0,
             "ticks": ""
            },
            "colorscale": [
             [
              0,
              "#0d0887"
             ],
             [
              0.1111111111111111,
              "#46039f"
             ],
             [
              0.2222222222222222,
              "#7201a8"
             ],
             [
              0.3333333333333333,
              "#9c179e"
             ],
             [
              0.4444444444444444,
              "#bd3786"
             ],
             [
              0.5555555555555556,
              "#d8576b"
             ],
             [
              0.6666666666666666,
              "#ed7953"
             ],
             [
              0.7777777777777778,
              "#fb9f3a"
             ],
             [
              0.8888888888888888,
              "#fdca26"
             ],
             [
              1,
              "#f0f921"
             ]
            ],
            "type": "surface"
           }
          ],
          "table": [
           {
            "cells": {
             "fill": {
              "color": "#EBF0F8"
             },
             "line": {
              "color": "white"
             }
            },
            "header": {
             "fill": {
              "color": "#C8D4E3"
             },
             "line": {
              "color": "white"
             }
            },
            "type": "table"
           }
          ]
         },
         "layout": {
          "annotationdefaults": {
           "arrowcolor": "#2a3f5f",
           "arrowhead": 0,
           "arrowwidth": 1
          },
          "autotypenumbers": "strict",
          "coloraxis": {
           "colorbar": {
            "outlinewidth": 0,
            "ticks": ""
           }
          },
          "colorscale": {
           "diverging": [
            [
             0,
             "#8e0152"
            ],
            [
             0.1,
             "#c51b7d"
            ],
            [
             0.2,
             "#de77ae"
            ],
            [
             0.3,
             "#f1b6da"
            ],
            [
             0.4,
             "#fde0ef"
            ],
            [
             0.5,
             "#f7f7f7"
            ],
            [
             0.6,
             "#e6f5d0"
            ],
            [
             0.7,
             "#b8e186"
            ],
            [
             0.8,
             "#7fbc41"
            ],
            [
             0.9,
             "#4d9221"
            ],
            [
             1,
             "#276419"
            ]
           ],
           "sequential": [
            [
             0,
             "#0d0887"
            ],
            [
             0.1111111111111111,
             "#46039f"
            ],
            [
             0.2222222222222222,
             "#7201a8"
            ],
            [
             0.3333333333333333,
             "#9c179e"
            ],
            [
             0.4444444444444444,
             "#bd3786"
            ],
            [
             0.5555555555555556,
             "#d8576b"
            ],
            [
             0.6666666666666666,
             "#ed7953"
            ],
            [
             0.7777777777777778,
             "#fb9f3a"
            ],
            [
             0.8888888888888888,
             "#fdca26"
            ],
            [
             1,
             "#f0f921"
            ]
           ],
           "sequentialminus": [
            [
             0,
             "#0d0887"
            ],
            [
             0.1111111111111111,
             "#46039f"
            ],
            [
             0.2222222222222222,
             "#7201a8"
            ],
            [
             0.3333333333333333,
             "#9c179e"
            ],
            [
             0.4444444444444444,
             "#bd3786"
            ],
            [
             0.5555555555555556,
             "#d8576b"
            ],
            [
             0.6666666666666666,
             "#ed7953"
            ],
            [
             0.7777777777777778,
             "#fb9f3a"
            ],
            [
             0.8888888888888888,
             "#fdca26"
            ],
            [
             1,
             "#f0f921"
            ]
           ]
          },
          "colorway": [
           "#636efa",
           "#EF553B",
           "#00cc96",
           "#ab63fa",
           "#FFA15A",
           "#19d3f3",
           "#FF6692",
           "#B6E880",
           "#FF97FF",
           "#FECB52"
          ],
          "font": {
           "color": "#2a3f5f"
          },
          "geo": {
           "bgcolor": "white",
           "lakecolor": "white",
           "landcolor": "#E5ECF6",
           "showlakes": true,
           "showland": true,
           "subunitcolor": "white"
          },
          "hoverlabel": {
           "align": "left"
          },
          "hovermode": "closest",
          "mapbox": {
           "style": "light"
          },
          "paper_bgcolor": "white",
          "plot_bgcolor": "#E5ECF6",
          "polar": {
           "angularaxis": {
            "gridcolor": "white",
            "linecolor": "white",
            "ticks": ""
           },
           "bgcolor": "#E5ECF6",
           "radialaxis": {
            "gridcolor": "white",
            "linecolor": "white",
            "ticks": ""
           }
          },
          "scene": {
           "xaxis": {
            "backgroundcolor": "#E5ECF6",
            "gridcolor": "white",
            "gridwidth": 2,
            "linecolor": "white",
            "showbackground": true,
            "ticks": "",
            "zerolinecolor": "white"
           },
           "yaxis": {
            "backgroundcolor": "#E5ECF6",
            "gridcolor": "white",
            "gridwidth": 2,
            "linecolor": "white",
            "showbackground": true,
            "ticks": "",
            "zerolinecolor": "white"
           },
           "zaxis": {
            "backgroundcolor": "#E5ECF6",
            "gridcolor": "white",
            "gridwidth": 2,
            "linecolor": "white",
            "showbackground": true,
            "ticks": "",
            "zerolinecolor": "white"
           }
          },
          "shapedefaults": {
           "line": {
            "color": "#2a3f5f"
           }
          },
          "ternary": {
           "aaxis": {
            "gridcolor": "white",
            "linecolor": "white",
            "ticks": ""
           },
           "baxis": {
            "gridcolor": "white",
            "linecolor": "white",
            "ticks": ""
           },
           "bgcolor": "#E5ECF6",
           "caxis": {
            "gridcolor": "white",
            "linecolor": "white",
            "ticks": ""
           }
          },
          "title": {
           "x": 0.05
          },
          "xaxis": {
           "automargin": true,
           "gridcolor": "white",
           "linecolor": "white",
           "ticks": "",
           "title": {
            "standoff": 15
           },
           "zerolinecolor": "white",
           "zerolinewidth": 2
          },
          "yaxis": {
           "automargin": true,
           "gridcolor": "white",
           "linecolor": "white",
           "ticks": "",
           "title": {
            "standoff": 15
           },
           "zerolinecolor": "white",
           "zerolinewidth": 2
          }
         }
        },
        "width": 1200,
        "xaxis": {
         "anchor": "y",
         "domain": [
          0,
          0.2888888888888889
         ]
        },
        "xaxis2": {
         "anchor": "y2",
         "domain": [
          0.35555555555555557,
          0.6444444444444445
         ]
        },
        "xaxis3": {
         "anchor": "y3",
         "domain": [
          0.7111111111111111,
          1
         ]
        },
        "yaxis": {
         "anchor": "x",
         "domain": [
          0,
          1
         ]
        },
        "yaxis2": {
         "anchor": "x2",
         "domain": [
          0,
          1
         ]
        },
        "yaxis3": {
         "anchor": "x3",
         "domain": [
          0,
          1
         ]
        }
       }
      }
     },
     "metadata": {},
     "output_type": "display_data"
    }
   ],
   "source": [
    "plot_box(p, quantile_dict)"
   ]
  },
  {
   "cell_type": "code",
   "execution_count": 216,
   "metadata": {},
   "outputs": [
    {
     "data": {
      "text/plain": [
       "2"
      ]
     },
     "execution_count": 216,
     "metadata": {},
     "output_type": "execute_result"
    }
   ],
   "source": [
    "import math\n",
    "math.ceil(4/3)"
   ]
  },
  {
   "attachments": {},
   "cell_type": "markdown",
   "metadata": {},
   "source": [
    "# Histograms"
   ]
  },
  {
   "cell_type": "code",
   "execution_count": 327,
   "metadata": {},
   "outputs": [],
   "source": [
    "dd.columns\n",
    "cols = ['num1','num2']"
   ]
  },
  {
   "cell_type": "code",
   "execution_count": 69,
   "metadata": {},
   "outputs": [
    {
     "data": {
      "text/plain": [
       "{'num1': {0: {'bins': [0, 0], 'edges': [0, 10]},\n",
       "  1: {'bins': [0, 0], 'edges': [0, 10]}},\n",
       " 'num2': {0: {'bins': [0, 5], 'edges': [0, 10]},\n",
       "  1: {'bins': [5, 19], 'edges': [0, 10]}}}"
      ]
     },
     "execution_count": 69,
     "metadata": {},
     "output_type": "execute_result"
    }
   ],
   "source": [
    "#py\n",
    "def make_hist(self, cols, n_bins=None, bins=None):\n",
    "    col_dict = {}\n",
    "    for col in cols:\n",
    "        target_dict = {}\n",
    "        for target_val in self.target_vals:\n",
    "            target_dict[target_val] = {'bins': None, 'edges': None}\n",
    "            target_dict[target_val]['edges'], target_dict[target_val]['bins']=(\n",
    "                dd.filter(F.col(self.target_col)==target_val)\n",
    "                .select(col).rdd.flatMap(lambda x: x).histogram(n_bins if n_bins else bins))\n",
    "\n",
    "            target_dict[target_val]['edges'] = target_dict[target_val]['edges'][:-1] # off-by-one\n",
    "\n",
    "        col_dict[col] = target_dict\n",
    "\n",
    "    return col_dict\n",
    "\n",
    "class Explorer:\n",
    "    pass\n",
    "\n",
    "Explorer.make_hist = make_hist\n",
    "\n",
    "e = Explorer()\n",
    "e.target_col = 'bin_target'\n",
    "e.target_vals = [0, 1]\n",
    "e.make_hist(cols, bins=[0, 10, 100])"
   ]
  },
  {
   "cell_type": "code",
   "execution_count": 65,
   "metadata": {},
   "outputs": [
    {
     "data": {
      "text/plain": [
       "{'num1': {0: {'bins': array([2, 7, 2, 4, 2]),\n",
       "   'edges': array([ 803.04761684,  881.89920232,  960.7507878 , 1039.60237328,\n",
       "          1118.45395876, 1197.30554423])},\n",
       "  1: {'bins': array([10, 25, 38,  8,  2]),\n",
       "   'edges': array([ 769.41881392,  877.26238293,  985.10595194, 1092.94952095,\n",
       "          1200.79308996, 1308.63665897])}}}"
      ]
     },
     "execution_count": 65,
     "metadata": {},
     "output_type": "execute_result"
    }
   ],
   "source": [
    "#pandas\n",
    "def make_hist(self, cols, n_bins=None, bins=None):\n",
    "    col_dict = {}\n",
    "    for col in cols:\n",
    "        target_dict = {}\n",
    "        for target_val in self.target_vals:\n",
    "            target_dict[target_val] = {'bins': None, 'edges': None}\n",
    "            target_dict[target_val]['bins'], target_dict[target_val]['edges']  = np.histogram(df.loc[df[self.target_col]==target_val, col], bins=n_bins if n_bins else bins)\n",
    "\n",
    "        col_dict[col] = target_dict\n",
    "\n",
    "    return col_dict\n",
    "\n",
    "class PandasExplorer:\n",
    "    pass\n",
    "\n",
    "PandasExplorer.make_hist = make_hist\n",
    " \n",
    "p = PandasExplorer()\n",
    "p.target_vals = (0, 1)\n",
    "p.target_col = 'bin_target'\n",
    "p.make_hist(['num1'], n_bins=5)"
   ]
  },
  {
   "cell_type": "code",
   "execution_count": 282,
   "metadata": {},
   "outputs": [
    {
     "data": {
      "text/plain": [
       "{'num1': {0: {'bins': array([2, 2, 2, 1, 2, 7, 2, 2, 2, 4]),\n",
       "   'edges': array([ 806.50013524,  839.03743564,  871.57473604,  904.11203644,\n",
       "           936.64933684,  969.18663723, 1001.72393763, 1034.26123803,\n",
       "          1066.79853843, 1099.33583882, 1131.87313922])},\n",
       "  1: {'bins': array([ 2,  2,  9, 11, 16, 18,  8,  6,  1,  1]),\n",
       "   'edges': array([ 770.9262639 ,  820.14576102,  869.36525813,  918.58475524,\n",
       "           967.80425235, 1017.02374946, 1066.24324657, 1115.46274368,\n",
       "          1164.6822408 , 1213.90173791, 1263.12123502])}},\n",
       " 'num2': {0: {'bins': array([1, 6, 4, 5, 2, 2, 2, 3, 0, 1]),\n",
       "   'edges': array([-162.77491541, -120.94079813,  -79.10668085,  -37.27256356,\n",
       "             4.56155372,   46.39567101,   88.22978829,  130.06390557,\n",
       "           171.89802286,  213.73214014,  255.56625742])},\n",
       "  1: {'bins': array([ 2,  9, 10, 21, 11, 10,  7,  2,  1,  1]),\n",
       "   'edges': array([-220.38681426, -168.21843328, -116.05005231,  -63.88167133,\n",
       "           -11.71329036,   40.45509062,   92.62347159,  144.79185257,\n",
       "           196.96023354,  249.12861452,  301.29699549])}}}"
      ]
     },
     "execution_count": 282,
     "metadata": {},
     "output_type": "execute_result"
    }
   ],
   "source": [
    "def plot_hist(self, hist_dict):\n",
    "    # single-column\n",
    "    if len(hist_dict.keys()) == 1:\n",
    "        col = list(hist_dict.keys())[0]\n",
    "        fig = go.Figure()\n",
    "        for idx, target_val in enumerate(self.target_vals):\n",
    "            fig.add_trace(\n",
    "                go.Bar(\n",
    "                    y=hist_dict[col][target_val]['bins'],\n",
    "                    x=hist_dict[col][target_val]['edges'],\n",
    "                    name=target_val,\n",
    "                    marker=dict(color=colorcet.glasbey_dark[idx])\n",
    "                )\n",
    "            )\n",
    "            fig.update_layout(\n",
    "                autosize=False,\n",
    "                width=800,\n",
    "                height=800,\n",
    "                title=col\n",
    "            )\n",
    "    else:\n",
    "        num_cols = len(list(hist_dict.keys()))\n",
    "        fig = make_subplots(rows=math.ceil(num_cols/3), cols=3, subplot_titles=list(hist_dict.keys()))\n",
    "        row_num = 1\n",
    "        col_num = 1\n",
    "        for col in hist_dict.keys():\n",
    "            for idx, target_val in enumerate(self.target_vals):\n",
    "                fig.add_trace(go.Bar(\n",
    "                    y=hist_dict[col][target_val]['bins'],\n",
    "                    x=hist_dict[col][target_val]['edges'],\n",
    "                    name=target_val,\n",
    "                    marker=dict(color=colorcet.glasbey_dark[idx])\n",
    "                ), row=row_num, col=col_num)\n",
    "\n",
    "            col_num += 1\n",
    "            if col_num > 3:\n",
    "                row_num += 1\n",
    "                col_num = 1\n",
    "\n",
    "        fig.update_layout(\n",
    "            autosize=False,\n",
    "            width=1200,\n",
    "            height=math.ceil(num_cols/3) * 400\n",
    "        )\n",
    "\n",
    "    fig.show()\n",
    "\n",
    "PandasExplorer.plot_hist = plot_hist\n",
    "p = PandasExplorer()\n",
    "p.target_vals = [0, 1]\n",
    "p.target_col = 'bin_target'\n",
    "p.make_hist(cols, n_bins=10)"
   ]
  },
  {
   "cell_type": "code",
   "execution_count": 283,
   "metadata": {},
   "outputs": [
    {
     "data": {
      "application/vnd.plotly.v1+json": {
       "config": {
        "plotlyServerURL": "https://plot.ly"
       },
       "data": [
        {
         "marker": {
          "color": "#d60000"
         },
         "name": "0",
         "type": "bar",
         "x": [
          806.5001352447177,
          839.0374356423306,
          871.5747360399434,
          904.1120364375563,
          936.649336835169,
          969.1866372327819,
          1001.7239376303947,
          1034.2612380280075,
          1066.7985384256203,
          1099.3358388232332,
          1131.873139220846
         ],
         "xaxis": "x",
         "y": [
          2,
          2,
          2,
          1,
          2,
          7,
          2,
          2,
          2,
          4
         ],
         "yaxis": "y"
        },
        {
         "marker": {
          "color": "#8c3bff"
         },
         "name": "1",
         "type": "bar",
         "x": [
          770.9262639045318,
          820.1457610159185,
          869.3652581273052,
          918.584755238692,
          967.8042523500787,
          1017.0237494614655,
          1066.243246572852,
          1115.4627436842388,
          1164.6822407956256,
          1213.9017379070124,
          1263.1212350183991
         ],
         "xaxis": "x",
         "y": [
          2,
          2,
          9,
          11,
          16,
          18,
          8,
          6,
          1,
          1
         ],
         "yaxis": "y"
        },
        {
         "marker": {
          "color": "#d60000"
         },
         "name": "0",
         "type": "bar",
         "x": [
          -162.7749154142261,
          -120.94079813036612,
          -79.10668084650615,
          -37.272563562646184,
          4.561553721213784,
          46.39567100507375,
          88.22978828893372,
          130.06390557279366,
          171.89802285665365,
          213.73214014051365,
          255.5662574243736
         ],
         "xaxis": "x2",
         "y": [
          1,
          6,
          4,
          5,
          2,
          2,
          2,
          3,
          0,
          1
         ],
         "yaxis": "y2"
        },
        {
         "marker": {
          "color": "#8c3bff"
         },
         "name": "1",
         "type": "bar",
         "x": [
          -220.38681425770102,
          -168.21843328246985,
          -116.0500523072387,
          -63.881671332007556,
          -11.713290356776383,
          40.45509061845479,
          92.6234715936859,
          144.79185256891708,
          196.96023354414825,
          249.12861451937943,
          301.29699549461066
         ],
         "xaxis": "x2",
         "y": [
          2,
          9,
          10,
          21,
          11,
          10,
          7,
          2,
          1,
          1
         ],
         "yaxis": "y2"
        }
       ],
       "layout": {
        "annotations": [
         {
          "font": {
           "size": 16
          },
          "showarrow": false,
          "text": "num1",
          "x": 0.14444444444444446,
          "xanchor": "center",
          "xref": "paper",
          "y": 1,
          "yanchor": "bottom",
          "yref": "paper"
         },
         {
          "font": {
           "size": 16
          },
          "showarrow": false,
          "text": "num2",
          "x": 0.5,
          "xanchor": "center",
          "xref": "paper",
          "y": 1,
          "yanchor": "bottom",
          "yref": "paper"
         }
        ],
        "autosize": false,
        "height": 400,
        "template": {
         "data": {
          "bar": [
           {
            "error_x": {
             "color": "#2a3f5f"
            },
            "error_y": {
             "color": "#2a3f5f"
            },
            "marker": {
             "line": {
              "color": "#E5ECF6",
              "width": 0.5
             },
             "pattern": {
              "fillmode": "overlay",
              "size": 10,
              "solidity": 0.2
             }
            },
            "type": "bar"
           }
          ],
          "barpolar": [
           {
            "marker": {
             "line": {
              "color": "#E5ECF6",
              "width": 0.5
             },
             "pattern": {
              "fillmode": "overlay",
              "size": 10,
              "solidity": 0.2
             }
            },
            "type": "barpolar"
           }
          ],
          "carpet": [
           {
            "aaxis": {
             "endlinecolor": "#2a3f5f",
             "gridcolor": "white",
             "linecolor": "white",
             "minorgridcolor": "white",
             "startlinecolor": "#2a3f5f"
            },
            "baxis": {
             "endlinecolor": "#2a3f5f",
             "gridcolor": "white",
             "linecolor": "white",
             "minorgridcolor": "white",
             "startlinecolor": "#2a3f5f"
            },
            "type": "carpet"
           }
          ],
          "choropleth": [
           {
            "colorbar": {
             "outlinewidth": 0,
             "ticks": ""
            },
            "type": "choropleth"
           }
          ],
          "contour": [
           {
            "colorbar": {
             "outlinewidth": 0,
             "ticks": ""
            },
            "colorscale": [
             [
              0,
              "#0d0887"
             ],
             [
              0.1111111111111111,
              "#46039f"
             ],
             [
              0.2222222222222222,
              "#7201a8"
             ],
             [
              0.3333333333333333,
              "#9c179e"
             ],
             [
              0.4444444444444444,
              "#bd3786"
             ],
             [
              0.5555555555555556,
              "#d8576b"
             ],
             [
              0.6666666666666666,
              "#ed7953"
             ],
             [
              0.7777777777777778,
              "#fb9f3a"
             ],
             [
              0.8888888888888888,
              "#fdca26"
             ],
             [
              1,
              "#f0f921"
             ]
            ],
            "type": "contour"
           }
          ],
          "contourcarpet": [
           {
            "colorbar": {
             "outlinewidth": 0,
             "ticks": ""
            },
            "type": "contourcarpet"
           }
          ],
          "heatmap": [
           {
            "colorbar": {
             "outlinewidth": 0,
             "ticks": ""
            },
            "colorscale": [
             [
              0,
              "#0d0887"
             ],
             [
              0.1111111111111111,
              "#46039f"
             ],
             [
              0.2222222222222222,
              "#7201a8"
             ],
             [
              0.3333333333333333,
              "#9c179e"
             ],
             [
              0.4444444444444444,
              "#bd3786"
             ],
             [
              0.5555555555555556,
              "#d8576b"
             ],
             [
              0.6666666666666666,
              "#ed7953"
             ],
             [
              0.7777777777777778,
              "#fb9f3a"
             ],
             [
              0.8888888888888888,
              "#fdca26"
             ],
             [
              1,
              "#f0f921"
             ]
            ],
            "type": "heatmap"
           }
          ],
          "heatmapgl": [
           {
            "colorbar": {
             "outlinewidth": 0,
             "ticks": ""
            },
            "colorscale": [
             [
              0,
              "#0d0887"
             ],
             [
              0.1111111111111111,
              "#46039f"
             ],
             [
              0.2222222222222222,
              "#7201a8"
             ],
             [
              0.3333333333333333,
              "#9c179e"
             ],
             [
              0.4444444444444444,
              "#bd3786"
             ],
             [
              0.5555555555555556,
              "#d8576b"
             ],
             [
              0.6666666666666666,
              "#ed7953"
             ],
             [
              0.7777777777777778,
              "#fb9f3a"
             ],
             [
              0.8888888888888888,
              "#fdca26"
             ],
             [
              1,
              "#f0f921"
             ]
            ],
            "type": "heatmapgl"
           }
          ],
          "histogram": [
           {
            "marker": {
             "pattern": {
              "fillmode": "overlay",
              "size": 10,
              "solidity": 0.2
             }
            },
            "type": "histogram"
           }
          ],
          "histogram2d": [
           {
            "colorbar": {
             "outlinewidth": 0,
             "ticks": ""
            },
            "colorscale": [
             [
              0,
              "#0d0887"
             ],
             [
              0.1111111111111111,
              "#46039f"
             ],
             [
              0.2222222222222222,
              "#7201a8"
             ],
             [
              0.3333333333333333,
              "#9c179e"
             ],
             [
              0.4444444444444444,
              "#bd3786"
             ],
             [
              0.5555555555555556,
              "#d8576b"
             ],
             [
              0.6666666666666666,
              "#ed7953"
             ],
             [
              0.7777777777777778,
              "#fb9f3a"
             ],
             [
              0.8888888888888888,
              "#fdca26"
             ],
             [
              1,
              "#f0f921"
             ]
            ],
            "type": "histogram2d"
           }
          ],
          "histogram2dcontour": [
           {
            "colorbar": {
             "outlinewidth": 0,
             "ticks": ""
            },
            "colorscale": [
             [
              0,
              "#0d0887"
             ],
             [
              0.1111111111111111,
              "#46039f"
             ],
             [
              0.2222222222222222,
              "#7201a8"
             ],
             [
              0.3333333333333333,
              "#9c179e"
             ],
             [
              0.4444444444444444,
              "#bd3786"
             ],
             [
              0.5555555555555556,
              "#d8576b"
             ],
             [
              0.6666666666666666,
              "#ed7953"
             ],
             [
              0.7777777777777778,
              "#fb9f3a"
             ],
             [
              0.8888888888888888,
              "#fdca26"
             ],
             [
              1,
              "#f0f921"
             ]
            ],
            "type": "histogram2dcontour"
           }
          ],
          "mesh3d": [
           {
            "colorbar": {
             "outlinewidth": 0,
             "ticks": ""
            },
            "type": "mesh3d"
           }
          ],
          "parcoords": [
           {
            "line": {
             "colorbar": {
              "outlinewidth": 0,
              "ticks": ""
             }
            },
            "type": "parcoords"
           }
          ],
          "pie": [
           {
            "automargin": true,
            "type": "pie"
           }
          ],
          "scatter": [
           {
            "fillpattern": {
             "fillmode": "overlay",
             "size": 10,
             "solidity": 0.2
            },
            "type": "scatter"
           }
          ],
          "scatter3d": [
           {
            "line": {
             "colorbar": {
              "outlinewidth": 0,
              "ticks": ""
             }
            },
            "marker": {
             "colorbar": {
              "outlinewidth": 0,
              "ticks": ""
             }
            },
            "type": "scatter3d"
           }
          ],
          "scattercarpet": [
           {
            "marker": {
             "colorbar": {
              "outlinewidth": 0,
              "ticks": ""
             }
            },
            "type": "scattercarpet"
           }
          ],
          "scattergeo": [
           {
            "marker": {
             "colorbar": {
              "outlinewidth": 0,
              "ticks": ""
             }
            },
            "type": "scattergeo"
           }
          ],
          "scattergl": [
           {
            "marker": {
             "colorbar": {
              "outlinewidth": 0,
              "ticks": ""
             }
            },
            "type": "scattergl"
           }
          ],
          "scattermapbox": [
           {
            "marker": {
             "colorbar": {
              "outlinewidth": 0,
              "ticks": ""
             }
            },
            "type": "scattermapbox"
           }
          ],
          "scatterpolar": [
           {
            "marker": {
             "colorbar": {
              "outlinewidth": 0,
              "ticks": ""
             }
            },
            "type": "scatterpolar"
           }
          ],
          "scatterpolargl": [
           {
            "marker": {
             "colorbar": {
              "outlinewidth": 0,
              "ticks": ""
             }
            },
            "type": "scatterpolargl"
           }
          ],
          "scatterternary": [
           {
            "marker": {
             "colorbar": {
              "outlinewidth": 0,
              "ticks": ""
             }
            },
            "type": "scatterternary"
           }
          ],
          "surface": [
           {
            "colorbar": {
             "outlinewidth": 0,
             "ticks": ""
            },
            "colorscale": [
             [
              0,
              "#0d0887"
             ],
             [
              0.1111111111111111,
              "#46039f"
             ],
             [
              0.2222222222222222,
              "#7201a8"
             ],
             [
              0.3333333333333333,
              "#9c179e"
             ],
             [
              0.4444444444444444,
              "#bd3786"
             ],
             [
              0.5555555555555556,
              "#d8576b"
             ],
             [
              0.6666666666666666,
              "#ed7953"
             ],
             [
              0.7777777777777778,
              "#fb9f3a"
             ],
             [
              0.8888888888888888,
              "#fdca26"
             ],
             [
              1,
              "#f0f921"
             ]
            ],
            "type": "surface"
           }
          ],
          "table": [
           {
            "cells": {
             "fill": {
              "color": "#EBF0F8"
             },
             "line": {
              "color": "white"
             }
            },
            "header": {
             "fill": {
              "color": "#C8D4E3"
             },
             "line": {
              "color": "white"
             }
            },
            "type": "table"
           }
          ]
         },
         "layout": {
          "annotationdefaults": {
           "arrowcolor": "#2a3f5f",
           "arrowhead": 0,
           "arrowwidth": 1
          },
          "autotypenumbers": "strict",
          "coloraxis": {
           "colorbar": {
            "outlinewidth": 0,
            "ticks": ""
           }
          },
          "colorscale": {
           "diverging": [
            [
             0,
             "#8e0152"
            ],
            [
             0.1,
             "#c51b7d"
            ],
            [
             0.2,
             "#de77ae"
            ],
            [
             0.3,
             "#f1b6da"
            ],
            [
             0.4,
             "#fde0ef"
            ],
            [
             0.5,
             "#f7f7f7"
            ],
            [
             0.6,
             "#e6f5d0"
            ],
            [
             0.7,
             "#b8e186"
            ],
            [
             0.8,
             "#7fbc41"
            ],
            [
             0.9,
             "#4d9221"
            ],
            [
             1,
             "#276419"
            ]
           ],
           "sequential": [
            [
             0,
             "#0d0887"
            ],
            [
             0.1111111111111111,
             "#46039f"
            ],
            [
             0.2222222222222222,
             "#7201a8"
            ],
            [
             0.3333333333333333,
             "#9c179e"
            ],
            [
             0.4444444444444444,
             "#bd3786"
            ],
            [
             0.5555555555555556,
             "#d8576b"
            ],
            [
             0.6666666666666666,
             "#ed7953"
            ],
            [
             0.7777777777777778,
             "#fb9f3a"
            ],
            [
             0.8888888888888888,
             "#fdca26"
            ],
            [
             1,
             "#f0f921"
            ]
           ],
           "sequentialminus": [
            [
             0,
             "#0d0887"
            ],
            [
             0.1111111111111111,
             "#46039f"
            ],
            [
             0.2222222222222222,
             "#7201a8"
            ],
            [
             0.3333333333333333,
             "#9c179e"
            ],
            [
             0.4444444444444444,
             "#bd3786"
            ],
            [
             0.5555555555555556,
             "#d8576b"
            ],
            [
             0.6666666666666666,
             "#ed7953"
            ],
            [
             0.7777777777777778,
             "#fb9f3a"
            ],
            [
             0.8888888888888888,
             "#fdca26"
            ],
            [
             1,
             "#f0f921"
            ]
           ]
          },
          "colorway": [
           "#636efa",
           "#EF553B",
           "#00cc96",
           "#ab63fa",
           "#FFA15A",
           "#19d3f3",
           "#FF6692",
           "#B6E880",
           "#FF97FF",
           "#FECB52"
          ],
          "font": {
           "color": "#2a3f5f"
          },
          "geo": {
           "bgcolor": "white",
           "lakecolor": "white",
           "landcolor": "#E5ECF6",
           "showlakes": true,
           "showland": true,
           "subunitcolor": "white"
          },
          "hoverlabel": {
           "align": "left"
          },
          "hovermode": "closest",
          "mapbox": {
           "style": "light"
          },
          "paper_bgcolor": "white",
          "plot_bgcolor": "#E5ECF6",
          "polar": {
           "angularaxis": {
            "gridcolor": "white",
            "linecolor": "white",
            "ticks": ""
           },
           "bgcolor": "#E5ECF6",
           "radialaxis": {
            "gridcolor": "white",
            "linecolor": "white",
            "ticks": ""
           }
          },
          "scene": {
           "xaxis": {
            "backgroundcolor": "#E5ECF6",
            "gridcolor": "white",
            "gridwidth": 2,
            "linecolor": "white",
            "showbackground": true,
            "ticks": "",
            "zerolinecolor": "white"
           },
           "yaxis": {
            "backgroundcolor": "#E5ECF6",
            "gridcolor": "white",
            "gridwidth": 2,
            "linecolor": "white",
            "showbackground": true,
            "ticks": "",
            "zerolinecolor": "white"
           },
           "zaxis": {
            "backgroundcolor": "#E5ECF6",
            "gridcolor": "white",
            "gridwidth": 2,
            "linecolor": "white",
            "showbackground": true,
            "ticks": "",
            "zerolinecolor": "white"
           }
          },
          "shapedefaults": {
           "line": {
            "color": "#2a3f5f"
           }
          },
          "ternary": {
           "aaxis": {
            "gridcolor": "white",
            "linecolor": "white",
            "ticks": ""
           },
           "baxis": {
            "gridcolor": "white",
            "linecolor": "white",
            "ticks": ""
           },
           "bgcolor": "#E5ECF6",
           "caxis": {
            "gridcolor": "white",
            "linecolor": "white",
            "ticks": ""
           }
          },
          "title": {
           "x": 0.05
          },
          "xaxis": {
           "automargin": true,
           "gridcolor": "white",
           "linecolor": "white",
           "ticks": "",
           "title": {
            "standoff": 15
           },
           "zerolinecolor": "white",
           "zerolinewidth": 2
          },
          "yaxis": {
           "automargin": true,
           "gridcolor": "white",
           "linecolor": "white",
           "ticks": "",
           "title": {
            "standoff": 15
           },
           "zerolinecolor": "white",
           "zerolinewidth": 2
          }
         }
        },
        "width": 1200,
        "xaxis": {
         "anchor": "y",
         "domain": [
          0,
          0.2888888888888889
         ]
        },
        "xaxis2": {
         "anchor": "y2",
         "domain": [
          0.35555555555555557,
          0.6444444444444445
         ]
        },
        "xaxis3": {
         "anchor": "y3",
         "domain": [
          0.7111111111111111,
          1
         ]
        },
        "yaxis": {
         "anchor": "x",
         "domain": [
          0,
          1
         ]
        },
        "yaxis2": {
         "anchor": "x2",
         "domain": [
          0,
          1
         ]
        },
        "yaxis3": {
         "anchor": "x3",
         "domain": [
          0,
          1
         ]
        }
       }
      }
     },
     "metadata": {},
     "output_type": "display_data"
    }
   ],
   "source": [
    "p.plot_hist(p.make_hist(cols, n_bins=10))"
   ]
  },
  {
   "attachments": {},
   "cell_type": "markdown",
   "metadata": {},
   "source": [
    "# Trend/Time-Series"
   ]
  },
  {
   "attachments": {},
   "cell_type": "markdown",
   "metadata": {},
   "source": [
    "## DateUtils\n"
   ]
  },
  {
   "cell_type": "code",
   "execution_count": 279,
   "metadata": {},
   "outputs": [
    {
     "data": {
      "text/plain": [
       "False"
      ]
     },
     "execution_count": 279,
     "metadata": {},
     "output_type": "execute_result"
    }
   ],
   "source": [
    "date_cols = 'date'\n",
    "not isinstance(date_cols, str)"
   ]
  },
  {
   "cell_type": "code",
   "execution_count": 311,
   "metadata": {},
   "outputs": [],
   "source": [
    "import logging\n",
    "\n",
    "class DateFormatError(Exception):\n",
    "    def __init__(self, message:str=''):\n",
    "        self.message = message\n",
    "        super().__init__(self.message)\n",
    "# need to assume that we can get a year-month axis out of whatever dates we have\n",
    "# pyspark\n",
    "def format_dates(self, date_cols):\n",
    "    '''Takes dataframe and ensures a consistent year_month time axis'''\n",
    "    if self.date_format == 'list' and len(date_cols) == 2:\n",
    "        # assume year/month\n",
    "        if 'Year' in date_cols and 'Month' in date_cols:\n",
    "            self.dd = self.dd.withColumn('year_month', F.expr('make_date(Year, Month, 1)'))\n",
    "        elif 'year' in date_cols and 'month' in date_cols:\n",
    "            self.dd = self.dd.withColumn('year_month', F.expr('make_date(Year, Month, 1)'))\n",
    "        else:\n",
    "            raise DateFormatError(f'Date column format {date_cols} not recognized')\n",
    "    elif self.date_format == 'american':\n",
    "        if type(date_cols) is not str:\n",
    "            raise DateFormatError(f'If date_format=american, type of date_cols must be string, type of date_cols is {type(date_cols)}')\n",
    "        # dd/MM/yyyy\n",
    "        self.dd = self.dd.withColumn('year_month', F.to_date(self.date_cols, 'dd/MM/yyyy'))\n",
    "        self.dd = self.dd.withColumn('year_month', F.expr('make_date(Year(year_month), Month(year_month), Day(year_month)'))\n",
    "        \n",
    "    elif self.date_format == 'julian':\n",
    "        # yyyy/DD\n",
    "        if type(date_cols) is not str:\n",
    "            raise DateFormatError(f'If date_format=american, type of date_cols must be string, type of date_cols is {type(date_cols)}')\n",
    "        self.dd = self.dd.withColumn('year_month', F.to_date(self.date_cols, 'yyyy/DDD'))\n",
    "        self.dd = self.dd.withColumn('year_month', F.expr('make_date(Year(year_month), Month(year_month), Day(year_month)'))\n",
    "    else:\n",
    "        try:\n",
    "            self.dd = self.dd.withColumn('year_month', F.to_date(date_cols, self.date_format))\n",
    "            self.dd = self.dd.withColumn('year_month', F.expr('make_date(Year(year_month), Month(year_month), 1'))\n",
    "        except Exception as e:\n",
    "            logging.error(f'Date formatting failed: {e}')\n",
    "\n",
    "    return self.dd\n",
    "\n",
    "\n",
    "def make_ts(self, cols):\n",
    "    pass\n",
    "\n",
    "class Explorer: pass\n",
    "\n",
    "Explorer.format_dates = format_dates\n",
    "e = Explorer()\n",
    "e.target_col = 'bin_target'\n",
    "e.date_cols = ['year', 'month']\n",
    "# need to specify date-format, 'list', 'american', 'julian'\n",
    "e.date_format = 'list' \n",
    "e.dd = dd"
   ]
  },
  {
   "cell_type": "code",
   "execution_count": 416,
   "metadata": {},
   "outputs": [],
   "source": [
    "# pandas\n",
    "def format_dates(self, date_cols):\n",
    "    '''Takes dataframe and ensures a consistent year_month time axis'''\n",
    "    try:\n",
    "        if self.date_format == 'list' and len(date_cols) == 2:\n",
    "            # assume year/month\n",
    "            if 'Year' in date_cols and 'Month' in date_cols:\n",
    "                self.df['year_month'] = pd.to_datetime(dict(year=self.df['Year'], month=self.df['Month'], day=1))\n",
    "            elif 'year' in date_cols and 'month' in date_cols:\n",
    "                self.df['year_month'] = pd.to_datetime(dict(year=self.df['year'], month=self.df['month'], day=1))\n",
    "            else:\n",
    "                raise DateFormatError(f'Date column format {date_cols} not recognized')\n",
    "\n",
    "        elif self.date_format == 'american':\n",
    "            if type(date_cols) is not str:\n",
    "                raise DateFormatError(f'If date_format=american, type of date_cols must be string, type of date_cols is {type(date_cols)}')\n",
    "            # dd/MM/yyyy\n",
    "            self.df['year_month'] = pd.to_datetime(self.df[date_cols], format='%d-%m-%y')\n",
    "            \n",
    "        elif self.date_format == 'julian':\n",
    "            # yyyy/DD\n",
    "            if type(date_cols) is not str:\n",
    "                raise DateFormatError(f'If date_format=american, type of date_cols must be string, type of date_cols is {type(date_cols)}')\n",
    "            self.df['year_month'] = pd.to_datetime(self.df[date_cols], format='%Y%j')\n",
    "    except Exception as e:\n",
    "        logging.error('Manual date formatting failed')\n",
    "        try:\n",
    "            self.df['year_month'] = pd.to_datetime(self.df[date_cols], errors='raise')\n",
    "        except Exception as e:\n",
    "            logging.error(f'Date formatting failed: {e}')\n",
    "            return\n",
    "        else:\n",
    "            return self.df\n",
    "    else:\n",
    "        return self.df\n",
    "\n",
    "class PandasExplorer: pass\n",
    "PandasExplorer.format_dates = format_dates\n",
    "p = PandasExplorer()\n",
    "p.date_cols = 'american_date' \n",
    "p.date_format = 'julian'\n",
    "p.df = df\n"
   ]
  },
  {
   "cell_type": "code",
   "execution_count": 417,
   "metadata": {},
   "outputs": [
    {
     "name": "stderr",
     "output_type": "stream",
     "text": [
      "/tmp/ipykernel_33386/3847663805.py:1: SettingWithCopyWarning:\n",
      "\n",
      "\n",
      "A value is trying to be set on a copy of a slice from a DataFrame.\n",
      "Try using .loc[row_indexer,col_indexer] = value instead\n",
      "\n",
      "See the caveats in the documentation: https://pandas.pydata.org/pandas-docs/stable/user_guide/indexing.html#returning-a-view-versus-a-copy\n",
      "\n",
      "/tmp/ipykernel_33386/3847663805.py:2: SettingWithCopyWarning:\n",
      "\n",
      "\n",
      "A value is trying to be set on a copy of a slice from a DataFrame.\n",
      "Try using .loc[row_indexer,col_indexer] = value instead\n",
      "\n",
      "See the caveats in the documentation: https://pandas.pydata.org/pandas-docs/stable/user_guide/indexing.html#returning-a-view-versus-a-copy\n",
      "\n"
     ]
    },
    {
     "data": {
      "text/html": [
       "<div>\n",
       "<style scoped>\n",
       "    .dataframe tbody tr th:only-of-type {\n",
       "        vertical-align: middle;\n",
       "    }\n",
       "\n",
       "    .dataframe tbody tr th {\n",
       "        vertical-align: top;\n",
       "    }\n",
       "\n",
       "    .dataframe thead th {\n",
       "        text-align: right;\n",
       "    }\n",
       "</style>\n",
       "<table border=\"1\" class=\"dataframe\">\n",
       "  <thead>\n",
       "    <tr style=\"text-align: right;\">\n",
       "      <th></th>\n",
       "      <th>id</th>\n",
       "      <th>year</th>\n",
       "      <th>month</th>\n",
       "      <th>num1</th>\n",
       "      <th>num2</th>\n",
       "      <th>cat1</th>\n",
       "      <th>bin_target</th>\n",
       "      <th>multi_target</th>\n",
       "      <th>julian_date</th>\n",
       "      <th>american_date</th>\n",
       "      <th>year_month</th>\n",
       "    </tr>\n",
       "  </thead>\n",
       "  <tbody>\n",
       "    <tr>\n",
       "      <th>0</th>\n",
       "      <td>A</td>\n",
       "      <td>2023</td>\n",
       "      <td>1.0</td>\n",
       "      <td>1038.700744</td>\n",
       "      <td>-124.516033</td>\n",
       "      <td>c</td>\n",
       "      <td>1</td>\n",
       "      <td>-1</td>\n",
       "      <td>2023001</td>\n",
       "      <td>01-01-2023</td>\n",
       "      <td>2023-01-01</td>\n",
       "    </tr>\n",
       "    <tr>\n",
       "      <th>1</th>\n",
       "      <td>A</td>\n",
       "      <td>2023</td>\n",
       "      <td>2.0</td>\n",
       "      <td>1080.922140</td>\n",
       "      <td>-116.139286</td>\n",
       "      <td>b</td>\n",
       "      <td>1</td>\n",
       "      <td>0</td>\n",
       "      <td>2023032</td>\n",
       "      <td>01-02-2023</td>\n",
       "      <td>2023-01-02</td>\n",
       "    </tr>\n",
       "    <tr>\n",
       "      <th>2</th>\n",
       "      <td>A</td>\n",
       "      <td>2023</td>\n",
       "      <td>3.0</td>\n",
       "      <td>1128.626480</td>\n",
       "      <td>301.296995</td>\n",
       "      <td>c</td>\n",
       "      <td>1</td>\n",
       "      <td>0</td>\n",
       "      <td>2023060</td>\n",
       "      <td>01-03-2023</td>\n",
       "      <td>2023-01-03</td>\n",
       "    </tr>\n",
       "    <tr>\n",
       "      <th>3</th>\n",
       "      <td>A</td>\n",
       "      <td>2023</td>\n",
       "      <td>4.0</td>\n",
       "      <td>978.441120</td>\n",
       "      <td>-80.501943</td>\n",
       "      <td>b</td>\n",
       "      <td>0</td>\n",
       "      <td>-1</td>\n",
       "      <td>2023091</td>\n",
       "      <td>01-04-2023</td>\n",
       "      <td>2023-01-04</td>\n",
       "    </tr>\n",
       "    <tr>\n",
       "      <th>4</th>\n",
       "      <td>A</td>\n",
       "      <td>2023</td>\n",
       "      <td>5.0</td>\n",
       "      <td>999.998574</td>\n",
       "      <td>-146.217577</td>\n",
       "      <td>b</td>\n",
       "      <td>1</td>\n",
       "      <td>1</td>\n",
       "      <td>2023121</td>\n",
       "      <td>01-05-2023</td>\n",
       "      <td>2023-01-05</td>\n",
       "    </tr>\n",
       "  </tbody>\n",
       "</table>\n",
       "</div>"
      ],
      "text/plain": [
       "  id  year  month         num1        num2 cat1  bin_target  multi_target  \\\n",
       "0  A  2023    1.0  1038.700744 -124.516033    c           1            -1   \n",
       "1  A  2023    2.0  1080.922140 -116.139286    b           1             0   \n",
       "2  A  2023    3.0  1128.626480  301.296995    c           1             0   \n",
       "3  A  2023    4.0   978.441120  -80.501943    b           0            -1   \n",
       "4  A  2023    5.0   999.998574 -146.217577    b           1             1   \n",
       "\n",
       "  julian_date american_date year_month  \n",
       "0     2023001    01-01-2023 2023-01-01  \n",
       "1     2023032    01-02-2023 2023-01-02  \n",
       "2     2023060    01-03-2023 2023-01-03  \n",
       "3     2023091    01-04-2023 2023-01-04  \n",
       "4     2023121    01-05-2023 2023-01-05  "
      ]
     },
     "execution_count": 417,
     "metadata": {},
     "output_type": "execute_result"
    }
   ],
   "source": [
    "df['julian_date'] = pd.to_datetime(dict(year=df['year'], month=df['month'], day=1)).dt.strftime('%Y%j')\n",
    "df['american_date'] = pd.to_datetime(dict(year=df['year'], month=df['month'], day=1)).dt.strftime('%d-%m-%Y')\n",
    "df.head()"
   ]
  },
  {
   "cell_type": "code",
   "execution_count": 502,
   "metadata": {},
   "outputs": [
    {
     "name": "stdout",
     "output_type": "stream",
     "text": [
      "<class '__main__.PandasDateUtil'>\n"
     ]
    }
   ],
   "source": [
    "from typing import Union, List\n",
    "import pyspark.sql.functions as F\n",
    "from pandas import to_datetime\n",
    "\n",
    "class DateFormatError(Exception):\n",
    "    def __init__(self, message:str=''):\n",
    "        self.message = message\n",
    "        super().__init__(self.message)\n",
    "\n",
    "class SparkDateUtil(object):\n",
    "    \"\"\"Used to create a consistent year-month column in pyspark dataframes\n",
    "\n",
    "    Supported arguments to create_yearmonth are:\n",
    "        df: a pyspark dataframe\n",
    "        date_cols: either a list ('year', 'month') \n",
    "        format: a format specified in _DATE_FORMAT_MAP OR 'list' if date_cols is a list \n",
    "\n",
    "    Example usage:\n",
    "        df = # pyspark dataframe\n",
    "        df = SparkDateUtil.create_yearmonth(df, date_cols=['year', 'month'], format='list')\n",
    "\n",
    "    Raises:\n",
    "        DateFormatError: if the number of date-columns is more than 3\n",
    "        ValueError: thrown from the spark to_date method \n",
    "    \n",
    "    \"\"\"\n",
    "    _DATE_FORMAT_MAP = {\n",
    "        'american': '%m%d%y', \n",
    "        'julian': '%Y%j', \n",
    "        'iso': '%y%m%d', \n",
    "        'american_dash': '%m-%d-%y', \n",
    "        'american_fwslash': '%m/%d/%y',\n",
    "        'julian_dash': '%Y-%j',\n",
    "        'julian_fwslash': '%Y/%j',\n",
    "        'iso_dash': '%y-%m-%d',\n",
    "        'iso_fwslash': '%y/%m/%d'\n",
    "    }\n",
    "    @staticmethod\n",
    "    def create_yearmonth(df, date_cols:Union[List, str], format: str):\n",
    "        if format == 'list':\n",
    "            if len(date_cols) > 3:\n",
    "                raise DateFormatError('Year, Month and Day alone supported')\n",
    "            if len(date_cols) == 2:\n",
    "                # year and month OR Year and Month\n",
    "                if 'year' in date_cols and 'month' in date_cols:\n",
    "                    df = SparkDateUtil._create_spark_yearmonth_from_list(df, date_cols)\n",
    "                if 'Year' in date_cols and 'Month' in date_cols:\n",
    "                    df = SparkDateUtil._create_spark_yearmonth_from_list(df, date_cols)\n",
    "\n",
    "        else:\n",
    "            df = df.withColumn('year_month', F.to_date(F.col(date_cols), format=SparkDateUtil._DATE_FORMAT_MAP[format]))\n",
    "\n",
    "\n",
    "        return df\n",
    "\n",
    "    @staticmethod\n",
    "    def _create_spark_yearmonth_from_list(df, date_cols):\n",
    "        if len(date_cols) == 2:\n",
    "            return df.withColumn('year_month', F.expr(f'make_date({date_cols[0]}, {date_cols[1]}, 1)'))\n",
    "        elif len(date_cols) == 3: \n",
    "            return df.withColumn('year_month', F.expr(f'make_date({date_cols[0]}, {date_cols[1]}, {date_cols[2]})'))\n",
    "\n",
    "class PandasDateUtil(object):\n",
    "    \"\"\"Used to create a consistent year-month column in pandas dataframes\n",
    "\n",
    "    Supported arguments to create_yearmonth are:\n",
    "        df: a Pandas dataframe\n",
    "        date_cols: either a list ('year', 'month') \n",
    "        format: a format specified in _DATE_FORMAT_MAP OR 'list' if date_cols is a list \n",
    "\n",
    "    Example usage:\n",
    "        df = # pandas dataframe\n",
    "        df = PandasDateUtil.create_yearmonth(df, date_cols=['year', 'month'], format='list')\n",
    "\n",
    "    Raises:\n",
    "        DateFormatError: if the number of date-columns is more than 3\n",
    "        ValueError: thrown from pandas in the to_datetime method\n",
    "    \n",
    "    \"\"\"\n",
    "    _DATE_FORMAT_MAP = {\n",
    "        'american': '%m%d%Y', \n",
    "        'julian': '%Y%j', \n",
    "        'iso': '%Y%m%d', \n",
    "        'american_dash': '%m-%d-%Y', \n",
    "        'american_fwslash': '%m/%d/%Y',\n",
    "        'julian_dash': '%Y-%j',\n",
    "        'julian_fwslash': '%Y/%j',\n",
    "        'iso_dash': '%Y-%m-%d',\n",
    "        'iso_fwslash': '%Y/%m/%d'\n",
    "    }\n",
    "    @staticmethod\n",
    "    def create_yearmonth(df, date_cols:Union[List, str], format: str):\n",
    "        if format == 'list':\n",
    "            if len(date_cols) > 3:\n",
    "                raise DateFormatError('Year, Month and Day alone supported')\n",
    "            if len(date_cols) == 2:\n",
    "                # year and month OR Year and Month\n",
    "                if 'year' in date_cols and 'month' in date_cols:\n",
    "                    return df.assign(year_month=to_datetime(dict(\n",
    "                        year=df.year,\n",
    "                        month=df.month,\n",
    "                        day=1\n",
    "                    )))\n",
    "                elif 'Year' in date_cols and 'Month' in date_cols:\n",
    "                    return df.assign(year_month=to_datetime(dict(\n",
    "                        year=df.Year,\n",
    "                        month=df.month,\n",
    "                        day=1\n",
    "                    )))\n",
    "        else:\n",
    "            if PandasDateUtil._DATE_FORMAT_MAP.get(format, None) is not None:\n",
    "\n",
    "                logging.debug(PandasDateUtil._DATE_FORMAT_MAP[format])\n",
    "                return df.assign(year_month=to_datetime(df[date_cols], format=PandasDateUtil._DATE_FORMAT_MAP.get(format, None)))\n",
    "            else:\n",
    "                return df.assign(year_month=to_datetime(df[date_cols]))\n"
   ]
  },
  {
   "cell_type": "code",
   "execution_count": 496,
   "metadata": {},
   "outputs": [
    {
     "name": "stderr",
     "output_type": "stream",
     "text": [
      "DEBUG:root:%m-%d-%Y\n"
     ]
    },
    {
     "data": {
      "text/html": [
       "<div>\n",
       "<style scoped>\n",
       "    .dataframe tbody tr th:only-of-type {\n",
       "        vertical-align: middle;\n",
       "    }\n",
       "\n",
       "    .dataframe tbody tr th {\n",
       "        vertical-align: top;\n",
       "    }\n",
       "\n",
       "    .dataframe thead th {\n",
       "        text-align: right;\n",
       "    }\n",
       "</style>\n",
       "<table border=\"1\" class=\"dataframe\">\n",
       "  <thead>\n",
       "    <tr style=\"text-align: right;\">\n",
       "      <th></th>\n",
       "      <th>id</th>\n",
       "      <th>year</th>\n",
       "      <th>month</th>\n",
       "      <th>num1</th>\n",
       "      <th>num2</th>\n",
       "      <th>cat1</th>\n",
       "      <th>bin_target</th>\n",
       "      <th>multi_target</th>\n",
       "      <th>julian_date</th>\n",
       "      <th>american_date</th>\n",
       "      <th>year_month</th>\n",
       "    </tr>\n",
       "  </thead>\n",
       "  <tbody>\n",
       "    <tr>\n",
       "      <th>0</th>\n",
       "      <td>A</td>\n",
       "      <td>2023</td>\n",
       "      <td>1.0</td>\n",
       "      <td>1038.700744</td>\n",
       "      <td>-124.516033</td>\n",
       "      <td>c</td>\n",
       "      <td>1</td>\n",
       "      <td>-1</td>\n",
       "      <td>2023001</td>\n",
       "      <td>01-01-2023</td>\n",
       "      <td>2023-01-01</td>\n",
       "    </tr>\n",
       "    <tr>\n",
       "      <th>1</th>\n",
       "      <td>A</td>\n",
       "      <td>2023</td>\n",
       "      <td>2.0</td>\n",
       "      <td>1080.922140</td>\n",
       "      <td>-116.139286</td>\n",
       "      <td>b</td>\n",
       "      <td>1</td>\n",
       "      <td>0</td>\n",
       "      <td>2023032</td>\n",
       "      <td>01-02-2023</td>\n",
       "      <td>2023-01-02</td>\n",
       "    </tr>\n",
       "    <tr>\n",
       "      <th>2</th>\n",
       "      <td>A</td>\n",
       "      <td>2023</td>\n",
       "      <td>3.0</td>\n",
       "      <td>1128.626480</td>\n",
       "      <td>301.296995</td>\n",
       "      <td>c</td>\n",
       "      <td>1</td>\n",
       "      <td>0</td>\n",
       "      <td>2023060</td>\n",
       "      <td>01-03-2023</td>\n",
       "      <td>2023-01-03</td>\n",
       "    </tr>\n",
       "    <tr>\n",
       "      <th>3</th>\n",
       "      <td>A</td>\n",
       "      <td>2023</td>\n",
       "      <td>4.0</td>\n",
       "      <td>978.441120</td>\n",
       "      <td>-80.501943</td>\n",
       "      <td>b</td>\n",
       "      <td>0</td>\n",
       "      <td>-1</td>\n",
       "      <td>2023091</td>\n",
       "      <td>01-04-2023</td>\n",
       "      <td>2023-01-04</td>\n",
       "    </tr>\n",
       "    <tr>\n",
       "      <th>4</th>\n",
       "      <td>A</td>\n",
       "      <td>2023</td>\n",
       "      <td>5.0</td>\n",
       "      <td>999.998574</td>\n",
       "      <td>-146.217577</td>\n",
       "      <td>b</td>\n",
       "      <td>1</td>\n",
       "      <td>1</td>\n",
       "      <td>2023121</td>\n",
       "      <td>01-05-2023</td>\n",
       "      <td>2023-01-05</td>\n",
       "    </tr>\n",
       "    <tr>\n",
       "      <th>5</th>\n",
       "      <td>A</td>\n",
       "      <td>2023</td>\n",
       "      <td>6.0</td>\n",
       "      <td>1078.113199</td>\n",
       "      <td>-28.030055</td>\n",
       "      <td>a</td>\n",
       "      <td>1</td>\n",
       "      <td>0</td>\n",
       "      <td>2023152</td>\n",
       "      <td>01-06-2023</td>\n",
       "      <td>2023-01-06</td>\n",
       "    </tr>\n",
       "    <tr>\n",
       "      <th>6</th>\n",
       "      <td>A</td>\n",
       "      <td>2023</td>\n",
       "      <td>7.0</td>\n",
       "      <td>1139.008626</td>\n",
       "      <td>31.238760</td>\n",
       "      <td>a</td>\n",
       "      <td>1</td>\n",
       "      <td>1</td>\n",
       "      <td>2023182</td>\n",
       "      <td>01-07-2023</td>\n",
       "      <td>2023-01-07</td>\n",
       "    </tr>\n",
       "    <tr>\n",
       "      <th>7</th>\n",
       "      <td>A</td>\n",
       "      <td>2023</td>\n",
       "      <td>8.0</td>\n",
       "      <td>1013.242755</td>\n",
       "      <td>28.849862</td>\n",
       "      <td>c</td>\n",
       "      <td>1</td>\n",
       "      <td>0</td>\n",
       "      <td>2023213</td>\n",
       "      <td>01-08-2023</td>\n",
       "      <td>2023-01-08</td>\n",
       "    </tr>\n",
       "    <tr>\n",
       "      <th>8</th>\n",
       "      <td>A</td>\n",
       "      <td>2023</td>\n",
       "      <td>9.0</td>\n",
       "      <td>821.242266</td>\n",
       "      <td>126.548980</td>\n",
       "      <td>c</td>\n",
       "      <td>1</td>\n",
       "      <td>0</td>\n",
       "      <td>2023244</td>\n",
       "      <td>01-09-2023</td>\n",
       "      <td>2023-01-09</td>\n",
       "    </tr>\n",
       "    <tr>\n",
       "      <th>9</th>\n",
       "      <td>A</td>\n",
       "      <td>2023</td>\n",
       "      <td>10.0</td>\n",
       "      <td>1003.563961</td>\n",
       "      <td>137.037371</td>\n",
       "      <td>c</td>\n",
       "      <td>1</td>\n",
       "      <td>0</td>\n",
       "      <td>2023274</td>\n",
       "      <td>01-10-2023</td>\n",
       "      <td>2023-01-10</td>\n",
       "    </tr>\n",
       "    <tr>\n",
       "      <th>10</th>\n",
       "      <td>A</td>\n",
       "      <td>2023</td>\n",
       "      <td>11.0</td>\n",
       "      <td>982.852194</td>\n",
       "      <td>-23.528240</td>\n",
       "      <td>c</td>\n",
       "      <td>1</td>\n",
       "      <td>1</td>\n",
       "      <td>2023305</td>\n",
       "      <td>01-11-2023</td>\n",
       "      <td>2023-01-11</td>\n",
       "    </tr>\n",
       "    <tr>\n",
       "      <th>11</th>\n",
       "      <td>A</td>\n",
       "      <td>2023</td>\n",
       "      <td>12.0</td>\n",
       "      <td>1044.387001</td>\n",
       "      <td>-128.562471</td>\n",
       "      <td>b</td>\n",
       "      <td>1</td>\n",
       "      <td>0</td>\n",
       "      <td>2023335</td>\n",
       "      <td>01-12-2023</td>\n",
       "      <td>2023-01-12</td>\n",
       "    </tr>\n",
       "  </tbody>\n",
       "</table>\n",
       "</div>"
      ],
      "text/plain": [
       "   id  year  month         num1        num2 cat1  bin_target  multi_target  \\\n",
       "0   A  2023    1.0  1038.700744 -124.516033    c           1            -1   \n",
       "1   A  2023    2.0  1080.922140 -116.139286    b           1             0   \n",
       "2   A  2023    3.0  1128.626480  301.296995    c           1             0   \n",
       "3   A  2023    4.0   978.441120  -80.501943    b           0            -1   \n",
       "4   A  2023    5.0   999.998574 -146.217577    b           1             1   \n",
       "5   A  2023    6.0  1078.113199  -28.030055    a           1             0   \n",
       "6   A  2023    7.0  1139.008626   31.238760    a           1             1   \n",
       "7   A  2023    8.0  1013.242755   28.849862    c           1             0   \n",
       "8   A  2023    9.0   821.242266  126.548980    c           1             0   \n",
       "9   A  2023   10.0  1003.563961  137.037371    c           1             0   \n",
       "10  A  2023   11.0   982.852194  -23.528240    c           1             1   \n",
       "11  A  2023   12.0  1044.387001 -128.562471    b           1             0   \n",
       "\n",
       "   julian_date american_date year_month  \n",
       "0      2023001    01-01-2023 2023-01-01  \n",
       "1      2023032    01-02-2023 2023-01-02  \n",
       "2      2023060    01-03-2023 2023-01-03  \n",
       "3      2023091    01-04-2023 2023-01-04  \n",
       "4      2023121    01-05-2023 2023-01-05  \n",
       "5      2023152    01-06-2023 2023-01-06  \n",
       "6      2023182    01-07-2023 2023-01-07  \n",
       "7      2023213    01-08-2023 2023-01-08  \n",
       "8      2023244    01-09-2023 2023-01-09  \n",
       "9      2023274    01-10-2023 2023-01-10  \n",
       "10     2023305    01-11-2023 2023-01-11  \n",
       "11     2023335    01-12-2023 2023-01-12  "
      ]
     },
     "execution_count": 496,
     "metadata": {},
     "output_type": "execute_result"
    }
   ],
   "source": [
    "logger = logging.getLogger()\n",
    "logger.setLevel(logging.DEBUG)\n",
    "PandasDateUtil.create_yearmonth(df, 'american_date', format='american_dash')"
   ]
  },
  {
   "cell_type": "code",
   "execution_count": 533,
   "metadata": {},
   "outputs": [],
   "source": [
    "# pyspark\n",
    "def plot_trend(self, cols):\n",
    "    if 'year_month' not in self.dd.columns:\n",
    "        raise KeyError('year_month must be in dataframe') \n",
    "\n",
    "    # mean aggs\n",
    "    mean_agg = [F.mean(col).alias(f'mean_col') for col in cols]\n",
    "    max_agg = [F.max(col).alias(f'max_col') for col in cols]\n",
    "    min_agg = [F.min(col).alias(f'min_col') for col in cols]\n",
    "    std_agg = [F.stddev(col).alias(f'stddev_col') for col in cols]\n",
    "    trend = self.dd.groupBy([self.target, 'year_month']).agg(*[*mean_agg, *max_agg, *min_agg, *std_agg]).toPandas()\n",
    "    for target_val in trend[self.target].unique():\n",
    "        # plot here\n",
    "\n",
    "class Explorer: pass\n",
    "Explorer.plot_trend = plot_trend\n",
    "e = Explorer()\n",
    "e.target = 'bin_target'\n",
    "e.dd = dd"
   ]
  },
  {
   "cell_type": "code",
   "execution_count": 534,
   "metadata": {},
   "outputs": [
    {
     "data": {
      "text/html": [
       "<div>\n",
       "<style scoped>\n",
       "    .dataframe tbody tr th:only-of-type {\n",
       "        vertical-align: middle;\n",
       "    }\n",
       "\n",
       "    .dataframe tbody tr th {\n",
       "        vertical-align: top;\n",
       "    }\n",
       "\n",
       "    .dataframe thead th {\n",
       "        text-align: right;\n",
       "    }\n",
       "</style>\n",
       "<table border=\"1\" class=\"dataframe\">\n",
       "  <thead>\n",
       "    <tr style=\"text-align: right;\">\n",
       "      <th></th>\n",
       "      <th>bin_target</th>\n",
       "      <th>year_month</th>\n",
       "      <th>mean_col</th>\n",
       "      <th>max_col</th>\n",
       "      <th>min_col</th>\n",
       "      <th>min_col</th>\n",
       "    </tr>\n",
       "  </thead>\n",
       "  <tbody>\n",
       "    <tr>\n",
       "      <th>0</th>\n",
       "      <td>1</td>\n",
       "      <td>2023-07-01</td>\n",
       "      <td>1139.008626</td>\n",
       "      <td>1139.008626</td>\n",
       "      <td>1139.008626</td>\n",
       "      <td>NaN</td>\n",
       "    </tr>\n",
       "    <tr>\n",
       "      <th>1</th>\n",
       "      <td>1</td>\n",
       "      <td>2023-01-01</td>\n",
       "      <td>1038.700744</td>\n",
       "      <td>1038.700744</td>\n",
       "      <td>1038.700744</td>\n",
       "      <td>NaN</td>\n",
       "    </tr>\n",
       "    <tr>\n",
       "      <th>2</th>\n",
       "      <td>1</td>\n",
       "      <td>2023-08-01</td>\n",
       "      <td>1013.242755</td>\n",
       "      <td>1013.242755</td>\n",
       "      <td>1013.242755</td>\n",
       "      <td>NaN</td>\n",
       "    </tr>\n",
       "    <tr>\n",
       "      <th>3</th>\n",
       "      <td>1</td>\n",
       "      <td>2023-06-01</td>\n",
       "      <td>1078.113199</td>\n",
       "      <td>1078.113199</td>\n",
       "      <td>1078.113199</td>\n",
       "      <td>NaN</td>\n",
       "    </tr>\n",
       "    <tr>\n",
       "      <th>4</th>\n",
       "      <td>1</td>\n",
       "      <td>2023-02-01</td>\n",
       "      <td>1080.922140</td>\n",
       "      <td>1080.922140</td>\n",
       "      <td>1080.922140</td>\n",
       "      <td>NaN</td>\n",
       "    </tr>\n",
       "    <tr>\n",
       "      <th>5</th>\n",
       "      <td>1</td>\n",
       "      <td>2023-03-01</td>\n",
       "      <td>1128.626480</td>\n",
       "      <td>1128.626480</td>\n",
       "      <td>1128.626480</td>\n",
       "      <td>NaN</td>\n",
       "    </tr>\n",
       "    <tr>\n",
       "      <th>6</th>\n",
       "      <td>1</td>\n",
       "      <td>2023-05-01</td>\n",
       "      <td>999.998574</td>\n",
       "      <td>999.998574</td>\n",
       "      <td>999.998574</td>\n",
       "      <td>NaN</td>\n",
       "    </tr>\n",
       "    <tr>\n",
       "      <th>7</th>\n",
       "      <td>0</td>\n",
       "      <td>2023-04-01</td>\n",
       "      <td>978.441120</td>\n",
       "      <td>978.441120</td>\n",
       "      <td>978.441120</td>\n",
       "      <td>NaN</td>\n",
       "    </tr>\n",
       "    <tr>\n",
       "      <th>8</th>\n",
       "      <td>1</td>\n",
       "      <td>2023-11-01</td>\n",
       "      <td>982.852194</td>\n",
       "      <td>982.852194</td>\n",
       "      <td>982.852194</td>\n",
       "      <td>NaN</td>\n",
       "    </tr>\n",
       "    <tr>\n",
       "      <th>9</th>\n",
       "      <td>1</td>\n",
       "      <td>None</td>\n",
       "      <td>1000.377346</td>\n",
       "      <td>1263.121235</td>\n",
       "      <td>770.926264</td>\n",
       "      <td>90.336798</td>\n",
       "    </tr>\n",
       "    <tr>\n",
       "      <th>10</th>\n",
       "      <td>1</td>\n",
       "      <td>2023-10-01</td>\n",
       "      <td>1003.563961</td>\n",
       "      <td>1003.563961</td>\n",
       "      <td>1003.563961</td>\n",
       "      <td>NaN</td>\n",
       "    </tr>\n",
       "    <tr>\n",
       "      <th>11</th>\n",
       "      <td>1</td>\n",
       "      <td>2023-12-01</td>\n",
       "      <td>1044.387001</td>\n",
       "      <td>1044.387001</td>\n",
       "      <td>1044.387001</td>\n",
       "      <td>NaN</td>\n",
       "    </tr>\n",
       "    <tr>\n",
       "      <th>12</th>\n",
       "      <td>1</td>\n",
       "      <td>2023-09-01</td>\n",
       "      <td>821.242266</td>\n",
       "      <td>821.242266</td>\n",
       "      <td>821.242266</td>\n",
       "      <td>NaN</td>\n",
       "    </tr>\n",
       "    <tr>\n",
       "      <th>13</th>\n",
       "      <td>0</td>\n",
       "      <td>None</td>\n",
       "      <td>987.775674</td>\n",
       "      <td>1131.873139</td>\n",
       "      <td>806.500135</td>\n",
       "      <td>95.790959</td>\n",
       "    </tr>\n",
       "  </tbody>\n",
       "</table>\n",
       "</div>"
      ],
      "text/plain": [
       "    bin_target  year_month     mean_col      max_col      min_col    min_col\n",
       "0            1  2023-07-01  1139.008626  1139.008626  1139.008626        NaN\n",
       "1            1  2023-01-01  1038.700744  1038.700744  1038.700744        NaN\n",
       "2            1  2023-08-01  1013.242755  1013.242755  1013.242755        NaN\n",
       "3            1  2023-06-01  1078.113199  1078.113199  1078.113199        NaN\n",
       "4            1  2023-02-01  1080.922140  1080.922140  1080.922140        NaN\n",
       "5            1  2023-03-01  1128.626480  1128.626480  1128.626480        NaN\n",
       "6            1  2023-05-01   999.998574   999.998574   999.998574        NaN\n",
       "7            0  2023-04-01   978.441120   978.441120   978.441120        NaN\n",
       "8            1  2023-11-01   982.852194   982.852194   982.852194        NaN\n",
       "9            1        None  1000.377346  1263.121235   770.926264  90.336798\n",
       "10           1  2023-10-01  1003.563961  1003.563961  1003.563961        NaN\n",
       "11           1  2023-12-01  1044.387001  1044.387001  1044.387001        NaN\n",
       "12           1  2023-09-01   821.242266   821.242266   821.242266        NaN\n",
       "13           0        None   987.775674  1131.873139   806.500135  95.790959"
      ]
     },
     "execution_count": 534,
     "metadata": {},
     "output_type": "execute_result"
    }
   ],
   "source": [
    "logger.setLevel(logging.WARN)\n",
    "e.plot_trend(['num1'])"
   ]
  },
  {
   "attachments": {},
   "cell_type": "markdown",
   "metadata": {},
   "source": [
    "# Correlation"
   ]
  },
  {
   "cell_type": "code",
   "execution_count": 69,
   "metadata": {},
   "outputs": [
    {
     "name": "stderr",
     "output_type": "stream",
     "text": [
      "/home/aadi/miniconda3/envs/spark_env/lib/python3.8/site-packages/pyspark/sql/pandas/conversion.py:371: FutureWarning:\n",
      "\n",
      "iteritems is deprecated and will be removed in a future version. Use .items instead.\n",
      "\n"
     ]
    }
   ],
   "source": [
    "from pyspark.sql.types import StructType, FloatType, DoubleType, StructField\n",
    "# if pyspark default to datashader\n",
    "\n",
    "df = pd.DataFrame({\n",
    "    'num1': np.random.normal(1000, 10, size=100000), \n",
    "    'bin_target': np.random.choice([0, 1], size=100000)\n",
    "})\n",
    "\n",
    "df['num2'] = df.num1 ** 2\n",
    "\n",
    "dd = spark.createDataFrame(df)"
   ]
  },
  {
   "cell_type": "code",
   "execution_count": 123,
   "metadata": {},
   "outputs": [],
   "source": [
    "import logging\n",
    "import colorcet\n",
    "import plotly.graph_objects as go\n",
    "from plotly import express as px\n",
    "\n",
    "# pyspark\n",
    "def plot_corr_scatter(self, col1, col2):\n",
    "    corr = self.dd.select(*[col1, col2]).stat.corr('num1', 'num2')\n",
    "    data = self.dd.select(*[col1, col2, self.target]).toPandas()\n",
    "    self._plot_corr(col1, col2, data)\n",
    "\n",
    "# pandas \n",
    "# def plot_corr(self, col1, col2):\n",
    "#     _plot_corr(col1, col2, self.df)\n",
    "    \n",
    "\n",
    "def _plot_corr_scatter(self, col1, col2, data):\n",
    "    if len(data) > 10000:\n",
    "        logging.warning('Sampling done, data too large')\n",
    "        data = data.sample(10000)\n",
    "    \n",
    "    fig = px.scatter(\n",
    "        data, col1, col2,\n",
    "        marginal_x='histogram',\n",
    "        marginal_y='histogram',\n",
    "        color=df[self.target] # HACK need to set target to astype(category)\n",
    "    ) \n",
    "\n",
    "    fig.update_layout(\n",
    "        autosize=False,\n",
    "        width=800,\n",
    "        height=800,\n",
    "        xaxis=dict(title=col1),\n",
    "        yaxis=dict(title=col2),\n",
    "        title=f'{col2} against {col1}'\n",
    "    )\n",
    "    fig.show()\n",
    "\n",
    "\n",
    "class Explorer: pass\n",
    "\n",
    "Explorer.plot_corr = plot_corr\n",
    "Explorer._plot_corr = _plot_corr\n",
    "e = Explorer()\n",
    "e.target = 'bin_target'\n",
    "e.target_vals = [0, 1]\n",
    "e.dd = dd"
   ]
  },
  {
   "cell_type": "code",
   "execution_count": 124,
   "metadata": {},
   "outputs": [
    {
     "data": {
      "application/vnd.plotly.v1+json": {
       "config": {
        "plotlyServerURL": "https://plot.ly"
       },
       "data": [
        {
         "hovertemplate": "color=1<br>num1=%{x}<br>num2=%{y}<extra></extra>",
         "legendgroup": "1",
         "marker": {
          "color": "#636efa",
          "symbol": "circle"
         },
         "mode": "markers",
         "name": "1",
         "orientation": "v",
         "showlegend": true,
         "type": "scatter",
         "x": [
          1016.3346888431367,
          1026.5040847928187,
          845.2476823270572,
          1079.9421727452507,
          1118.0985249371574,
          916.2904129448764,
          1177.4535559849276,
          1141.9175123185476,
          895.8542144470349,
          969.0481412627644,
          1018.8083930107423,
          1050.353323905601,
          959.8048519307869,
          991.5938460447117,
          861.7654394375762,
          1148.677422072398,
          1036.51392622159,
          866.168998629016,
          1100.705527860966,
          878.929881509275,
          944.6428704316771,
          898.8405263758198,
          902.3181317750715,
          922.8084416733258,
          877.3840065921247,
          1038.6488818926525,
          980.1296972271041,
          1051.6520692920847,
          1008.6289640520635,
          783.1696854164205,
          819.7587542202255,
          1059.6209764430937,
          964.4521913574865,
          933.2112966960651,
          931.1524218967716,
          832.8861156432092,
          994.3768397877835,
          936.3732476821067,
          1032.6595261821635,
          1055.8272595218548,
          873.8874198294759,
          1076.1507453611011,
          896.3953493495569,
          1087.6192522475078,
          1055.9120341460398,
          954.5239014081033,
          1252.2575643080845,
          961.0330103135836,
          1046.447227134473,
          947.1218154009911,
          952.995439999661,
          1162.0194776372373,
          1089.3148754098195,
          1029.3169584645807,
          993.9019564819847,
          1014.1248515955889,
          1038.3591517030063,
          981.0997258394581,
          951.6883027513513,
          1091.8574384523429,
          995.1319357878999,
          1026.0368739936332,
          1055.7018086122446,
          949.920023012839,
          1051.9037280874295,
          1023.5992799171913,
          1017.1469790652327,
          912.037581680923,
          1115.9721110847443,
          821.9356005487034,
          974.1054699394153,
          965.6095724402957,
          940.5432918367919,
          905.3598228999343,
          1066.0167582466875,
          1039.8977813213087,
          1099.9577333878485,
          903.193558663546
         ],
         "xaxis": "x",
         "y": [
          83.97784414012301,
          -11.643375307919687,
          20.89905016086721,
          -146.56178975197156,
          55.60842994919095,
          187.11353294079373,
          -88.84874430832926,
          -23.59905251666082,
          -74.56493160142996,
          74.44025546729112,
          -8.515104433936404,
          -124.25935932353406,
          -92.07727352723595,
          11.759328500180171,
          -49.02606744244521,
          -74.04716568560072,
          71.74508449364905,
          -0.7165789615672882,
          33.16987809700442,
          -62.989392968291895,
          36.98826673294223,
          200.49812736963702,
          93.25059915037849,
          -38.666272525616044,
          -38.762677816775586,
          -40.204066610400446,
          100.28132568361839,
          -52.88533238830634,
          90.56107750126617,
          -64.58971638192848,
          136.73245895081615,
          -48.043542841918935,
          -93.11031691093295,
          -189.6795128052899,
          268.3427379527503,
          -9.359978457523756,
          -163.25241497843527,
          -21.393549070047943,
          136.0797932271209,
          -117.55080590358973,
          94.54462967521292,
          43.15747974453142,
          4.1893048536296424,
          -119.71642449868196,
          13.832172028988113,
          -68.79136228573455,
          45.81287562385982,
          19.32541944908894,
          -167.59117603571556,
          -63.65256068957417,
          -18.114800846182714,
          106.09660489459807,
          50.603952995970864,
          79.45403086176113,
          12.509416638121843,
          -35.64989544682622,
          35.988174790858615,
          -177.60632658401065,
          66.01236603766125,
          139.07271036856125,
          153.74730505138302,
          -20.198713041901755,
          -115.88880280166552,
          80.08504306283609,
          2.995580475677442,
          17.696637207026146,
          49.52698729874031,
          73.48500303308688,
          -4.159793324932757,
          157.5015806321611,
          23.29372267614289,
          -82.64820719056495,
          98.8005635138928,
          121.35325291844825,
          -115.41005257344993,
          93.01697795577063,
          18.487281967257076,
          36.20499641601701
         ],
         "yaxis": "y"
        },
        {
         "alignmentgroup": "True",
         "bingroup": "x",
         "hovertemplate": "color=1<br>num1=%{x}<br>count=%{y}<extra></extra>",
         "legendgroup": "1",
         "marker": {
          "color": "#636efa"
         },
         "name": "1",
         "offsetgroup": "1",
         "opacity": 0.5,
         "showlegend": false,
         "type": "histogram",
         "x": [
          1016.3346888431367,
          1026.5040847928187,
          845.2476823270572,
          1079.9421727452507,
          1118.0985249371574,
          916.2904129448764,
          1177.4535559849276,
          1141.9175123185476,
          895.8542144470349,
          969.0481412627644,
          1018.8083930107423,
          1050.353323905601,
          959.8048519307869,
          991.5938460447117,
          861.7654394375762,
          1148.677422072398,
          1036.51392622159,
          866.168998629016,
          1100.705527860966,
          878.929881509275,
          944.6428704316771,
          898.8405263758198,
          902.3181317750715,
          922.8084416733258,
          877.3840065921247,
          1038.6488818926525,
          980.1296972271041,
          1051.6520692920847,
          1008.6289640520635,
          783.1696854164205,
          819.7587542202255,
          1059.6209764430937,
          964.4521913574865,
          933.2112966960651,
          931.1524218967716,
          832.8861156432092,
          994.3768397877835,
          936.3732476821067,
          1032.6595261821635,
          1055.8272595218548,
          873.8874198294759,
          1076.1507453611011,
          896.3953493495569,
          1087.6192522475078,
          1055.9120341460398,
          954.5239014081033,
          1252.2575643080845,
          961.0330103135836,
          1046.447227134473,
          947.1218154009911,
          952.995439999661,
          1162.0194776372373,
          1089.3148754098195,
          1029.3169584645807,
          993.9019564819847,
          1014.1248515955889,
          1038.3591517030063,
          981.0997258394581,
          951.6883027513513,
          1091.8574384523429,
          995.1319357878999,
          1026.0368739936332,
          1055.7018086122446,
          949.920023012839,
          1051.9037280874295,
          1023.5992799171913,
          1017.1469790652327,
          912.037581680923,
          1115.9721110847443,
          821.9356005487034,
          974.1054699394153,
          965.6095724402957,
          940.5432918367919,
          905.3598228999343,
          1066.0167582466875,
          1039.8977813213087,
          1099.9577333878485,
          903.193558663546
         ],
         "xaxis": "x3",
         "yaxis": "y3"
        },
        {
         "alignmentgroup": "True",
         "bingroup": "y",
         "hovertemplate": "color=1<br>num2=%{y}<br>count=%{x}<extra></extra>",
         "legendgroup": "1",
         "marker": {
          "color": "#636efa"
         },
         "name": "1",
         "offsetgroup": "1",
         "opacity": 0.5,
         "showlegend": false,
         "type": "histogram",
         "xaxis": "x2",
         "y": [
          83.97784414012301,
          -11.643375307919687,
          20.89905016086721,
          -146.56178975197156,
          55.60842994919095,
          187.11353294079373,
          -88.84874430832926,
          -23.59905251666082,
          -74.56493160142996,
          74.44025546729112,
          -8.515104433936404,
          -124.25935932353406,
          -92.07727352723595,
          11.759328500180171,
          -49.02606744244521,
          -74.04716568560072,
          71.74508449364905,
          -0.7165789615672882,
          33.16987809700442,
          -62.989392968291895,
          36.98826673294223,
          200.49812736963702,
          93.25059915037849,
          -38.666272525616044,
          -38.762677816775586,
          -40.204066610400446,
          100.28132568361839,
          -52.88533238830634,
          90.56107750126617,
          -64.58971638192848,
          136.73245895081615,
          -48.043542841918935,
          -93.11031691093295,
          -189.6795128052899,
          268.3427379527503,
          -9.359978457523756,
          -163.25241497843527,
          -21.393549070047943,
          136.0797932271209,
          -117.55080590358973,
          94.54462967521292,
          43.15747974453142,
          4.1893048536296424,
          -119.71642449868196,
          13.832172028988113,
          -68.79136228573455,
          45.81287562385982,
          19.32541944908894,
          -167.59117603571556,
          -63.65256068957417,
          -18.114800846182714,
          106.09660489459807,
          50.603952995970864,
          79.45403086176113,
          12.509416638121843,
          -35.64989544682622,
          35.988174790858615,
          -177.60632658401065,
          66.01236603766125,
          139.07271036856125,
          153.74730505138302,
          -20.198713041901755,
          -115.88880280166552,
          80.08504306283609,
          2.995580475677442,
          17.696637207026146,
          49.52698729874031,
          73.48500303308688,
          -4.159793324932757,
          157.5015806321611,
          23.29372267614289,
          -82.64820719056495,
          98.8005635138928,
          121.35325291844825,
          -115.41005257344993,
          93.01697795577063,
          18.487281967257076,
          36.20499641601701
         ],
         "yaxis": "y2"
        },
        {
         "hovertemplate": "color=0<br>num1=%{x}<br>num2=%{y}<extra></extra>",
         "legendgroup": "0",
         "marker": {
          "color": "#EF553B",
          "symbol": "circle"
         },
         "mode": "markers",
         "name": "0",
         "orientation": "v",
         "showlegend": true,
         "type": "scatter",
         "x": [
          1006.9742279892334,
          954.9259759048643,
          1015.9275270561001,
          1032.502993906388,
          1085.4244837294539,
          936.135840418612,
          1128.1057812585711,
          952.4180251598698,
          930.8243670347192,
          1069.1997717336658,
          887.9061113465954,
          956.293336987191,
          912.584747137412,
          829.8565753774953,
          1064.4423572996634,
          904.0555354326959,
          1049.1361926780105,
          1011.9260604958606,
          990.1669329318869,
          1041.2166079853487,
          1037.7148802823142,
          1120.4116878591565
         ],
         "xaxis": "x",
         "y": [
          -158.09181654712754,
          -199.3306225691453,
          84.09170052998559,
          101.09992485352095,
          7.505451937233973,
          -16.744849715561802,
          -113.3777587971831,
          -24.158460375478775,
          0.017330842440083316,
          184.86664405678906,
          -55.332788801061966,
          15.6338534321497,
          146.32881681321524,
          39.902653478280314,
          130.41989831505583,
          65.38895409960526,
          -175.70407484744794,
          102.11690943320585,
          275.03558534917573,
          -7.277378835487859,
          -8.806609244988007,
          105.53468011624503
         ],
         "yaxis": "y"
        },
        {
         "alignmentgroup": "True",
         "bingroup": "x",
         "hovertemplate": "color=0<br>num1=%{x}<br>count=%{y}<extra></extra>",
         "legendgroup": "0",
         "marker": {
          "color": "#EF553B"
         },
         "name": "0",
         "offsetgroup": "0",
         "opacity": 0.5,
         "showlegend": false,
         "type": "histogram",
         "x": [
          1006.9742279892334,
          954.9259759048643,
          1015.9275270561001,
          1032.502993906388,
          1085.4244837294539,
          936.135840418612,
          1128.1057812585711,
          952.4180251598698,
          930.8243670347192,
          1069.1997717336658,
          887.9061113465954,
          956.293336987191,
          912.584747137412,
          829.8565753774953,
          1064.4423572996634,
          904.0555354326959,
          1049.1361926780105,
          1011.9260604958606,
          990.1669329318869,
          1041.2166079853487,
          1037.7148802823142,
          1120.4116878591565
         ],
         "xaxis": "x3",
         "yaxis": "y3"
        },
        {
         "alignmentgroup": "True",
         "bingroup": "y",
         "hovertemplate": "color=0<br>num2=%{y}<br>count=%{x}<extra></extra>",
         "legendgroup": "0",
         "marker": {
          "color": "#EF553B"
         },
         "name": "0",
         "offsetgroup": "0",
         "opacity": 0.5,
         "showlegend": false,
         "type": "histogram",
         "xaxis": "x2",
         "y": [
          -158.09181654712754,
          -199.3306225691453,
          84.09170052998559,
          101.09992485352095,
          7.505451937233973,
          -16.744849715561802,
          -113.3777587971831,
          -24.158460375478775,
          0.017330842440083316,
          184.86664405678906,
          -55.332788801061966,
          15.6338534321497,
          146.32881681321524,
          39.902653478280314,
          130.41989831505583,
          65.38895409960526,
          -175.70407484744794,
          102.11690943320585,
          275.03558534917573,
          -7.277378835487859,
          -8.806609244988007,
          105.53468011624503
         ],
         "yaxis": "y2"
        }
       ],
       "layout": {
        "autosize": false,
        "barmode": "overlay",
        "height": 800,
        "legend": {
         "title": {
          "text": "color"
         },
         "tracegroupgap": 0
        },
        "margin": {
         "t": 60
        },
        "template": {
         "data": {
          "bar": [
           {
            "error_x": {
             "color": "#2a3f5f"
            },
            "error_y": {
             "color": "#2a3f5f"
            },
            "marker": {
             "line": {
              "color": "#E5ECF6",
              "width": 0.5
             },
             "pattern": {
              "fillmode": "overlay",
              "size": 10,
              "solidity": 0.2
             }
            },
            "type": "bar"
           }
          ],
          "barpolar": [
           {
            "marker": {
             "line": {
              "color": "#E5ECF6",
              "width": 0.5
             },
             "pattern": {
              "fillmode": "overlay",
              "size": 10,
              "solidity": 0.2
             }
            },
            "type": "barpolar"
           }
          ],
          "carpet": [
           {
            "aaxis": {
             "endlinecolor": "#2a3f5f",
             "gridcolor": "white",
             "linecolor": "white",
             "minorgridcolor": "white",
             "startlinecolor": "#2a3f5f"
            },
            "baxis": {
             "endlinecolor": "#2a3f5f",
             "gridcolor": "white",
             "linecolor": "white",
             "minorgridcolor": "white",
             "startlinecolor": "#2a3f5f"
            },
            "type": "carpet"
           }
          ],
          "choropleth": [
           {
            "colorbar": {
             "outlinewidth": 0,
             "ticks": ""
            },
            "type": "choropleth"
           }
          ],
          "contour": [
           {
            "colorbar": {
             "outlinewidth": 0,
             "ticks": ""
            },
            "colorscale": [
             [
              0,
              "#0d0887"
             ],
             [
              0.1111111111111111,
              "#46039f"
             ],
             [
              0.2222222222222222,
              "#7201a8"
             ],
             [
              0.3333333333333333,
              "#9c179e"
             ],
             [
              0.4444444444444444,
              "#bd3786"
             ],
             [
              0.5555555555555556,
              "#d8576b"
             ],
             [
              0.6666666666666666,
              "#ed7953"
             ],
             [
              0.7777777777777778,
              "#fb9f3a"
             ],
             [
              0.8888888888888888,
              "#fdca26"
             ],
             [
              1,
              "#f0f921"
             ]
            ],
            "type": "contour"
           }
          ],
          "contourcarpet": [
           {
            "colorbar": {
             "outlinewidth": 0,
             "ticks": ""
            },
            "type": "contourcarpet"
           }
          ],
          "heatmap": [
           {
            "colorbar": {
             "outlinewidth": 0,
             "ticks": ""
            },
            "colorscale": [
             [
              0,
              "#0d0887"
             ],
             [
              0.1111111111111111,
              "#46039f"
             ],
             [
              0.2222222222222222,
              "#7201a8"
             ],
             [
              0.3333333333333333,
              "#9c179e"
             ],
             [
              0.4444444444444444,
              "#bd3786"
             ],
             [
              0.5555555555555556,
              "#d8576b"
             ],
             [
              0.6666666666666666,
              "#ed7953"
             ],
             [
              0.7777777777777778,
              "#fb9f3a"
             ],
             [
              0.8888888888888888,
              "#fdca26"
             ],
             [
              1,
              "#f0f921"
             ]
            ],
            "type": "heatmap"
           }
          ],
          "heatmapgl": [
           {
            "colorbar": {
             "outlinewidth": 0,
             "ticks": ""
            },
            "colorscale": [
             [
              0,
              "#0d0887"
             ],
             [
              0.1111111111111111,
              "#46039f"
             ],
             [
              0.2222222222222222,
              "#7201a8"
             ],
             [
              0.3333333333333333,
              "#9c179e"
             ],
             [
              0.4444444444444444,
              "#bd3786"
             ],
             [
              0.5555555555555556,
              "#d8576b"
             ],
             [
              0.6666666666666666,
              "#ed7953"
             ],
             [
              0.7777777777777778,
              "#fb9f3a"
             ],
             [
              0.8888888888888888,
              "#fdca26"
             ],
             [
              1,
              "#f0f921"
             ]
            ],
            "type": "heatmapgl"
           }
          ],
          "histogram": [
           {
            "marker": {
             "pattern": {
              "fillmode": "overlay",
              "size": 10,
              "solidity": 0.2
             }
            },
            "type": "histogram"
           }
          ],
          "histogram2d": [
           {
            "colorbar": {
             "outlinewidth": 0,
             "ticks": ""
            },
            "colorscale": [
             [
              0,
              "#0d0887"
             ],
             [
              0.1111111111111111,
              "#46039f"
             ],
             [
              0.2222222222222222,
              "#7201a8"
             ],
             [
              0.3333333333333333,
              "#9c179e"
             ],
             [
              0.4444444444444444,
              "#bd3786"
             ],
             [
              0.5555555555555556,
              "#d8576b"
             ],
             [
              0.6666666666666666,
              "#ed7953"
             ],
             [
              0.7777777777777778,
              "#fb9f3a"
             ],
             [
              0.8888888888888888,
              "#fdca26"
             ],
             [
              1,
              "#f0f921"
             ]
            ],
            "type": "histogram2d"
           }
          ],
          "histogram2dcontour": [
           {
            "colorbar": {
             "outlinewidth": 0,
             "ticks": ""
            },
            "colorscale": [
             [
              0,
              "#0d0887"
             ],
             [
              0.1111111111111111,
              "#46039f"
             ],
             [
              0.2222222222222222,
              "#7201a8"
             ],
             [
              0.3333333333333333,
              "#9c179e"
             ],
             [
              0.4444444444444444,
              "#bd3786"
             ],
             [
              0.5555555555555556,
              "#d8576b"
             ],
             [
              0.6666666666666666,
              "#ed7953"
             ],
             [
              0.7777777777777778,
              "#fb9f3a"
             ],
             [
              0.8888888888888888,
              "#fdca26"
             ],
             [
              1,
              "#f0f921"
             ]
            ],
            "type": "histogram2dcontour"
           }
          ],
          "mesh3d": [
           {
            "colorbar": {
             "outlinewidth": 0,
             "ticks": ""
            },
            "type": "mesh3d"
           }
          ],
          "parcoords": [
           {
            "line": {
             "colorbar": {
              "outlinewidth": 0,
              "ticks": ""
             }
            },
            "type": "parcoords"
           }
          ],
          "pie": [
           {
            "automargin": true,
            "type": "pie"
           }
          ],
          "scatter": [
           {
            "fillpattern": {
             "fillmode": "overlay",
             "size": 10,
             "solidity": 0.2
            },
            "type": "scatter"
           }
          ],
          "scatter3d": [
           {
            "line": {
             "colorbar": {
              "outlinewidth": 0,
              "ticks": ""
             }
            },
            "marker": {
             "colorbar": {
              "outlinewidth": 0,
              "ticks": ""
             }
            },
            "type": "scatter3d"
           }
          ],
          "scattercarpet": [
           {
            "marker": {
             "colorbar": {
              "outlinewidth": 0,
              "ticks": ""
             }
            },
            "type": "scattercarpet"
           }
          ],
          "scattergeo": [
           {
            "marker": {
             "colorbar": {
              "outlinewidth": 0,
              "ticks": ""
             }
            },
            "type": "scattergeo"
           }
          ],
          "scattergl": [
           {
            "marker": {
             "colorbar": {
              "outlinewidth": 0,
              "ticks": ""
             }
            },
            "type": "scattergl"
           }
          ],
          "scattermapbox": [
           {
            "marker": {
             "colorbar": {
              "outlinewidth": 0,
              "ticks": ""
             }
            },
            "type": "scattermapbox"
           }
          ],
          "scatterpolar": [
           {
            "marker": {
             "colorbar": {
              "outlinewidth": 0,
              "ticks": ""
             }
            },
            "type": "scatterpolar"
           }
          ],
          "scatterpolargl": [
           {
            "marker": {
             "colorbar": {
              "outlinewidth": 0,
              "ticks": ""
             }
            },
            "type": "scatterpolargl"
           }
          ],
          "scatterternary": [
           {
            "marker": {
             "colorbar": {
              "outlinewidth": 0,
              "ticks": ""
             }
            },
            "type": "scatterternary"
           }
          ],
          "surface": [
           {
            "colorbar": {
             "outlinewidth": 0,
             "ticks": ""
            },
            "colorscale": [
             [
              0,
              "#0d0887"
             ],
             [
              0.1111111111111111,
              "#46039f"
             ],
             [
              0.2222222222222222,
              "#7201a8"
             ],
             [
              0.3333333333333333,
              "#9c179e"
             ],
             [
              0.4444444444444444,
              "#bd3786"
             ],
             [
              0.5555555555555556,
              "#d8576b"
             ],
             [
              0.6666666666666666,
              "#ed7953"
             ],
             [
              0.7777777777777778,
              "#fb9f3a"
             ],
             [
              0.8888888888888888,
              "#fdca26"
             ],
             [
              1,
              "#f0f921"
             ]
            ],
            "type": "surface"
           }
          ],
          "table": [
           {
            "cells": {
             "fill": {
              "color": "#EBF0F8"
             },
             "line": {
              "color": "white"
             }
            },
            "header": {
             "fill": {
              "color": "#C8D4E3"
             },
             "line": {
              "color": "white"
             }
            },
            "type": "table"
           }
          ]
         },
         "layout": {
          "annotationdefaults": {
           "arrowcolor": "#2a3f5f",
           "arrowhead": 0,
           "arrowwidth": 1
          },
          "autotypenumbers": "strict",
          "coloraxis": {
           "colorbar": {
            "outlinewidth": 0,
            "ticks": ""
           }
          },
          "colorscale": {
           "diverging": [
            [
             0,
             "#8e0152"
            ],
            [
             0.1,
             "#c51b7d"
            ],
            [
             0.2,
             "#de77ae"
            ],
            [
             0.3,
             "#f1b6da"
            ],
            [
             0.4,
             "#fde0ef"
            ],
            [
             0.5,
             "#f7f7f7"
            ],
            [
             0.6,
             "#e6f5d0"
            ],
            [
             0.7,
             "#b8e186"
            ],
            [
             0.8,
             "#7fbc41"
            ],
            [
             0.9,
             "#4d9221"
            ],
            [
             1,
             "#276419"
            ]
           ],
           "sequential": [
            [
             0,
             "#0d0887"
            ],
            [
             0.1111111111111111,
             "#46039f"
            ],
            [
             0.2222222222222222,
             "#7201a8"
            ],
            [
             0.3333333333333333,
             "#9c179e"
            ],
            [
             0.4444444444444444,
             "#bd3786"
            ],
            [
             0.5555555555555556,
             "#d8576b"
            ],
            [
             0.6666666666666666,
             "#ed7953"
            ],
            [
             0.7777777777777778,
             "#fb9f3a"
            ],
            [
             0.8888888888888888,
             "#fdca26"
            ],
            [
             1,
             "#f0f921"
            ]
           ],
           "sequentialminus": [
            [
             0,
             "#0d0887"
            ],
            [
             0.1111111111111111,
             "#46039f"
            ],
            [
             0.2222222222222222,
             "#7201a8"
            ],
            [
             0.3333333333333333,
             "#9c179e"
            ],
            [
             0.4444444444444444,
             "#bd3786"
            ],
            [
             0.5555555555555556,
             "#d8576b"
            ],
            [
             0.6666666666666666,
             "#ed7953"
            ],
            [
             0.7777777777777778,
             "#fb9f3a"
            ],
            [
             0.8888888888888888,
             "#fdca26"
            ],
            [
             1,
             "#f0f921"
            ]
           ]
          },
          "colorway": [
           "#636efa",
           "#EF553B",
           "#00cc96",
           "#ab63fa",
           "#FFA15A",
           "#19d3f3",
           "#FF6692",
           "#B6E880",
           "#FF97FF",
           "#FECB52"
          ],
          "font": {
           "color": "#2a3f5f"
          },
          "geo": {
           "bgcolor": "white",
           "lakecolor": "white",
           "landcolor": "#E5ECF6",
           "showlakes": true,
           "showland": true,
           "subunitcolor": "white"
          },
          "hoverlabel": {
           "align": "left"
          },
          "hovermode": "closest",
          "mapbox": {
           "style": "light"
          },
          "paper_bgcolor": "white",
          "plot_bgcolor": "#E5ECF6",
          "polar": {
           "angularaxis": {
            "gridcolor": "white",
            "linecolor": "white",
            "ticks": ""
           },
           "bgcolor": "#E5ECF6",
           "radialaxis": {
            "gridcolor": "white",
            "linecolor": "white",
            "ticks": ""
           }
          },
          "scene": {
           "xaxis": {
            "backgroundcolor": "#E5ECF6",
            "gridcolor": "white",
            "gridwidth": 2,
            "linecolor": "white",
            "showbackground": true,
            "ticks": "",
            "zerolinecolor": "white"
           },
           "yaxis": {
            "backgroundcolor": "#E5ECF6",
            "gridcolor": "white",
            "gridwidth": 2,
            "linecolor": "white",
            "showbackground": true,
            "ticks": "",
            "zerolinecolor": "white"
           },
           "zaxis": {
            "backgroundcolor": "#E5ECF6",
            "gridcolor": "white",
            "gridwidth": 2,
            "linecolor": "white",
            "showbackground": true,
            "ticks": "",
            "zerolinecolor": "white"
           }
          },
          "shapedefaults": {
           "line": {
            "color": "#2a3f5f"
           }
          },
          "ternary": {
           "aaxis": {
            "gridcolor": "white",
            "linecolor": "white",
            "ticks": ""
           },
           "baxis": {
            "gridcolor": "white",
            "linecolor": "white",
            "ticks": ""
           },
           "bgcolor": "#E5ECF6",
           "caxis": {
            "gridcolor": "white",
            "linecolor": "white",
            "ticks": ""
           }
          },
          "title": {
           "x": 0.05
          },
          "xaxis": {
           "automargin": true,
           "gridcolor": "white",
           "linecolor": "white",
           "ticks": "",
           "title": {
            "standoff": 15
           },
           "zerolinecolor": "white",
           "zerolinewidth": 2
          },
          "yaxis": {
           "automargin": true,
           "gridcolor": "white",
           "linecolor": "white",
           "ticks": "",
           "title": {
            "standoff": 15
           },
           "zerolinecolor": "white",
           "zerolinewidth": 2
          }
         }
        },
        "title": {
         "text": "num2 against num1"
        },
        "width": 800,
        "xaxis": {
         "anchor": "y",
         "domain": [
          0,
          0.7363
         ],
         "title": {
          "text": "num1"
         }
        },
        "xaxis2": {
         "anchor": "y2",
         "domain": [
          0.7413,
          1
         ],
         "matches": "x2",
         "showgrid": true,
         "showline": false,
         "showticklabels": false,
         "ticks": ""
        },
        "xaxis3": {
         "anchor": "y3",
         "domain": [
          0,
          0.7363
         ],
         "matches": "x",
         "showgrid": true,
         "showticklabels": false
        },
        "xaxis4": {
         "anchor": "y4",
         "domain": [
          0.7413,
          1
         ],
         "matches": "x2",
         "showgrid": true,
         "showline": false,
         "showticklabels": false,
         "ticks": ""
        },
        "yaxis": {
         "anchor": "x",
         "domain": [
          0,
          0.7326
         ],
         "title": {
          "text": "num2"
         }
        },
        "yaxis2": {
         "anchor": "x2",
         "domain": [
          0,
          0.7326
         ],
         "matches": "y",
         "showgrid": true,
         "showticklabels": false
        },
        "yaxis3": {
         "anchor": "x3",
         "domain": [
          0.7426,
          1
         ],
         "matches": "y3",
         "showgrid": true,
         "showline": false,
         "showticklabels": false,
         "ticks": ""
        },
        "yaxis4": {
         "anchor": "x4",
         "domain": [
          0.7426,
          1
         ],
         "matches": "y3",
         "showgrid": true,
         "showline": false,
         "showticklabels": false,
         "ticks": ""
        }
       }
      }
     },
     "metadata": {},
     "output_type": "display_data"
    }
   ],
   "source": [
    "e.plot_corr(col1, col2)"
   ]
  },
  {
   "attachments": {},
   "cell_type": "markdown",
   "metadata": {},
   "source": [
    "# Bar Chart for Categorical"
   ]
  },
  {
   "cell_type": "code",
   "execution_count": 236,
   "metadata": {},
   "outputs": [
    {
     "name": "stdout",
     "output_type": "stream",
     "text": [
      "   bin_target cat1  count\n",
      "0           1    c     32\n",
      "1           1    a     26\n",
      "2           0    a      7\n",
      "3           1    b     25\n",
      "4           0    c      6\n",
      "5           0    b      4\n"
     ]
    },
    {
     "data": {
      "application/vnd.plotly.v1+json": {
       "config": {
        "plotlyServerURL": "https://plot.ly"
       },
       "data": [
        {
         "name": "Target: 1",
         "type": "bar",
         "x": [
          "c",
          "a",
          "b"
         ],
         "y": [
          32,
          26,
          25
         ]
        },
        {
         "name": "Target: 0",
         "type": "bar",
         "x": [
          "c",
          "a",
          "b"
         ],
         "y": [
          7,
          6,
          4
         ]
        }
       ],
       "layout": {
        "template": {
         "data": {
          "bar": [
           {
            "error_x": {
             "color": "#2a3f5f"
            },
            "error_y": {
             "color": "#2a3f5f"
            },
            "marker": {
             "line": {
              "color": "#E5ECF6",
              "width": 0.5
             },
             "pattern": {
              "fillmode": "overlay",
              "size": 10,
              "solidity": 0.2
             }
            },
            "type": "bar"
           }
          ],
          "barpolar": [
           {
            "marker": {
             "line": {
              "color": "#E5ECF6",
              "width": 0.5
             },
             "pattern": {
              "fillmode": "overlay",
              "size": 10,
              "solidity": 0.2
             }
            },
            "type": "barpolar"
           }
          ],
          "carpet": [
           {
            "aaxis": {
             "endlinecolor": "#2a3f5f",
             "gridcolor": "white",
             "linecolor": "white",
             "minorgridcolor": "white",
             "startlinecolor": "#2a3f5f"
            },
            "baxis": {
             "endlinecolor": "#2a3f5f",
             "gridcolor": "white",
             "linecolor": "white",
             "minorgridcolor": "white",
             "startlinecolor": "#2a3f5f"
            },
            "type": "carpet"
           }
          ],
          "choropleth": [
           {
            "colorbar": {
             "outlinewidth": 0,
             "ticks": ""
            },
            "type": "choropleth"
           }
          ],
          "contour": [
           {
            "colorbar": {
             "outlinewidth": 0,
             "ticks": ""
            },
            "colorscale": [
             [
              0,
              "#0d0887"
             ],
             [
              0.1111111111111111,
              "#46039f"
             ],
             [
              0.2222222222222222,
              "#7201a8"
             ],
             [
              0.3333333333333333,
              "#9c179e"
             ],
             [
              0.4444444444444444,
              "#bd3786"
             ],
             [
              0.5555555555555556,
              "#d8576b"
             ],
             [
              0.6666666666666666,
              "#ed7953"
             ],
             [
              0.7777777777777778,
              "#fb9f3a"
             ],
             [
              0.8888888888888888,
              "#fdca26"
             ],
             [
              1,
              "#f0f921"
             ]
            ],
            "type": "contour"
           }
          ],
          "contourcarpet": [
           {
            "colorbar": {
             "outlinewidth": 0,
             "ticks": ""
            },
            "type": "contourcarpet"
           }
          ],
          "heatmap": [
           {
            "colorbar": {
             "outlinewidth": 0,
             "ticks": ""
            },
            "colorscale": [
             [
              0,
              "#0d0887"
             ],
             [
              0.1111111111111111,
              "#46039f"
             ],
             [
              0.2222222222222222,
              "#7201a8"
             ],
             [
              0.3333333333333333,
              "#9c179e"
             ],
             [
              0.4444444444444444,
              "#bd3786"
             ],
             [
              0.5555555555555556,
              "#d8576b"
             ],
             [
              0.6666666666666666,
              "#ed7953"
             ],
             [
              0.7777777777777778,
              "#fb9f3a"
             ],
             [
              0.8888888888888888,
              "#fdca26"
             ],
             [
              1,
              "#f0f921"
             ]
            ],
            "type": "heatmap"
           }
          ],
          "heatmapgl": [
           {
            "colorbar": {
             "outlinewidth": 0,
             "ticks": ""
            },
            "colorscale": [
             [
              0,
              "#0d0887"
             ],
             [
              0.1111111111111111,
              "#46039f"
             ],
             [
              0.2222222222222222,
              "#7201a8"
             ],
             [
              0.3333333333333333,
              "#9c179e"
             ],
             [
              0.4444444444444444,
              "#bd3786"
             ],
             [
              0.5555555555555556,
              "#d8576b"
             ],
             [
              0.6666666666666666,
              "#ed7953"
             ],
             [
              0.7777777777777778,
              "#fb9f3a"
             ],
             [
              0.8888888888888888,
              "#fdca26"
             ],
             [
              1,
              "#f0f921"
             ]
            ],
            "type": "heatmapgl"
           }
          ],
          "histogram": [
           {
            "marker": {
             "pattern": {
              "fillmode": "overlay",
              "size": 10,
              "solidity": 0.2
             }
            },
            "type": "histogram"
           }
          ],
          "histogram2d": [
           {
            "colorbar": {
             "outlinewidth": 0,
             "ticks": ""
            },
            "colorscale": [
             [
              0,
              "#0d0887"
             ],
             [
              0.1111111111111111,
              "#46039f"
             ],
             [
              0.2222222222222222,
              "#7201a8"
             ],
             [
              0.3333333333333333,
              "#9c179e"
             ],
             [
              0.4444444444444444,
              "#bd3786"
             ],
             [
              0.5555555555555556,
              "#d8576b"
             ],
             [
              0.6666666666666666,
              "#ed7953"
             ],
             [
              0.7777777777777778,
              "#fb9f3a"
             ],
             [
              0.8888888888888888,
              "#fdca26"
             ],
             [
              1,
              "#f0f921"
             ]
            ],
            "type": "histogram2d"
           }
          ],
          "histogram2dcontour": [
           {
            "colorbar": {
             "outlinewidth": 0,
             "ticks": ""
            },
            "colorscale": [
             [
              0,
              "#0d0887"
             ],
             [
              0.1111111111111111,
              "#46039f"
             ],
             [
              0.2222222222222222,
              "#7201a8"
             ],
             [
              0.3333333333333333,
              "#9c179e"
             ],
             [
              0.4444444444444444,
              "#bd3786"
             ],
             [
              0.5555555555555556,
              "#d8576b"
             ],
             [
              0.6666666666666666,
              "#ed7953"
             ],
             [
              0.7777777777777778,
              "#fb9f3a"
             ],
             [
              0.8888888888888888,
              "#fdca26"
             ],
             [
              1,
              "#f0f921"
             ]
            ],
            "type": "histogram2dcontour"
           }
          ],
          "mesh3d": [
           {
            "colorbar": {
             "outlinewidth": 0,
             "ticks": ""
            },
            "type": "mesh3d"
           }
          ],
          "parcoords": [
           {
            "line": {
             "colorbar": {
              "outlinewidth": 0,
              "ticks": ""
             }
            },
            "type": "parcoords"
           }
          ],
          "pie": [
           {
            "automargin": true,
            "type": "pie"
           }
          ],
          "scatter": [
           {
            "fillpattern": {
             "fillmode": "overlay",
             "size": 10,
             "solidity": 0.2
            },
            "type": "scatter"
           }
          ],
          "scatter3d": [
           {
            "line": {
             "colorbar": {
              "outlinewidth": 0,
              "ticks": ""
             }
            },
            "marker": {
             "colorbar": {
              "outlinewidth": 0,
              "ticks": ""
             }
            },
            "type": "scatter3d"
           }
          ],
          "scattercarpet": [
           {
            "marker": {
             "colorbar": {
              "outlinewidth": 0,
              "ticks": ""
             }
            },
            "type": "scattercarpet"
           }
          ],
          "scattergeo": [
           {
            "marker": {
             "colorbar": {
              "outlinewidth": 0,
              "ticks": ""
             }
            },
            "type": "scattergeo"
           }
          ],
          "scattergl": [
           {
            "marker": {
             "colorbar": {
              "outlinewidth": 0,
              "ticks": ""
             }
            },
            "type": "scattergl"
           }
          ],
          "scattermapbox": [
           {
            "marker": {
             "colorbar": {
              "outlinewidth": 0,
              "ticks": ""
             }
            },
            "type": "scattermapbox"
           }
          ],
          "scatterpolar": [
           {
            "marker": {
             "colorbar": {
              "outlinewidth": 0,
              "ticks": ""
             }
            },
            "type": "scatterpolar"
           }
          ],
          "scatterpolargl": [
           {
            "marker": {
             "colorbar": {
              "outlinewidth": 0,
              "ticks": ""
             }
            },
            "type": "scatterpolargl"
           }
          ],
          "scatterternary": [
           {
            "marker": {
             "colorbar": {
              "outlinewidth": 0,
              "ticks": ""
             }
            },
            "type": "scatterternary"
           }
          ],
          "surface": [
           {
            "colorbar": {
             "outlinewidth": 0,
             "ticks": ""
            },
            "colorscale": [
             [
              0,
              "#0d0887"
             ],
             [
              0.1111111111111111,
              "#46039f"
             ],
             [
              0.2222222222222222,
              "#7201a8"
             ],
             [
              0.3333333333333333,
              "#9c179e"
             ],
             [
              0.4444444444444444,
              "#bd3786"
             ],
             [
              0.5555555555555556,
              "#d8576b"
             ],
             [
              0.6666666666666666,
              "#ed7953"
             ],
             [
              0.7777777777777778,
              "#fb9f3a"
             ],
             [
              0.8888888888888888,
              "#fdca26"
             ],
             [
              1,
              "#f0f921"
             ]
            ],
            "type": "surface"
           }
          ],
          "table": [
           {
            "cells": {
             "fill": {
              "color": "#EBF0F8"
             },
             "line": {
              "color": "white"
             }
            },
            "header": {
             "fill": {
              "color": "#C8D4E3"
             },
             "line": {
              "color": "white"
             }
            },
            "type": "table"
           }
          ]
         },
         "layout": {
          "annotationdefaults": {
           "arrowcolor": "#2a3f5f",
           "arrowhead": 0,
           "arrowwidth": 1
          },
          "autotypenumbers": "strict",
          "coloraxis": {
           "colorbar": {
            "outlinewidth": 0,
            "ticks": ""
           }
          },
          "colorscale": {
           "diverging": [
            [
             0,
             "#8e0152"
            ],
            [
             0.1,
             "#c51b7d"
            ],
            [
             0.2,
             "#de77ae"
            ],
            [
             0.3,
             "#f1b6da"
            ],
            [
             0.4,
             "#fde0ef"
            ],
            [
             0.5,
             "#f7f7f7"
            ],
            [
             0.6,
             "#e6f5d0"
            ],
            [
             0.7,
             "#b8e186"
            ],
            [
             0.8,
             "#7fbc41"
            ],
            [
             0.9,
             "#4d9221"
            ],
            [
             1,
             "#276419"
            ]
           ],
           "sequential": [
            [
             0,
             "#0d0887"
            ],
            [
             0.1111111111111111,
             "#46039f"
            ],
            [
             0.2222222222222222,
             "#7201a8"
            ],
            [
             0.3333333333333333,
             "#9c179e"
            ],
            [
             0.4444444444444444,
             "#bd3786"
            ],
            [
             0.5555555555555556,
             "#d8576b"
            ],
            [
             0.6666666666666666,
             "#ed7953"
            ],
            [
             0.7777777777777778,
             "#fb9f3a"
            ],
            [
             0.8888888888888888,
             "#fdca26"
            ],
            [
             1,
             "#f0f921"
            ]
           ],
           "sequentialminus": [
            [
             0,
             "#0d0887"
            ],
            [
             0.1111111111111111,
             "#46039f"
            ],
            [
             0.2222222222222222,
             "#7201a8"
            ],
            [
             0.3333333333333333,
             "#9c179e"
            ],
            [
             0.4444444444444444,
             "#bd3786"
            ],
            [
             0.5555555555555556,
             "#d8576b"
            ],
            [
             0.6666666666666666,
             "#ed7953"
            ],
            [
             0.7777777777777778,
             "#fb9f3a"
            ],
            [
             0.8888888888888888,
             "#fdca26"
            ],
            [
             1,
             "#f0f921"
            ]
           ]
          },
          "colorway": [
           "#636efa",
           "#EF553B",
           "#00cc96",
           "#ab63fa",
           "#FFA15A",
           "#19d3f3",
           "#FF6692",
           "#B6E880",
           "#FF97FF",
           "#FECB52"
          ],
          "font": {
           "color": "#2a3f5f"
          },
          "geo": {
           "bgcolor": "white",
           "lakecolor": "white",
           "landcolor": "#E5ECF6",
           "showlakes": true,
           "showland": true,
           "subunitcolor": "white"
          },
          "hoverlabel": {
           "align": "left"
          },
          "hovermode": "closest",
          "mapbox": {
           "style": "light"
          },
          "paper_bgcolor": "white",
          "plot_bgcolor": "#E5ECF6",
          "polar": {
           "angularaxis": {
            "gridcolor": "white",
            "linecolor": "white",
            "ticks": ""
           },
           "bgcolor": "#E5ECF6",
           "radialaxis": {
            "gridcolor": "white",
            "linecolor": "white",
            "ticks": ""
           }
          },
          "scene": {
           "xaxis": {
            "backgroundcolor": "#E5ECF6",
            "gridcolor": "white",
            "gridwidth": 2,
            "linecolor": "white",
            "showbackground": true,
            "ticks": "",
            "zerolinecolor": "white"
           },
           "yaxis": {
            "backgroundcolor": "#E5ECF6",
            "gridcolor": "white",
            "gridwidth": 2,
            "linecolor": "white",
            "showbackground": true,
            "ticks": "",
            "zerolinecolor": "white"
           },
           "zaxis": {
            "backgroundcolor": "#E5ECF6",
            "gridcolor": "white",
            "gridwidth": 2,
            "linecolor": "white",
            "showbackground": true,
            "ticks": "",
            "zerolinecolor": "white"
           }
          },
          "shapedefaults": {
           "line": {
            "color": "#2a3f5f"
           }
          },
          "ternary": {
           "aaxis": {
            "gridcolor": "white",
            "linecolor": "white",
            "ticks": ""
           },
           "baxis": {
            "gridcolor": "white",
            "linecolor": "white",
            "ticks": ""
           },
           "bgcolor": "#E5ECF6",
           "caxis": {
            "gridcolor": "white",
            "linecolor": "white",
            "ticks": ""
           }
          },
          "title": {
           "x": 0.05
          },
          "xaxis": {
           "automargin": true,
           "gridcolor": "white",
           "linecolor": "white",
           "ticks": "",
           "title": {
            "standoff": 15
           },
           "zerolinecolor": "white",
           "zerolinewidth": 2
          },
          "yaxis": {
           "automargin": true,
           "gridcolor": "white",
           "linecolor": "white",
           "ticks": "",
           "title": {
            "standoff": 15
           },
           "zerolinecolor": "white",
           "zerolinewidth": 2
          }
         }
        }
       }
      }
     },
     "metadata": {},
     "output_type": "display_data"
    }
   ],
   "source": [
    "from typing import Union, List\n",
    "# pyspark\n",
    "def make_bar(self, cols: Union[List, str]):\n",
    "    grouped = dd.groupBy([self.target, *cols]).count().toPandas()\n",
    "    print(grouped)\n",
    "    fig = go.Figure()\n",
    "    for col in cols:\n",
    "        for target_val in grouped[self.target].unique():\n",
    "            fig.add_trace(go.Bar(\n",
    "                x=grouped[col].unique(),\n",
    "                y=grouped.loc[grouped[self.target]==target_val, 'count'],\n",
    "                name=f'Target: {target_val}'\n",
    "            ))\n",
    "\n",
    "    fig.show()\n",
    "\n",
    "# pandas\n",
    "def make_bar(self, col: Union[List, str]):\n",
    "    self.df = self.df.assign(count=1)\n",
    "    grouped = self.df.groupby([self.target, col], as_index=False).count()\n",
    "    fig = go.Figure()\n",
    "    for target_val in grouped[self.target].unique():\n",
    "        fig.add_trace(go.Bar(\n",
    "            x=grouped[col].unique(),\n",
    "            y=grouped.loc[grouped[self.target]==target_val, 'count'],\n",
    "            name=f'Target: {target_val}'\n",
    "        ))\n",
    "\n",
    "    self.df.drop('_cnt', axis=1, inplace=True)\n",
    "    fig.show()\n",
    "\n",
    "class SE:pass\n",
    "SE.make_bar = make_bar\n",
    "s = SE()\n",
    "s.target='bin_target'\n",
    "s.make_bar(['cat1'])\n"
   ]
  },
  {
   "cell_type": "code",
   "execution_count": 111,
   "metadata": {},
   "outputs": [
    {
     "data": {
      "text/html": [
       "<div>\n",
       "<style scoped>\n",
       "    .dataframe tbody tr th:only-of-type {\n",
       "        vertical-align: middle;\n",
       "    }\n",
       "\n",
       "    .dataframe tbody tr th {\n",
       "        vertical-align: top;\n",
       "    }\n",
       "\n",
       "    .dataframe thead th {\n",
       "        text-align: right;\n",
       "    }\n",
       "</style>\n",
       "<table border=\"1\" class=\"dataframe\">\n",
       "  <thead>\n",
       "    <tr style=\"text-align: right;\">\n",
       "      <th></th>\n",
       "      <th>bin_target</th>\n",
       "      <th>cat1</th>\n",
       "      <th>id</th>\n",
       "      <th>year</th>\n",
       "      <th>month</th>\n",
       "      <th>num1</th>\n",
       "      <th>num2</th>\n",
       "      <th>cat2</th>\n",
       "      <th>multi_target</th>\n",
       "    </tr>\n",
       "  </thead>\n",
       "  <tbody>\n",
       "    <tr>\n",
       "      <th>0</th>\n",
       "      <td>0</td>\n",
       "      <td>a</td>\n",
       "      <td>9</td>\n",
       "      <td>9</td>\n",
       "      <td>9</td>\n",
       "      <td>9</td>\n",
       "      <td>9</td>\n",
       "      <td>9</td>\n",
       "      <td>9</td>\n",
       "    </tr>\n",
       "    <tr>\n",
       "      <th>1</th>\n",
       "      <td>0</td>\n",
       "      <td>b</td>\n",
       "      <td>6</td>\n",
       "      <td>6</td>\n",
       "      <td>6</td>\n",
       "      <td>6</td>\n",
       "      <td>6</td>\n",
       "      <td>6</td>\n",
       "      <td>6</td>\n",
       "    </tr>\n",
       "    <tr>\n",
       "      <th>2</th>\n",
       "      <td>0</td>\n",
       "      <td>c</td>\n",
       "      <td>7</td>\n",
       "      <td>7</td>\n",
       "      <td>7</td>\n",
       "      <td>7</td>\n",
       "      <td>7</td>\n",
       "      <td>7</td>\n",
       "      <td>7</td>\n",
       "    </tr>\n",
       "    <tr>\n",
       "      <th>3</th>\n",
       "      <td>1</td>\n",
       "      <td>a</td>\n",
       "      <td>30</td>\n",
       "      <td>30</td>\n",
       "      <td>30</td>\n",
       "      <td>30</td>\n",
       "      <td>30</td>\n",
       "      <td>30</td>\n",
       "      <td>30</td>\n",
       "    </tr>\n",
       "    <tr>\n",
       "      <th>4</th>\n",
       "      <td>1</td>\n",
       "      <td>b</td>\n",
       "      <td>26</td>\n",
       "      <td>26</td>\n",
       "      <td>26</td>\n",
       "      <td>26</td>\n",
       "      <td>26</td>\n",
       "      <td>26</td>\n",
       "      <td>26</td>\n",
       "    </tr>\n",
       "    <tr>\n",
       "      <th>5</th>\n",
       "      <td>1</td>\n",
       "      <td>c</td>\n",
       "      <td>22</td>\n",
       "      <td>22</td>\n",
       "      <td>22</td>\n",
       "      <td>22</td>\n",
       "      <td>22</td>\n",
       "      <td>22</td>\n",
       "      <td>22</td>\n",
       "    </tr>\n",
       "  </tbody>\n",
       "</table>\n",
       "</div>"
      ],
      "text/plain": [
       "   bin_target cat1  id  year  month  num1  num2  cat2  multi_target\n",
       "0           0    a   9     9      9     9     9     9             9\n",
       "1           0    b   6     6      6     6     6     6             6\n",
       "2           0    c   7     7      7     7     7     7             7\n",
       "3           1    a  30    30     30    30    30    30            30\n",
       "4           1    b  26    26     26    26    26    26            26\n",
       "5           1    c  22    22     22    22    22    22            22"
      ]
     },
     "execution_count": 111,
     "metadata": {},
     "output_type": "execute_result"
    }
   ],
   "source": [
    "df.groupby(['bin_target', 'cat1'], as_index=False).count()"
   ]
  },
  {
   "cell_type": "code",
   "execution_count": 116,
   "metadata": {},
   "outputs": [
    {
     "data": {
      "application/vnd.plotly.v1+json": {
       "config": {
        "plotlyServerURL": "https://plot.ly"
       },
       "data": [
        {
         "hovertemplate": "bin_target=1<br>num1=%{x}<br>num2=%{y}<extra></extra>",
         "legendgroup": "1",
         "marker": {
          "color": "#636efa",
          "symbol": "circle"
         },
         "mode": "markers",
         "name": "1",
         "orientation": "v",
         "showlegend": true,
         "type": "scatter",
         "x": [
          1016.3346888431367,
          1026.5040847928187,
          845.2476823270572,
          1079.9421727452507,
          1118.0985249371574,
          916.2904129448764,
          1177.4535559849276,
          1141.9175123185476,
          895.8542144470349,
          969.0481412627644,
          1018.8083930107423,
          1050.353323905601,
          959.8048519307869,
          991.5938460447117,
          861.7654394375762,
          1148.677422072398,
          1036.51392622159,
          866.168998629016,
          1100.705527860966,
          878.929881509275,
          944.6428704316771,
          898.8405263758198,
          902.3181317750715,
          922.8084416733258,
          877.3840065921247,
          1038.6488818926525,
          980.1296972271041,
          1051.6520692920847,
          1008.6289640520635,
          783.1696854164205,
          819.7587542202255,
          1059.6209764430937,
          964.4521913574865,
          933.2112966960651,
          931.1524218967716,
          832.8861156432092,
          994.3768397877835,
          936.3732476821067,
          1032.6595261821635,
          1055.8272595218548,
          873.8874198294759,
          1076.1507453611011,
          896.3953493495569,
          1087.6192522475078,
          1055.9120341460398,
          954.5239014081033,
          1252.2575643080845,
          961.0330103135836,
          1046.447227134473,
          947.1218154009911,
          952.995439999661,
          1162.0194776372373,
          1089.3148754098195,
          1029.3169584645807,
          993.9019564819847,
          1014.1248515955889,
          1038.3591517030063,
          981.0997258394581,
          951.6883027513513,
          1091.8574384523429,
          995.1319357878999,
          1026.0368739936332,
          1055.7018086122446,
          949.920023012839,
          1051.9037280874295,
          1023.5992799171913,
          1017.1469790652327,
          912.037581680923,
          1115.9721110847443,
          821.9356005487034,
          974.1054699394153,
          965.6095724402957,
          940.5432918367919,
          905.3598228999343,
          1066.0167582466875,
          1039.8977813213087,
          1099.9577333878485,
          903.193558663546
         ],
         "xaxis": "x",
         "y": [
          83.97784414012301,
          -11.643375307919687,
          20.89905016086721,
          -146.56178975197156,
          55.60842994919095,
          187.11353294079373,
          -88.84874430832926,
          -23.59905251666082,
          -74.56493160142996,
          74.44025546729112,
          -8.515104433936404,
          -124.25935932353406,
          -92.07727352723595,
          11.759328500180171,
          -49.02606744244521,
          -74.04716568560072,
          71.74508449364905,
          -0.7165789615672882,
          33.16987809700442,
          -62.989392968291895,
          36.98826673294223,
          200.49812736963702,
          93.25059915037849,
          -38.666272525616044,
          -38.762677816775586,
          -40.204066610400446,
          100.28132568361839,
          -52.88533238830634,
          90.56107750126617,
          -64.58971638192848,
          136.73245895081615,
          -48.043542841918935,
          -93.11031691093295,
          -189.6795128052899,
          268.3427379527503,
          -9.359978457523756,
          -163.25241497843527,
          -21.393549070047943,
          136.0797932271209,
          -117.55080590358973,
          94.54462967521292,
          43.15747974453142,
          4.1893048536296424,
          -119.71642449868196,
          13.832172028988113,
          -68.79136228573455,
          45.81287562385982,
          19.32541944908894,
          -167.59117603571556,
          -63.65256068957417,
          -18.114800846182714,
          106.09660489459807,
          50.603952995970864,
          79.45403086176113,
          12.509416638121843,
          -35.64989544682622,
          35.988174790858615,
          -177.60632658401065,
          66.01236603766125,
          139.07271036856125,
          153.74730505138302,
          -20.198713041901755,
          -115.88880280166552,
          80.08504306283609,
          2.995580475677442,
          17.696637207026146,
          49.52698729874031,
          73.48500303308688,
          -4.159793324932757,
          157.5015806321611,
          23.29372267614289,
          -82.64820719056495,
          98.8005635138928,
          121.35325291844825,
          -115.41005257344993,
          93.01697795577063,
          18.487281967257076,
          36.20499641601701
         ],
         "yaxis": "y"
        },
        {
         "alignmentgroup": "True",
         "bingroup": "x",
         "hovertemplate": "bin_target=1<br>num1=%{x}<br>count=%{y}<extra></extra>",
         "legendgroup": "1",
         "marker": {
          "color": "#636efa"
         },
         "name": "1",
         "offsetgroup": "1",
         "opacity": 0.5,
         "showlegend": false,
         "type": "histogram",
         "x": [
          1016.3346888431367,
          1026.5040847928187,
          845.2476823270572,
          1079.9421727452507,
          1118.0985249371574,
          916.2904129448764,
          1177.4535559849276,
          1141.9175123185476,
          895.8542144470349,
          969.0481412627644,
          1018.8083930107423,
          1050.353323905601,
          959.8048519307869,
          991.5938460447117,
          861.7654394375762,
          1148.677422072398,
          1036.51392622159,
          866.168998629016,
          1100.705527860966,
          878.929881509275,
          944.6428704316771,
          898.8405263758198,
          902.3181317750715,
          922.8084416733258,
          877.3840065921247,
          1038.6488818926525,
          980.1296972271041,
          1051.6520692920847,
          1008.6289640520635,
          783.1696854164205,
          819.7587542202255,
          1059.6209764430937,
          964.4521913574865,
          933.2112966960651,
          931.1524218967716,
          832.8861156432092,
          994.3768397877835,
          936.3732476821067,
          1032.6595261821635,
          1055.8272595218548,
          873.8874198294759,
          1076.1507453611011,
          896.3953493495569,
          1087.6192522475078,
          1055.9120341460398,
          954.5239014081033,
          1252.2575643080845,
          961.0330103135836,
          1046.447227134473,
          947.1218154009911,
          952.995439999661,
          1162.0194776372373,
          1089.3148754098195,
          1029.3169584645807,
          993.9019564819847,
          1014.1248515955889,
          1038.3591517030063,
          981.0997258394581,
          951.6883027513513,
          1091.8574384523429,
          995.1319357878999,
          1026.0368739936332,
          1055.7018086122446,
          949.920023012839,
          1051.9037280874295,
          1023.5992799171913,
          1017.1469790652327,
          912.037581680923,
          1115.9721110847443,
          821.9356005487034,
          974.1054699394153,
          965.6095724402957,
          940.5432918367919,
          905.3598228999343,
          1066.0167582466875,
          1039.8977813213087,
          1099.9577333878485,
          903.193558663546
         ],
         "xaxis": "x3",
         "yaxis": "y3"
        },
        {
         "alignmentgroup": "True",
         "bingroup": "y",
         "hovertemplate": "bin_target=1<br>num2=%{y}<br>count=%{x}<extra></extra>",
         "legendgroup": "1",
         "marker": {
          "color": "#636efa"
         },
         "name": "1",
         "offsetgroup": "1",
         "opacity": 0.5,
         "showlegend": false,
         "type": "histogram",
         "xaxis": "x2",
         "y": [
          83.97784414012301,
          -11.643375307919687,
          20.89905016086721,
          -146.56178975197156,
          55.60842994919095,
          187.11353294079373,
          -88.84874430832926,
          -23.59905251666082,
          -74.56493160142996,
          74.44025546729112,
          -8.515104433936404,
          -124.25935932353406,
          -92.07727352723595,
          11.759328500180171,
          -49.02606744244521,
          -74.04716568560072,
          71.74508449364905,
          -0.7165789615672882,
          33.16987809700442,
          -62.989392968291895,
          36.98826673294223,
          200.49812736963702,
          93.25059915037849,
          -38.666272525616044,
          -38.762677816775586,
          -40.204066610400446,
          100.28132568361839,
          -52.88533238830634,
          90.56107750126617,
          -64.58971638192848,
          136.73245895081615,
          -48.043542841918935,
          -93.11031691093295,
          -189.6795128052899,
          268.3427379527503,
          -9.359978457523756,
          -163.25241497843527,
          -21.393549070047943,
          136.0797932271209,
          -117.55080590358973,
          94.54462967521292,
          43.15747974453142,
          4.1893048536296424,
          -119.71642449868196,
          13.832172028988113,
          -68.79136228573455,
          45.81287562385982,
          19.32541944908894,
          -167.59117603571556,
          -63.65256068957417,
          -18.114800846182714,
          106.09660489459807,
          50.603952995970864,
          79.45403086176113,
          12.509416638121843,
          -35.64989544682622,
          35.988174790858615,
          -177.60632658401065,
          66.01236603766125,
          139.07271036856125,
          153.74730505138302,
          -20.198713041901755,
          -115.88880280166552,
          80.08504306283609,
          2.995580475677442,
          17.696637207026146,
          49.52698729874031,
          73.48500303308688,
          -4.159793324932757,
          157.5015806321611,
          23.29372267614289,
          -82.64820719056495,
          98.8005635138928,
          121.35325291844825,
          -115.41005257344993,
          93.01697795577063,
          18.487281967257076,
          36.20499641601701
         ],
         "yaxis": "y2"
        },
        {
         "hovertemplate": "bin_target=0<br>num1=%{x}<br>num2=%{y}<extra></extra>",
         "legendgroup": "0",
         "marker": {
          "color": "#EF553B",
          "symbol": "circle"
         },
         "mode": "markers",
         "name": "0",
         "orientation": "v",
         "showlegend": true,
         "type": "scatter",
         "x": [
          1006.9742279892334,
          954.9259759048643,
          1015.9275270561001,
          1032.502993906388,
          1085.4244837294539,
          936.135840418612,
          1128.1057812585711,
          952.4180251598698,
          930.8243670347192,
          1069.1997717336658,
          887.9061113465954,
          956.293336987191,
          912.584747137412,
          829.8565753774953,
          1064.4423572996634,
          904.0555354326959,
          1049.1361926780105,
          1011.9260604958606,
          990.1669329318869,
          1041.2166079853487,
          1037.7148802823142,
          1120.4116878591565
         ],
         "xaxis": "x",
         "y": [
          -158.09181654712754,
          -199.3306225691453,
          84.09170052998559,
          101.09992485352095,
          7.505451937233973,
          -16.744849715561802,
          -113.3777587971831,
          -24.158460375478775,
          0.017330842440083316,
          184.86664405678906,
          -55.332788801061966,
          15.6338534321497,
          146.32881681321524,
          39.902653478280314,
          130.41989831505583,
          65.38895409960526,
          -175.70407484744794,
          102.11690943320585,
          275.03558534917573,
          -7.277378835487859,
          -8.806609244988007,
          105.53468011624503
         ],
         "yaxis": "y"
        },
        {
         "alignmentgroup": "True",
         "bingroup": "x",
         "hovertemplate": "bin_target=0<br>num1=%{x}<br>count=%{y}<extra></extra>",
         "legendgroup": "0",
         "marker": {
          "color": "#EF553B"
         },
         "name": "0",
         "offsetgroup": "0",
         "opacity": 0.5,
         "showlegend": false,
         "type": "histogram",
         "x": [
          1006.9742279892334,
          954.9259759048643,
          1015.9275270561001,
          1032.502993906388,
          1085.4244837294539,
          936.135840418612,
          1128.1057812585711,
          952.4180251598698,
          930.8243670347192,
          1069.1997717336658,
          887.9061113465954,
          956.293336987191,
          912.584747137412,
          829.8565753774953,
          1064.4423572996634,
          904.0555354326959,
          1049.1361926780105,
          1011.9260604958606,
          990.1669329318869,
          1041.2166079853487,
          1037.7148802823142,
          1120.4116878591565
         ],
         "xaxis": "x3",
         "yaxis": "y3"
        },
        {
         "alignmentgroup": "True",
         "bingroup": "y",
         "hovertemplate": "bin_target=0<br>num2=%{y}<br>count=%{x}<extra></extra>",
         "legendgroup": "0",
         "marker": {
          "color": "#EF553B"
         },
         "name": "0",
         "offsetgroup": "0",
         "opacity": 0.5,
         "showlegend": false,
         "type": "histogram",
         "xaxis": "x2",
         "y": [
          -158.09181654712754,
          -199.3306225691453,
          84.09170052998559,
          101.09992485352095,
          7.505451937233973,
          -16.744849715561802,
          -113.3777587971831,
          -24.158460375478775,
          0.017330842440083316,
          184.86664405678906,
          -55.332788801061966,
          15.6338534321497,
          146.32881681321524,
          39.902653478280314,
          130.41989831505583,
          65.38895409960526,
          -175.70407484744794,
          102.11690943320585,
          275.03558534917573,
          -7.277378835487859,
          -8.806609244988007,
          105.53468011624503
         ],
         "yaxis": "y2"
        }
       ],
       "layout": {
        "barmode": "overlay",
        "legend": {
         "title": {
          "text": "bin_target"
         },
         "tracegroupgap": 0
        },
        "margin": {
         "t": 60
        },
        "template": {
         "data": {
          "bar": [
           {
            "error_x": {
             "color": "#2a3f5f"
            },
            "error_y": {
             "color": "#2a3f5f"
            },
            "marker": {
             "line": {
              "color": "#E5ECF6",
              "width": 0.5
             },
             "pattern": {
              "fillmode": "overlay",
              "size": 10,
              "solidity": 0.2
             }
            },
            "type": "bar"
           }
          ],
          "barpolar": [
           {
            "marker": {
             "line": {
              "color": "#E5ECF6",
              "width": 0.5
             },
             "pattern": {
              "fillmode": "overlay",
              "size": 10,
              "solidity": 0.2
             }
            },
            "type": "barpolar"
           }
          ],
          "carpet": [
           {
            "aaxis": {
             "endlinecolor": "#2a3f5f",
             "gridcolor": "white",
             "linecolor": "white",
             "minorgridcolor": "white",
             "startlinecolor": "#2a3f5f"
            },
            "baxis": {
             "endlinecolor": "#2a3f5f",
             "gridcolor": "white",
             "linecolor": "white",
             "minorgridcolor": "white",
             "startlinecolor": "#2a3f5f"
            },
            "type": "carpet"
           }
          ],
          "choropleth": [
           {
            "colorbar": {
             "outlinewidth": 0,
             "ticks": ""
            },
            "type": "choropleth"
           }
          ],
          "contour": [
           {
            "colorbar": {
             "outlinewidth": 0,
             "ticks": ""
            },
            "colorscale": [
             [
              0,
              "#0d0887"
             ],
             [
              0.1111111111111111,
              "#46039f"
             ],
             [
              0.2222222222222222,
              "#7201a8"
             ],
             [
              0.3333333333333333,
              "#9c179e"
             ],
             [
              0.4444444444444444,
              "#bd3786"
             ],
             [
              0.5555555555555556,
              "#d8576b"
             ],
             [
              0.6666666666666666,
              "#ed7953"
             ],
             [
              0.7777777777777778,
              "#fb9f3a"
             ],
             [
              0.8888888888888888,
              "#fdca26"
             ],
             [
              1,
              "#f0f921"
             ]
            ],
            "type": "contour"
           }
          ],
          "contourcarpet": [
           {
            "colorbar": {
             "outlinewidth": 0,
             "ticks": ""
            },
            "type": "contourcarpet"
           }
          ],
          "heatmap": [
           {
            "colorbar": {
             "outlinewidth": 0,
             "ticks": ""
            },
            "colorscale": [
             [
              0,
              "#0d0887"
             ],
             [
              0.1111111111111111,
              "#46039f"
             ],
             [
              0.2222222222222222,
              "#7201a8"
             ],
             [
              0.3333333333333333,
              "#9c179e"
             ],
             [
              0.4444444444444444,
              "#bd3786"
             ],
             [
              0.5555555555555556,
              "#d8576b"
             ],
             [
              0.6666666666666666,
              "#ed7953"
             ],
             [
              0.7777777777777778,
              "#fb9f3a"
             ],
             [
              0.8888888888888888,
              "#fdca26"
             ],
             [
              1,
              "#f0f921"
             ]
            ],
            "type": "heatmap"
           }
          ],
          "heatmapgl": [
           {
            "colorbar": {
             "outlinewidth": 0,
             "ticks": ""
            },
            "colorscale": [
             [
              0,
              "#0d0887"
             ],
             [
              0.1111111111111111,
              "#46039f"
             ],
             [
              0.2222222222222222,
              "#7201a8"
             ],
             [
              0.3333333333333333,
              "#9c179e"
             ],
             [
              0.4444444444444444,
              "#bd3786"
             ],
             [
              0.5555555555555556,
              "#d8576b"
             ],
             [
              0.6666666666666666,
              "#ed7953"
             ],
             [
              0.7777777777777778,
              "#fb9f3a"
             ],
             [
              0.8888888888888888,
              "#fdca26"
             ],
             [
              1,
              "#f0f921"
             ]
            ],
            "type": "heatmapgl"
           }
          ],
          "histogram": [
           {
            "marker": {
             "pattern": {
              "fillmode": "overlay",
              "size": 10,
              "solidity": 0.2
             }
            },
            "type": "histogram"
           }
          ],
          "histogram2d": [
           {
            "colorbar": {
             "outlinewidth": 0,
             "ticks": ""
            },
            "colorscale": [
             [
              0,
              "#0d0887"
             ],
             [
              0.1111111111111111,
              "#46039f"
             ],
             [
              0.2222222222222222,
              "#7201a8"
             ],
             [
              0.3333333333333333,
              "#9c179e"
             ],
             [
              0.4444444444444444,
              "#bd3786"
             ],
             [
              0.5555555555555556,
              "#d8576b"
             ],
             [
              0.6666666666666666,
              "#ed7953"
             ],
             [
              0.7777777777777778,
              "#fb9f3a"
             ],
             [
              0.8888888888888888,
              "#fdca26"
             ],
             [
              1,
              "#f0f921"
             ]
            ],
            "type": "histogram2d"
           }
          ],
          "histogram2dcontour": [
           {
            "colorbar": {
             "outlinewidth": 0,
             "ticks": ""
            },
            "colorscale": [
             [
              0,
              "#0d0887"
             ],
             [
              0.1111111111111111,
              "#46039f"
             ],
             [
              0.2222222222222222,
              "#7201a8"
             ],
             [
              0.3333333333333333,
              "#9c179e"
             ],
             [
              0.4444444444444444,
              "#bd3786"
             ],
             [
              0.5555555555555556,
              "#d8576b"
             ],
             [
              0.6666666666666666,
              "#ed7953"
             ],
             [
              0.7777777777777778,
              "#fb9f3a"
             ],
             [
              0.8888888888888888,
              "#fdca26"
             ],
             [
              1,
              "#f0f921"
             ]
            ],
            "type": "histogram2dcontour"
           }
          ],
          "mesh3d": [
           {
            "colorbar": {
             "outlinewidth": 0,
             "ticks": ""
            },
            "type": "mesh3d"
           }
          ],
          "parcoords": [
           {
            "line": {
             "colorbar": {
              "outlinewidth": 0,
              "ticks": ""
             }
            },
            "type": "parcoords"
           }
          ],
          "pie": [
           {
            "automargin": true,
            "type": "pie"
           }
          ],
          "scatter": [
           {
            "fillpattern": {
             "fillmode": "overlay",
             "size": 10,
             "solidity": 0.2
            },
            "type": "scatter"
           }
          ],
          "scatter3d": [
           {
            "line": {
             "colorbar": {
              "outlinewidth": 0,
              "ticks": ""
             }
            },
            "marker": {
             "colorbar": {
              "outlinewidth": 0,
              "ticks": ""
             }
            },
            "type": "scatter3d"
           }
          ],
          "scattercarpet": [
           {
            "marker": {
             "colorbar": {
              "outlinewidth": 0,
              "ticks": ""
             }
            },
            "type": "scattercarpet"
           }
          ],
          "scattergeo": [
           {
            "marker": {
             "colorbar": {
              "outlinewidth": 0,
              "ticks": ""
             }
            },
            "type": "scattergeo"
           }
          ],
          "scattergl": [
           {
            "marker": {
             "colorbar": {
              "outlinewidth": 0,
              "ticks": ""
             }
            },
            "type": "scattergl"
           }
          ],
          "scattermapbox": [
           {
            "marker": {
             "colorbar": {
              "outlinewidth": 0,
              "ticks": ""
             }
            },
            "type": "scattermapbox"
           }
          ],
          "scatterpolar": [
           {
            "marker": {
             "colorbar": {
              "outlinewidth": 0,
              "ticks": ""
             }
            },
            "type": "scatterpolar"
           }
          ],
          "scatterpolargl": [
           {
            "marker": {
             "colorbar": {
              "outlinewidth": 0,
              "ticks": ""
             }
            },
            "type": "scatterpolargl"
           }
          ],
          "scatterternary": [
           {
            "marker": {
             "colorbar": {
              "outlinewidth": 0,
              "ticks": ""
             }
            },
            "type": "scatterternary"
           }
          ],
          "surface": [
           {
            "colorbar": {
             "outlinewidth": 0,
             "ticks": ""
            },
            "colorscale": [
             [
              0,
              "#0d0887"
             ],
             [
              0.1111111111111111,
              "#46039f"
             ],
             [
              0.2222222222222222,
              "#7201a8"
             ],
             [
              0.3333333333333333,
              "#9c179e"
             ],
             [
              0.4444444444444444,
              "#bd3786"
             ],
             [
              0.5555555555555556,
              "#d8576b"
             ],
             [
              0.6666666666666666,
              "#ed7953"
             ],
             [
              0.7777777777777778,
              "#fb9f3a"
             ],
             [
              0.8888888888888888,
              "#fdca26"
             ],
             [
              1,
              "#f0f921"
             ]
            ],
            "type": "surface"
           }
          ],
          "table": [
           {
            "cells": {
             "fill": {
              "color": "#EBF0F8"
             },
             "line": {
              "color": "white"
             }
            },
            "header": {
             "fill": {
              "color": "#C8D4E3"
             },
             "line": {
              "color": "white"
             }
            },
            "type": "table"
           }
          ]
         },
         "layout": {
          "annotationdefaults": {
           "arrowcolor": "#2a3f5f",
           "arrowhead": 0,
           "arrowwidth": 1
          },
          "autotypenumbers": "strict",
          "coloraxis": {
           "colorbar": {
            "outlinewidth": 0,
            "ticks": ""
           }
          },
          "colorscale": {
           "diverging": [
            [
             0,
             "#8e0152"
            ],
            [
             0.1,
             "#c51b7d"
            ],
            [
             0.2,
             "#de77ae"
            ],
            [
             0.3,
             "#f1b6da"
            ],
            [
             0.4,
             "#fde0ef"
            ],
            [
             0.5,
             "#f7f7f7"
            ],
            [
             0.6,
             "#e6f5d0"
            ],
            [
             0.7,
             "#b8e186"
            ],
            [
             0.8,
             "#7fbc41"
            ],
            [
             0.9,
             "#4d9221"
            ],
            [
             1,
             "#276419"
            ]
           ],
           "sequential": [
            [
             0,
             "#0d0887"
            ],
            [
             0.1111111111111111,
             "#46039f"
            ],
            [
             0.2222222222222222,
             "#7201a8"
            ],
            [
             0.3333333333333333,
             "#9c179e"
            ],
            [
             0.4444444444444444,
             "#bd3786"
            ],
            [
             0.5555555555555556,
             "#d8576b"
            ],
            [
             0.6666666666666666,
             "#ed7953"
            ],
            [
             0.7777777777777778,
             "#fb9f3a"
            ],
            [
             0.8888888888888888,
             "#fdca26"
            ],
            [
             1,
             "#f0f921"
            ]
           ],
           "sequentialminus": [
            [
             0,
             "#0d0887"
            ],
            [
             0.1111111111111111,
             "#46039f"
            ],
            [
             0.2222222222222222,
             "#7201a8"
            ],
            [
             0.3333333333333333,
             "#9c179e"
            ],
            [
             0.4444444444444444,
             "#bd3786"
            ],
            [
             0.5555555555555556,
             "#d8576b"
            ],
            [
             0.6666666666666666,
             "#ed7953"
            ],
            [
             0.7777777777777778,
             "#fb9f3a"
            ],
            [
             0.8888888888888888,
             "#fdca26"
            ],
            [
             1,
             "#f0f921"
            ]
           ]
          },
          "colorway": [
           "#636efa",
           "#EF553B",
           "#00cc96",
           "#ab63fa",
           "#FFA15A",
           "#19d3f3",
           "#FF6692",
           "#B6E880",
           "#FF97FF",
           "#FECB52"
          ],
          "font": {
           "color": "#2a3f5f"
          },
          "geo": {
           "bgcolor": "white",
           "lakecolor": "white",
           "landcolor": "#E5ECF6",
           "showlakes": true,
           "showland": true,
           "subunitcolor": "white"
          },
          "hoverlabel": {
           "align": "left"
          },
          "hovermode": "closest",
          "mapbox": {
           "style": "light"
          },
          "paper_bgcolor": "white",
          "plot_bgcolor": "#E5ECF6",
          "polar": {
           "angularaxis": {
            "gridcolor": "white",
            "linecolor": "white",
            "ticks": ""
           },
           "bgcolor": "#E5ECF6",
           "radialaxis": {
            "gridcolor": "white",
            "linecolor": "white",
            "ticks": ""
           }
          },
          "scene": {
           "xaxis": {
            "backgroundcolor": "#E5ECF6",
            "gridcolor": "white",
            "gridwidth": 2,
            "linecolor": "white",
            "showbackground": true,
            "ticks": "",
            "zerolinecolor": "white"
           },
           "yaxis": {
            "backgroundcolor": "#E5ECF6",
            "gridcolor": "white",
            "gridwidth": 2,
            "linecolor": "white",
            "showbackground": true,
            "ticks": "",
            "zerolinecolor": "white"
           },
           "zaxis": {
            "backgroundcolor": "#E5ECF6",
            "gridcolor": "white",
            "gridwidth": 2,
            "linecolor": "white",
            "showbackground": true,
            "ticks": "",
            "zerolinecolor": "white"
           }
          },
          "shapedefaults": {
           "line": {
            "color": "#2a3f5f"
           }
          },
          "ternary": {
           "aaxis": {
            "gridcolor": "white",
            "linecolor": "white",
            "ticks": ""
           },
           "baxis": {
            "gridcolor": "white",
            "linecolor": "white",
            "ticks": ""
           },
           "bgcolor": "#E5ECF6",
           "caxis": {
            "gridcolor": "white",
            "linecolor": "white",
            "ticks": ""
           }
          },
          "title": {
           "x": 0.05
          },
          "xaxis": {
           "automargin": true,
           "gridcolor": "white",
           "linecolor": "white",
           "ticks": "",
           "title": {
            "standoff": 15
           },
           "zerolinecolor": "white",
           "zerolinewidth": 2
          },
          "yaxis": {
           "automargin": true,
           "gridcolor": "white",
           "linecolor": "white",
           "ticks": "",
           "title": {
            "standoff": 15
           },
           "zerolinecolor": "white",
           "zerolinewidth": 2
          }
         }
        },
        "xaxis": {
         "anchor": "y",
         "domain": [
          0,
          0.7363
         ],
         "title": {
          "text": "num1"
         }
        },
        "xaxis2": {
         "anchor": "y2",
         "domain": [
          0.7413,
          1
         ],
         "matches": "x2",
         "showgrid": true,
         "showline": false,
         "showticklabels": false,
         "ticks": ""
        },
        "xaxis3": {
         "anchor": "y3",
         "domain": [
          0,
          0.7363
         ],
         "matches": "x",
         "showgrid": true,
         "showticklabels": false
        },
        "xaxis4": {
         "anchor": "y4",
         "domain": [
          0.7413,
          1
         ],
         "matches": "x2",
         "showgrid": true,
         "showline": false,
         "showticklabels": false,
         "ticks": ""
        },
        "yaxis": {
         "anchor": "x",
         "domain": [
          0,
          0.7326
         ],
         "title": {
          "text": "num2"
         }
        },
        "yaxis2": {
         "anchor": "x2",
         "domain": [
          0,
          0.7326
         ],
         "matches": "y",
         "showgrid": true,
         "showticklabels": false
        },
        "yaxis3": {
         "anchor": "x3",
         "domain": [
          0.7426,
          1
         ],
         "matches": "y3",
         "showgrid": true,
         "showline": false,
         "showticklabels": false,
         "ticks": ""
        },
        "yaxis4": {
         "anchor": "x4",
         "domain": [
          0.7426,
          1
         ],
         "matches": "y3",
         "showgrid": true,
         "showline": false,
         "showticklabels": false,
         "ticks": ""
        }
       }
      }
     },
     "metadata": {},
     "output_type": "display_data"
    }
   ],
   "source": [
    "df['bin_target'] = df['bin_target'].astype('category')\n",
    "px.scatter(\n",
    "    df, col1, col2,\n",
    "    marginal_x='histogram',\n",
    "    marginal_y='histogram',\n",
    "    color=self.target\n",
    ")"
   ]
  },
  {
   "attachments": {},
   "cell_type": "markdown",
   "metadata": {},
   "source": [
    "# Heatmap Correlation"
   ]
  },
  {
   "cell_type": "code",
   "execution_count": 143,
   "metadata": {},
   "outputs": [],
   "source": [
    "import plotly.io as pio\n",
    "\n",
    "def plot_corr_map(self, cols:list):\n",
    "    import pandas\n",
    "    import pyspark\n",
    "    pio.templates.default = 'plotly_white'\n",
    "    if isinstance(self.data, pyspark.sql.DataFrame):\n",
    "        data = self.data[cols].toPandas()\n",
    "    else:\n",
    "        data = self.data[cols]\n",
    "\n",
    "    corr = data.corr()\n",
    "    mask = np.triu(np.ones_like(corr, dtype=bool))\n",
    "    rLY = corr.mask(mask)\n",
    "\n",
    "    fig = go.Figure(\n",
    "        data=go.Heatmap(\n",
    "            z=corr.mask(mask),\n",
    "            x=corr.columns,\n",
    "            y=corr.columns,\n",
    "            colorscale=colorcet.coolwarm,\n",
    "            zmin=-1,\n",
    "            zmax=1\n",
    "        ),\n",
    "        layout=go.Layout(\n",
    "            autosize=False,\n",
    "            height=800 if len(corr.columns) < 4 else len(corr.columns) * 100,\n",
    "            width=800 if len(corr.columns) < 4 else len(corr.columns) * 100,\n",
    "        ) \n",
    "    )\n",
    "    fig.show() \n",
    "\n",
    "class Explorer: pass\n",
    "Explorer.plot_corr_map = plot_corr_map\n",
    "e = Explorer()\n",
    "e.data = dd"
   ]
  },
  {
   "cell_type": "code",
   "execution_count": 144,
   "metadata": {},
   "outputs": [
    {
     "data": {
      "application/vnd.plotly.v1+json": {
       "config": {
        "plotlyServerURL": "https://plot.ly"
       },
       "data": [
        {
         "colorscale": [
          [
           0,
           "#2050da"
          ],
          [
           0.00392156862745098,
           "#2551db"
          ],
          [
           0.00784313725490196,
           "#2952db"
          ],
          [
           0.011764705882352941,
           "#2d53db"
          ],
          [
           0.01568627450980392,
           "#3155db"
          ],
          [
           0.0196078431372549,
           "#3456db"
          ],
          [
           0.023529411764705882,
           "#3857dc"
          ],
          [
           0.027450980392156862,
           "#3b58dc"
          ],
          [
           0.03137254901960784,
           "#3d59dc"
          ],
          [
           0.03529411764705882,
           "#405adc"
          ],
          [
           0.0392156862745098,
           "#435bdd"
          ],
          [
           0.043137254901960784,
           "#455cdd"
          ],
          [
           0.047058823529411764,
           "#485ddd"
          ],
          [
           0.050980392156862744,
           "#4a5fdd"
          ],
          [
           0.054901960784313725,
           "#4d60dd"
          ],
          [
           0.058823529411764705,
           "#4f61de"
          ],
          [
           0.06274509803921569,
           "#5162de"
          ],
          [
           0.06666666666666667,
           "#5363de"
          ],
          [
           0.07058823529411765,
           "#5664de"
          ],
          [
           0.07450980392156863,
           "#5865de"
          ],
          [
           0.0784313725490196,
           "#5a67df"
          ],
          [
           0.08235294117647059,
           "#5c68df"
          ],
          [
           0.08627450980392157,
           "#5e69df"
          ],
          [
           0.09019607843137255,
           "#606adf"
          ],
          [
           0.09411764705882353,
           "#616be0"
          ],
          [
           0.09803921568627451,
           "#636ce0"
          ],
          [
           0.10196078431372549,
           "#656ee0"
          ],
          [
           0.10588235294117647,
           "#676fe0"
          ],
          [
           0.10980392156862745,
           "#6970e0"
          ],
          [
           0.11372549019607843,
           "#6b71e1"
          ],
          [
           0.11764705882352941,
           "#6c72e1"
          ],
          [
           0.12156862745098039,
           "#6e74e1"
          ],
          [
           0.12549019607843137,
           "#7075e1"
          ],
          [
           0.12941176470588237,
           "#7176e1"
          ],
          [
           0.13333333333333333,
           "#7377e2"
          ],
          [
           0.13725490196078433,
           "#7578e2"
          ],
          [
           0.1411764705882353,
           "#7679e2"
          ],
          [
           0.1450980392156863,
           "#787be2"
          ],
          [
           0.14901960784313725,
           "#7a7ce2"
          ],
          [
           0.15294117647058825,
           "#7b7de2"
          ],
          [
           0.1568627450980392,
           "#7d7ee3"
          ],
          [
           0.1607843137254902,
           "#7e7fe3"
          ],
          [
           0.16470588235294117,
           "#8081e3"
          ],
          [
           0.16862745098039217,
           "#8282e3"
          ],
          [
           0.17254901960784313,
           "#8383e3"
          ],
          [
           0.17647058823529413,
           "#8584e4"
          ],
          [
           0.1803921568627451,
           "#8686e4"
          ],
          [
           0.1843137254901961,
           "#8887e4"
          ],
          [
           0.18823529411764706,
           "#8988e4"
          ],
          [
           0.19215686274509805,
           "#8b89e4"
          ],
          [
           0.19607843137254902,
           "#8c8ae5"
          ],
          [
           0.2,
           "#8e8ce5"
          ],
          [
           0.20392156862745098,
           "#8f8de5"
          ],
          [
           0.20784313725490197,
           "#908ee5"
          ],
          [
           0.21176470588235294,
           "#928fe5"
          ],
          [
           0.21568627450980393,
           "#9391e5"
          ],
          [
           0.2196078431372549,
           "#9592e6"
          ],
          [
           0.2235294117647059,
           "#9693e6"
          ],
          [
           0.22745098039215686,
           "#9894e6"
          ],
          [
           0.23137254901960785,
           "#9996e6"
          ],
          [
           0.23529411764705882,
           "#9a97e6"
          ],
          [
           0.23921568627450981,
           "#9c98e7"
          ],
          [
           0.24313725490196078,
           "#9d99e7"
          ],
          [
           0.24705882352941178,
           "#9e9be7"
          ],
          [
           0.25098039215686274,
           "#a09ce7"
          ],
          [
           0.2549019607843137,
           "#a19de7"
          ],
          [
           0.25882352941176473,
           "#a39ee7"
          ],
          [
           0.2627450980392157,
           "#a4a0e8"
          ],
          [
           0.26666666666666666,
           "#a5a1e8"
          ],
          [
           0.27058823529411763,
           "#a7a2e8"
          ],
          [
           0.27450980392156865,
           "#a8a3e8"
          ],
          [
           0.2784313725490196,
           "#a9a5e8"
          ],
          [
           0.2823529411764706,
           "#aba6e8"
          ],
          [
           0.28627450980392155,
           "#aca7e9"
          ],
          [
           0.2901960784313726,
           "#ada8e9"
          ],
          [
           0.29411764705882354,
           "#afaae9"
          ],
          [
           0.2980392156862745,
           "#b0abe9"
          ],
          [
           0.30196078431372547,
           "#b1ace9"
          ],
          [
           0.3058823529411765,
           "#b2aee9"
          ],
          [
           0.30980392156862746,
           "#b4afea"
          ],
          [
           0.3137254901960784,
           "#b5b0ea"
          ],
          [
           0.3176470588235294,
           "#b6b1ea"
          ],
          [
           0.3215686274509804,
           "#b8b3ea"
          ],
          [
           0.3254901960784314,
           "#b9b4ea"
          ],
          [
           0.32941176470588235,
           "#bab5ea"
          ],
          [
           0.3333333333333333,
           "#bbb7ea"
          ],
          [
           0.33725490196078434,
           "#bdb8eb"
          ],
          [
           0.3411764705882353,
           "#beb9eb"
          ],
          [
           0.34509803921568627,
           "#bfbaeb"
          ],
          [
           0.34901960784313724,
           "#c0bceb"
          ],
          [
           0.35294117647058826,
           "#c2bdeb"
          ],
          [
           0.3568627450980392,
           "#c3beeb"
          ],
          [
           0.3607843137254902,
           "#c4c0ec"
          ],
          [
           0.36470588235294116,
           "#c5c1ec"
          ],
          [
           0.3686274509803922,
           "#c7c2ec"
          ],
          [
           0.37254901960784315,
           "#c8c4ec"
          ],
          [
           0.3764705882352941,
           "#c9c5ec"
          ],
          [
           0.3803921568627451,
           "#cac6ec"
          ],
          [
           0.3843137254901961,
           "#ccc8ec"
          ],
          [
           0.38823529411764707,
           "#cdc9ec"
          ],
          [
           0.39215686274509803,
           "#cecaed"
          ],
          [
           0.396078431372549,
           "#cfcbed"
          ],
          [
           0.4,
           "#d1cded"
          ],
          [
           0.403921568627451,
           "#d2ceed"
          ],
          [
           0.40784313725490196,
           "#d3cfed"
          ],
          [
           0.4117647058823529,
           "#d4d1ed"
          ],
          [
           0.41568627450980394,
           "#d5d2ed"
          ],
          [
           0.4196078431372549,
           "#d7d3ee"
          ],
          [
           0.4235294117647059,
           "#d8d5ee"
          ],
          [
           0.42745098039215684,
           "#d9d6ee"
          ],
          [
           0.43137254901960786,
           "#dad7ee"
          ],
          [
           0.43529411764705883,
           "#dbd9ee"
          ],
          [
           0.4392156862745098,
           "#dddaee"
          ],
          [
           0.44313725490196076,
           "#dedbee"
          ],
          [
           0.4470588235294118,
           "#dfddee"
          ],
          [
           0.45098039215686275,
           "#e0deee"
          ],
          [
           0.4549019607843137,
           "#e1dfee"
          ],
          [
           0.4588235294117647,
           "#e3e0ee"
          ],
          [
           0.4627450980392157,
           "#e4e1ee"
          ],
          [
           0.4666666666666667,
           "#e5e2ee"
          ],
          [
           0.47058823529411764,
           "#e6e3ee"
          ],
          [
           0.4745098039215686,
           "#e7e4ee"
          ],
          [
           0.47843137254901963,
           "#e8e5ed"
          ],
          [
           0.4823529411764706,
           "#e9e6ed"
          ],
          [
           0.48627450980392156,
           "#eae6ec"
          ],
          [
           0.49019607843137253,
           "#ebe7ec"
          ],
          [
           0.49411764705882355,
           "#ece7eb"
          ],
          [
           0.4980392156862745,
           "#ece7ea"
          ],
          [
           0.5019607843137255,
           "#ede7e9"
          ],
          [
           0.5058823529411764,
           "#eee6e8"
          ],
          [
           0.5098039215686274,
           "#eee6e6"
          ],
          [
           0.5137254901960784,
           "#efe5e5"
          ],
          [
           0.5176470588235295,
           "#efe5e4"
          ],
          [
           0.5215686274509804,
           "#f0e4e2"
          ],
          [
           0.5254901960784314,
           "#f0e3e0"
          ],
          [
           0.5294117647058824,
           "#f0e2df"
          ],
          [
           0.5333333333333333,
           "#f1e0dd"
          ],
          [
           0.5372549019607843,
           "#f1dfdb"
          ],
          [
           0.5411764705882353,
           "#f1ded9"
          ],
          [
           0.5450980392156862,
           "#f1dcd7"
          ],
          [
           0.5490196078431373,
           "#f1dbd6"
          ],
          [
           0.5529411764705883,
           "#f1d9d4"
          ],
          [
           0.5568627450980392,
           "#f1d8d2"
          ],
          [
           0.5607843137254902,
           "#f1d6d0"
          ],
          [
           0.5647058823529412,
           "#f1d5ce"
          ],
          [
           0.5686274509803921,
           "#f1d3cc"
          ],
          [
           0.5725490196078431,
           "#f1d2ca"
          ],
          [
           0.5764705882352941,
           "#f1d0c8"
          ],
          [
           0.5803921568627451,
           "#f1cfc6"
          ],
          [
           0.5843137254901961,
           "#f1cdc4"
          ],
          [
           0.5882352941176471,
           "#f1ccc2"
          ],
          [
           0.592156862745098,
           "#f1cac0"
          ],
          [
           0.596078431372549,
           "#f1c9bf"
          ],
          [
           0.6,
           "#f1c7bd"
          ],
          [
           0.6039215686274509,
           "#f1c5bb"
          ],
          [
           0.6078431372549019,
           "#f1c4b9"
          ],
          [
           0.611764705882353,
           "#f0c2b7"
          ],
          [
           0.615686274509804,
           "#f0c1b5"
          ],
          [
           0.6196078431372549,
           "#f0bfb3"
          ],
          [
           0.6235294117647059,
           "#f0beb1"
          ],
          [
           0.6274509803921569,
           "#f0bcaf"
          ],
          [
           0.6313725490196078,
           "#f0bbad"
          ],
          [
           0.6352941176470588,
           "#efb9ac"
          ],
          [
           0.6392156862745098,
           "#efb7aa"
          ],
          [
           0.6431372549019608,
           "#efb6a8"
          ],
          [
           0.6470588235294118,
           "#efb4a6"
          ],
          [
           0.6509803921568628,
           "#efb3a4"
          ],
          [
           0.6549019607843137,
           "#eeb1a2"
          ],
          [
           0.6588235294117647,
           "#eeb0a0"
          ],
          [
           0.6627450980392157,
           "#eeae9e"
          ],
          [
           0.6666666666666666,
           "#eead9d"
          ],
          [
           0.6705882352941176,
           "#edab9b"
          ],
          [
           0.6745098039215687,
           "#eda999"
          ],
          [
           0.6784313725490196,
           "#eda897"
          ],
          [
           0.6823529411764706,
           "#eda695"
          ],
          [
           0.6862745098039216,
           "#eca593"
          ],
          [
           0.6901960784313725,
           "#eca391"
          ],
          [
           0.6941176470588235,
           "#eca290"
          ],
          [
           0.6980392156862745,
           "#eba08e"
          ],
          [
           0.7019607843137254,
           "#eb9f8c"
          ],
          [
           0.7058823529411765,
           "#eb9d8a"
          ],
          [
           0.7098039215686275,
           "#ea9b88"
          ],
          [
           0.7137254901960784,
           "#ea9a87"
          ],
          [
           0.7176470588235294,
           "#ea9885"
          ],
          [
           0.7215686274509804,
           "#e99783"
          ],
          [
           0.7254901960784313,
           "#e99581"
          ],
          [
           0.7294117647058823,
           "#e9947f"
          ],
          [
           0.7333333333333333,
           "#e8927d"
          ],
          [
           0.7372549019607844,
           "#e8907c"
          ],
          [
           0.7411764705882353,
           "#e88f7a"
          ],
          [
           0.7450980392156863,
           "#e78d78"
          ],
          [
           0.7490196078431373,
           "#e78c76"
          ],
          [
           0.7529411764705882,
           "#e68a75"
          ],
          [
           0.7568627450980392,
           "#e68973"
          ],
          [
           0.7607843137254902,
           "#e58771"
          ],
          [
           0.7647058823529411,
           "#e5856f"
          ],
          [
           0.7686274509803922,
           "#e5846d"
          ],
          [
           0.7725490196078432,
           "#e4826c"
          ],
          [
           0.7764705882352941,
           "#e4816a"
          ],
          [
           0.7803921568627451,
           "#e37f68"
          ],
          [
           0.7843137254901961,
           "#e37d66"
          ],
          [
           0.788235294117647,
           "#e27c65"
          ],
          [
           0.792156862745098,
           "#e27a63"
          ],
          [
           0.796078431372549,
           "#e17961"
          ],
          [
           0.8,
           "#e1775f"
          ],
          [
           0.803921568627451,
           "#e0755e"
          ],
          [
           0.807843137254902,
           "#e0745c"
          ],
          [
           0.8117647058823529,
           "#df725a"
          ],
          [
           0.8156862745098039,
           "#df7158"
          ],
          [
           0.8196078431372549,
           "#de6f57"
          ],
          [
           0.8235294117647058,
           "#de6d55"
          ],
          [
           0.8274509803921568,
           "#dd6c53"
          ],
          [
           0.8313725490196079,
           "#dd6a52"
          ],
          [
           0.8352941176470589,
           "#dc6850"
          ],
          [
           0.8392156862745098,
           "#db674e"
          ],
          [
           0.8431372549019608,
           "#db654c"
          ],
          [
           0.8470588235294118,
           "#da634b"
          ],
          [
           0.8509803921568627,
           "#da6249"
          ],
          [
           0.8549019607843137,
           "#d96047"
          ],
          [
           0.8588235294117647,
           "#d95e46"
          ],
          [
           0.8627450980392157,
           "#d85d44"
          ],
          [
           0.8666666666666667,
           "#d75b42"
          ],
          [
           0.8705882352941177,
           "#d75940"
          ],
          [
           0.8745098039215686,
           "#d6573f"
          ],
          [
           0.8784313725490196,
           "#d5563d"
          ],
          [
           0.8823529411764706,
           "#d5543b"
          ],
          [
           0.8862745098039215,
           "#d4523a"
          ],
          [
           0.8901960784313725,
           "#d45038"
          ],
          [
           0.8941176470588236,
           "#d34e36"
          ],
          [
           0.8980392156862745,
           "#d24d35"
          ],
          [
           0.9019607843137255,
           "#d24b33"
          ],
          [
           0.9058823529411765,
           "#d14931"
          ],
          [
           0.9098039215686274,
           "#d04730"
          ],
          [
           0.9137254901960784,
           "#d0452e"
          ],
          [
           0.9176470588235294,
           "#cf432c"
          ],
          [
           0.9215686274509803,
           "#ce412a"
          ],
          [
           0.9254901960784314,
           "#ce3f29"
          ],
          [
           0.9294117647058824,
           "#cd3d27"
          ],
          [
           0.9333333333333333,
           "#cc3b25"
          ],
          [
           0.9372549019607843,
           "#cb3924"
          ],
          [
           0.9411764705882353,
           "#cb3722"
          ],
          [
           0.9450980392156862,
           "#ca3420"
          ],
          [
           0.9490196078431372,
           "#c9321e"
          ],
          [
           0.9529411764705882,
           "#c9301d"
          ],
          [
           0.9568627450980393,
           "#c82d1b"
          ],
          [
           0.9607843137254902,
           "#c72b19"
          ],
          [
           0.9647058823529412,
           "#c62817"
          ],
          [
           0.9686274509803922,
           "#c62515"
          ],
          [
           0.9725490196078431,
           "#c52214"
          ],
          [
           0.9764705882352941,
           "#c41f12"
          ],
          [
           0.9803921568627451,
           "#c31c10"
          ],
          [
           0.984313725490196,
           "#c3180e"
          ],
          [
           0.9882352941176471,
           "#c2140c"
          ],
          [
           0.9921568627450981,
           "#c10f09"
          ],
          [
           0.996078431372549,
           "#c00907"
          ],
          [
           1,
           "#bf0205"
          ]
         ],
         "type": "heatmap",
         "x": [
          "num1",
          "num2"
         ],
         "y": [
          "num1",
          "num2"
         ],
         "z": [
          [
           null,
           null
          ],
          [
           -0.11360231661057575,
           null
          ]
         ],
         "zmax": 1,
         "zmin": -1
        }
       ],
       "layout": {
        "autosize": false,
        "height": 800,
        "template": {
         "data": {
          "bar": [
           {
            "error_x": {
             "color": "#2a3f5f"
            },
            "error_y": {
             "color": "#2a3f5f"
            },
            "marker": {
             "line": {
              "color": "white",
              "width": 0.5
             },
             "pattern": {
              "fillmode": "overlay",
              "size": 10,
              "solidity": 0.2
             }
            },
            "type": "bar"
           }
          ],
          "barpolar": [
           {
            "marker": {
             "line": {
              "color": "white",
              "width": 0.5
             },
             "pattern": {
              "fillmode": "overlay",
              "size": 10,
              "solidity": 0.2
             }
            },
            "type": "barpolar"
           }
          ],
          "carpet": [
           {
            "aaxis": {
             "endlinecolor": "#2a3f5f",
             "gridcolor": "#C8D4E3",
             "linecolor": "#C8D4E3",
             "minorgridcolor": "#C8D4E3",
             "startlinecolor": "#2a3f5f"
            },
            "baxis": {
             "endlinecolor": "#2a3f5f",
             "gridcolor": "#C8D4E3",
             "linecolor": "#C8D4E3",
             "minorgridcolor": "#C8D4E3",
             "startlinecolor": "#2a3f5f"
            },
            "type": "carpet"
           }
          ],
          "choropleth": [
           {
            "colorbar": {
             "outlinewidth": 0,
             "ticks": ""
            },
            "type": "choropleth"
           }
          ],
          "contour": [
           {
            "colorbar": {
             "outlinewidth": 0,
             "ticks": ""
            },
            "colorscale": [
             [
              0,
              "#0d0887"
             ],
             [
              0.1111111111111111,
              "#46039f"
             ],
             [
              0.2222222222222222,
              "#7201a8"
             ],
             [
              0.3333333333333333,
              "#9c179e"
             ],
             [
              0.4444444444444444,
              "#bd3786"
             ],
             [
              0.5555555555555556,
              "#d8576b"
             ],
             [
              0.6666666666666666,
              "#ed7953"
             ],
             [
              0.7777777777777778,
              "#fb9f3a"
             ],
             [
              0.8888888888888888,
              "#fdca26"
             ],
             [
              1,
              "#f0f921"
             ]
            ],
            "type": "contour"
           }
          ],
          "contourcarpet": [
           {
            "colorbar": {
             "outlinewidth": 0,
             "ticks": ""
            },
            "type": "contourcarpet"
           }
          ],
          "heatmap": [
           {
            "colorbar": {
             "outlinewidth": 0,
             "ticks": ""
            },
            "colorscale": [
             [
              0,
              "#0d0887"
             ],
             [
              0.1111111111111111,
              "#46039f"
             ],
             [
              0.2222222222222222,
              "#7201a8"
             ],
             [
              0.3333333333333333,
              "#9c179e"
             ],
             [
              0.4444444444444444,
              "#bd3786"
             ],
             [
              0.5555555555555556,
              "#d8576b"
             ],
             [
              0.6666666666666666,
              "#ed7953"
             ],
             [
              0.7777777777777778,
              "#fb9f3a"
             ],
             [
              0.8888888888888888,
              "#fdca26"
             ],
             [
              1,
              "#f0f921"
             ]
            ],
            "type": "heatmap"
           }
          ],
          "heatmapgl": [
           {
            "colorbar": {
             "outlinewidth": 0,
             "ticks": ""
            },
            "colorscale": [
             [
              0,
              "#0d0887"
             ],
             [
              0.1111111111111111,
              "#46039f"
             ],
             [
              0.2222222222222222,
              "#7201a8"
             ],
             [
              0.3333333333333333,
              "#9c179e"
             ],
             [
              0.4444444444444444,
              "#bd3786"
             ],
             [
              0.5555555555555556,
              "#d8576b"
             ],
             [
              0.6666666666666666,
              "#ed7953"
             ],
             [
              0.7777777777777778,
              "#fb9f3a"
             ],
             [
              0.8888888888888888,
              "#fdca26"
             ],
             [
              1,
              "#f0f921"
             ]
            ],
            "type": "heatmapgl"
           }
          ],
          "histogram": [
           {
            "marker": {
             "pattern": {
              "fillmode": "overlay",
              "size": 10,
              "solidity": 0.2
             }
            },
            "type": "histogram"
           }
          ],
          "histogram2d": [
           {
            "colorbar": {
             "outlinewidth": 0,
             "ticks": ""
            },
            "colorscale": [
             [
              0,
              "#0d0887"
             ],
             [
              0.1111111111111111,
              "#46039f"
             ],
             [
              0.2222222222222222,
              "#7201a8"
             ],
             [
              0.3333333333333333,
              "#9c179e"
             ],
             [
              0.4444444444444444,
              "#bd3786"
             ],
             [
              0.5555555555555556,
              "#d8576b"
             ],
             [
              0.6666666666666666,
              "#ed7953"
             ],
             [
              0.7777777777777778,
              "#fb9f3a"
             ],
             [
              0.8888888888888888,
              "#fdca26"
             ],
             [
              1,
              "#f0f921"
             ]
            ],
            "type": "histogram2d"
           }
          ],
          "histogram2dcontour": [
           {
            "colorbar": {
             "outlinewidth": 0,
             "ticks": ""
            },
            "colorscale": [
             [
              0,
              "#0d0887"
             ],
             [
              0.1111111111111111,
              "#46039f"
             ],
             [
              0.2222222222222222,
              "#7201a8"
             ],
             [
              0.3333333333333333,
              "#9c179e"
             ],
             [
              0.4444444444444444,
              "#bd3786"
             ],
             [
              0.5555555555555556,
              "#d8576b"
             ],
             [
              0.6666666666666666,
              "#ed7953"
             ],
             [
              0.7777777777777778,
              "#fb9f3a"
             ],
             [
              0.8888888888888888,
              "#fdca26"
             ],
             [
              1,
              "#f0f921"
             ]
            ],
            "type": "histogram2dcontour"
           }
          ],
          "mesh3d": [
           {
            "colorbar": {
             "outlinewidth": 0,
             "ticks": ""
            },
            "type": "mesh3d"
           }
          ],
          "parcoords": [
           {
            "line": {
             "colorbar": {
              "outlinewidth": 0,
              "ticks": ""
             }
            },
            "type": "parcoords"
           }
          ],
          "pie": [
           {
            "automargin": true,
            "type": "pie"
           }
          ],
          "scatter": [
           {
            "fillpattern": {
             "fillmode": "overlay",
             "size": 10,
             "solidity": 0.2
            },
            "type": "scatter"
           }
          ],
          "scatter3d": [
           {
            "line": {
             "colorbar": {
              "outlinewidth": 0,
              "ticks": ""
             }
            },
            "marker": {
             "colorbar": {
              "outlinewidth": 0,
              "ticks": ""
             }
            },
            "type": "scatter3d"
           }
          ],
          "scattercarpet": [
           {
            "marker": {
             "colorbar": {
              "outlinewidth": 0,
              "ticks": ""
             }
            },
            "type": "scattercarpet"
           }
          ],
          "scattergeo": [
           {
            "marker": {
             "colorbar": {
              "outlinewidth": 0,
              "ticks": ""
             }
            },
            "type": "scattergeo"
           }
          ],
          "scattergl": [
           {
            "marker": {
             "colorbar": {
              "outlinewidth": 0,
              "ticks": ""
             }
            },
            "type": "scattergl"
           }
          ],
          "scattermapbox": [
           {
            "marker": {
             "colorbar": {
              "outlinewidth": 0,
              "ticks": ""
             }
            },
            "type": "scattermapbox"
           }
          ],
          "scatterpolar": [
           {
            "marker": {
             "colorbar": {
              "outlinewidth": 0,
              "ticks": ""
             }
            },
            "type": "scatterpolar"
           }
          ],
          "scatterpolargl": [
           {
            "marker": {
             "colorbar": {
              "outlinewidth": 0,
              "ticks": ""
             }
            },
            "type": "scatterpolargl"
           }
          ],
          "scatterternary": [
           {
            "marker": {
             "colorbar": {
              "outlinewidth": 0,
              "ticks": ""
             }
            },
            "type": "scatterternary"
           }
          ],
          "surface": [
           {
            "colorbar": {
             "outlinewidth": 0,
             "ticks": ""
            },
            "colorscale": [
             [
              0,
              "#0d0887"
             ],
             [
              0.1111111111111111,
              "#46039f"
             ],
             [
              0.2222222222222222,
              "#7201a8"
             ],
             [
              0.3333333333333333,
              "#9c179e"
             ],
             [
              0.4444444444444444,
              "#bd3786"
             ],
             [
              0.5555555555555556,
              "#d8576b"
             ],
             [
              0.6666666666666666,
              "#ed7953"
             ],
             [
              0.7777777777777778,
              "#fb9f3a"
             ],
             [
              0.8888888888888888,
              "#fdca26"
             ],
             [
              1,
              "#f0f921"
             ]
            ],
            "type": "surface"
           }
          ],
          "table": [
           {
            "cells": {
             "fill": {
              "color": "#EBF0F8"
             },
             "line": {
              "color": "white"
             }
            },
            "header": {
             "fill": {
              "color": "#C8D4E3"
             },
             "line": {
              "color": "white"
             }
            },
            "type": "table"
           }
          ]
         },
         "layout": {
          "annotationdefaults": {
           "arrowcolor": "#2a3f5f",
           "arrowhead": 0,
           "arrowwidth": 1
          },
          "autotypenumbers": "strict",
          "coloraxis": {
           "colorbar": {
            "outlinewidth": 0,
            "ticks": ""
           }
          },
          "colorscale": {
           "diverging": [
            [
             0,
             "#8e0152"
            ],
            [
             0.1,
             "#c51b7d"
            ],
            [
             0.2,
             "#de77ae"
            ],
            [
             0.3,
             "#f1b6da"
            ],
            [
             0.4,
             "#fde0ef"
            ],
            [
             0.5,
             "#f7f7f7"
            ],
            [
             0.6,
             "#e6f5d0"
            ],
            [
             0.7,
             "#b8e186"
            ],
            [
             0.8,
             "#7fbc41"
            ],
            [
             0.9,
             "#4d9221"
            ],
            [
             1,
             "#276419"
            ]
           ],
           "sequential": [
            [
             0,
             "#0d0887"
            ],
            [
             0.1111111111111111,
             "#46039f"
            ],
            [
             0.2222222222222222,
             "#7201a8"
            ],
            [
             0.3333333333333333,
             "#9c179e"
            ],
            [
             0.4444444444444444,
             "#bd3786"
            ],
            [
             0.5555555555555556,
             "#d8576b"
            ],
            [
             0.6666666666666666,
             "#ed7953"
            ],
            [
             0.7777777777777778,
             "#fb9f3a"
            ],
            [
             0.8888888888888888,
             "#fdca26"
            ],
            [
             1,
             "#f0f921"
            ]
           ],
           "sequentialminus": [
            [
             0,
             "#0d0887"
            ],
            [
             0.1111111111111111,
             "#46039f"
            ],
            [
             0.2222222222222222,
             "#7201a8"
            ],
            [
             0.3333333333333333,
             "#9c179e"
            ],
            [
             0.4444444444444444,
             "#bd3786"
            ],
            [
             0.5555555555555556,
             "#d8576b"
            ],
            [
             0.6666666666666666,
             "#ed7953"
            ],
            [
             0.7777777777777778,
             "#fb9f3a"
            ],
            [
             0.8888888888888888,
             "#fdca26"
            ],
            [
             1,
             "#f0f921"
            ]
           ]
          },
          "colorway": [
           "#636efa",
           "#EF553B",
           "#00cc96",
           "#ab63fa",
           "#FFA15A",
           "#19d3f3",
           "#FF6692",
           "#B6E880",
           "#FF97FF",
           "#FECB52"
          ],
          "font": {
           "color": "#2a3f5f"
          },
          "geo": {
           "bgcolor": "white",
           "lakecolor": "white",
           "landcolor": "white",
           "showlakes": true,
           "showland": true,
           "subunitcolor": "#C8D4E3"
          },
          "hoverlabel": {
           "align": "left"
          },
          "hovermode": "closest",
          "mapbox": {
           "style": "light"
          },
          "paper_bgcolor": "white",
          "plot_bgcolor": "white",
          "polar": {
           "angularaxis": {
            "gridcolor": "#EBF0F8",
            "linecolor": "#EBF0F8",
            "ticks": ""
           },
           "bgcolor": "white",
           "radialaxis": {
            "gridcolor": "#EBF0F8",
            "linecolor": "#EBF0F8",
            "ticks": ""
           }
          },
          "scene": {
           "xaxis": {
            "backgroundcolor": "white",
            "gridcolor": "#DFE8F3",
            "gridwidth": 2,
            "linecolor": "#EBF0F8",
            "showbackground": true,
            "ticks": "",
            "zerolinecolor": "#EBF0F8"
           },
           "yaxis": {
            "backgroundcolor": "white",
            "gridcolor": "#DFE8F3",
            "gridwidth": 2,
            "linecolor": "#EBF0F8",
            "showbackground": true,
            "ticks": "",
            "zerolinecolor": "#EBF0F8"
           },
           "zaxis": {
            "backgroundcolor": "white",
            "gridcolor": "#DFE8F3",
            "gridwidth": 2,
            "linecolor": "#EBF0F8",
            "showbackground": true,
            "ticks": "",
            "zerolinecolor": "#EBF0F8"
           }
          },
          "shapedefaults": {
           "line": {
            "color": "#2a3f5f"
           }
          },
          "ternary": {
           "aaxis": {
            "gridcolor": "#DFE8F3",
            "linecolor": "#A2B1C6",
            "ticks": ""
           },
           "baxis": {
            "gridcolor": "#DFE8F3",
            "linecolor": "#A2B1C6",
            "ticks": ""
           },
           "bgcolor": "white",
           "caxis": {
            "gridcolor": "#DFE8F3",
            "linecolor": "#A2B1C6",
            "ticks": ""
           }
          },
          "title": {
           "x": 0.05
          },
          "xaxis": {
           "automargin": true,
           "gridcolor": "#EBF0F8",
           "linecolor": "#EBF0F8",
           "ticks": "",
           "title": {
            "standoff": 15
           },
           "zerolinecolor": "#EBF0F8",
           "zerolinewidth": 2
          },
          "yaxis": {
           "automargin": true,
           "gridcolor": "#EBF0F8",
           "linecolor": "#EBF0F8",
           "ticks": "",
           "title": {
            "standoff": 15
           },
           "zerolinecolor": "#EBF0F8",
           "zerolinewidth": 2
          }
         }
        },
        "width": 800
       }
      }
     },
     "metadata": {},
     "output_type": "display_data"
    }
   ],
   "source": [
    "e.plot_corr_map(['num1', 'num2'])"
   ]
  },
  {
   "attachments": {},
   "cell_type": "markdown",
   "metadata": {},
   "source": [
    "# Missing Values"
   ]
  },
  {
   "cell_type": "code",
   "execution_count": 172,
   "metadata": {},
   "outputs": [
    {
     "name": "stderr",
     "output_type": "stream",
     "text": [
      "/home/aadi/miniconda3/envs/spark_env/lib/python3.8/site-packages/pyspark/sql/pandas/conversion.py:371: FutureWarning:\n",
      "\n",
      "iteritems is deprecated and will be removed in a future version. Use .items instead.\n",
      "\n"
     ]
    },
    {
     "data": {
      "text/html": [
       "<div>\n",
       "<style scoped>\n",
       "    .dataframe tbody tr th:only-of-type {\n",
       "        vertical-align: middle;\n",
       "    }\n",
       "\n",
       "    .dataframe tbody tr th {\n",
       "        vertical-align: top;\n",
       "    }\n",
       "\n",
       "    .dataframe thead th {\n",
       "        text-align: right;\n",
       "    }\n",
       "</style>\n",
       "<table border=\"1\" class=\"dataframe\">\n",
       "  <thead>\n",
       "    <tr style=\"text-align: right;\">\n",
       "      <th></th>\n",
       "      <th>num1</th>\n",
       "      <th>num2</th>\n",
       "      <th>cat1</th>\n",
       "      <th>cat2</th>\n",
       "    </tr>\n",
       "  </thead>\n",
       "  <tbody>\n",
       "    <tr>\n",
       "      <th>0</th>\n",
       "      <td>0.0</td>\n",
       "      <td>0.0</td>\n",
       "      <td>0.2584</td>\n",
       "      <td>0.2525</td>\n",
       "    </tr>\n",
       "  </tbody>\n",
       "</table>\n",
       "</div>"
      ],
      "text/plain": [
       "   num1  num2    cat1    cat2\n",
       "0   0.0   0.0  0.2584  0.2525"
      ]
     },
     "execution_count": 172,
     "metadata": {},
     "output_type": "execute_result"
    }
   ],
   "source": [
    "from pyspark.sql import functions as F\n",
    "\n",
    "N = 10000\n",
    "df = pd.DataFrame({\n",
    "    'num1': np.random.normal(100, 10, size=N),\n",
    "    'num2': np.random.normal(100, 10, size=N),\n",
    "    'cat1': np.random.choice(('a', 'b', 'c', None), size=N),\n",
    "    'cat2': np.random.choice(('a', 'b', 'c', None), size=N),\n",
    "})\n",
    "\n",
    "dd = spark.createDataFrame(df)\n",
    "\n",
    "perc_missing = dd.select([(F.count(F.when(F.isnan(c) | F.col(c).isNull(), c))/F.count(F.lit(1))).alias(c) for c in dd.columns]).toPandas()\n",
    "perc_missing"
   ]
  },
  {
   "cell_type": "code",
   "execution_count": 165,
   "metadata": {},
   "outputs": [
    {
     "data": {
      "text/plain": [
       "array([[0.    , 0.    , 0.2546, 0.2451]])"
      ]
     },
     "execution_count": 165,
     "metadata": {},
     "output_type": "execute_result"
    }
   ],
   "source": [
    "perc_missing.values\n"
   ]
  },
  {
   "cell_type": "code",
   "execution_count": 166,
   "metadata": {},
   "outputs": [],
   "source": [
    "df = df.iloc[:, [i for i, n in enumerate(np.var(df.isnull(), axis='rows')) if n > 0]]\n",
    "corr_mat = df.isnull().corr()"
   ]
  },
  {
   "cell_type": "code",
   "execution_count": 173,
   "metadata": {},
   "outputs": [
    {
     "data": {
      "text/html": [
       "<div>\n",
       "<style scoped>\n",
       "    .dataframe tbody tr th:only-of-type {\n",
       "        vertical-align: middle;\n",
       "    }\n",
       "\n",
       "    .dataframe tbody tr th {\n",
       "        vertical-align: top;\n",
       "    }\n",
       "\n",
       "    .dataframe thead th {\n",
       "        text-align: right;\n",
       "    }\n",
       "</style>\n",
       "<table border=\"1\" class=\"dataframe\">\n",
       "  <thead>\n",
       "    <tr style=\"text-align: right;\">\n",
       "      <th></th>\n",
       "      <th>num1</th>\n",
       "      <th>num2</th>\n",
       "      <th>cat1</th>\n",
       "      <th>cat2</th>\n",
       "    </tr>\n",
       "  </thead>\n",
       "  <tbody>\n",
       "    <tr>\n",
       "      <th>0</th>\n",
       "      <td>121.083356</td>\n",
       "      <td>89.056597</td>\n",
       "      <td>None</td>\n",
       "      <td>a</td>\n",
       "    </tr>\n",
       "    <tr>\n",
       "      <th>1</th>\n",
       "      <td>99.497182</td>\n",
       "      <td>91.558549</td>\n",
       "      <td>a</td>\n",
       "      <td>c</td>\n",
       "    </tr>\n",
       "    <tr>\n",
       "      <th>2</th>\n",
       "      <td>93.158829</td>\n",
       "      <td>96.360426</td>\n",
       "      <td>c</td>\n",
       "      <td>c</td>\n",
       "    </tr>\n",
       "    <tr>\n",
       "      <th>3</th>\n",
       "      <td>104.238097</td>\n",
       "      <td>106.300758</td>\n",
       "      <td>b</td>\n",
       "      <td>a</td>\n",
       "    </tr>\n",
       "    <tr>\n",
       "      <th>4</th>\n",
       "      <td>82.883019</td>\n",
       "      <td>101.571009</td>\n",
       "      <td>a</td>\n",
       "      <td>b</td>\n",
       "    </tr>\n",
       "    <tr>\n",
       "      <th>...</th>\n",
       "      <td>...</td>\n",
       "      <td>...</td>\n",
       "      <td>...</td>\n",
       "      <td>...</td>\n",
       "    </tr>\n",
       "    <tr>\n",
       "      <th>9995</th>\n",
       "      <td>101.635382</td>\n",
       "      <td>104.079928</td>\n",
       "      <td>b</td>\n",
       "      <td>b</td>\n",
       "    </tr>\n",
       "    <tr>\n",
       "      <th>9996</th>\n",
       "      <td>90.963823</td>\n",
       "      <td>87.152202</td>\n",
       "      <td>a</td>\n",
       "      <td>c</td>\n",
       "    </tr>\n",
       "    <tr>\n",
       "      <th>9997</th>\n",
       "      <td>97.515792</td>\n",
       "      <td>104.485899</td>\n",
       "      <td>None</td>\n",
       "      <td>a</td>\n",
       "    </tr>\n",
       "    <tr>\n",
       "      <th>9998</th>\n",
       "      <td>97.613713</td>\n",
       "      <td>97.051310</td>\n",
       "      <td>None</td>\n",
       "      <td>c</td>\n",
       "    </tr>\n",
       "    <tr>\n",
       "      <th>9999</th>\n",
       "      <td>96.081401</td>\n",
       "      <td>113.764230</td>\n",
       "      <td>None</td>\n",
       "      <td>b</td>\n",
       "    </tr>\n",
       "  </tbody>\n",
       "</table>\n",
       "<p>10000 rows × 4 columns</p>\n",
       "</div>"
      ],
      "text/plain": [
       "            num1        num2  cat1 cat2\n",
       "0     121.083356   89.056597  None    a\n",
       "1      99.497182   91.558549     a    c\n",
       "2      93.158829   96.360426     c    c\n",
       "3     104.238097  106.300758     b    a\n",
       "4      82.883019  101.571009     a    b\n",
       "...          ...         ...   ...  ...\n",
       "9995  101.635382  104.079928     b    b\n",
       "9996   90.963823   87.152202     a    c\n",
       "9997   97.515792  104.485899  None    a\n",
       "9998   97.613713   97.051310  None    c\n",
       "9999   96.081401  113.764230  None    b\n",
       "\n",
       "[10000 rows x 4 columns]"
      ]
     },
     "execution_count": 173,
     "metadata": {},
     "output_type": "execute_result"
    }
   ],
   "source": [
    "df"
   ]
  },
  {
   "cell_type": "code",
   "execution_count": 174,
   "metadata": {},
   "outputs": [
    {
     "data": {
      "text/html": [
       "<div>\n",
       "<style scoped>\n",
       "    .dataframe tbody tr th:only-of-type {\n",
       "        vertical-align: middle;\n",
       "    }\n",
       "\n",
       "    .dataframe tbody tr th {\n",
       "        vertical-align: top;\n",
       "    }\n",
       "\n",
       "    .dataframe thead th {\n",
       "        text-align: right;\n",
       "    }\n",
       "</style>\n",
       "<table border=\"1\" class=\"dataframe\">\n",
       "  <thead>\n",
       "    <tr style=\"text-align: right;\">\n",
       "      <th></th>\n",
       "      <th>cat1</th>\n",
       "      <th>cat2</th>\n",
       "      <th>num1</th>\n",
       "      <th>num2</th>\n",
       "    </tr>\n",
       "  </thead>\n",
       "  <tbody>\n",
       "    <tr>\n",
       "      <th>0</th>\n",
       "      <td>None</td>\n",
       "      <td>a</td>\n",
       "      <td>121.083356</td>\n",
       "      <td>89.056597</td>\n",
       "    </tr>\n",
       "    <tr>\n",
       "      <th>1</th>\n",
       "      <td>a</td>\n",
       "      <td>c</td>\n",
       "      <td>99.497182</td>\n",
       "      <td>91.558549</td>\n",
       "    </tr>\n",
       "    <tr>\n",
       "      <th>2</th>\n",
       "      <td>c</td>\n",
       "      <td>c</td>\n",
       "      <td>93.158829</td>\n",
       "      <td>96.360426</td>\n",
       "    </tr>\n",
       "    <tr>\n",
       "      <th>3</th>\n",
       "      <td>b</td>\n",
       "      <td>a</td>\n",
       "      <td>104.238097</td>\n",
       "      <td>106.300758</td>\n",
       "    </tr>\n",
       "    <tr>\n",
       "      <th>4</th>\n",
       "      <td>a</td>\n",
       "      <td>b</td>\n",
       "      <td>82.883019</td>\n",
       "      <td>101.571009</td>\n",
       "    </tr>\n",
       "    <tr>\n",
       "      <th>...</th>\n",
       "      <td>...</td>\n",
       "      <td>...</td>\n",
       "      <td>...</td>\n",
       "      <td>...</td>\n",
       "    </tr>\n",
       "    <tr>\n",
       "      <th>9995</th>\n",
       "      <td>b</td>\n",
       "      <td>b</td>\n",
       "      <td>101.635382</td>\n",
       "      <td>104.079928</td>\n",
       "    </tr>\n",
       "    <tr>\n",
       "      <th>9996</th>\n",
       "      <td>a</td>\n",
       "      <td>c</td>\n",
       "      <td>90.963823</td>\n",
       "      <td>87.152202</td>\n",
       "    </tr>\n",
       "    <tr>\n",
       "      <th>9997</th>\n",
       "      <td>None</td>\n",
       "      <td>a</td>\n",
       "      <td>97.515792</td>\n",
       "      <td>104.485899</td>\n",
       "    </tr>\n",
       "    <tr>\n",
       "      <th>9998</th>\n",
       "      <td>None</td>\n",
       "      <td>c</td>\n",
       "      <td>97.613713</td>\n",
       "      <td>97.051310</td>\n",
       "    </tr>\n",
       "    <tr>\n",
       "      <th>9999</th>\n",
       "      <td>None</td>\n",
       "      <td>b</td>\n",
       "      <td>96.081401</td>\n",
       "      <td>113.764230</td>\n",
       "    </tr>\n",
       "  </tbody>\n",
       "</table>\n",
       "<p>10000 rows × 4 columns</p>\n",
       "</div>"
      ],
      "text/plain": [
       "      cat1 cat2        num1        num2\n",
       "0     None    a  121.083356   89.056597\n",
       "1        a    c   99.497182   91.558549\n",
       "2        c    c   93.158829   96.360426\n",
       "3        b    a  104.238097  106.300758\n",
       "4        a    b   82.883019  101.571009\n",
       "...    ...  ...         ...         ...\n",
       "9995     b    b  101.635382  104.079928\n",
       "9996     a    c   90.963823   87.152202\n",
       "9997  None    a   97.515792  104.485899\n",
       "9998  None    c   97.613713   97.051310\n",
       "9999  None    b   96.081401  113.764230\n",
       "\n",
       "[10000 rows x 4 columns]"
      ]
     },
     "execution_count": 174,
     "metadata": {},
     "output_type": "execute_result"
    }
   ],
   "source": [
    "df.iloc[:, np.argsort(df.count(axis='rows').values)]"
   ]
  },
  {
   "cell_type": "code",
   "execution_count": 200,
   "metadata": {},
   "outputs": [
    {
     "data": {
      "text/plain": [
       "num1    10000\n",
       "num2    10000\n",
       "cat1     7416\n",
       "cat2     7475\n",
       "dtype: int64"
      ]
     },
     "execution_count": 200,
     "metadata": {},
     "output_type": "execute_result"
    }
   ],
   "source": [
    "df.count(axis='rows')"
   ]
  },
  {
   "cell_type": "code",
   "execution_count": 205,
   "metadata": {},
   "outputs": [],
   "source": [
    "counts = dd.select(*[F.count(col).alias(col) for col in dd.columns]).toPandas()\n",
    "\n",
    "counts.index = ['cnt']\n",
    "cols = counts.columns\n",
    "vals = counts.values[0]\n",
    "\n",
    "series = pd.Series(data=vals, index=cols)"
   ]
  },
  {
   "cell_type": "code",
   "execution_count": 212,
   "metadata": {},
   "outputs": [],
   "source": [
    "\n",
    "np.argsort(series).values\n",
    "new_col_order = []\n",
    "for col_id in np.argsort(series).values:\n",
    "    new_col_order.append(dd.columns[col_id])"
   ]
  },
  {
   "cell_type": "code",
   "execution_count": 213,
   "metadata": {},
   "outputs": [
    {
     "data": {
      "text/plain": [
       "DataFrame[cat1: string, cat2: string, num1: double, num2: double]"
      ]
     },
     "execution_count": 213,
     "metadata": {},
     "output_type": "execute_result"
    }
   ],
   "source": [
    "dd.select(*new_col_order)"
   ]
  },
  {
   "cell_type": "code",
   "execution_count": 283,
   "metadata": {},
   "outputs": [],
   "source": [
    "def null_sort(data, sort=None):\n",
    "    if sort is None:\n",
    "        return data\n",
    "\n",
    "    if sort not in ['ascending', 'descending']:\n",
    "        raise ValueError('sort must be on of \"ascending\" or \"descending\"')\n",
    "\n",
    "    counts = data.select(*[F.count(col).alias(col) for col in data.columns]).toPandas()\n",
    "\n",
    "    counts.index = ['cnt']\n",
    "    cols = counts.columns\n",
    "    vals = counts.values[0]\n",
    "\n",
    "    series = pd.Series(data=vals, index=cols)\n",
    "    new_col_order = []\n",
    "    if sort == 'ascending': \n",
    "        for col_id in np.argsort(series).values:\n",
    "            new_col_order.append(data.columns[col_id])\n",
    "\n",
    "        return data.select(*new_col_order)\n",
    "\n",
    "    elif sort == 'descending':\n",
    "        for col_id in np.flipud(np.argsort(series.values)):\n",
    "            new_col_order.append(data.columns[col_id])\n",
    "\n",
    "        return data.select(*new_col_order)\n",
    "    "
   ]
  },
  {
   "cell_type": "code",
   "execution_count": 219,
   "metadata": {},
   "outputs": [],
   "source": [
    "filter = 'top'\n",
    "if filter == 'top':\n",
    "    if p:\n",
    "        df = df.iloc[:, [c >= p for c in df.count(axis='rows').values / len(df)]]\n",
    "    if n:\n",
    "        df = df.iloc[:, np.sort(np.argsort(df.count(axis='rows').values)[-n:])]\n",
    "elif filter == 'bottom':\n",
    "    if p:\n",
    "        df = df.iloc[:, [c <= p for c in df.count(axis='rows').values / len(df)]]\n",
    "    if n:\n",
    "        df = df.iloc[:, np.sort(np.argsort(df.count(axis='rows').values)[:n])]\n",
    "return df\n"
   ]
  },
  {
   "cell_type": "code",
   "execution_count": 225,
   "metadata": {},
   "outputs": [
    {
     "data": {
      "text/plain": [
       "array([10000, 10000,  7416,  7475])"
      ]
     },
     "execution_count": 225,
     "metadata": {},
     "output_type": "execute_result"
    }
   ],
   "source": [
    "data =dd\n",
    "count_rows_values = data.select(*[F.count(col).alias(col) for col in data.columns]).toPandas().values[0]\n",
    "\n",
    "[]"
   ]
  },
  {
   "cell_type": "code",
   "execution_count": 235,
   "metadata": {},
   "outputs": [],
   "source": [
    "def null_filter(data, _filter=None, p=0, n=0):\n",
    "    new_col_order = data.columns\n",
    "    if _filter == 'top':\n",
    "        new_col_order = []\n",
    "        len_df = data.count()\n",
    "        if p:\n",
    "            for idx,col in enumerate(data.columns):\n",
    "                if count_rows_values[idx] / len_df >= p:\n",
    "                    new_col_order.append(col)\n",
    "\n",
    "        if n:\n",
    "            raise NotImplementedError\n",
    "\n",
    "    elif _filter == 'bottom':\n",
    "        new_col_order = []\n",
    "        len_df = data.count()\n",
    "        if p:\n",
    "            for idx,col in enumerate(data.columns):\n",
    "                if count_rows_values[idx] / len_df <= p:\n",
    "                    new_col_order.append(col)\n",
    "\n",
    "        if n:\n",
    "            raise NotImplementedError\n",
    "\n",
    "    return data.select(*new_col_order)\n"
   ]
  },
  {
   "cell_type": "code",
   "execution_count": 236,
   "metadata": {},
   "outputs": [
    {
     "name": "stdout",
     "output_type": "stream",
     "text": [
      "+------------------+------------------+----+----+\n",
      "|              num1|              num2|cat1|cat2|\n",
      "+------------------+------------------+----+----+\n",
      "|121.08335611403442| 89.05659728013157|null|   a|\n",
      "| 99.49718236827349| 91.55854914028446|   a|   c|\n",
      "| 93.15882854556602| 96.36042629671182|   c|   c|\n",
      "|104.23809744813724|106.30075816945659|   b|   a|\n",
      "|  82.8830192444044| 101.5710090562014|   a|   b|\n",
      "|103.69121169839384|  96.7092705345947|   c|null|\n",
      "|102.37999678904094| 87.14747874712171|   b|   a|\n",
      "|100.90273922845884|107.52146619365676|   c|   a|\n",
      "|100.60988914543833| 93.28157252048585|null|null|\n",
      "| 93.60497092422322|109.22049717666384|   a|null|\n",
      "|100.97353196353681|103.86161678910045|   a|   a|\n",
      "|100.93328277290303| 79.86499279739459|null|   c|\n",
      "| 97.15614891641243|122.31310035629119|   c|   b|\n",
      "| 103.0227334660734| 97.20419009392349|   b|   c|\n",
      "|106.54771910975283| 91.90441529544518|   a|   b|\n",
      "| 84.68103658702624|114.68983029012036|null|null|\n",
      "|104.16292660423326|116.97725330695381|null|   b|\n",
      "|104.00783776260666| 89.23078504741939|   b|   a|\n",
      "| 94.56183564303052|104.18503552637256|null|   b|\n",
      "| 88.47334866329776|104.57481533196767|null|   b|\n",
      "+------------------+------------------+----+----+\n",
      "only showing top 20 rows\n",
      "\n"
     ]
    }
   ],
   "source": [
    "null_filter(dd, _filter='top', p=0.25).show()"
   ]
  },
  {
   "cell_type": "code",
   "execution_count": 239,
   "metadata": {},
   "outputs": [],
   "source": [
    "dd = null_filter(dd, _filter=None)\n",
    "dd = nullity_sort(dd, sort=None)"
   ]
  },
  {
   "cell_type": "code",
   "execution_count": 249,
   "metadata": {},
   "outputs": [],
   "source": [
    "# remove completely full or emptry values\n"
   ]
  },
  {
   "cell_type": "code",
   "execution_count": 253,
   "metadata": {},
   "outputs": [],
   "source": [
    "col_counts = count_rows_values(data)\n"
   ]
  },
  {
   "cell_type": "code",
   "execution_count": 261,
   "metadata": {},
   "outputs": [
    {
     "data": {
      "text/plain": [
       "DataFrame[num1: double, num2: double, cat1: string, cat2: string]"
      ]
     },
     "execution_count": 261,
     "metadata": {},
     "output_type": "execute_result"
    }
   ],
   "source": [
    "len_df = data.count()\n",
    "col_counts[(col_counts != 0) & (col_counts != len_df)]\n",
    "\n",
    "data.select(*col_counts.index)"
   ]
  },
  {
   "cell_type": "code",
   "execution_count": 246,
   "metadata": {},
   "outputs": [
    {
     "ename": "TypeError",
     "evalue": "'Column' object is not callable",
     "output_type": "error",
     "traceback": [
      "\u001b[0;31m---------------------------------------------------------------------------\u001b[0m",
      "\u001b[0;31mTypeError\u001b[0m                                 Traceback (most recent call last)",
      "Cell \u001b[0;32mIn[246], line 1\u001b[0m\n\u001b[0;32m----> 1\u001b[0m dd\u001b[39m.\u001b[39;49mnum1\u001b[39m.\u001b[39;49misNull()\u001b[39m.\u001b[39;49mshow()\n",
      "\u001b[0;31mTypeError\u001b[0m: 'Column' object is not callable"
     ]
    }
   ],
   "source": [
    "dd.num1.isNull().show()"
   ]
  },
  {
   "cell_type": "code",
   "execution_count": 248,
   "metadata": {},
   "outputs": [
    {
     "ename": "AttributeError",
     "evalue": "module 'pyspark' has no attribute 'pandas'",
     "output_type": "error",
     "traceback": [
      "\u001b[0;31m---------------------------------------------------------------------------\u001b[0m",
      "\u001b[0;31mAttributeError\u001b[0m                            Traceback (most recent call last)",
      "Cell \u001b[0;32mIn[248], line 3\u001b[0m\n\u001b[1;32m      1\u001b[0m \u001b[39mimport\u001b[39;00m \u001b[39mpyspark\u001b[39;00m\n\u001b[0;32m----> 3\u001b[0m pyspark\u001b[39m.\u001b[39;49mpandas\n",
      "\u001b[0;31mAttributeError\u001b[0m: module 'pyspark' has no attribute 'pandas'"
     ]
    }
   ],
   "source": [
    "import pyspark\n",
    "\n",
    "pyspark.pandas"
   ]
  },
  {
   "cell_type": "code",
   "execution_count": 289,
   "metadata": {},
   "outputs": [],
   "source": [
    "def count_rows_values(data):\n",
    "    counts = data.select(*[F.count(col).alias(col) for col in data.columns]).toPandas().values[0]\n",
    "\n",
    "    return pd.Series(index=data.columns, data=counts)\n",
    "\n",
    "def plot_heatmap_missing(data):\n",
    "    data = null_filter(data)\n",
    "    data = null_sort(data)\n",
    "\n",
    "    col_counts = count_rows_values(data)\n",
    "\n",
    "    if isinstance(data, pyspark.sql.DataFrame):\n",
    "        data = data.toPandas()\n",
    "\n",
    "    data_small = data[col_counts.index]\n",
    "    corr_mat = data_small.isnull().corr()\n",
    "    mask = np.zeros_like(corr_mat)\n",
    "    mask[np.triu_indices_from(mask)] = True\n",
    "\n",
    "    fig = go.Figure(go.Heatmap(\n",
    "        z=corr_mat.values,\n",
    "        x=corr_mat.columns,\n",
    "        y=corr_mat.columns,\n",
    "        zmin=-1,\n",
    "        zmax=1, \n",
    "        colorscale=colorcet.coolwarm\n",
    "    ), layout=go.Layout(\n",
    "        autosize=False,\n",
    "        width=1200,\n",
    "        height=1200,\n",
    "        title='Missing Value Correlations'\n",
    "    ))\n",
    "\n",
    "    fig.show()"
   ]
  },
  {
   "cell_type": "code",
   "execution_count": 290,
   "metadata": {},
   "outputs": [
    {
     "data": {
      "application/vnd.plotly.v1+json": {
       "config": {
        "plotlyServerURL": "https://plot.ly"
       },
       "data": [
        {
         "colorscale": [
          [
           0,
           "#2050da"
          ],
          [
           0.00392156862745098,
           "#2551db"
          ],
          [
           0.00784313725490196,
           "#2952db"
          ],
          [
           0.011764705882352941,
           "#2d53db"
          ],
          [
           0.01568627450980392,
           "#3155db"
          ],
          [
           0.0196078431372549,
           "#3456db"
          ],
          [
           0.023529411764705882,
           "#3857dc"
          ],
          [
           0.027450980392156862,
           "#3b58dc"
          ],
          [
           0.03137254901960784,
           "#3d59dc"
          ],
          [
           0.03529411764705882,
           "#405adc"
          ],
          [
           0.0392156862745098,
           "#435bdd"
          ],
          [
           0.043137254901960784,
           "#455cdd"
          ],
          [
           0.047058823529411764,
           "#485ddd"
          ],
          [
           0.050980392156862744,
           "#4a5fdd"
          ],
          [
           0.054901960784313725,
           "#4d60dd"
          ],
          [
           0.058823529411764705,
           "#4f61de"
          ],
          [
           0.06274509803921569,
           "#5162de"
          ],
          [
           0.06666666666666667,
           "#5363de"
          ],
          [
           0.07058823529411765,
           "#5664de"
          ],
          [
           0.07450980392156863,
           "#5865de"
          ],
          [
           0.0784313725490196,
           "#5a67df"
          ],
          [
           0.08235294117647059,
           "#5c68df"
          ],
          [
           0.08627450980392157,
           "#5e69df"
          ],
          [
           0.09019607843137255,
           "#606adf"
          ],
          [
           0.09411764705882353,
           "#616be0"
          ],
          [
           0.09803921568627451,
           "#636ce0"
          ],
          [
           0.10196078431372549,
           "#656ee0"
          ],
          [
           0.10588235294117647,
           "#676fe0"
          ],
          [
           0.10980392156862745,
           "#6970e0"
          ],
          [
           0.11372549019607843,
           "#6b71e1"
          ],
          [
           0.11764705882352941,
           "#6c72e1"
          ],
          [
           0.12156862745098039,
           "#6e74e1"
          ],
          [
           0.12549019607843137,
           "#7075e1"
          ],
          [
           0.12941176470588237,
           "#7176e1"
          ],
          [
           0.13333333333333333,
           "#7377e2"
          ],
          [
           0.13725490196078433,
           "#7578e2"
          ],
          [
           0.1411764705882353,
           "#7679e2"
          ],
          [
           0.1450980392156863,
           "#787be2"
          ],
          [
           0.14901960784313725,
           "#7a7ce2"
          ],
          [
           0.15294117647058825,
           "#7b7de2"
          ],
          [
           0.1568627450980392,
           "#7d7ee3"
          ],
          [
           0.1607843137254902,
           "#7e7fe3"
          ],
          [
           0.16470588235294117,
           "#8081e3"
          ],
          [
           0.16862745098039217,
           "#8282e3"
          ],
          [
           0.17254901960784313,
           "#8383e3"
          ],
          [
           0.17647058823529413,
           "#8584e4"
          ],
          [
           0.1803921568627451,
           "#8686e4"
          ],
          [
           0.1843137254901961,
           "#8887e4"
          ],
          [
           0.18823529411764706,
           "#8988e4"
          ],
          [
           0.19215686274509805,
           "#8b89e4"
          ],
          [
           0.19607843137254902,
           "#8c8ae5"
          ],
          [
           0.2,
           "#8e8ce5"
          ],
          [
           0.20392156862745098,
           "#8f8de5"
          ],
          [
           0.20784313725490197,
           "#908ee5"
          ],
          [
           0.21176470588235294,
           "#928fe5"
          ],
          [
           0.21568627450980393,
           "#9391e5"
          ],
          [
           0.2196078431372549,
           "#9592e6"
          ],
          [
           0.2235294117647059,
           "#9693e6"
          ],
          [
           0.22745098039215686,
           "#9894e6"
          ],
          [
           0.23137254901960785,
           "#9996e6"
          ],
          [
           0.23529411764705882,
           "#9a97e6"
          ],
          [
           0.23921568627450981,
           "#9c98e7"
          ],
          [
           0.24313725490196078,
           "#9d99e7"
          ],
          [
           0.24705882352941178,
           "#9e9be7"
          ],
          [
           0.25098039215686274,
           "#a09ce7"
          ],
          [
           0.2549019607843137,
           "#a19de7"
          ],
          [
           0.25882352941176473,
           "#a39ee7"
          ],
          [
           0.2627450980392157,
           "#a4a0e8"
          ],
          [
           0.26666666666666666,
           "#a5a1e8"
          ],
          [
           0.27058823529411763,
           "#a7a2e8"
          ],
          [
           0.27450980392156865,
           "#a8a3e8"
          ],
          [
           0.2784313725490196,
           "#a9a5e8"
          ],
          [
           0.2823529411764706,
           "#aba6e8"
          ],
          [
           0.28627450980392155,
           "#aca7e9"
          ],
          [
           0.2901960784313726,
           "#ada8e9"
          ],
          [
           0.29411764705882354,
           "#afaae9"
          ],
          [
           0.2980392156862745,
           "#b0abe9"
          ],
          [
           0.30196078431372547,
           "#b1ace9"
          ],
          [
           0.3058823529411765,
           "#b2aee9"
          ],
          [
           0.30980392156862746,
           "#b4afea"
          ],
          [
           0.3137254901960784,
           "#b5b0ea"
          ],
          [
           0.3176470588235294,
           "#b6b1ea"
          ],
          [
           0.3215686274509804,
           "#b8b3ea"
          ],
          [
           0.3254901960784314,
           "#b9b4ea"
          ],
          [
           0.32941176470588235,
           "#bab5ea"
          ],
          [
           0.3333333333333333,
           "#bbb7ea"
          ],
          [
           0.33725490196078434,
           "#bdb8eb"
          ],
          [
           0.3411764705882353,
           "#beb9eb"
          ],
          [
           0.34509803921568627,
           "#bfbaeb"
          ],
          [
           0.34901960784313724,
           "#c0bceb"
          ],
          [
           0.35294117647058826,
           "#c2bdeb"
          ],
          [
           0.3568627450980392,
           "#c3beeb"
          ],
          [
           0.3607843137254902,
           "#c4c0ec"
          ],
          [
           0.36470588235294116,
           "#c5c1ec"
          ],
          [
           0.3686274509803922,
           "#c7c2ec"
          ],
          [
           0.37254901960784315,
           "#c8c4ec"
          ],
          [
           0.3764705882352941,
           "#c9c5ec"
          ],
          [
           0.3803921568627451,
           "#cac6ec"
          ],
          [
           0.3843137254901961,
           "#ccc8ec"
          ],
          [
           0.38823529411764707,
           "#cdc9ec"
          ],
          [
           0.39215686274509803,
           "#cecaed"
          ],
          [
           0.396078431372549,
           "#cfcbed"
          ],
          [
           0.4,
           "#d1cded"
          ],
          [
           0.403921568627451,
           "#d2ceed"
          ],
          [
           0.40784313725490196,
           "#d3cfed"
          ],
          [
           0.4117647058823529,
           "#d4d1ed"
          ],
          [
           0.41568627450980394,
           "#d5d2ed"
          ],
          [
           0.4196078431372549,
           "#d7d3ee"
          ],
          [
           0.4235294117647059,
           "#d8d5ee"
          ],
          [
           0.42745098039215684,
           "#d9d6ee"
          ],
          [
           0.43137254901960786,
           "#dad7ee"
          ],
          [
           0.43529411764705883,
           "#dbd9ee"
          ],
          [
           0.4392156862745098,
           "#dddaee"
          ],
          [
           0.44313725490196076,
           "#dedbee"
          ],
          [
           0.4470588235294118,
           "#dfddee"
          ],
          [
           0.45098039215686275,
           "#e0deee"
          ],
          [
           0.4549019607843137,
           "#e1dfee"
          ],
          [
           0.4588235294117647,
           "#e3e0ee"
          ],
          [
           0.4627450980392157,
           "#e4e1ee"
          ],
          [
           0.4666666666666667,
           "#e5e2ee"
          ],
          [
           0.47058823529411764,
           "#e6e3ee"
          ],
          [
           0.4745098039215686,
           "#e7e4ee"
          ],
          [
           0.47843137254901963,
           "#e8e5ed"
          ],
          [
           0.4823529411764706,
           "#e9e6ed"
          ],
          [
           0.48627450980392156,
           "#eae6ec"
          ],
          [
           0.49019607843137253,
           "#ebe7ec"
          ],
          [
           0.49411764705882355,
           "#ece7eb"
          ],
          [
           0.4980392156862745,
           "#ece7ea"
          ],
          [
           0.5019607843137255,
           "#ede7e9"
          ],
          [
           0.5058823529411764,
           "#eee6e8"
          ],
          [
           0.5098039215686274,
           "#eee6e6"
          ],
          [
           0.5137254901960784,
           "#efe5e5"
          ],
          [
           0.5176470588235295,
           "#efe5e4"
          ],
          [
           0.5215686274509804,
           "#f0e4e2"
          ],
          [
           0.5254901960784314,
           "#f0e3e0"
          ],
          [
           0.5294117647058824,
           "#f0e2df"
          ],
          [
           0.5333333333333333,
           "#f1e0dd"
          ],
          [
           0.5372549019607843,
           "#f1dfdb"
          ],
          [
           0.5411764705882353,
           "#f1ded9"
          ],
          [
           0.5450980392156862,
           "#f1dcd7"
          ],
          [
           0.5490196078431373,
           "#f1dbd6"
          ],
          [
           0.5529411764705883,
           "#f1d9d4"
          ],
          [
           0.5568627450980392,
           "#f1d8d2"
          ],
          [
           0.5607843137254902,
           "#f1d6d0"
          ],
          [
           0.5647058823529412,
           "#f1d5ce"
          ],
          [
           0.5686274509803921,
           "#f1d3cc"
          ],
          [
           0.5725490196078431,
           "#f1d2ca"
          ],
          [
           0.5764705882352941,
           "#f1d0c8"
          ],
          [
           0.5803921568627451,
           "#f1cfc6"
          ],
          [
           0.5843137254901961,
           "#f1cdc4"
          ],
          [
           0.5882352941176471,
           "#f1ccc2"
          ],
          [
           0.592156862745098,
           "#f1cac0"
          ],
          [
           0.596078431372549,
           "#f1c9bf"
          ],
          [
           0.6,
           "#f1c7bd"
          ],
          [
           0.6039215686274509,
           "#f1c5bb"
          ],
          [
           0.6078431372549019,
           "#f1c4b9"
          ],
          [
           0.611764705882353,
           "#f0c2b7"
          ],
          [
           0.615686274509804,
           "#f0c1b5"
          ],
          [
           0.6196078431372549,
           "#f0bfb3"
          ],
          [
           0.6235294117647059,
           "#f0beb1"
          ],
          [
           0.6274509803921569,
           "#f0bcaf"
          ],
          [
           0.6313725490196078,
           "#f0bbad"
          ],
          [
           0.6352941176470588,
           "#efb9ac"
          ],
          [
           0.6392156862745098,
           "#efb7aa"
          ],
          [
           0.6431372549019608,
           "#efb6a8"
          ],
          [
           0.6470588235294118,
           "#efb4a6"
          ],
          [
           0.6509803921568628,
           "#efb3a4"
          ],
          [
           0.6549019607843137,
           "#eeb1a2"
          ],
          [
           0.6588235294117647,
           "#eeb0a0"
          ],
          [
           0.6627450980392157,
           "#eeae9e"
          ],
          [
           0.6666666666666666,
           "#eead9d"
          ],
          [
           0.6705882352941176,
           "#edab9b"
          ],
          [
           0.6745098039215687,
           "#eda999"
          ],
          [
           0.6784313725490196,
           "#eda897"
          ],
          [
           0.6823529411764706,
           "#eda695"
          ],
          [
           0.6862745098039216,
           "#eca593"
          ],
          [
           0.6901960784313725,
           "#eca391"
          ],
          [
           0.6941176470588235,
           "#eca290"
          ],
          [
           0.6980392156862745,
           "#eba08e"
          ],
          [
           0.7019607843137254,
           "#eb9f8c"
          ],
          [
           0.7058823529411765,
           "#eb9d8a"
          ],
          [
           0.7098039215686275,
           "#ea9b88"
          ],
          [
           0.7137254901960784,
           "#ea9a87"
          ],
          [
           0.7176470588235294,
           "#ea9885"
          ],
          [
           0.7215686274509804,
           "#e99783"
          ],
          [
           0.7254901960784313,
           "#e99581"
          ],
          [
           0.7294117647058823,
           "#e9947f"
          ],
          [
           0.7333333333333333,
           "#e8927d"
          ],
          [
           0.7372549019607844,
           "#e8907c"
          ],
          [
           0.7411764705882353,
           "#e88f7a"
          ],
          [
           0.7450980392156863,
           "#e78d78"
          ],
          [
           0.7490196078431373,
           "#e78c76"
          ],
          [
           0.7529411764705882,
           "#e68a75"
          ],
          [
           0.7568627450980392,
           "#e68973"
          ],
          [
           0.7607843137254902,
           "#e58771"
          ],
          [
           0.7647058823529411,
           "#e5856f"
          ],
          [
           0.7686274509803922,
           "#e5846d"
          ],
          [
           0.7725490196078432,
           "#e4826c"
          ],
          [
           0.7764705882352941,
           "#e4816a"
          ],
          [
           0.7803921568627451,
           "#e37f68"
          ],
          [
           0.7843137254901961,
           "#e37d66"
          ],
          [
           0.788235294117647,
           "#e27c65"
          ],
          [
           0.792156862745098,
           "#e27a63"
          ],
          [
           0.796078431372549,
           "#e17961"
          ],
          [
           0.8,
           "#e1775f"
          ],
          [
           0.803921568627451,
           "#e0755e"
          ],
          [
           0.807843137254902,
           "#e0745c"
          ],
          [
           0.8117647058823529,
           "#df725a"
          ],
          [
           0.8156862745098039,
           "#df7158"
          ],
          [
           0.8196078431372549,
           "#de6f57"
          ],
          [
           0.8235294117647058,
           "#de6d55"
          ],
          [
           0.8274509803921568,
           "#dd6c53"
          ],
          [
           0.8313725490196079,
           "#dd6a52"
          ],
          [
           0.8352941176470589,
           "#dc6850"
          ],
          [
           0.8392156862745098,
           "#db674e"
          ],
          [
           0.8431372549019608,
           "#db654c"
          ],
          [
           0.8470588235294118,
           "#da634b"
          ],
          [
           0.8509803921568627,
           "#da6249"
          ],
          [
           0.8549019607843137,
           "#d96047"
          ],
          [
           0.8588235294117647,
           "#d95e46"
          ],
          [
           0.8627450980392157,
           "#d85d44"
          ],
          [
           0.8666666666666667,
           "#d75b42"
          ],
          [
           0.8705882352941177,
           "#d75940"
          ],
          [
           0.8745098039215686,
           "#d6573f"
          ],
          [
           0.8784313725490196,
           "#d5563d"
          ],
          [
           0.8823529411764706,
           "#d5543b"
          ],
          [
           0.8862745098039215,
           "#d4523a"
          ],
          [
           0.8901960784313725,
           "#d45038"
          ],
          [
           0.8941176470588236,
           "#d34e36"
          ],
          [
           0.8980392156862745,
           "#d24d35"
          ],
          [
           0.9019607843137255,
           "#d24b33"
          ],
          [
           0.9058823529411765,
           "#d14931"
          ],
          [
           0.9098039215686274,
           "#d04730"
          ],
          [
           0.9137254901960784,
           "#d0452e"
          ],
          [
           0.9176470588235294,
           "#cf432c"
          ],
          [
           0.9215686274509803,
           "#ce412a"
          ],
          [
           0.9254901960784314,
           "#ce3f29"
          ],
          [
           0.9294117647058824,
           "#cd3d27"
          ],
          [
           0.9333333333333333,
           "#cc3b25"
          ],
          [
           0.9372549019607843,
           "#cb3924"
          ],
          [
           0.9411764705882353,
           "#cb3722"
          ],
          [
           0.9450980392156862,
           "#ca3420"
          ],
          [
           0.9490196078431372,
           "#c9321e"
          ],
          [
           0.9529411764705882,
           "#c9301d"
          ],
          [
           0.9568627450980393,
           "#c82d1b"
          ],
          [
           0.9607843137254902,
           "#c72b19"
          ],
          [
           0.9647058823529412,
           "#c62817"
          ],
          [
           0.9686274509803922,
           "#c62515"
          ],
          [
           0.9725490196078431,
           "#c52214"
          ],
          [
           0.9764705882352941,
           "#c41f12"
          ],
          [
           0.9803921568627451,
           "#c31c10"
          ],
          [
           0.984313725490196,
           "#c3180e"
          ],
          [
           0.9882352941176471,
           "#c2140c"
          ],
          [
           0.9921568627450981,
           "#c10f09"
          ],
          [
           0.996078431372549,
           "#c00907"
          ],
          [
           1,
           "#bf0205"
          ]
         ],
         "type": "heatmap",
         "x": [
          "num1",
          "num2",
          "cat1",
          "cat2"
         ],
         "y": [
          "num1",
          "num2",
          "cat1",
          "cat2"
         ],
         "z": [
          [
           null,
           null,
           null,
           null
          ],
          [
           null,
           null,
           null,
           null
          ],
          [
           null,
           null,
           1,
           0.002387198032771391
          ],
          [
           null,
           null,
           0.002387198032771391,
           1
          ]
         ],
         "zmax": 1,
         "zmin": -1
        }
       ],
       "layout": {
        "autosize": false,
        "height": 1200,
        "template": {
         "data": {
          "bar": [
           {
            "error_x": {
             "color": "#2a3f5f"
            },
            "error_y": {
             "color": "#2a3f5f"
            },
            "marker": {
             "line": {
              "color": "white",
              "width": 0.5
             },
             "pattern": {
              "fillmode": "overlay",
              "size": 10,
              "solidity": 0.2
             }
            },
            "type": "bar"
           }
          ],
          "barpolar": [
           {
            "marker": {
             "line": {
              "color": "white",
              "width": 0.5
             },
             "pattern": {
              "fillmode": "overlay",
              "size": 10,
              "solidity": 0.2
             }
            },
            "type": "barpolar"
           }
          ],
          "carpet": [
           {
            "aaxis": {
             "endlinecolor": "#2a3f5f",
             "gridcolor": "#C8D4E3",
             "linecolor": "#C8D4E3",
             "minorgridcolor": "#C8D4E3",
             "startlinecolor": "#2a3f5f"
            },
            "baxis": {
             "endlinecolor": "#2a3f5f",
             "gridcolor": "#C8D4E3",
             "linecolor": "#C8D4E3",
             "minorgridcolor": "#C8D4E3",
             "startlinecolor": "#2a3f5f"
            },
            "type": "carpet"
           }
          ],
          "choropleth": [
           {
            "colorbar": {
             "outlinewidth": 0,
             "ticks": ""
            },
            "type": "choropleth"
           }
          ],
          "contour": [
           {
            "colorbar": {
             "outlinewidth": 0,
             "ticks": ""
            },
            "colorscale": [
             [
              0,
              "#0d0887"
             ],
             [
              0.1111111111111111,
              "#46039f"
             ],
             [
              0.2222222222222222,
              "#7201a8"
             ],
             [
              0.3333333333333333,
              "#9c179e"
             ],
             [
              0.4444444444444444,
              "#bd3786"
             ],
             [
              0.5555555555555556,
              "#d8576b"
             ],
             [
              0.6666666666666666,
              "#ed7953"
             ],
             [
              0.7777777777777778,
              "#fb9f3a"
             ],
             [
              0.8888888888888888,
              "#fdca26"
             ],
             [
              1,
              "#f0f921"
             ]
            ],
            "type": "contour"
           }
          ],
          "contourcarpet": [
           {
            "colorbar": {
             "outlinewidth": 0,
             "ticks": ""
            },
            "type": "contourcarpet"
           }
          ],
          "heatmap": [
           {
            "colorbar": {
             "outlinewidth": 0,
             "ticks": ""
            },
            "colorscale": [
             [
              0,
              "#0d0887"
             ],
             [
              0.1111111111111111,
              "#46039f"
             ],
             [
              0.2222222222222222,
              "#7201a8"
             ],
             [
              0.3333333333333333,
              "#9c179e"
             ],
             [
              0.4444444444444444,
              "#bd3786"
             ],
             [
              0.5555555555555556,
              "#d8576b"
             ],
             [
              0.6666666666666666,
              "#ed7953"
             ],
             [
              0.7777777777777778,
              "#fb9f3a"
             ],
             [
              0.8888888888888888,
              "#fdca26"
             ],
             [
              1,
              "#f0f921"
             ]
            ],
            "type": "heatmap"
           }
          ],
          "heatmapgl": [
           {
            "colorbar": {
             "outlinewidth": 0,
             "ticks": ""
            },
            "colorscale": [
             [
              0,
              "#0d0887"
             ],
             [
              0.1111111111111111,
              "#46039f"
             ],
             [
              0.2222222222222222,
              "#7201a8"
             ],
             [
              0.3333333333333333,
              "#9c179e"
             ],
             [
              0.4444444444444444,
              "#bd3786"
             ],
             [
              0.5555555555555556,
              "#d8576b"
             ],
             [
              0.6666666666666666,
              "#ed7953"
             ],
             [
              0.7777777777777778,
              "#fb9f3a"
             ],
             [
              0.8888888888888888,
              "#fdca26"
             ],
             [
              1,
              "#f0f921"
             ]
            ],
            "type": "heatmapgl"
           }
          ],
          "histogram": [
           {
            "marker": {
             "pattern": {
              "fillmode": "overlay",
              "size": 10,
              "solidity": 0.2
             }
            },
            "type": "histogram"
           }
          ],
          "histogram2d": [
           {
            "colorbar": {
             "outlinewidth": 0,
             "ticks": ""
            },
            "colorscale": [
             [
              0,
              "#0d0887"
             ],
             [
              0.1111111111111111,
              "#46039f"
             ],
             [
              0.2222222222222222,
              "#7201a8"
             ],
             [
              0.3333333333333333,
              "#9c179e"
             ],
             [
              0.4444444444444444,
              "#bd3786"
             ],
             [
              0.5555555555555556,
              "#d8576b"
             ],
             [
              0.6666666666666666,
              "#ed7953"
             ],
             [
              0.7777777777777778,
              "#fb9f3a"
             ],
             [
              0.8888888888888888,
              "#fdca26"
             ],
             [
              1,
              "#f0f921"
             ]
            ],
            "type": "histogram2d"
           }
          ],
          "histogram2dcontour": [
           {
            "colorbar": {
             "outlinewidth": 0,
             "ticks": ""
            },
            "colorscale": [
             [
              0,
              "#0d0887"
             ],
             [
              0.1111111111111111,
              "#46039f"
             ],
             [
              0.2222222222222222,
              "#7201a8"
             ],
             [
              0.3333333333333333,
              "#9c179e"
             ],
             [
              0.4444444444444444,
              "#bd3786"
             ],
             [
              0.5555555555555556,
              "#d8576b"
             ],
             [
              0.6666666666666666,
              "#ed7953"
             ],
             [
              0.7777777777777778,
              "#fb9f3a"
             ],
             [
              0.8888888888888888,
              "#fdca26"
             ],
             [
              1,
              "#f0f921"
             ]
            ],
            "type": "histogram2dcontour"
           }
          ],
          "mesh3d": [
           {
            "colorbar": {
             "outlinewidth": 0,
             "ticks": ""
            },
            "type": "mesh3d"
           }
          ],
          "parcoords": [
           {
            "line": {
             "colorbar": {
              "outlinewidth": 0,
              "ticks": ""
             }
            },
            "type": "parcoords"
           }
          ],
          "pie": [
           {
            "automargin": true,
            "type": "pie"
           }
          ],
          "scatter": [
           {
            "fillpattern": {
             "fillmode": "overlay",
             "size": 10,
             "solidity": 0.2
            },
            "type": "scatter"
           }
          ],
          "scatter3d": [
           {
            "line": {
             "colorbar": {
              "outlinewidth": 0,
              "ticks": ""
             }
            },
            "marker": {
             "colorbar": {
              "outlinewidth": 0,
              "ticks": ""
             }
            },
            "type": "scatter3d"
           }
          ],
          "scattercarpet": [
           {
            "marker": {
             "colorbar": {
              "outlinewidth": 0,
              "ticks": ""
             }
            },
            "type": "scattercarpet"
           }
          ],
          "scattergeo": [
           {
            "marker": {
             "colorbar": {
              "outlinewidth": 0,
              "ticks": ""
             }
            },
            "type": "scattergeo"
           }
          ],
          "scattergl": [
           {
            "marker": {
             "colorbar": {
              "outlinewidth": 0,
              "ticks": ""
             }
            },
            "type": "scattergl"
           }
          ],
          "scattermapbox": [
           {
            "marker": {
             "colorbar": {
              "outlinewidth": 0,
              "ticks": ""
             }
            },
            "type": "scattermapbox"
           }
          ],
          "scatterpolar": [
           {
            "marker": {
             "colorbar": {
              "outlinewidth": 0,
              "ticks": ""
             }
            },
            "type": "scatterpolar"
           }
          ],
          "scatterpolargl": [
           {
            "marker": {
             "colorbar": {
              "outlinewidth": 0,
              "ticks": ""
             }
            },
            "type": "scatterpolargl"
           }
          ],
          "scatterternary": [
           {
            "marker": {
             "colorbar": {
              "outlinewidth": 0,
              "ticks": ""
             }
            },
            "type": "scatterternary"
           }
          ],
          "surface": [
           {
            "colorbar": {
             "outlinewidth": 0,
             "ticks": ""
            },
            "colorscale": [
             [
              0,
              "#0d0887"
             ],
             [
              0.1111111111111111,
              "#46039f"
             ],
             [
              0.2222222222222222,
              "#7201a8"
             ],
             [
              0.3333333333333333,
              "#9c179e"
             ],
             [
              0.4444444444444444,
              "#bd3786"
             ],
             [
              0.5555555555555556,
              "#d8576b"
             ],
             [
              0.6666666666666666,
              "#ed7953"
             ],
             [
              0.7777777777777778,
              "#fb9f3a"
             ],
             [
              0.8888888888888888,
              "#fdca26"
             ],
             [
              1,
              "#f0f921"
             ]
            ],
            "type": "surface"
           }
          ],
          "table": [
           {
            "cells": {
             "fill": {
              "color": "#EBF0F8"
             },
             "line": {
              "color": "white"
             }
            },
            "header": {
             "fill": {
              "color": "#C8D4E3"
             },
             "line": {
              "color": "white"
             }
            },
            "type": "table"
           }
          ]
         },
         "layout": {
          "annotationdefaults": {
           "arrowcolor": "#2a3f5f",
           "arrowhead": 0,
           "arrowwidth": 1
          },
          "autotypenumbers": "strict",
          "coloraxis": {
           "colorbar": {
            "outlinewidth": 0,
            "ticks": ""
           }
          },
          "colorscale": {
           "diverging": [
            [
             0,
             "#8e0152"
            ],
            [
             0.1,
             "#c51b7d"
            ],
            [
             0.2,
             "#de77ae"
            ],
            [
             0.3,
             "#f1b6da"
            ],
            [
             0.4,
             "#fde0ef"
            ],
            [
             0.5,
             "#f7f7f7"
            ],
            [
             0.6,
             "#e6f5d0"
            ],
            [
             0.7,
             "#b8e186"
            ],
            [
             0.8,
             "#7fbc41"
            ],
            [
             0.9,
             "#4d9221"
            ],
            [
             1,
             "#276419"
            ]
           ],
           "sequential": [
            [
             0,
             "#0d0887"
            ],
            [
             0.1111111111111111,
             "#46039f"
            ],
            [
             0.2222222222222222,
             "#7201a8"
            ],
            [
             0.3333333333333333,
             "#9c179e"
            ],
            [
             0.4444444444444444,
             "#bd3786"
            ],
            [
             0.5555555555555556,
             "#d8576b"
            ],
            [
             0.6666666666666666,
             "#ed7953"
            ],
            [
             0.7777777777777778,
             "#fb9f3a"
            ],
            [
             0.8888888888888888,
             "#fdca26"
            ],
            [
             1,
             "#f0f921"
            ]
           ],
           "sequentialminus": [
            [
             0,
             "#0d0887"
            ],
            [
             0.1111111111111111,
             "#46039f"
            ],
            [
             0.2222222222222222,
             "#7201a8"
            ],
            [
             0.3333333333333333,
             "#9c179e"
            ],
            [
             0.4444444444444444,
             "#bd3786"
            ],
            [
             0.5555555555555556,
             "#d8576b"
            ],
            [
             0.6666666666666666,
             "#ed7953"
            ],
            [
             0.7777777777777778,
             "#fb9f3a"
            ],
            [
             0.8888888888888888,
             "#fdca26"
            ],
            [
             1,
             "#f0f921"
            ]
           ]
          },
          "colorway": [
           "#636efa",
           "#EF553B",
           "#00cc96",
           "#ab63fa",
           "#FFA15A",
           "#19d3f3",
           "#FF6692",
           "#B6E880",
           "#FF97FF",
           "#FECB52"
          ],
          "font": {
           "color": "#2a3f5f"
          },
          "geo": {
           "bgcolor": "white",
           "lakecolor": "white",
           "landcolor": "white",
           "showlakes": true,
           "showland": true,
           "subunitcolor": "#C8D4E3"
          },
          "hoverlabel": {
           "align": "left"
          },
          "hovermode": "closest",
          "mapbox": {
           "style": "light"
          },
          "paper_bgcolor": "white",
          "plot_bgcolor": "white",
          "polar": {
           "angularaxis": {
            "gridcolor": "#EBF0F8",
            "linecolor": "#EBF0F8",
            "ticks": ""
           },
           "bgcolor": "white",
           "radialaxis": {
            "gridcolor": "#EBF0F8",
            "linecolor": "#EBF0F8",
            "ticks": ""
           }
          },
          "scene": {
           "xaxis": {
            "backgroundcolor": "white",
            "gridcolor": "#DFE8F3",
            "gridwidth": 2,
            "linecolor": "#EBF0F8",
            "showbackground": true,
            "ticks": "",
            "zerolinecolor": "#EBF0F8"
           },
           "yaxis": {
            "backgroundcolor": "white",
            "gridcolor": "#DFE8F3",
            "gridwidth": 2,
            "linecolor": "#EBF0F8",
            "showbackground": true,
            "ticks": "",
            "zerolinecolor": "#EBF0F8"
           },
           "zaxis": {
            "backgroundcolor": "white",
            "gridcolor": "#DFE8F3",
            "gridwidth": 2,
            "linecolor": "#EBF0F8",
            "showbackground": true,
            "ticks": "",
            "zerolinecolor": "#EBF0F8"
           }
          },
          "shapedefaults": {
           "line": {
            "color": "#2a3f5f"
           }
          },
          "ternary": {
           "aaxis": {
            "gridcolor": "#DFE8F3",
            "linecolor": "#A2B1C6",
            "ticks": ""
           },
           "baxis": {
            "gridcolor": "#DFE8F3",
            "linecolor": "#A2B1C6",
            "ticks": ""
           },
           "bgcolor": "white",
           "caxis": {
            "gridcolor": "#DFE8F3",
            "linecolor": "#A2B1C6",
            "ticks": ""
           }
          },
          "title": {
           "x": 0.05
          },
          "xaxis": {
           "automargin": true,
           "gridcolor": "#EBF0F8",
           "linecolor": "#EBF0F8",
           "ticks": "",
           "title": {
            "standoff": 15
           },
           "zerolinecolor": "#EBF0F8",
           "zerolinewidth": 2
          },
          "yaxis": {
           "automargin": true,
           "gridcolor": "#EBF0F8",
           "linecolor": "#EBF0F8",
           "ticks": "",
           "title": {
            "standoff": 15
           },
           "zerolinecolor": "#EBF0F8",
           "zerolinewidth": 2
          }
         }
        },
        "title": {
         "text": "Missing Value Correlations"
        },
        "width": 1200
       }
      }
     },
     "metadata": {},
     "output_type": "display_data"
    }
   ],
   "source": [
    "plot_heatmap_missing(data)"
   ]
  },
  {
   "cell_type": "code",
   "execution_count": 266,
   "metadata": {},
   "outputs": [],
   "source": [
    "corr_mat = data_small.toPandas().isnull().corr()\n",
    "mask = np.zeros_like(corr_mat)\n",
    "mask[np.triu_indices_from(mask)] = True"
   ]
  },
  {
   "cell_type": "code",
   "execution_count": 275,
   "metadata": {},
   "outputs": [],
   "source": [
    "from plotly.graph_objects import Heatmap\n",
    "\n",
    "fig = go.Figure(go.Heatmap(\n",
    "    z=corr_mat.values,\n",
    "    x=corr_mat.columns,\n",
    "    y=corr_mat.columns,\n",
    "    zmin=-1,\n",
    "    zmax=1, \n",
    "    colorscale=colorcet.coolwarm\n",
    "), layout=go.Layout(\n",
    "    autosize=False,\n",
    "    width=1200,\n",
    "    height=1200,\n",
    "    title='Missing Value Correlations'\n",
    "))"
   ]
  },
  {
   "cell_type": "code",
   "execution_count": 276,
   "metadata": {},
   "outputs": [
    {
     "data": {
      "application/vnd.plotly.v1+json": {
       "config": {
        "plotlyServerURL": "https://plot.ly"
       },
       "data": [
        {
         "colorscale": [
          [
           0,
           "#2050da"
          ],
          [
           0.00392156862745098,
           "#2551db"
          ],
          [
           0.00784313725490196,
           "#2952db"
          ],
          [
           0.011764705882352941,
           "#2d53db"
          ],
          [
           0.01568627450980392,
           "#3155db"
          ],
          [
           0.0196078431372549,
           "#3456db"
          ],
          [
           0.023529411764705882,
           "#3857dc"
          ],
          [
           0.027450980392156862,
           "#3b58dc"
          ],
          [
           0.03137254901960784,
           "#3d59dc"
          ],
          [
           0.03529411764705882,
           "#405adc"
          ],
          [
           0.0392156862745098,
           "#435bdd"
          ],
          [
           0.043137254901960784,
           "#455cdd"
          ],
          [
           0.047058823529411764,
           "#485ddd"
          ],
          [
           0.050980392156862744,
           "#4a5fdd"
          ],
          [
           0.054901960784313725,
           "#4d60dd"
          ],
          [
           0.058823529411764705,
           "#4f61de"
          ],
          [
           0.06274509803921569,
           "#5162de"
          ],
          [
           0.06666666666666667,
           "#5363de"
          ],
          [
           0.07058823529411765,
           "#5664de"
          ],
          [
           0.07450980392156863,
           "#5865de"
          ],
          [
           0.0784313725490196,
           "#5a67df"
          ],
          [
           0.08235294117647059,
           "#5c68df"
          ],
          [
           0.08627450980392157,
           "#5e69df"
          ],
          [
           0.09019607843137255,
           "#606adf"
          ],
          [
           0.09411764705882353,
           "#616be0"
          ],
          [
           0.09803921568627451,
           "#636ce0"
          ],
          [
           0.10196078431372549,
           "#656ee0"
          ],
          [
           0.10588235294117647,
           "#676fe0"
          ],
          [
           0.10980392156862745,
           "#6970e0"
          ],
          [
           0.11372549019607843,
           "#6b71e1"
          ],
          [
           0.11764705882352941,
           "#6c72e1"
          ],
          [
           0.12156862745098039,
           "#6e74e1"
          ],
          [
           0.12549019607843137,
           "#7075e1"
          ],
          [
           0.12941176470588237,
           "#7176e1"
          ],
          [
           0.13333333333333333,
           "#7377e2"
          ],
          [
           0.13725490196078433,
           "#7578e2"
          ],
          [
           0.1411764705882353,
           "#7679e2"
          ],
          [
           0.1450980392156863,
           "#787be2"
          ],
          [
           0.14901960784313725,
           "#7a7ce2"
          ],
          [
           0.15294117647058825,
           "#7b7de2"
          ],
          [
           0.1568627450980392,
           "#7d7ee3"
          ],
          [
           0.1607843137254902,
           "#7e7fe3"
          ],
          [
           0.16470588235294117,
           "#8081e3"
          ],
          [
           0.16862745098039217,
           "#8282e3"
          ],
          [
           0.17254901960784313,
           "#8383e3"
          ],
          [
           0.17647058823529413,
           "#8584e4"
          ],
          [
           0.1803921568627451,
           "#8686e4"
          ],
          [
           0.1843137254901961,
           "#8887e4"
          ],
          [
           0.18823529411764706,
           "#8988e4"
          ],
          [
           0.19215686274509805,
           "#8b89e4"
          ],
          [
           0.19607843137254902,
           "#8c8ae5"
          ],
          [
           0.2,
           "#8e8ce5"
          ],
          [
           0.20392156862745098,
           "#8f8de5"
          ],
          [
           0.20784313725490197,
           "#908ee5"
          ],
          [
           0.21176470588235294,
           "#928fe5"
          ],
          [
           0.21568627450980393,
           "#9391e5"
          ],
          [
           0.2196078431372549,
           "#9592e6"
          ],
          [
           0.2235294117647059,
           "#9693e6"
          ],
          [
           0.22745098039215686,
           "#9894e6"
          ],
          [
           0.23137254901960785,
           "#9996e6"
          ],
          [
           0.23529411764705882,
           "#9a97e6"
          ],
          [
           0.23921568627450981,
           "#9c98e7"
          ],
          [
           0.24313725490196078,
           "#9d99e7"
          ],
          [
           0.24705882352941178,
           "#9e9be7"
          ],
          [
           0.25098039215686274,
           "#a09ce7"
          ],
          [
           0.2549019607843137,
           "#a19de7"
          ],
          [
           0.25882352941176473,
           "#a39ee7"
          ],
          [
           0.2627450980392157,
           "#a4a0e8"
          ],
          [
           0.26666666666666666,
           "#a5a1e8"
          ],
          [
           0.27058823529411763,
           "#a7a2e8"
          ],
          [
           0.27450980392156865,
           "#a8a3e8"
          ],
          [
           0.2784313725490196,
           "#a9a5e8"
          ],
          [
           0.2823529411764706,
           "#aba6e8"
          ],
          [
           0.28627450980392155,
           "#aca7e9"
          ],
          [
           0.2901960784313726,
           "#ada8e9"
          ],
          [
           0.29411764705882354,
           "#afaae9"
          ],
          [
           0.2980392156862745,
           "#b0abe9"
          ],
          [
           0.30196078431372547,
           "#b1ace9"
          ],
          [
           0.3058823529411765,
           "#b2aee9"
          ],
          [
           0.30980392156862746,
           "#b4afea"
          ],
          [
           0.3137254901960784,
           "#b5b0ea"
          ],
          [
           0.3176470588235294,
           "#b6b1ea"
          ],
          [
           0.3215686274509804,
           "#b8b3ea"
          ],
          [
           0.3254901960784314,
           "#b9b4ea"
          ],
          [
           0.32941176470588235,
           "#bab5ea"
          ],
          [
           0.3333333333333333,
           "#bbb7ea"
          ],
          [
           0.33725490196078434,
           "#bdb8eb"
          ],
          [
           0.3411764705882353,
           "#beb9eb"
          ],
          [
           0.34509803921568627,
           "#bfbaeb"
          ],
          [
           0.34901960784313724,
           "#c0bceb"
          ],
          [
           0.35294117647058826,
           "#c2bdeb"
          ],
          [
           0.3568627450980392,
           "#c3beeb"
          ],
          [
           0.3607843137254902,
           "#c4c0ec"
          ],
          [
           0.36470588235294116,
           "#c5c1ec"
          ],
          [
           0.3686274509803922,
           "#c7c2ec"
          ],
          [
           0.37254901960784315,
           "#c8c4ec"
          ],
          [
           0.3764705882352941,
           "#c9c5ec"
          ],
          [
           0.3803921568627451,
           "#cac6ec"
          ],
          [
           0.3843137254901961,
           "#ccc8ec"
          ],
          [
           0.38823529411764707,
           "#cdc9ec"
          ],
          [
           0.39215686274509803,
           "#cecaed"
          ],
          [
           0.396078431372549,
           "#cfcbed"
          ],
          [
           0.4,
           "#d1cded"
          ],
          [
           0.403921568627451,
           "#d2ceed"
          ],
          [
           0.40784313725490196,
           "#d3cfed"
          ],
          [
           0.4117647058823529,
           "#d4d1ed"
          ],
          [
           0.41568627450980394,
           "#d5d2ed"
          ],
          [
           0.4196078431372549,
           "#d7d3ee"
          ],
          [
           0.4235294117647059,
           "#d8d5ee"
          ],
          [
           0.42745098039215684,
           "#d9d6ee"
          ],
          [
           0.43137254901960786,
           "#dad7ee"
          ],
          [
           0.43529411764705883,
           "#dbd9ee"
          ],
          [
           0.4392156862745098,
           "#dddaee"
          ],
          [
           0.44313725490196076,
           "#dedbee"
          ],
          [
           0.4470588235294118,
           "#dfddee"
          ],
          [
           0.45098039215686275,
           "#e0deee"
          ],
          [
           0.4549019607843137,
           "#e1dfee"
          ],
          [
           0.4588235294117647,
           "#e3e0ee"
          ],
          [
           0.4627450980392157,
           "#e4e1ee"
          ],
          [
           0.4666666666666667,
           "#e5e2ee"
          ],
          [
           0.47058823529411764,
           "#e6e3ee"
          ],
          [
           0.4745098039215686,
           "#e7e4ee"
          ],
          [
           0.47843137254901963,
           "#e8e5ed"
          ],
          [
           0.4823529411764706,
           "#e9e6ed"
          ],
          [
           0.48627450980392156,
           "#eae6ec"
          ],
          [
           0.49019607843137253,
           "#ebe7ec"
          ],
          [
           0.49411764705882355,
           "#ece7eb"
          ],
          [
           0.4980392156862745,
           "#ece7ea"
          ],
          [
           0.5019607843137255,
           "#ede7e9"
          ],
          [
           0.5058823529411764,
           "#eee6e8"
          ],
          [
           0.5098039215686274,
           "#eee6e6"
          ],
          [
           0.5137254901960784,
           "#efe5e5"
          ],
          [
           0.5176470588235295,
           "#efe5e4"
          ],
          [
           0.5215686274509804,
           "#f0e4e2"
          ],
          [
           0.5254901960784314,
           "#f0e3e0"
          ],
          [
           0.5294117647058824,
           "#f0e2df"
          ],
          [
           0.5333333333333333,
           "#f1e0dd"
          ],
          [
           0.5372549019607843,
           "#f1dfdb"
          ],
          [
           0.5411764705882353,
           "#f1ded9"
          ],
          [
           0.5450980392156862,
           "#f1dcd7"
          ],
          [
           0.5490196078431373,
           "#f1dbd6"
          ],
          [
           0.5529411764705883,
           "#f1d9d4"
          ],
          [
           0.5568627450980392,
           "#f1d8d2"
          ],
          [
           0.5607843137254902,
           "#f1d6d0"
          ],
          [
           0.5647058823529412,
           "#f1d5ce"
          ],
          [
           0.5686274509803921,
           "#f1d3cc"
          ],
          [
           0.5725490196078431,
           "#f1d2ca"
          ],
          [
           0.5764705882352941,
           "#f1d0c8"
          ],
          [
           0.5803921568627451,
           "#f1cfc6"
          ],
          [
           0.5843137254901961,
           "#f1cdc4"
          ],
          [
           0.5882352941176471,
           "#f1ccc2"
          ],
          [
           0.592156862745098,
           "#f1cac0"
          ],
          [
           0.596078431372549,
           "#f1c9bf"
          ],
          [
           0.6,
           "#f1c7bd"
          ],
          [
           0.6039215686274509,
           "#f1c5bb"
          ],
          [
           0.6078431372549019,
           "#f1c4b9"
          ],
          [
           0.611764705882353,
           "#f0c2b7"
          ],
          [
           0.615686274509804,
           "#f0c1b5"
          ],
          [
           0.6196078431372549,
           "#f0bfb3"
          ],
          [
           0.6235294117647059,
           "#f0beb1"
          ],
          [
           0.6274509803921569,
           "#f0bcaf"
          ],
          [
           0.6313725490196078,
           "#f0bbad"
          ],
          [
           0.6352941176470588,
           "#efb9ac"
          ],
          [
           0.6392156862745098,
           "#efb7aa"
          ],
          [
           0.6431372549019608,
           "#efb6a8"
          ],
          [
           0.6470588235294118,
           "#efb4a6"
          ],
          [
           0.6509803921568628,
           "#efb3a4"
          ],
          [
           0.6549019607843137,
           "#eeb1a2"
          ],
          [
           0.6588235294117647,
           "#eeb0a0"
          ],
          [
           0.6627450980392157,
           "#eeae9e"
          ],
          [
           0.6666666666666666,
           "#eead9d"
          ],
          [
           0.6705882352941176,
           "#edab9b"
          ],
          [
           0.6745098039215687,
           "#eda999"
          ],
          [
           0.6784313725490196,
           "#eda897"
          ],
          [
           0.6823529411764706,
           "#eda695"
          ],
          [
           0.6862745098039216,
           "#eca593"
          ],
          [
           0.6901960784313725,
           "#eca391"
          ],
          [
           0.6941176470588235,
           "#eca290"
          ],
          [
           0.6980392156862745,
           "#eba08e"
          ],
          [
           0.7019607843137254,
           "#eb9f8c"
          ],
          [
           0.7058823529411765,
           "#eb9d8a"
          ],
          [
           0.7098039215686275,
           "#ea9b88"
          ],
          [
           0.7137254901960784,
           "#ea9a87"
          ],
          [
           0.7176470588235294,
           "#ea9885"
          ],
          [
           0.7215686274509804,
           "#e99783"
          ],
          [
           0.7254901960784313,
           "#e99581"
          ],
          [
           0.7294117647058823,
           "#e9947f"
          ],
          [
           0.7333333333333333,
           "#e8927d"
          ],
          [
           0.7372549019607844,
           "#e8907c"
          ],
          [
           0.7411764705882353,
           "#e88f7a"
          ],
          [
           0.7450980392156863,
           "#e78d78"
          ],
          [
           0.7490196078431373,
           "#e78c76"
          ],
          [
           0.7529411764705882,
           "#e68a75"
          ],
          [
           0.7568627450980392,
           "#e68973"
          ],
          [
           0.7607843137254902,
           "#e58771"
          ],
          [
           0.7647058823529411,
           "#e5856f"
          ],
          [
           0.7686274509803922,
           "#e5846d"
          ],
          [
           0.7725490196078432,
           "#e4826c"
          ],
          [
           0.7764705882352941,
           "#e4816a"
          ],
          [
           0.7803921568627451,
           "#e37f68"
          ],
          [
           0.7843137254901961,
           "#e37d66"
          ],
          [
           0.788235294117647,
           "#e27c65"
          ],
          [
           0.792156862745098,
           "#e27a63"
          ],
          [
           0.796078431372549,
           "#e17961"
          ],
          [
           0.8,
           "#e1775f"
          ],
          [
           0.803921568627451,
           "#e0755e"
          ],
          [
           0.807843137254902,
           "#e0745c"
          ],
          [
           0.8117647058823529,
           "#df725a"
          ],
          [
           0.8156862745098039,
           "#df7158"
          ],
          [
           0.8196078431372549,
           "#de6f57"
          ],
          [
           0.8235294117647058,
           "#de6d55"
          ],
          [
           0.8274509803921568,
           "#dd6c53"
          ],
          [
           0.8313725490196079,
           "#dd6a52"
          ],
          [
           0.8352941176470589,
           "#dc6850"
          ],
          [
           0.8392156862745098,
           "#db674e"
          ],
          [
           0.8431372549019608,
           "#db654c"
          ],
          [
           0.8470588235294118,
           "#da634b"
          ],
          [
           0.8509803921568627,
           "#da6249"
          ],
          [
           0.8549019607843137,
           "#d96047"
          ],
          [
           0.8588235294117647,
           "#d95e46"
          ],
          [
           0.8627450980392157,
           "#d85d44"
          ],
          [
           0.8666666666666667,
           "#d75b42"
          ],
          [
           0.8705882352941177,
           "#d75940"
          ],
          [
           0.8745098039215686,
           "#d6573f"
          ],
          [
           0.8784313725490196,
           "#d5563d"
          ],
          [
           0.8823529411764706,
           "#d5543b"
          ],
          [
           0.8862745098039215,
           "#d4523a"
          ],
          [
           0.8901960784313725,
           "#d45038"
          ],
          [
           0.8941176470588236,
           "#d34e36"
          ],
          [
           0.8980392156862745,
           "#d24d35"
          ],
          [
           0.9019607843137255,
           "#d24b33"
          ],
          [
           0.9058823529411765,
           "#d14931"
          ],
          [
           0.9098039215686274,
           "#d04730"
          ],
          [
           0.9137254901960784,
           "#d0452e"
          ],
          [
           0.9176470588235294,
           "#cf432c"
          ],
          [
           0.9215686274509803,
           "#ce412a"
          ],
          [
           0.9254901960784314,
           "#ce3f29"
          ],
          [
           0.9294117647058824,
           "#cd3d27"
          ],
          [
           0.9333333333333333,
           "#cc3b25"
          ],
          [
           0.9372549019607843,
           "#cb3924"
          ],
          [
           0.9411764705882353,
           "#cb3722"
          ],
          [
           0.9450980392156862,
           "#ca3420"
          ],
          [
           0.9490196078431372,
           "#c9321e"
          ],
          [
           0.9529411764705882,
           "#c9301d"
          ],
          [
           0.9568627450980393,
           "#c82d1b"
          ],
          [
           0.9607843137254902,
           "#c72b19"
          ],
          [
           0.9647058823529412,
           "#c62817"
          ],
          [
           0.9686274509803922,
           "#c62515"
          ],
          [
           0.9725490196078431,
           "#c52214"
          ],
          [
           0.9764705882352941,
           "#c41f12"
          ],
          [
           0.9803921568627451,
           "#c31c10"
          ],
          [
           0.984313725490196,
           "#c3180e"
          ],
          [
           0.9882352941176471,
           "#c2140c"
          ],
          [
           0.9921568627450981,
           "#c10f09"
          ],
          [
           0.996078431372549,
           "#c00907"
          ],
          [
           1,
           "#bf0205"
          ]
         ],
         "type": "heatmap",
         "x": [
          "num1",
          "num2",
          "cat1",
          "cat2"
         ],
         "y": [
          "num1",
          "num2",
          "cat1",
          "cat2"
         ],
         "z": [
          [
           null,
           null,
           null,
           null
          ],
          [
           null,
           null,
           null,
           null
          ],
          [
           null,
           null,
           1,
           0.002387198032771391
          ],
          [
           null,
           null,
           0.002387198032771391,
           1
          ]
         ],
         "zmax": 1,
         "zmin": -1
        }
       ],
       "layout": {
        "autosize": false,
        "height": 1200,
        "template": {
         "data": {
          "bar": [
           {
            "error_x": {
             "color": "#2a3f5f"
            },
            "error_y": {
             "color": "#2a3f5f"
            },
            "marker": {
             "line": {
              "color": "white",
              "width": 0.5
             },
             "pattern": {
              "fillmode": "overlay",
              "size": 10,
              "solidity": 0.2
             }
            },
            "type": "bar"
           }
          ],
          "barpolar": [
           {
            "marker": {
             "line": {
              "color": "white",
              "width": 0.5
             },
             "pattern": {
              "fillmode": "overlay",
              "size": 10,
              "solidity": 0.2
             }
            },
            "type": "barpolar"
           }
          ],
          "carpet": [
           {
            "aaxis": {
             "endlinecolor": "#2a3f5f",
             "gridcolor": "#C8D4E3",
             "linecolor": "#C8D4E3",
             "minorgridcolor": "#C8D4E3",
             "startlinecolor": "#2a3f5f"
            },
            "baxis": {
             "endlinecolor": "#2a3f5f",
             "gridcolor": "#C8D4E3",
             "linecolor": "#C8D4E3",
             "minorgridcolor": "#C8D4E3",
             "startlinecolor": "#2a3f5f"
            },
            "type": "carpet"
           }
          ],
          "choropleth": [
           {
            "colorbar": {
             "outlinewidth": 0,
             "ticks": ""
            },
            "type": "choropleth"
           }
          ],
          "contour": [
           {
            "colorbar": {
             "outlinewidth": 0,
             "ticks": ""
            },
            "colorscale": [
             [
              0,
              "#0d0887"
             ],
             [
              0.1111111111111111,
              "#46039f"
             ],
             [
              0.2222222222222222,
              "#7201a8"
             ],
             [
              0.3333333333333333,
              "#9c179e"
             ],
             [
              0.4444444444444444,
              "#bd3786"
             ],
             [
              0.5555555555555556,
              "#d8576b"
             ],
             [
              0.6666666666666666,
              "#ed7953"
             ],
             [
              0.7777777777777778,
              "#fb9f3a"
             ],
             [
              0.8888888888888888,
              "#fdca26"
             ],
             [
              1,
              "#f0f921"
             ]
            ],
            "type": "contour"
           }
          ],
          "contourcarpet": [
           {
            "colorbar": {
             "outlinewidth": 0,
             "ticks": ""
            },
            "type": "contourcarpet"
           }
          ],
          "heatmap": [
           {
            "colorbar": {
             "outlinewidth": 0,
             "ticks": ""
            },
            "colorscale": [
             [
              0,
              "#0d0887"
             ],
             [
              0.1111111111111111,
              "#46039f"
             ],
             [
              0.2222222222222222,
              "#7201a8"
             ],
             [
              0.3333333333333333,
              "#9c179e"
             ],
             [
              0.4444444444444444,
              "#bd3786"
             ],
             [
              0.5555555555555556,
              "#d8576b"
             ],
             [
              0.6666666666666666,
              "#ed7953"
             ],
             [
              0.7777777777777778,
              "#fb9f3a"
             ],
             [
              0.8888888888888888,
              "#fdca26"
             ],
             [
              1,
              "#f0f921"
             ]
            ],
            "type": "heatmap"
           }
          ],
          "heatmapgl": [
           {
            "colorbar": {
             "outlinewidth": 0,
             "ticks": ""
            },
            "colorscale": [
             [
              0,
              "#0d0887"
             ],
             [
              0.1111111111111111,
              "#46039f"
             ],
             [
              0.2222222222222222,
              "#7201a8"
             ],
             [
              0.3333333333333333,
              "#9c179e"
             ],
             [
              0.4444444444444444,
              "#bd3786"
             ],
             [
              0.5555555555555556,
              "#d8576b"
             ],
             [
              0.6666666666666666,
              "#ed7953"
             ],
             [
              0.7777777777777778,
              "#fb9f3a"
             ],
             [
              0.8888888888888888,
              "#fdca26"
             ],
             [
              1,
              "#f0f921"
             ]
            ],
            "type": "heatmapgl"
           }
          ],
          "histogram": [
           {
            "marker": {
             "pattern": {
              "fillmode": "overlay",
              "size": 10,
              "solidity": 0.2
             }
            },
            "type": "histogram"
           }
          ],
          "histogram2d": [
           {
            "colorbar": {
             "outlinewidth": 0,
             "ticks": ""
            },
            "colorscale": [
             [
              0,
              "#0d0887"
             ],
             [
              0.1111111111111111,
              "#46039f"
             ],
             [
              0.2222222222222222,
              "#7201a8"
             ],
             [
              0.3333333333333333,
              "#9c179e"
             ],
             [
              0.4444444444444444,
              "#bd3786"
             ],
             [
              0.5555555555555556,
              "#d8576b"
             ],
             [
              0.6666666666666666,
              "#ed7953"
             ],
             [
              0.7777777777777778,
              "#fb9f3a"
             ],
             [
              0.8888888888888888,
              "#fdca26"
             ],
             [
              1,
              "#f0f921"
             ]
            ],
            "type": "histogram2d"
           }
          ],
          "histogram2dcontour": [
           {
            "colorbar": {
             "outlinewidth": 0,
             "ticks": ""
            },
            "colorscale": [
             [
              0,
              "#0d0887"
             ],
             [
              0.1111111111111111,
              "#46039f"
             ],
             [
              0.2222222222222222,
              "#7201a8"
             ],
             [
              0.3333333333333333,
              "#9c179e"
             ],
             [
              0.4444444444444444,
              "#bd3786"
             ],
             [
              0.5555555555555556,
              "#d8576b"
             ],
             [
              0.6666666666666666,
              "#ed7953"
             ],
             [
              0.7777777777777778,
              "#fb9f3a"
             ],
             [
              0.8888888888888888,
              "#fdca26"
             ],
             [
              1,
              "#f0f921"
             ]
            ],
            "type": "histogram2dcontour"
           }
          ],
          "mesh3d": [
           {
            "colorbar": {
             "outlinewidth": 0,
             "ticks": ""
            },
            "type": "mesh3d"
           }
          ],
          "parcoords": [
           {
            "line": {
             "colorbar": {
              "outlinewidth": 0,
              "ticks": ""
             }
            },
            "type": "parcoords"
           }
          ],
          "pie": [
           {
            "automargin": true,
            "type": "pie"
           }
          ],
          "scatter": [
           {
            "fillpattern": {
             "fillmode": "overlay",
             "size": 10,
             "solidity": 0.2
            },
            "type": "scatter"
           }
          ],
          "scatter3d": [
           {
            "line": {
             "colorbar": {
              "outlinewidth": 0,
              "ticks": ""
             }
            },
            "marker": {
             "colorbar": {
              "outlinewidth": 0,
              "ticks": ""
             }
            },
            "type": "scatter3d"
           }
          ],
          "scattercarpet": [
           {
            "marker": {
             "colorbar": {
              "outlinewidth": 0,
              "ticks": ""
             }
            },
            "type": "scattercarpet"
           }
          ],
          "scattergeo": [
           {
            "marker": {
             "colorbar": {
              "outlinewidth": 0,
              "ticks": ""
             }
            },
            "type": "scattergeo"
           }
          ],
          "scattergl": [
           {
            "marker": {
             "colorbar": {
              "outlinewidth": 0,
              "ticks": ""
             }
            },
            "type": "scattergl"
           }
          ],
          "scattermapbox": [
           {
            "marker": {
             "colorbar": {
              "outlinewidth": 0,
              "ticks": ""
             }
            },
            "type": "scattermapbox"
           }
          ],
          "scatterpolar": [
           {
            "marker": {
             "colorbar": {
              "outlinewidth": 0,
              "ticks": ""
             }
            },
            "type": "scatterpolar"
           }
          ],
          "scatterpolargl": [
           {
            "marker": {
             "colorbar": {
              "outlinewidth": 0,
              "ticks": ""
             }
            },
            "type": "scatterpolargl"
           }
          ],
          "scatterternary": [
           {
            "marker": {
             "colorbar": {
              "outlinewidth": 0,
              "ticks": ""
             }
            },
            "type": "scatterternary"
           }
          ],
          "surface": [
           {
            "colorbar": {
             "outlinewidth": 0,
             "ticks": ""
            },
            "colorscale": [
             [
              0,
              "#0d0887"
             ],
             [
              0.1111111111111111,
              "#46039f"
             ],
             [
              0.2222222222222222,
              "#7201a8"
             ],
             [
              0.3333333333333333,
              "#9c179e"
             ],
             [
              0.4444444444444444,
              "#bd3786"
             ],
             [
              0.5555555555555556,
              "#d8576b"
             ],
             [
              0.6666666666666666,
              "#ed7953"
             ],
             [
              0.7777777777777778,
              "#fb9f3a"
             ],
             [
              0.8888888888888888,
              "#fdca26"
             ],
             [
              1,
              "#f0f921"
             ]
            ],
            "type": "surface"
           }
          ],
          "table": [
           {
            "cells": {
             "fill": {
              "color": "#EBF0F8"
             },
             "line": {
              "color": "white"
             }
            },
            "header": {
             "fill": {
              "color": "#C8D4E3"
             },
             "line": {
              "color": "white"
             }
            },
            "type": "table"
           }
          ]
         },
         "layout": {
          "annotationdefaults": {
           "arrowcolor": "#2a3f5f",
           "arrowhead": 0,
           "arrowwidth": 1
          },
          "autotypenumbers": "strict",
          "coloraxis": {
           "colorbar": {
            "outlinewidth": 0,
            "ticks": ""
           }
          },
          "colorscale": {
           "diverging": [
            [
             0,
             "#8e0152"
            ],
            [
             0.1,
             "#c51b7d"
            ],
            [
             0.2,
             "#de77ae"
            ],
            [
             0.3,
             "#f1b6da"
            ],
            [
             0.4,
             "#fde0ef"
            ],
            [
             0.5,
             "#f7f7f7"
            ],
            [
             0.6,
             "#e6f5d0"
            ],
            [
             0.7,
             "#b8e186"
            ],
            [
             0.8,
             "#7fbc41"
            ],
            [
             0.9,
             "#4d9221"
            ],
            [
             1,
             "#276419"
            ]
           ],
           "sequential": [
            [
             0,
             "#0d0887"
            ],
            [
             0.1111111111111111,
             "#46039f"
            ],
            [
             0.2222222222222222,
             "#7201a8"
            ],
            [
             0.3333333333333333,
             "#9c179e"
            ],
            [
             0.4444444444444444,
             "#bd3786"
            ],
            [
             0.5555555555555556,
             "#d8576b"
            ],
            [
             0.6666666666666666,
             "#ed7953"
            ],
            [
             0.7777777777777778,
             "#fb9f3a"
            ],
            [
             0.8888888888888888,
             "#fdca26"
            ],
            [
             1,
             "#f0f921"
            ]
           ],
           "sequentialminus": [
            [
             0,
             "#0d0887"
            ],
            [
             0.1111111111111111,
             "#46039f"
            ],
            [
             0.2222222222222222,
             "#7201a8"
            ],
            [
             0.3333333333333333,
             "#9c179e"
            ],
            [
             0.4444444444444444,
             "#bd3786"
            ],
            [
             0.5555555555555556,
             "#d8576b"
            ],
            [
             0.6666666666666666,
             "#ed7953"
            ],
            [
             0.7777777777777778,
             "#fb9f3a"
            ],
            [
             0.8888888888888888,
             "#fdca26"
            ],
            [
             1,
             "#f0f921"
            ]
           ]
          },
          "colorway": [
           "#636efa",
           "#EF553B",
           "#00cc96",
           "#ab63fa",
           "#FFA15A",
           "#19d3f3",
           "#FF6692",
           "#B6E880",
           "#FF97FF",
           "#FECB52"
          ],
          "font": {
           "color": "#2a3f5f"
          },
          "geo": {
           "bgcolor": "white",
           "lakecolor": "white",
           "landcolor": "white",
           "showlakes": true,
           "showland": true,
           "subunitcolor": "#C8D4E3"
          },
          "hoverlabel": {
           "align": "left"
          },
          "hovermode": "closest",
          "mapbox": {
           "style": "light"
          },
          "paper_bgcolor": "white",
          "plot_bgcolor": "white",
          "polar": {
           "angularaxis": {
            "gridcolor": "#EBF0F8",
            "linecolor": "#EBF0F8",
            "ticks": ""
           },
           "bgcolor": "white",
           "radialaxis": {
            "gridcolor": "#EBF0F8",
            "linecolor": "#EBF0F8",
            "ticks": ""
           }
          },
          "scene": {
           "xaxis": {
            "backgroundcolor": "white",
            "gridcolor": "#DFE8F3",
            "gridwidth": 2,
            "linecolor": "#EBF0F8",
            "showbackground": true,
            "ticks": "",
            "zerolinecolor": "#EBF0F8"
           },
           "yaxis": {
            "backgroundcolor": "white",
            "gridcolor": "#DFE8F3",
            "gridwidth": 2,
            "linecolor": "#EBF0F8",
            "showbackground": true,
            "ticks": "",
            "zerolinecolor": "#EBF0F8"
           },
           "zaxis": {
            "backgroundcolor": "white",
            "gridcolor": "#DFE8F3",
            "gridwidth": 2,
            "linecolor": "#EBF0F8",
            "showbackground": true,
            "ticks": "",
            "zerolinecolor": "#EBF0F8"
           }
          },
          "shapedefaults": {
           "line": {
            "color": "#2a3f5f"
           }
          },
          "ternary": {
           "aaxis": {
            "gridcolor": "#DFE8F3",
            "linecolor": "#A2B1C6",
            "ticks": ""
           },
           "baxis": {
            "gridcolor": "#DFE8F3",
            "linecolor": "#A2B1C6",
            "ticks": ""
           },
           "bgcolor": "white",
           "caxis": {
            "gridcolor": "#DFE8F3",
            "linecolor": "#A2B1C6",
            "ticks": ""
           }
          },
          "title": {
           "x": 0.05
          },
          "xaxis": {
           "automargin": true,
           "gridcolor": "#EBF0F8",
           "linecolor": "#EBF0F8",
           "ticks": "",
           "title": {
            "standoff": 15
           },
           "zerolinecolor": "#EBF0F8",
           "zerolinewidth": 2
          },
          "yaxis": {
           "automargin": true,
           "gridcolor": "#EBF0F8",
           "linecolor": "#EBF0F8",
           "ticks": "",
           "title": {
            "standoff": 15
           },
           "zerolinecolor": "#EBF0F8",
           "zerolinewidth": 2
          }
         }
        },
        "title": {
         "text": "Missing Value Correlations"
        },
        "width": 1200
       }
      }
     },
     "metadata": {},
     "output_type": "display_data"
    }
   ],
   "source": [
    "fig.show()"
   ]
  },
  {
   "cell_type": "code",
   "execution_count": 293,
   "metadata": {},
   "outputs": [],
   "source": [
    "import sys\n",
    "\n",
    "sys.path.append('/storage/projects/notes/machine-learning')"
   ]
  },
  {
   "cell_type": "code",
   "execution_count": 295,
   "metadata": {},
   "outputs": [],
   "source": [
    "import edaclass"
   ]
  },
  {
   "attachments": {},
   "cell_type": "markdown",
   "metadata": {},
   "source": [
    "# Class"
   ]
  },
  {
   "attachments": {},
   "cell_type": "markdown",
   "metadata": {},
   "source": [
    "## Pyspark"
   ]
  },
  {
   "cell_type": "code",
   "execution_count": 491,
   "metadata": {},
   "outputs": [],
   "source": [
    "import logging\n",
    "import math\n",
    "from abc import ABC, abstractmethod, ABCMeta\n",
    "from typing import Dict, List, Union\n",
    "\n",
    "import colorcet\n",
    "from pandas import to_datetime\n",
    "from plotly import express as px\n",
    "from plotly import graph_objects as go\n",
    "from plotly.subplots import make_subplots\n",
    "from pyspark.sql import functions as F\n",
    "\n",
    "\n",
    "class Explorer(metaclass=ABCMeta):\n",
    "    '''Abstract base class used for EDA\n",
    "    \n",
    "    Methods that must be overridden are:\n",
    "        make_hist\n",
    "        make_box\n",
    "        make_bar\n",
    "        null_sort\n",
    "        null_filter\n",
    "\n",
    "        *see method docstrings for functionality and output signatures \n",
    "    '''\n",
    "\n",
    "    @abstractmethod\n",
    "    def make_bar(self, col: Union[List, str]):\n",
    "        '''Makes grouping-count for each column\n",
    "        \n",
    "        Args:\n",
    "            col: list/name of columns to count for\n",
    "\n",
    "        Returns:\n",
    "            groupby pandas dataframe\n",
    "        '''\n",
    "        pass\n",
    "\n",
    "    @abstractmethod\n",
    "    def make_box(self, cols: Union[List, str]) -> Dict:\n",
    "        '''Generates quartiles for box-whisker plotting\n",
    "        \n",
    "\n",
    "        Args:\n",
    "            cols: list/string of column(s) to plot\n",
    "\n",
    "        Output must be a dictionary indexed by:\n",
    "        column\n",
    "            | target_value\n",
    "                | quantile\n",
    "            \n",
    "            *if target_values are categorical\n",
    "\n",
    "        OR\n",
    "        column\n",
    "            | quantile\n",
    "\n",
    "        Example output for binary target:\n",
    "         {\n",
    "            \"num1\": {\n",
    "                \"0\": {\n",
    "                    \"q00\": 803.0476168393415,\n",
    "                    \"q01\": 803.0476168393415,\n",
    "                    \"q25\": 907.2920695654886,\n",
    "                    \"q50\": 959.0112145260407,\n",
    "                    \"q75\": 1059.4072543931134,\n",
    "                    \"q99\": 1197.3055442349162,\n",
    "                    \"q100\": 1197.3055442349162\n",
    "                },\n",
    "                \"1\": {\n",
    "                    \"q00\": 769.4188139185309,\n",
    "                    \"q01\": 769.4188139185309,\n",
    "                    \"q25\": 932.2965098911496,\n",
    "                    \"q50\": 1003.9672686831474,\n",
    "                    \"q75\": 1048.7928364881604,\n",
    "                    \"q99\": 1308.6366589738643,\n",
    "                    \"q100\": 1308.6366589738643\n",
    "                }\n",
    "            },\n",
    "        }\n",
    "\n",
    "        Quantiles for 0.00, 0.01, 0.25, 0.50, 0.75, 0.99 and 1.00 must be specified \n",
    "\n",
    "        Returns: \n",
    "            quantile_dict\n",
    "        \n",
    "        '''\n",
    "        pass\n",
    "\n",
    "    @abstractmethod\n",
    "    def make_hist(self, cols: Union[List, str], bins=None, n_bins=None) -> Dict:\n",
    "        '''Generates histogram for each column, split by target if type categorical/binary\n",
    "        \n",
    "        Args:\n",
    "            cols: list/string of column(s) to generate histograms for\n",
    "            bins: list of bin-edges\n",
    "            n_bins: number of bins for histogram\n",
    "\n",
    "        Raises:\n",
    "            AttributeError if both bins and n_bins are defined\n",
    "\n",
    "        Returns:\n",
    "            dictionary of (bins, edges) indexed by column name\n",
    "        '''\n",
    "        pass\n",
    "\n",
    "    @abstractmethod\n",
    "    def null_filter(self, data, _filter: str, p: float) -> pyspark.sql.DataFrame:\n",
    "        '''Filters columns with a percentage p missing or less'''\n",
    "        pass\n",
    "\n",
    "    @abstractmethod\n",
    "    def null_sort(self, data, sort) -> pyspark.sql.DataFrame:\n",
    "        '''Sorts columns by percentage missing values'''\n",
    "        pass\n",
    "\n",
    "    @abstractmethod\n",
    "    def plot_heatmap_missing(self, cols:list) -> None:\n",
    "        \"\"\"Plots a heatmap of correlation of missing values\n",
    "        \n",
    "        Args:\n",
    "            cols: list of columns to plot missing correlation, if not specified, uses full dataset \n",
    "        \n",
    "        \"\"\"\n",
    "        pass\n",
    "\n",
    "    def _validate_target_type(self, target):\n",
    "        '''Helper method to ensure target is one of \"binary\", \"categorical\" or \"continuous\"'''\n",
    "        if target not in ('binary', 'categorical', 'continuous'):\n",
    "            raise ValueError(f'target must be one of \"binary\", \"categorical\" or \"continuous\", current target is {target}')\n",
    "\n",
    "    def plot_hist(self, cols: Union[List, str], bins=None, n_bins=None):\n",
    "        '''Plots histogram using output of make_hist function\n",
    "        \n",
    "        Args:\n",
    "            cols: list/name of column to show histogram for\n",
    "            bins: list of bin edges\n",
    "            n_bins: number of bins\n",
    "\n",
    "        Raises:\n",
    "            AttributeError if both bins and n_bins are specified\n",
    "        \n",
    "        '''\n",
    "\n",
    "        if bins is not None and n_bins is not None:\n",
    "            raise AttributeError('Specify either bins or n_bins, not both')\n",
    "\n",
    "        if isinstance(cols, str):\n",
    "            cols = [cols]\n",
    "\n",
    "        hist_dict = self.make_hist(cols=cols, bins=bins, n_bins=n_bins)\n",
    "        # single-column\n",
    "        if len(hist_dict.keys()) == 1:\n",
    "            col = list(hist_dict.keys())[0]\n",
    "            fig = go.Figure()\n",
    "            for idx, target_val in enumerate(self.target_vals):\n",
    "                fig.add_trace(\n",
    "                    go.Bar(\n",
    "                        y=hist_dict[col][target_val][\"bins\"],\n",
    "                        x=hist_dict[col][target_val][\"edges\"],\n",
    "                        name=f'Target: {target_val}',\n",
    "                        marker=dict(color=colorcet.glasbey_dark[idx]),\n",
    "                    )\n",
    "                )\n",
    "                fig.update_layout(autosize=False, width=800, height=800, title=col)\n",
    "        else:\n",
    "            num_cols = len(list(hist_dict.keys()))\n",
    "            fig = make_subplots(\n",
    "                rows=math.ceil(num_cols / 3),\n",
    "                cols=3,\n",
    "                subplot_titles=list(hist_dict.keys()),\n",
    "            )\n",
    "            row_num = 1\n",
    "            col_num = 1\n",
    "            for col in hist_dict.keys():\n",
    "                for idx, target_val in enumerate(self.target_vals):\n",
    "                    fig.add_trace(\n",
    "                        go.Bar(\n",
    "                            y=hist_dict[col][target_val][\"bins\"],\n",
    "                            x=hist_dict[col][target_val][\"edges\"],\n",
    "                            name=f'Target val: {target_val}',\n",
    "                            marker=dict(color=colorcet.glasbey_dark[idx]),\n",
    "                        ),\n",
    "                        row=row_num,\n",
    "                        col=col_num,\n",
    "                    )\n",
    "\n",
    "                col_num += 1\n",
    "                if col_num > 3:\n",
    "                    row_num += 1\n",
    "                    col_num = 1\n",
    "\n",
    "            fig.update_layout(\n",
    "                autosize=False, width=1200, height=math.ceil(num_cols / 3) * 400\n",
    "            )\n",
    "\n",
    "        fig.show()\n",
    "\n",
    "    def plot_box(self, cols: Union[List, str]=None):\n",
    "        '''Plots quartiles using the make_box function\n",
    "        \n",
    "        Args:\n",
    "            cols: list of columns to plot for, if not specified defaults to all\n",
    "        \n",
    "        '''\n",
    "\n",
    "        if not cols:\n",
    "            cols = self.data.columns\n",
    "\n",
    "        quantile_dict = self.make_box(cols)\n",
    "        if self.target_type in ('binary', 'categorical'):\n",
    "            if len(quantile_dict.keys()) == 1:\n",
    "                col = list(quantile_dict.keys())[0]\n",
    "                fig = go.Figure()\n",
    "                for idx, target_val in enumerate(self.target_vals):\n",
    "                    fig.add_trace(\n",
    "                        go.Box(\n",
    "                            q1=[quantile_dict[col][target_val][\"q25\"]],\n",
    "                            median=[quantile_dict[col][target_val][\"q50\"]],\n",
    "                            q3=[quantile_dict[col][target_val][\"q75\"]],\n",
    "                            x=[target_val],\n",
    "                            upperfence=[quantile_dict[col][target_val][\"q99\"]],\n",
    "                            lowerfence=[quantile_dict[col][target_val][\"q01\"]],\n",
    "                            name=f'Target: {target_val}',\n",
    "                            marker=dict(color=colorcet.glasbey_dark[idx]),\n",
    "                        )\n",
    "                    )\n",
    "                fig.update_layout(\n",
    "                    autosize=False, width=800, height=800,\n",
    "                    title=col\n",
    "                )\n",
    "                fig.show()\n",
    "\n",
    "            else:\n",
    "                num_cols = len(list(quantile_dict.keys()))\n",
    "                fig = make_subplots(\n",
    "                    rows=math.ceil(num_cols / 3),\n",
    "                    cols=3,\n",
    "                    subplot_titles=list(quantile_dict.keys()),\n",
    "                )\n",
    "                row_num = 1\n",
    "                col_num = 1\n",
    "                for col in quantile_dict.keys():\n",
    "                    for idx, target_val in enumerate(self.target_vals):\n",
    "                        fig.add_trace(\n",
    "                            go.Box(\n",
    "                                q1=[quantile_dict[col][target_val][\"q25\"]],\n",
    "                                median=[quantile_dict[col][target_val][\"q50\"]],\n",
    "                                q3=[quantile_dict[col][target_val][\"q75\"]],\n",
    "                                x=[target_val],\n",
    "                                upperfence=[quantile_dict[col][target_val][\"q99\"]],\n",
    "                                lowerfence=[quantile_dict[col][target_val][\"q01\"]],\n",
    "                                name=f'Target: {target_val}',\n",
    "                                marker=dict(color=colorcet.glasbey_dark[idx]),\n",
    "                            ),\n",
    "                            row=row_num,\n",
    "                            col=col_num,\n",
    "                        )\n",
    "\n",
    "                    col_num += 1\n",
    "                    if col_num > 3:\n",
    "                        row_num += 1\n",
    "                        col_num = 1\n",
    "\n",
    "                fig.update_layout(\n",
    "                    autosize=False, width=1200, height=math.ceil(num_cols / 3) * 400\n",
    "                )\n",
    "                fig.show()\n",
    "\n",
    "        else:\n",
    "            if len(quantile_dict.keys()) == 1:\n",
    "                col = list(quantile_dict.keys())[0]\n",
    "                fig = go.Figure()\n",
    "                fig.add_trace(\n",
    "                    go.Box(\n",
    "                        q1=[quantile_dict[col][\"q25\"]],\n",
    "                        median=[quantile_dict[col][\"q50\"]],\n",
    "                        q3=[quantile_dict[col][\"q75\"]],\n",
    "                        x=[col],\n",
    "                        upperfence=[quantile_dict[col][\"q99\"]],\n",
    "                        lowerfence=[quantile_dict[col][\"q01\"]],\n",
    "                        name=f'Column: {col}',\n",
    "                        marker=dict(color=colorcet.glasbey_dark[0]),\n",
    "                    )\n",
    "                )\n",
    "                fig.update_layout(\n",
    "                    autosize=False, width=800, height=800,\n",
    "                    title=col\n",
    "                )\n",
    "                fig.show()\n",
    "\n",
    "            else:\n",
    "                num_cols = len(list(quantile_dict.keys()))\n",
    "                fig = make_subplots(\n",
    "                    rows=math.ceil(num_cols / 3),\n",
    "                    cols=3,\n",
    "                    subplot_titles=list(quantile_dict.keys()),\n",
    "                )\n",
    "                row_num = 1\n",
    "                col_num = 1\n",
    "                for col in quantile_dict.keys():\n",
    "                    fig.add_trace(\n",
    "                        go.Box(\n",
    "                            q1=[quantile_dict[col][\"q25\"]],\n",
    "                            median=[quantile_dict[col][\"q50\"]],\n",
    "                            q3=[quantile_dict[col][\"q75\"]],\n",
    "                            x=[col],\n",
    "                            upperfence=[quantile_dict[col][\"q99\"]],\n",
    "                            lowerfence=[quantile_dict[col][\"q01\"]],\n",
    "                            name=f'Column: {col}',\n",
    "                            marker=dict(color=colorcet.glasbey_dark[0]),\n",
    "                        ),\n",
    "                        row=row_num,\n",
    "                        col=col_num,\n",
    "                    )\n",
    "\n",
    "                    col_num += 1\n",
    "                    if col_num > 3:\n",
    "                        row_num += 1\n",
    "                        col_num = 1\n",
    "\n",
    "                fig.update_layout(\n",
    "                    autosize=False, width=1200, height=math.ceil(num_cols / 3) * 400\n",
    "                )\n",
    "                fig.show()            \n",
    "\n",
    "    def plot_corr_scatter(self, col1, col2):\n",
    "        '''Scatter plot between two columns\n",
    "        \n",
    "        Args:\n",
    "            col1: column on X-axis\n",
    "            col2: column on Y-axis\n",
    "        \n",
    "        '''\n",
    "        corr = self.data.select(*[col1, col2]).stat.corr(\"num1\", \"num2\")\n",
    "        data = self.data.select(*[col1, col2, self.target]).toPandas()\n",
    "        self._plot_corr_scatter(col1, col2, data)\n",
    "\n",
    "    def _plot_corr_scatter(self, col1, col2, data):\n",
    "        if len(data) > 10000:\n",
    "            logging.warning(\"Sampling done, data too large\")\n",
    "            data = data.sample(10000)\n",
    "\n",
    "        fig = px.scatter(\n",
    "            data,\n",
    "            col1,\n",
    "            col2,\n",
    "            marginal_x=\"histogram\",\n",
    "            marginal_y=\"histogram\",\n",
    "            color=data[self.target],  # HACK need to set target to astype(category)\n",
    "        )\n",
    "\n",
    "        fig.update_layout(\n",
    "            autosize=False,\n",
    "            width=800,\n",
    "            height=800,\n",
    "            xaxis=dict(title=col1),\n",
    "            yaxis=dict(title=col2),\n",
    "            title=f\"{col2} against {col1}\",\n",
    "        )\n",
    "        fig.show()\n",
    "\n",
    "\n",
    "\n",
    "    def plot_bar(self, cols: Union[List, str]):\n",
    "        grouped = self.make_bar(cols)\n",
    "\n",
    "        if self.target_type in ('binary', 'categorical'):\n",
    "            self._plot_bar_categorical_target(cols, grouped)\n",
    "        \n",
    "        if self.target_type in ('continuous'):\n",
    "            self._plot_bar_continuous_target(cols, grouped)\n",
    "\n",
    "    def _plot_bar_categorical_target(self, cols, grouped):\n",
    "        fig = go.Figure()\n",
    "        for col in cols:\n",
    "            for target_val in grouped[self.target].unique():\n",
    "                fig.add_trace(go.Bar(\n",
    "                    x=grouped[col].unique(),\n",
    "                    y=grouped.loc[grouped[self.target]==target_val, 'count'],\n",
    "                    name=f'Target: {target_val}'\n",
    "                ))\n",
    "        fig.show()\n",
    "\n",
    "    def _plot_bar_continuous_target(self, cols, grouped):\n",
    "        fig = go.Figure()\n",
    "        for col in cols:\n",
    "            fig.add_trace(go.Bar(\n",
    "                x=grouped[col].unique(),\n",
    "                y=grouped['count'],\n",
    "            ))\n",
    "\n",
    "        fig.show()\n",
    "\n",
    "    def plot_corr_map(self, cols: list = None):\n",
    "\n",
    "        if not cols:\n",
    "            cols = self.data.columns\n",
    "        if isinstance(self.data, pyspark.sql.DataFrame):\n",
    "            data = self.data[cols].toPandas()\n",
    "        else:\n",
    "            data = self.data[cols]\n",
    "\n",
    "        corr = data.corr()\n",
    "        mask = np.triu(np.ones_like(corr, dtype=bool))\n",
    "        rLY = corr.mask(mask)\n",
    "\n",
    "        fig = go.Figure(\n",
    "            data=go.Heatmap(\n",
    "                z=corr.mask(mask),\n",
    "                x=corr.columns,\n",
    "                y=corr.columns,\n",
    "                colorscale=colorcet.coolwarm,\n",
    "                zmin=-1,\n",
    "                zmax=1,\n",
    "            ),\n",
    "            layout=go.Layout(\n",
    "                autosize=False,\n",
    "                height=800 if len(corr.columns) < 4 else len(corr.columns) * 100,\n",
    "                width=800 if len(corr.columns) < 4 else len(corr.columns) * 100,\n",
    "            ),\n",
    "        )\n",
    "        fig.show()\n",
    "\n"
   ]
  },
  {
   "cell_type": "code",
   "execution_count": 498,
   "metadata": {},
   "outputs": [],
   "source": [
    "import pyspark  \n",
    "\n",
    "class SparkExplorer(Explorer, ):\n",
    "    def __init__(self, \n",
    "        data: pyspark.sql.DataFrame,\n",
    "        target: str,\n",
    "        target_type: str,\n",
    "        date_cols:Union[List, str] = None,\n",
    "        date_format: str = None, \n",
    "    ):\n",
    "        '''Spark-specific implementation of Explorer\n",
    "\n",
    "\n",
    "        Args:\n",
    "            data: pyspark dataframe\n",
    "            target: name of target column\n",
    "            target_type: one of \"continuous\", \"categorical\" or \"binary\"\n",
    "            date_cols: either a list of ['year', 'month'] OR a single column\n",
    "            date_format: one of \"american\", \"julian\" or \"iso\" with the dash/dot variations\n",
    "        \n",
    "        Raises:\n",
    "            ValueError: if target-type is not valid\n",
    "\n",
    "        '''\n",
    "\n",
    "        self._validate_target_type(target_type)\n",
    "        self.target_vals = None\n",
    "\n",
    "        if date_cols and date_format:\n",
    "            data = SparkDateUtil.create_yearmonth(data, date_cols=date_cols, format=date_format)\n",
    "\n",
    "        if target_type in ('binary', 'categorical'):\n",
    "            self.target_vals = self._get_target_vals(data, target)\n",
    "\n",
    "        self.data = data\n",
    "        self.target = target\n",
    "        self.target_type = target_type\n",
    "\n",
    "    def _get_target_vals(self, data, target):\n",
    "        return list(data.select(target).distinct().toPandas()[target].values)\n",
    "\n",
    "    def make_bar(self, cols):\n",
    "        '''Makes grouping-count for each column\n",
    "        \n",
    "        Args:\n",
    "            col: list/name of columns to count for\n",
    "\n",
    "        Returns:\n",
    "            groupby pandas dataframe\n",
    "        '''\n",
    "        if self.target_type in ('binary', 'categorical'):\n",
    "            return self.data.groupBy(*[self.target, *cols]).count().toPandas()\n",
    "        else:\n",
    "            return self.data.groupby(*cols).count().toPandas()\n",
    "        \n",
    "    def make_box(self, cols):\n",
    "        '''Generates quartiles for box-whisker plotting\n",
    "        \n",
    "\n",
    "        Args:\n",
    "            cols: list/string of column(s) to plot\n",
    "\n",
    "        Output must be a dictionary indexed by:\n",
    "        column\n",
    "            | target_value\n",
    "                | quantile\n",
    "            \n",
    "            *if target_values are categorical\n",
    "\n",
    "        OR\n",
    "        column\n",
    "            | quantile\n",
    "\n",
    "        Example output for binary target:\n",
    "         {\n",
    "            \"num1\": {\n",
    "                \"0\": {\n",
    "                    \"q00\": 803.0476168393415,\n",
    "                    \"q01\": 803.0476168393415,\n",
    "                    \"q25\": 907.2920695654886,\n",
    "                    \"q50\": 959.0112145260407,\n",
    "                    \"q75\": 1059.4072543931134,\n",
    "                    \"q99\": 1197.3055442349162,\n",
    "                    \"q100\": 1197.3055442349162\n",
    "                },\n",
    "                \"1\": {\n",
    "                    \"q00\": 769.4188139185309,\n",
    "                    \"q01\": 769.4188139185309,\n",
    "                    \"q25\": 932.2965098911496,\n",
    "                    \"q50\": 1003.9672686831474,\n",
    "                    \"q75\": 1048.7928364881604,\n",
    "                    \"q99\": 1308.6366589738643,\n",
    "                    \"q100\": 1308.6366589738643\n",
    "                }\n",
    "            },\n",
    "        }\n",
    "\n",
    "        Quantiles for 0.00, 0.01, 0.25, 0.50, 0.75, 0.99 and 1.00 must be specified \n",
    "\n",
    "        Returns: \n",
    "            quantile_dict\n",
    "        \n",
    "        '''\n",
    "        if self.target_type in ('binary', 'categorical'):\n",
    "            return self._make_box_categorical_target(cols)\n",
    "        else:\n",
    "            return self._make_box_continuous_target(cols)\n",
    "\n",
    "\n",
    "    def _make_box_categorical_target(self, cols):\n",
    "        quantile_dict = {}\n",
    "        for col in cols:\n",
    "            # q00, q01, q25, q50, q75, q99, q100 = \n",
    "            target_q = (self.data.groupBy(self.target)\n",
    "                .agg(\n",
    "                    F.percentile_approx(col, [0.00, 0.01, 0.25, 0.50, 0.75, 0.99, 1.00], 1000).alias('percentiles'))\n",
    "                .collect())\n",
    "\n",
    "            target_dict = {}\n",
    "            for target in target_q:\n",
    "                target_val = target[self.target]\n",
    "                q00, q01, q25, q50, q75, q99, q100 = target.percentiles\n",
    "                target_dict[target_val] = {\n",
    "                        'q00': q00,\n",
    "                        'q01': q01,\n",
    "                        'q25': q25,\n",
    "                        'q50': q50,\n",
    "                        'q75': q75,\n",
    "                        'q99': q99,\n",
    "                        'q100': q100\n",
    "                    }\n",
    "            quantile_dict[col] = target_dict\n",
    "\n",
    "        return quantile_dict\n",
    "\n",
    "    def _make_box_continuous_target(self, cols):\n",
    "        for col in cols:\n",
    "            q00, q01, q25, q50, q75, q99, q100 = self.data.select(\n",
    "                F.percentile_approx('num1', [0.00, 0.01, 0.25, 0.50, 0.75, 0.99, 1.00]).alias('percentiles')).collect()[0].percentiles\n",
    "\n",
    "            quantile_dict[col] = {\n",
    "                    'q00': q00,\n",
    "                    'q01': q01,\n",
    "                    'q25': q25,\n",
    "                    'q50': q50,\n",
    "                    'q75': q75,\n",
    "                    'q99': q99,\n",
    "                    'q100': q100\n",
    "            }\n",
    "\n",
    "        return quantile_dict\n",
    "\n",
    "    def make_hist(self, cols, n_bins=None, bins=None):\n",
    "        '''Generates histogram for each column, split by target if type categorical/binary\n",
    "        \n",
    "        Args:\n",
    "            cols: list/string of column(s) to generate histograms for\n",
    "            bins: list of bin-edges\n",
    "            n_bins: number of bins for histogram\n",
    "\n",
    "        Raises:\n",
    "            AttributeError if both bins and n_bins are defined\n",
    "\n",
    "        Returns:\n",
    "            dictionary of (bins, edges) indexed by column name\n",
    "        '''\n",
    "        col_dict = {}\n",
    "        for col in cols:\n",
    "            target_dict = {}\n",
    "            for target_val in self.target_vals:\n",
    "                target_dict[target_val] = {'bins': None, 'edges': None}\n",
    "                target_dict[target_val]['edges'], target_dict[target_val]['bins']=(\n",
    "                    dd.filter(F.col(self.target)==int(target_val))\n",
    "                    .select(col).rdd.flatMap(lambda x: x).histogram(n_bins if n_bins else bins))\n",
    "\n",
    "                target_dict[target_val]['edges'] = target_dict[target_val]['edges'][:-1] # off-by-one\n",
    "\n",
    "            col_dict[col] = target_dict\n",
    "\n",
    "        return col_dict\n",
    "\n",
    "\n",
    "    @staticmethod\n",
    "    def null_sort(data, sort=None):\n",
    "        '''Sorts columns by percentage missing values'''\n",
    "        if sort is None:\n",
    "            return data\n",
    "\n",
    "        if sort not in ['ascending', 'descending']:\n",
    "            raise ValueError('sort must be on of \"ascending\" or \"descending\"')\n",
    "\n",
    "        counts = data.select(*[F.count(col).alias(col) for col in data.columns]).toPandas()\n",
    "\n",
    "        counts.index = ['cnt']\n",
    "        cols = counts.columns\n",
    "        vals = counts.values[0]\n",
    "\n",
    "        series = pd.Series(data=vals, index=cols)\n",
    "        new_col_order = []\n",
    "        if sort == 'ascending': \n",
    "            for col_id in np.argsort(series).values:\n",
    "                new_col_order.append(data.columns[col_id])\n",
    "\n",
    "            return data.select(*new_col_order)\n",
    "\n",
    "        elif sort == 'descending':\n",
    "            for col_id in np.flipud(np.argsort(series.values)):\n",
    "                new_col_order.append(data.columns[col_id])\n",
    "\n",
    "            return data.select(*new_col_order)\n",
    "\n",
    "    @staticmethod\n",
    "    def null_filter(data, _filter=None, p=0, n=0):\n",
    "        new_col_order = data.columns\n",
    "        if _filter == 'top':\n",
    "            new_col_order = []\n",
    "            len_df = data.count()\n",
    "            if p:\n",
    "                for idx,col in enumerate(data.columns):\n",
    "                    if count_rows_values(data)[idx] / len_df >= p:\n",
    "                        new_col_order.append(col)\n",
    "\n",
    "            if n:\n",
    "                raise NotImplementedError\n",
    "\n",
    "        elif _filter == 'bottom':\n",
    "            new_col_order = []\n",
    "            len_df = data.count()\n",
    "            if p:\n",
    "                for idx,col in enumerate(data.columns):\n",
    "                    if count_rows_values(data)[idx] / len_df <= p:\n",
    "                        new_col_order.append(col)\n",
    "\n",
    "            if n:\n",
    "                raise NotImplementedError\n",
    "\n",
    "        return data.select(*new_col_order)  \n",
    "\n",
    "    @staticmethod\n",
    "    def count_rows_values(data:pyspark.sql.DataFrame):\n",
    "        '''Does pandas equivalent of .count(axis='rows') but for pyspark'''\n",
    "        counts = data.select(*[F.count(col).alias(col) for col in data.columns]).toPandas().values[0]\n",
    "\n",
    "        return pd.Series(index=data.columns, data=counts)\n",
    "\n",
    "    def plot_heatmap_missing(self, cols:list=None):\n",
    "        \"\"\"Plots a heatmap of correlation of missing values\n",
    "        \n",
    "        Args:\n",
    "            cols: list of columns to plot missing correlation, if not specified, uses full dataset \n",
    "        \n",
    "        \"\"\"\n",
    "        if not cols:\n",
    "            cols = self.data.columns\n",
    "\n",
    "        data = self.data.select(*cols)\n",
    "        data = self.null_filter(data)\n",
    "        data = self.null_sort(data, sort=None)\n",
    "\n",
    "        col_counts = self.count_rows_values(data)\n",
    "        if isinstance(data, pyspark.sql.DataFrame):\n",
    "            data = data.toPandas()\n",
    "\n",
    "\n",
    "\n",
    "        data_small = data[col_counts.index]\n",
    "        corr_mat = data_small.isnull().corr()\n",
    "        if corr_mat.sum().sum() == 0:\n",
    "            logging.info('No missing values or empty dataframe')\n",
    "            return \n",
    "        mask = np.zeros_like(corr_mat)\n",
    "        mask[np.triu_indices_from(mask)] = True\n",
    "\n",
    "        fig = go.Figure(go.Heatmap(\n",
    "            z=corr_mat.values,\n",
    "            x=corr_mat.columns,\n",
    "            y=corr_mat.columns,\n",
    "            zmin=-1,\n",
    "            zmax=1, \n",
    "            colorscale=colorcet.coolwarm\n",
    "        ), layout=go.Layout(\n",
    "            autosize=False,\n",
    "            width=800,\n",
    "            height=800,\n",
    "            title='Missing Value Correlations'\n",
    "        ))\n",
    "\n",
    "        fig.show()"
   ]
  },
  {
   "cell_type": "code",
   "execution_count": 499,
   "metadata": {},
   "outputs": [
    {
     "name": "stdout",
     "output_type": "stream",
     "text": [
      "+---+----+-----+------------------+--------------------+----+----+----------+------------+\n",
      "| id|year|month|              num1|                num2|cat1|cat2|bin_target|multi_target|\n",
      "+---+----+-----+------------------+--------------------+----+----+----------+------------+\n",
      "|  A|2023|  1.0|1002.3989695645216|   78.28981021365396|   c|   A|         0|          -1|\n",
      "|  A|2023|  2.0| 945.2920324240617|  -48.19393418442653|   a|   A|         1|           1|\n",
      "|  A|2023|  3.0| 803.0476168393415|  -31.00385061597097|   a|   A|         0|           1|\n",
      "|  A|2023|  4.0| 837.8984800348729| -319.63065707325995|   a|   A|         1|           1|\n",
      "|  A|2023|  5.0| 842.3216571543076| -16.540609711770397|   c|   C|         1|          -1|\n",
      "|  A|2023|  6.0| 843.5387529856456|  202.61459610296797|   b|   A|         1|           1|\n",
      "|  A|2023|  7.0| 886.5776484723364|-0.09885695743611222|   c|   B|         1|           0|\n",
      "|  A|2023|  8.0|1052.1454089179265|  -75.38275449654631|   c|   B|         1|           1|\n",
      "|  A|2023|  9.0|1056.1255237710996|  -36.15593114014091|   a|   B|         1|           0|\n",
      "|  A|2023| 10.0|1100.8811737613632| -188.52522706523823|   c|   B|         1|           0|\n",
      "|  A|2023| 11.0|1007.8508704864715|  -0.947164401516055|   c|   C|         1|           0|\n",
      "|  A|2023| 12.0| 949.9774348111349|  18.241726050422443|   a|   A|         1|           0|\n",
      "|  A|2023| 13.0|1015.3067935840193|  -83.25767300243083|   b|   B|         1|           0|\n",
      "|  A|2023| 14.0| 982.5889053782971|   81.95477904743383|   c|   B|         1|           1|\n",
      "|  A|2023| 15.0| 937.1979170929823|  11.127339196065948|   c|   B|         0|           0|\n",
      "|  A|2023| 16.0|1026.9186687170297|  28.750344933932308|   a|   A|         1|          -1|\n",
      "|  A|2023| 17.0|1045.2063721372854|  -74.96737567430303|   a|   C|         1|           0|\n",
      "|  A|2023| 18.0|1022.1035862754602| -1.7228540631794083|   a|   A|         1|           0|\n",
      "|  A|2023| 19.0|1086.1133326189133| -58.384913368021074|   c|   C|         1|          -1|\n",
      "|  A|2023| 20.0| 931.8414361300239|  -75.46334192436545|   c|   C|         1|           0|\n",
      "+---+----+-----+------------------+--------------------+----+----+----------+------------+\n",
      "only showing top 20 rows\n",
      "\n"
     ]
    }
   ],
   "source": [
    "dd.show()"
   ]
  },
  {
   "cell_type": "code",
   "execution_count": 500,
   "metadata": {},
   "outputs": [],
   "source": [
    "s = SparkExplorer(\n",
    "    data=dd,\n",
    "    target='bin_target',\n",
    "    target_type='binary'\n",
    ")"
   ]
  },
  {
   "cell_type": "code",
   "execution_count": 501,
   "metadata": {},
   "outputs": [
    {
     "data": {
      "application/vnd.plotly.v1+json": {
       "config": {
        "plotlyServerURL": "https://plot.ly"
       },
       "data": [
        {
         "marker": {
          "color": "#d60000"
         },
         "name": "Target val: 0",
         "type": "bar",
         "x": [
          803.0476168393415,
          881.8992023184564,
          960.7507877975713,
          1039.6023732766862,
          1118.4539587558013
         ],
         "xaxis": "x",
         "y": [
          2,
          7,
          2,
          4,
          2
         ],
         "yaxis": "y"
        },
        {
         "marker": {
          "color": "#8c3bff"
         },
         "name": "Target val: 1",
         "type": "bar",
         "x": [
          769.4188139185309,
          877.2623829295976,
          985.1059519406642,
          1092.9495209517308,
          1200.7930899627977
         ],
         "xaxis": "x",
         "y": [
          10,
          25,
          38,
          8,
          2
         ],
         "yaxis": "y"
        },
        {
         "marker": {
          "color": "#d60000"
         },
         "name": "Target val: 0",
         "type": "bar",
         "x": [
          -232.3261679023198,
          -154.7911381074982,
          -77.25610831267659,
          0.278921482145023,
          77.81395127696663
         ],
         "xaxis": "x2",
         "y": [
          1,
          2,
          6,
          4,
          4
         ],
         "yaxis": "y2"
        },
        {
         "marker": {
          "color": "#8c3bff"
         },
         "name": "Target val: 1",
         "type": "bar",
         "x": [
          -319.63065707325995,
          -207.11585524218472,
          -94.60105341110949,
          17.913748419965714,
          130.42855025104097
         ],
         "xaxis": "x2",
         "y": [
          1,
          14,
          36,
          24,
          8
         ],
         "yaxis": "y2"
        }
       ],
       "layout": {
        "annotations": [
         {
          "font": {
           "size": 16
          },
          "showarrow": false,
          "text": "num1",
          "x": 0.14444444444444446,
          "xanchor": "center",
          "xref": "paper",
          "y": 1,
          "yanchor": "bottom",
          "yref": "paper"
         },
         {
          "font": {
           "size": 16
          },
          "showarrow": false,
          "text": "num2",
          "x": 0.5,
          "xanchor": "center",
          "xref": "paper",
          "y": 1,
          "yanchor": "bottom",
          "yref": "paper"
         }
        ],
        "autosize": false,
        "height": 400,
        "template": {
         "data": {
          "bar": [
           {
            "error_x": {
             "color": "#2a3f5f"
            },
            "error_y": {
             "color": "#2a3f5f"
            },
            "marker": {
             "line": {
              "color": "#E5ECF6",
              "width": 0.5
             },
             "pattern": {
              "fillmode": "overlay",
              "size": 10,
              "solidity": 0.2
             }
            },
            "type": "bar"
           }
          ],
          "barpolar": [
           {
            "marker": {
             "line": {
              "color": "#E5ECF6",
              "width": 0.5
             },
             "pattern": {
              "fillmode": "overlay",
              "size": 10,
              "solidity": 0.2
             }
            },
            "type": "barpolar"
           }
          ],
          "carpet": [
           {
            "aaxis": {
             "endlinecolor": "#2a3f5f",
             "gridcolor": "white",
             "linecolor": "white",
             "minorgridcolor": "white",
             "startlinecolor": "#2a3f5f"
            },
            "baxis": {
             "endlinecolor": "#2a3f5f",
             "gridcolor": "white",
             "linecolor": "white",
             "minorgridcolor": "white",
             "startlinecolor": "#2a3f5f"
            },
            "type": "carpet"
           }
          ],
          "choropleth": [
           {
            "colorbar": {
             "outlinewidth": 0,
             "ticks": ""
            },
            "type": "choropleth"
           }
          ],
          "contour": [
           {
            "colorbar": {
             "outlinewidth": 0,
             "ticks": ""
            },
            "colorscale": [
             [
              0,
              "#0d0887"
             ],
             [
              0.1111111111111111,
              "#46039f"
             ],
             [
              0.2222222222222222,
              "#7201a8"
             ],
             [
              0.3333333333333333,
              "#9c179e"
             ],
             [
              0.4444444444444444,
              "#bd3786"
             ],
             [
              0.5555555555555556,
              "#d8576b"
             ],
             [
              0.6666666666666666,
              "#ed7953"
             ],
             [
              0.7777777777777778,
              "#fb9f3a"
             ],
             [
              0.8888888888888888,
              "#fdca26"
             ],
             [
              1,
              "#f0f921"
             ]
            ],
            "type": "contour"
           }
          ],
          "contourcarpet": [
           {
            "colorbar": {
             "outlinewidth": 0,
             "ticks": ""
            },
            "type": "contourcarpet"
           }
          ],
          "heatmap": [
           {
            "colorbar": {
             "outlinewidth": 0,
             "ticks": ""
            },
            "colorscale": [
             [
              0,
              "#0d0887"
             ],
             [
              0.1111111111111111,
              "#46039f"
             ],
             [
              0.2222222222222222,
              "#7201a8"
             ],
             [
              0.3333333333333333,
              "#9c179e"
             ],
             [
              0.4444444444444444,
              "#bd3786"
             ],
             [
              0.5555555555555556,
              "#d8576b"
             ],
             [
              0.6666666666666666,
              "#ed7953"
             ],
             [
              0.7777777777777778,
              "#fb9f3a"
             ],
             [
              0.8888888888888888,
              "#fdca26"
             ],
             [
              1,
              "#f0f921"
             ]
            ],
            "type": "heatmap"
           }
          ],
          "heatmapgl": [
           {
            "colorbar": {
             "outlinewidth": 0,
             "ticks": ""
            },
            "colorscale": [
             [
              0,
              "#0d0887"
             ],
             [
              0.1111111111111111,
              "#46039f"
             ],
             [
              0.2222222222222222,
              "#7201a8"
             ],
             [
              0.3333333333333333,
              "#9c179e"
             ],
             [
              0.4444444444444444,
              "#bd3786"
             ],
             [
              0.5555555555555556,
              "#d8576b"
             ],
             [
              0.6666666666666666,
              "#ed7953"
             ],
             [
              0.7777777777777778,
              "#fb9f3a"
             ],
             [
              0.8888888888888888,
              "#fdca26"
             ],
             [
              1,
              "#f0f921"
             ]
            ],
            "type": "heatmapgl"
           }
          ],
          "histogram": [
           {
            "marker": {
             "pattern": {
              "fillmode": "overlay",
              "size": 10,
              "solidity": 0.2
             }
            },
            "type": "histogram"
           }
          ],
          "histogram2d": [
           {
            "colorbar": {
             "outlinewidth": 0,
             "ticks": ""
            },
            "colorscale": [
             [
              0,
              "#0d0887"
             ],
             [
              0.1111111111111111,
              "#46039f"
             ],
             [
              0.2222222222222222,
              "#7201a8"
             ],
             [
              0.3333333333333333,
              "#9c179e"
             ],
             [
              0.4444444444444444,
              "#bd3786"
             ],
             [
              0.5555555555555556,
              "#d8576b"
             ],
             [
              0.6666666666666666,
              "#ed7953"
             ],
             [
              0.7777777777777778,
              "#fb9f3a"
             ],
             [
              0.8888888888888888,
              "#fdca26"
             ],
             [
              1,
              "#f0f921"
             ]
            ],
            "type": "histogram2d"
           }
          ],
          "histogram2dcontour": [
           {
            "colorbar": {
             "outlinewidth": 0,
             "ticks": ""
            },
            "colorscale": [
             [
              0,
              "#0d0887"
             ],
             [
              0.1111111111111111,
              "#46039f"
             ],
             [
              0.2222222222222222,
              "#7201a8"
             ],
             [
              0.3333333333333333,
              "#9c179e"
             ],
             [
              0.4444444444444444,
              "#bd3786"
             ],
             [
              0.5555555555555556,
              "#d8576b"
             ],
             [
              0.6666666666666666,
              "#ed7953"
             ],
             [
              0.7777777777777778,
              "#fb9f3a"
             ],
             [
              0.8888888888888888,
              "#fdca26"
             ],
             [
              1,
              "#f0f921"
             ]
            ],
            "type": "histogram2dcontour"
           }
          ],
          "mesh3d": [
           {
            "colorbar": {
             "outlinewidth": 0,
             "ticks": ""
            },
            "type": "mesh3d"
           }
          ],
          "parcoords": [
           {
            "line": {
             "colorbar": {
              "outlinewidth": 0,
              "ticks": ""
             }
            },
            "type": "parcoords"
           }
          ],
          "pie": [
           {
            "automargin": true,
            "type": "pie"
           }
          ],
          "scatter": [
           {
            "fillpattern": {
             "fillmode": "overlay",
             "size": 10,
             "solidity": 0.2
            },
            "type": "scatter"
           }
          ],
          "scatter3d": [
           {
            "line": {
             "colorbar": {
              "outlinewidth": 0,
              "ticks": ""
             }
            },
            "marker": {
             "colorbar": {
              "outlinewidth": 0,
              "ticks": ""
             }
            },
            "type": "scatter3d"
           }
          ],
          "scattercarpet": [
           {
            "marker": {
             "colorbar": {
              "outlinewidth": 0,
              "ticks": ""
             }
            },
            "type": "scattercarpet"
           }
          ],
          "scattergeo": [
           {
            "marker": {
             "colorbar": {
              "outlinewidth": 0,
              "ticks": ""
             }
            },
            "type": "scattergeo"
           }
          ],
          "scattergl": [
           {
            "marker": {
             "colorbar": {
              "outlinewidth": 0,
              "ticks": ""
             }
            },
            "type": "scattergl"
           }
          ],
          "scattermapbox": [
           {
            "marker": {
             "colorbar": {
              "outlinewidth": 0,
              "ticks": ""
             }
            },
            "type": "scattermapbox"
           }
          ],
          "scatterpolar": [
           {
            "marker": {
             "colorbar": {
              "outlinewidth": 0,
              "ticks": ""
             }
            },
            "type": "scatterpolar"
           }
          ],
          "scatterpolargl": [
           {
            "marker": {
             "colorbar": {
              "outlinewidth": 0,
              "ticks": ""
             }
            },
            "type": "scatterpolargl"
           }
          ],
          "scatterternary": [
           {
            "marker": {
             "colorbar": {
              "outlinewidth": 0,
              "ticks": ""
             }
            },
            "type": "scatterternary"
           }
          ],
          "surface": [
           {
            "colorbar": {
             "outlinewidth": 0,
             "ticks": ""
            },
            "colorscale": [
             [
              0,
              "#0d0887"
             ],
             [
              0.1111111111111111,
              "#46039f"
             ],
             [
              0.2222222222222222,
              "#7201a8"
             ],
             [
              0.3333333333333333,
              "#9c179e"
             ],
             [
              0.4444444444444444,
              "#bd3786"
             ],
             [
              0.5555555555555556,
              "#d8576b"
             ],
             [
              0.6666666666666666,
              "#ed7953"
             ],
             [
              0.7777777777777778,
              "#fb9f3a"
             ],
             [
              0.8888888888888888,
              "#fdca26"
             ],
             [
              1,
              "#f0f921"
             ]
            ],
            "type": "surface"
           }
          ],
          "table": [
           {
            "cells": {
             "fill": {
              "color": "#EBF0F8"
             },
             "line": {
              "color": "white"
             }
            },
            "header": {
             "fill": {
              "color": "#C8D4E3"
             },
             "line": {
              "color": "white"
             }
            },
            "type": "table"
           }
          ]
         },
         "layout": {
          "annotationdefaults": {
           "arrowcolor": "#2a3f5f",
           "arrowhead": 0,
           "arrowwidth": 1
          },
          "autotypenumbers": "strict",
          "coloraxis": {
           "colorbar": {
            "outlinewidth": 0,
            "ticks": ""
           }
          },
          "colorscale": {
           "diverging": [
            [
             0,
             "#8e0152"
            ],
            [
             0.1,
             "#c51b7d"
            ],
            [
             0.2,
             "#de77ae"
            ],
            [
             0.3,
             "#f1b6da"
            ],
            [
             0.4,
             "#fde0ef"
            ],
            [
             0.5,
             "#f7f7f7"
            ],
            [
             0.6,
             "#e6f5d0"
            ],
            [
             0.7,
             "#b8e186"
            ],
            [
             0.8,
             "#7fbc41"
            ],
            [
             0.9,
             "#4d9221"
            ],
            [
             1,
             "#276419"
            ]
           ],
           "sequential": [
            [
             0,
             "#0d0887"
            ],
            [
             0.1111111111111111,
             "#46039f"
            ],
            [
             0.2222222222222222,
             "#7201a8"
            ],
            [
             0.3333333333333333,
             "#9c179e"
            ],
            [
             0.4444444444444444,
             "#bd3786"
            ],
            [
             0.5555555555555556,
             "#d8576b"
            ],
            [
             0.6666666666666666,
             "#ed7953"
            ],
            [
             0.7777777777777778,
             "#fb9f3a"
            ],
            [
             0.8888888888888888,
             "#fdca26"
            ],
            [
             1,
             "#f0f921"
            ]
           ],
           "sequentialminus": [
            [
             0,
             "#0d0887"
            ],
            [
             0.1111111111111111,
             "#46039f"
            ],
            [
             0.2222222222222222,
             "#7201a8"
            ],
            [
             0.3333333333333333,
             "#9c179e"
            ],
            [
             0.4444444444444444,
             "#bd3786"
            ],
            [
             0.5555555555555556,
             "#d8576b"
            ],
            [
             0.6666666666666666,
             "#ed7953"
            ],
            [
             0.7777777777777778,
             "#fb9f3a"
            ],
            [
             0.8888888888888888,
             "#fdca26"
            ],
            [
             1,
             "#f0f921"
            ]
           ]
          },
          "colorway": [
           "#636efa",
           "#EF553B",
           "#00cc96",
           "#ab63fa",
           "#FFA15A",
           "#19d3f3",
           "#FF6692",
           "#B6E880",
           "#FF97FF",
           "#FECB52"
          ],
          "font": {
           "color": "#2a3f5f"
          },
          "geo": {
           "bgcolor": "white",
           "lakecolor": "white",
           "landcolor": "#E5ECF6",
           "showlakes": true,
           "showland": true,
           "subunitcolor": "white"
          },
          "hoverlabel": {
           "align": "left"
          },
          "hovermode": "closest",
          "mapbox": {
           "style": "light"
          },
          "paper_bgcolor": "white",
          "plot_bgcolor": "#E5ECF6",
          "polar": {
           "angularaxis": {
            "gridcolor": "white",
            "linecolor": "white",
            "ticks": ""
           },
           "bgcolor": "#E5ECF6",
           "radialaxis": {
            "gridcolor": "white",
            "linecolor": "white",
            "ticks": ""
           }
          },
          "scene": {
           "xaxis": {
            "backgroundcolor": "#E5ECF6",
            "gridcolor": "white",
            "gridwidth": 2,
            "linecolor": "white",
            "showbackground": true,
            "ticks": "",
            "zerolinecolor": "white"
           },
           "yaxis": {
            "backgroundcolor": "#E5ECF6",
            "gridcolor": "white",
            "gridwidth": 2,
            "linecolor": "white",
            "showbackground": true,
            "ticks": "",
            "zerolinecolor": "white"
           },
           "zaxis": {
            "backgroundcolor": "#E5ECF6",
            "gridcolor": "white",
            "gridwidth": 2,
            "linecolor": "white",
            "showbackground": true,
            "ticks": "",
            "zerolinecolor": "white"
           }
          },
          "shapedefaults": {
           "line": {
            "color": "#2a3f5f"
           }
          },
          "ternary": {
           "aaxis": {
            "gridcolor": "white",
            "linecolor": "white",
            "ticks": ""
           },
           "baxis": {
            "gridcolor": "white",
            "linecolor": "white",
            "ticks": ""
           },
           "bgcolor": "#E5ECF6",
           "caxis": {
            "gridcolor": "white",
            "linecolor": "white",
            "ticks": ""
           }
          },
          "title": {
           "x": 0.05
          },
          "xaxis": {
           "automargin": true,
           "gridcolor": "white",
           "linecolor": "white",
           "ticks": "",
           "title": {
            "standoff": 15
           },
           "zerolinecolor": "white",
           "zerolinewidth": 2
          },
          "yaxis": {
           "automargin": true,
           "gridcolor": "white",
           "linecolor": "white",
           "ticks": "",
           "title": {
            "standoff": 15
           },
           "zerolinecolor": "white",
           "zerolinewidth": 2
          }
         }
        },
        "width": 1200,
        "xaxis": {
         "anchor": "y",
         "domain": [
          0,
          0.2888888888888889
         ]
        },
        "xaxis2": {
         "anchor": "y2",
         "domain": [
          0.35555555555555557,
          0.6444444444444445
         ]
        },
        "xaxis3": {
         "anchor": "y3",
         "domain": [
          0.7111111111111111,
          1
         ]
        },
        "yaxis": {
         "anchor": "x",
         "domain": [
          0,
          1
         ]
        },
        "yaxis2": {
         "anchor": "x2",
         "domain": [
          0,
          1
         ]
        },
        "yaxis3": {
         "anchor": "x3",
         "domain": [
          0,
          1
         ]
        }
       }
      }
     },
     "metadata": {},
     "output_type": "display_data"
    }
   ],
   "source": [
    "s.plot_hist(['num1','num2'], n_bins=5)"
   ]
  },
  {
   "cell_type": "code",
   "execution_count": 502,
   "metadata": {},
   "outputs": [
    {
     "name": "stdout",
     "output_type": "stream",
     "text": [
      "Help on method plot_box in module __main__:\n",
      "\n",
      "plot_box(cols: Union[List, str] = None) method of __main__.SparkExplorer instance\n",
      "    Plots quartiles using the make_box function\n",
      "    \n",
      "    Args:\n",
      "        cols: list of columns to plot for, if not specified defaults to all\n",
      "\n"
     ]
    }
   ],
   "source": [
    "help(s.plot_box)"
   ]
  },
  {
   "cell_type": "code",
   "execution_count": 503,
   "metadata": {},
   "outputs": [
    {
     "data": {
      "application/vnd.plotly.v1+json": {
       "config": {
        "plotlyServerURL": "https://plot.ly"
       },
       "data": [
        {
         "lowerfence": [
          803.0476168393415
         ],
         "marker": {
          "color": "#d60000"
         },
         "median": [
          959.0112145260407
         ],
         "name": "Target: 0",
         "q1": [
          907.2920695654886
         ],
         "q3": [
          1059.4072543931134
         ],
         "type": "box",
         "upperfence": [
          1197.3055442349162
         ],
         "x": [
          0
         ],
         "xaxis": "x",
         "yaxis": "y"
        },
        {
         "lowerfence": [
          769.4188139185309
         ],
         "marker": {
          "color": "#8c3bff"
         },
         "median": [
          1003.9672686831474
         ],
         "name": "Target: 1",
         "q1": [
          932.2965098911496
         ],
         "q3": [
          1048.7928364881604
         ],
         "type": "box",
         "upperfence": [
          1308.6366589738643
         ],
         "x": [
          1
         ],
         "xaxis": "x",
         "yaxis": "y"
        },
        {
         "lowerfence": [
          -232.3261679023198
         ],
         "marker": {
          "color": "#d60000"
         },
         "median": [
          -22.540583256507958
         ],
         "name": "Target: 0",
         "q1": [
          -60.01249303350001
         ],
         "q3": [
          63.15884542190935
         ],
         "type": "box",
         "upperfence": [
          155.3489810717883
         ],
         "x": [
          0
         ],
         "xaxis": "x2",
         "yaxis": "y2"
        },
        {
         "lowerfence": [
          -319.63065707325995
         ],
         "marker": {
          "color": "#8c3bff"
         },
         "median": [
          -5.654803301344733
         ],
         "name": "Target: 1",
         "q1": [
          -81.04617153314439
         ],
         "q3": [
          62.053494397945364
         ],
         "type": "box",
         "upperfence": [
          242.9433520821162
         ],
         "x": [
          1
         ],
         "xaxis": "x2",
         "yaxis": "y2"
        }
       ],
       "layout": {
        "annotations": [
         {
          "font": {
           "size": 16
          },
          "showarrow": false,
          "text": "num1",
          "x": 0.14444444444444446,
          "xanchor": "center",
          "xref": "paper",
          "y": 1,
          "yanchor": "bottom",
          "yref": "paper"
         },
         {
          "font": {
           "size": 16
          },
          "showarrow": false,
          "text": "num2",
          "x": 0.5,
          "xanchor": "center",
          "xref": "paper",
          "y": 1,
          "yanchor": "bottom",
          "yref": "paper"
         }
        ],
        "autosize": false,
        "height": 400,
        "template": {
         "data": {
          "bar": [
           {
            "error_x": {
             "color": "#2a3f5f"
            },
            "error_y": {
             "color": "#2a3f5f"
            },
            "marker": {
             "line": {
              "color": "#E5ECF6",
              "width": 0.5
             },
             "pattern": {
              "fillmode": "overlay",
              "size": 10,
              "solidity": 0.2
             }
            },
            "type": "bar"
           }
          ],
          "barpolar": [
           {
            "marker": {
             "line": {
              "color": "#E5ECF6",
              "width": 0.5
             },
             "pattern": {
              "fillmode": "overlay",
              "size": 10,
              "solidity": 0.2
             }
            },
            "type": "barpolar"
           }
          ],
          "carpet": [
           {
            "aaxis": {
             "endlinecolor": "#2a3f5f",
             "gridcolor": "white",
             "linecolor": "white",
             "minorgridcolor": "white",
             "startlinecolor": "#2a3f5f"
            },
            "baxis": {
             "endlinecolor": "#2a3f5f",
             "gridcolor": "white",
             "linecolor": "white",
             "minorgridcolor": "white",
             "startlinecolor": "#2a3f5f"
            },
            "type": "carpet"
           }
          ],
          "choropleth": [
           {
            "colorbar": {
             "outlinewidth": 0,
             "ticks": ""
            },
            "type": "choropleth"
           }
          ],
          "contour": [
           {
            "colorbar": {
             "outlinewidth": 0,
             "ticks": ""
            },
            "colorscale": [
             [
              0,
              "#0d0887"
             ],
             [
              0.1111111111111111,
              "#46039f"
             ],
             [
              0.2222222222222222,
              "#7201a8"
             ],
             [
              0.3333333333333333,
              "#9c179e"
             ],
             [
              0.4444444444444444,
              "#bd3786"
             ],
             [
              0.5555555555555556,
              "#d8576b"
             ],
             [
              0.6666666666666666,
              "#ed7953"
             ],
             [
              0.7777777777777778,
              "#fb9f3a"
             ],
             [
              0.8888888888888888,
              "#fdca26"
             ],
             [
              1,
              "#f0f921"
             ]
            ],
            "type": "contour"
           }
          ],
          "contourcarpet": [
           {
            "colorbar": {
             "outlinewidth": 0,
             "ticks": ""
            },
            "type": "contourcarpet"
           }
          ],
          "heatmap": [
           {
            "colorbar": {
             "outlinewidth": 0,
             "ticks": ""
            },
            "colorscale": [
             [
              0,
              "#0d0887"
             ],
             [
              0.1111111111111111,
              "#46039f"
             ],
             [
              0.2222222222222222,
              "#7201a8"
             ],
             [
              0.3333333333333333,
              "#9c179e"
             ],
             [
              0.4444444444444444,
              "#bd3786"
             ],
             [
              0.5555555555555556,
              "#d8576b"
             ],
             [
              0.6666666666666666,
              "#ed7953"
             ],
             [
              0.7777777777777778,
              "#fb9f3a"
             ],
             [
              0.8888888888888888,
              "#fdca26"
             ],
             [
              1,
              "#f0f921"
             ]
            ],
            "type": "heatmap"
           }
          ],
          "heatmapgl": [
           {
            "colorbar": {
             "outlinewidth": 0,
             "ticks": ""
            },
            "colorscale": [
             [
              0,
              "#0d0887"
             ],
             [
              0.1111111111111111,
              "#46039f"
             ],
             [
              0.2222222222222222,
              "#7201a8"
             ],
             [
              0.3333333333333333,
              "#9c179e"
             ],
             [
              0.4444444444444444,
              "#bd3786"
             ],
             [
              0.5555555555555556,
              "#d8576b"
             ],
             [
              0.6666666666666666,
              "#ed7953"
             ],
             [
              0.7777777777777778,
              "#fb9f3a"
             ],
             [
              0.8888888888888888,
              "#fdca26"
             ],
             [
              1,
              "#f0f921"
             ]
            ],
            "type": "heatmapgl"
           }
          ],
          "histogram": [
           {
            "marker": {
             "pattern": {
              "fillmode": "overlay",
              "size": 10,
              "solidity": 0.2
             }
            },
            "type": "histogram"
           }
          ],
          "histogram2d": [
           {
            "colorbar": {
             "outlinewidth": 0,
             "ticks": ""
            },
            "colorscale": [
             [
              0,
              "#0d0887"
             ],
             [
              0.1111111111111111,
              "#46039f"
             ],
             [
              0.2222222222222222,
              "#7201a8"
             ],
             [
              0.3333333333333333,
              "#9c179e"
             ],
             [
              0.4444444444444444,
              "#bd3786"
             ],
             [
              0.5555555555555556,
              "#d8576b"
             ],
             [
              0.6666666666666666,
              "#ed7953"
             ],
             [
              0.7777777777777778,
              "#fb9f3a"
             ],
             [
              0.8888888888888888,
              "#fdca26"
             ],
             [
              1,
              "#f0f921"
             ]
            ],
            "type": "histogram2d"
           }
          ],
          "histogram2dcontour": [
           {
            "colorbar": {
             "outlinewidth": 0,
             "ticks": ""
            },
            "colorscale": [
             [
              0,
              "#0d0887"
             ],
             [
              0.1111111111111111,
              "#46039f"
             ],
             [
              0.2222222222222222,
              "#7201a8"
             ],
             [
              0.3333333333333333,
              "#9c179e"
             ],
             [
              0.4444444444444444,
              "#bd3786"
             ],
             [
              0.5555555555555556,
              "#d8576b"
             ],
             [
              0.6666666666666666,
              "#ed7953"
             ],
             [
              0.7777777777777778,
              "#fb9f3a"
             ],
             [
              0.8888888888888888,
              "#fdca26"
             ],
             [
              1,
              "#f0f921"
             ]
            ],
            "type": "histogram2dcontour"
           }
          ],
          "mesh3d": [
           {
            "colorbar": {
             "outlinewidth": 0,
             "ticks": ""
            },
            "type": "mesh3d"
           }
          ],
          "parcoords": [
           {
            "line": {
             "colorbar": {
              "outlinewidth": 0,
              "ticks": ""
             }
            },
            "type": "parcoords"
           }
          ],
          "pie": [
           {
            "automargin": true,
            "type": "pie"
           }
          ],
          "scatter": [
           {
            "fillpattern": {
             "fillmode": "overlay",
             "size": 10,
             "solidity": 0.2
            },
            "type": "scatter"
           }
          ],
          "scatter3d": [
           {
            "line": {
             "colorbar": {
              "outlinewidth": 0,
              "ticks": ""
             }
            },
            "marker": {
             "colorbar": {
              "outlinewidth": 0,
              "ticks": ""
             }
            },
            "type": "scatter3d"
           }
          ],
          "scattercarpet": [
           {
            "marker": {
             "colorbar": {
              "outlinewidth": 0,
              "ticks": ""
             }
            },
            "type": "scattercarpet"
           }
          ],
          "scattergeo": [
           {
            "marker": {
             "colorbar": {
              "outlinewidth": 0,
              "ticks": ""
             }
            },
            "type": "scattergeo"
           }
          ],
          "scattergl": [
           {
            "marker": {
             "colorbar": {
              "outlinewidth": 0,
              "ticks": ""
             }
            },
            "type": "scattergl"
           }
          ],
          "scattermapbox": [
           {
            "marker": {
             "colorbar": {
              "outlinewidth": 0,
              "ticks": ""
             }
            },
            "type": "scattermapbox"
           }
          ],
          "scatterpolar": [
           {
            "marker": {
             "colorbar": {
              "outlinewidth": 0,
              "ticks": ""
             }
            },
            "type": "scatterpolar"
           }
          ],
          "scatterpolargl": [
           {
            "marker": {
             "colorbar": {
              "outlinewidth": 0,
              "ticks": ""
             }
            },
            "type": "scatterpolargl"
           }
          ],
          "scatterternary": [
           {
            "marker": {
             "colorbar": {
              "outlinewidth": 0,
              "ticks": ""
             }
            },
            "type": "scatterternary"
           }
          ],
          "surface": [
           {
            "colorbar": {
             "outlinewidth": 0,
             "ticks": ""
            },
            "colorscale": [
             [
              0,
              "#0d0887"
             ],
             [
              0.1111111111111111,
              "#46039f"
             ],
             [
              0.2222222222222222,
              "#7201a8"
             ],
             [
              0.3333333333333333,
              "#9c179e"
             ],
             [
              0.4444444444444444,
              "#bd3786"
             ],
             [
              0.5555555555555556,
              "#d8576b"
             ],
             [
              0.6666666666666666,
              "#ed7953"
             ],
             [
              0.7777777777777778,
              "#fb9f3a"
             ],
             [
              0.8888888888888888,
              "#fdca26"
             ],
             [
              1,
              "#f0f921"
             ]
            ],
            "type": "surface"
           }
          ],
          "table": [
           {
            "cells": {
             "fill": {
              "color": "#EBF0F8"
             },
             "line": {
              "color": "white"
             }
            },
            "header": {
             "fill": {
              "color": "#C8D4E3"
             },
             "line": {
              "color": "white"
             }
            },
            "type": "table"
           }
          ]
         },
         "layout": {
          "annotationdefaults": {
           "arrowcolor": "#2a3f5f",
           "arrowhead": 0,
           "arrowwidth": 1
          },
          "autotypenumbers": "strict",
          "coloraxis": {
           "colorbar": {
            "outlinewidth": 0,
            "ticks": ""
           }
          },
          "colorscale": {
           "diverging": [
            [
             0,
             "#8e0152"
            ],
            [
             0.1,
             "#c51b7d"
            ],
            [
             0.2,
             "#de77ae"
            ],
            [
             0.3,
             "#f1b6da"
            ],
            [
             0.4,
             "#fde0ef"
            ],
            [
             0.5,
             "#f7f7f7"
            ],
            [
             0.6,
             "#e6f5d0"
            ],
            [
             0.7,
             "#b8e186"
            ],
            [
             0.8,
             "#7fbc41"
            ],
            [
             0.9,
             "#4d9221"
            ],
            [
             1,
             "#276419"
            ]
           ],
           "sequential": [
            [
             0,
             "#0d0887"
            ],
            [
             0.1111111111111111,
             "#46039f"
            ],
            [
             0.2222222222222222,
             "#7201a8"
            ],
            [
             0.3333333333333333,
             "#9c179e"
            ],
            [
             0.4444444444444444,
             "#bd3786"
            ],
            [
             0.5555555555555556,
             "#d8576b"
            ],
            [
             0.6666666666666666,
             "#ed7953"
            ],
            [
             0.7777777777777778,
             "#fb9f3a"
            ],
            [
             0.8888888888888888,
             "#fdca26"
            ],
            [
             1,
             "#f0f921"
            ]
           ],
           "sequentialminus": [
            [
             0,
             "#0d0887"
            ],
            [
             0.1111111111111111,
             "#46039f"
            ],
            [
             0.2222222222222222,
             "#7201a8"
            ],
            [
             0.3333333333333333,
             "#9c179e"
            ],
            [
             0.4444444444444444,
             "#bd3786"
            ],
            [
             0.5555555555555556,
             "#d8576b"
            ],
            [
             0.6666666666666666,
             "#ed7953"
            ],
            [
             0.7777777777777778,
             "#fb9f3a"
            ],
            [
             0.8888888888888888,
             "#fdca26"
            ],
            [
             1,
             "#f0f921"
            ]
           ]
          },
          "colorway": [
           "#636efa",
           "#EF553B",
           "#00cc96",
           "#ab63fa",
           "#FFA15A",
           "#19d3f3",
           "#FF6692",
           "#B6E880",
           "#FF97FF",
           "#FECB52"
          ],
          "font": {
           "color": "#2a3f5f"
          },
          "geo": {
           "bgcolor": "white",
           "lakecolor": "white",
           "landcolor": "#E5ECF6",
           "showlakes": true,
           "showland": true,
           "subunitcolor": "white"
          },
          "hoverlabel": {
           "align": "left"
          },
          "hovermode": "closest",
          "mapbox": {
           "style": "light"
          },
          "paper_bgcolor": "white",
          "plot_bgcolor": "#E5ECF6",
          "polar": {
           "angularaxis": {
            "gridcolor": "white",
            "linecolor": "white",
            "ticks": ""
           },
           "bgcolor": "#E5ECF6",
           "radialaxis": {
            "gridcolor": "white",
            "linecolor": "white",
            "ticks": ""
           }
          },
          "scene": {
           "xaxis": {
            "backgroundcolor": "#E5ECF6",
            "gridcolor": "white",
            "gridwidth": 2,
            "linecolor": "white",
            "showbackground": true,
            "ticks": "",
            "zerolinecolor": "white"
           },
           "yaxis": {
            "backgroundcolor": "#E5ECF6",
            "gridcolor": "white",
            "gridwidth": 2,
            "linecolor": "white",
            "showbackground": true,
            "ticks": "",
            "zerolinecolor": "white"
           },
           "zaxis": {
            "backgroundcolor": "#E5ECF6",
            "gridcolor": "white",
            "gridwidth": 2,
            "linecolor": "white",
            "showbackground": true,
            "ticks": "",
            "zerolinecolor": "white"
           }
          },
          "shapedefaults": {
           "line": {
            "color": "#2a3f5f"
           }
          },
          "ternary": {
           "aaxis": {
            "gridcolor": "white",
            "linecolor": "white",
            "ticks": ""
           },
           "baxis": {
            "gridcolor": "white",
            "linecolor": "white",
            "ticks": ""
           },
           "bgcolor": "#E5ECF6",
           "caxis": {
            "gridcolor": "white",
            "linecolor": "white",
            "ticks": ""
           }
          },
          "title": {
           "x": 0.05
          },
          "xaxis": {
           "automargin": true,
           "gridcolor": "white",
           "linecolor": "white",
           "ticks": "",
           "title": {
            "standoff": 15
           },
           "zerolinecolor": "white",
           "zerolinewidth": 2
          },
          "yaxis": {
           "automargin": true,
           "gridcolor": "white",
           "linecolor": "white",
           "ticks": "",
           "title": {
            "standoff": 15
           },
           "zerolinecolor": "white",
           "zerolinewidth": 2
          }
         }
        },
        "width": 1200,
        "xaxis": {
         "anchor": "y",
         "domain": [
          0,
          0.2888888888888889
         ]
        },
        "xaxis2": {
         "anchor": "y2",
         "domain": [
          0.35555555555555557,
          0.6444444444444445
         ]
        },
        "xaxis3": {
         "anchor": "y3",
         "domain": [
          0.7111111111111111,
          1
         ]
        },
        "yaxis": {
         "anchor": "x",
         "domain": [
          0,
          1
         ]
        },
        "yaxis2": {
         "anchor": "x2",
         "domain": [
          0,
          1
         ]
        },
        "yaxis3": {
         "anchor": "x3",
         "domain": [
          0,
          1
         ]
        }
       }
      }
     },
     "metadata": {},
     "output_type": "display_data"
    }
   ],
   "source": [
    "s.plot_box(['num1', 'num2'])"
   ]
  },
  {
   "cell_type": "code",
   "execution_count": 504,
   "metadata": {},
   "outputs": [
    {
     "data": {
      "application/vnd.plotly.v1+json": {
       "config": {
        "plotlyServerURL": "https://plot.ly"
       },
       "data": [
        {
         "colorscale": [
          [
           0,
           "#2050da"
          ],
          [
           0.00392156862745098,
           "#2551db"
          ],
          [
           0.00784313725490196,
           "#2952db"
          ],
          [
           0.011764705882352941,
           "#2d53db"
          ],
          [
           0.01568627450980392,
           "#3155db"
          ],
          [
           0.0196078431372549,
           "#3456db"
          ],
          [
           0.023529411764705882,
           "#3857dc"
          ],
          [
           0.027450980392156862,
           "#3b58dc"
          ],
          [
           0.03137254901960784,
           "#3d59dc"
          ],
          [
           0.03529411764705882,
           "#405adc"
          ],
          [
           0.0392156862745098,
           "#435bdd"
          ],
          [
           0.043137254901960784,
           "#455cdd"
          ],
          [
           0.047058823529411764,
           "#485ddd"
          ],
          [
           0.050980392156862744,
           "#4a5fdd"
          ],
          [
           0.054901960784313725,
           "#4d60dd"
          ],
          [
           0.058823529411764705,
           "#4f61de"
          ],
          [
           0.06274509803921569,
           "#5162de"
          ],
          [
           0.06666666666666667,
           "#5363de"
          ],
          [
           0.07058823529411765,
           "#5664de"
          ],
          [
           0.07450980392156863,
           "#5865de"
          ],
          [
           0.0784313725490196,
           "#5a67df"
          ],
          [
           0.08235294117647059,
           "#5c68df"
          ],
          [
           0.08627450980392157,
           "#5e69df"
          ],
          [
           0.09019607843137255,
           "#606adf"
          ],
          [
           0.09411764705882353,
           "#616be0"
          ],
          [
           0.09803921568627451,
           "#636ce0"
          ],
          [
           0.10196078431372549,
           "#656ee0"
          ],
          [
           0.10588235294117647,
           "#676fe0"
          ],
          [
           0.10980392156862745,
           "#6970e0"
          ],
          [
           0.11372549019607843,
           "#6b71e1"
          ],
          [
           0.11764705882352941,
           "#6c72e1"
          ],
          [
           0.12156862745098039,
           "#6e74e1"
          ],
          [
           0.12549019607843137,
           "#7075e1"
          ],
          [
           0.12941176470588237,
           "#7176e1"
          ],
          [
           0.13333333333333333,
           "#7377e2"
          ],
          [
           0.13725490196078433,
           "#7578e2"
          ],
          [
           0.1411764705882353,
           "#7679e2"
          ],
          [
           0.1450980392156863,
           "#787be2"
          ],
          [
           0.14901960784313725,
           "#7a7ce2"
          ],
          [
           0.15294117647058825,
           "#7b7de2"
          ],
          [
           0.1568627450980392,
           "#7d7ee3"
          ],
          [
           0.1607843137254902,
           "#7e7fe3"
          ],
          [
           0.16470588235294117,
           "#8081e3"
          ],
          [
           0.16862745098039217,
           "#8282e3"
          ],
          [
           0.17254901960784313,
           "#8383e3"
          ],
          [
           0.17647058823529413,
           "#8584e4"
          ],
          [
           0.1803921568627451,
           "#8686e4"
          ],
          [
           0.1843137254901961,
           "#8887e4"
          ],
          [
           0.18823529411764706,
           "#8988e4"
          ],
          [
           0.19215686274509805,
           "#8b89e4"
          ],
          [
           0.19607843137254902,
           "#8c8ae5"
          ],
          [
           0.2,
           "#8e8ce5"
          ],
          [
           0.20392156862745098,
           "#8f8de5"
          ],
          [
           0.20784313725490197,
           "#908ee5"
          ],
          [
           0.21176470588235294,
           "#928fe5"
          ],
          [
           0.21568627450980393,
           "#9391e5"
          ],
          [
           0.2196078431372549,
           "#9592e6"
          ],
          [
           0.2235294117647059,
           "#9693e6"
          ],
          [
           0.22745098039215686,
           "#9894e6"
          ],
          [
           0.23137254901960785,
           "#9996e6"
          ],
          [
           0.23529411764705882,
           "#9a97e6"
          ],
          [
           0.23921568627450981,
           "#9c98e7"
          ],
          [
           0.24313725490196078,
           "#9d99e7"
          ],
          [
           0.24705882352941178,
           "#9e9be7"
          ],
          [
           0.25098039215686274,
           "#a09ce7"
          ],
          [
           0.2549019607843137,
           "#a19de7"
          ],
          [
           0.25882352941176473,
           "#a39ee7"
          ],
          [
           0.2627450980392157,
           "#a4a0e8"
          ],
          [
           0.26666666666666666,
           "#a5a1e8"
          ],
          [
           0.27058823529411763,
           "#a7a2e8"
          ],
          [
           0.27450980392156865,
           "#a8a3e8"
          ],
          [
           0.2784313725490196,
           "#a9a5e8"
          ],
          [
           0.2823529411764706,
           "#aba6e8"
          ],
          [
           0.28627450980392155,
           "#aca7e9"
          ],
          [
           0.2901960784313726,
           "#ada8e9"
          ],
          [
           0.29411764705882354,
           "#afaae9"
          ],
          [
           0.2980392156862745,
           "#b0abe9"
          ],
          [
           0.30196078431372547,
           "#b1ace9"
          ],
          [
           0.3058823529411765,
           "#b2aee9"
          ],
          [
           0.30980392156862746,
           "#b4afea"
          ],
          [
           0.3137254901960784,
           "#b5b0ea"
          ],
          [
           0.3176470588235294,
           "#b6b1ea"
          ],
          [
           0.3215686274509804,
           "#b8b3ea"
          ],
          [
           0.3254901960784314,
           "#b9b4ea"
          ],
          [
           0.32941176470588235,
           "#bab5ea"
          ],
          [
           0.3333333333333333,
           "#bbb7ea"
          ],
          [
           0.33725490196078434,
           "#bdb8eb"
          ],
          [
           0.3411764705882353,
           "#beb9eb"
          ],
          [
           0.34509803921568627,
           "#bfbaeb"
          ],
          [
           0.34901960784313724,
           "#c0bceb"
          ],
          [
           0.35294117647058826,
           "#c2bdeb"
          ],
          [
           0.3568627450980392,
           "#c3beeb"
          ],
          [
           0.3607843137254902,
           "#c4c0ec"
          ],
          [
           0.36470588235294116,
           "#c5c1ec"
          ],
          [
           0.3686274509803922,
           "#c7c2ec"
          ],
          [
           0.37254901960784315,
           "#c8c4ec"
          ],
          [
           0.3764705882352941,
           "#c9c5ec"
          ],
          [
           0.3803921568627451,
           "#cac6ec"
          ],
          [
           0.3843137254901961,
           "#ccc8ec"
          ],
          [
           0.38823529411764707,
           "#cdc9ec"
          ],
          [
           0.39215686274509803,
           "#cecaed"
          ],
          [
           0.396078431372549,
           "#cfcbed"
          ],
          [
           0.4,
           "#d1cded"
          ],
          [
           0.403921568627451,
           "#d2ceed"
          ],
          [
           0.40784313725490196,
           "#d3cfed"
          ],
          [
           0.4117647058823529,
           "#d4d1ed"
          ],
          [
           0.41568627450980394,
           "#d5d2ed"
          ],
          [
           0.4196078431372549,
           "#d7d3ee"
          ],
          [
           0.4235294117647059,
           "#d8d5ee"
          ],
          [
           0.42745098039215684,
           "#d9d6ee"
          ],
          [
           0.43137254901960786,
           "#dad7ee"
          ],
          [
           0.43529411764705883,
           "#dbd9ee"
          ],
          [
           0.4392156862745098,
           "#dddaee"
          ],
          [
           0.44313725490196076,
           "#dedbee"
          ],
          [
           0.4470588235294118,
           "#dfddee"
          ],
          [
           0.45098039215686275,
           "#e0deee"
          ],
          [
           0.4549019607843137,
           "#e1dfee"
          ],
          [
           0.4588235294117647,
           "#e3e0ee"
          ],
          [
           0.4627450980392157,
           "#e4e1ee"
          ],
          [
           0.4666666666666667,
           "#e5e2ee"
          ],
          [
           0.47058823529411764,
           "#e6e3ee"
          ],
          [
           0.4745098039215686,
           "#e7e4ee"
          ],
          [
           0.47843137254901963,
           "#e8e5ed"
          ],
          [
           0.4823529411764706,
           "#e9e6ed"
          ],
          [
           0.48627450980392156,
           "#eae6ec"
          ],
          [
           0.49019607843137253,
           "#ebe7ec"
          ],
          [
           0.49411764705882355,
           "#ece7eb"
          ],
          [
           0.4980392156862745,
           "#ece7ea"
          ],
          [
           0.5019607843137255,
           "#ede7e9"
          ],
          [
           0.5058823529411764,
           "#eee6e8"
          ],
          [
           0.5098039215686274,
           "#eee6e6"
          ],
          [
           0.5137254901960784,
           "#efe5e5"
          ],
          [
           0.5176470588235295,
           "#efe5e4"
          ],
          [
           0.5215686274509804,
           "#f0e4e2"
          ],
          [
           0.5254901960784314,
           "#f0e3e0"
          ],
          [
           0.5294117647058824,
           "#f0e2df"
          ],
          [
           0.5333333333333333,
           "#f1e0dd"
          ],
          [
           0.5372549019607843,
           "#f1dfdb"
          ],
          [
           0.5411764705882353,
           "#f1ded9"
          ],
          [
           0.5450980392156862,
           "#f1dcd7"
          ],
          [
           0.5490196078431373,
           "#f1dbd6"
          ],
          [
           0.5529411764705883,
           "#f1d9d4"
          ],
          [
           0.5568627450980392,
           "#f1d8d2"
          ],
          [
           0.5607843137254902,
           "#f1d6d0"
          ],
          [
           0.5647058823529412,
           "#f1d5ce"
          ],
          [
           0.5686274509803921,
           "#f1d3cc"
          ],
          [
           0.5725490196078431,
           "#f1d2ca"
          ],
          [
           0.5764705882352941,
           "#f1d0c8"
          ],
          [
           0.5803921568627451,
           "#f1cfc6"
          ],
          [
           0.5843137254901961,
           "#f1cdc4"
          ],
          [
           0.5882352941176471,
           "#f1ccc2"
          ],
          [
           0.592156862745098,
           "#f1cac0"
          ],
          [
           0.596078431372549,
           "#f1c9bf"
          ],
          [
           0.6,
           "#f1c7bd"
          ],
          [
           0.6039215686274509,
           "#f1c5bb"
          ],
          [
           0.6078431372549019,
           "#f1c4b9"
          ],
          [
           0.611764705882353,
           "#f0c2b7"
          ],
          [
           0.615686274509804,
           "#f0c1b5"
          ],
          [
           0.6196078431372549,
           "#f0bfb3"
          ],
          [
           0.6235294117647059,
           "#f0beb1"
          ],
          [
           0.6274509803921569,
           "#f0bcaf"
          ],
          [
           0.6313725490196078,
           "#f0bbad"
          ],
          [
           0.6352941176470588,
           "#efb9ac"
          ],
          [
           0.6392156862745098,
           "#efb7aa"
          ],
          [
           0.6431372549019608,
           "#efb6a8"
          ],
          [
           0.6470588235294118,
           "#efb4a6"
          ],
          [
           0.6509803921568628,
           "#efb3a4"
          ],
          [
           0.6549019607843137,
           "#eeb1a2"
          ],
          [
           0.6588235294117647,
           "#eeb0a0"
          ],
          [
           0.6627450980392157,
           "#eeae9e"
          ],
          [
           0.6666666666666666,
           "#eead9d"
          ],
          [
           0.6705882352941176,
           "#edab9b"
          ],
          [
           0.6745098039215687,
           "#eda999"
          ],
          [
           0.6784313725490196,
           "#eda897"
          ],
          [
           0.6823529411764706,
           "#eda695"
          ],
          [
           0.6862745098039216,
           "#eca593"
          ],
          [
           0.6901960784313725,
           "#eca391"
          ],
          [
           0.6941176470588235,
           "#eca290"
          ],
          [
           0.6980392156862745,
           "#eba08e"
          ],
          [
           0.7019607843137254,
           "#eb9f8c"
          ],
          [
           0.7058823529411765,
           "#eb9d8a"
          ],
          [
           0.7098039215686275,
           "#ea9b88"
          ],
          [
           0.7137254901960784,
           "#ea9a87"
          ],
          [
           0.7176470588235294,
           "#ea9885"
          ],
          [
           0.7215686274509804,
           "#e99783"
          ],
          [
           0.7254901960784313,
           "#e99581"
          ],
          [
           0.7294117647058823,
           "#e9947f"
          ],
          [
           0.7333333333333333,
           "#e8927d"
          ],
          [
           0.7372549019607844,
           "#e8907c"
          ],
          [
           0.7411764705882353,
           "#e88f7a"
          ],
          [
           0.7450980392156863,
           "#e78d78"
          ],
          [
           0.7490196078431373,
           "#e78c76"
          ],
          [
           0.7529411764705882,
           "#e68a75"
          ],
          [
           0.7568627450980392,
           "#e68973"
          ],
          [
           0.7607843137254902,
           "#e58771"
          ],
          [
           0.7647058823529411,
           "#e5856f"
          ],
          [
           0.7686274509803922,
           "#e5846d"
          ],
          [
           0.7725490196078432,
           "#e4826c"
          ],
          [
           0.7764705882352941,
           "#e4816a"
          ],
          [
           0.7803921568627451,
           "#e37f68"
          ],
          [
           0.7843137254901961,
           "#e37d66"
          ],
          [
           0.788235294117647,
           "#e27c65"
          ],
          [
           0.792156862745098,
           "#e27a63"
          ],
          [
           0.796078431372549,
           "#e17961"
          ],
          [
           0.8,
           "#e1775f"
          ],
          [
           0.803921568627451,
           "#e0755e"
          ],
          [
           0.807843137254902,
           "#e0745c"
          ],
          [
           0.8117647058823529,
           "#df725a"
          ],
          [
           0.8156862745098039,
           "#df7158"
          ],
          [
           0.8196078431372549,
           "#de6f57"
          ],
          [
           0.8235294117647058,
           "#de6d55"
          ],
          [
           0.8274509803921568,
           "#dd6c53"
          ],
          [
           0.8313725490196079,
           "#dd6a52"
          ],
          [
           0.8352941176470589,
           "#dc6850"
          ],
          [
           0.8392156862745098,
           "#db674e"
          ],
          [
           0.8431372549019608,
           "#db654c"
          ],
          [
           0.8470588235294118,
           "#da634b"
          ],
          [
           0.8509803921568627,
           "#da6249"
          ],
          [
           0.8549019607843137,
           "#d96047"
          ],
          [
           0.8588235294117647,
           "#d95e46"
          ],
          [
           0.8627450980392157,
           "#d85d44"
          ],
          [
           0.8666666666666667,
           "#d75b42"
          ],
          [
           0.8705882352941177,
           "#d75940"
          ],
          [
           0.8745098039215686,
           "#d6573f"
          ],
          [
           0.8784313725490196,
           "#d5563d"
          ],
          [
           0.8823529411764706,
           "#d5543b"
          ],
          [
           0.8862745098039215,
           "#d4523a"
          ],
          [
           0.8901960784313725,
           "#d45038"
          ],
          [
           0.8941176470588236,
           "#d34e36"
          ],
          [
           0.8980392156862745,
           "#d24d35"
          ],
          [
           0.9019607843137255,
           "#d24b33"
          ],
          [
           0.9058823529411765,
           "#d14931"
          ],
          [
           0.9098039215686274,
           "#d04730"
          ],
          [
           0.9137254901960784,
           "#d0452e"
          ],
          [
           0.9176470588235294,
           "#cf432c"
          ],
          [
           0.9215686274509803,
           "#ce412a"
          ],
          [
           0.9254901960784314,
           "#ce3f29"
          ],
          [
           0.9294117647058824,
           "#cd3d27"
          ],
          [
           0.9333333333333333,
           "#cc3b25"
          ],
          [
           0.9372549019607843,
           "#cb3924"
          ],
          [
           0.9411764705882353,
           "#cb3722"
          ],
          [
           0.9450980392156862,
           "#ca3420"
          ],
          [
           0.9490196078431372,
           "#c9321e"
          ],
          [
           0.9529411764705882,
           "#c9301d"
          ],
          [
           0.9568627450980393,
           "#c82d1b"
          ],
          [
           0.9607843137254902,
           "#c72b19"
          ],
          [
           0.9647058823529412,
           "#c62817"
          ],
          [
           0.9686274509803922,
           "#c62515"
          ],
          [
           0.9725490196078431,
           "#c52214"
          ],
          [
           0.9764705882352941,
           "#c41f12"
          ],
          [
           0.9803921568627451,
           "#c31c10"
          ],
          [
           0.984313725490196,
           "#c3180e"
          ],
          [
           0.9882352941176471,
           "#c2140c"
          ],
          [
           0.9921568627450981,
           "#c10f09"
          ],
          [
           0.996078431372549,
           "#c00907"
          ],
          [
           1,
           "#bf0205"
          ]
         ],
         "type": "heatmap",
         "x": [
          "num1",
          "num2"
         ],
         "y": [
          "num1",
          "num2"
         ],
         "z": [
          [
           null,
           null
          ],
          [
           0.00831319148396174,
           null
          ]
         ],
         "zmax": 1,
         "zmin": -1
        }
       ],
       "layout": {
        "autosize": false,
        "height": 800,
        "template": {
         "data": {
          "bar": [
           {
            "error_x": {
             "color": "#2a3f5f"
            },
            "error_y": {
             "color": "#2a3f5f"
            },
            "marker": {
             "line": {
              "color": "#E5ECF6",
              "width": 0.5
             },
             "pattern": {
              "fillmode": "overlay",
              "size": 10,
              "solidity": 0.2
             }
            },
            "type": "bar"
           }
          ],
          "barpolar": [
           {
            "marker": {
             "line": {
              "color": "#E5ECF6",
              "width": 0.5
             },
             "pattern": {
              "fillmode": "overlay",
              "size": 10,
              "solidity": 0.2
             }
            },
            "type": "barpolar"
           }
          ],
          "carpet": [
           {
            "aaxis": {
             "endlinecolor": "#2a3f5f",
             "gridcolor": "white",
             "linecolor": "white",
             "minorgridcolor": "white",
             "startlinecolor": "#2a3f5f"
            },
            "baxis": {
             "endlinecolor": "#2a3f5f",
             "gridcolor": "white",
             "linecolor": "white",
             "minorgridcolor": "white",
             "startlinecolor": "#2a3f5f"
            },
            "type": "carpet"
           }
          ],
          "choropleth": [
           {
            "colorbar": {
             "outlinewidth": 0,
             "ticks": ""
            },
            "type": "choropleth"
           }
          ],
          "contour": [
           {
            "colorbar": {
             "outlinewidth": 0,
             "ticks": ""
            },
            "colorscale": [
             [
              0,
              "#0d0887"
             ],
             [
              0.1111111111111111,
              "#46039f"
             ],
             [
              0.2222222222222222,
              "#7201a8"
             ],
             [
              0.3333333333333333,
              "#9c179e"
             ],
             [
              0.4444444444444444,
              "#bd3786"
             ],
             [
              0.5555555555555556,
              "#d8576b"
             ],
             [
              0.6666666666666666,
              "#ed7953"
             ],
             [
              0.7777777777777778,
              "#fb9f3a"
             ],
             [
              0.8888888888888888,
              "#fdca26"
             ],
             [
              1,
              "#f0f921"
             ]
            ],
            "type": "contour"
           }
          ],
          "contourcarpet": [
           {
            "colorbar": {
             "outlinewidth": 0,
             "ticks": ""
            },
            "type": "contourcarpet"
           }
          ],
          "heatmap": [
           {
            "colorbar": {
             "outlinewidth": 0,
             "ticks": ""
            },
            "colorscale": [
             [
              0,
              "#0d0887"
             ],
             [
              0.1111111111111111,
              "#46039f"
             ],
             [
              0.2222222222222222,
              "#7201a8"
             ],
             [
              0.3333333333333333,
              "#9c179e"
             ],
             [
              0.4444444444444444,
              "#bd3786"
             ],
             [
              0.5555555555555556,
              "#d8576b"
             ],
             [
              0.6666666666666666,
              "#ed7953"
             ],
             [
              0.7777777777777778,
              "#fb9f3a"
             ],
             [
              0.8888888888888888,
              "#fdca26"
             ],
             [
              1,
              "#f0f921"
             ]
            ],
            "type": "heatmap"
           }
          ],
          "heatmapgl": [
           {
            "colorbar": {
             "outlinewidth": 0,
             "ticks": ""
            },
            "colorscale": [
             [
              0,
              "#0d0887"
             ],
             [
              0.1111111111111111,
              "#46039f"
             ],
             [
              0.2222222222222222,
              "#7201a8"
             ],
             [
              0.3333333333333333,
              "#9c179e"
             ],
             [
              0.4444444444444444,
              "#bd3786"
             ],
             [
              0.5555555555555556,
              "#d8576b"
             ],
             [
              0.6666666666666666,
              "#ed7953"
             ],
             [
              0.7777777777777778,
              "#fb9f3a"
             ],
             [
              0.8888888888888888,
              "#fdca26"
             ],
             [
              1,
              "#f0f921"
             ]
            ],
            "type": "heatmapgl"
           }
          ],
          "histogram": [
           {
            "marker": {
             "pattern": {
              "fillmode": "overlay",
              "size": 10,
              "solidity": 0.2
             }
            },
            "type": "histogram"
           }
          ],
          "histogram2d": [
           {
            "colorbar": {
             "outlinewidth": 0,
             "ticks": ""
            },
            "colorscale": [
             [
              0,
              "#0d0887"
             ],
             [
              0.1111111111111111,
              "#46039f"
             ],
             [
              0.2222222222222222,
              "#7201a8"
             ],
             [
              0.3333333333333333,
              "#9c179e"
             ],
             [
              0.4444444444444444,
              "#bd3786"
             ],
             [
              0.5555555555555556,
              "#d8576b"
             ],
             [
              0.6666666666666666,
              "#ed7953"
             ],
             [
              0.7777777777777778,
              "#fb9f3a"
             ],
             [
              0.8888888888888888,
              "#fdca26"
             ],
             [
              1,
              "#f0f921"
             ]
            ],
            "type": "histogram2d"
           }
          ],
          "histogram2dcontour": [
           {
            "colorbar": {
             "outlinewidth": 0,
             "ticks": ""
            },
            "colorscale": [
             [
              0,
              "#0d0887"
             ],
             [
              0.1111111111111111,
              "#46039f"
             ],
             [
              0.2222222222222222,
              "#7201a8"
             ],
             [
              0.3333333333333333,
              "#9c179e"
             ],
             [
              0.4444444444444444,
              "#bd3786"
             ],
             [
              0.5555555555555556,
              "#d8576b"
             ],
             [
              0.6666666666666666,
              "#ed7953"
             ],
             [
              0.7777777777777778,
              "#fb9f3a"
             ],
             [
              0.8888888888888888,
              "#fdca26"
             ],
             [
              1,
              "#f0f921"
             ]
            ],
            "type": "histogram2dcontour"
           }
          ],
          "mesh3d": [
           {
            "colorbar": {
             "outlinewidth": 0,
             "ticks": ""
            },
            "type": "mesh3d"
           }
          ],
          "parcoords": [
           {
            "line": {
             "colorbar": {
              "outlinewidth": 0,
              "ticks": ""
             }
            },
            "type": "parcoords"
           }
          ],
          "pie": [
           {
            "automargin": true,
            "type": "pie"
           }
          ],
          "scatter": [
           {
            "fillpattern": {
             "fillmode": "overlay",
             "size": 10,
             "solidity": 0.2
            },
            "type": "scatter"
           }
          ],
          "scatter3d": [
           {
            "line": {
             "colorbar": {
              "outlinewidth": 0,
              "ticks": ""
             }
            },
            "marker": {
             "colorbar": {
              "outlinewidth": 0,
              "ticks": ""
             }
            },
            "type": "scatter3d"
           }
          ],
          "scattercarpet": [
           {
            "marker": {
             "colorbar": {
              "outlinewidth": 0,
              "ticks": ""
             }
            },
            "type": "scattercarpet"
           }
          ],
          "scattergeo": [
           {
            "marker": {
             "colorbar": {
              "outlinewidth": 0,
              "ticks": ""
             }
            },
            "type": "scattergeo"
           }
          ],
          "scattergl": [
           {
            "marker": {
             "colorbar": {
              "outlinewidth": 0,
              "ticks": ""
             }
            },
            "type": "scattergl"
           }
          ],
          "scattermapbox": [
           {
            "marker": {
             "colorbar": {
              "outlinewidth": 0,
              "ticks": ""
             }
            },
            "type": "scattermapbox"
           }
          ],
          "scatterpolar": [
           {
            "marker": {
             "colorbar": {
              "outlinewidth": 0,
              "ticks": ""
             }
            },
            "type": "scatterpolar"
           }
          ],
          "scatterpolargl": [
           {
            "marker": {
             "colorbar": {
              "outlinewidth": 0,
              "ticks": ""
             }
            },
            "type": "scatterpolargl"
           }
          ],
          "scatterternary": [
           {
            "marker": {
             "colorbar": {
              "outlinewidth": 0,
              "ticks": ""
             }
            },
            "type": "scatterternary"
           }
          ],
          "surface": [
           {
            "colorbar": {
             "outlinewidth": 0,
             "ticks": ""
            },
            "colorscale": [
             [
              0,
              "#0d0887"
             ],
             [
              0.1111111111111111,
              "#46039f"
             ],
             [
              0.2222222222222222,
              "#7201a8"
             ],
             [
              0.3333333333333333,
              "#9c179e"
             ],
             [
              0.4444444444444444,
              "#bd3786"
             ],
             [
              0.5555555555555556,
              "#d8576b"
             ],
             [
              0.6666666666666666,
              "#ed7953"
             ],
             [
              0.7777777777777778,
              "#fb9f3a"
             ],
             [
              0.8888888888888888,
              "#fdca26"
             ],
             [
              1,
              "#f0f921"
             ]
            ],
            "type": "surface"
           }
          ],
          "table": [
           {
            "cells": {
             "fill": {
              "color": "#EBF0F8"
             },
             "line": {
              "color": "white"
             }
            },
            "header": {
             "fill": {
              "color": "#C8D4E3"
             },
             "line": {
              "color": "white"
             }
            },
            "type": "table"
           }
          ]
         },
         "layout": {
          "annotationdefaults": {
           "arrowcolor": "#2a3f5f",
           "arrowhead": 0,
           "arrowwidth": 1
          },
          "autotypenumbers": "strict",
          "coloraxis": {
           "colorbar": {
            "outlinewidth": 0,
            "ticks": ""
           }
          },
          "colorscale": {
           "diverging": [
            [
             0,
             "#8e0152"
            ],
            [
             0.1,
             "#c51b7d"
            ],
            [
             0.2,
             "#de77ae"
            ],
            [
             0.3,
             "#f1b6da"
            ],
            [
             0.4,
             "#fde0ef"
            ],
            [
             0.5,
             "#f7f7f7"
            ],
            [
             0.6,
             "#e6f5d0"
            ],
            [
             0.7,
             "#b8e186"
            ],
            [
             0.8,
             "#7fbc41"
            ],
            [
             0.9,
             "#4d9221"
            ],
            [
             1,
             "#276419"
            ]
           ],
           "sequential": [
            [
             0,
             "#0d0887"
            ],
            [
             0.1111111111111111,
             "#46039f"
            ],
            [
             0.2222222222222222,
             "#7201a8"
            ],
            [
             0.3333333333333333,
             "#9c179e"
            ],
            [
             0.4444444444444444,
             "#bd3786"
            ],
            [
             0.5555555555555556,
             "#d8576b"
            ],
            [
             0.6666666666666666,
             "#ed7953"
            ],
            [
             0.7777777777777778,
             "#fb9f3a"
            ],
            [
             0.8888888888888888,
             "#fdca26"
            ],
            [
             1,
             "#f0f921"
            ]
           ],
           "sequentialminus": [
            [
             0,
             "#0d0887"
            ],
            [
             0.1111111111111111,
             "#46039f"
            ],
            [
             0.2222222222222222,
             "#7201a8"
            ],
            [
             0.3333333333333333,
             "#9c179e"
            ],
            [
             0.4444444444444444,
             "#bd3786"
            ],
            [
             0.5555555555555556,
             "#d8576b"
            ],
            [
             0.6666666666666666,
             "#ed7953"
            ],
            [
             0.7777777777777778,
             "#fb9f3a"
            ],
            [
             0.8888888888888888,
             "#fdca26"
            ],
            [
             1,
             "#f0f921"
            ]
           ]
          },
          "colorway": [
           "#636efa",
           "#EF553B",
           "#00cc96",
           "#ab63fa",
           "#FFA15A",
           "#19d3f3",
           "#FF6692",
           "#B6E880",
           "#FF97FF",
           "#FECB52"
          ],
          "font": {
           "color": "#2a3f5f"
          },
          "geo": {
           "bgcolor": "white",
           "lakecolor": "white",
           "landcolor": "#E5ECF6",
           "showlakes": true,
           "showland": true,
           "subunitcolor": "white"
          },
          "hoverlabel": {
           "align": "left"
          },
          "hovermode": "closest",
          "mapbox": {
           "style": "light"
          },
          "paper_bgcolor": "white",
          "plot_bgcolor": "#E5ECF6",
          "polar": {
           "angularaxis": {
            "gridcolor": "white",
            "linecolor": "white",
            "ticks": ""
           },
           "bgcolor": "#E5ECF6",
           "radialaxis": {
            "gridcolor": "white",
            "linecolor": "white",
            "ticks": ""
           }
          },
          "scene": {
           "xaxis": {
            "backgroundcolor": "#E5ECF6",
            "gridcolor": "white",
            "gridwidth": 2,
            "linecolor": "white",
            "showbackground": true,
            "ticks": "",
            "zerolinecolor": "white"
           },
           "yaxis": {
            "backgroundcolor": "#E5ECF6",
            "gridcolor": "white",
            "gridwidth": 2,
            "linecolor": "white",
            "showbackground": true,
            "ticks": "",
            "zerolinecolor": "white"
           },
           "zaxis": {
            "backgroundcolor": "#E5ECF6",
            "gridcolor": "white",
            "gridwidth": 2,
            "linecolor": "white",
            "showbackground": true,
            "ticks": "",
            "zerolinecolor": "white"
           }
          },
          "shapedefaults": {
           "line": {
            "color": "#2a3f5f"
           }
          },
          "ternary": {
           "aaxis": {
            "gridcolor": "white",
            "linecolor": "white",
            "ticks": ""
           },
           "baxis": {
            "gridcolor": "white",
            "linecolor": "white",
            "ticks": ""
           },
           "bgcolor": "#E5ECF6",
           "caxis": {
            "gridcolor": "white",
            "linecolor": "white",
            "ticks": ""
           }
          },
          "title": {
           "x": 0.05
          },
          "xaxis": {
           "automargin": true,
           "gridcolor": "white",
           "linecolor": "white",
           "ticks": "",
           "title": {
            "standoff": 15
           },
           "zerolinecolor": "white",
           "zerolinewidth": 2
          },
          "yaxis": {
           "automargin": true,
           "gridcolor": "white",
           "linecolor": "white",
           "ticks": "",
           "title": {
            "standoff": 15
           },
           "zerolinecolor": "white",
           "zerolinewidth": 2
          }
         }
        },
        "width": 800
       }
      }
     },
     "metadata": {},
     "output_type": "display_data"
    }
   ],
   "source": [
    "s.plot_corr_map(cols=['num1', 'num2'])"
   ]
  },
  {
   "cell_type": "code",
   "execution_count": 505,
   "metadata": {},
   "outputs": [
    {
     "data": {
      "application/vnd.plotly.v1+json": {
       "config": {
        "plotlyServerURL": "https://plot.ly"
       },
       "data": [
        {
         "name": "Target: 1",
         "type": "bar",
         "x": [
          "c",
          "a",
          "b"
         ],
         "y": [
          32,
          26,
          25
         ]
        },
        {
         "name": "Target: 0",
         "type": "bar",
         "x": [
          "c",
          "a",
          "b"
         ],
         "y": [
          7,
          6,
          4
         ]
        }
       ],
       "layout": {
        "template": {
         "data": {
          "bar": [
           {
            "error_x": {
             "color": "#2a3f5f"
            },
            "error_y": {
             "color": "#2a3f5f"
            },
            "marker": {
             "line": {
              "color": "#E5ECF6",
              "width": 0.5
             },
             "pattern": {
              "fillmode": "overlay",
              "size": 10,
              "solidity": 0.2
             }
            },
            "type": "bar"
           }
          ],
          "barpolar": [
           {
            "marker": {
             "line": {
              "color": "#E5ECF6",
              "width": 0.5
             },
             "pattern": {
              "fillmode": "overlay",
              "size": 10,
              "solidity": 0.2
             }
            },
            "type": "barpolar"
           }
          ],
          "carpet": [
           {
            "aaxis": {
             "endlinecolor": "#2a3f5f",
             "gridcolor": "white",
             "linecolor": "white",
             "minorgridcolor": "white",
             "startlinecolor": "#2a3f5f"
            },
            "baxis": {
             "endlinecolor": "#2a3f5f",
             "gridcolor": "white",
             "linecolor": "white",
             "minorgridcolor": "white",
             "startlinecolor": "#2a3f5f"
            },
            "type": "carpet"
           }
          ],
          "choropleth": [
           {
            "colorbar": {
             "outlinewidth": 0,
             "ticks": ""
            },
            "type": "choropleth"
           }
          ],
          "contour": [
           {
            "colorbar": {
             "outlinewidth": 0,
             "ticks": ""
            },
            "colorscale": [
             [
              0,
              "#0d0887"
             ],
             [
              0.1111111111111111,
              "#46039f"
             ],
             [
              0.2222222222222222,
              "#7201a8"
             ],
             [
              0.3333333333333333,
              "#9c179e"
             ],
             [
              0.4444444444444444,
              "#bd3786"
             ],
             [
              0.5555555555555556,
              "#d8576b"
             ],
             [
              0.6666666666666666,
              "#ed7953"
             ],
             [
              0.7777777777777778,
              "#fb9f3a"
             ],
             [
              0.8888888888888888,
              "#fdca26"
             ],
             [
              1,
              "#f0f921"
             ]
            ],
            "type": "contour"
           }
          ],
          "contourcarpet": [
           {
            "colorbar": {
             "outlinewidth": 0,
             "ticks": ""
            },
            "type": "contourcarpet"
           }
          ],
          "heatmap": [
           {
            "colorbar": {
             "outlinewidth": 0,
             "ticks": ""
            },
            "colorscale": [
             [
              0,
              "#0d0887"
             ],
             [
              0.1111111111111111,
              "#46039f"
             ],
             [
              0.2222222222222222,
              "#7201a8"
             ],
             [
              0.3333333333333333,
              "#9c179e"
             ],
             [
              0.4444444444444444,
              "#bd3786"
             ],
             [
              0.5555555555555556,
              "#d8576b"
             ],
             [
              0.6666666666666666,
              "#ed7953"
             ],
             [
              0.7777777777777778,
              "#fb9f3a"
             ],
             [
              0.8888888888888888,
              "#fdca26"
             ],
             [
              1,
              "#f0f921"
             ]
            ],
            "type": "heatmap"
           }
          ],
          "heatmapgl": [
           {
            "colorbar": {
             "outlinewidth": 0,
             "ticks": ""
            },
            "colorscale": [
             [
              0,
              "#0d0887"
             ],
             [
              0.1111111111111111,
              "#46039f"
             ],
             [
              0.2222222222222222,
              "#7201a8"
             ],
             [
              0.3333333333333333,
              "#9c179e"
             ],
             [
              0.4444444444444444,
              "#bd3786"
             ],
             [
              0.5555555555555556,
              "#d8576b"
             ],
             [
              0.6666666666666666,
              "#ed7953"
             ],
             [
              0.7777777777777778,
              "#fb9f3a"
             ],
             [
              0.8888888888888888,
              "#fdca26"
             ],
             [
              1,
              "#f0f921"
             ]
            ],
            "type": "heatmapgl"
           }
          ],
          "histogram": [
           {
            "marker": {
             "pattern": {
              "fillmode": "overlay",
              "size": 10,
              "solidity": 0.2
             }
            },
            "type": "histogram"
           }
          ],
          "histogram2d": [
           {
            "colorbar": {
             "outlinewidth": 0,
             "ticks": ""
            },
            "colorscale": [
             [
              0,
              "#0d0887"
             ],
             [
              0.1111111111111111,
              "#46039f"
             ],
             [
              0.2222222222222222,
              "#7201a8"
             ],
             [
              0.3333333333333333,
              "#9c179e"
             ],
             [
              0.4444444444444444,
              "#bd3786"
             ],
             [
              0.5555555555555556,
              "#d8576b"
             ],
             [
              0.6666666666666666,
              "#ed7953"
             ],
             [
              0.7777777777777778,
              "#fb9f3a"
             ],
             [
              0.8888888888888888,
              "#fdca26"
             ],
             [
              1,
              "#f0f921"
             ]
            ],
            "type": "histogram2d"
           }
          ],
          "histogram2dcontour": [
           {
            "colorbar": {
             "outlinewidth": 0,
             "ticks": ""
            },
            "colorscale": [
             [
              0,
              "#0d0887"
             ],
             [
              0.1111111111111111,
              "#46039f"
             ],
             [
              0.2222222222222222,
              "#7201a8"
             ],
             [
              0.3333333333333333,
              "#9c179e"
             ],
             [
              0.4444444444444444,
              "#bd3786"
             ],
             [
              0.5555555555555556,
              "#d8576b"
             ],
             [
              0.6666666666666666,
              "#ed7953"
             ],
             [
              0.7777777777777778,
              "#fb9f3a"
             ],
             [
              0.8888888888888888,
              "#fdca26"
             ],
             [
              1,
              "#f0f921"
             ]
            ],
            "type": "histogram2dcontour"
           }
          ],
          "mesh3d": [
           {
            "colorbar": {
             "outlinewidth": 0,
             "ticks": ""
            },
            "type": "mesh3d"
           }
          ],
          "parcoords": [
           {
            "line": {
             "colorbar": {
              "outlinewidth": 0,
              "ticks": ""
             }
            },
            "type": "parcoords"
           }
          ],
          "pie": [
           {
            "automargin": true,
            "type": "pie"
           }
          ],
          "scatter": [
           {
            "fillpattern": {
             "fillmode": "overlay",
             "size": 10,
             "solidity": 0.2
            },
            "type": "scatter"
           }
          ],
          "scatter3d": [
           {
            "line": {
             "colorbar": {
              "outlinewidth": 0,
              "ticks": ""
             }
            },
            "marker": {
             "colorbar": {
              "outlinewidth": 0,
              "ticks": ""
             }
            },
            "type": "scatter3d"
           }
          ],
          "scattercarpet": [
           {
            "marker": {
             "colorbar": {
              "outlinewidth": 0,
              "ticks": ""
             }
            },
            "type": "scattercarpet"
           }
          ],
          "scattergeo": [
           {
            "marker": {
             "colorbar": {
              "outlinewidth": 0,
              "ticks": ""
             }
            },
            "type": "scattergeo"
           }
          ],
          "scattergl": [
           {
            "marker": {
             "colorbar": {
              "outlinewidth": 0,
              "ticks": ""
             }
            },
            "type": "scattergl"
           }
          ],
          "scattermapbox": [
           {
            "marker": {
             "colorbar": {
              "outlinewidth": 0,
              "ticks": ""
             }
            },
            "type": "scattermapbox"
           }
          ],
          "scatterpolar": [
           {
            "marker": {
             "colorbar": {
              "outlinewidth": 0,
              "ticks": ""
             }
            },
            "type": "scatterpolar"
           }
          ],
          "scatterpolargl": [
           {
            "marker": {
             "colorbar": {
              "outlinewidth": 0,
              "ticks": ""
             }
            },
            "type": "scatterpolargl"
           }
          ],
          "scatterternary": [
           {
            "marker": {
             "colorbar": {
              "outlinewidth": 0,
              "ticks": ""
             }
            },
            "type": "scatterternary"
           }
          ],
          "surface": [
           {
            "colorbar": {
             "outlinewidth": 0,
             "ticks": ""
            },
            "colorscale": [
             [
              0,
              "#0d0887"
             ],
             [
              0.1111111111111111,
              "#46039f"
             ],
             [
              0.2222222222222222,
              "#7201a8"
             ],
             [
              0.3333333333333333,
              "#9c179e"
             ],
             [
              0.4444444444444444,
              "#bd3786"
             ],
             [
              0.5555555555555556,
              "#d8576b"
             ],
             [
              0.6666666666666666,
              "#ed7953"
             ],
             [
              0.7777777777777778,
              "#fb9f3a"
             ],
             [
              0.8888888888888888,
              "#fdca26"
             ],
             [
              1,
              "#f0f921"
             ]
            ],
            "type": "surface"
           }
          ],
          "table": [
           {
            "cells": {
             "fill": {
              "color": "#EBF0F8"
             },
             "line": {
              "color": "white"
             }
            },
            "header": {
             "fill": {
              "color": "#C8D4E3"
             },
             "line": {
              "color": "white"
             }
            },
            "type": "table"
           }
          ]
         },
         "layout": {
          "annotationdefaults": {
           "arrowcolor": "#2a3f5f",
           "arrowhead": 0,
           "arrowwidth": 1
          },
          "autotypenumbers": "strict",
          "coloraxis": {
           "colorbar": {
            "outlinewidth": 0,
            "ticks": ""
           }
          },
          "colorscale": {
           "diverging": [
            [
             0,
             "#8e0152"
            ],
            [
             0.1,
             "#c51b7d"
            ],
            [
             0.2,
             "#de77ae"
            ],
            [
             0.3,
             "#f1b6da"
            ],
            [
             0.4,
             "#fde0ef"
            ],
            [
             0.5,
             "#f7f7f7"
            ],
            [
             0.6,
             "#e6f5d0"
            ],
            [
             0.7,
             "#b8e186"
            ],
            [
             0.8,
             "#7fbc41"
            ],
            [
             0.9,
             "#4d9221"
            ],
            [
             1,
             "#276419"
            ]
           ],
           "sequential": [
            [
             0,
             "#0d0887"
            ],
            [
             0.1111111111111111,
             "#46039f"
            ],
            [
             0.2222222222222222,
             "#7201a8"
            ],
            [
             0.3333333333333333,
             "#9c179e"
            ],
            [
             0.4444444444444444,
             "#bd3786"
            ],
            [
             0.5555555555555556,
             "#d8576b"
            ],
            [
             0.6666666666666666,
             "#ed7953"
            ],
            [
             0.7777777777777778,
             "#fb9f3a"
            ],
            [
             0.8888888888888888,
             "#fdca26"
            ],
            [
             1,
             "#f0f921"
            ]
           ],
           "sequentialminus": [
            [
             0,
             "#0d0887"
            ],
            [
             0.1111111111111111,
             "#46039f"
            ],
            [
             0.2222222222222222,
             "#7201a8"
            ],
            [
             0.3333333333333333,
             "#9c179e"
            ],
            [
             0.4444444444444444,
             "#bd3786"
            ],
            [
             0.5555555555555556,
             "#d8576b"
            ],
            [
             0.6666666666666666,
             "#ed7953"
            ],
            [
             0.7777777777777778,
             "#fb9f3a"
            ],
            [
             0.8888888888888888,
             "#fdca26"
            ],
            [
             1,
             "#f0f921"
            ]
           ]
          },
          "colorway": [
           "#636efa",
           "#EF553B",
           "#00cc96",
           "#ab63fa",
           "#FFA15A",
           "#19d3f3",
           "#FF6692",
           "#B6E880",
           "#FF97FF",
           "#FECB52"
          ],
          "font": {
           "color": "#2a3f5f"
          },
          "geo": {
           "bgcolor": "white",
           "lakecolor": "white",
           "landcolor": "#E5ECF6",
           "showlakes": true,
           "showland": true,
           "subunitcolor": "white"
          },
          "hoverlabel": {
           "align": "left"
          },
          "hovermode": "closest",
          "mapbox": {
           "style": "light"
          },
          "paper_bgcolor": "white",
          "plot_bgcolor": "#E5ECF6",
          "polar": {
           "angularaxis": {
            "gridcolor": "white",
            "linecolor": "white",
            "ticks": ""
           },
           "bgcolor": "#E5ECF6",
           "radialaxis": {
            "gridcolor": "white",
            "linecolor": "white",
            "ticks": ""
           }
          },
          "scene": {
           "xaxis": {
            "backgroundcolor": "#E5ECF6",
            "gridcolor": "white",
            "gridwidth": 2,
            "linecolor": "white",
            "showbackground": true,
            "ticks": "",
            "zerolinecolor": "white"
           },
           "yaxis": {
            "backgroundcolor": "#E5ECF6",
            "gridcolor": "white",
            "gridwidth": 2,
            "linecolor": "white",
            "showbackground": true,
            "ticks": "",
            "zerolinecolor": "white"
           },
           "zaxis": {
            "backgroundcolor": "#E5ECF6",
            "gridcolor": "white",
            "gridwidth": 2,
            "linecolor": "white",
            "showbackground": true,
            "ticks": "",
            "zerolinecolor": "white"
           }
          },
          "shapedefaults": {
           "line": {
            "color": "#2a3f5f"
           }
          },
          "ternary": {
           "aaxis": {
            "gridcolor": "white",
            "linecolor": "white",
            "ticks": ""
           },
           "baxis": {
            "gridcolor": "white",
            "linecolor": "white",
            "ticks": ""
           },
           "bgcolor": "#E5ECF6",
           "caxis": {
            "gridcolor": "white",
            "linecolor": "white",
            "ticks": ""
           }
          },
          "title": {
           "x": 0.05
          },
          "xaxis": {
           "automargin": true,
           "gridcolor": "white",
           "linecolor": "white",
           "ticks": "",
           "title": {
            "standoff": 15
           },
           "zerolinecolor": "white",
           "zerolinewidth": 2
          },
          "yaxis": {
           "automargin": true,
           "gridcolor": "white",
           "linecolor": "white",
           "ticks": "",
           "title": {
            "standoff": 15
           },
           "zerolinecolor": "white",
           "zerolinewidth": 2
          }
         }
        }
       }
      }
     },
     "metadata": {},
     "output_type": "display_data"
    }
   ],
   "source": [
    "s.plot_bar(['cat1'])"
   ]
  },
  {
   "cell_type": "code",
   "execution_count": 506,
   "metadata": {},
   "outputs": [],
   "source": [
    "s.plot_heatmap_missing()"
   ]
  },
  {
   "cell_type": "code",
   "execution_count": 507,
   "metadata": {},
   "outputs": [
    {
     "name": "stderr",
     "output_type": "stream",
     "text": [
      "/tmp/ipykernel_1167145/2175556738.py:404: FutureWarning:\n",
      "\n",
      "The default value of numeric_only in DataFrame.corr is deprecated. In a future version, it will default to False. Select only valid columns or specify the value of numeric_only to silence this warning.\n",
      "\n"
     ]
    },
    {
     "data": {
      "application/vnd.plotly.v1+json": {
       "config": {
        "plotlyServerURL": "https://plot.ly"
       },
       "data": [
        {
         "colorscale": [
          [
           0,
           "#2050da"
          ],
          [
           0.00392156862745098,
           "#2551db"
          ],
          [
           0.00784313725490196,
           "#2952db"
          ],
          [
           0.011764705882352941,
           "#2d53db"
          ],
          [
           0.01568627450980392,
           "#3155db"
          ],
          [
           0.0196078431372549,
           "#3456db"
          ],
          [
           0.023529411764705882,
           "#3857dc"
          ],
          [
           0.027450980392156862,
           "#3b58dc"
          ],
          [
           0.03137254901960784,
           "#3d59dc"
          ],
          [
           0.03529411764705882,
           "#405adc"
          ],
          [
           0.0392156862745098,
           "#435bdd"
          ],
          [
           0.043137254901960784,
           "#455cdd"
          ],
          [
           0.047058823529411764,
           "#485ddd"
          ],
          [
           0.050980392156862744,
           "#4a5fdd"
          ],
          [
           0.054901960784313725,
           "#4d60dd"
          ],
          [
           0.058823529411764705,
           "#4f61de"
          ],
          [
           0.06274509803921569,
           "#5162de"
          ],
          [
           0.06666666666666667,
           "#5363de"
          ],
          [
           0.07058823529411765,
           "#5664de"
          ],
          [
           0.07450980392156863,
           "#5865de"
          ],
          [
           0.0784313725490196,
           "#5a67df"
          ],
          [
           0.08235294117647059,
           "#5c68df"
          ],
          [
           0.08627450980392157,
           "#5e69df"
          ],
          [
           0.09019607843137255,
           "#606adf"
          ],
          [
           0.09411764705882353,
           "#616be0"
          ],
          [
           0.09803921568627451,
           "#636ce0"
          ],
          [
           0.10196078431372549,
           "#656ee0"
          ],
          [
           0.10588235294117647,
           "#676fe0"
          ],
          [
           0.10980392156862745,
           "#6970e0"
          ],
          [
           0.11372549019607843,
           "#6b71e1"
          ],
          [
           0.11764705882352941,
           "#6c72e1"
          ],
          [
           0.12156862745098039,
           "#6e74e1"
          ],
          [
           0.12549019607843137,
           "#7075e1"
          ],
          [
           0.12941176470588237,
           "#7176e1"
          ],
          [
           0.13333333333333333,
           "#7377e2"
          ],
          [
           0.13725490196078433,
           "#7578e2"
          ],
          [
           0.1411764705882353,
           "#7679e2"
          ],
          [
           0.1450980392156863,
           "#787be2"
          ],
          [
           0.14901960784313725,
           "#7a7ce2"
          ],
          [
           0.15294117647058825,
           "#7b7de2"
          ],
          [
           0.1568627450980392,
           "#7d7ee3"
          ],
          [
           0.1607843137254902,
           "#7e7fe3"
          ],
          [
           0.16470588235294117,
           "#8081e3"
          ],
          [
           0.16862745098039217,
           "#8282e3"
          ],
          [
           0.17254901960784313,
           "#8383e3"
          ],
          [
           0.17647058823529413,
           "#8584e4"
          ],
          [
           0.1803921568627451,
           "#8686e4"
          ],
          [
           0.1843137254901961,
           "#8887e4"
          ],
          [
           0.18823529411764706,
           "#8988e4"
          ],
          [
           0.19215686274509805,
           "#8b89e4"
          ],
          [
           0.19607843137254902,
           "#8c8ae5"
          ],
          [
           0.2,
           "#8e8ce5"
          ],
          [
           0.20392156862745098,
           "#8f8de5"
          ],
          [
           0.20784313725490197,
           "#908ee5"
          ],
          [
           0.21176470588235294,
           "#928fe5"
          ],
          [
           0.21568627450980393,
           "#9391e5"
          ],
          [
           0.2196078431372549,
           "#9592e6"
          ],
          [
           0.2235294117647059,
           "#9693e6"
          ],
          [
           0.22745098039215686,
           "#9894e6"
          ],
          [
           0.23137254901960785,
           "#9996e6"
          ],
          [
           0.23529411764705882,
           "#9a97e6"
          ],
          [
           0.23921568627450981,
           "#9c98e7"
          ],
          [
           0.24313725490196078,
           "#9d99e7"
          ],
          [
           0.24705882352941178,
           "#9e9be7"
          ],
          [
           0.25098039215686274,
           "#a09ce7"
          ],
          [
           0.2549019607843137,
           "#a19de7"
          ],
          [
           0.25882352941176473,
           "#a39ee7"
          ],
          [
           0.2627450980392157,
           "#a4a0e8"
          ],
          [
           0.26666666666666666,
           "#a5a1e8"
          ],
          [
           0.27058823529411763,
           "#a7a2e8"
          ],
          [
           0.27450980392156865,
           "#a8a3e8"
          ],
          [
           0.2784313725490196,
           "#a9a5e8"
          ],
          [
           0.2823529411764706,
           "#aba6e8"
          ],
          [
           0.28627450980392155,
           "#aca7e9"
          ],
          [
           0.2901960784313726,
           "#ada8e9"
          ],
          [
           0.29411764705882354,
           "#afaae9"
          ],
          [
           0.2980392156862745,
           "#b0abe9"
          ],
          [
           0.30196078431372547,
           "#b1ace9"
          ],
          [
           0.3058823529411765,
           "#b2aee9"
          ],
          [
           0.30980392156862746,
           "#b4afea"
          ],
          [
           0.3137254901960784,
           "#b5b0ea"
          ],
          [
           0.3176470588235294,
           "#b6b1ea"
          ],
          [
           0.3215686274509804,
           "#b8b3ea"
          ],
          [
           0.3254901960784314,
           "#b9b4ea"
          ],
          [
           0.32941176470588235,
           "#bab5ea"
          ],
          [
           0.3333333333333333,
           "#bbb7ea"
          ],
          [
           0.33725490196078434,
           "#bdb8eb"
          ],
          [
           0.3411764705882353,
           "#beb9eb"
          ],
          [
           0.34509803921568627,
           "#bfbaeb"
          ],
          [
           0.34901960784313724,
           "#c0bceb"
          ],
          [
           0.35294117647058826,
           "#c2bdeb"
          ],
          [
           0.3568627450980392,
           "#c3beeb"
          ],
          [
           0.3607843137254902,
           "#c4c0ec"
          ],
          [
           0.36470588235294116,
           "#c5c1ec"
          ],
          [
           0.3686274509803922,
           "#c7c2ec"
          ],
          [
           0.37254901960784315,
           "#c8c4ec"
          ],
          [
           0.3764705882352941,
           "#c9c5ec"
          ],
          [
           0.3803921568627451,
           "#cac6ec"
          ],
          [
           0.3843137254901961,
           "#ccc8ec"
          ],
          [
           0.38823529411764707,
           "#cdc9ec"
          ],
          [
           0.39215686274509803,
           "#cecaed"
          ],
          [
           0.396078431372549,
           "#cfcbed"
          ],
          [
           0.4,
           "#d1cded"
          ],
          [
           0.403921568627451,
           "#d2ceed"
          ],
          [
           0.40784313725490196,
           "#d3cfed"
          ],
          [
           0.4117647058823529,
           "#d4d1ed"
          ],
          [
           0.41568627450980394,
           "#d5d2ed"
          ],
          [
           0.4196078431372549,
           "#d7d3ee"
          ],
          [
           0.4235294117647059,
           "#d8d5ee"
          ],
          [
           0.42745098039215684,
           "#d9d6ee"
          ],
          [
           0.43137254901960786,
           "#dad7ee"
          ],
          [
           0.43529411764705883,
           "#dbd9ee"
          ],
          [
           0.4392156862745098,
           "#dddaee"
          ],
          [
           0.44313725490196076,
           "#dedbee"
          ],
          [
           0.4470588235294118,
           "#dfddee"
          ],
          [
           0.45098039215686275,
           "#e0deee"
          ],
          [
           0.4549019607843137,
           "#e1dfee"
          ],
          [
           0.4588235294117647,
           "#e3e0ee"
          ],
          [
           0.4627450980392157,
           "#e4e1ee"
          ],
          [
           0.4666666666666667,
           "#e5e2ee"
          ],
          [
           0.47058823529411764,
           "#e6e3ee"
          ],
          [
           0.4745098039215686,
           "#e7e4ee"
          ],
          [
           0.47843137254901963,
           "#e8e5ed"
          ],
          [
           0.4823529411764706,
           "#e9e6ed"
          ],
          [
           0.48627450980392156,
           "#eae6ec"
          ],
          [
           0.49019607843137253,
           "#ebe7ec"
          ],
          [
           0.49411764705882355,
           "#ece7eb"
          ],
          [
           0.4980392156862745,
           "#ece7ea"
          ],
          [
           0.5019607843137255,
           "#ede7e9"
          ],
          [
           0.5058823529411764,
           "#eee6e8"
          ],
          [
           0.5098039215686274,
           "#eee6e6"
          ],
          [
           0.5137254901960784,
           "#efe5e5"
          ],
          [
           0.5176470588235295,
           "#efe5e4"
          ],
          [
           0.5215686274509804,
           "#f0e4e2"
          ],
          [
           0.5254901960784314,
           "#f0e3e0"
          ],
          [
           0.5294117647058824,
           "#f0e2df"
          ],
          [
           0.5333333333333333,
           "#f1e0dd"
          ],
          [
           0.5372549019607843,
           "#f1dfdb"
          ],
          [
           0.5411764705882353,
           "#f1ded9"
          ],
          [
           0.5450980392156862,
           "#f1dcd7"
          ],
          [
           0.5490196078431373,
           "#f1dbd6"
          ],
          [
           0.5529411764705883,
           "#f1d9d4"
          ],
          [
           0.5568627450980392,
           "#f1d8d2"
          ],
          [
           0.5607843137254902,
           "#f1d6d0"
          ],
          [
           0.5647058823529412,
           "#f1d5ce"
          ],
          [
           0.5686274509803921,
           "#f1d3cc"
          ],
          [
           0.5725490196078431,
           "#f1d2ca"
          ],
          [
           0.5764705882352941,
           "#f1d0c8"
          ],
          [
           0.5803921568627451,
           "#f1cfc6"
          ],
          [
           0.5843137254901961,
           "#f1cdc4"
          ],
          [
           0.5882352941176471,
           "#f1ccc2"
          ],
          [
           0.592156862745098,
           "#f1cac0"
          ],
          [
           0.596078431372549,
           "#f1c9bf"
          ],
          [
           0.6,
           "#f1c7bd"
          ],
          [
           0.6039215686274509,
           "#f1c5bb"
          ],
          [
           0.6078431372549019,
           "#f1c4b9"
          ],
          [
           0.611764705882353,
           "#f0c2b7"
          ],
          [
           0.615686274509804,
           "#f0c1b5"
          ],
          [
           0.6196078431372549,
           "#f0bfb3"
          ],
          [
           0.6235294117647059,
           "#f0beb1"
          ],
          [
           0.6274509803921569,
           "#f0bcaf"
          ],
          [
           0.6313725490196078,
           "#f0bbad"
          ],
          [
           0.6352941176470588,
           "#efb9ac"
          ],
          [
           0.6392156862745098,
           "#efb7aa"
          ],
          [
           0.6431372549019608,
           "#efb6a8"
          ],
          [
           0.6470588235294118,
           "#efb4a6"
          ],
          [
           0.6509803921568628,
           "#efb3a4"
          ],
          [
           0.6549019607843137,
           "#eeb1a2"
          ],
          [
           0.6588235294117647,
           "#eeb0a0"
          ],
          [
           0.6627450980392157,
           "#eeae9e"
          ],
          [
           0.6666666666666666,
           "#eead9d"
          ],
          [
           0.6705882352941176,
           "#edab9b"
          ],
          [
           0.6745098039215687,
           "#eda999"
          ],
          [
           0.6784313725490196,
           "#eda897"
          ],
          [
           0.6823529411764706,
           "#eda695"
          ],
          [
           0.6862745098039216,
           "#eca593"
          ],
          [
           0.6901960784313725,
           "#eca391"
          ],
          [
           0.6941176470588235,
           "#eca290"
          ],
          [
           0.6980392156862745,
           "#eba08e"
          ],
          [
           0.7019607843137254,
           "#eb9f8c"
          ],
          [
           0.7058823529411765,
           "#eb9d8a"
          ],
          [
           0.7098039215686275,
           "#ea9b88"
          ],
          [
           0.7137254901960784,
           "#ea9a87"
          ],
          [
           0.7176470588235294,
           "#ea9885"
          ],
          [
           0.7215686274509804,
           "#e99783"
          ],
          [
           0.7254901960784313,
           "#e99581"
          ],
          [
           0.7294117647058823,
           "#e9947f"
          ],
          [
           0.7333333333333333,
           "#e8927d"
          ],
          [
           0.7372549019607844,
           "#e8907c"
          ],
          [
           0.7411764705882353,
           "#e88f7a"
          ],
          [
           0.7450980392156863,
           "#e78d78"
          ],
          [
           0.7490196078431373,
           "#e78c76"
          ],
          [
           0.7529411764705882,
           "#e68a75"
          ],
          [
           0.7568627450980392,
           "#e68973"
          ],
          [
           0.7607843137254902,
           "#e58771"
          ],
          [
           0.7647058823529411,
           "#e5856f"
          ],
          [
           0.7686274509803922,
           "#e5846d"
          ],
          [
           0.7725490196078432,
           "#e4826c"
          ],
          [
           0.7764705882352941,
           "#e4816a"
          ],
          [
           0.7803921568627451,
           "#e37f68"
          ],
          [
           0.7843137254901961,
           "#e37d66"
          ],
          [
           0.788235294117647,
           "#e27c65"
          ],
          [
           0.792156862745098,
           "#e27a63"
          ],
          [
           0.796078431372549,
           "#e17961"
          ],
          [
           0.8,
           "#e1775f"
          ],
          [
           0.803921568627451,
           "#e0755e"
          ],
          [
           0.807843137254902,
           "#e0745c"
          ],
          [
           0.8117647058823529,
           "#df725a"
          ],
          [
           0.8156862745098039,
           "#df7158"
          ],
          [
           0.8196078431372549,
           "#de6f57"
          ],
          [
           0.8235294117647058,
           "#de6d55"
          ],
          [
           0.8274509803921568,
           "#dd6c53"
          ],
          [
           0.8313725490196079,
           "#dd6a52"
          ],
          [
           0.8352941176470589,
           "#dc6850"
          ],
          [
           0.8392156862745098,
           "#db674e"
          ],
          [
           0.8431372549019608,
           "#db654c"
          ],
          [
           0.8470588235294118,
           "#da634b"
          ],
          [
           0.8509803921568627,
           "#da6249"
          ],
          [
           0.8549019607843137,
           "#d96047"
          ],
          [
           0.8588235294117647,
           "#d95e46"
          ],
          [
           0.8627450980392157,
           "#d85d44"
          ],
          [
           0.8666666666666667,
           "#d75b42"
          ],
          [
           0.8705882352941177,
           "#d75940"
          ],
          [
           0.8745098039215686,
           "#d6573f"
          ],
          [
           0.8784313725490196,
           "#d5563d"
          ],
          [
           0.8823529411764706,
           "#d5543b"
          ],
          [
           0.8862745098039215,
           "#d4523a"
          ],
          [
           0.8901960784313725,
           "#d45038"
          ],
          [
           0.8941176470588236,
           "#d34e36"
          ],
          [
           0.8980392156862745,
           "#d24d35"
          ],
          [
           0.9019607843137255,
           "#d24b33"
          ],
          [
           0.9058823529411765,
           "#d14931"
          ],
          [
           0.9098039215686274,
           "#d04730"
          ],
          [
           0.9137254901960784,
           "#d0452e"
          ],
          [
           0.9176470588235294,
           "#cf432c"
          ],
          [
           0.9215686274509803,
           "#ce412a"
          ],
          [
           0.9254901960784314,
           "#ce3f29"
          ],
          [
           0.9294117647058824,
           "#cd3d27"
          ],
          [
           0.9333333333333333,
           "#cc3b25"
          ],
          [
           0.9372549019607843,
           "#cb3924"
          ],
          [
           0.9411764705882353,
           "#cb3722"
          ],
          [
           0.9450980392156862,
           "#ca3420"
          ],
          [
           0.9490196078431372,
           "#c9321e"
          ],
          [
           0.9529411764705882,
           "#c9301d"
          ],
          [
           0.9568627450980393,
           "#c82d1b"
          ],
          [
           0.9607843137254902,
           "#c72b19"
          ],
          [
           0.9647058823529412,
           "#c62817"
          ],
          [
           0.9686274509803922,
           "#c62515"
          ],
          [
           0.9725490196078431,
           "#c52214"
          ],
          [
           0.9764705882352941,
           "#c41f12"
          ],
          [
           0.9803921568627451,
           "#c31c10"
          ],
          [
           0.984313725490196,
           "#c3180e"
          ],
          [
           0.9882352941176471,
           "#c2140c"
          ],
          [
           0.9921568627450981,
           "#c10f09"
          ],
          [
           0.996078431372549,
           "#c00907"
          ],
          [
           1,
           "#bf0205"
          ]
         ],
         "type": "heatmap",
         "x": [
          "year",
          "month",
          "num1",
          "num2",
          "bin_target",
          "multi_target"
         ],
         "y": [
          "year",
          "month",
          "num1",
          "num2",
          "bin_target",
          "multi_target"
         ],
         "z": [
          [
           null,
           null,
           null,
           null,
           null,
           null
          ],
          [
           null,
           null,
           null,
           null,
           null,
           null
          ],
          [
           null,
           0.05977584829009511,
           null,
           null,
           null,
           null
          ],
          [
           null,
           0.09051200873847871,
           0.00831319148396174,
           null,
           null,
           null
          ],
          [
           null,
           0.05210714516374992,
           0.03984060633107468,
           0.0001819860531059202,
           null,
           null
          ],
          [
           null,
           -0.06861776588886814,
           -0.06756762659575366,
           0.06656261990638333,
           0.05867450856319477,
           null
          ]
         ],
         "zmax": 1,
         "zmin": -1
        }
       ],
       "layout": {
        "autosize": false,
        "height": 600,
        "template": {
         "data": {
          "bar": [
           {
            "error_x": {
             "color": "#2a3f5f"
            },
            "error_y": {
             "color": "#2a3f5f"
            },
            "marker": {
             "line": {
              "color": "#E5ECF6",
              "width": 0.5
             },
             "pattern": {
              "fillmode": "overlay",
              "size": 10,
              "solidity": 0.2
             }
            },
            "type": "bar"
           }
          ],
          "barpolar": [
           {
            "marker": {
             "line": {
              "color": "#E5ECF6",
              "width": 0.5
             },
             "pattern": {
              "fillmode": "overlay",
              "size": 10,
              "solidity": 0.2
             }
            },
            "type": "barpolar"
           }
          ],
          "carpet": [
           {
            "aaxis": {
             "endlinecolor": "#2a3f5f",
             "gridcolor": "white",
             "linecolor": "white",
             "minorgridcolor": "white",
             "startlinecolor": "#2a3f5f"
            },
            "baxis": {
             "endlinecolor": "#2a3f5f",
             "gridcolor": "white",
             "linecolor": "white",
             "minorgridcolor": "white",
             "startlinecolor": "#2a3f5f"
            },
            "type": "carpet"
           }
          ],
          "choropleth": [
           {
            "colorbar": {
             "outlinewidth": 0,
             "ticks": ""
            },
            "type": "choropleth"
           }
          ],
          "contour": [
           {
            "colorbar": {
             "outlinewidth": 0,
             "ticks": ""
            },
            "colorscale": [
             [
              0,
              "#0d0887"
             ],
             [
              0.1111111111111111,
              "#46039f"
             ],
             [
              0.2222222222222222,
              "#7201a8"
             ],
             [
              0.3333333333333333,
              "#9c179e"
             ],
             [
              0.4444444444444444,
              "#bd3786"
             ],
             [
              0.5555555555555556,
              "#d8576b"
             ],
             [
              0.6666666666666666,
              "#ed7953"
             ],
             [
              0.7777777777777778,
              "#fb9f3a"
             ],
             [
              0.8888888888888888,
              "#fdca26"
             ],
             [
              1,
              "#f0f921"
             ]
            ],
            "type": "contour"
           }
          ],
          "contourcarpet": [
           {
            "colorbar": {
             "outlinewidth": 0,
             "ticks": ""
            },
            "type": "contourcarpet"
           }
          ],
          "heatmap": [
           {
            "colorbar": {
             "outlinewidth": 0,
             "ticks": ""
            },
            "colorscale": [
             [
              0,
              "#0d0887"
             ],
             [
              0.1111111111111111,
              "#46039f"
             ],
             [
              0.2222222222222222,
              "#7201a8"
             ],
             [
              0.3333333333333333,
              "#9c179e"
             ],
             [
              0.4444444444444444,
              "#bd3786"
             ],
             [
              0.5555555555555556,
              "#d8576b"
             ],
             [
              0.6666666666666666,
              "#ed7953"
             ],
             [
              0.7777777777777778,
              "#fb9f3a"
             ],
             [
              0.8888888888888888,
              "#fdca26"
             ],
             [
              1,
              "#f0f921"
             ]
            ],
            "type": "heatmap"
           }
          ],
          "heatmapgl": [
           {
            "colorbar": {
             "outlinewidth": 0,
             "ticks": ""
            },
            "colorscale": [
             [
              0,
              "#0d0887"
             ],
             [
              0.1111111111111111,
              "#46039f"
             ],
             [
              0.2222222222222222,
              "#7201a8"
             ],
             [
              0.3333333333333333,
              "#9c179e"
             ],
             [
              0.4444444444444444,
              "#bd3786"
             ],
             [
              0.5555555555555556,
              "#d8576b"
             ],
             [
              0.6666666666666666,
              "#ed7953"
             ],
             [
              0.7777777777777778,
              "#fb9f3a"
             ],
             [
              0.8888888888888888,
              "#fdca26"
             ],
             [
              1,
              "#f0f921"
             ]
            ],
            "type": "heatmapgl"
           }
          ],
          "histogram": [
           {
            "marker": {
             "pattern": {
              "fillmode": "overlay",
              "size": 10,
              "solidity": 0.2
             }
            },
            "type": "histogram"
           }
          ],
          "histogram2d": [
           {
            "colorbar": {
             "outlinewidth": 0,
             "ticks": ""
            },
            "colorscale": [
             [
              0,
              "#0d0887"
             ],
             [
              0.1111111111111111,
              "#46039f"
             ],
             [
              0.2222222222222222,
              "#7201a8"
             ],
             [
              0.3333333333333333,
              "#9c179e"
             ],
             [
              0.4444444444444444,
              "#bd3786"
             ],
             [
              0.5555555555555556,
              "#d8576b"
             ],
             [
              0.6666666666666666,
              "#ed7953"
             ],
             [
              0.7777777777777778,
              "#fb9f3a"
             ],
             [
              0.8888888888888888,
              "#fdca26"
             ],
             [
              1,
              "#f0f921"
             ]
            ],
            "type": "histogram2d"
           }
          ],
          "histogram2dcontour": [
           {
            "colorbar": {
             "outlinewidth": 0,
             "ticks": ""
            },
            "colorscale": [
             [
              0,
              "#0d0887"
             ],
             [
              0.1111111111111111,
              "#46039f"
             ],
             [
              0.2222222222222222,
              "#7201a8"
             ],
             [
              0.3333333333333333,
              "#9c179e"
             ],
             [
              0.4444444444444444,
              "#bd3786"
             ],
             [
              0.5555555555555556,
              "#d8576b"
             ],
             [
              0.6666666666666666,
              "#ed7953"
             ],
             [
              0.7777777777777778,
              "#fb9f3a"
             ],
             [
              0.8888888888888888,
              "#fdca26"
             ],
             [
              1,
              "#f0f921"
             ]
            ],
            "type": "histogram2dcontour"
           }
          ],
          "mesh3d": [
           {
            "colorbar": {
             "outlinewidth": 0,
             "ticks": ""
            },
            "type": "mesh3d"
           }
          ],
          "parcoords": [
           {
            "line": {
             "colorbar": {
              "outlinewidth": 0,
              "ticks": ""
             }
            },
            "type": "parcoords"
           }
          ],
          "pie": [
           {
            "automargin": true,
            "type": "pie"
           }
          ],
          "scatter": [
           {
            "fillpattern": {
             "fillmode": "overlay",
             "size": 10,
             "solidity": 0.2
            },
            "type": "scatter"
           }
          ],
          "scatter3d": [
           {
            "line": {
             "colorbar": {
              "outlinewidth": 0,
              "ticks": ""
             }
            },
            "marker": {
             "colorbar": {
              "outlinewidth": 0,
              "ticks": ""
             }
            },
            "type": "scatter3d"
           }
          ],
          "scattercarpet": [
           {
            "marker": {
             "colorbar": {
              "outlinewidth": 0,
              "ticks": ""
             }
            },
            "type": "scattercarpet"
           }
          ],
          "scattergeo": [
           {
            "marker": {
             "colorbar": {
              "outlinewidth": 0,
              "ticks": ""
             }
            },
            "type": "scattergeo"
           }
          ],
          "scattergl": [
           {
            "marker": {
             "colorbar": {
              "outlinewidth": 0,
              "ticks": ""
             }
            },
            "type": "scattergl"
           }
          ],
          "scattermapbox": [
           {
            "marker": {
             "colorbar": {
              "outlinewidth": 0,
              "ticks": ""
             }
            },
            "type": "scattermapbox"
           }
          ],
          "scatterpolar": [
           {
            "marker": {
             "colorbar": {
              "outlinewidth": 0,
              "ticks": ""
             }
            },
            "type": "scatterpolar"
           }
          ],
          "scatterpolargl": [
           {
            "marker": {
             "colorbar": {
              "outlinewidth": 0,
              "ticks": ""
             }
            },
            "type": "scatterpolargl"
           }
          ],
          "scatterternary": [
           {
            "marker": {
             "colorbar": {
              "outlinewidth": 0,
              "ticks": ""
             }
            },
            "type": "scatterternary"
           }
          ],
          "surface": [
           {
            "colorbar": {
             "outlinewidth": 0,
             "ticks": ""
            },
            "colorscale": [
             [
              0,
              "#0d0887"
             ],
             [
              0.1111111111111111,
              "#46039f"
             ],
             [
              0.2222222222222222,
              "#7201a8"
             ],
             [
              0.3333333333333333,
              "#9c179e"
             ],
             [
              0.4444444444444444,
              "#bd3786"
             ],
             [
              0.5555555555555556,
              "#d8576b"
             ],
             [
              0.6666666666666666,
              "#ed7953"
             ],
             [
              0.7777777777777778,
              "#fb9f3a"
             ],
             [
              0.8888888888888888,
              "#fdca26"
             ],
             [
              1,
              "#f0f921"
             ]
            ],
            "type": "surface"
           }
          ],
          "table": [
           {
            "cells": {
             "fill": {
              "color": "#EBF0F8"
             },
             "line": {
              "color": "white"
             }
            },
            "header": {
             "fill": {
              "color": "#C8D4E3"
             },
             "line": {
              "color": "white"
             }
            },
            "type": "table"
           }
          ]
         },
         "layout": {
          "annotationdefaults": {
           "arrowcolor": "#2a3f5f",
           "arrowhead": 0,
           "arrowwidth": 1
          },
          "autotypenumbers": "strict",
          "coloraxis": {
           "colorbar": {
            "outlinewidth": 0,
            "ticks": ""
           }
          },
          "colorscale": {
           "diverging": [
            [
             0,
             "#8e0152"
            ],
            [
             0.1,
             "#c51b7d"
            ],
            [
             0.2,
             "#de77ae"
            ],
            [
             0.3,
             "#f1b6da"
            ],
            [
             0.4,
             "#fde0ef"
            ],
            [
             0.5,
             "#f7f7f7"
            ],
            [
             0.6,
             "#e6f5d0"
            ],
            [
             0.7,
             "#b8e186"
            ],
            [
             0.8,
             "#7fbc41"
            ],
            [
             0.9,
             "#4d9221"
            ],
            [
             1,
             "#276419"
            ]
           ],
           "sequential": [
            [
             0,
             "#0d0887"
            ],
            [
             0.1111111111111111,
             "#46039f"
            ],
            [
             0.2222222222222222,
             "#7201a8"
            ],
            [
             0.3333333333333333,
             "#9c179e"
            ],
            [
             0.4444444444444444,
             "#bd3786"
            ],
            [
             0.5555555555555556,
             "#d8576b"
            ],
            [
             0.6666666666666666,
             "#ed7953"
            ],
            [
             0.7777777777777778,
             "#fb9f3a"
            ],
            [
             0.8888888888888888,
             "#fdca26"
            ],
            [
             1,
             "#f0f921"
            ]
           ],
           "sequentialminus": [
            [
             0,
             "#0d0887"
            ],
            [
             0.1111111111111111,
             "#46039f"
            ],
            [
             0.2222222222222222,
             "#7201a8"
            ],
            [
             0.3333333333333333,
             "#9c179e"
            ],
            [
             0.4444444444444444,
             "#bd3786"
            ],
            [
             0.5555555555555556,
             "#d8576b"
            ],
            [
             0.6666666666666666,
             "#ed7953"
            ],
            [
             0.7777777777777778,
             "#fb9f3a"
            ],
            [
             0.8888888888888888,
             "#fdca26"
            ],
            [
             1,
             "#f0f921"
            ]
           ]
          },
          "colorway": [
           "#636efa",
           "#EF553B",
           "#00cc96",
           "#ab63fa",
           "#FFA15A",
           "#19d3f3",
           "#FF6692",
           "#B6E880",
           "#FF97FF",
           "#FECB52"
          ],
          "font": {
           "color": "#2a3f5f"
          },
          "geo": {
           "bgcolor": "white",
           "lakecolor": "white",
           "landcolor": "#E5ECF6",
           "showlakes": true,
           "showland": true,
           "subunitcolor": "white"
          },
          "hoverlabel": {
           "align": "left"
          },
          "hovermode": "closest",
          "mapbox": {
           "style": "light"
          },
          "paper_bgcolor": "white",
          "plot_bgcolor": "#E5ECF6",
          "polar": {
           "angularaxis": {
            "gridcolor": "white",
            "linecolor": "white",
            "ticks": ""
           },
           "bgcolor": "#E5ECF6",
           "radialaxis": {
            "gridcolor": "white",
            "linecolor": "white",
            "ticks": ""
           }
          },
          "scene": {
           "xaxis": {
            "backgroundcolor": "#E5ECF6",
            "gridcolor": "white",
            "gridwidth": 2,
            "linecolor": "white",
            "showbackground": true,
            "ticks": "",
            "zerolinecolor": "white"
           },
           "yaxis": {
            "backgroundcolor": "#E5ECF6",
            "gridcolor": "white",
            "gridwidth": 2,
            "linecolor": "white",
            "showbackground": true,
            "ticks": "",
            "zerolinecolor": "white"
           },
           "zaxis": {
            "backgroundcolor": "#E5ECF6",
            "gridcolor": "white",
            "gridwidth": 2,
            "linecolor": "white",
            "showbackground": true,
            "ticks": "",
            "zerolinecolor": "white"
           }
          },
          "shapedefaults": {
           "line": {
            "color": "#2a3f5f"
           }
          },
          "ternary": {
           "aaxis": {
            "gridcolor": "white",
            "linecolor": "white",
            "ticks": ""
           },
           "baxis": {
            "gridcolor": "white",
            "linecolor": "white",
            "ticks": ""
           },
           "bgcolor": "#E5ECF6",
           "caxis": {
            "gridcolor": "white",
            "linecolor": "white",
            "ticks": ""
           }
          },
          "title": {
           "x": 0.05
          },
          "xaxis": {
           "automargin": true,
           "gridcolor": "white",
           "linecolor": "white",
           "ticks": "",
           "title": {
            "standoff": 15
           },
           "zerolinecolor": "white",
           "zerolinewidth": 2
          },
          "yaxis": {
           "automargin": true,
           "gridcolor": "white",
           "linecolor": "white",
           "ticks": "",
           "title": {
            "standoff": 15
           },
           "zerolinecolor": "white",
           "zerolinewidth": 2
          }
         }
        },
        "width": 600
       }
      }
     },
     "metadata": {},
     "output_type": "display_data"
    }
   ],
   "source": [
    "s.plot_corr_map()"
   ]
  },
  {
   "cell_type": "code",
   "execution_count": 508,
   "metadata": {},
   "outputs": [
    {
     "name": "stdout",
     "output_type": "stream",
     "text": [
      "{\n",
      "    \"num1\": {\n",
      "        \"0\": {\n",
      "            \"q00\": 803.0476168393415,\n",
      "            \"q01\": 803.0476168393415,\n",
      "            \"q25\": 907.2920695654886,\n",
      "            \"q50\": 959.0112145260407,\n",
      "            \"q75\": 1059.4072543931134,\n",
      "            \"q99\": 1197.3055442349162,\n",
      "            \"q100\": 1197.3055442349162\n",
      "        },\n",
      "        \"1\": {\n",
      "            \"q00\": 769.4188139185309,\n",
      "            \"q01\": 769.4188139185309,\n",
      "            \"q25\": 932.2965098911496,\n",
      "            \"q50\": 1003.9672686831474,\n",
      "            \"q75\": 1048.7928364881604,\n",
      "            \"q99\": 1308.6366589738643,\n",
      "            \"q100\": 1308.6366589738643\n",
      "        }\n",
      "    },\n",
      "    \"num2\": {\n",
      "        \"0\": {\n",
      "            \"q00\": -232.3261679023198,\n",
      "            \"q01\": -232.3261679023198,\n",
      "            \"q25\": -60.01249303350001,\n",
      "            \"q50\": -22.540583256507958,\n",
      "            \"q75\": 63.15884542190935,\n",
      "            \"q99\": 155.3489810717883,\n",
      "            \"q100\": 155.3489810717883\n",
      "        },\n",
      "        \"1\": {\n",
      "            \"q00\": -319.63065707325995,\n",
      "            \"q01\": -319.63065707325995,\n",
      "            \"q25\": -81.04617153314439,\n",
      "            \"q50\": -5.654803301344733,\n",
      "            \"q75\": 62.053494397945364,\n",
      "            \"q99\": 242.9433520821162,\n",
      "            \"q100\": 242.9433520821162\n",
      "        }\n",
      "    }\n",
      "}\n"
     ]
    }
   ],
   "source": [
    "import json\n",
    "print(json.dumps(s.make_box(['num1', 'num2']), indent=4))"
   ]
  },
  {
   "cell_type": "code",
   "execution_count": 509,
   "metadata": {},
   "outputs": [
    {
     "name": "stdout",
     "output_type": "stream",
     "text": [
      "+---+----+-----+------------------+--------------------+----+----+----------+------------+\n",
      "| id|year|month|              num1|                num2|cat1|cat2|bin_target|multi_target|\n",
      "+---+----+-----+------------------+--------------------+----+----+----------+------------+\n",
      "|  A|2023|  1.0|1002.3989695645216|   78.28981021365396|   c|   A|         0|          -1|\n",
      "|  A|2023|  2.0| 945.2920324240617|  -48.19393418442653|   a|   A|         1|           1|\n",
      "|  A|2023|  3.0| 803.0476168393415|  -31.00385061597097|   a|   A|         0|           1|\n",
      "|  A|2023|  4.0| 837.8984800348729| -319.63065707325995|   a|   A|         1|           1|\n",
      "|  A|2023|  5.0| 842.3216571543076| -16.540609711770397|   c|   C|         1|          -1|\n",
      "|  A|2023|  6.0| 843.5387529856456|  202.61459610296797|   b|   A|         1|           1|\n",
      "|  A|2023|  7.0| 886.5776484723364|-0.09885695743611222|   c|   B|         1|           0|\n",
      "|  A|2023|  8.0|1052.1454089179265|  -75.38275449654631|   c|   B|         1|           1|\n",
      "|  A|2023|  9.0|1056.1255237710996|  -36.15593114014091|   a|   B|         1|           0|\n",
      "|  A|2023| 10.0|1100.8811737613632| -188.52522706523823|   c|   B|         1|           0|\n",
      "|  A|2023| 11.0|1007.8508704864715|  -0.947164401516055|   c|   C|         1|           0|\n",
      "|  A|2023| 12.0| 949.9774348111349|  18.241726050422443|   a|   A|         1|           0|\n",
      "|  A|2023| 13.0|1015.3067935840193|  -83.25767300243083|   b|   B|         1|           0|\n",
      "|  A|2023| 14.0| 982.5889053782971|   81.95477904743383|   c|   B|         1|           1|\n",
      "|  A|2023| 15.0| 937.1979170929823|  11.127339196065948|   c|   B|         0|           0|\n",
      "|  A|2023| 16.0|1026.9186687170297|  28.750344933932308|   a|   A|         1|          -1|\n",
      "|  A|2023| 17.0|1045.2063721372854|  -74.96737567430303|   a|   C|         1|           0|\n",
      "|  A|2023| 18.0|1022.1035862754602| -1.7228540631794083|   a|   A|         1|           0|\n",
      "|  A|2023| 19.0|1086.1133326189133| -58.384913368021074|   c|   C|         1|          -1|\n",
      "|  A|2023| 20.0| 931.8414361300239|  -75.46334192436545|   c|   C|         1|           0|\n",
      "+---+----+-----+------------------+--------------------+----+----+----------+------------+\n",
      "only showing top 20 rows\n",
      "\n"
     ]
    }
   ],
   "source": [
    "dd.show()"
   ]
  },
  {
   "cell_type": "code",
   "execution_count": 510,
   "metadata": {},
   "outputs": [
    {
     "data": {
      "text/plain": [
       "[769.4188139185309,\n",
       " 769.4188139185309,\n",
       " 927.8292347661644,\n",
       " 997.9474040470974,\n",
       " 1052.1454089179265,\n",
       " 1244.8423950642211,\n",
       " 1308.6366589738643]"
      ]
     },
     "execution_count": 510,
     "metadata": {},
     "output_type": "execute_result"
    }
   ],
   "source": [
    "dd.select(F.percentile_approx('num1', [0.00, 0.01, 0.25, 0.50, 0.75, 0.99, 1.00]).alias('percentiles')).collect()[0].percentiles"
   ]
  },
  {
   "attachments": {},
   "cell_type": "markdown",
   "metadata": {},
   "source": [
    "## Pandas"
   ]
  },
  {
   "cell_type": "code",
   "execution_count": 539,
   "metadata": {},
   "outputs": [],
   "source": [
    "import pandas \n",
    "\n",
    "class PandasExplorer(Explorer):\n",
    "    def __init__(self, \n",
    "        data: pandas.DataFrame,\n",
    "        target: str,\n",
    "        target_type: str,\n",
    "        date_cols:Union[List, str] = None,\n",
    "        date_format: str = None, \n",
    "    ):\n",
    "        '''Pandas-specific implementation of Explorer\n",
    "\n",
    "\n",
    "        Args:\n",
    "            data: pandas dataframe\n",
    "            target: name of target column\n",
    "            target_type: one of \"continuous\", \"categorical\" or \"binary\"\n",
    "            date_cols: either a list of ['year', 'month'] OR a single column\n",
    "            date_format: one of \"american\", \"julian\" or \"iso\" with the dash/dot variations\n",
    "        \n",
    "        Raises:\n",
    "            ValueError: if target-type is not valid\n",
    "\n",
    "        '''\n",
    "\n",
    "        self._validate_target_type(target_type)\n",
    "        self.target_vals = None\n",
    "\n",
    "        if date_cols and date_format:\n",
    "            data = PandasDateUtil.create_yearmonth(data, date_cols=date_cols, format=date_format)\n",
    "\n",
    "        if target_type in ('binary', 'categorical'):\n",
    "            self.target_vals = self._get_target_vals(data, target)\n",
    "\n",
    "        self.data = data\n",
    "        self.target = target\n",
    "        self.target_type = target_type\n",
    "\n",
    "    def _get_target_vals(self, data, target):\n",
    "        return list(data[target].unique())\n",
    "\n",
    "    def make_bar(self, cols: Union[List, str]):\n",
    "        if isinstance(cols, str):\n",
    "            cols = [cols]\n",
    "\n",
    "        data = self.data.assign(count=1)\n",
    "        if self.target_type in ('binary', 'categorical'):\n",
    "            return data.groupby([self.target, *cols], as_index=False).count()\n",
    "        else:\n",
    "            return data.groupby(cols, as_index=False).count()\n",
    "        \n",
    "\n",
    "    def plot_bar(self, cols: Union[List, str]):\n",
    "        grouped =self.make_bar(cols)\n",
    "        print(grouped)\n",
    "        fig = go.Figure()\n",
    "        if self.target_type in ('continuous'):\n",
    "            fig.add_trace(go.Bar(\n",
    "                x=cols,\n",
    "                y=grouped.loc[:, 'count']\n",
    "            ))\n",
    "        else:\n",
    "            for target_val in self.target_vals:\n",
    "                fig.add_trace(go.Bar(\n",
    "                    x=grouped[col].unique(),\n",
    "                    y=grouped.loc[grouped[self.target]==target_val, 'count'],\n",
    "                    name=f'Target: {target_val}'\n",
    "                ))\n",
    "        fig.show()\n",
    "\n",
    "    def make_box(self, cols: Union[List, str]) -> Dict:\n",
    "        if self.target_type in ('binary', 'categorical'):\n",
    "            return self._make_box_categorical_target(cols)\n",
    "        else:\n",
    "            return self._make_box_continuous_target(cols)\n",
    "\n",
    "    def _make_box_categorical_target(self, cols):\n",
    "        data = self.data.groupby(self.target)[cols].quantile((0.00, 0.01, 0.25, 0.50, 0.75, 0.99, 1.00)).reset_index()\n",
    "        quantile_dict = {}\n",
    "        for col in cols:\n",
    "            target_dict = {}\n",
    "            for target in data[self.target].unique():\n",
    "                target_q = data.loc[data[self.target] == target, :]\n",
    "                q00, q01, q25, q50, q75, q99, q100 = target_q[col].values\n",
    "                target_dict[target] = {\n",
    "                    'q00': q00,\n",
    "                    'q01': q01,\n",
    "                    'q25': q25,\n",
    "                    'q50': q50,\n",
    "                    'q75': q75,\n",
    "                    'q99': q99,\n",
    "                    'q100': q100\n",
    "                }\n",
    "\n",
    "            quantile_dict[col] = target_dict\n",
    "\n",
    "        return quantile_dict\n",
    "\n",
    "    def _make_box_continuous_target(self, cols):\n",
    "        data = self.data[cols].quantile((0.00, 0.01, 0.25, 0.50, 0.75, 0.99, 1.00)).reset_index()\n",
    "        quantile_dict = {}\n",
    "        for col in cols:\n",
    "            q00, q01, q25, q50, q75, q99, q100 = data[col].values\n",
    "            quantile_dict[col] = {\n",
    "                'q00': q00,\n",
    "                'q01': q01,\n",
    "                'q25': q25,\n",
    "                'q50': q50,\n",
    "                'q75': q75,\n",
    "                'q99': q99,\n",
    "                'q100': q100\n",
    "            }\n",
    "\n",
    "\n",
    "        return quantile_dict\n",
    "\n",
    "\n",
    "    \n",
    "    def make_hist(self, cols: Union[List, str], bins=None, n_bins=None) -> Dict:\n",
    "\n",
    "        if bins is not None and n_bins is not None:\n",
    "            raise ValueError('specify either n_bins (integer) or bins (bin edges), not both')\n",
    "\n",
    "        if not n_bins and not bins:\n",
    "            n_bins = 10\n",
    "\n",
    "        if self.target_type in ('categorical', 'binary'):\n",
    "            return self._make_hist_categorical_target(cols, bins, n_bins)\n",
    "        else:\n",
    "            return self._make_hist_continuous_target(cols, bins, n_bins)\n",
    "\n",
    "    def _make_hist_continuous_target(self, cols:Union[list, str], bins=None, n_bins=None) -> Dict:\n",
    "        if not isinstance(cols, list):\n",
    "            cols = [cols]\n",
    "\n",
    "        col_dict = {}\n",
    "        for col in cols: \n",
    "            col_dict[col] = {'bins': None, 'edges': None}\n",
    "\n",
    "            col_dict['bins'], col_dict['edges'] = np.histogram(self.data.loc[:, col], bins=n_bins if n_bins else bins)\n",
    "\n",
    "        return col_dict\n",
    "\n",
    "    def _make_hist_categorical_target(self, cols:Union[List, str], bins=None, n_bins=None) -> Dict:\n",
    "\n",
    "        if not isinstance(cols, list):\n",
    "            cols = [cols]\n",
    "            \n",
    "        col_dict = {}\n",
    "        for col in cols:\n",
    "            target_dict = {}\n",
    "            for target_val in self.target_vals:\n",
    "                target_dict[target_val] = {'bins': None, 'edges': None}\n",
    "                target_dict[target_val]['bins'], target_dict[target_val]['edges']  = np.histogram(self.data.loc[self.data[self.target]==target_val, col], bins=n_bins if n_bins else bins)\n",
    "\n",
    "            col_dict[col] = target_dict\n",
    "\n",
    "        return col_dict\n",
    "\n",
    "    def null_filter(self, data, _filter: str = None, p: float = None, n: float=None) -> pandas.DataFrame:\n",
    "        if _filter == 'top':\n",
    "            if p:\n",
    "                data = data.iloc[:, [c >= p for c in data.count(axis='rows').values / len(data)]]\n",
    "            if n:\n",
    "                raise NotImplementedError\n",
    "        elif _filter == 'bottom':\n",
    "            if p:\n",
    "                data= data.iloc[:, [c <= p for c in data.count(axis='rows').values / len(data)]]\n",
    "            if n:\n",
    "                raise NotImplementedError\n",
    "\n",
    "        return data\n",
    "\n",
    "    def null_sort(self, data, sort=None):\n",
    "        \"\"\"\n",
    "        Sorts a DataFrame according to its nullity, in either ascending or descending order.\n",
    "        :param df: The DataFrame object being sorted.\n",
    "        :param sort: The sorting method: either \"ascending\", \"descending\", or None (default).\n",
    "        :return: The nullity-sorted DataFrame.\n",
    "        \"\"\"\n",
    "        if sort is None:\n",
    "            return data \n",
    "        elif sort not in ['ascending', 'descending']:\n",
    "            raise ValueError('The \"sort\" parameter must be set to \"ascending\" or \"descending\".')\n",
    "\n",
    "        if sort == 'ascending':\n",
    "            return data.iloc[np.argsort(data.count(axis='columns').values), :]\n",
    "        elif sort == 'descending':\n",
    "            return data.iloc[np.flipud(np.argsort(data.count(axis='columns').values)), :]\n",
    "        \n",
    "    def plot_heatmap_missing(self, cols: list = None) -> None:\n",
    "        if not cols:\n",
    "            cols = self.data.columns\n",
    "\n",
    "        data = self.data[cols]\n",
    "        data = self.null_filter(data)\n",
    "        data = self.null_sort(data)\n",
    "\n",
    "        data = data.iloc[:, [i for i, n in enumerate(np.var(data.isnull(), axis='rows')) if n > 0]]\n",
    "\n",
    "        corr_mat = data.isnull().corr()\n",
    "        mask = np.zeros_like(corr_mat)\n",
    "        mask[np.triu_indices_from(mask)] = True\n",
    "\n",
    "        fig = go.Figure(go.Heatmap(\n",
    "            z=corr_mat.values,\n",
    "            x=corr_mat.columns,\n",
    "            y=corr_mat.columns,\n",
    "            zmin=-1,\n",
    "            zmax=1, \n",
    "            colorscale=colorcet.coolwarm\n",
    "        ), layout=go.Layout(\n",
    "            autosize=False,\n",
    "            width=800,\n",
    "            height=800,\n",
    "            title='Missing Value Correlations'\n",
    "        ))\n",
    "\n",
    "        fig.show()"
   ]
  },
  {
   "cell_type": "code",
   "execution_count": 540,
   "metadata": {},
   "outputs": [
    {
     "data": {
      "text/html": [
       "<div>\n",
       "<style scoped>\n",
       "    .dataframe tbody tr th:only-of-type {\n",
       "        vertical-align: middle;\n",
       "    }\n",
       "\n",
       "    .dataframe tbody tr th {\n",
       "        vertical-align: top;\n",
       "    }\n",
       "\n",
       "    .dataframe thead th {\n",
       "        text-align: right;\n",
       "    }\n",
       "</style>\n",
       "<table border=\"1\" class=\"dataframe\">\n",
       "  <thead>\n",
       "    <tr style=\"text-align: right;\">\n",
       "      <th></th>\n",
       "      <th>id</th>\n",
       "      <th>year</th>\n",
       "      <th>month</th>\n",
       "      <th>num1</th>\n",
       "      <th>num2</th>\n",
       "      <th>cat1</th>\n",
       "      <th>cat2</th>\n",
       "      <th>bin_target</th>\n",
       "      <th>multi_target</th>\n",
       "    </tr>\n",
       "  </thead>\n",
       "  <tbody>\n",
       "    <tr>\n",
       "      <th>0</th>\n",
       "      <td>A</td>\n",
       "      <td>2023</td>\n",
       "      <td>1.0</td>\n",
       "      <td>1002.398970</td>\n",
       "      <td>78.289810</td>\n",
       "      <td>c</td>\n",
       "      <td>A</td>\n",
       "      <td>0</td>\n",
       "      <td>-1</td>\n",
       "    </tr>\n",
       "    <tr>\n",
       "      <th>1</th>\n",
       "      <td>A</td>\n",
       "      <td>2023</td>\n",
       "      <td>2.0</td>\n",
       "      <td>945.292032</td>\n",
       "      <td>-48.193934</td>\n",
       "      <td>a</td>\n",
       "      <td>A</td>\n",
       "      <td>1</td>\n",
       "      <td>1</td>\n",
       "    </tr>\n",
       "    <tr>\n",
       "      <th>2</th>\n",
       "      <td>A</td>\n",
       "      <td>2023</td>\n",
       "      <td>3.0</td>\n",
       "      <td>803.047617</td>\n",
       "      <td>-31.003851</td>\n",
       "      <td>a</td>\n",
       "      <td>A</td>\n",
       "      <td>0</td>\n",
       "      <td>1</td>\n",
       "    </tr>\n",
       "    <tr>\n",
       "      <th>3</th>\n",
       "      <td>A</td>\n",
       "      <td>2023</td>\n",
       "      <td>4.0</td>\n",
       "      <td>837.898480</td>\n",
       "      <td>-319.630657</td>\n",
       "      <td>a</td>\n",
       "      <td>A</td>\n",
       "      <td>1</td>\n",
       "      <td>1</td>\n",
       "    </tr>\n",
       "    <tr>\n",
       "      <th>4</th>\n",
       "      <td>A</td>\n",
       "      <td>2023</td>\n",
       "      <td>5.0</td>\n",
       "      <td>842.321657</td>\n",
       "      <td>-16.540610</td>\n",
       "      <td>c</td>\n",
       "      <td>C</td>\n",
       "      <td>1</td>\n",
       "      <td>-1</td>\n",
       "    </tr>\n",
       "  </tbody>\n",
       "</table>\n",
       "</div>"
      ],
      "text/plain": [
       "  id  year  month         num1        num2 cat1 cat2  bin_target  multi_target\n",
       "0  A  2023    1.0  1002.398970   78.289810    c    A           0            -1\n",
       "1  A  2023    2.0   945.292032  -48.193934    a    A           1             1\n",
       "2  A  2023    3.0   803.047617  -31.003851    a    A           0             1\n",
       "3  A  2023    4.0   837.898480 -319.630657    a    A           1             1\n",
       "4  A  2023    5.0   842.321657  -16.540610    c    C           1            -1"
      ]
     },
     "execution_count": 540,
     "metadata": {},
     "output_type": "execute_result"
    }
   ],
   "source": [
    "df.head()"
   ]
  },
  {
   "cell_type": "code",
   "execution_count": 541,
   "metadata": {},
   "outputs": [],
   "source": [
    "p = PandasExplorer(\n",
    "    data=df, \n",
    "    target='cat1', \n",
    "    target_type='categorical',\n",
    ") "
   ]
  },
  {
   "cell_type": "code",
   "execution_count": 542,
   "metadata": {},
   "outputs": [
    {
     "data": {
      "text/html": [
       "<div>\n",
       "<style scoped>\n",
       "    .dataframe tbody tr th:only-of-type {\n",
       "        vertical-align: middle;\n",
       "    }\n",
       "\n",
       "    .dataframe tbody tr th {\n",
       "        vertical-align: top;\n",
       "    }\n",
       "\n",
       "    .dataframe thead th {\n",
       "        text-align: right;\n",
       "    }\n",
       "</style>\n",
       "<table border=\"1\" class=\"dataframe\">\n",
       "  <thead>\n",
       "    <tr style=\"text-align: right;\">\n",
       "      <th></th>\n",
       "      <th>num1</th>\n",
       "      <th>num2</th>\n",
       "    </tr>\n",
       "  </thead>\n",
       "  <tbody>\n",
       "    <tr>\n",
       "      <th>0.25</th>\n",
       "      <td>930.838386</td>\n",
       "      <td>-75.402901</td>\n",
       "    </tr>\n",
       "    <tr>\n",
       "      <th>0.50</th>\n",
       "      <td>1000.173187</td>\n",
       "      <td>-6.308107</td>\n",
       "    </tr>\n",
       "    <tr>\n",
       "      <th>0.75</th>\n",
       "      <td>1053.140438</td>\n",
       "      <td>62.329832</td>\n",
       "    </tr>\n",
       "  </tbody>\n",
       "</table>\n",
       "</div>"
      ],
      "text/plain": [
       "             num1       num2\n",
       "0.25   930.838386 -75.402901\n",
       "0.50  1000.173187  -6.308107\n",
       "0.75  1053.140438  62.329832"
      ]
     },
     "execution_count": 542,
     "metadata": {},
     "output_type": "execute_result"
    }
   ],
   "source": [
    "df[['num1', 'num2']].quantile((0.25, 0.50, 0.75))"
   ]
  },
  {
   "cell_type": "code",
   "execution_count": 543,
   "metadata": {},
   "outputs": [
    {
     "data": {
      "application/vnd.plotly.v1+json": {
       "config": {
        "plotlyServerURL": "https://plot.ly"
       },
       "data": [
        {
         "lowerfence": [
          837.3230100420785
         ],
         "marker": {
          "color": "#d60000"
         },
         "median": [
          1005.1249200254965
         ],
         "name": "Target: c",
         "q1": [
          931.9552045703053
         ],
         "q3": [
          1073.1172903244258
         ],
         "type": "box",
         "upperfence": [
          1152.0508216438038
         ],
         "x": [
          "c"
         ]
        },
        {
         "lowerfence": [
          780.1800308531903
         ],
         "marker": {
          "color": "#8c3bff"
         },
         "median": [
          987.7886864927763
         ],
         "name": "Target: a",
         "q1": [
          907.0878468814176
         ],
         "q3": [
          1045.2063721372854
         ],
         "type": "box",
         "upperfence": [
          1229.6570071452725
         ],
         "x": [
          "a"
         ]
        },
        {
         "lowerfence": [
          811.016062068148
         ],
         "marker": {
          "color": "#018700"
         },
         "median": [
          997.9474040470974
         ],
         "name": "Target: b",
         "q1": [
          939.7318763754294
         ],
         "q3": [
          1036.9919965972572
         ],
         "type": "box",
         "upperfence": [
          1277.4639468469586
         ],
         "x": [
          "b"
         ]
        }
       ],
       "layout": {
        "autosize": false,
        "height": 800,
        "template": {
         "data": {
          "bar": [
           {
            "error_x": {
             "color": "#2a3f5f"
            },
            "error_y": {
             "color": "#2a3f5f"
            },
            "marker": {
             "line": {
              "color": "#E5ECF6",
              "width": 0.5
             },
             "pattern": {
              "fillmode": "overlay",
              "size": 10,
              "solidity": 0.2
             }
            },
            "type": "bar"
           }
          ],
          "barpolar": [
           {
            "marker": {
             "line": {
              "color": "#E5ECF6",
              "width": 0.5
             },
             "pattern": {
              "fillmode": "overlay",
              "size": 10,
              "solidity": 0.2
             }
            },
            "type": "barpolar"
           }
          ],
          "carpet": [
           {
            "aaxis": {
             "endlinecolor": "#2a3f5f",
             "gridcolor": "white",
             "linecolor": "white",
             "minorgridcolor": "white",
             "startlinecolor": "#2a3f5f"
            },
            "baxis": {
             "endlinecolor": "#2a3f5f",
             "gridcolor": "white",
             "linecolor": "white",
             "minorgridcolor": "white",
             "startlinecolor": "#2a3f5f"
            },
            "type": "carpet"
           }
          ],
          "choropleth": [
           {
            "colorbar": {
             "outlinewidth": 0,
             "ticks": ""
            },
            "type": "choropleth"
           }
          ],
          "contour": [
           {
            "colorbar": {
             "outlinewidth": 0,
             "ticks": ""
            },
            "colorscale": [
             [
              0,
              "#0d0887"
             ],
             [
              0.1111111111111111,
              "#46039f"
             ],
             [
              0.2222222222222222,
              "#7201a8"
             ],
             [
              0.3333333333333333,
              "#9c179e"
             ],
             [
              0.4444444444444444,
              "#bd3786"
             ],
             [
              0.5555555555555556,
              "#d8576b"
             ],
             [
              0.6666666666666666,
              "#ed7953"
             ],
             [
              0.7777777777777778,
              "#fb9f3a"
             ],
             [
              0.8888888888888888,
              "#fdca26"
             ],
             [
              1,
              "#f0f921"
             ]
            ],
            "type": "contour"
           }
          ],
          "contourcarpet": [
           {
            "colorbar": {
             "outlinewidth": 0,
             "ticks": ""
            },
            "type": "contourcarpet"
           }
          ],
          "heatmap": [
           {
            "colorbar": {
             "outlinewidth": 0,
             "ticks": ""
            },
            "colorscale": [
             [
              0,
              "#0d0887"
             ],
             [
              0.1111111111111111,
              "#46039f"
             ],
             [
              0.2222222222222222,
              "#7201a8"
             ],
             [
              0.3333333333333333,
              "#9c179e"
             ],
             [
              0.4444444444444444,
              "#bd3786"
             ],
             [
              0.5555555555555556,
              "#d8576b"
             ],
             [
              0.6666666666666666,
              "#ed7953"
             ],
             [
              0.7777777777777778,
              "#fb9f3a"
             ],
             [
              0.8888888888888888,
              "#fdca26"
             ],
             [
              1,
              "#f0f921"
             ]
            ],
            "type": "heatmap"
           }
          ],
          "heatmapgl": [
           {
            "colorbar": {
             "outlinewidth": 0,
             "ticks": ""
            },
            "colorscale": [
             [
              0,
              "#0d0887"
             ],
             [
              0.1111111111111111,
              "#46039f"
             ],
             [
              0.2222222222222222,
              "#7201a8"
             ],
             [
              0.3333333333333333,
              "#9c179e"
             ],
             [
              0.4444444444444444,
              "#bd3786"
             ],
             [
              0.5555555555555556,
              "#d8576b"
             ],
             [
              0.6666666666666666,
              "#ed7953"
             ],
             [
              0.7777777777777778,
              "#fb9f3a"
             ],
             [
              0.8888888888888888,
              "#fdca26"
             ],
             [
              1,
              "#f0f921"
             ]
            ],
            "type": "heatmapgl"
           }
          ],
          "histogram": [
           {
            "marker": {
             "pattern": {
              "fillmode": "overlay",
              "size": 10,
              "solidity": 0.2
             }
            },
            "type": "histogram"
           }
          ],
          "histogram2d": [
           {
            "colorbar": {
             "outlinewidth": 0,
             "ticks": ""
            },
            "colorscale": [
             [
              0,
              "#0d0887"
             ],
             [
              0.1111111111111111,
              "#46039f"
             ],
             [
              0.2222222222222222,
              "#7201a8"
             ],
             [
              0.3333333333333333,
              "#9c179e"
             ],
             [
              0.4444444444444444,
              "#bd3786"
             ],
             [
              0.5555555555555556,
              "#d8576b"
             ],
             [
              0.6666666666666666,
              "#ed7953"
             ],
             [
              0.7777777777777778,
              "#fb9f3a"
             ],
             [
              0.8888888888888888,
              "#fdca26"
             ],
             [
              1,
              "#f0f921"
             ]
            ],
            "type": "histogram2d"
           }
          ],
          "histogram2dcontour": [
           {
            "colorbar": {
             "outlinewidth": 0,
             "ticks": ""
            },
            "colorscale": [
             [
              0,
              "#0d0887"
             ],
             [
              0.1111111111111111,
              "#46039f"
             ],
             [
              0.2222222222222222,
              "#7201a8"
             ],
             [
              0.3333333333333333,
              "#9c179e"
             ],
             [
              0.4444444444444444,
              "#bd3786"
             ],
             [
              0.5555555555555556,
              "#d8576b"
             ],
             [
              0.6666666666666666,
              "#ed7953"
             ],
             [
              0.7777777777777778,
              "#fb9f3a"
             ],
             [
              0.8888888888888888,
              "#fdca26"
             ],
             [
              1,
              "#f0f921"
             ]
            ],
            "type": "histogram2dcontour"
           }
          ],
          "mesh3d": [
           {
            "colorbar": {
             "outlinewidth": 0,
             "ticks": ""
            },
            "type": "mesh3d"
           }
          ],
          "parcoords": [
           {
            "line": {
             "colorbar": {
              "outlinewidth": 0,
              "ticks": ""
             }
            },
            "type": "parcoords"
           }
          ],
          "pie": [
           {
            "automargin": true,
            "type": "pie"
           }
          ],
          "scatter": [
           {
            "fillpattern": {
             "fillmode": "overlay",
             "size": 10,
             "solidity": 0.2
            },
            "type": "scatter"
           }
          ],
          "scatter3d": [
           {
            "line": {
             "colorbar": {
              "outlinewidth": 0,
              "ticks": ""
             }
            },
            "marker": {
             "colorbar": {
              "outlinewidth": 0,
              "ticks": ""
             }
            },
            "type": "scatter3d"
           }
          ],
          "scattercarpet": [
           {
            "marker": {
             "colorbar": {
              "outlinewidth": 0,
              "ticks": ""
             }
            },
            "type": "scattercarpet"
           }
          ],
          "scattergeo": [
           {
            "marker": {
             "colorbar": {
              "outlinewidth": 0,
              "ticks": ""
             }
            },
            "type": "scattergeo"
           }
          ],
          "scattergl": [
           {
            "marker": {
             "colorbar": {
              "outlinewidth": 0,
              "ticks": ""
             }
            },
            "type": "scattergl"
           }
          ],
          "scattermapbox": [
           {
            "marker": {
             "colorbar": {
              "outlinewidth": 0,
              "ticks": ""
             }
            },
            "type": "scattermapbox"
           }
          ],
          "scatterpolar": [
           {
            "marker": {
             "colorbar": {
              "outlinewidth": 0,
              "ticks": ""
             }
            },
            "type": "scatterpolar"
           }
          ],
          "scatterpolargl": [
           {
            "marker": {
             "colorbar": {
              "outlinewidth": 0,
              "ticks": ""
             }
            },
            "type": "scatterpolargl"
           }
          ],
          "scatterternary": [
           {
            "marker": {
             "colorbar": {
              "outlinewidth": 0,
              "ticks": ""
             }
            },
            "type": "scatterternary"
           }
          ],
          "surface": [
           {
            "colorbar": {
             "outlinewidth": 0,
             "ticks": ""
            },
            "colorscale": [
             [
              0,
              "#0d0887"
             ],
             [
              0.1111111111111111,
              "#46039f"
             ],
             [
              0.2222222222222222,
              "#7201a8"
             ],
             [
              0.3333333333333333,
              "#9c179e"
             ],
             [
              0.4444444444444444,
              "#bd3786"
             ],
             [
              0.5555555555555556,
              "#d8576b"
             ],
             [
              0.6666666666666666,
              "#ed7953"
             ],
             [
              0.7777777777777778,
              "#fb9f3a"
             ],
             [
              0.8888888888888888,
              "#fdca26"
             ],
             [
              1,
              "#f0f921"
             ]
            ],
            "type": "surface"
           }
          ],
          "table": [
           {
            "cells": {
             "fill": {
              "color": "#EBF0F8"
             },
             "line": {
              "color": "white"
             }
            },
            "header": {
             "fill": {
              "color": "#C8D4E3"
             },
             "line": {
              "color": "white"
             }
            },
            "type": "table"
           }
          ]
         },
         "layout": {
          "annotationdefaults": {
           "arrowcolor": "#2a3f5f",
           "arrowhead": 0,
           "arrowwidth": 1
          },
          "autotypenumbers": "strict",
          "coloraxis": {
           "colorbar": {
            "outlinewidth": 0,
            "ticks": ""
           }
          },
          "colorscale": {
           "diverging": [
            [
             0,
             "#8e0152"
            ],
            [
             0.1,
             "#c51b7d"
            ],
            [
             0.2,
             "#de77ae"
            ],
            [
             0.3,
             "#f1b6da"
            ],
            [
             0.4,
             "#fde0ef"
            ],
            [
             0.5,
             "#f7f7f7"
            ],
            [
             0.6,
             "#e6f5d0"
            ],
            [
             0.7,
             "#b8e186"
            ],
            [
             0.8,
             "#7fbc41"
            ],
            [
             0.9,
             "#4d9221"
            ],
            [
             1,
             "#276419"
            ]
           ],
           "sequential": [
            [
             0,
             "#0d0887"
            ],
            [
             0.1111111111111111,
             "#46039f"
            ],
            [
             0.2222222222222222,
             "#7201a8"
            ],
            [
             0.3333333333333333,
             "#9c179e"
            ],
            [
             0.4444444444444444,
             "#bd3786"
            ],
            [
             0.5555555555555556,
             "#d8576b"
            ],
            [
             0.6666666666666666,
             "#ed7953"
            ],
            [
             0.7777777777777778,
             "#fb9f3a"
            ],
            [
             0.8888888888888888,
             "#fdca26"
            ],
            [
             1,
             "#f0f921"
            ]
           ],
           "sequentialminus": [
            [
             0,
             "#0d0887"
            ],
            [
             0.1111111111111111,
             "#46039f"
            ],
            [
             0.2222222222222222,
             "#7201a8"
            ],
            [
             0.3333333333333333,
             "#9c179e"
            ],
            [
             0.4444444444444444,
             "#bd3786"
            ],
            [
             0.5555555555555556,
             "#d8576b"
            ],
            [
             0.6666666666666666,
             "#ed7953"
            ],
            [
             0.7777777777777778,
             "#fb9f3a"
            ],
            [
             0.8888888888888888,
             "#fdca26"
            ],
            [
             1,
             "#f0f921"
            ]
           ]
          },
          "colorway": [
           "#636efa",
           "#EF553B",
           "#00cc96",
           "#ab63fa",
           "#FFA15A",
           "#19d3f3",
           "#FF6692",
           "#B6E880",
           "#FF97FF",
           "#FECB52"
          ],
          "font": {
           "color": "#2a3f5f"
          },
          "geo": {
           "bgcolor": "white",
           "lakecolor": "white",
           "landcolor": "#E5ECF6",
           "showlakes": true,
           "showland": true,
           "subunitcolor": "white"
          },
          "hoverlabel": {
           "align": "left"
          },
          "hovermode": "closest",
          "mapbox": {
           "style": "light"
          },
          "paper_bgcolor": "white",
          "plot_bgcolor": "#E5ECF6",
          "polar": {
           "angularaxis": {
            "gridcolor": "white",
            "linecolor": "white",
            "ticks": ""
           },
           "bgcolor": "#E5ECF6",
           "radialaxis": {
            "gridcolor": "white",
            "linecolor": "white",
            "ticks": ""
           }
          },
          "scene": {
           "xaxis": {
            "backgroundcolor": "#E5ECF6",
            "gridcolor": "white",
            "gridwidth": 2,
            "linecolor": "white",
            "showbackground": true,
            "ticks": "",
            "zerolinecolor": "white"
           },
           "yaxis": {
            "backgroundcolor": "#E5ECF6",
            "gridcolor": "white",
            "gridwidth": 2,
            "linecolor": "white",
            "showbackground": true,
            "ticks": "",
            "zerolinecolor": "white"
           },
           "zaxis": {
            "backgroundcolor": "#E5ECF6",
            "gridcolor": "white",
            "gridwidth": 2,
            "linecolor": "white",
            "showbackground": true,
            "ticks": "",
            "zerolinecolor": "white"
           }
          },
          "shapedefaults": {
           "line": {
            "color": "#2a3f5f"
           }
          },
          "ternary": {
           "aaxis": {
            "gridcolor": "white",
            "linecolor": "white",
            "ticks": ""
           },
           "baxis": {
            "gridcolor": "white",
            "linecolor": "white",
            "ticks": ""
           },
           "bgcolor": "#E5ECF6",
           "caxis": {
            "gridcolor": "white",
            "linecolor": "white",
            "ticks": ""
           }
          },
          "title": {
           "x": 0.05
          },
          "xaxis": {
           "automargin": true,
           "gridcolor": "white",
           "linecolor": "white",
           "ticks": "",
           "title": {
            "standoff": 15
           },
           "zerolinecolor": "white",
           "zerolinewidth": 2
          },
          "yaxis": {
           "automargin": true,
           "gridcolor": "white",
           "linecolor": "white",
           "ticks": "",
           "title": {
            "standoff": 15
           },
           "zerolinecolor": "white",
           "zerolinewidth": 2
          }
         }
        },
        "title": {
         "text": "num1"
        },
        "width": 800
       }
      }
     },
     "metadata": {},
     "output_type": "display_data"
    }
   ],
   "source": [
    "p.plot_box(cols=['num1'])"
   ]
  },
  {
   "cell_type": "code",
   "execution_count": 544,
   "metadata": {},
   "outputs": [
    {
     "data": {
      "application/vnd.plotly.v1+json": {
       "config": {
        "plotlyServerURL": "https://plot.ly"
       },
       "data": [
        {
         "marker": {
          "color": "#d60000"
         },
         "name": "Target: c",
         "type": "bar",
         "x": [
          834.3872966587058,
          869.1588506995176,
          903.9304047403295,
          938.7019587811413,
          973.4735128219531,
          1008.245066862765,
          1043.016620903577,
          1077.7881749443886,
          1112.5597289852005,
          1147.3312830260124,
          1182.1028370668241
         ],
         "y": [
          4,
          2,
          7,
          1,
          6,
          3,
          6,
          8,
          0,
          1
         ]
        },
        {
         "marker": {
          "color": "#8c3bff"
         },
         "name": "Target: a",
         "type": "bar",
         "x": [
          769.4188139185309,
          816.9611720331,
          864.5035301476689,
          912.0458882622379,
          959.588246376807,
          1007.1306044913761,
          1054.672962605945,
          1102.215320720514,
          1149.757678835083,
          1197.3000369496522,
          1244.8423950642211
         ],
         "y": [
          3,
          3,
          4,
          5,
          2,
          9,
          4,
          0,
          1,
          2
         ]
        },
        {
         "marker": {
          "color": "#018700"
         },
         "name": "Target: b",
         "type": "bar",
         "x": [
          798.3683489335656,
          849.3951799375955,
          900.4220109416253,
          951.4488419456552,
          1002.4756729496851,
          1053.502503953715,
          1104.5293349577448,
          1155.5561659617747,
          1206.5829969658046,
          1257.6098279698344,
          1308.6366589738643
         ],
         "y": [
          2,
          1,
          6,
          6,
          8,
          3,
          1,
          1,
          0,
          1
         ]
        }
       ],
       "layout": {
        "autosize": false,
        "height": 800,
        "template": {
         "data": {
          "bar": [
           {
            "error_x": {
             "color": "#2a3f5f"
            },
            "error_y": {
             "color": "#2a3f5f"
            },
            "marker": {
             "line": {
              "color": "#E5ECF6",
              "width": 0.5
             },
             "pattern": {
              "fillmode": "overlay",
              "size": 10,
              "solidity": 0.2
             }
            },
            "type": "bar"
           }
          ],
          "barpolar": [
           {
            "marker": {
             "line": {
              "color": "#E5ECF6",
              "width": 0.5
             },
             "pattern": {
              "fillmode": "overlay",
              "size": 10,
              "solidity": 0.2
             }
            },
            "type": "barpolar"
           }
          ],
          "carpet": [
           {
            "aaxis": {
             "endlinecolor": "#2a3f5f",
             "gridcolor": "white",
             "linecolor": "white",
             "minorgridcolor": "white",
             "startlinecolor": "#2a3f5f"
            },
            "baxis": {
             "endlinecolor": "#2a3f5f",
             "gridcolor": "white",
             "linecolor": "white",
             "minorgridcolor": "white",
             "startlinecolor": "#2a3f5f"
            },
            "type": "carpet"
           }
          ],
          "choropleth": [
           {
            "colorbar": {
             "outlinewidth": 0,
             "ticks": ""
            },
            "type": "choropleth"
           }
          ],
          "contour": [
           {
            "colorbar": {
             "outlinewidth": 0,
             "ticks": ""
            },
            "colorscale": [
             [
              0,
              "#0d0887"
             ],
             [
              0.1111111111111111,
              "#46039f"
             ],
             [
              0.2222222222222222,
              "#7201a8"
             ],
             [
              0.3333333333333333,
              "#9c179e"
             ],
             [
              0.4444444444444444,
              "#bd3786"
             ],
             [
              0.5555555555555556,
              "#d8576b"
             ],
             [
              0.6666666666666666,
              "#ed7953"
             ],
             [
              0.7777777777777778,
              "#fb9f3a"
             ],
             [
              0.8888888888888888,
              "#fdca26"
             ],
             [
              1,
              "#f0f921"
             ]
            ],
            "type": "contour"
           }
          ],
          "contourcarpet": [
           {
            "colorbar": {
             "outlinewidth": 0,
             "ticks": ""
            },
            "type": "contourcarpet"
           }
          ],
          "heatmap": [
           {
            "colorbar": {
             "outlinewidth": 0,
             "ticks": ""
            },
            "colorscale": [
             [
              0,
              "#0d0887"
             ],
             [
              0.1111111111111111,
              "#46039f"
             ],
             [
              0.2222222222222222,
              "#7201a8"
             ],
             [
              0.3333333333333333,
              "#9c179e"
             ],
             [
              0.4444444444444444,
              "#bd3786"
             ],
             [
              0.5555555555555556,
              "#d8576b"
             ],
             [
              0.6666666666666666,
              "#ed7953"
             ],
             [
              0.7777777777777778,
              "#fb9f3a"
             ],
             [
              0.8888888888888888,
              "#fdca26"
             ],
             [
              1,
              "#f0f921"
             ]
            ],
            "type": "heatmap"
           }
          ],
          "heatmapgl": [
           {
            "colorbar": {
             "outlinewidth": 0,
             "ticks": ""
            },
            "colorscale": [
             [
              0,
              "#0d0887"
             ],
             [
              0.1111111111111111,
              "#46039f"
             ],
             [
              0.2222222222222222,
              "#7201a8"
             ],
             [
              0.3333333333333333,
              "#9c179e"
             ],
             [
              0.4444444444444444,
              "#bd3786"
             ],
             [
              0.5555555555555556,
              "#d8576b"
             ],
             [
              0.6666666666666666,
              "#ed7953"
             ],
             [
              0.7777777777777778,
              "#fb9f3a"
             ],
             [
              0.8888888888888888,
              "#fdca26"
             ],
             [
              1,
              "#f0f921"
             ]
            ],
            "type": "heatmapgl"
           }
          ],
          "histogram": [
           {
            "marker": {
             "pattern": {
              "fillmode": "overlay",
              "size": 10,
              "solidity": 0.2
             }
            },
            "type": "histogram"
           }
          ],
          "histogram2d": [
           {
            "colorbar": {
             "outlinewidth": 0,
             "ticks": ""
            },
            "colorscale": [
             [
              0,
              "#0d0887"
             ],
             [
              0.1111111111111111,
              "#46039f"
             ],
             [
              0.2222222222222222,
              "#7201a8"
             ],
             [
              0.3333333333333333,
              "#9c179e"
             ],
             [
              0.4444444444444444,
              "#bd3786"
             ],
             [
              0.5555555555555556,
              "#d8576b"
             ],
             [
              0.6666666666666666,
              "#ed7953"
             ],
             [
              0.7777777777777778,
              "#fb9f3a"
             ],
             [
              0.8888888888888888,
              "#fdca26"
             ],
             [
              1,
              "#f0f921"
             ]
            ],
            "type": "histogram2d"
           }
          ],
          "histogram2dcontour": [
           {
            "colorbar": {
             "outlinewidth": 0,
             "ticks": ""
            },
            "colorscale": [
             [
              0,
              "#0d0887"
             ],
             [
              0.1111111111111111,
              "#46039f"
             ],
             [
              0.2222222222222222,
              "#7201a8"
             ],
             [
              0.3333333333333333,
              "#9c179e"
             ],
             [
              0.4444444444444444,
              "#bd3786"
             ],
             [
              0.5555555555555556,
              "#d8576b"
             ],
             [
              0.6666666666666666,
              "#ed7953"
             ],
             [
              0.7777777777777778,
              "#fb9f3a"
             ],
             [
              0.8888888888888888,
              "#fdca26"
             ],
             [
              1,
              "#f0f921"
             ]
            ],
            "type": "histogram2dcontour"
           }
          ],
          "mesh3d": [
           {
            "colorbar": {
             "outlinewidth": 0,
             "ticks": ""
            },
            "type": "mesh3d"
           }
          ],
          "parcoords": [
           {
            "line": {
             "colorbar": {
              "outlinewidth": 0,
              "ticks": ""
             }
            },
            "type": "parcoords"
           }
          ],
          "pie": [
           {
            "automargin": true,
            "type": "pie"
           }
          ],
          "scatter": [
           {
            "fillpattern": {
             "fillmode": "overlay",
             "size": 10,
             "solidity": 0.2
            },
            "type": "scatter"
           }
          ],
          "scatter3d": [
           {
            "line": {
             "colorbar": {
              "outlinewidth": 0,
              "ticks": ""
             }
            },
            "marker": {
             "colorbar": {
              "outlinewidth": 0,
              "ticks": ""
             }
            },
            "type": "scatter3d"
           }
          ],
          "scattercarpet": [
           {
            "marker": {
             "colorbar": {
              "outlinewidth": 0,
              "ticks": ""
             }
            },
            "type": "scattercarpet"
           }
          ],
          "scattergeo": [
           {
            "marker": {
             "colorbar": {
              "outlinewidth": 0,
              "ticks": ""
             }
            },
            "type": "scattergeo"
           }
          ],
          "scattergl": [
           {
            "marker": {
             "colorbar": {
              "outlinewidth": 0,
              "ticks": ""
             }
            },
            "type": "scattergl"
           }
          ],
          "scattermapbox": [
           {
            "marker": {
             "colorbar": {
              "outlinewidth": 0,
              "ticks": ""
             }
            },
            "type": "scattermapbox"
           }
          ],
          "scatterpolar": [
           {
            "marker": {
             "colorbar": {
              "outlinewidth": 0,
              "ticks": ""
             }
            },
            "type": "scatterpolar"
           }
          ],
          "scatterpolargl": [
           {
            "marker": {
             "colorbar": {
              "outlinewidth": 0,
              "ticks": ""
             }
            },
            "type": "scatterpolargl"
           }
          ],
          "scatterternary": [
           {
            "marker": {
             "colorbar": {
              "outlinewidth": 0,
              "ticks": ""
             }
            },
            "type": "scatterternary"
           }
          ],
          "surface": [
           {
            "colorbar": {
             "outlinewidth": 0,
             "ticks": ""
            },
            "colorscale": [
             [
              0,
              "#0d0887"
             ],
             [
              0.1111111111111111,
              "#46039f"
             ],
             [
              0.2222222222222222,
              "#7201a8"
             ],
             [
              0.3333333333333333,
              "#9c179e"
             ],
             [
              0.4444444444444444,
              "#bd3786"
             ],
             [
              0.5555555555555556,
              "#d8576b"
             ],
             [
              0.6666666666666666,
              "#ed7953"
             ],
             [
              0.7777777777777778,
              "#fb9f3a"
             ],
             [
              0.8888888888888888,
              "#fdca26"
             ],
             [
              1,
              "#f0f921"
             ]
            ],
            "type": "surface"
           }
          ],
          "table": [
           {
            "cells": {
             "fill": {
              "color": "#EBF0F8"
             },
             "line": {
              "color": "white"
             }
            },
            "header": {
             "fill": {
              "color": "#C8D4E3"
             },
             "line": {
              "color": "white"
             }
            },
            "type": "table"
           }
          ]
         },
         "layout": {
          "annotationdefaults": {
           "arrowcolor": "#2a3f5f",
           "arrowhead": 0,
           "arrowwidth": 1
          },
          "autotypenumbers": "strict",
          "coloraxis": {
           "colorbar": {
            "outlinewidth": 0,
            "ticks": ""
           }
          },
          "colorscale": {
           "diverging": [
            [
             0,
             "#8e0152"
            ],
            [
             0.1,
             "#c51b7d"
            ],
            [
             0.2,
             "#de77ae"
            ],
            [
             0.3,
             "#f1b6da"
            ],
            [
             0.4,
             "#fde0ef"
            ],
            [
             0.5,
             "#f7f7f7"
            ],
            [
             0.6,
             "#e6f5d0"
            ],
            [
             0.7,
             "#b8e186"
            ],
            [
             0.8,
             "#7fbc41"
            ],
            [
             0.9,
             "#4d9221"
            ],
            [
             1,
             "#276419"
            ]
           ],
           "sequential": [
            [
             0,
             "#0d0887"
            ],
            [
             0.1111111111111111,
             "#46039f"
            ],
            [
             0.2222222222222222,
             "#7201a8"
            ],
            [
             0.3333333333333333,
             "#9c179e"
            ],
            [
             0.4444444444444444,
             "#bd3786"
            ],
            [
             0.5555555555555556,
             "#d8576b"
            ],
            [
             0.6666666666666666,
             "#ed7953"
            ],
            [
             0.7777777777777778,
             "#fb9f3a"
            ],
            [
             0.8888888888888888,
             "#fdca26"
            ],
            [
             1,
             "#f0f921"
            ]
           ],
           "sequentialminus": [
            [
             0,
             "#0d0887"
            ],
            [
             0.1111111111111111,
             "#46039f"
            ],
            [
             0.2222222222222222,
             "#7201a8"
            ],
            [
             0.3333333333333333,
             "#9c179e"
            ],
            [
             0.4444444444444444,
             "#bd3786"
            ],
            [
             0.5555555555555556,
             "#d8576b"
            ],
            [
             0.6666666666666666,
             "#ed7953"
            ],
            [
             0.7777777777777778,
             "#fb9f3a"
            ],
            [
             0.8888888888888888,
             "#fdca26"
            ],
            [
             1,
             "#f0f921"
            ]
           ]
          },
          "colorway": [
           "#636efa",
           "#EF553B",
           "#00cc96",
           "#ab63fa",
           "#FFA15A",
           "#19d3f3",
           "#FF6692",
           "#B6E880",
           "#FF97FF",
           "#FECB52"
          ],
          "font": {
           "color": "#2a3f5f"
          },
          "geo": {
           "bgcolor": "white",
           "lakecolor": "white",
           "landcolor": "#E5ECF6",
           "showlakes": true,
           "showland": true,
           "subunitcolor": "white"
          },
          "hoverlabel": {
           "align": "left"
          },
          "hovermode": "closest",
          "mapbox": {
           "style": "light"
          },
          "paper_bgcolor": "white",
          "plot_bgcolor": "#E5ECF6",
          "polar": {
           "angularaxis": {
            "gridcolor": "white",
            "linecolor": "white",
            "ticks": ""
           },
           "bgcolor": "#E5ECF6",
           "radialaxis": {
            "gridcolor": "white",
            "linecolor": "white",
            "ticks": ""
           }
          },
          "scene": {
           "xaxis": {
            "backgroundcolor": "#E5ECF6",
            "gridcolor": "white",
            "gridwidth": 2,
            "linecolor": "white",
            "showbackground": true,
            "ticks": "",
            "zerolinecolor": "white"
           },
           "yaxis": {
            "backgroundcolor": "#E5ECF6",
            "gridcolor": "white",
            "gridwidth": 2,
            "linecolor": "white",
            "showbackground": true,
            "ticks": "",
            "zerolinecolor": "white"
           },
           "zaxis": {
            "backgroundcolor": "#E5ECF6",
            "gridcolor": "white",
            "gridwidth": 2,
            "linecolor": "white",
            "showbackground": true,
            "ticks": "",
            "zerolinecolor": "white"
           }
          },
          "shapedefaults": {
           "line": {
            "color": "#2a3f5f"
           }
          },
          "ternary": {
           "aaxis": {
            "gridcolor": "white",
            "linecolor": "white",
            "ticks": ""
           },
           "baxis": {
            "gridcolor": "white",
            "linecolor": "white",
            "ticks": ""
           },
           "bgcolor": "#E5ECF6",
           "caxis": {
            "gridcolor": "white",
            "linecolor": "white",
            "ticks": ""
           }
          },
          "title": {
           "x": 0.05
          },
          "xaxis": {
           "automargin": true,
           "gridcolor": "white",
           "linecolor": "white",
           "ticks": "",
           "title": {
            "standoff": 15
           },
           "zerolinecolor": "white",
           "zerolinewidth": 2
          },
          "yaxis": {
           "automargin": true,
           "gridcolor": "white",
           "linecolor": "white",
           "ticks": "",
           "title": {
            "standoff": 15
           },
           "zerolinecolor": "white",
           "zerolinewidth": 2
          }
         }
        },
        "title": {
         "text": "num1"
        },
        "width": 800
       }
      }
     },
     "metadata": {},
     "output_type": "display_data"
    }
   ],
   "source": [
    "p.plot_hist(['num1'], n_bins=10)"
   ]
  },
  {
   "cell_type": "code",
   "execution_count": null,
   "metadata": {},
   "outputs": [],
   "source": []
  },
  {
   "cell_type": "code",
   "execution_count": 545,
   "metadata": {},
   "outputs": [
    {
     "data": {
      "application/vnd.plotly.v1+json": {
       "config": {
        "plotlyServerURL": "https://plot.ly"
       },
       "data": [
        {
         "colorscale": [
          [
           0,
           "#2050da"
          ],
          [
           0.00392156862745098,
           "#2551db"
          ],
          [
           0.00784313725490196,
           "#2952db"
          ],
          [
           0.011764705882352941,
           "#2d53db"
          ],
          [
           0.01568627450980392,
           "#3155db"
          ],
          [
           0.0196078431372549,
           "#3456db"
          ],
          [
           0.023529411764705882,
           "#3857dc"
          ],
          [
           0.027450980392156862,
           "#3b58dc"
          ],
          [
           0.03137254901960784,
           "#3d59dc"
          ],
          [
           0.03529411764705882,
           "#405adc"
          ],
          [
           0.0392156862745098,
           "#435bdd"
          ],
          [
           0.043137254901960784,
           "#455cdd"
          ],
          [
           0.047058823529411764,
           "#485ddd"
          ],
          [
           0.050980392156862744,
           "#4a5fdd"
          ],
          [
           0.054901960784313725,
           "#4d60dd"
          ],
          [
           0.058823529411764705,
           "#4f61de"
          ],
          [
           0.06274509803921569,
           "#5162de"
          ],
          [
           0.06666666666666667,
           "#5363de"
          ],
          [
           0.07058823529411765,
           "#5664de"
          ],
          [
           0.07450980392156863,
           "#5865de"
          ],
          [
           0.0784313725490196,
           "#5a67df"
          ],
          [
           0.08235294117647059,
           "#5c68df"
          ],
          [
           0.08627450980392157,
           "#5e69df"
          ],
          [
           0.09019607843137255,
           "#606adf"
          ],
          [
           0.09411764705882353,
           "#616be0"
          ],
          [
           0.09803921568627451,
           "#636ce0"
          ],
          [
           0.10196078431372549,
           "#656ee0"
          ],
          [
           0.10588235294117647,
           "#676fe0"
          ],
          [
           0.10980392156862745,
           "#6970e0"
          ],
          [
           0.11372549019607843,
           "#6b71e1"
          ],
          [
           0.11764705882352941,
           "#6c72e1"
          ],
          [
           0.12156862745098039,
           "#6e74e1"
          ],
          [
           0.12549019607843137,
           "#7075e1"
          ],
          [
           0.12941176470588237,
           "#7176e1"
          ],
          [
           0.13333333333333333,
           "#7377e2"
          ],
          [
           0.13725490196078433,
           "#7578e2"
          ],
          [
           0.1411764705882353,
           "#7679e2"
          ],
          [
           0.1450980392156863,
           "#787be2"
          ],
          [
           0.14901960784313725,
           "#7a7ce2"
          ],
          [
           0.15294117647058825,
           "#7b7de2"
          ],
          [
           0.1568627450980392,
           "#7d7ee3"
          ],
          [
           0.1607843137254902,
           "#7e7fe3"
          ],
          [
           0.16470588235294117,
           "#8081e3"
          ],
          [
           0.16862745098039217,
           "#8282e3"
          ],
          [
           0.17254901960784313,
           "#8383e3"
          ],
          [
           0.17647058823529413,
           "#8584e4"
          ],
          [
           0.1803921568627451,
           "#8686e4"
          ],
          [
           0.1843137254901961,
           "#8887e4"
          ],
          [
           0.18823529411764706,
           "#8988e4"
          ],
          [
           0.19215686274509805,
           "#8b89e4"
          ],
          [
           0.19607843137254902,
           "#8c8ae5"
          ],
          [
           0.2,
           "#8e8ce5"
          ],
          [
           0.20392156862745098,
           "#8f8de5"
          ],
          [
           0.20784313725490197,
           "#908ee5"
          ],
          [
           0.21176470588235294,
           "#928fe5"
          ],
          [
           0.21568627450980393,
           "#9391e5"
          ],
          [
           0.2196078431372549,
           "#9592e6"
          ],
          [
           0.2235294117647059,
           "#9693e6"
          ],
          [
           0.22745098039215686,
           "#9894e6"
          ],
          [
           0.23137254901960785,
           "#9996e6"
          ],
          [
           0.23529411764705882,
           "#9a97e6"
          ],
          [
           0.23921568627450981,
           "#9c98e7"
          ],
          [
           0.24313725490196078,
           "#9d99e7"
          ],
          [
           0.24705882352941178,
           "#9e9be7"
          ],
          [
           0.25098039215686274,
           "#a09ce7"
          ],
          [
           0.2549019607843137,
           "#a19de7"
          ],
          [
           0.25882352941176473,
           "#a39ee7"
          ],
          [
           0.2627450980392157,
           "#a4a0e8"
          ],
          [
           0.26666666666666666,
           "#a5a1e8"
          ],
          [
           0.27058823529411763,
           "#a7a2e8"
          ],
          [
           0.27450980392156865,
           "#a8a3e8"
          ],
          [
           0.2784313725490196,
           "#a9a5e8"
          ],
          [
           0.2823529411764706,
           "#aba6e8"
          ],
          [
           0.28627450980392155,
           "#aca7e9"
          ],
          [
           0.2901960784313726,
           "#ada8e9"
          ],
          [
           0.29411764705882354,
           "#afaae9"
          ],
          [
           0.2980392156862745,
           "#b0abe9"
          ],
          [
           0.30196078431372547,
           "#b1ace9"
          ],
          [
           0.3058823529411765,
           "#b2aee9"
          ],
          [
           0.30980392156862746,
           "#b4afea"
          ],
          [
           0.3137254901960784,
           "#b5b0ea"
          ],
          [
           0.3176470588235294,
           "#b6b1ea"
          ],
          [
           0.3215686274509804,
           "#b8b3ea"
          ],
          [
           0.3254901960784314,
           "#b9b4ea"
          ],
          [
           0.32941176470588235,
           "#bab5ea"
          ],
          [
           0.3333333333333333,
           "#bbb7ea"
          ],
          [
           0.33725490196078434,
           "#bdb8eb"
          ],
          [
           0.3411764705882353,
           "#beb9eb"
          ],
          [
           0.34509803921568627,
           "#bfbaeb"
          ],
          [
           0.34901960784313724,
           "#c0bceb"
          ],
          [
           0.35294117647058826,
           "#c2bdeb"
          ],
          [
           0.3568627450980392,
           "#c3beeb"
          ],
          [
           0.3607843137254902,
           "#c4c0ec"
          ],
          [
           0.36470588235294116,
           "#c5c1ec"
          ],
          [
           0.3686274509803922,
           "#c7c2ec"
          ],
          [
           0.37254901960784315,
           "#c8c4ec"
          ],
          [
           0.3764705882352941,
           "#c9c5ec"
          ],
          [
           0.3803921568627451,
           "#cac6ec"
          ],
          [
           0.3843137254901961,
           "#ccc8ec"
          ],
          [
           0.38823529411764707,
           "#cdc9ec"
          ],
          [
           0.39215686274509803,
           "#cecaed"
          ],
          [
           0.396078431372549,
           "#cfcbed"
          ],
          [
           0.4,
           "#d1cded"
          ],
          [
           0.403921568627451,
           "#d2ceed"
          ],
          [
           0.40784313725490196,
           "#d3cfed"
          ],
          [
           0.4117647058823529,
           "#d4d1ed"
          ],
          [
           0.41568627450980394,
           "#d5d2ed"
          ],
          [
           0.4196078431372549,
           "#d7d3ee"
          ],
          [
           0.4235294117647059,
           "#d8d5ee"
          ],
          [
           0.42745098039215684,
           "#d9d6ee"
          ],
          [
           0.43137254901960786,
           "#dad7ee"
          ],
          [
           0.43529411764705883,
           "#dbd9ee"
          ],
          [
           0.4392156862745098,
           "#dddaee"
          ],
          [
           0.44313725490196076,
           "#dedbee"
          ],
          [
           0.4470588235294118,
           "#dfddee"
          ],
          [
           0.45098039215686275,
           "#e0deee"
          ],
          [
           0.4549019607843137,
           "#e1dfee"
          ],
          [
           0.4588235294117647,
           "#e3e0ee"
          ],
          [
           0.4627450980392157,
           "#e4e1ee"
          ],
          [
           0.4666666666666667,
           "#e5e2ee"
          ],
          [
           0.47058823529411764,
           "#e6e3ee"
          ],
          [
           0.4745098039215686,
           "#e7e4ee"
          ],
          [
           0.47843137254901963,
           "#e8e5ed"
          ],
          [
           0.4823529411764706,
           "#e9e6ed"
          ],
          [
           0.48627450980392156,
           "#eae6ec"
          ],
          [
           0.49019607843137253,
           "#ebe7ec"
          ],
          [
           0.49411764705882355,
           "#ece7eb"
          ],
          [
           0.4980392156862745,
           "#ece7ea"
          ],
          [
           0.5019607843137255,
           "#ede7e9"
          ],
          [
           0.5058823529411764,
           "#eee6e8"
          ],
          [
           0.5098039215686274,
           "#eee6e6"
          ],
          [
           0.5137254901960784,
           "#efe5e5"
          ],
          [
           0.5176470588235295,
           "#efe5e4"
          ],
          [
           0.5215686274509804,
           "#f0e4e2"
          ],
          [
           0.5254901960784314,
           "#f0e3e0"
          ],
          [
           0.5294117647058824,
           "#f0e2df"
          ],
          [
           0.5333333333333333,
           "#f1e0dd"
          ],
          [
           0.5372549019607843,
           "#f1dfdb"
          ],
          [
           0.5411764705882353,
           "#f1ded9"
          ],
          [
           0.5450980392156862,
           "#f1dcd7"
          ],
          [
           0.5490196078431373,
           "#f1dbd6"
          ],
          [
           0.5529411764705883,
           "#f1d9d4"
          ],
          [
           0.5568627450980392,
           "#f1d8d2"
          ],
          [
           0.5607843137254902,
           "#f1d6d0"
          ],
          [
           0.5647058823529412,
           "#f1d5ce"
          ],
          [
           0.5686274509803921,
           "#f1d3cc"
          ],
          [
           0.5725490196078431,
           "#f1d2ca"
          ],
          [
           0.5764705882352941,
           "#f1d0c8"
          ],
          [
           0.5803921568627451,
           "#f1cfc6"
          ],
          [
           0.5843137254901961,
           "#f1cdc4"
          ],
          [
           0.5882352941176471,
           "#f1ccc2"
          ],
          [
           0.592156862745098,
           "#f1cac0"
          ],
          [
           0.596078431372549,
           "#f1c9bf"
          ],
          [
           0.6,
           "#f1c7bd"
          ],
          [
           0.6039215686274509,
           "#f1c5bb"
          ],
          [
           0.6078431372549019,
           "#f1c4b9"
          ],
          [
           0.611764705882353,
           "#f0c2b7"
          ],
          [
           0.615686274509804,
           "#f0c1b5"
          ],
          [
           0.6196078431372549,
           "#f0bfb3"
          ],
          [
           0.6235294117647059,
           "#f0beb1"
          ],
          [
           0.6274509803921569,
           "#f0bcaf"
          ],
          [
           0.6313725490196078,
           "#f0bbad"
          ],
          [
           0.6352941176470588,
           "#efb9ac"
          ],
          [
           0.6392156862745098,
           "#efb7aa"
          ],
          [
           0.6431372549019608,
           "#efb6a8"
          ],
          [
           0.6470588235294118,
           "#efb4a6"
          ],
          [
           0.6509803921568628,
           "#efb3a4"
          ],
          [
           0.6549019607843137,
           "#eeb1a2"
          ],
          [
           0.6588235294117647,
           "#eeb0a0"
          ],
          [
           0.6627450980392157,
           "#eeae9e"
          ],
          [
           0.6666666666666666,
           "#eead9d"
          ],
          [
           0.6705882352941176,
           "#edab9b"
          ],
          [
           0.6745098039215687,
           "#eda999"
          ],
          [
           0.6784313725490196,
           "#eda897"
          ],
          [
           0.6823529411764706,
           "#eda695"
          ],
          [
           0.6862745098039216,
           "#eca593"
          ],
          [
           0.6901960784313725,
           "#eca391"
          ],
          [
           0.6941176470588235,
           "#eca290"
          ],
          [
           0.6980392156862745,
           "#eba08e"
          ],
          [
           0.7019607843137254,
           "#eb9f8c"
          ],
          [
           0.7058823529411765,
           "#eb9d8a"
          ],
          [
           0.7098039215686275,
           "#ea9b88"
          ],
          [
           0.7137254901960784,
           "#ea9a87"
          ],
          [
           0.7176470588235294,
           "#ea9885"
          ],
          [
           0.7215686274509804,
           "#e99783"
          ],
          [
           0.7254901960784313,
           "#e99581"
          ],
          [
           0.7294117647058823,
           "#e9947f"
          ],
          [
           0.7333333333333333,
           "#e8927d"
          ],
          [
           0.7372549019607844,
           "#e8907c"
          ],
          [
           0.7411764705882353,
           "#e88f7a"
          ],
          [
           0.7450980392156863,
           "#e78d78"
          ],
          [
           0.7490196078431373,
           "#e78c76"
          ],
          [
           0.7529411764705882,
           "#e68a75"
          ],
          [
           0.7568627450980392,
           "#e68973"
          ],
          [
           0.7607843137254902,
           "#e58771"
          ],
          [
           0.7647058823529411,
           "#e5856f"
          ],
          [
           0.7686274509803922,
           "#e5846d"
          ],
          [
           0.7725490196078432,
           "#e4826c"
          ],
          [
           0.7764705882352941,
           "#e4816a"
          ],
          [
           0.7803921568627451,
           "#e37f68"
          ],
          [
           0.7843137254901961,
           "#e37d66"
          ],
          [
           0.788235294117647,
           "#e27c65"
          ],
          [
           0.792156862745098,
           "#e27a63"
          ],
          [
           0.796078431372549,
           "#e17961"
          ],
          [
           0.8,
           "#e1775f"
          ],
          [
           0.803921568627451,
           "#e0755e"
          ],
          [
           0.807843137254902,
           "#e0745c"
          ],
          [
           0.8117647058823529,
           "#df725a"
          ],
          [
           0.8156862745098039,
           "#df7158"
          ],
          [
           0.8196078431372549,
           "#de6f57"
          ],
          [
           0.8235294117647058,
           "#de6d55"
          ],
          [
           0.8274509803921568,
           "#dd6c53"
          ],
          [
           0.8313725490196079,
           "#dd6a52"
          ],
          [
           0.8352941176470589,
           "#dc6850"
          ],
          [
           0.8392156862745098,
           "#db674e"
          ],
          [
           0.8431372549019608,
           "#db654c"
          ],
          [
           0.8470588235294118,
           "#da634b"
          ],
          [
           0.8509803921568627,
           "#da6249"
          ],
          [
           0.8549019607843137,
           "#d96047"
          ],
          [
           0.8588235294117647,
           "#d95e46"
          ],
          [
           0.8627450980392157,
           "#d85d44"
          ],
          [
           0.8666666666666667,
           "#d75b42"
          ],
          [
           0.8705882352941177,
           "#d75940"
          ],
          [
           0.8745098039215686,
           "#d6573f"
          ],
          [
           0.8784313725490196,
           "#d5563d"
          ],
          [
           0.8823529411764706,
           "#d5543b"
          ],
          [
           0.8862745098039215,
           "#d4523a"
          ],
          [
           0.8901960784313725,
           "#d45038"
          ],
          [
           0.8941176470588236,
           "#d34e36"
          ],
          [
           0.8980392156862745,
           "#d24d35"
          ],
          [
           0.9019607843137255,
           "#d24b33"
          ],
          [
           0.9058823529411765,
           "#d14931"
          ],
          [
           0.9098039215686274,
           "#d04730"
          ],
          [
           0.9137254901960784,
           "#d0452e"
          ],
          [
           0.9176470588235294,
           "#cf432c"
          ],
          [
           0.9215686274509803,
           "#ce412a"
          ],
          [
           0.9254901960784314,
           "#ce3f29"
          ],
          [
           0.9294117647058824,
           "#cd3d27"
          ],
          [
           0.9333333333333333,
           "#cc3b25"
          ],
          [
           0.9372549019607843,
           "#cb3924"
          ],
          [
           0.9411764705882353,
           "#cb3722"
          ],
          [
           0.9450980392156862,
           "#ca3420"
          ],
          [
           0.9490196078431372,
           "#c9321e"
          ],
          [
           0.9529411764705882,
           "#c9301d"
          ],
          [
           0.9568627450980393,
           "#c82d1b"
          ],
          [
           0.9607843137254902,
           "#c72b19"
          ],
          [
           0.9647058823529412,
           "#c62817"
          ],
          [
           0.9686274509803922,
           "#c62515"
          ],
          [
           0.9725490196078431,
           "#c52214"
          ],
          [
           0.9764705882352941,
           "#c41f12"
          ],
          [
           0.9803921568627451,
           "#c31c10"
          ],
          [
           0.984313725490196,
           "#c3180e"
          ],
          [
           0.9882352941176471,
           "#c2140c"
          ],
          [
           0.9921568627450981,
           "#c10f09"
          ],
          [
           0.996078431372549,
           "#c00907"
          ],
          [
           1,
           "#bf0205"
          ]
         ],
         "type": "heatmap",
         "x": [],
         "y": [],
         "z": [],
         "zmax": 1,
         "zmin": -1
        }
       ],
       "layout": {
        "autosize": false,
        "height": 800,
        "template": {
         "data": {
          "bar": [
           {
            "error_x": {
             "color": "#2a3f5f"
            },
            "error_y": {
             "color": "#2a3f5f"
            },
            "marker": {
             "line": {
              "color": "#E5ECF6",
              "width": 0.5
             },
             "pattern": {
              "fillmode": "overlay",
              "size": 10,
              "solidity": 0.2
             }
            },
            "type": "bar"
           }
          ],
          "barpolar": [
           {
            "marker": {
             "line": {
              "color": "#E5ECF6",
              "width": 0.5
             },
             "pattern": {
              "fillmode": "overlay",
              "size": 10,
              "solidity": 0.2
             }
            },
            "type": "barpolar"
           }
          ],
          "carpet": [
           {
            "aaxis": {
             "endlinecolor": "#2a3f5f",
             "gridcolor": "white",
             "linecolor": "white",
             "minorgridcolor": "white",
             "startlinecolor": "#2a3f5f"
            },
            "baxis": {
             "endlinecolor": "#2a3f5f",
             "gridcolor": "white",
             "linecolor": "white",
             "minorgridcolor": "white",
             "startlinecolor": "#2a3f5f"
            },
            "type": "carpet"
           }
          ],
          "choropleth": [
           {
            "colorbar": {
             "outlinewidth": 0,
             "ticks": ""
            },
            "type": "choropleth"
           }
          ],
          "contour": [
           {
            "colorbar": {
             "outlinewidth": 0,
             "ticks": ""
            },
            "colorscale": [
             [
              0,
              "#0d0887"
             ],
             [
              0.1111111111111111,
              "#46039f"
             ],
             [
              0.2222222222222222,
              "#7201a8"
             ],
             [
              0.3333333333333333,
              "#9c179e"
             ],
             [
              0.4444444444444444,
              "#bd3786"
             ],
             [
              0.5555555555555556,
              "#d8576b"
             ],
             [
              0.6666666666666666,
              "#ed7953"
             ],
             [
              0.7777777777777778,
              "#fb9f3a"
             ],
             [
              0.8888888888888888,
              "#fdca26"
             ],
             [
              1,
              "#f0f921"
             ]
            ],
            "type": "contour"
           }
          ],
          "contourcarpet": [
           {
            "colorbar": {
             "outlinewidth": 0,
             "ticks": ""
            },
            "type": "contourcarpet"
           }
          ],
          "heatmap": [
           {
            "colorbar": {
             "outlinewidth": 0,
             "ticks": ""
            },
            "colorscale": [
             [
              0,
              "#0d0887"
             ],
             [
              0.1111111111111111,
              "#46039f"
             ],
             [
              0.2222222222222222,
              "#7201a8"
             ],
             [
              0.3333333333333333,
              "#9c179e"
             ],
             [
              0.4444444444444444,
              "#bd3786"
             ],
             [
              0.5555555555555556,
              "#d8576b"
             ],
             [
              0.6666666666666666,
              "#ed7953"
             ],
             [
              0.7777777777777778,
              "#fb9f3a"
             ],
             [
              0.8888888888888888,
              "#fdca26"
             ],
             [
              1,
              "#f0f921"
             ]
            ],
            "type": "heatmap"
           }
          ],
          "heatmapgl": [
           {
            "colorbar": {
             "outlinewidth": 0,
             "ticks": ""
            },
            "colorscale": [
             [
              0,
              "#0d0887"
             ],
             [
              0.1111111111111111,
              "#46039f"
             ],
             [
              0.2222222222222222,
              "#7201a8"
             ],
             [
              0.3333333333333333,
              "#9c179e"
             ],
             [
              0.4444444444444444,
              "#bd3786"
             ],
             [
              0.5555555555555556,
              "#d8576b"
             ],
             [
              0.6666666666666666,
              "#ed7953"
             ],
             [
              0.7777777777777778,
              "#fb9f3a"
             ],
             [
              0.8888888888888888,
              "#fdca26"
             ],
             [
              1,
              "#f0f921"
             ]
            ],
            "type": "heatmapgl"
           }
          ],
          "histogram": [
           {
            "marker": {
             "pattern": {
              "fillmode": "overlay",
              "size": 10,
              "solidity": 0.2
             }
            },
            "type": "histogram"
           }
          ],
          "histogram2d": [
           {
            "colorbar": {
             "outlinewidth": 0,
             "ticks": ""
            },
            "colorscale": [
             [
              0,
              "#0d0887"
             ],
             [
              0.1111111111111111,
              "#46039f"
             ],
             [
              0.2222222222222222,
              "#7201a8"
             ],
             [
              0.3333333333333333,
              "#9c179e"
             ],
             [
              0.4444444444444444,
              "#bd3786"
             ],
             [
              0.5555555555555556,
              "#d8576b"
             ],
             [
              0.6666666666666666,
              "#ed7953"
             ],
             [
              0.7777777777777778,
              "#fb9f3a"
             ],
             [
              0.8888888888888888,
              "#fdca26"
             ],
             [
              1,
              "#f0f921"
             ]
            ],
            "type": "histogram2d"
           }
          ],
          "histogram2dcontour": [
           {
            "colorbar": {
             "outlinewidth": 0,
             "ticks": ""
            },
            "colorscale": [
             [
              0,
              "#0d0887"
             ],
             [
              0.1111111111111111,
              "#46039f"
             ],
             [
              0.2222222222222222,
              "#7201a8"
             ],
             [
              0.3333333333333333,
              "#9c179e"
             ],
             [
              0.4444444444444444,
              "#bd3786"
             ],
             [
              0.5555555555555556,
              "#d8576b"
             ],
             [
              0.6666666666666666,
              "#ed7953"
             ],
             [
              0.7777777777777778,
              "#fb9f3a"
             ],
             [
              0.8888888888888888,
              "#fdca26"
             ],
             [
              1,
              "#f0f921"
             ]
            ],
            "type": "histogram2dcontour"
           }
          ],
          "mesh3d": [
           {
            "colorbar": {
             "outlinewidth": 0,
             "ticks": ""
            },
            "type": "mesh3d"
           }
          ],
          "parcoords": [
           {
            "line": {
             "colorbar": {
              "outlinewidth": 0,
              "ticks": ""
             }
            },
            "type": "parcoords"
           }
          ],
          "pie": [
           {
            "automargin": true,
            "type": "pie"
           }
          ],
          "scatter": [
           {
            "fillpattern": {
             "fillmode": "overlay",
             "size": 10,
             "solidity": 0.2
            },
            "type": "scatter"
           }
          ],
          "scatter3d": [
           {
            "line": {
             "colorbar": {
              "outlinewidth": 0,
              "ticks": ""
             }
            },
            "marker": {
             "colorbar": {
              "outlinewidth": 0,
              "ticks": ""
             }
            },
            "type": "scatter3d"
           }
          ],
          "scattercarpet": [
           {
            "marker": {
             "colorbar": {
              "outlinewidth": 0,
              "ticks": ""
             }
            },
            "type": "scattercarpet"
           }
          ],
          "scattergeo": [
           {
            "marker": {
             "colorbar": {
              "outlinewidth": 0,
              "ticks": ""
             }
            },
            "type": "scattergeo"
           }
          ],
          "scattergl": [
           {
            "marker": {
             "colorbar": {
              "outlinewidth": 0,
              "ticks": ""
             }
            },
            "type": "scattergl"
           }
          ],
          "scattermapbox": [
           {
            "marker": {
             "colorbar": {
              "outlinewidth": 0,
              "ticks": ""
             }
            },
            "type": "scattermapbox"
           }
          ],
          "scatterpolar": [
           {
            "marker": {
             "colorbar": {
              "outlinewidth": 0,
              "ticks": ""
             }
            },
            "type": "scatterpolar"
           }
          ],
          "scatterpolargl": [
           {
            "marker": {
             "colorbar": {
              "outlinewidth": 0,
              "ticks": ""
             }
            },
            "type": "scatterpolargl"
           }
          ],
          "scatterternary": [
           {
            "marker": {
             "colorbar": {
              "outlinewidth": 0,
              "ticks": ""
             }
            },
            "type": "scatterternary"
           }
          ],
          "surface": [
           {
            "colorbar": {
             "outlinewidth": 0,
             "ticks": ""
            },
            "colorscale": [
             [
              0,
              "#0d0887"
             ],
             [
              0.1111111111111111,
              "#46039f"
             ],
             [
              0.2222222222222222,
              "#7201a8"
             ],
             [
              0.3333333333333333,
              "#9c179e"
             ],
             [
              0.4444444444444444,
              "#bd3786"
             ],
             [
              0.5555555555555556,
              "#d8576b"
             ],
             [
              0.6666666666666666,
              "#ed7953"
             ],
             [
              0.7777777777777778,
              "#fb9f3a"
             ],
             [
              0.8888888888888888,
              "#fdca26"
             ],
             [
              1,
              "#f0f921"
             ]
            ],
            "type": "surface"
           }
          ],
          "table": [
           {
            "cells": {
             "fill": {
              "color": "#EBF0F8"
             },
             "line": {
              "color": "white"
             }
            },
            "header": {
             "fill": {
              "color": "#C8D4E3"
             },
             "line": {
              "color": "white"
             }
            },
            "type": "table"
           }
          ]
         },
         "layout": {
          "annotationdefaults": {
           "arrowcolor": "#2a3f5f",
           "arrowhead": 0,
           "arrowwidth": 1
          },
          "autotypenumbers": "strict",
          "coloraxis": {
           "colorbar": {
            "outlinewidth": 0,
            "ticks": ""
           }
          },
          "colorscale": {
           "diverging": [
            [
             0,
             "#8e0152"
            ],
            [
             0.1,
             "#c51b7d"
            ],
            [
             0.2,
             "#de77ae"
            ],
            [
             0.3,
             "#f1b6da"
            ],
            [
             0.4,
             "#fde0ef"
            ],
            [
             0.5,
             "#f7f7f7"
            ],
            [
             0.6,
             "#e6f5d0"
            ],
            [
             0.7,
             "#b8e186"
            ],
            [
             0.8,
             "#7fbc41"
            ],
            [
             0.9,
             "#4d9221"
            ],
            [
             1,
             "#276419"
            ]
           ],
           "sequential": [
            [
             0,
             "#0d0887"
            ],
            [
             0.1111111111111111,
             "#46039f"
            ],
            [
             0.2222222222222222,
             "#7201a8"
            ],
            [
             0.3333333333333333,
             "#9c179e"
            ],
            [
             0.4444444444444444,
             "#bd3786"
            ],
            [
             0.5555555555555556,
             "#d8576b"
            ],
            [
             0.6666666666666666,
             "#ed7953"
            ],
            [
             0.7777777777777778,
             "#fb9f3a"
            ],
            [
             0.8888888888888888,
             "#fdca26"
            ],
            [
             1,
             "#f0f921"
            ]
           ],
           "sequentialminus": [
            [
             0,
             "#0d0887"
            ],
            [
             0.1111111111111111,
             "#46039f"
            ],
            [
             0.2222222222222222,
             "#7201a8"
            ],
            [
             0.3333333333333333,
             "#9c179e"
            ],
            [
             0.4444444444444444,
             "#bd3786"
            ],
            [
             0.5555555555555556,
             "#d8576b"
            ],
            [
             0.6666666666666666,
             "#ed7953"
            ],
            [
             0.7777777777777778,
             "#fb9f3a"
            ],
            [
             0.8888888888888888,
             "#fdca26"
            ],
            [
             1,
             "#f0f921"
            ]
           ]
          },
          "colorway": [
           "#636efa",
           "#EF553B",
           "#00cc96",
           "#ab63fa",
           "#FFA15A",
           "#19d3f3",
           "#FF6692",
           "#B6E880",
           "#FF97FF",
           "#FECB52"
          ],
          "font": {
           "color": "#2a3f5f"
          },
          "geo": {
           "bgcolor": "white",
           "lakecolor": "white",
           "landcolor": "#E5ECF6",
           "showlakes": true,
           "showland": true,
           "subunitcolor": "white"
          },
          "hoverlabel": {
           "align": "left"
          },
          "hovermode": "closest",
          "mapbox": {
           "style": "light"
          },
          "paper_bgcolor": "white",
          "plot_bgcolor": "#E5ECF6",
          "polar": {
           "angularaxis": {
            "gridcolor": "white",
            "linecolor": "white",
            "ticks": ""
           },
           "bgcolor": "#E5ECF6",
           "radialaxis": {
            "gridcolor": "white",
            "linecolor": "white",
            "ticks": ""
           }
          },
          "scene": {
           "xaxis": {
            "backgroundcolor": "#E5ECF6",
            "gridcolor": "white",
            "gridwidth": 2,
            "linecolor": "white",
            "showbackground": true,
            "ticks": "",
            "zerolinecolor": "white"
           },
           "yaxis": {
            "backgroundcolor": "#E5ECF6",
            "gridcolor": "white",
            "gridwidth": 2,
            "linecolor": "white",
            "showbackground": true,
            "ticks": "",
            "zerolinecolor": "white"
           },
           "zaxis": {
            "backgroundcolor": "#E5ECF6",
            "gridcolor": "white",
            "gridwidth": 2,
            "linecolor": "white",
            "showbackground": true,
            "ticks": "",
            "zerolinecolor": "white"
           }
          },
          "shapedefaults": {
           "line": {
            "color": "#2a3f5f"
           }
          },
          "ternary": {
           "aaxis": {
            "gridcolor": "white",
            "linecolor": "white",
            "ticks": ""
           },
           "baxis": {
            "gridcolor": "white",
            "linecolor": "white",
            "ticks": ""
           },
           "bgcolor": "#E5ECF6",
           "caxis": {
            "gridcolor": "white",
            "linecolor": "white",
            "ticks": ""
           }
          },
          "title": {
           "x": 0.05
          },
          "xaxis": {
           "automargin": true,
           "gridcolor": "white",
           "linecolor": "white",
           "ticks": "",
           "title": {
            "standoff": 15
           },
           "zerolinecolor": "white",
           "zerolinewidth": 2
          },
          "yaxis": {
           "automargin": true,
           "gridcolor": "white",
           "linecolor": "white",
           "ticks": "",
           "title": {
            "standoff": 15
           },
           "zerolinecolor": "white",
           "zerolinewidth": 2
          }
         }
        },
        "title": {
         "text": "Missing Value Correlations"
        },
        "width": 800
       }
      }
     },
     "metadata": {},
     "output_type": "display_data"
    }
   ],
   "source": [
    "p.plot_heatmap_missing()"
   ]
  },
  {
   "cell_type": "code",
   "execution_count": null,
   "metadata": {},
   "outputs": [],
   "source": []
  }
 ],
 "metadata": {
  "kernelspec": {
   "display_name": "Python 3.8.15 ('spark_env')",
   "language": "python",
   "name": "python3"
  },
  "language_info": {
   "codemirror_mode": {
    "name": "ipython",
    "version": 3
   },
   "file_extension": ".py",
   "mimetype": "text/x-python",
   "name": "python",
   "nbconvert_exporter": "python",
   "pygments_lexer": "ipython3",
   "version": "3.8.15"
  },
  "orig_nbformat": 4,
  "vscode": {
   "interpreter": {
    "hash": "bac5f9a12ce42e3ce4a716d69b8738cd831a51d5f24bd9d0d377d51220bf4645"
   }
  }
 },
 "nbformat": 4,
 "nbformat_minor": 2
}
