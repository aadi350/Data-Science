{
 "cells": [
  {
   "cell_type": "markdown",
   "metadata": {},
   "source": [
    "In \"Einstein\" summation, the repeated index defines what we sum by, the expression must have a repeated index, so:\n",
    "$$\n",
    "\\sum_{i=1}^n = a_1x_1 + a_2x_2 + ... + a_nx_n \\equiv a_ix_i\n",
    "$$\n",
    "\n",
    "is valid. But $a_{ij}x_k$ is not, whilst $a_{ij}x_j$ is:\n",
    "$$\n",
    "a_{ij}x_j \\equiv a_{i1}x_1 + a_{i2}x_2 + ... + a_{in}x_n\n",
    "$$"
   ]
  },
  {
   "cell_type": "markdown",
   "metadata": {},
   "source": [
    "Double sums  \n",
    "Summation on both $i$ and $j$:\n",
    "$$\n",
    "a_{ij}x_iy_j\n",
    "$$"
   ]
  },
  {
   "cell_type": "code",
   "execution_count": 2,
   "metadata": {},
   "outputs": [],
   "source": [
    "import tensorflow as tf"
   ]
  },
  {
   "cell_type": "code",
   "execution_count": null,
   "metadata": {},
   "outputs": [],
   "source": []
  }
 ],
 "metadata": {
  "interpreter": {
   "hash": "e7370f93d1d0cde622a1f8e1c04877d8463912d04d973331ad4851f04de6915a"
  },
  "kernelspec": {
   "display_name": "Python 3.10.4 64-bit",
   "name": "python3"
  },
  "language_info": {
   "codemirror_mode": {
    "name": "ipython",
    "version": 3
   },
   "file_extension": ".py",
   "mimetype": "text/x-python",
   "name": "python",
   "nbconvert_exporter": "python",
   "pygments_lexer": "ipython3",
   "version": "3.10.4"
  },
  "orig_nbformat": 4
 },
 "nbformat": 4,
 "nbformat_minor": 2
}
