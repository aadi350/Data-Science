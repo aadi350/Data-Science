{
 "cells": [
  {
   "cell_type": "markdown",
   "metadata": {},
   "source": [
    "# Basics of the Adjacency Matrix\n",
    "This summarizes my initial set of basic notes surrounding the adjacency matrix representation of a graph\n",
    "\n",
    "There are multiple ways of representing graph-structured data. One of the most common ways is using the adjacency matrix, where connections between nodes are represented in a row-column format.\n",
    "\n",
    "For example:\n",
    "$$\n",
    "A = \\begin{bmatrix}\n",
    "0 & 1 & 0\\\\\n",
    "1 & 0 & 1\\\\\n",
    "0 & 1 & 0\\\\\n",
    "\\end{bmatrix}\n",
    "$$\n",
    " \n",
    "$A$ is a matrix with three nodes, with connections between nodes $(1,0)$ and $(1,2)$ \n"
   ]
  },
  {
   "cell_type": "code",
   "execution_count": 5,
   "metadata": {},
   "outputs": [],
   "source": [
    "# function to plot networks\n",
    "import numpy as np \n",
    "import networkx as nx\n",
    "import tensorflow as tf \n",
    "import numpy as np\n",
    "import sympy as sym"
   ]
  },
  {
   "cell_type": "code",
   "execution_count": 2,
   "metadata": {},
   "outputs": [],
   "source": [
    "\n",
    "from bokeh.io import output_file, show, output_notebook\n",
    "from bokeh.models import (BoxSelectTool, Circle, EdgesAndLinkedNodes, HoverTool,\n",
    "                          MultiLine, NodesAndLinkedEdges, Plot, Range1d, TapTool)\n",
    "from bokeh.palettes import Spectral4\n",
    "from bokeh.plotting import from_networkx\n",
    "\n",
    "def plot_graph(A, name):\n",
    "\n",
    "    output_notebook()\n",
    "    G=nx.from_numpy_matrix(A)\n",
    "\n",
    "    plot = Plot(width=400, height=400,\n",
    "                x_range=Range1d(-1.1,1.1), y_range=Range1d(-1.1,1.1))\n",
    "    plot.title.text = name\n",
    "\n",
    "    plot.add_tools(HoverTool(tooltips=None), TapTool(), BoxSelectTool())\n",
    "\n",
    "    graph_renderer = from_networkx(G, nx.circular_layout, scale=1, center=(0,0))\n",
    "\n",
    "    graph_renderer.node_renderer.glyph = Circle(size=15, fill_color=Spectral4[0])\n",
    "    graph_renderer.node_renderer.selection_glyph = Circle(size=15, fill_color=Spectral4[2])\n",
    "    graph_renderer.node_renderer.hover_glyph = Circle(size=15, fill_color=Spectral4[1])\n",
    "\n",
    "    graph_renderer.edge_renderer.glyph = MultiLine(line_color=\"#CCCCCC\", line_alpha=0.8, line_width=5)\n",
    "    graph_renderer.edge_renderer.selection_glyph = MultiLine(line_color=Spectral4[2], line_width=5)\n",
    "    graph_renderer.edge_renderer.hover_glyph = MultiLine(line_color=Spectral4[1], line_width=5)\n",
    "\n",
    "    graph_renderer.selection_policy = NodesAndLinkedEdges()\n",
    "    graph_renderer.inspection_policy = EdgesAndLinkedNodes()\n",
    "\n",
    "    plot.renderers.append(graph_renderer)\n",
    "\n",
    "    show(plot)"
   ]
  },
  {
   "cell_type": "markdown",
   "metadata": {},
   "source": [
    "## Isomorphism\n",
    "Graphs which exist in the same form, but which are labelled differently"
   ]
  },
  {
   "cell_type": "markdown",
   "metadata": {},
   "source": [
    "### Simple Example"
   ]
  },
  {
   "cell_type": "code",
   "execution_count": 3,
   "metadata": {},
   "outputs": [
    {
     "data": {
      "image/png": "[encoded data removed]",
      "text/plain": [
       "<Figure size 432x288 with 1 Axes>"
      ]
     },
     "metadata": {},
     "output_type": "display_data"
    }
   ],
   "source": [
    "A = np.matrix('''\n",
    "    0 1 0;\n",
    "    1 0 1;\n",
    "    0 1 0\n",
    "''')\n",
    "G = nx.from_numpy_matrix(A)\n",
    "nx.draw(G, with_labels=True)"
   ]
  },
  {
   "cell_type": "markdown",
   "metadata": {},
   "source": [
    "Using a permutation matrix $P$, we can derive another graph isomorphic to the original. Row-number specifies the original node to operate on, column number specifies what number this node is renumbered to "
   ]
  },
  {
   "cell_type": "code",
   "execution_count": 4,
   "metadata": {},
   "outputs": [
    {
     "data": {
      "image/png": "[encoded data removed]",
      "text/plain": [
       "<Figure size 432x288 with 1 Axes>"
      ]
     },
     "metadata": {},
     "output_type": "display_data"
    }
   ],
   "source": [
    "P = np.matrix('''\n",
    "    0 1 0;\n",
    "    1 0 0;\n",
    "    0 0 1\n",
    "''')\n",
    "\n",
    "# matrix multiplication with numpy\n",
    "A_perm = P @ A @ P.T\n",
    "nx.draw(nx.from_numpy_matrix(A_perm), with_labels=True)"
   ]
  },
  {
   "cell_type": "markdown",
   "metadata": {},
   "source": [
    "### Complex Example"
   ]
  },
  {
   "cell_type": "code",
   "execution_count": 5,
   "metadata": {},
   "outputs": [
    {
     "data": {
      "text/plain": [
       "array([[0, 1, 1, 0, 0, 0, 0, 1],\n",
       "       [1, 0, 1, 1, 1, 0, 0, 1],\n",
       "       [1, 1, 0, 1, 0, 0, 0, 0],\n",
       "       [0, 1, 1, 0, 1, 1, 0, 1],\n",
       "       [0, 1, 0, 1, 0, 1, 1, 1],\n",
       "       [0, 0, 0, 1, 1, 0, 1, 0],\n",
       "       [0, 0, 0, 0, 1, 1, 0, 0],\n",
       "       [1, 1, 0, 1, 1, 0, 0, 0]])"
      ]
     },
     "execution_count": 5,
     "metadata": {},
     "output_type": "execute_result"
    }
   ],
   "source": [
    "# create adjacency matrix (undirected)\n",
    "A = np.array([\n",
    "    [0, 1, 1, 0, 0, 0, 0, 1],\n",
    "    [1, 0, 1, 1, 1, 0, 0, 1],\n",
    "    [1, 1, 0, 1, 0, 0, 0, 0],\n",
    "    [0, 1, 1, 0, 1, 1, 0, 1],\n",
    "    [0, 1, 0, 1, 0, 1, 1, 1],\n",
    "    [0, 0, 0, 1, 1, 0, 1, 0],\n",
    "    [0, 0, 0, 0, 1, 1, 0, 0],\n",
    "    [1, 1, 0, 1, 1, 0, 0, 0],\n",
    "]) "
   ]
  },
  {
   "cell_type": "code",
   "execution_count": 6,
   "metadata": {},
   "outputs": [
    {
     "data": {
      "text/plain": [
       "array([[0, 0, 0, 1, 0, 0, 0, 0],\n",
       "       [0, 0, 1, 0, 0, 0, 0, 0],\n",
       "       [0, 0, 0, 0, 1, 0, 0, 0],\n",
       "       [0, 0, 0, 0, 0, 1, 0, 0],\n",
       "       [0, 1, 0, 0, 0, 0, 0, 0],\n",
       "       [1, 0, 0, 0, 0, 0, 0, 0],\n",
       "       [0, 0, 0, 0, 0, 0, 1, 0],\n",
       "       [0, 0, 0, 0, 0, 0, 0, 1]])"
      ]
     },
     "execution_count": 6,
     "metadata": {},
     "output_type": "execute_result"
    }
   ],
   "source": [
    "# permutation matrix (exactly 1 value equal to 1 in each row and column)\n",
    "P = np.array([ \n",
    "    [0, 0, 0, 1, 0, 0, 0, 0],\n",
    "    [0, 0, 1, 0, 0, 0, 0, 0],\n",
    "    [0, 0, 0, 0, 1, 0, 0, 0],\n",
    "    [0, 0, 0, 0, 0, 1, 0, 0],\n",
    "    [0, 1, 0, 0, 0, 0, 0, 0],\n",
    "    [1, 0, 0, 0, 0, 0, 0, 0],\n",
    "    [0, 0, 0, 0, 0, 0, 1, 0],\n",
    "    [0, 0, 0, 0, 0, 0, 0, 1]\n",
    "])"
   ]
  },
  {
   "cell_type": "code",
   "execution_count": 7,
   "metadata": {},
   "outputs": [
    {
     "data": {
      "text/plain": [
       "array([[0, 1, 1, 1, 1, 0, 0, 1],\n",
       "       [1, 0, 0, 0, 1, 1, 0, 0],\n",
       "       [1, 0, 0, 1, 1, 0, 1, 1],\n",
       "       [1, 0, 1, 0, 0, 0, 1, 0],\n",
       "       [1, 1, 1, 0, 0, 1, 0, 1],\n",
       "       [0, 1, 0, 0, 1, 0, 0, 1],\n",
       "       [0, 0, 1, 1, 0, 0, 0, 0],\n",
       "       [1, 0, 1, 0, 1, 1, 0, 0]])"
      ]
     },
     "execution_count": 7,
     "metadata": {},
     "output_type": "execute_result"
    }
   ],
   "source": [
    "A_perm = np.matmul(np.matmul(P, A), P.T)\n",
    "A_perm"
   ]
  },
  {
   "cell_type": "code",
   "execution_count": 8,
   "metadata": {},
   "outputs": [],
   "source": [
    "G = nx.from_numpy_matrix(A)\n",
    "G_perm = nx.from_numpy_matrix(A_perm)"
   ]
  },
  {
   "cell_type": "code",
   "execution_count": 9,
   "metadata": {},
   "outputs": [
    {
     "data": {
      "image/png": "[encoded data removed]",
      "text/plain": [
       "<Figure size 432x288 with 1 Axes>"
      ]
     },
     "metadata": {},
     "output_type": "display_data"
    }
   ],
   "source": [
    "nx.draw(G, with_labels=True)"
   ]
  },
  {
   "cell_type": "code",
   "execution_count": 10,
   "metadata": {},
   "outputs": [
    {
     "data": {
      "image/png": "[encoded data removed]",
      "text/plain": [
       "<Figure size 432x288 with 1 Axes>"
      ]
     },
     "metadata": {},
     "output_type": "display_data"
    }
   ],
   "source": [
    "nx.draw(G_perm, with_labels=True)"
   ]
  },
  {
   "cell_type": "code",
   "execution_count": 11,
   "metadata": {},
   "outputs": [
    {
     "data": {
      "text/plain": [
       "True"
      ]
     },
     "execution_count": 11,
     "metadata": {},
     "output_type": "execute_result"
    }
   ],
   "source": [
    "nx.is_isomorphic(G, G_perm)"
   ]
  },
  {
   "cell_type": "markdown",
   "metadata": {},
   "source": [
    "# Degree Matrix\n",
    "\n",
    "Diagonal matrix containing node-degree of the $i^{th}$ node in every $(i,i)$ position"
   ]
  },
  {
   "cell_type": "code",
   "execution_count": 12,
   "metadata": {},
   "outputs": [
    {
     "data": {
      "text/plain": [
       "array([[3, 0, 0, 0, 0, 0, 0, 0],\n",
       "       [0, 5, 0, 0, 0, 0, 0, 0],\n",
       "       [0, 0, 3, 0, 0, 0, 0, 0],\n",
       "       [0, 0, 0, 5, 0, 0, 0, 0],\n",
       "       [0, 0, 0, 0, 5, 0, 0, 0],\n",
       "       [0, 0, 0, 0, 0, 3, 0, 0],\n",
       "       [0, 0, 0, 0, 0, 0, 2, 0],\n",
       "       [0, 0, 0, 0, 0, 0, 0, 4]], dtype=uint8)"
      ]
     },
     "execution_count": 12,
     "metadata": {},
     "output_type": "execute_result"
    }
   ],
   "source": [
    "# degree matrix \n",
    "nx.degree(G)\n",
    "\n",
    "D = np.zeros((8, 8), dtype=np.uint8)\n",
    "for idx, v in enumerate(A):\n",
    "    D[idx, idx] = np.sum(A[idx, :])\n",
    "\n",
    "D"
   ]
  },
  {
   "cell_type": "code",
   "execution_count": 13,
   "metadata": {},
   "outputs": [
    {
     "data": {
      "text/plain": [
       "DegreeView({0: 3, 1: 5, 2: 3, 3: 5, 4: 5, 5: 3, 6: 2, 7: 4})"
      ]
     },
     "execution_count": 13,
     "metadata": {},
     "output_type": "execute_result"
    }
   ],
   "source": [
    "nx.degree(G)"
   ]
  },
  {
   "cell_type": "markdown",
   "metadata": {},
   "source": [
    "# Laplacian Matrix  \n",
    "Basic definition:\n",
    "$$\n",
    "\\mathcal{L} = D-A\n",
    "$$  \n",
    "\n",
    "Interesting properties:\n",
    "- Geometric multiplicity of the 0 eigenvalue is the number of connected components\n",
    "- Is symmetric (mirrored across leading diagonal)\n",
    "- Is positive semi-definite (has an inverse)"
   ]
  },
  {
   "cell_type": "code",
   "execution_count": 14,
   "metadata": {},
   "outputs": [
    {
     "data": {
      "text/plain": [
       "array([[ 3, -1, -1,  0,  0,  0,  0, -1],\n",
       "       [-1,  5, -1, -1, -1,  0,  0, -1],\n",
       "       [-1, -1,  3, -1,  0,  0,  0,  0],\n",
       "       [ 0, -1, -1,  5, -1, -1,  0, -1],\n",
       "       [ 0, -1,  0, -1,  5, -1, -1, -1],\n",
       "       [ 0,  0,  0, -1, -1,  3, -1,  0],\n",
       "       [ 0,  0,  0,  0, -1, -1,  2,  0],\n",
       "       [-1, -1,  0, -1, -1,  0,  0,  4]])"
      ]
     },
     "execution_count": 14,
     "metadata": {},
     "output_type": "execute_result"
    }
   ],
   "source": [
    "# unnormalized laplacian \n",
    "D - A"
   ]
  },
  {
   "cell_type": "markdown",
   "metadata": {},
   "source": [
    "## Weight Matrix\n",
    "Like and adjacency matrix, but weight of connections are important"
   ]
  },
  {
   "cell_type": "code",
   "execution_count": 15,
   "metadata": {},
   "outputs": [
    {
     "data": {
      "image/png": "[encoded data removed]",
      "text/plain": [
       "<Figure size 432x288 with 1 Axes>"
      ]
     },
     "metadata": {},
     "output_type": "display_data"
    },
    {
     "data": {
      "application/javascript": "(function(root) {\n  function now() {\n    return new Date();\n  }\n\n  const force = true;\n\n  if (typeof root._bokeh_onload_callbacks === \"undefined\" || force === true) {\n    root._bokeh_onload_callbacks = [];\n    root._bokeh_is_loading = undefined;\n  }\n\nconst JS_MIME_TYPE = 'application/javascript';\n  const HTML_MIME_TYPE = 'text/html';\n  const EXEC_MIME_TYPE = 'application/vnd.bokehjs_exec.v0+json';\n  const CLASS_NAME = 'output_bokeh rendered_html';\n\n  /**\n   * Render data to the DOM node\n   */\n  function render(props, node) {\n    const script = document.createElement(\"script\");\n    node.appendChild(script);\n  }\n\n  /**\n   * Handle when an output is cleared or removed\n   */\n  function handleClearOutput(event, handle) {\n    const cell = handle.cell;\n\n    const id = cell.output_area._bokeh_element_id;\n    const server_id = cell.output_area._bokeh_server_id;\n    // Clean up Bokeh references\n    if (id != null && id in Bokeh.index) {\n      Bokeh.index[id].model.document.clear();\n      delete Bokeh.index[id];\n    }\n\n    if (server_id !== undefined) {\n      // Clean up Bokeh references\n      const cmd_clean = \"from bokeh.io.state import curstate; print(curstate().uuid_to_server['\" + server_id + \"'].get_sessions()[0].document.roots[0]._id)\";\n      cell.notebook.kernel.execute(cmd_clean, {\n        iopub: {\n          output: function(msg) {\n            const id = msg.content.text.trim();\n            if (id in Bokeh.index) {\n              Bokeh.index[id].model.document.clear();\n              delete Bokeh.index[id];\n            }\n          }\n        }\n      });\n      // Destroy server and session\n      const cmd_destroy = \"import bokeh.io.notebook as ion; ion.destroy_server('\" + server_id + \"')\";\n      cell.notebook.kernel.execute(cmd_destroy);\n    }\n  }\n\n  /**\n   * Handle when a new output is added\n   */\n  function handleAddOutput(event, handle) {\n    const output_area = handle.output_area;\n    const output = handle.output;\n\n    // limit handleAddOutput to display_data with EXEC_MIME_TYPE content only\n    if ((output.output_type != \"display_data\") || (!Object.prototype.hasOwnProperty.call(output.data, EXEC_MIME_TYPE))) {\n      return\n    }\n\n    const toinsert = output_area.element.find(\".\" + CLASS_NAME.split(' ')[0]);\n\n    if (output.metadata[EXEC_MIME_TYPE][\"id\"] !== undefined) {\n      toinsert[toinsert.length - 1].firstChild.textContent = output.data[JS_MIME_TYPE];\n      // store reference to embed id on output_area\n      output_area._bokeh_element_id = output.metadata[EXEC_MIME_TYPE][\"id\"];\n    }\n    if (output.metadata[EXEC_MIME_TYPE][\"server_id\"] !== undefined) {\n      const bk_div = document.createElement(\"div\");\n      bk_div.innerHTML = output.data[HTML_MIME_TYPE];\n      const script_attrs = bk_div.children[0].attributes;\n      for (let i = 0; i < script_attrs.length; i++) {\n        toinsert[toinsert.length - 1].firstChild.setAttribute(script_attrs[i].name, script_attrs[i].value);\n        toinsert[toinsert.length - 1].firstChild.textContent = bk_div.children[0].textContent\n      }\n      // store reference to server id on output_area\n      output_area._bokeh_server_id = output.metadata[EXEC_MIME_TYPE][\"server_id\"];\n    }\n  }\n\n  function register_renderer(events, OutputArea) {\n\n    function append_mime(data, metadata, element) {\n      // create a DOM node to render to\n      const toinsert = this.create_output_subarea(\n        metadata,\n        CLASS_NAME,\n        EXEC_MIME_TYPE\n      );\n      this.keyboard_manager.register_events(toinsert);\n      // Render to node\n      const props = {data: data, metadata: metadata[EXEC_MIME_TYPE]};\n      render(props, toinsert[toinsert.length - 1]);\n      element.append(toinsert);\n      return toinsert\n    }\n\n    /* Handle when an output is cleared or removed */\n    events.on('clear_output.CodeCell', handleClearOutput);\n    events.on('delete.Cell', handleClearOutput);\n\n    /* Handle when a new output is added */\n    events.on('output_added.OutputArea', handleAddOutput);\n\n    /**\n     * Register the mime type and append_mime function with output_area\n     */\n    OutputArea.prototype.register_mime_type(EXEC_MIME_TYPE, append_mime, {\n      /* Is output safe? */\n      safe: true,\n      /* Index of renderer in `output_area.display_order` */\n      index: 0\n    });\n  }\n\n  // register the mime type if in Jupyter Notebook environment and previously unregistered\n  if (root.Jupyter !== undefined) {\n    const events = require('base/js/events');\n    const OutputArea = require('notebook/js/outputarea').OutputArea;\n\n    if (OutputArea.prototype.mime_types().indexOf(EXEC_MIME_TYPE) == -1) {\n      register_renderer(events, OutputArea);\n    }\n  }\n  if (typeof (root._bokeh_timeout) === \"undefined\" || force === true) {\n    root._bokeh_timeout = Date.now() + 5000;\n    root._bokeh_failed_load = false;\n  }\n\n  const NB_LOAD_WARNING = {'data': {'text/html':\n     \"<div style='background-color: #fdd'>\\n\"+\n     \"<p>\\n\"+\n     \"BokehJS does not appear to have successfully loaded. If loading BokehJS from CDN, this \\n\"+\n     \"may be due to a slow or bad network connection. Possible fixes:\\n\"+\n     \"</p>\\n\"+\n     \"<ul>\\n\"+\n     \"<li>re-rerun `output_notebook()` to attempt to load from CDN again, or</li>\\n\"+\n     \"<li>use INLINE resources instead, as so:</li>\\n\"+\n     \"</ul>\\n\"+\n     \"<code>\\n\"+\n     \"from bokeh.resources import INLINE\\n\"+\n     \"output_notebook(resources=INLINE)\\n\"+\n     \"</code>\\n\"+\n     \"</div>\"}};\n\n  function display_loaded() {\n    const el = document.getElementById(\"1181\");\n    if (el != null) {\n      el.textContent = \"BokehJS is loading...\";\n    }\n    if (root.Bokeh !== undefined) {\n      if (el != null) {\n        el.textContent = \"BokehJS \" + root.Bokeh.version + \" successfully loaded.\";\n      }\n    } else if (Date.now() < root._bokeh_timeout) {\n      setTimeout(display_loaded, 100)\n    }\n  }\n\n  function run_callbacks() {\n    try {\n      root._bokeh_onload_callbacks.forEach(function(callback) {\n        if (callback != null)\n          callback();\n      });\n    } finally {\n      delete root._bokeh_onload_callbacks\n    }\n    console.debug(\"Bokeh: all callbacks have finished\");\n  }\n\n  function load_libs(css_urls, js_urls, callback) {\n    if (css_urls == null) css_urls = [];\n    if (js_urls == null) js_urls = [];\n\n    root._bokeh_onload_callbacks.push(callback);\n    if (root._bokeh_is_loading > 0) {\n      console.debug(\"Bokeh: BokehJS is being loaded, scheduling callback at\", now());\n      return null;\n    }\n    if (js_urls == null || js_urls.length === 0) {\n      run_callbacks();\n      return null;\n    }\n    console.debug(\"Bokeh: BokehJS not loaded, scheduling load and callback at\", now());\n    root._bokeh_is_loading = css_urls.length + js_urls.length;\n\n    function on_load() {\n      root._bokeh_is_loading--;\n      if (root._bokeh_is_loading === 0) {\n        console.debug(\"Bokeh: all BokehJS libraries/stylesheets loaded\");\n        run_callbacks()\n      }\n    }\n\n    function on_error(url) {\n      console.error(\"failed to load \" + url);\n    }\n\n    for (let i = 0; i < css_urls.length; i++) {\n      const url = css_urls[i];\n      const element = document.createElement(\"link\");\n      element.onload = on_load;\n      element.onerror = on_error.bind(null, url);\n      element.rel = \"stylesheet\";\n      element.type = \"text/css\";\n      element.href = url;\n      console.debug(\"Bokeh: injecting link tag for BokehJS stylesheet: \", url);\n      document.body.appendChild(element);\n    }\n\n    for (let i = 0; i < js_urls.length; i++) {\n      const url = js_urls[i];\n      const element = document.createElement('script');\n      element.onload = on_load;\n      element.onerror = on_error.bind(null, url);\n      element.async = false;\n      element.src = url;\n      console.debug(\"Bokeh: injecting script tag for BokehJS library: \", url);\n      document.head.appendChild(element);\n    }\n  };\n\n  function inject_raw_css(css) {\n    const element = document.createElement(\"style\");\n    element.appendChild(document.createTextNode(css));\n    document.body.appendChild(element);\n  }\n\n  const js_urls = [\"https://cdn.bokeh.org/bokeh/release/bokeh-2.4.3.min.js\", \"https://cdn.bokeh.org/bokeh/release/bokeh-gl-2.4.3.min.js\", \"https://cdn.bokeh.org/bokeh/release/bokeh-widgets-2.4.3.min.js\", \"https://cdn.bokeh.org/bokeh/release/bokeh-tables-2.4.3.min.js\", \"https://cdn.bokeh.org/bokeh/release/bokeh-mathjax-2.4.3.min.js\"];\n  const css_urls = [];\n\n  const inline_js = [    function(Bokeh) {\n      Bokeh.set_log_level(\"info\");\n    },\nfunction(Bokeh) {\n    }\n  ];\n\n  function run_inline_js() {\n    if (root.Bokeh !== undefined || force === true) {\n          for (let i = 0; i < inline_js.length; i++) {\n      inline_js[i].call(root, root.Bokeh);\n    }\nif (force === true) {\n        display_loaded();\n      }} else if (Date.now() < root._bokeh_timeout) {\n      setTimeout(run_inline_js, 100);\n    } else if (!root._bokeh_failed_load) {\n      console.log(\"Bokeh: BokehJS failed to load within specified timeout.\");\n      root._bokeh_failed_load = true;\n    } else if (force !== true) {\n      const cell = $(document.getElementById(\"1181\")).parents('.cell').data().cell;\n      cell.output_area.append_execute_result(NB_LOAD_WARNING)\n    }\n  }\n\n  if (root._bokeh_is_loading === 0) {\n    console.debug(\"Bokeh: BokehJS loaded, going straight to plotting\");\n    run_inline_js();\n  } else {\n    load_libs(css_urls, js_urls, function() {\n      console.debug(\"Bokeh: BokehJS plotting callback run at\", now());\n      run_inline_js();\n    });\n  }\n}(window));",
      "application/vnd.bokehjs_load.v0+json": ""
     },
     "metadata": {},
     "output_type": "display_data"
    },
    {
     "data": {
      "text/html": [
       "\n",
       "  <div class=\"bk-root\" id=\"a0ef1c95-06dd-4d62-b776-a602f5523289\" data-root-id=\"1184\"></div>\n"
      ]
     },
     "metadata": {},
     "output_type": "display_data"
    },
    {
     "data": {
      "application/javascript": "(function(root) {\n  function embed_document(root) {\n  const docs_json = {\"faf53ff0-43f1-49e9-a614-f00e5350db5d\":{\"defs\":[],\"roots\":{\"references\":[{\"attributes\":{\"height\":400,\"renderers\":[{\"id\":\"1194\"}],\"title\":{\"id\":\"1187\"},\"toolbar\":{\"id\":\"1191\"},\"width\":400,\"x_range\":{\"id\":\"1182\"},\"x_scale\":{\"id\":\"1255\"},\"y_range\":{\"id\":\"1183\"},\"y_scale\":{\"id\":\"1256\"}},\"id\":\"1184\",\"type\":\"Plot\"},{\"attributes\":{},\"id\":\"1268\",\"type\":\"UnionRenderers\"},{\"attributes\":{},\"id\":\"1270\",\"type\":\"UnionRenderers\"},{\"attributes\":{\"coordinates\":null,\"group\":null,\"text\":\"G\"},\"id\":\"1187\",\"type\":\"Title\"},{\"attributes\":{\"data\":{\"end\":[1,2,7,2,3,4,7,3,4,5,7,5,6,7,6],\"start\":[0,0,0,1,1,1,1,2,3,3,3,4,4,4,5],\"weight\":[0.54,0.14,0.47,0.63,0.35,0.3,0.31,0.31,0.54,0.43,0.13,0.54,0.62,0.54,0.37]},\"selected\":{\"id\":\"1271\"},\"selection_policy\":{\"id\":\"1270\"}},\"id\":\"1200\",\"type\":\"ColumnDataSource\"},{\"attributes\":{\"bottom_units\":\"screen\",\"coordinates\":null,\"fill_alpha\":0.5,\"fill_color\":\"lightgrey\",\"group\":null,\"left_units\":\"screen\",\"level\":\"overlay\",\"line_alpha\":1.0,\"line_color\":\"black\",\"line_dash\":[4,4],\"line_width\":2,\"right_units\":\"screen\",\"syncable\":false,\"top_units\":\"screen\"},\"id\":\"1267\",\"type\":\"BoxAnnotation\"},{\"attributes\":{\"line_alpha\":{\"value\":0.8},\"line_color\":{\"value\":\"#CCCCCC\"},\"line_width\":{\"value\":5}},\"id\":\"1219\",\"type\":\"MultiLine\"},{\"attributes\":{\"fill_color\":{\"value\":\"#abdda4\"},\"size\":{\"value\":15}},\"id\":\"1214\",\"type\":\"Circle\"},{\"attributes\":{\"end\":1.1,\"start\":-1.1},\"id\":\"1182\",\"type\":\"Range1d\"},{\"attributes\":{},\"id\":\"1255\",\"type\":\"LinearScale\"},{\"attributes\":{\"end\":1.1,\"start\":-1.1},\"id\":\"1183\",\"type\":\"Range1d\"},{\"attributes\":{\"fill_color\":{\"value\":\"#fdae61\"},\"size\":{\"value\":15}},\"id\":\"1209\",\"type\":\"Circle\"},{\"attributes\":{},\"id\":\"1256\",\"type\":\"LinearScale\"},{\"attributes\":{\"callback\":null,\"tooltips\":null},\"id\":\"1188\",\"type\":\"HoverTool\"},{\"attributes\":{\"source\":{\"id\":\"1200\"}},\"id\":\"1202\",\"type\":\"CDSView\"},{\"attributes\":{\"graph_layout\":{\"0\":[1.0,1.8378427184795197e-08],\"1\":[0.7071067767953607,0.7071067688487334],\"2\":[-1.738633258224092e-08,0.9999999920533726],\"3\":[-0.7071067241452516,0.7071067688487334],\"4\":[-0.9999999473498908,-6.90443470872713e-08],\"5\":[-0.7071067837498948,-0.7071066724872357],\"6\":[3.824993487837225e-08,-0.9999999552965182],\"7\":[0.7071066575860743,-0.7071068513011654]}},\"id\":\"1203\",\"type\":\"StaticLayoutProvider\"},{\"attributes\":{\"coordinates\":null,\"data_source\":{\"id\":\"1200\"},\"glyph\":{\"id\":\"1219\"},\"group\":null,\"hover_glyph\":{\"id\":\"1229\"},\"selection_glyph\":{\"id\":\"1224\"},\"view\":{\"id\":\"1202\"}},\"id\":\"1201\",\"type\":\"GlyphRenderer\"},{\"attributes\":{},\"id\":\"1271\",\"type\":\"Selection\"},{\"attributes\":{\"coordinates\":null,\"data_source\":{\"id\":\"1196\"},\"glyph\":{\"id\":\"1204\"},\"group\":null,\"hover_glyph\":{\"id\":\"1214\"},\"selection_glyph\":{\"id\":\"1209\"},\"view\":{\"id\":\"1198\"}},\"id\":\"1197\",\"type\":\"GlyphRenderer\"},{\"attributes\":{\"fill_color\":{\"value\":\"#2b83ba\"},\"size\":{\"value\":15}},\"id\":\"1204\",\"type\":\"Circle\"},{\"attributes\":{},\"id\":\"1236\",\"type\":\"EdgesAndLinkedNodes\"},{\"attributes\":{\"callback\":null},\"id\":\"1189\",\"type\":\"TapTool\"},{\"attributes\":{\"source\":{\"id\":\"1196\"}},\"id\":\"1198\",\"type\":\"CDSView\"},{\"attributes\":{\"coordinates\":null,\"edge_renderer\":{\"id\":\"1201\"},\"group\":null,\"inspection_policy\":{\"id\":\"1236\"},\"layout_provider\":{\"id\":\"1203\"},\"node_renderer\":{\"id\":\"1197\"},\"selection_policy\":{\"id\":\"1234\"}},\"id\":\"1194\",\"type\":\"GraphRenderer\"},{\"attributes\":{\"line_color\":{\"value\":\"#fdae61\"},\"line_width\":{\"value\":5}},\"id\":\"1224\",\"type\":\"MultiLine\"},{\"attributes\":{\"overlay\":{\"id\":\"1267\"}},\"id\":\"1190\",\"type\":\"BoxSelectTool\"},{\"attributes\":{\"line_color\":{\"value\":\"#abdda4\"},\"line_width\":{\"value\":5}},\"id\":\"1229\",\"type\":\"MultiLine\"},{\"attributes\":{\"tools\":[{\"id\":\"1188\"},{\"id\":\"1189\"},{\"id\":\"1190\"}]},\"id\":\"1191\",\"type\":\"Toolbar\"},{\"attributes\":{},\"id\":\"1234\",\"type\":\"NodesAndLinkedEdges\"},{\"attributes\":{\"data\":{\"index\":[0,1,2,3,4,5,6,7]},\"selected\":{\"id\":\"1269\"},\"selection_policy\":{\"id\":\"1268\"}},\"id\":\"1196\",\"type\":\"ColumnDataSource\"},{\"attributes\":{},\"id\":\"1269\",\"type\":\"Selection\"}],\"root_ids\":[\"1184\"]},\"title\":\"Bokeh Application\",\"version\":\"2.4.3\"}};\n  const render_items = [{\"docid\":\"faf53ff0-43f1-49e9-a614-f00e5350db5d\",\"root_ids\":[\"1184\"],\"roots\":{\"1184\":\"a0ef1c95-06dd-4d62-b776-a602f5523289\"}}];\n  root.Bokeh.embed.embed_items_notebook(docs_json, render_items);\n  }\n  if (root.Bokeh !== undefined) {\n    embed_document(root);\n  } else {\n    let attempts = 0;\n    const timer = setInterval(function(root) {\n      if (root.Bokeh !== undefined) {\n        clearInterval(timer);\n        embed_document(root);\n      } else {\n        attempts++;\n        if (attempts > 100) {\n          clearInterval(timer);\n          console.log(\"Bokeh: ERROR: Unable to run BokehJS code because BokehJS library is missing\");\n        }\n      }\n    }, 10, root)\n  }\n})(window);",
      "application/vnd.bokehjs_exec.v0+json": ""
     },
     "metadata": {
      "application/vnd.bokehjs_exec.v0+json": {
       "id": "1184"
      }
     },
     "output_type": "display_data"
    }
   ],
   "source": [
    "G = nx.from_numpy_matrix(W := np.matrix('''\n",
    "    0 0.54 0.14 0 0 0 0 0.47;\n",
    "    0.54 0 0.63 0.35 0.30 0 0 0.31;\n",
    "    0.14 0.63 0 0.31 0 0 0 0;\n",
    "    0 0.35 0.31 0 0.54 0.43 0 0.13;\n",
    "    0 0.30 0 0.54 0 0.54 0.62 0.54;\n",
    "    0 0 0 0.43 0.54 0 0.37 0;\n",
    "    0 0 0 0 0.62 0.37 0 0;\n",
    "    0.47 0.31 0 0.13 0.54 0 0 0\n",
    "'''))\n",
    "\n",
    "plot_graph(W, 'G')"
   ]
  },
  {
   "cell_type": "code",
   "execution_count": 16,
   "metadata": {},
   "outputs": [
    {
     "data": {
      "text/plain": [
       "array([[1.15, 0.  , 0.  , 0.  , 0.  , 0.  , 0.  , 0.  ],\n",
       "       [0.  , 2.13, 0.  , 0.  , 0.  , 0.  , 0.  , 0.  ],\n",
       "       [0.  , 0.  , 1.08, 0.  , 0.  , 0.  , 0.  , 0.  ],\n",
       "       [0.  , 0.  , 0.  , 1.76, 0.  , 0.  , 0.  , 0.  ],\n",
       "       [0.  , 0.  , 0.  , 0.  , 2.54, 0.  , 0.  , 0.  ],\n",
       "       [0.  , 0.  , 0.  , 0.  , 0.  , 1.34, 0.  , 0.  ],\n",
       "       [0.  , 0.  , 0.  , 0.  , 0.  , 0.  , 0.99, 0.  ],\n",
       "       [0.  , 0.  , 0.  , 0.  , 0.  , 0.  , 0.  , 1.45]])"
      ]
     },
     "execution_count": 16,
     "metadata": {},
     "output_type": "execute_result"
    }
   ],
   "source": [
    "# degree matrix\n",
    "D = np.zeros((8, 8))\n",
    "for i in range(8):\n",
    "    D[i, i] = np.sum(W[i])\n",
    "\n",
    "D"
   ]
  },
  {
   "cell_type": "code",
   "execution_count": 17,
   "metadata": {},
   "outputs": [
    {
     "data": {
      "text/plain": [
       "matrix([[ 1.15, -0.54, -0.14,  0.  ,  0.  ,  0.  ,  0.  , -0.47],\n",
       "        [-0.54,  2.13, -0.63, -0.35, -0.3 ,  0.  ,  0.  , -0.31],\n",
       "        [-0.14, -0.63,  1.08, -0.31,  0.  ,  0.  ,  0.  ,  0.  ],\n",
       "        [ 0.  , -0.35, -0.31,  1.76, -0.54, -0.43,  0.  , -0.13],\n",
       "        [ 0.  , -0.3 ,  0.  , -0.54,  2.54, -0.54, -0.62, -0.54],\n",
       "        [ 0.  ,  0.  ,  0.  , -0.43, -0.54,  1.34, -0.37,  0.  ],\n",
       "        [ 0.  ,  0.  ,  0.  ,  0.  , -0.62, -0.37,  0.99,  0.  ],\n",
       "        [-0.47, -0.31,  0.  , -0.13, -0.54,  0.  ,  0.  ,  1.45]])"
      ]
     },
     "execution_count": 17,
     "metadata": {},
     "output_type": "execute_result"
    }
   ],
   "source": [
    "# Laplacian\n",
    "L = D - W\n",
    "L"
   ]
  },
  {
   "cell_type": "markdown",
   "metadata": {},
   "source": [
    "Normalized Laplacian \n",
    "\n",
    "$$\n",
    "\\textbf{L}_N = \\textbf{D}^{-1/2}(\\textbf{D}-\\textbf{W})\\textbf{D}^{-1/2}\n",
    "$$\n",
    "\n",
    "All negative powers considered inverse, so: $ D^{-1/2} $ is `sqrtm(inv(D))`"
   ]
  },
  {
   "cell_type": "code",
   "execution_count": 18,
   "metadata": {},
   "outputs": [
    {
     "data": {
      "text/plain": [
       "array([[ 1.  , -0.35, -0.13,  0.  ,  0.  ,  0.  ,  0.  , -0.36],\n",
       "       [-0.35,  1.  , -0.42, -0.18, -0.13,  0.  ,  0.  , -0.18],\n",
       "       [-0.13, -0.42,  1.  , -0.22,  0.  ,  0.  ,  0.  ,  0.  ],\n",
       "       [ 0.  , -0.18, -0.22,  1.  , -0.26, -0.28,  0.  , -0.08],\n",
       "       [ 0.  , -0.13,  0.  , -0.26,  1.  , -0.29, -0.39, -0.28],\n",
       "       [ 0.  ,  0.  ,  0.  , -0.28, -0.29,  1.  , -0.32,  0.  ],\n",
       "       [ 0.  ,  0.  ,  0.  ,  0.  , -0.39, -0.32,  1.  ,  0.  ],\n",
       "       [-0.36, -0.18,  0.  , -0.08, -0.28,  0.  ,  0.  ,  1.  ]])"
      ]
     },
     "execution_count": 18,
     "metadata": {},
     "output_type": "execute_result"
    }
   ],
   "source": [
    "# normalized Laplacian \n",
    "from scipy.linalg import sqrtm\n",
    "from numpy.linalg import matrix_power, inv\n",
    "\n",
    "np.around(sqrtm(inv(D)) @ (D-W) @ sqrtm(inv(D)), 2)"
   ]
  },
  {
   "cell_type": "markdown",
   "metadata": {},
   "source": [
    "### Walks\n",
    "The number of walks between n amd  of length K is equal to the element (m, n) of matrix A^K, walks can include vertices multiple times\n",
    "\n",
    "Number of walks between m and n of length not higher than K is equal to (m, n) of B_k, where:\n",
    "\n",
    "$$\n",
    "\\textbf{B}_K = \\textbf{A} + \\textbf{A}^2+...+\\textbf{A}^K\n",
    "$$\n",
    "\n",
    "### Paths\n",
    "Walk where each vertex may be included only once, path length equal to number of edges  \n",
    "\n",
    "---\n",
    "\n",
    "Distance between two vertices is shortest path length between them  \n",
    "\n",
    "### Diameter\n",
    "Diameter is equal to largest distance between all pairs of vertices in graph  \n",
    "\n",
    "### Connected Graphs\n",
    "If graph not conncted, it is two or more disjoint graphs with $\\textbf{A}$, A for graph with M disjoint components, note zeros are vectors, block is formed only if vertex numbering follows graph components:\n",
    "\n",
    "$$\n",
    "\\begin{bmatrix}\n",
    "\\textbf{A}_1 &  0 & ... & 0\\\\\n",
    "0 & \\textbf{A} & ... & 0\\\\\n",
    "... & ... & ... & ...\\\\\n",
    "0 & 0 & ... & \\textbf{A}_M\n",
    "\\end{bmatrix}\n",
    "$$\n",
    "and Laplacian\n",
    "$$\n",
    "\\begin{bmatrix}\n",
    "\\textbf{L}_1 &  0 & ... & 0\\\\\n",
    "0 & \\textbf{L} & ... & 0\\\\\n",
    "... & ... & ... & ...\\\\\n",
    "0 & 0 & ... & \\textbf{L}_M\n",
    "\\end{bmatrix}\n",
    "$$"
   ]
  },
  {
   "cell_type": "markdown",
   "metadata": {},
   "source": [
    "$$\n",
    "\\textbf{A} = \\textbf{A}_1 \\bigotimes\\textbf{A}_2\n",
    "$$"
   ]
  },
  {
   "cell_type": "code",
   "execution_count": 19,
   "metadata": {},
   "outputs": [
    {
     "data": {
      "image/png": "[encoded data removed]",
      "text/plain": [
       "<Figure size 432x288 with 1 Axes>"
      ]
     },
     "metadata": {},
     "output_type": "display_data"
    }
   ],
   "source": [
    "# Kronecker\n",
    "from numpy import kron \n",
    "A_1 = np.matrix('''\n",
    "    0 1 0 1 0;\n",
    "    0 0 1 1 0;\n",
    "    0 1 0 0 1;\n",
    "    1 1 0 0 1;\n",
    "    0 0 1 1 0\n",
    "''')\n",
    "\n",
    "nx.draw(G_1 := nx.from_numpy_matrix(A_1))\n",
    "\n",
    "A_2 = np.matrix('''\n",
    "    0 1;\n",
    "    1 0\n",
    "''')\n",
    "nx.draw(G_2 := nx.from_numpy_matrix(A_2))\n"
   ]
  },
  {
   "cell_type": "code",
   "execution_count": 20,
   "metadata": {},
   "outputs": [
    {
     "data": {
      "image/png": "[encoded data removed]",
      "text/plain": [
       "<Figure size 432x288 with 1 Axes>"
      ]
     },
     "metadata": {},
     "output_type": "display_data"
    }
   ],
   "source": [
    "kron_prod = kron(A_1, A_2)\n",
    "nx.draw(G_kron := nx.from_numpy_matrix(kron_prod))"
   ]
  },
  {
   "cell_type": "markdown",
   "metadata": {},
   "source": [
    "## Eigenvalue Stuff  \n",
    "Renumbering vertices does not change graph (isomorphic)\n",
    "Isomorphic graphs: if there's a 1 to 1 mapping from one graph to another preserving the exact number of edges for every pair of nodes. Mapping is called isomorphism  \n",
    "Determinant of adjacency matrix $A$ = $|A|$  \n",
    "\n",
    "\n",
    "Theorem:  \n",
    "The spectrum is finite sequence of numerical invariants. We can use the spectrum instead of the graph, if we have efficient ways to encode/decode graph spectra\n",
    "$$\n",
    "\\bold{A}\\bold{u} = \\lambda\\bold{u}\n",
    "$$\n",
    "\n",
    "where $\\lambda$ is eigenvalue, $\\bold{u}$ is eigenvector  \n",
    "\n",
    "\n",
    "alternately:\n",
    "$$\n",
    "(\\bold{A}-\\lambda\\bold{I})\\bold{u}=0\n",
    "$$ \n",
    "\n",
    "if $det||A-\\lambda I|| = 0$ then non-trivial solution exists  \n",
    "Characteristic polynomial $|\\lambda I - A|$, eigenvalues of $A$ are zeros of the $P_G(\\lambda)$.  \n",
    "\n",
    "$$\n",
    "P(\\lambda)=\\text{det}\\| \\bold{A}-\\lambda\\bold{I} \\|\n",
    "$$\n",
    "\n",
    "$$\n",
    "P(\\lambda)=\\lambda^N+c_1\\lambda^{N-1}+...+C_N\n",
    "$$\n",
    "\n",
    "\n",
    "Spectrum of $A$ also consist the eignenvalues(entire set $[\\lambda_1,...\\lambda_n])$  \n",
    "OR $Ax=\\lambda x$ for usual decomposition\n",
    "Order of $P$ is equal to number of vertices, there are $N$ eigenvalues  \n",
    "Sum of eigenvalues equal to sum of diagonal elements of matrix, hence $c_1 = 0$ for characteristic polynomial of $A$, $c_2$ is equal to number of edges times -1  \n",
    "\n",
    "> The algebraic multiplicity of an eigenvalue is the number of times it appears as a root of the characteristic polynomial\n",
    "\n",
    "Multiplicity of largest eigenvalue is greater than 1 for a connected graph  \n",
    "\n",
    "If all eigenvalues are distinct (multiplicity of 1):\n",
    "$$\n",
    "\\bold{AU} = \\bold{U\\Lambda}\n",
    "$$ \n",
    "\n",
    "where $\\Lambda$ is diagonal with eigenvalues on the diagonal, and $\\bold{U}$ is matrix of eigenvectors $\\bold{u}_k$ as columns  "
   ]
  },
  {
   "cell_type": "code",
   "execution_count": 21,
   "metadata": {},
   "outputs": [],
   "source": [
    "A = np.array([\n",
    "    [0, 1, 1, 0, 0, 0, 0, 1],\n",
    "    [1, 0, 1, 1, 1, 0, 0, 1],\n",
    "    [1, 1, 0, 1, 0, 0, 0, 0],\n",
    "    [0, 1, 1, 0, 1, 1, 0, 1],\n",
    "    [0, 1, 0, 1, 0, 1, 1, 1],\n",
    "    [0, 0, 0, 1, 1, 0, 1, 0],\n",
    "    [0, 0, 0, 0, 1, 1, 0, 0],\n",
    "    [1, 1, 0, 1, 1, 0, 0, 0],\n",
    "]) \n",
    "\n",
    "w,v = np.linalg.eig(A)"
   ]
  },
  {
   "cell_type": "code",
   "execution_count": 22,
   "metadata": {},
   "outputs": [
    {
     "data": {
      "text/latex": [
       "$\\displaystyle 1.0 λ^{8} - 15.0 λ^{6} - 18.0 λ^{5} + 33.0 λ^{4} + 60.0 λ^{3} + 16.0 λ^{2} - 6.0 λ$"
      ],
      "text/plain": [
       "1.0*λ**8 - 15.0*λ**6 - 18.0*λ**5 + 33.0*λ**4 + 60.0*λ**3 + 16.0*λ**2 - 6.0*λ"
      ]
     },
     "execution_count": 22,
     "metadata": {},
     "output_type": "execute_result"
    }
   ],
   "source": [
    "\n",
    "l = sym.Symbol(u'\\u03BB') # lambda\n",
    "I = np.identity(8)\n",
    "\n",
    "\n",
    "# P(lambda) for above\n",
    "# order equal to N\n",
    "P = sym.Matrix(A- l * I).det()\n",
    "P"
   ]
  },
  {
   "cell_type": "code",
   "execution_count": 33,
   "metadata": {},
   "outputs": [
    {
     "data": {
      "text/plain": [
       "<StemContainer object of 3 artists>"
      ]
     },
     "execution_count": 33,
     "metadata": {},
     "output_type": "execute_result"
    },
    {
     "data": {
      "image/png": "[encoded data removed]",
      "text/plain": [
       "<Figure size 432x288 with 1 Axes>"
      ]
     },
     "metadata": {
      "needs_background": "light"
     },
     "output_type": "display_data"
    }
   ],
   "source": [
    "eigenvalues = sym.solvers.solve(P) # roots of P, these are eigenvalues\n",
    "eigenvalues = np.array(eigenvalues).astype(np.float32)\n",
    "plt.stem(eigenvalues)"
   ]
  },
  {
   "cell_type": "code",
   "execution_count": 24,
   "metadata": {},
   "outputs": [
    {
     "data": {
      "text/plain": [
       "array([ 4.05972216e+00,  1.79634500e+00, -2.19294057e+00, -1.74979075e+00,\n",
       "       -1.32142784e+00, -7.95801735e-01,  1.12449344e-16,  2.03893733e-01])"
      ]
     },
     "execution_count": 24,
     "metadata": {},
     "output_type": "execute_result"
    }
   ],
   "source": [
    "eigenvalues, eigenvectors = np.linalg.eig(A) # eigh is for symmetric matrice\n",
    "eigenvalues.T # same as above"
   ]
  },
  {
   "cell_type": "code",
   "execution_count": 25,
   "metadata": {},
   "outputs": [
    {
     "name": "stderr",
     "output_type": "stream",
     "text": [
      "/home/aadi/miniconda3/envs/tf_graph/lib/python3.8/site-packages/networkx/linalg/spectrum.py:110: FutureWarning: adjacency_matrix will return a scipy.sparse array instead of a matrix in Networkx 3.0.\n",
      "  return sp.linalg.eigvals(nx.adjacency_matrix(G, weight=weight).todense())\n"
     ]
    },
    {
     "data": {
      "text/plain": [
       "array([ 4.05972216e+00+0.j,  1.79634500e+00+0.j, -2.19294057e+00+0.j,\n",
       "       -1.74979075e+00+0.j, -1.32142784e+00+0.j, -7.95801735e-01+0.j,\n",
       "        1.12449344e-16+0.j,  2.03893733e-01+0.j])"
      ]
     },
     "execution_count": 25,
     "metadata": {},
     "output_type": "execute_result"
    }
   ],
   "source": [
    "nx.adjacency_spectrum(nx.from_numpy_matrix(A))"
   ]
  },
  {
   "cell_type": "code",
   "execution_count": 27,
   "metadata": {},
   "outputs": [
    {
     "data": {
      "text/plain": [
       "<StemContainer object of 3 artists>"
      ]
     },
     "execution_count": 27,
     "metadata": {},
     "output_type": "execute_result"
    },
    {
     "data": {
      "image/png": "[encoded data removed]",
      "text/plain": [
       "<Figure size 432x288 with 1 Axes>"
      ]
     },
     "metadata": {
      "needs_background": "light"
     },
     "output_type": "display_data"
    }
   ],
   "source": [
    "from matplotlib import pyplot as plt\n",
    "\n",
    "plt.stem(eigenvalues)"
   ]
  },
  {
   "cell_type": "markdown",
   "metadata": {},
   "source": [
    "## Eigenvalue of Laplacian\n",
    "\n",
    "$$ \n",
    "\\bold{L = U\\Lambda U}^T\n",
    "$$\n",
    "\n",
    "$\\Lambda$ is diagonal matrix with Laplacian eigenvalues  \n",
    "$\\bold{U}$ is matrix of eigenvectors (columns) with $U^{-1}$ = U^T$  "
   ]
  },
  {
   "cell_type": "code",
   "execution_count": 50,
   "metadata": {},
   "outputs": [
    {
     "data": {
      "text/plain": [
       "array([[ 3, -1, -1,  0,  0,  0,  0, -1],\n",
       "       [-1,  5, -1, -1, -1,  0,  0, -1],\n",
       "       [-1, -1,  3, -1,  0,  0,  0,  0],\n",
       "       [ 0, -1, -1,  5, -1, -1,  0, -1],\n",
       "       [ 0, -1,  0, -1,  5, -1, -1, -1],\n",
       "       [ 0,  0,  0, -1, -1,  3, -1,  0],\n",
       "       [ 0,  0,  0,  0, -1, -1,  2,  0],\n",
       "       [-1, -1,  0, -1, -1,  0,  0,  4]])"
      ]
     },
     "execution_count": 50,
     "metadata": {},
     "output_type": "execute_result"
    }
   ],
   "source": [
    "import scipy\n",
    "from scipy.sparse.csgraph import laplacian\n",
    "\n",
    "L = laplacian(A)\n",
    "L"
   ]
  },
  {
   "cell_type": "code",
   "execution_count": 52,
   "metadata": {},
   "outputs": [
    {
     "data": {
      "text/plain": [
       "<StemContainer object of 3 artists>"
      ]
     },
     "execution_count": 52,
     "metadata": {},
     "output_type": "execute_result"
    },
    {
     "data": {
      "image/png": "[encoded data removed]",
      "text/plain": [
       "<Figure size 432x288 with 1 Axes>"
      ]
     },
     "metadata": {
      "needs_background": "light"
     },
     "output_type": "display_data"
    }
   ],
   "source": [
    "L_eigenvals = np.linalg.eigvals(L)\n",
    "plt.stem(L_eigenvals)"
   ]
  },
  {
   "cell_type": "code",
   "execution_count": 46,
   "metadata": {},
   "outputs": [
    {
     "data": {
      "text/plain": [
       "<StemContainer object of 3 artists>"
      ]
     },
     "execution_count": 46,
     "metadata": {},
     "output_type": "execute_result"
    },
    {
     "data": {
      "image/png": "[encoded data removed]",
      "text/plain": [
       "<Figure size 432x288 with 1 Axes>"
      ]
     },
     "metadata": {
      "needs_background": "light"
     },
     "output_type": "display_data"
    }
   ],
   "source": [
    "plt.stem(L_eigenvectors[0])"
   ]
  }
 ],
 "metadata": {
  "kernelspec": {
   "display_name": "Python 3.8.13 ('tf_graph')",
   "language": "python",
   "name": "python3"
  },
  "language_info": {
   "codemirror_mode": {
    "name": "ipython",
    "version": 3
   },
   "file_extension": ".py",
   "mimetype": "text/x-python",
   "name": "python",
   "nbconvert_exporter": "python",
   "pygments_lexer": "ipython3",
   "version": "3.8.13"
  },
  "orig_nbformat": 4,
  "vscode": {
   "interpreter": {
    "hash": "a2b174a8df722053f6702cdd2d38978c09bd7cd9b46b357fd85df187993bc3f3"
   }
  }
 },
 "nbformat": 4,
 "nbformat_minor": 2
}
