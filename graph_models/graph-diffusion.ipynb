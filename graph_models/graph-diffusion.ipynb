{
 "cells": [
  {
   "cell_type": "markdown",
   "metadata": {},
   "source": [
    "---\n",
    "title: \"Graph Diffusion\"\n",
    "date: 2022-07-25T00:00:00-00:00\n",
    "math: true\n",
    "---\n",
    "{{< math.inline >}}\n",
    "{{ if or .Page.Params.math .Site.Params.math }}\n",
    "\n",
    "<!-- KaTeX -->\n",
    "<link rel=\"stylesheet\" href=\"https://cdn.jsdelivr.net/npm/katex@0.11.1/dist/katex.min.css\" integrity=\"sha384-zB1R0rpPzHqg7Kpt0Aljp8JPLqbXI3bhnPWROx27a9N0Ll6ZP/+DiW/UqRcLbRjq\" crossorigin=\"anonymous\">\n",
    "<script defer src=\"https://cdn.jsdelivr.net/npm/katex@0.11.1/dist/katex.min.js\" integrity=\"sha384-y23I5Q6l+B6vatafAwxRu/0oK/79VlbSz7Q9aiSZUvyWYIYsd+qj+o24G5ZU2zJz\" crossorigin=\"anonymous\"></script>\n",
    "<script defer src=\"https://cdn.jsdelivr.net/npm/katex@0.11.1/dist/contrib/auto-render.min.js\" integrity=\"sha384-kWPLUVMOks5AQFrykwIup5lo0m3iMkkHrD0uJ4H5cjeGihAutqP0yW0J6dpFiVkI\" crossorigin=\"anonymous\" onload=\"renderMathInElement(document.body);\"></script>\n",
    "\n",
    "<script>\n",
    "    document.addEventListener(\"DOMContentLoaded\", function() {\n",
    "        renderMathInElement(document.body, {\n",
    "            delimiters: [\n",
    "                {left: \"$$\", right: \"$$\", display: true},\n",
    "                {left: \"$\", right: \"$\", display: false}\n",
    "            ]\n",
    "        });\n",
    "    });\n",
    "</script>\n",
    "\n",
    "{{ end }}\n",
    "{{</ math.inline >}}"
   ]
  },
  {
   "cell_type": "markdown",
   "metadata": {},
   "source": [
    "# Graph Diffusion\n",
    "This is taken from [Diffusion Convolutional Neural Networks](https://arxiv.org/pdf/1511.02136v6.pdf) (referenced in the footer). According to the authors, a **diffusion convolution** scans a diffusion process across each node. Analog to biology, where the information is allowed to propagate conditional of its density and environment.\n",
    "\n",
    "It was applied to node classification, edge classification and graph classification, but node-classification is the task I wanted to focus on. When first presented, it was a novel way to effectively apply convolutions (invariant to location and rotation), to arbitrarily-structured data (i.e. graphs). Based on the results presented, the DCNN model outperformed a probabilistic-relational model in citation (a *conditional-random field*, no I do not know much about that) in graph topic-classification. \n",
    "\n",
    "Diffusion outperforms probabilistic relational methods, is flesible  to handle graphs with node features, edge features and purely structural information, is polynomial-time, model only has $H/times F$ parameters (H is num hops, F is num features), completed with a dense layer connecting $Z$ to the conditional prediction\n",
    "\n",
    "\n",
    "Main point in the paper was using a novel way to propagate the features throughout the graph structure"
   ]
  },
  {
   "cell_type": "code",
   "execution_count": 171,
   "metadata": {},
   "outputs": [],
   "source": [
    "import networkx as nx\n",
    "import tensorflow as tf\n",
    "import numpy as np"
   ]
  },
  {
   "cell_type": "markdown",
   "metadata": {},
   "source": [
    "# Simple Example\n",
    "\n",
    "This is getting more intimate with Graph Diffusion, since the term seemed a bit hand-wavy (especially as the authors define it by quoting as a \"diffusion mechanism\"):\n",
    "\n",
    ">  *\"Briefly, rather than scanning a ‘square’ of parameters across a grid-structured input like the standard convolution operation, the diffusion-convolution operation builds a latent representation by scanning a diffusion process across each node in a graph-structured input\"*"
   ]
  },
  {
   "cell_type": "code",
   "execution_count": 99,
   "metadata": {},
   "outputs": [
    {
     "name": "stdout",
     "output_type": "stream",
     "text": [
      "A.shape=(5, 5), X.shape=(5, 2), Y.shape=(5, 2)\n"
     ]
    },
    {
     "data": {
      "image/png": "[encoded data removed]",
      "text/plain": [
       "<Figure size 432x288 with 1 Axes>"
      ]
     },
     "metadata": {},
     "output_type": "display_data"
    }
   ],
   "source": [
    "# define a simple adjacency matrix\n",
    "A = np.matrix('''\n",
    "    0 1 0 1 0;\n",
    "    1 0 0 1 1;\n",
    "    0 0 0 1 0;\n",
    "    1 1 1 0 0;\n",
    "    0 1 0 0 0\n",
    "''')\n",
    "\n",
    "# feature matrix\n",
    "X = np.matrix('''\n",
    "    2 0;\n",
    "    0 4;\n",
    "    3 1;\n",
    "    5 6;\n",
    "    9 3\n",
    "''')\n",
    "\n",
    "\n",
    "# labels \n",
    "Y = np.matrix('''\n",
    "    0 1;\n",
    "    1 0; \n",
    "    1 0;\n",
    "    1 0;\n",
    "    0 1\n",
    "''')\n",
    "\n",
    "print(f'{A.shape=}, {X.shape=}, {Y.shape=}')\n",
    "\n",
    "# just for plotting\n",
    "G = nx.from_numpy_matrix(A)\n",
    "nx.draw_networkx(G, with_labels=True)"
   ]
  },
  {
   "cell_type": "markdown",
   "metadata": {},
   "source": [
    "The diffusion kernel is given by:\n",
    "$$\n",
    "[A^{0}, A^{1},...,A^{k-1}]\n",
    "$$\n",
    "\n",
    "where $A$ is the adjacency matrix, and $k$ is the number of 1-hops. Normalizing the adjacency matrix is achived by dividing by the degree matrix $D$ at each stage, so it ends up being:\n",
    "\n",
    "$$\n",
    "A^{i+1} = \\frac{A}{d}\\times A^{i}\n",
    "$$\n",
    "\n",
    "Experimenting with $k=2$ hops, so the first dimension of $K$ would be $3$ if self-loops are included."
   ]
  },
  {
   "cell_type": "code",
   "execution_count": 100,
   "metadata": {},
   "outputs": [
    {
     "data": {
      "text/plain": [
       "(5, 3, 5)"
      ]
     },
     "execution_count": 100,
     "metadata": {},
     "output_type": "execute_result"
    }
   ],
   "source": [
    "k = 2 # num-hops\n",
    "K = [np.identity(A.shape[0])]\n",
    "\n",
    "d = A.sum(0)\n",
    "\n",
    "K.append(A / (d+1.0))\n",
    "for i in range(2, k+1):\n",
    "    K.append(\n",
    "        np.dot(A/(d+1.0), K[-1])\n",
    "    )\n",
    "\n",
    "K = np.array(K, dtype=np.float32) # at this point, shape is [k+1, num_nodes, num_nodes]\n",
    "K = np.transpose(K, (1, 0, 2)) # here it becomes (num_nodes, k+1, num_nodes)\n",
    "\n",
    "\n",
    "K.shape"
   ]
  },
  {
   "cell_type": "markdown",
   "metadata": {},
   "source": [
    "Indexes diffusion kernel for node one, here's how to read it:\n",
    "\n",
    "$i^{th}$ index is number of hops  \n",
    "$j^{th}$ index is to which node  \n",
    "\n",
    "So the probability of jumping to node 1 in 1 hop 0.25 (zero-indexed), whilst probabilities for all nodes in $0$ hops are $0$ for obvious reasons\n"
   ]
  },
  {
   "cell_type": "code",
   "execution_count": 101,
   "metadata": {},
   "outputs": [
    {
     "data": {
      "text/plain": [
       "array([[1.        , 0.        , 0.        , 0.        , 0.        ],\n",
       "       [0.        , 0.25      , 0.        , 0.25      , 0.        ],\n",
       "       [0.16666667, 0.0625    , 0.125     , 0.0625    , 0.125     ]],\n",
       "      dtype=float32)"
      ]
     },
     "execution_count": 101,
     "metadata": {},
     "output_type": "execute_result"
    }
   ],
   "source": [
    "K[0] "
   ]
  },
  {
   "cell_type": "markdown",
   "metadata": {},
   "source": [
    "Once the diffusion kernel is defined, the next step was to weight the product of the diffusion kernel with node features using a weight matrix:  \n",
    "\n",
    "$$\n",
    "Z = f(W^c\\odot P^*X)\n",
    "$$\n",
    "\n",
    "$W$ is a weight matrix, let $P^*X$ be $PX$  \n",
    "The product of the following is indexed as follows:  \n",
    "- $i^{th}$ indexes an individual node  \n",
    "- $j^{th}$ is number of hops  \n",
    "- $k^{th}$ is feature (I think)\n",
    "\n",
    "PX captures the probability of hopping, hence allows the features to propagate conditional to their $k$-hop distance to neighbours  "
   ]
  },
  {
   "cell_type": "code",
   "execution_count": 102,
   "metadata": {},
   "outputs": [
    {
     "data": {
      "text/plain": [
       "(array([[[1.        , 0.        , 0.        , 0.        , 0.        ],\n",
       "         [0.        , 0.25      , 0.        , 0.25      , 0.        ],\n",
       "         [0.16666667, 0.0625    , 0.125     , 0.0625    , 0.125     ]],\n",
       " \n",
       "        [[0.        , 1.        , 0.        , 0.        , 0.        ],\n",
       "         [0.33333334, 0.        , 0.        , 0.25      , 0.5       ],\n",
       "         [0.08333334, 0.27083334, 0.125     , 0.08333334, 0.        ]],\n",
       " \n",
       "        [[0.        , 0.        , 1.        , 0.        , 0.        ],\n",
       "         [0.        , 0.        , 0.        , 0.25      , 0.        ],\n",
       "         [0.08333334, 0.0625    , 0.125     , 0.        , 0.        ]],\n",
       " \n",
       "        [[0.        , 0.        , 0.        , 1.        , 0.        ],\n",
       "         [0.33333334, 0.25      , 0.5       , 0.        , 0.        ],\n",
       "         [0.08333334, 0.08333334, 0.        , 0.27083334, 0.125     ]],\n",
       " \n",
       "        [[0.        , 0.        , 0.        , 0.        , 1.        ],\n",
       "         [0.        , 0.25      , 0.        , 0.        , 0.        ],\n",
       "         [0.08333334, 0.        , 0.        , 0.0625    , 0.125     ]]],\n",
       "       dtype=float32),\n",
       " matrix([[2, 0],\n",
       "         [0, 4],\n",
       "         [3, 1],\n",
       "         [5, 6],\n",
       "         [9, 3]]))"
      ]
     },
     "execution_count": 102,
     "metadata": {},
     "output_type": "execute_result"
    }
   ],
   "source": [
    "K, X # K is kernel, X is features"
   ]
  },
  {
   "cell_type": "code",
   "execution_count": 103,
   "metadata": {},
   "outputs": [
    {
     "data": {
      "text/plain": [
       "(array([[[2.        , 0.        ],\n",
       "         [1.25      , 2.5       ],\n",
       "         [2.14583334, 1.125     ]],\n",
       " \n",
       "        [[0.        , 4.        ],\n",
       "         [6.41666669, 3.        ],\n",
       "         [0.95833335, 1.70833339]],\n",
       " \n",
       "        [[3.        , 1.        ],\n",
       "         [1.25      , 1.5       ],\n",
       "         [0.54166667, 0.375     ]],\n",
       " \n",
       "        [[5.        , 6.        ],\n",
       "         [2.16666669, 1.5       ],\n",
       "         [2.64583339, 2.3333334 ]],\n",
       " \n",
       "        [[9.        , 3.        ],\n",
       "         [0.        , 1.        ],\n",
       "         [1.60416667, 0.75      ]]]),\n",
       " (5, 3, 2))"
      ]
     },
     "execution_count": 103,
     "metadata": {},
     "output_type": "execute_result"
    }
   ],
   "source": [
    "PX = np.einsum('ijk,kl->ijl', K, X) # same as tf.matmul(K, X)\n",
    "PX, PX.shape"
   ]
  },
  {
   "cell_type": "code",
   "execution_count": 104,
   "metadata": {},
   "outputs": [
    {
     "data": {
      "text/plain": [
       "array([[0.        , 4.        ],\n",
       "       [6.41666669, 3.        ],\n",
       "       [0.95833335, 1.70833339]])"
      ]
     },
     "execution_count": 104,
     "metadata": {},
     "output_type": "execute_result"
    }
   ],
   "source": [
    "PX[1]"
   ]
  },
  {
   "cell_type": "markdown",
   "metadata": {},
   "source": [
    "$K$ = \n",
    "```\n",
    "        [[[1.        , 0.        , 0.        , 0.        , 0.        ],\n",
    "Hop 1 -> [0.        , 0.25      , 0.        , 0.25      , 0.        ],\n",
    "         [0.16666667, 0.0625    , 0.125     , 0.0625    , 0.125     ]],\n",
    " \n",
    "        [[0.        , 1.        , 0.        , 0.        , 0.        ],\n",
    "         [0.33333334, 0.        , 0.        , 0.25      , 0.5       ],\n",
    "         [0.08333334, 0.27083334, 0.125     , 0.08333334, 0.        ]],\n",
    " \n",
    "        [[0.        , 0.        , 1.        , 0.        , 0.        ],\n",
    "         [0.        , 0.        , 0.        , 0.25      , 0.        ],\n",
    "         [0.08333334, 0.0625    , 0.125     , 0.        , 0.        ]],\n",
    " \n",
    "        [[0.        , 0.        , 0.        , 1.        , 0.        ],\n",
    "         [0.33333334, 0.25      , 0.5       , 0.        , 0.        ],\n",
    "         [0.08333334, 0.08333334, 0.        , 0.27083334, 0.125     ]],\n",
    " \n",
    "        [[0.        , 0.        , 0.        , 0.        , 1.        ],\n",
    "         [0.        , 0.25      , 0.        , 0.        , 0.        ],\n",
    "         [0.08333334, 0.        , 0.        , 0.0625    , 0.125     ]]]\n",
    "```\n",
    "\n",
    "$X$ = \n",
    "```\n",
    "        [[2, 0],\n",
    "        [0, 4],\n",
    "        [3, 1],\n",
    "        [5, 6],\n",
    "        [9, 3]]\n",
    "```\n",
    "\n",
    "For node $0$, hop $1$, feature $1$, we take $K[0, 1]$ times $X[0, 1]$: "
   ]
  },
  {
   "cell_type": "markdown",
   "metadata": {},
   "source": [
    "This is less-optimized, but more index-friendly of rewriting the equation prior\n",
    "$$\n",
    "Z_{ijk} = f\\left(W^{c}_{jk}\\cdot\\sum_{l=1}^{N} P_{ijl}X_{lk}\\right)\n",
    "$$\n",
    "\n",
    "$N$ is number of nodes\n",
    "\n",
    "trying $(i=1, j=1, k=0)$, which should result in $PX[1, 1, 0]$"
   ]
  },
  {
   "cell_type": "code",
   "execution_count": 95,
   "metadata": {},
   "outputs": [
    {
     "data": {
      "text/plain": [
       "(array([0.33333334, 0.        , 0.        , 0.25      , 0.5       ],\n",
       "       dtype=float32),\n",
       " matrix([[0],\n",
       "         [4],\n",
       "         [1],\n",
       "         [6],\n",
       "         [3]]))"
      ]
     },
     "execution_count": 95,
     "metadata": {},
     "output_type": "execute_result"
    }
   ],
   "source": [
    "K[1, 1, :], X[:, 0]"
   ]
  },
  {
   "cell_type": "code",
   "execution_count": 108,
   "metadata": {},
   "outputs": [
    {
     "data": {
      "text/plain": [
       "matrix([[0.  ],\n",
       "        [1.  ],\n",
       "        [0.25],\n",
       "        [1.5 ],\n",
       "        [0.75]])"
      ]
     },
     "execution_count": 108,
     "metadata": {},
     "output_type": "execute_result"
    }
   ],
   "source": [
    "K[0, 1, 1] * X[:, 1]"
   ]
  },
  {
   "cell_type": "code",
   "execution_count": 109,
   "metadata": {},
   "outputs": [
    {
     "data": {
      "text/plain": [
       "6.416666686534882"
      ]
     },
     "execution_count": 109,
     "metadata": {},
     "output_type": "execute_result"
    }
   ],
   "source": [
    "np.sum(K[1, 1, :] * X[:, 0]) # It works! It's equal to PX[1, 1 ,0]"
   ]
  },
  {
   "cell_type": "code",
   "execution_count": 110,
   "metadata": {},
   "outputs": [
    {
     "data": {
      "text/plain": [
       "6.416666686534882"
      ]
     },
     "execution_count": 110,
     "metadata": {},
     "output_type": "execute_result"
    }
   ],
   "source": [
    "PX[1,1,0]"
   ]
  },
  {
   "cell_type": "markdown",
   "metadata": {},
   "source": [
    "Past this point, $Z$ is weighted once again using another set of weights and then subject to a nonlinear activation function, standard layers implemented by `keras` layers and hence less intellectually stimulating at first glance. I may return to this paper from a purely philosophical standpoint, but the previous notes cover the parts of Tensor calculus that confused me the most.\n",
    "\n",
    "For interested readers, I suggest the paper linked"
   ]
  },
  {
   "cell_type": "markdown",
   "metadata": {},
   "source": [
    "## References  \n",
    "[Atwood, J., & Towsley, D. (2016). Diffusion-convolutional neural networks. Advances in neural information processing systems, 29](https://arxiv.org/pdf/1511.02136v6.pdf)"
   ]
  }
 ],
 "metadata": {
  "interpreter": {
   "hash": "e77466243132226428062281b0383a9f20d536a64968a704f2d7c2fc2f75392e"
  },
  "kernelspec": {
   "display_name": "Python 3.8.13 64-bit ('tf_env': conda)",
   "name": "python3"
  },
  "language_info": {
   "codemirror_mode": {
    "name": "ipython",
    "version": 3
   },
   "file_extension": ".py",
   "mimetype": "text/x-python",
   "name": "python",
   "nbconvert_exporter": "python",
   "pygments_lexer": "ipython3",
   "version": "3.8.13"
  },
  "orig_nbformat": 4
 },
 "nbformat": 4,
 "nbformat_minor": 2
}
