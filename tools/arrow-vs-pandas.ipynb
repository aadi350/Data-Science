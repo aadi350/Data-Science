{
 "cells": [
  {
   "cell_type": "code",
   "execution_count": 1,
   "metadata": {},
   "outputs": [],
   "source": [
    "import pyarrow\n",
    "from pyarrow.csv import read_csv\n",
    "from pandas import DataFrame, read_csv\n",
    "import numpy as np\n",
    "from numpy import random"
   ]
  },
  {
   "cell_type": "code",
   "execution_count": 3,
   "metadata": {},
   "outputs": [],
   "source": [
    "for n in range(1, 64, 1):\n",
    "    # float data\n",
    "    N = 10**n\n",
    "    df = DataFrame({\n",
    "        f'num{i}': np.random.normal(loc=10000, scale=10, size=N) for i in range(1000)\n",
    "\n",
    "    })\n",
    "\n",
    "    df.to_csv(f'./{N}_test.csv')"
   ]
  },
  {
   "cell_type": "code",
   "execution_count": 7,
   "metadata": {},
   "outputs": [
    {
     "data": {
      "text/html": [
       "<div>\n",
       "<style scoped>\n",
       "    .dataframe tbody tr th:only-of-type {\n",
       "        vertical-align: middle;\n",
       "    }\n",
       "\n",
       "    .dataframe tbody tr th {\n",
       "        vertical-align: top;\n",
       "    }\n",
       "\n",
       "    .dataframe thead th {\n",
       "        text-align: right;\n",
       "    }\n",
       "</style>\n",
       "<table border=\"1\" class=\"dataframe\">\n",
       "  <thead>\n",
       "    <tr style=\"text-align: right;\">\n",
       "      <th></th>\n",
       "      <th>num0</th>\n",
       "      <th>num1</th>\n",
       "      <th>num2</th>\n",
       "      <th>num3</th>\n",
       "      <th>num4</th>\n",
       "      <th>num5</th>\n",
       "      <th>num6</th>\n",
       "      <th>num7</th>\n",
       "      <th>num8</th>\n",
       "      <th>num9</th>\n",
       "      <th>...</th>\n",
       "      <th>num90</th>\n",
       "      <th>num91</th>\n",
       "      <th>num92</th>\n",
       "      <th>num93</th>\n",
       "      <th>num94</th>\n",
       "      <th>num95</th>\n",
       "      <th>num96</th>\n",
       "      <th>num97</th>\n",
       "      <th>num98</th>\n",
       "      <th>num99</th>\n",
       "    </tr>\n",
       "  </thead>\n",
       "  <tbody>\n",
       "    <tr>\n",
       "      <th>0</th>\n",
       "      <td>10009.322422</td>\n",
       "      <td>10005.761196</td>\n",
       "      <td>10011.041771</td>\n",
       "      <td>9992.694524</td>\n",
       "      <td>10006.717946</td>\n",
       "      <td>9998.437267</td>\n",
       "      <td>10004.884927</td>\n",
       "      <td>9996.497731</td>\n",
       "      <td>9997.877795</td>\n",
       "      <td>10014.050641</td>\n",
       "      <td>...</td>\n",
       "      <td>9983.724614</td>\n",
       "      <td>9999.275988</td>\n",
       "      <td>9994.079134</td>\n",
       "      <td>10012.315507</td>\n",
       "      <td>10006.729136</td>\n",
       "      <td>10000.346258</td>\n",
       "      <td>9992.979852</td>\n",
       "      <td>10002.681374</td>\n",
       "      <td>9999.103166</td>\n",
       "      <td>9986.163671</td>\n",
       "    </tr>\n",
       "    <tr>\n",
       "      <th>1</th>\n",
       "      <td>10012.793745</td>\n",
       "      <td>10004.391720</td>\n",
       "      <td>9996.175314</td>\n",
       "      <td>10002.108222</td>\n",
       "      <td>9996.868078</td>\n",
       "      <td>10004.233953</td>\n",
       "      <td>10011.886376</td>\n",
       "      <td>9986.771494</td>\n",
       "      <td>10013.038451</td>\n",
       "      <td>10011.039089</td>\n",
       "      <td>...</td>\n",
       "      <td>9994.814846</td>\n",
       "      <td>9988.557358</td>\n",
       "      <td>10007.081566</td>\n",
       "      <td>9990.064405</td>\n",
       "      <td>9986.501688</td>\n",
       "      <td>9990.425477</td>\n",
       "      <td>10009.542316</td>\n",
       "      <td>10009.842328</td>\n",
       "      <td>9994.197750</td>\n",
       "      <td>10002.096706</td>\n",
       "    </tr>\n",
       "    <tr>\n",
       "      <th>2</th>\n",
       "      <td>9988.857097</td>\n",
       "      <td>10004.034726</td>\n",
       "      <td>9994.011463</td>\n",
       "      <td>10003.470123</td>\n",
       "      <td>10011.935413</td>\n",
       "      <td>9996.966858</td>\n",
       "      <td>10004.860464</td>\n",
       "      <td>9994.471676</td>\n",
       "      <td>10003.409555</td>\n",
       "      <td>10003.902767</td>\n",
       "      <td>...</td>\n",
       "      <td>9994.610601</td>\n",
       "      <td>9995.179142</td>\n",
       "      <td>9998.333552</td>\n",
       "      <td>10000.905948</td>\n",
       "      <td>9995.304245</td>\n",
       "      <td>9991.634602</td>\n",
       "      <td>10002.394357</td>\n",
       "      <td>10006.773440</td>\n",
       "      <td>9989.624385</td>\n",
       "      <td>9996.401979</td>\n",
       "    </tr>\n",
       "    <tr>\n",
       "      <th>3</th>\n",
       "      <td>10006.190673</td>\n",
       "      <td>10001.684236</td>\n",
       "      <td>9989.110171</td>\n",
       "      <td>9994.179655</td>\n",
       "      <td>9984.037388</td>\n",
       "      <td>9990.644656</td>\n",
       "      <td>9996.729715</td>\n",
       "      <td>10002.757978</td>\n",
       "      <td>9983.740426</td>\n",
       "      <td>9996.495262</td>\n",
       "      <td>...</td>\n",
       "      <td>10006.101561</td>\n",
       "      <td>10001.659506</td>\n",
       "      <td>9997.873017</td>\n",
       "      <td>9997.898941</td>\n",
       "      <td>10001.116571</td>\n",
       "      <td>10025.910004</td>\n",
       "      <td>9994.569161</td>\n",
       "      <td>10007.258481</td>\n",
       "      <td>9979.881470</td>\n",
       "      <td>10003.118093</td>\n",
       "    </tr>\n",
       "    <tr>\n",
       "      <th>4</th>\n",
       "      <td>10003.113078</td>\n",
       "      <td>10014.321705</td>\n",
       "      <td>10019.227332</td>\n",
       "      <td>9997.844719</td>\n",
       "      <td>10004.345396</td>\n",
       "      <td>10000.589766</td>\n",
       "      <td>9999.025137</td>\n",
       "      <td>10008.892711</td>\n",
       "      <td>10006.179461</td>\n",
       "      <td>10016.247246</td>\n",
       "      <td>...</td>\n",
       "      <td>9984.730892</td>\n",
       "      <td>9993.277325</td>\n",
       "      <td>9997.119435</td>\n",
       "      <td>10001.874455</td>\n",
       "      <td>10019.119974</td>\n",
       "      <td>9996.883425</td>\n",
       "      <td>10001.814206</td>\n",
       "      <td>9993.710912</td>\n",
       "      <td>9990.170320</td>\n",
       "      <td>9988.773851</td>\n",
       "    </tr>\n",
       "  </tbody>\n",
       "</table>\n",
       "<p>5 rows × 100 columns</p>\n",
       "</div>"
      ],
      "text/plain": [
       "           num0          num1          num2          num3          num4  \\\n",
       "0  10009.322422  10005.761196  10011.041771   9992.694524  10006.717946   \n",
       "1  10012.793745  10004.391720   9996.175314  10002.108222   9996.868078   \n",
       "2   9988.857097  10004.034726   9994.011463  10003.470123  10011.935413   \n",
       "3  10006.190673  10001.684236   9989.110171   9994.179655   9984.037388   \n",
       "4  10003.113078  10014.321705  10019.227332   9997.844719  10004.345396   \n",
       "\n",
       "           num5          num6          num7          num8          num9  ...  \\\n",
       "0   9998.437267  10004.884927   9996.497731   9997.877795  10014.050641  ...   \n",
       "1  10004.233953  10011.886376   9986.771494  10013.038451  10011.039089  ...   \n",
       "2   9996.966858  10004.860464   9994.471676  10003.409555  10003.902767  ...   \n",
       "3   9990.644656   9996.729715  10002.757978   9983.740426   9996.495262  ...   \n",
       "4  10000.589766   9999.025137  10008.892711  10006.179461  10016.247246  ...   \n",
       "\n",
       "          num90         num91         num92         num93         num94  \\\n",
       "0   9983.724614   9999.275988   9994.079134  10012.315507  10006.729136   \n",
       "1   9994.814846   9988.557358  10007.081566   9990.064405   9986.501688   \n",
       "2   9994.610601   9995.179142   9998.333552  10000.905948   9995.304245   \n",
       "3  10006.101561  10001.659506   9997.873017   9997.898941  10001.116571   \n",
       "4   9984.730892   9993.277325   9997.119435  10001.874455  10019.119974   \n",
       "\n",
       "          num95         num96         num97        num98         num99  \n",
       "0  10000.346258   9992.979852  10002.681374  9999.103166   9986.163671  \n",
       "1   9990.425477  10009.542316  10009.842328  9994.197750  10002.096706  \n",
       "2   9991.634602  10002.394357  10006.773440  9989.624385   9996.401979  \n",
       "3  10025.910004   9994.569161  10007.258481  9979.881470  10003.118093  \n",
       "4   9996.883425  10001.814206   9993.710912  9990.170320   9988.773851  \n",
       "\n",
       "[5 rows x 100 columns]"
      ]
     },
     "execution_count": 7,
     "metadata": {},
     "output_type": "execute_result"
    }
   ],
   "source": [
    "df.head()"
   ]
  },
  {
   "attachments": {},
   "cell_type": "markdown",
   "metadata": {},
   "source": [
    "# Tests\n",
    "## Loading a Large File"
   ]
  },
  {
   "cell_type": "code",
   "execution_count": null,
   "metadata": {},
   "outputs": [],
   "source": []
  },
  {
   "cell_type": "code",
   "execution_count": 4,
   "metadata": {},
   "outputs": [],
   "source": [
    "from time import sleep\n",
    "from tqdm import tqdm, trange\n",
    "from collections import defaultdict\n",
    "from datetime import datetime as dt "
   ]
  },
  {
   "cell_type": "code",
   "execution_count": 5,
   "metadata": {},
   "outputs": [
    {
     "name": "stderr",
     "output_type": "stream",
     "text": [
      "                                                           \r"
     ]
    }
   ],
   "source": [
    "# pandas\n",
    "n_iter = 50 # repeat 50 times\n",
    "pandas_times = defaultdict(list) \n",
    "for size in [10, 100, 1_000, 10_000, 100_000, 1_000_000]:\n",
    "    times = []\n",
    "    for _ in trange(n_iter, leave=False, desc=str(size)):\n",
    "        t_start = dt.now() \n",
    "        data = read_csv(f'./{size}_test.csv')\n",
    "        t_end = dt.now()\n",
    "        t_diff = t_end - t_start\n",
    "        times.append(t_diff)\n",
    "\n",
    "    pandas_times[size] = times"
   ]
  },
  {
   "cell_type": "code",
   "execution_count": 10,
   "metadata": {},
   "outputs": [],
   "source": [
    "import pickle\n",
    "\n",
    "with open('pandas_times.pickle', 'wb') as f:\n",
    "    pickle.dump(pandas_times, f, protocol=pickle.HIGHEST_PROTOCOL)"
   ]
  },
  {
   "cell_type": "code",
   "execution_count": 22,
   "metadata": {},
   "outputs": [
    {
     "name": "stderr",
     "output_type": "stream",
     "text": [
      "1000000:   0%|          | 0/50 [00:00<?, ?it/s]        "
     ]
    }
   ],
   "source": [
    "# pyarrow\n",
    "from pyarrow import csv\n",
    "n_iter = 50 # repeat 50 times\n",
    "pyarrow_times = defaultdict(list) \n",
    "for size in [10, 100, 1_000, 10_000, 100_000, 1_000_000]:\n",
    "    times = []\n",
    "    for _ in trange(n_iter, leave=False, desc=str(size)):\n",
    "        t_start = dt.now() \n",
    "        data = csv.read_csv(f'./{size}_test.csv')\n",
    "        t_end = dt.now()\n",
    "        t_diff = t_end - t_start\n",
    "        times.append(t_diff)\n",
    "\n",
    "    pyarrow_times[size] = times"
   ]
  },
  {
   "cell_type": "code",
   "execution_count": null,
   "metadata": {},
   "outputs": [],
   "source": [
    "\n",
    "with open('pyarrow_times.pickle', 'wb') as f:\n",
    "    pickle.dump(pyarrow_times, f, protocol=pickle.HIGHEST_PROTOCOL)"
   ]
  },
  {
   "cell_type": "code",
   "execution_count": null,
   "metadata": {},
   "outputs": [],
   "source": []
  }
 ],
 "metadata": {
  "kernelspec": {
   "display_name": "basic_clean",
   "language": "python",
   "name": "python3"
  },
  "language_info": {
   "codemirror_mode": {
    "name": "ipython",
    "version": 3
   },
   "file_extension": ".py",
   "mimetype": "text/x-python",
   "name": "python",
   "nbconvert_exporter": "python",
   "pygments_lexer": "ipython3",
   "version": "3.10.8 (main, Nov 24 2022, 14:13:03) [GCC 11.2.0]"
  },
  "orig_nbformat": 4,
  "vscode": {
   "interpreter": {
    "hash": "def76ed885bc94f182c997508dd94bdc1bafad87e7bfd4e70b216ce388e01bfe"
   }
  }
 },
 "nbformat": 4,
 "nbformat_minor": 2
}
