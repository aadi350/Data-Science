{
 "cells": [
  {
   "attachments": {},
   "cell_type": "markdown",
   "metadata": {},
   "source": [
    "Most of these are from ChatGPT"
   ]
  },
  {
   "attachments": {},
   "cell_type": "markdown",
   "metadata": {},
   "source": [
    "# SQL-Like Interface for Pandas\n",
    "\n",
    "In this example, the DataFrameDSL class wraps a pandas DataFrame and provides a SQL-like interface for querying and manipulating the data. The class defines several methods such as select, from_, where, group_by, having, order_by, and limit that correspond to SQL clauses and can be chained together to build a query. The __getattr__ method is used to delegate method calls to the wrapped DataFrame."
   ]
  },
  {
   "cell_type": "code",
   "execution_count": null,
   "metadata": {},
   "outputs": [],
   "source": [
    "import pandas as pd\n",
    "\n",
    "class DataFrameDSL(object):\n",
    "    def __init__(self, df):\n",
    "        self.df = df\n",
    "        self.query = None\n",
    "\n",
    "    def __getattr__(self, name):\n",
    "        if name in ('select', 'from_', 'where', 'group_by', 'having', 'order_by', 'limit'):\n",
    "            return getattr(self, name)\n",
    "        else:\n",
    "            return getattr(self.df, name)\n",
    "\n",
    "    def select(self, *columns):\n",
    "        self.query = self.df[columns]\n",
    "        return self\n",
    "\n",
    "    def from_(self, df):\n",
    "        self.df = df\n",
    "        return self\n",
    "\n",
    "    def where(self, condition):\n",
    "        self.query = self.query.query(condition)\n",
    "        return self\n",
    "\n",
    "    def group_by(self, *columns):\n",
    "        self.query = self.query.groupby(columns)\n",
    "        return self\n",
    "\n",
    "    def having(self, condition):\n",
    "        self.query = self.query.having(condition)\n",
    "        return self\n",
    "\n",
    "    def order_by(self, *columns):\n",
    "        self.query = self.query.sort_values(by=columns)\n",
    "        return self\n",
    "\n",
    "    def limit(self, n):\n",
    "        self.query = self.query.head(n)\n",
    "        return self\n",
    "\n",
    "    def __iter__(self):\n",
    "        return iter(self.query)\n",
    "\n",
    "df = pd.DataFrame({'a': [1, 2, 3], 'b': [4, 5, 6]})\n",
    "dsl = DataFrameDSL(df)\n",
    "\n",
    "for row in dsl.select('a', 'b').where('a > 1').limit(1):\n",
    "    print(row)"
   ]
  },
  {
   "attachments": {},
   "cell_type": "markdown",
   "metadata": {},
   "source": [
    "# Linear Regression"
   ]
  },
  {
   "cell_type": "code",
   "execution_count": null,
   "metadata": {},
   "outputs": [],
   "source": [
    "import numpy as np\n",
    "from sklearn.linear_model import LinearRegression\n",
    "\n",
    "class LinearRegressionDSL(object):\n",
    "    def __init__(self):\n",
    "        self.reg = LinearRegression()\n",
    "        \n",
    "    def __getattr__(self, name):\n",
    "        if name in ('fit', 'predict', 'score'):\n",
    "            return getattr(self.reg, name)\n",
    "        \n",
    "    def using(self, **kwargs):\n",
    "        for key, value in kwargs.items():\n",
    "            setattr(self.reg, key, value)\n",
    "        return self\n",
    "    \n",
    "    def with_data(self, X, y):\n",
    "        self.X = X\n",
    "        self.y = y\n",
    "        return self\n",
    "    \n",
    "    def __call__(self):\n",
    "        self.fit(self.X, self.y)\n",
    "        return self\n",
    "        \n",
    "reg = LinearRegressionDSL().with_data(X_train, y_train).using(fit_intercept=True)()\n",
    "print(reg.score(X_test, y_test))"
   ]
  }
 ],
 "metadata": {
  "language_info": {
   "name": "python"
  },
  "orig_nbformat": 4
 },
 "nbformat": 4,
 "nbformat_minor": 2
}
