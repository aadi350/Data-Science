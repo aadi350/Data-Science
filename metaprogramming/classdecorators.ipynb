{
 "cells": [
  {
   "cell_type": "markdown",
   "metadata": {},
   "source": [
    "https://www.youtube.com/watch?v=cAGliEJV9_o&t=10s  "
   ]
  },
  {
   "attachments": {},
   "cell_type": "markdown",
   "metadata": {},
   "source": [
    "Decorators give us a slightly different way to manipulate clases at definition. It does NOT require inheritance (like `__init_subclass__` and `meta`)\n",
    "\n",
    "1.Modify the class at definition?\n",
    "- `__init_subclass__` if this behavior should propagate to all subclasses?\n",
    "- class decorator to avoid inheritance ‘side effects’\n",
    "2. Modify the class at instantiation?\n",
    "- Inheritance > decorator that returns class wrapped"
   ]
  },
  {
   "attachments": {},
   "cell_type": "markdown",
   "metadata": {},
   "source": [
    "## Decorating using a Function"
   ]
  },
  {
   "cell_type": "code",
   "execution_count": 2,
   "metadata": {},
   "outputs": [
    {
     "name": "stdout",
     "output_type": "stream",
     "text": [
      "Called from A\n"
     ]
    },
    {
     "data": {
      "text/plain": [
       "15"
      ]
     },
     "execution_count": 2,
     "metadata": {},
     "output_type": "execute_result"
    }
   ],
   "source": [
    "# write a class decorator the same way as a function decorator\n",
    "def add_some_method(cls):\n",
    "    def foo(self, base=0):\n",
    "        print(f'Called from {self.__class__.__name__}')\n",
    "        return base + 5\n",
    "\n",
    "    cls.foo = foo\n",
    "    return cls\n",
    "\n",
    "@add_some_method\n",
    "class A:\n",
    "    pass\n",
    "\n",
    "a = A()\n",
    "a.foo(10)"
   ]
  },
  {
   "attachments": {},
   "cell_type": "markdown",
   "metadata": {},
   "source": [
    "In the above, we rely on the decorator to dynamically add a method to the class on definition. The function within is NOT a wrapper"
   ]
  },
  {
   "attachments": {},
   "cell_type": "markdown",
   "metadata": {},
   "source": [
    "## Using a Class as a Decorator?"
   ]
  },
  {
   "cell_type": "code",
   "execution_count": 4,
   "metadata": {},
   "outputs": [
    {
     "name": "stdout",
     "output_type": "stream",
     "text": [
      "<function f1 at 0x7fd86d7d20d0>\n",
      "<function f2 at 0x7fd86d7d2280>\n",
      "<function f3 at 0x7fd86d7d2310>\n",
      "f1() = 1\n",
      "f2() = 2\n",
      "f3() = 3\n"
     ]
    }
   ],
   "source": [
    "# from http://www.dontusethiscode.com/blog/py-decorators-adv.html\n",
    "class Registry:\n",
    "    all_funcs = []\n",
    "\n",
    "    def __new__(cls, func):\n",
    "        cls.all_funcs.append(func)\n",
    "\n",
    "        # pass the function through instead\n",
    "        #   of returning an instance of this class\n",
    "        return func\n",
    "\n",
    "    @classmethod\n",
    "    def execute_registered(cls):\n",
    "        for f in cls.all_funcs:\n",
    "            print(f'{f.__name__}() = {f()}')\n",
    "\n",
    "@Registry\n",
    "def f1():\n",
    "    return 1\n",
    "\n",
    "@Registry\n",
    "def f2():\n",
    "    return 2\n",
    "\n",
    "@Registry\n",
    "def f3():\n",
    "    return 3\n",
    "\n",
    "print(f1, f2, f3, sep='\\n')\n",
    "Registry.execute_registered()"
   ]
  },
  {
   "attachments": {},
   "cell_type": "markdown",
   "metadata": {},
   "source": [
    "## Ambiguously Parameterized Decorators \n",
    "\n",
    "As made convenient by decorator.decorator, and in the source code for @dataclass there is a way to implement a decorator such that either take parameterized arguments, or no arguments and ‘just work’. I use this term loosely because I personally don’t like the ambiguity introduced by this design pattern. Nonetheless, in the spirit of Python: we’re all consenting adults."
   ]
  },
  {
   "cell_type": "code",
   "execution_count": 5,
   "metadata": {},
   "outputs": [
    {
     "name": "stdout",
     "output_type": "stream",
     "text": [
      "decorating f1 with kwarg1 = None, kwarg2 = None\n",
      "decorating f2 with kwarg1 = 'hello', kwarg2 = 'world'\n"
     ]
    }
   ],
   "source": [
    "def maybe_dec_factory(f=None, /, *, kwarg1=None, kwarg2=None):\n",
    "    def dec(f):\n",
    "        print(f'decorating {f.__name__} with {kwarg1 = }, {kwarg2 = }')\n",
    "\n",
    "        def wrapper(*args, **kwargs):\n",
    "            print(f'before {f}')\n",
    "            result = f(*args, **kwargs)\n",
    "            print(f'after {f}')\n",
    "            return result\n",
    "        return wrapper\n",
    "\n",
    "    if f is None:\n",
    "        return dec\n",
    "    return dec(f)\n",
    "\n",
    "@maybe_dec_factory\n",
    "def f1():\n",
    "    print('executing f1')\n",
    "\n",
    "@maybe_dec_factory(kwarg1='hello', kwarg2='world')\n",
    "def f2():\n",
    "    print('executing f2')"
   ]
  },
  {
   "attachments": {},
   "cell_type": "markdown",
   "metadata": {},
   "source": [
    "## Example using Decorated Class"
   ]
  },
  {
   "cell_type": "code",
   "execution_count": 6,
   "metadata": {},
   "outputs": [],
   "source": [
    "from functools import partial, wraps\n",
    "\n",
    "def debug(prefix=''): # this outer function provides an \"environment\" for the inner functions\n",
    "    def decorate(func):\n",
    "        msg = prefix + func.__qualname__\n",
    "\n",
    "        @wraps(func)\n",
    "        def wrapper(*args, **kwargs):\n",
    "            print(msg)\n",
    "            return func(*args, **kwargs)\n",
    "\n",
    "        return wrapper\n",
    "\n",
    "    return decorate\n",
    "\n",
    "\n",
    "def debugmethods(cls):\n",
    "    for key, val in vars(cls).items():\n",
    "        if callable(val):\n",
    "            setattr(cls, key, debug(val))\n",
    "\n",
    "    return cls"
   ]
  },
  {
   "attachments": {},
   "cell_type": "markdown",
   "metadata": {},
   "source": [
    "\"brain surgery\" with class decorators, debugging attribute access"
   ]
  },
  {
   "cell_type": "code",
   "execution_count": 7,
   "metadata": {},
   "outputs": [],
   "source": [
    "def debugattr(cls):\n",
    "    orig_getattribute = cls.__getattribute__\n",
    "\n",
    "    def __getattribute__(self, name):\n",
    "        print(f'Get: {name}')\n",
    "        return orig_getattribute(self, name)\n",
    "\n",
    "    cls.__getattribute__ = __getattribute__\n",
    "\n",
    "    return cls"
   ]
  },
  {
   "cell_type": "code",
   "execution_count": 11,
   "metadata": {},
   "outputs": [],
   "source": [
    "@debugattr\n",
    "class A:\n",
    "    def __init__(self, a) -> None:\n",
    "        self.a = a"
   ]
  },
  {
   "cell_type": "code",
   "execution_count": 12,
   "metadata": {},
   "outputs": [],
   "source": [
    "a = A(1)"
   ]
  },
  {
   "cell_type": "code",
   "execution_count": 13,
   "metadata": {},
   "outputs": [
    {
     "name": "stdout",
     "output_type": "stream",
     "text": [
      "Get: a\n"
     ]
    },
    {
     "data": {
      "text/plain": [
       "1"
      ]
     },
     "execution_count": 13,
     "metadata": {},
     "output_type": "execute_result"
    }
   ],
   "source": [
    "a.a"
   ]
  },
  {
   "cell_type": "code",
   "execution_count": null,
   "metadata": {},
   "outputs": [],
   "source": [
    "class LoggingMeta"
   ]
  }
 ],
 "metadata": {
  "kernelspec": {
   "display_name": "spark_env",
   "language": "python",
   "name": "python3"
  },
  "language_info": {
   "codemirror_mode": {
    "name": "ipython",
    "version": 3
   },
   "file_extension": ".py",
   "mimetype": "text/x-python",
   "name": "python",
   "nbconvert_exporter": "python",
   "pygments_lexer": "ipython3",
   "version": "3.8.15 (default, Nov 24 2022, 15:19:38) \n[GCC 11.2.0]"
  },
  "orig_nbformat": 4,
  "vscode": {
   "interpreter": {
    "hash": "bac5f9a12ce42e3ce4a716d69b8738cd831a51d5f24bd9d0d377d51220bf4645"
   }
  }
 },
 "nbformat": 4,
 "nbformat_minor": 2
}
