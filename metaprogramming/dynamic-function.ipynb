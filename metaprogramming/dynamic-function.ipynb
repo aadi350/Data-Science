{
 "cells": [
  {
   "attachments": {},
   "cell_type": "markdown",
   "metadata": {},
   "source": [
    "# Ways to Use/Create Functions Dynamically\n"
   ]
  },
  {
   "cell_type": "code",
   "execution_count": 1,
   "metadata": {},
   "outputs": [
    {
     "name": "stdout",
     "output_type": "stream",
     "text": [
      "linux\n"
     ]
    }
   ],
   "source": [
    "# from https://www.youtube.com/watch?v=H6HVcU1bF5U&list=WL&index=76&t=630s\n",
    "from platform import system\n",
    "\n",
    "class Baz:\n",
    "    match system():\n",
    "        case 'Linux':\n",
    "            def f(self, *args, **kwargs):\n",
    "                print('linux')\n",
    "                pass\n",
    "        case _:\n",
    "            def f(self, *args, **kwargs):\n",
    "                print('other')\n",
    "                pass\n",
    "b = Baz()\n",
    "b.f()"
   ]
  },
  {
   "attachments": {},
   "cell_type": "markdown",
   "metadata": {},
   "source": [
    "## Typing\n"
   ]
  },
  {
   "cell_type": "code",
   "execution_count": 2,
   "metadata": {},
   "outputs": [
    {
     "data": {
      "text/plain": [
       "'d'"
      ]
     },
     "execution_count": 2,
     "metadata": {},
     "output_type": "execute_result"
    }
   ],
   "source": [
    "from typing import Literal\n",
    "\n",
    "def foo(a, *, opts: Literal['a', 'b', 'c'] = 'a'):\n",
    "    return opts\n",
    "\n",
    "foo(None, opts='d')"
   ]
  },
  {
   "attachments": {},
   "cell_type": "markdown",
   "metadata": {},
   "source": [
    "## Updating Metadata\n",
    "\n",
    "Updating `co_consts`"
   ]
  },
  {
   "cell_type": "code",
   "execution_count": 3,
   "metadata": {},
   "outputs": [
    {
     "data": {
      "text/plain": [
       "'Create a code object.  Not for the faint of heart.'"
      ]
     },
     "execution_count": 3,
     "metadata": {},
     "output_type": "execute_result"
    }
   ],
   "source": [
    "from types import CodeType, FunctionType \n",
    "# bytecode\n",
    "\n",
    "def update(f, **kwargs):\n",
    "    '''Function that performs a functional update on a function'''\n",
    "\n",
    "    old = f.__code__\n",
    "    attrs = [\n",
    "      'co_argcount', 'co_posonlyargcount', 'co_kwonlyargcount', 'co_nlocals', 'co_stacksize', 'co_flags', 'co_code', 'co_consts', 'co_names', 'co_varnames', 'co_filename', 'co_name', 'co_firstlineno', 'co_lnotab', 'co_freevars', 'co_cellvars' \n",
    "    ]\n",
    "\n",
    "    new = CodeType(*(kwargs.get(a, getattr(old, a)) for a in attrs))\n",
    "\n",
    "    return FunctionType(\n",
    "        new, \n",
    "        f.__globals__, f.__name__, f.__defaults__, f.__closure__\n",
    "    )\n",
    "\n",
    "\n",
    "CodeType.__doc__"
   ]
  },
  {
   "cell_type": "code",
   "execution_count": 4,
   "metadata": {},
   "outputs": [],
   "source": [
    "def addone(a):\n",
    "    return a + 1\n"
   ]
  },
  {
   "cell_type": "code",
   "execution_count": 5,
   "metadata": {},
   "outputs": [],
   "source": [
    "addtwo = update(addone, co_consts=(None, 2))"
   ]
  },
  {
   "cell_type": "code",
   "execution_count": 6,
   "metadata": {},
   "outputs": [
    {
     "data": {
      "text/plain": [
       "(None, 2)"
      ]
     },
     "execution_count": 6,
     "metadata": {},
     "output_type": "execute_result"
    }
   ],
   "source": [
    "getattr(addtwo.__code__, 'co_consts', None)"
   ]
  },
  {
   "cell_type": "code",
   "execution_count": 7,
   "metadata": {},
   "outputs": [
    {
     "data": {
      "text/plain": [
       "4"
      ]
     },
     "execution_count": 7,
     "metadata": {},
     "output_type": "execute_result"
    }
   ],
   "source": [
    "addtwo(2)"
   ]
  },
  {
   "attachments": {},
   "cell_type": "markdown",
   "metadata": {},
   "source": [
    "## Updating `co_code`"
   ]
  },
  {
   "cell_type": "code",
   "execution_count": 8,
   "metadata": {},
   "outputs": [
    {
     "name": "stdout",
     "output_type": "stream",
     "text": [
      "  2           0 LOAD_FAST                0 (a)\n",
      "              2 LOAD_CONST               1 (1)\n",
      "              4 BINARY_ADD\n",
      "              6 RETURN_VALUE\n"
     ]
    }
   ],
   "source": [
    "from dis import dis\n",
    "\n",
    "dis(addone) # 23 means add"
   ]
  },
  {
   "cell_type": "code",
   "execution_count": 15,
   "metadata": {},
   "outputs": [],
   "source": [
    "def add_to_mul(f):\n",
    "    old = f.__code__.co_code\n",
    "    new = old.replace(bytes([23]), bytes([20]))\n",
    "    return update(f, co_code=new)\n",
    "\n",
    "my_multwo = add_to_mul(addtwo)"
   ]
  },
  {
   "cell_type": "code",
   "execution_count": 16,
   "metadata": {},
   "outputs": [
    {
     "data": {
      "text/plain": [
       "10"
      ]
     },
     "execution_count": 16,
     "metadata": {},
     "output_type": "execute_result"
    }
   ],
   "source": [
    "my_multwo(5)"
   ]
  },
  {
   "cell_type": "code",
   "execution_count": 12,
   "metadata": {},
   "outputs": [],
   "source": [
    "codestring = \"\"\"\n",
    "import pandas as pd\n",
    "\n",
    "df = pd.DataFrame({\n",
    "    'id': ['a']*10\n",
    "})\n",
    "\n",
    "\"\"\"\n",
    "\n",
    "exec(codestring)"
   ]
  },
  {
   "attachments": {},
   "cell_type": "markdown",
   "metadata": {},
   "source": [
    "# Dynamic Tests"
   ]
  },
  {
   "cell_type": "code",
   "execution_count": 14,
   "metadata": {},
   "outputs": [],
   "source": [
    "# will dynamically generate tests for PyTest\n",
    "\n",
    "def generate_tests(fn, inputs, outputs):\n",
    "    for i, o in zip(inputs, outputs):\n",
    "        exec(f'def test_{inputs.index(i)}():\\n    assert fn({i}) == {o}\\n')\n",
    "\n",
    "def largest_odd(lst):\n",
    "    return max([i for i in lst if i%2!=0])\n",
    "\n",
    "inputs = [[1,2,3,4], [5,6,7,8], [9,10,11,12]]\n",
    "outputs = [3,7,11]\n",
    "generate_tests(largest_odd, inputs, outputs)"
   ]
  },
  {
   "cell_type": "code",
   "execution_count": 26,
   "metadata": {},
   "outputs": [],
   "source": [
    "from pandas import DataFrame\n",
    "inputs = {\n",
    "    'test1': DataFrame({'id': [10]*2}) ,\n",
    "    'test2': DataFrame({'id': [10]*2}) ,\n",
    "    'test3': DataFrame({'id': [10]*2}) ,\n",
    "    'test4': DataFrame({'id': [10]*2}) ,\n",
    "}\n",
    "\n",
    "for i in inputs:\n",
    "    fixture_code = f\"\"\"\n",
    "import pytest\n",
    "    \n",
    "@pytest.fixture\n",
    "def input{i}():\n",
    "    return inputs[i]\n",
    "\n",
    "def test{i}(input{i}):\n",
    "    assert True\n",
    "    \"\"\"\n",
    "    exec(fixture_code)\n"
   ]
  },
  {
   "cell_type": "code",
   "execution_count": 27,
   "metadata": {},
   "outputs": [
    {
     "data": {
      "text/plain": [
       "<module 'pytest' from '/home/aadi/miniconda3/envs/basic_clean/lib/python3.10/site-packages/pytest/__init__.py'>"
      ]
     },
     "execution_count": 27,
     "metadata": {},
     "output_type": "execute_result"
    }
   ],
   "source": []
  },
  {
   "cell_type": "code",
   "execution_count": null,
   "metadata": {},
   "outputs": [],
   "source": []
  }
 ],
 "metadata": {
  "kernelspec": {
   "display_name": "basic_clean",
   "language": "python",
   "name": "python3"
  },
  "language_info": {
   "codemirror_mode": {
    "name": "ipython",
    "version": 3
   },
   "file_extension": ".py",
   "mimetype": "text/x-python",
   "name": "python",
   "nbconvert_exporter": "python",
   "pygments_lexer": "ipython3",
   "version": "3.10.8"
  },
  "orig_nbformat": 4,
  "vscode": {
   "interpreter": {
    "hash": "def76ed885bc94f182c997508dd94bdc1bafad87e7bfd4e70b216ce388e01bfe"
   }
  }
 },
 "nbformat": 4,
 "nbformat_minor": 2
}
