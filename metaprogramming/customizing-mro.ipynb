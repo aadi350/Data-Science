{
 "cells": [
  {
   "cell_type": "markdown",
   "metadata": {},
   "source": [
    "mro() stands for Method Resolution Order. It returns a list of types the class is derived from, in the order they are searched for methods\n",
    "\n",
    "`class.mro()` can be overidden by a metaclass to customize the MRO for instances. Called at class instantiation\n",
    "\n",
    "MRO is the linearization of how methods are overidden. (If A inherits X and B inherits A, then if in the linearization of the inheritance hierarchy for B, X precedes A, then for *any* further subclass the order shall not change)\n",
    "\n",
    "The Method Resolution Order constructs the linearization (ordering) of classes from the nearest ancestor of a class to its furthest (including itself)."
   ]
  },
  {
   "cell_type": "code",
   "execution_count": 4,
   "metadata": {},
   "outputs": [],
   "source": [
    "class A(object): pass"
   ]
  },
  {
   "cell_type": "code",
   "execution_count": 7,
   "metadata": {},
   "outputs": [
    {
     "name": "stdout",
     "output_type": "stream",
     "text": [
      "(<class '__main__.A'>, <class 'object'>)\n"
     ]
    }
   ],
   "source": [
    "print(A.__mro__)"
   ]
  },
  {
   "cell_type": "code",
   "execution_count": 10,
   "metadata": {},
   "outputs": [],
   "source": [
    "O = object\n",
    "class X(O): pass\n",
    "class Y(O): pass\n",
    "class A(X, Y): pass\n",
    "class B(Y, X): pass"
   ]
  },
  {
   "cell_type": "code",
   "execution_count": 12,
   "metadata": {},
   "outputs": [
    {
     "data": {
      "text/plain": [
       "([__main__.A, __main__.X, __main__.Y, object],\n",
       " [__main__.B, __main__.Y, __main__.X, object])"
      ]
     },
     "execution_count": 12,
     "metadata": {},
     "output_type": "execute_result"
    }
   ],
   "source": [
    "A.mro(), B.mro()"
   ]
  },
  {
   "cell_type": "code",
   "execution_count": 26,
   "metadata": {},
   "outputs": [],
   "source": [
    "# non-breaking example\n",
    "class X:\n",
    "    def foo(self, ):\n",
    "        print('X foo')\n",
    "\n",
    "class Y:\n",
    "    def foo(self, ):\n",
    "        print('Y foo')\n",
    "\n",
    "class A(X, Y):\n",
    "    def foo(self, ):\n",
    "        print('A foo')\n",
    "\n",
    "class B(X, Y): pass\n",
    "class C(Y, X): pass\n",
    "\n",
    "\n"
   ]
  },
  {
   "cell_type": "code",
   "execution_count": 27,
   "metadata": {},
   "outputs": [],
   "source": [
    "x = X()\n",
    "y = Y()\n",
    "a = A()\n",
    "b = B()\n",
    "c = C()"
   ]
  },
  {
   "cell_type": "code",
   "execution_count": 32,
   "metadata": {},
   "outputs": [
    {
     "data": {
      "text/plain": [
       "False"
      ]
     },
     "execution_count": 32,
     "metadata": {},
     "output_type": "execute_result"
    }
   ],
   "source": []
  },
  {
   "cell_type": "code",
   "execution_count": 17,
   "metadata": {},
   "outputs": [
    {
     "name": "stdout",
     "output_type": "stream",
     "text": [
      "X foo\n",
      "Y foo\n",
      "A foo\n"
     ]
    },
    {
     "data": {
      "text/plain": [
       "(None, None, None)"
      ]
     },
     "execution_count": 17,
     "metadata": {},
     "output_type": "execute_result"
    }
   ],
   "source": [
    "x.foo(),y.foo(), a.foo()"
   ]
  },
  {
   "cell_type": "code",
   "execution_count": 20,
   "metadata": {},
   "outputs": [
    {
     "name": "stdout",
     "output_type": "stream",
     "text": [
      "X foo\n"
     ]
    },
    {
     "data": {
      "text/plain": [
       "([__main__.B, __main__.X, __main__.Y, object], None)"
      ]
     },
     "execution_count": 20,
     "metadata": {},
     "output_type": "execute_result"
    }
   ],
   "source": [
    "B.mro(), b.foo() # X foo takes precedence"
   ]
  },
  {
   "cell_type": "code",
   "execution_count": 21,
   "metadata": {},
   "outputs": [
    {
     "name": "stdout",
     "output_type": "stream",
     "text": [
      "Y foo\n"
     ]
    },
    {
     "data": {
      "text/plain": [
       "([__main__.C, __main__.Y, __main__.X, object], None)"
      ]
     },
     "execution_count": 21,
     "metadata": {},
     "output_type": "execute_result"
    }
   ],
   "source": [
    "C.mro(), c.foo() # Y takes precedence"
   ]
  },
  {
   "cell_type": "markdown",
   "metadata": {},
   "source": [
    "Triangle Problem"
   ]
  },
  {
   "cell_type": "code",
   "execution_count": 22,
   "metadata": {},
   "outputs": [
    {
     "ename": "TypeError",
     "evalue": "Cannot create a consistent method resolution\norder (MRO) for bases X, Y",
     "output_type": "error",
     "traceback": [
      "\u001b[0;31m---------------------------------------------------------------------------\u001b[0m",
      "\u001b[0;31mTypeError\u001b[0m                                 Traceback (most recent call last)",
      "Cell \u001b[0;32mIn [22], line 7\u001b[0m\n\u001b[0;32m----> 7\u001b[0m \u001b[39mclass\u001b[39;00m \u001b[39mC\u001b[39;00m(A, B): \u001b[39mpass\u001b[39;00m\n",
      "\u001b[0;31mTypeError\u001b[0m: Cannot create a consistent method resolution\norder (MRO) for bases X, Y"
     ]
    }
   ],
   "source": [
    "O = object\n",
    "class X(O): pass\n",
    "class Y(O): pass\n",
    "# the following two lines cause the problem\n",
    "# in A, X precedes Y, but in B, Y precedes X\n",
    "class A(X, Y): pass\n",
    "class B(Y, X): pass\n",
    "\n",
    "class C(A, B): pass"
   ]
  },
  {
   "cell_type": "code",
   "execution_count": 44,
   "metadata": {},
   "outputs": [
    {
     "data": {
      "text/plain": [
       "(__main__.LoggingOD,\n",
       " __main__.LoggingDict,\n",
       " collections.OrderedDict,\n",
       " dict,\n",
       " object)"
      ]
     },
     "execution_count": 44,
     "metadata": {},
     "output_type": "execute_result"
    }
   ],
   "source": [
    "import logging\n",
    "from collections import OrderedDict\n",
    "logger = logging.getLogger()\n",
    "\n",
    "logger.setLevel(logging.DEBUG)\n",
    "# from https://rhettinger.wordpress.com/2011/05/26/super-considered-super/\n",
    "class LoggingDict(dict):\n",
    "    def __setitem__(self, __key, __value) -> None:\n",
    "        logging.info(f'Setting {__key} to {__value}')\n",
    "        return super().__setitem__(__key, __value)\n",
    "\n",
    "# by composing two classes \n",
    "#   the call to super().__setitem__\n",
    "#   now calls OrderedDict __setitem__ NOT dict.__setitem__\n",
    "#   as in the original LoggingDict class\n",
    "class LoggingOD(LoggingDict, OrderedDict):\n",
    "    pass\n",
    "\n",
    "LoggingOD.__mro__"
   ]
  },
  {
   "cell_type": "markdown",
   "metadata": {},
   "source": [
    "How to Customize the MRO"
   ]
  },
  {
   "cell_type": "code",
   "execution_count": 25,
   "metadata": {},
   "outputs": [
    {
     "ename": "TypeError",
     "evalue": "don't know how to disassemble wrapper_descriptor objects",
     "output_type": "error",
     "traceback": [
      "\u001b[0;31m---------------------------------------------------------------------------\u001b[0m",
      "\u001b[0;31mTypeError\u001b[0m                                 Traceback (most recent call last)",
      "Cell \u001b[0;32mIn [25], line 3\u001b[0m\n\u001b[1;32m      1\u001b[0m \u001b[39mfrom\u001b[39;00m \u001b[39mdis\u001b[39;00m \u001b[39mimport\u001b[39;00m dis\n\u001b[0;32m----> 3\u001b[0m dis(A\u001b[39m.\u001b[39;49m\u001b[39m__init__\u001b[39;49m)\n",
      "File \u001b[0;32m~/miniconda3/envs/basic_clean/lib/python3.8/dis.py:85\u001b[0m, in \u001b[0;36mdis\u001b[0;34m(x, file, depth)\u001b[0m\n\u001b[1;32m     83\u001b[0m     _disassemble_str(x, file\u001b[39m=\u001b[39mfile, depth\u001b[39m=\u001b[39mdepth)\n\u001b[1;32m     84\u001b[0m \u001b[39melse\u001b[39;00m:\n\u001b[0;32m---> 85\u001b[0m     \u001b[39mraise\u001b[39;00m \u001b[39mTypeError\u001b[39;00m(\u001b[39m\"\u001b[39m\u001b[39mdon\u001b[39m\u001b[39m'\u001b[39m\u001b[39mt know how to disassemble \u001b[39m\u001b[39m%s\u001b[39;00m\u001b[39m objects\u001b[39m\u001b[39m\"\u001b[39m \u001b[39m%\u001b[39m\n\u001b[1;32m     86\u001b[0m                     \u001b[39mtype\u001b[39m(x)\u001b[39m.\u001b[39m\u001b[39m__name__\u001b[39m)\n",
      "\u001b[0;31mTypeError\u001b[0m: don't know how to disassemble wrapper_descriptor objects"
     ]
    }
   ],
   "source": [
    "from dis import dis\n",
    "\n",
    "dis(A.__init__)"
   ]
  },
  {
   "cell_type": "markdown",
   "metadata": {},
   "source": [
    "Links:   \n",
    "https://stackoverflow.com/a/20832588/7176270  \n"
   ]
  },
  {
   "cell_type": "code",
   "execution_count": 45,
   "metadata": {},
   "outputs": [
    {
     "data": {
      "text/plain": [
       "(__main__.A, __main__.X, __main__.Y, object)"
      ]
     },
     "execution_count": 45,
     "metadata": {},
     "output_type": "execute_result"
    }
   ],
   "source": [
    "type(a).__mro__"
   ]
  },
  {
   "cell_type": "code",
   "execution_count": 46,
   "metadata": {},
   "outputs": [
    {
     "ename": "SyntaxError",
     "evalue": "invalid syntax (1407127018.py, line 1)",
     "output_type": "error",
     "traceback": [
      "\u001b[0;36m  Cell \u001b[0;32mIn [46], line 1\u001b[0;36m\u001b[0m\n\u001b[0;31m    cdef unsigned int i, n = 100\u001b[0m\n\u001b[0m         ^\u001b[0m\n\u001b[0;31mSyntaxError\u001b[0m\u001b[0;31m:\u001b[0m invalid syntax\n"
     ]
    }
   ],
   "source": []
  },
  {
   "cell_type": "code",
   "execution_count": null,
   "metadata": {},
   "outputs": [],
   "source": []
  }
 ],
 "metadata": {
  "kernelspec": {
   "display_name": "Python 3.8.15 ('basic_clean')",
   "language": "python",
   "name": "python3"
  },
  "language_info": {
   "codemirror_mode": {
    "name": "ipython",
    "version": 3
   },
   "file_extension": ".py",
   "mimetype": "text/x-python",
   "name": "python",
   "nbconvert_exporter": "python",
   "pygments_lexer": "ipython3",
   "version": "3.8.15"
  },
  "orig_nbformat": 4,
  "vscode": {
   "interpreter": {
    "hash": "def76ed885bc94f182c997508dd94bdc1bafad87e7bfd4e70b216ce388e01bfe"
   }
  }
 },
 "nbformat": 4,
 "nbformat_minor": 2
}
