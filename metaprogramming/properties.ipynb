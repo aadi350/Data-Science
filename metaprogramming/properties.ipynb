{
 "cells": [
  {
   "cell_type": "markdown",
   "metadata": {},
   "source": [
    "# Properties"
   ]
  },
  {
   "cell_type": "markdown",
   "metadata": {},
   "source": [
    "If you ever created a class in Python, you probably accessed it using dot notation (i.e. `instance_name.attribute_name`). \n",
    "\n",
    "That's python's way of calling `getattr` by means of an alias:"
   ]
  },
  {
   "cell_type": "code",
   "execution_count": 25,
   "metadata": {},
   "outputs": [
    {
     "data": {
      "text/plain": [
       "10"
      ]
     },
     "execution_count": 25,
     "metadata": {},
     "output_type": "execute_result"
    }
   ],
   "source": [
    "class A:\n",
    "    var = 10\n",
    "    pass\n",
    "\n",
    "a = A()\n",
    "# this is how Python accesses attributes\n",
    "getattr(a, 'var')"
   ]
  },
  {
   "cell_type": "code",
   "execution_count": 30,
   "metadata": {},
   "outputs": [
    {
     "data": {
      "text/plain": [
       "10"
      ]
     },
     "execution_count": 30,
     "metadata": {},
     "output_type": "execute_result"
    }
   ],
   "source": [
    "a.__getattribute__('var') # above is an alias for this"
   ]
  },
  {
   "cell_type": "markdown",
   "metadata": {},
   "source": [
    "The most \"pythonic\" way of getting and setting attributes is using dot notation:"
   ]
  },
  {
   "cell_type": "code",
   "execution_count": 42,
   "metadata": {},
   "outputs": [
    {
     "name": "stdout",
     "output_type": "stream",
     "text": [
      "11\n"
     ]
    }
   ],
   "source": [
    "A.var = 11\n",
    "print(A.var)"
   ]
  },
  {
   "cell_type": "markdown",
   "metadata": {},
   "source": [
    "which is short for the dunder `getattribute` method\n",
    "\n",
    "However, if you're familiar with any other languagee, you'd immediately think of \"getter\" and \"setter\" methods. Here's an example from Java:\n",
    "\n",
    "```java\n",
    "public class Airplane {\n",
    "  private String flightNumber; // private = restricted access\n",
    "\n",
    "  // Getter\n",
    "  public String getFlightNumber() {\n",
    "    return flightNumber;\n",
    "  }\n",
    "\n",
    "  // Setter\n",
    "  public void setFlightNumber(String newNumber) {\n",
    "    this.flightNumber = newNumber;\n",
    "  }\n",
    "}\n",
    "```\n",
    "\n",
    "Why is this important? Because of *encapsulation*. The entire idea behind this is to ensure \"sensitive\" data is not directly accessible by end users. Although the example above is quite trivial, these setter and getter methods may contain validation for inputs, as well as check for (e.g.) the existence of an authentication key prior to returning a value.\n",
    "\n",
    "And I just wasn't satisfied with vanilla dot-notation in Python."
   ]
  },
  {
   "cell_type": "markdown",
   "metadata": {},
   "source": [
    "# property to the rescue!"
   ]
  },
  {
   "cell_type": "markdown",
   "metadata": {},
   "source": [
    "Python 2 introduced property, which facilitates the management of class attributes.\n",
    "\n",
    "It's signature is as follows:\n",
    "```python\n",
    "property(fget=None, fset=None, fdel=None, doc=None)\n",
    "```\n",
    "`fget` is the \"getter\" function, `fset` is the \"setter\" function, `fdel` is the deleter and `doc` specifies a custom docstring (similar to what you'd see in `namedtuple`).\n",
    "\n",
    "When `fset` is not defined, the attribute becomes read-only:"
   ]
  },
  {
   "cell_type": "code",
   "execution_count": 48,
   "metadata": {},
   "outputs": [],
   "source": [
    "# using property\n",
    "class MyClass:\n",
    "    def __init__(self, ):\n",
    "        self.__var = 'some value' \n",
    "\n",
    "    def get_var(self,):\n",
    "        print('get_var run')\n",
    "        return self.__var\n",
    "\n",
    "    var = property(get_var,)"
   ]
  },
  {
   "cell_type": "code",
   "execution_count": 51,
   "metadata": {},
   "outputs": [
    {
     "name": "stdout",
     "output_type": "stream",
     "text": [
      "get_var run\n"
     ]
    },
    {
     "data": {
      "text/plain": [
       "'some value'"
      ]
     },
     "execution_count": 51,
     "metadata": {},
     "output_type": "execute_result"
    }
   ],
   "source": [
    "my_instance = MyClass() \n",
    "my_instance.var # this runs"
   ]
  },
  {
   "cell_type": "code",
   "execution_count": 52,
   "metadata": {},
   "outputs": [
    {
     "ename": "AttributeError",
     "evalue": "can't set attribute",
     "output_type": "error",
     "traceback": [
      "\u001b[0;31m---------------------------------------------------------------------------\u001b[0m",
      "\u001b[0;31mAttributeError\u001b[0m                            Traceback (most recent call last)",
      "\u001b[1;32m/storage/projects/notes/metaprogramming/properties.ipynb Cell 12\u001b[0m in \u001b[0;36m<module>\u001b[0;34m\u001b[0m\n\u001b[0;32m----> <a href='vscode-notebook-cell:/storage/projects/notes/metaprogramming/properties.ipynb#X33sZmlsZQ%3D%3D?line=0'>1</a>\u001b[0m my_instance\u001b[39m.\u001b[39mvar \u001b[39m=\u001b[39m \u001b[39m'\u001b[39m\u001b[39msome other value\u001b[39m\u001b[39m'\u001b[39m\n",
      "\u001b[0;31mAttributeError\u001b[0m: can't set attribute"
     ]
    }
   ],
   "source": [
    "my_instance.var = 'some other value' # this does not!"
   ]
  },
  {
   "cell_type": "markdown",
   "metadata": {},
   "source": [
    "To make it set-able, we need to define a \"setter\":"
   ]
  },
  {
   "cell_type": "code",
   "execution_count": 53,
   "metadata": {},
   "outputs": [],
   "source": [
    "class MyClass:\n",
    "    def __init__(self, var):\n",
    "        self.__var = var\n",
    "\n",
    "    def get_var(self, ):\n",
    "        return self.__var\n",
    "\n",
    "    def set_var(self, var):\n",
    "        self.__var = var\n",
    "\n",
    "    var = property(get_var, set_var)"
   ]
  },
  {
   "cell_type": "code",
   "execution_count": 55,
   "metadata": {},
   "outputs": [],
   "source": [
    "my_instance = MyClass(var=10)\n",
    "my_instance.var # this works\n",
    "my_instance.var = 11 # so does this!"
   ]
  },
  {
   "cell_type": "markdown",
   "metadata": {},
   "source": [
    "`set_var` is run *even in the constructor*, showing that the last line `property(get_var, set_var)` run"
   ]
  },
  {
   "cell_type": "markdown",
   "metadata": {},
   "source": [
    "Some syntactic sugar!"
   ]
  },
  {
   "cell_type": "code",
   "execution_count": 56,
   "metadata": {},
   "outputs": [
    {
     "name": "stdout",
     "output_type": "stream",
     "text": [
      "setter run\n"
     ]
    }
   ],
   "source": [
    "class MyClass:\n",
    "    def __init__(self, var):\n",
    "        self.var = var\n",
    "\n",
    "    @property\n",
    "    def var(self):\n",
    "        print('getter run')\n",
    "        return self.__var\n",
    "\n",
    "    @var.setter\n",
    "    def var(self, var):\n",
    "        print('setter run')\n",
    "        self.__var = var\n",
    "\n",
    "my_instance = MyClass(var=11)"
   ]
  },
  {
   "cell_type": "code",
   "execution_count": 57,
   "metadata": {},
   "outputs": [
    {
     "name": "stdout",
     "output_type": "stream",
     "text": [
      "getter run\n"
     ]
    },
    {
     "data": {
      "text/plain": [
       "11"
      ]
     },
     "execution_count": 57,
     "metadata": {},
     "output_type": "execute_result"
    }
   ],
   "source": [
    "my_instance.var # here the getter is run"
   ]
  },
  {
   "cell_type": "markdown",
   "metadata": {},
   "source": [
    "The beauty of the above is that I can do validation on the inputs, for example if I have a `Person` class:"
   ]
  },
  {
   "cell_type": "code",
   "execution_count": 65,
   "metadata": {},
   "outputs": [
    {
     "data": {
      "text/plain": [
       "11"
      ]
     },
     "execution_count": 65,
     "metadata": {},
     "output_type": "execute_result"
    }
   ],
   "source": [
    "class Person:\n",
    "    def __init__(self, name, age):\n",
    "        self.__name = name\n",
    "        self.__age = age\n",
    "\n",
    "    @property\n",
    "    def age(self, ):\n",
    "        return self.__age\n",
    "\n",
    "    @age.setter\n",
    "    def age(self, age):\n",
    "        if age < 0:\n",
    "            raise ValueError('Age must be non-negative')\n",
    "        self.__age = age\n",
    "\n",
    "a_person = Person(name='Skywalker', age=11)\n",
    "a_person.age # this works"
   ]
  },
  {
   "cell_type": "code",
   "execution_count": 66,
   "metadata": {},
   "outputs": [
    {
     "ename": "ValueError",
     "evalue": "Age must be non-negative",
     "output_type": "error",
     "traceback": [
      "\u001b[0;31m---------------------------------------------------------------------------\u001b[0m",
      "\u001b[0;31mValueError\u001b[0m                                Traceback (most recent call last)",
      "\u001b[1;32m/storage/projects/notes/metaprogramming/properties.ipynb Cell 22\u001b[0m in \u001b[0;36m<module>\u001b[0;34m\u001b[0m\n\u001b[0;32m----> <a href='vscode-notebook-cell:/storage/projects/notes/metaprogramming/properties.ipynb#X43sZmlsZQ%3D%3D?line=0'>1</a>\u001b[0m a_person\u001b[39m.\u001b[39mage \u001b[39m=\u001b[39m \u001b[39m-\u001b[39m\u001b[39m1\u001b[39m\n",
      "\u001b[1;32m/storage/projects/notes/metaprogramming/properties.ipynb Cell 22\u001b[0m in \u001b[0;36mPerson.age\u001b[0;34m(self, age)\u001b[0m\n\u001b[1;32m     <a href='vscode-notebook-cell:/storage/projects/notes/metaprogramming/properties.ipynb#X43sZmlsZQ%3D%3D?line=9'>10</a>\u001b[0m \u001b[39m@age\u001b[39m\u001b[39m.\u001b[39msetter\n\u001b[1;32m     <a href='vscode-notebook-cell:/storage/projects/notes/metaprogramming/properties.ipynb#X43sZmlsZQ%3D%3D?line=10'>11</a>\u001b[0m \u001b[39mdef\u001b[39;00m \u001b[39mage\u001b[39m(\u001b[39mself\u001b[39m, age):\n\u001b[1;32m     <a href='vscode-notebook-cell:/storage/projects/notes/metaprogramming/properties.ipynb#X43sZmlsZQ%3D%3D?line=11'>12</a>\u001b[0m     \u001b[39mif\u001b[39;00m age \u001b[39m<\u001b[39m \u001b[39m0\u001b[39m:\n\u001b[0;32m---> <a href='vscode-notebook-cell:/storage/projects/notes/metaprogramming/properties.ipynb#X43sZmlsZQ%3D%3D?line=12'>13</a>\u001b[0m         \u001b[39mraise\u001b[39;00m \u001b[39mValueError\u001b[39;00m(\u001b[39m'\u001b[39m\u001b[39mAge must be non-negative\u001b[39m\u001b[39m'\u001b[39m)\n\u001b[1;32m     <a href='vscode-notebook-cell:/storage/projects/notes/metaprogramming/properties.ipynb#X43sZmlsZQ%3D%3D?line=13'>14</a>\u001b[0m     \u001b[39mself\u001b[39m\u001b[39m.\u001b[39m__age \u001b[39m=\u001b[39m age\n",
      "\u001b[0;31mValueError\u001b[0m: Age must be non-negative"
     ]
    }
   ],
   "source": [
    "# we get validation whilst maintaining Pythonic dot-notation!\n",
    "a_person.age = -1 "
   ]
  },
  {
   "cell_type": "markdown",
   "metadata": {},
   "source": [
    "# A `property` factory\n",
    "\n",
    "Using the logic above, we can build our own \"factory\" for properties. For example, let's say we have a bunch of attributes that need be validated with a common validation (let's say they all need to be of a given length and start with the pattern '0x')"
   ]
  },
  {
   "cell_type": "code",
   "execution_count": 67,
   "metadata": {},
   "outputs": [],
   "source": [
    "def quantity(storage_name):\n",
    "    def _getter(instance):\n",
    "        return instance.__dict__[storage_name]\n",
    "\n",
    "    def _setter(instance, value):\n",
    "        if len(value) != 10:\n",
    "            raise ValueError('value must be of length 10') \n",
    "        if not value.startswith('0x'):\n",
    "            raise ValueError('value must start with 0x')\n",
    "        instance.__dict__[storage_name] = value\n",
    "\n",
    "    return property(_getter, _setter)\n",
    "\n",
    "class MyClass:\n",
    "    a = quantity('a')\n",
    "\n",
    "    def __init__(self, a):\n",
    "        self.a = a"
   ]
  },
  {
   "cell_type": "code",
   "execution_count": 68,
   "metadata": {},
   "outputs": [],
   "source": [
    "my_instance = MyClass(a='0x00000000')"
   ]
  },
  {
   "cell_type": "code",
   "execution_count": 69,
   "metadata": {},
   "outputs": [
    {
     "data": {
      "text/plain": [
       "'0x00000000'"
      ]
     },
     "execution_count": 69,
     "metadata": {},
     "output_type": "execute_result"
    }
   ],
   "source": [
    "my_instance.a"
   ]
  },
  {
   "cell_type": "code",
   "execution_count": 71,
   "metadata": {},
   "outputs": [
    {
     "ename": "ValueError",
     "evalue": "value must start with 0x",
     "output_type": "error",
     "traceback": [
      "\u001b[0;31m---------------------------------------------------------------------------\u001b[0m",
      "\u001b[0;31mValueError\u001b[0m                                Traceback (most recent call last)",
      "\u001b[1;32m/storage/projects/notes/metaprogramming/properties.ipynb Cell 27\u001b[0m in \u001b[0;36m<module>\u001b[0;34m\u001b[0m\n\u001b[1;32m      <a href='vscode-notebook-cell:/storage/projects/notes/metaprogramming/properties.ipynb#X13sZmlsZQ%3D%3D?line=0'>1</a>\u001b[0m \u001b[39m# my_instance.a = '0x3' # neither of these work\u001b[39;00m\n\u001b[0;32m----> <a href='vscode-notebook-cell:/storage/projects/notes/metaprogramming/properties.ipynb#X13sZmlsZQ%3D%3D?line=1'>2</a>\u001b[0m my_instance\u001b[39m.\u001b[39ma \u001b[39m=\u001b[39m \u001b[39m'\u001b[39m\u001b[39m0000000000\u001b[39m\u001b[39m'\u001b[39m\n",
      "\u001b[1;32m/storage/projects/notes/metaprogramming/properties.ipynb Cell 27\u001b[0m in \u001b[0;36mquantity.<locals>._setter\u001b[0;34m(instance, value)\u001b[0m\n\u001b[1;32m      <a href='vscode-notebook-cell:/storage/projects/notes/metaprogramming/properties.ipynb#X13sZmlsZQ%3D%3D?line=6'>7</a>\u001b[0m     \u001b[39mraise\u001b[39;00m \u001b[39mValueError\u001b[39;00m(\u001b[39m'\u001b[39m\u001b[39mvalue must be of length 10\u001b[39m\u001b[39m'\u001b[39m) \n\u001b[1;32m      <a href='vscode-notebook-cell:/storage/projects/notes/metaprogramming/properties.ipynb#X13sZmlsZQ%3D%3D?line=7'>8</a>\u001b[0m \u001b[39mif\u001b[39;00m \u001b[39mnot\u001b[39;00m value\u001b[39m.\u001b[39mstartswith(\u001b[39m'\u001b[39m\u001b[39m0x\u001b[39m\u001b[39m'\u001b[39m):\n\u001b[0;32m----> <a href='vscode-notebook-cell:/storage/projects/notes/metaprogramming/properties.ipynb#X13sZmlsZQ%3D%3D?line=8'>9</a>\u001b[0m     \u001b[39mraise\u001b[39;00m \u001b[39mValueError\u001b[39;00m(\u001b[39m'\u001b[39m\u001b[39mvalue must start with 0x\u001b[39m\u001b[39m'\u001b[39m)\n\u001b[1;32m     <a href='vscode-notebook-cell:/storage/projects/notes/metaprogramming/properties.ipynb#X13sZmlsZQ%3D%3D?line=9'>10</a>\u001b[0m instance\u001b[39m.\u001b[39m\u001b[39m__dict__\u001b[39m[storage_name] \u001b[39m=\u001b[39m value\n",
      "\u001b[0;31mValueError\u001b[0m: value must start with 0x"
     ]
    }
   ],
   "source": [
    "my_instance.a = '0x3' # neither of these work\n",
    "my_instance.a = '0000000000'"
   ]
  },
  {
   "cell_type": "markdown",
   "metadata": {},
   "source": [
    "The above was a short, admittedly convoluted example of what you get do with getters/setters in Python, however I think that the point is clear: if we wish to maintain the Pythonic pattern of dot-notations whilst doubly adhering to the rules of encapsuation, `property` greatly assists in our ability to manage class attributes"
   ]
  }
 ],
 "metadata": {
  "kernelspec": {
   "display_name": "Python 3.9.10 ('rapids-22.02')",
   "language": "python",
   "name": "python3"
  },
  "language_info": {
   "codemirror_mode": {
    "name": "ipython",
    "version": 3
   },
   "file_extension": ".py",
   "mimetype": "text/x-python",
   "name": "python",
   "nbconvert_exporter": "python",
   "pygments_lexer": "ipython3",
   "version": "3.9.10"
  },
  "orig_nbformat": 4,
  "vscode": {
   "interpreter": {
    "hash": "81ca947caeee787ecb5208533c7cb8690ad19903d99be005ace7d8e3a0c40191"
   }
  }
 },
 "nbformat": 4,
 "nbformat_minor": 2
}
