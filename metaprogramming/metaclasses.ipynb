{
 "cells": [
  {
   "cell_type": "markdown",
   "metadata": {},
   "source": []
  },
  {
   "cell_type": "code",
   "execution_count": 2,
   "metadata": {},
   "outputs": [
    {
     "data": {
      "text/plain": [
       "type"
      ]
     },
     "execution_count": 2,
     "metadata": {},
     "output_type": "execute_result"
    }
   ],
   "source": [
    "class Parent:\n",
    "    pass\n",
    "\n",
    "type(Parent)"
   ]
  },
  {
   "cell_type": "code",
   "execution_count": 3,
   "metadata": {},
   "outputs": [
    {
     "data": {
      "text/plain": [
       "(type, type, type)"
      ]
     },
     "execution_count": 3,
     "metadata": {},
     "output_type": "execute_result"
    }
   ],
   "source": [
    "type(int), type(list), type(object)"
   ]
  },
  {
   "cell_type": "code",
   "execution_count": 4,
   "metadata": {},
   "outputs": [
    {
     "data": {
      "text/plain": [
       "type"
      ]
     },
     "execution_count": 4,
     "metadata": {},
     "output_type": "execute_result"
    }
   ],
   "source": [
    "type(type)"
   ]
  },
  {
   "cell_type": "markdown",
   "metadata": {},
   "source": [
    "Superclass of `metaclass` is `type`"
   ]
  },
  {
   "cell_type": "markdown",
   "metadata": {},
   "source": [
    "`__init__` vs `__new__`\n",
    "\n",
    "`__new__()` is intended mainly to allow subclasses of immutable types (like int, str, or tuple) to customize instance creation. It is also commonly overridden in custom metaclasses in order to customize class creation.\n",
    "\n",
    "Because `__new__()` and `__init__()` work together in constructing objects (__new__() to create it, and __init__() to customize it), no non-None value may be returned by __init__(); doing so will cause a TypeError to be raised at runtime."
   ]
  },
  {
   "cell_type": "code",
   "execution_count": 9,
   "metadata": {},
   "outputs": [],
   "source": [
    "class MetaClassOne(type):\n",
    "    def __new__(cls, *args):\n",
    "        print(cls)\n",
    "        print(args)\n",
    "\n",
    "        # this line ensures the cls __init__ is called\n",
    "        return type.__new__(cls, *args)"
   ]
  },
  {
   "cell_type": "code",
   "execution_count": 10,
   "metadata": {},
   "outputs": [
    {
     "name": "stdout",
     "output_type": "stream",
     "text": [
      "<class '__main__.MetaClassOne'>\n",
      "('ExampleClass', (), {'__module__': '__main__', '__qualname__': 'ExampleClass', 'int1': 123, 'test': <function ExampleClass.test at 0x7f60be27e310>})\n"
     ]
    }
   ],
   "source": [
    "class ExampleClass(metaclass=MetaClassOne):\n",
    "    int1 = 123\n",
    "\n",
    "    def test():\n",
    "        print('test')"
   ]
  },
  {
   "cell_type": "markdown",
   "metadata": {},
   "source": [
    "An object’s type determines the operations that the object supports (e.g., “does it have a length?”) and also defines the possible values for objects of that type\n",
    "\n"
   ]
  },
  {
   "cell_type": "markdown",
   "metadata": {},
   "source": [
    "# Overloading\n",
    "\n",
    "Classes allow you to make instances of the class (i.e. new objects), but classes are objects\n",
    "\n",
    "What is `type` of class?\n",
    " Class definition is a syntactic way of creating a new type\n",
    "\n",
    "Metclasses help customise what happens in the `prepare` method or the `__init__`/`__new__` methods.\n",
    "A.f()\n",
    "\n",
    "Metaclasses are inheritable"
   ]
  },
  {
   "cell_type": "code",
   "execution_count": 15,
   "metadata": {},
   "outputs": [
    {
     "data": {
      "text/plain": [
       "type"
      ]
     },
     "execution_count": 15,
     "metadata": {},
     "output_type": "execute_result"
    }
   ],
   "source": [
    "class A:\n",
    "    pass\n",
    "\n",
    "type(A)"
   ]
  },
  {
   "cell_type": "code",
   "execution_count": 16,
   "metadata": {},
   "outputs": [
    {
     "name": "stdout",
     "output_type": "stream",
     "text": [
      "B=<class '__main__.B'>\n"
     ]
    }
   ],
   "source": [
    "B = type('B', (), {}) # no difference between type and class\n",
    "print(f'{B=}')"
   ]
  },
  {
   "cell_type": "code",
   "execution_count": 26,
   "metadata": {},
   "outputs": [],
   "source": [
    "# either\n",
    "class A:\n",
    "    pass\n",
    "\n",
    "# OR \n",
    "def make_A():\n",
    "    name = 'A'\n",
    "    bases = ()\n",
    "\n",
    "    a = 1\n",
    "    b = 'hello'\n",
    "\n",
    "    def f(self):\n",
    "        return 117\n",
    "\n",
    "    namespace = type.__prepare__(name, bases)\n",
    "    body = (\n",
    "'''\n",
    "a = 1\n",
    "b = 'hello'\n",
    "\n",
    "def f(self,):\n",
    "    return 117\n",
    "'''\n",
    "    )\n",
    "    exec(body, globals(), namespace)\n",
    "\n",
    "    A = type(name, bases, namespace)\n",
    "    return A"
   ]
  },
  {
   "cell_type": "code",
   "execution_count": 28,
   "metadata": {},
   "outputs": [],
   "source": [
    "A = make_A()"
   ]
  },
  {
   "cell_type": "code",
   "execution_count": 29,
   "metadata": {},
   "outputs": [],
   "source": [
    "a = A()"
   ]
  },
  {
   "cell_type": "code",
   "execution_count": 30,
   "metadata": {},
   "outputs": [
    {
     "data": {
      "text/plain": [
       "117"
      ]
     },
     "execution_count": 30,
     "metadata": {},
     "output_type": "execute_result"
    }
   ],
   "source": [
    "a.f()"
   ]
  },
  {
   "cell_type": "markdown",
   "metadata": {},
   "source": [
    "When class created, the various functions are defined and stored in some diciontary. Can edit this dictionary by overriding default `__prepare__` method"
   ]
  },
  {
   "cell_type": "code",
   "execution_count": 7,
   "metadata": {},
   "outputs": [
    {
     "ename": "TypeError",
     "evalue": "type.__new__() argument 2 must be tuple, not type",
     "output_type": "error",
     "traceback": [
      "\u001b[0;31m---------------------------------------------------------------------------\u001b[0m",
      "\u001b[0;31mTypeError\u001b[0m                                 Traceback (most recent call last)",
      "\u001b[1;32m/storage/projects/notes/metaprogramming/metaclasses.ipynb Cell 18'\u001b[0m in \u001b[0;36m<cell line: 6>\u001b[0;34m()\u001b[0m\n\u001b[1;32m      <a href='vscode-notebook-cell:/storage/projects/notes/metaprogramming/metaclasses.ipynb#ch0000017?line=2'>3</a>\u001b[0m \u001b[39mclass\u001b[39;00m \u001b[39mC\u001b[39;00m:\n\u001b[1;32m      <a href='vscode-notebook-cell:/storage/projects/notes/metaprogramming/metaclasses.ipynb#ch0000017?line=3'>4</a>\u001b[0m     \u001b[39mpass\u001b[39;00m\n\u001b[0;32m----> <a href='vscode-notebook-cell:/storage/projects/notes/metaprogramming/metaclasses.ipynb#ch0000017?line=5'>6</a>\u001b[0m \u001b[39mtype\u001b[39;49m(\u001b[39m'\u001b[39;49m\u001b[39mA\u001b[39;49m\u001b[39m'\u001b[39;49m, ((C)), {})\n",
      "\u001b[0;31mTypeError\u001b[0m: type.__new__() argument 2 must be tuple, not type"
     ]
    }
   ],
   "source": [
    "# creating a class is calling type()\n",
    "# type(name, bases, namespace)\n",
    "class C:\n",
    "    pass\n",
    "\n",
    "type('A', (), {})"
   ]
  },
  {
   "cell_type": "markdown",
   "metadata": {},
   "source": [
    "When a class definition is executed, the following steps occur:\n",
    "- MRO entries are resolved;\n",
    "- the appropriate metaclass is determined;\n",
    "- the class namespace is prepared;\n",
    "- the class body is executed;\n",
    "- the class object is created.\n",
    "\n",
    "Namespaces in Python. A namespace is a collection of currently defined symbolic names along with information about the object that each name references. You can think of a namespace as a dictionary in which the keys are the object names and the values are the objects themselves"
   ]
  },
  {
   "cell_type": "code",
   "execution_count": 9,
   "metadata": {},
   "outputs": [
    {
     "data": {
      "text/plain": [
       "(__main__.A, object)"
      ]
     },
     "execution_count": 9,
     "metadata": {},
     "output_type": "execute_result"
    }
   ],
   "source": [
    "class A:\n",
    "    pass\n",
    "A.__mro__"
   ]
  },
  {
   "cell_type": "code",
   "execution_count": 10,
   "metadata": {},
   "outputs": [
    {
     "name": "stdout",
     "output_type": "stream",
     "text": [
      "Help on built-in function exec in module builtins:\n",
      "\n",
      "exec(source, globals=None, locals=None, /)\n",
      "    Execute the given source in the context of globals and locals.\n",
      "    \n",
      "    The source may be a string representing one or more Python statements\n",
      "    or a code object as returned by compile().\n",
      "    The globals must be a dictionary and locals can be any mapping,\n",
      "    defaulting to the current globals and locals.\n",
      "    If only globals is given, locals defaults to it.\n",
      "\n"
     ]
    }
   ],
   "source": [
    "help(exec)"
   ]
  },
  {
   "cell_type": "code",
   "execution_count": 12,
   "metadata": {},
   "outputs": [
    {
     "data": {
      "text/plain": [
       "(True, True)"
      ]
     },
     "execution_count": 12,
     "metadata": {},
     "output_type": "execute_result"
    }
   ],
   "source": [
    "a = A()\n",
    "isinstance(a, A), isinstance(A, type)"
   ]
  },
  {
   "cell_type": "markdown",
   "metadata": {},
   "source": [
    "- `Metaclass.__prepare__` just returns the namespace object (a dictionary-like object as explained before).\n",
    "- `Metaclass.__new__` returns the Class object.\n",
    "- `Metaclass.__call__` returns whatever Metaclass.__new__ returned (and if it returned an instance of Metaclass it will also call Metaclass.__init__ on it)."
   ]
  },
  {
   "cell_type": "code",
   "execution_count": 16,
   "metadata": {},
   "outputs": [
    {
     "data": {
      "text/plain": [
       "{}"
      ]
     },
     "execution_count": 16,
     "metadata": {},
     "output_type": "execute_result"
    }
   ],
   "source": [
    "import pandas as pd \n",
    "type.__prepare__('A', ())"
   ]
  },
  {
   "cell_type": "code",
   "execution_count": 17,
   "metadata": {},
   "outputs": [],
   "source": [
    "class Base:\n",
    "    __slots__ = 'foo', 'bar'"
   ]
  },
  {
   "cell_type": "code",
   "execution_count": 20,
   "metadata": {},
   "outputs": [
    {
     "name": "stdout",
     "output_type": "stream",
     "text": [
      "Help on wrapper_descriptor:\n",
      "\n",
      "__call__(self, /, *args, **kwargs)\n",
      "    Call self as a function.\n",
      "\n"
     ]
    }
   ],
   "source": [
    "help(type.__call__)"
   ]
  },
  {
   "cell_type": "code",
   "execution_count": 21,
   "metadata": {},
   "outputs": [
    {
     "name": "stdout",
     "output_type": "stream",
     "text": [
      "<class '__main__.Meta'>\n"
     ]
    }
   ],
   "source": [
    "# metaclass\n",
    "class Meta(type):\n",
    "    def __new__(cls, classname, bases, attributes):\n",
    "        print(cls)\n",
    "\n",
    "        return type.__new__(cls, classname, bases, attributes)\n",
    "\n",
    "class A(metaclass=Meta):\n",
    "    pass"
   ]
  },
  {
   "cell_type": "code",
   "execution_count": 22,
   "metadata": {},
   "outputs": [],
   "source": [
    "a = A()"
   ]
  },
  {
   "cell_type": "code",
   "execution_count": 25,
   "metadata": {},
   "outputs": [
    {
     "ename": "NameError",
     "evalue": "name '__file__' is not defined",
     "output_type": "error",
     "traceback": [
      "\u001b[0;31m---------------------------------------------------------------------------\u001b[0m",
      "\u001b[0;31mNameError\u001b[0m                                 Traceback (most recent call last)",
      "\u001b[1;32m/storage/projects/notes/metaprogramming/metaclasses.ipynb Cell 29'\u001b[0m in \u001b[0;36m<cell line: 1>\u001b[0;34m()\u001b[0m\n\u001b[0;32m----> <a href='vscode-notebook-cell:/storage/projects/notes/metaprogramming/metaclasses.ipynb#ch0000030?line=0'>1</a>\u001b[0m \u001b[39m__file__\u001b[39;49m\n",
      "\u001b[0;31mNameError\u001b[0m: name '__file__' is not defined"
     ]
    }
   ],
   "source": []
  },
  {
   "cell_type": "code",
   "execution_count": 26,
   "metadata": {},
   "outputs": [],
   "source": [
    "# not meta\n",
    "from tracemalloc import start, take_snapshot\n",
    "\n",
    "start()\n",
    "before = take_snapshot()\n",
    "a = A()\n",
    "after = take_snapshot()\n",
    "\n",
    "for stat in (stat for stat in after.compare_to(before, 'lineno') if stat.traceback[0].filename == 'metaclasses.ipynb'):\n",
    "    print(stat)"
   ]
  },
  {
   "cell_type": "markdown",
   "metadata": {},
   "source": [
    "# Example \n",
    "\n",
    "From [James Powell: Advanced Metaphors in Coding with Python](https://www.youtube.com/watch?v=R2ipPgrWypI&t=446s)"
   ]
  },
  {
   "cell_type": "code",
   "execution_count": 28,
   "metadata": {},
   "outputs": [],
   "source": [
    "class Base:\n",
    "    def bar(self, ):\n",
    "        return 'bar'\n",
    "\n",
    "assert hasattr(Base, 'bar')\n",
    "# OR using a unit test that\n",
    "def test_Base():\n",
    "    # this fulfills all implicit assumptions about my code if it passes\n",
    "    b = Base()\n",
    "    b.bar"
   ]
  },
  {
   "cell_type": "code",
   "execution_count": 29,
   "metadata": {},
   "outputs": [
    {
     "name": "stdout",
     "output_type": "stream",
     "text": [
      "  2           0 LOAD_BUILD_CLASS\n",
      "              2 LOAD_CONST               1 (<code object Foo at 0x7f3486598ea0, file \"/tmp/ipykernel_510800/2346271759.py\", line 2>)\n",
      "              4 LOAD_CONST               2 ('Foo')\n",
      "              6 MAKE_FUNCTION            0\n",
      "              8 LOAD_CONST               2 ('Foo')\n",
      "             10 CALL_FUNCTION            2\n",
      "             12 STORE_FAST               0 (Foo)\n",
      "             14 LOAD_CONST               0 (None)\n",
      "             16 RETURN_VALUE\n",
      "\n",
      "Disassembly of <code object Foo at 0x7f3486598ea0, file \"/tmp/ipykernel_510800/2346271759.py\", line 2>:\n",
      "  2           0 LOAD_NAME                0 (__name__)\n",
      "              2 STORE_NAME               1 (__module__)\n",
      "              4 LOAD_CONST               0 ('f.<locals>.Foo')\n",
      "              6 STORE_NAME               2 (__qualname__)\n",
      "\n",
      "  3           8 LOAD_CONST               1 (None)\n",
      "             10 RETURN_VALUE\n"
     ]
    }
   ],
   "source": [
    "# python has \"hooks\" due to its rich runtime\n",
    "def f():\n",
    "    class Foo: # this is executable code\n",
    "        pass\n",
    "from dis import dis\n",
    "\n",
    "dis(f)"
   ]
  },
  {
   "cell_type": "code",
   "execution_count": 32,
   "metadata": {},
   "outputs": [
    {
     "name": "stdout",
     "output_type": "stream",
     "text": [
      "Help on built-in function __build_class__ in module builtins:\n",
      "\n",
      "__build_class__(...)\n",
      "    __build_class__(func, name, /, *bases, [metaclass], **kwds) -> class\n",
      "    \n",
      "    Internal helper function used by the class statement.\n",
      "\n"
     ]
    }
   ],
   "source": [
    "import builtins\n",
    "# __build_class__ is called for building classes\n",
    "help(__build_class__) # (cls, name, bases)"
   ]
  },
  {
   "cell_type": "markdown",
   "metadata": {},
   "source": [
    "Look into `__init_subclass__` as well"
   ]
  },
  {
   "cell_type": "code",
   "execution_count": 37,
   "metadata": {},
   "outputs": [
    {
     "ename": "TypeError",
     "evalue": "",
     "output_type": "error",
     "traceback": [
      "\u001b[0;31m---------------------------------------------------------------------------\u001b[0m",
      "\u001b[0;31mTypeError\u001b[0m                                 Traceback (most recent call last)",
      "\u001b[1;32m/storage/projects/notes/metaprogramming/metaclasses.ipynb Cell 35'\u001b[0m in \u001b[0;36m<cell line: 14>\u001b[0;34m()\u001b[0m\n\u001b[1;32m      <a href='vscode-notebook-cell:/storage/projects/notes/metaprogramming/metaclasses.ipynb#ch0000034?line=0'>1</a>\u001b[0m \u001b[39m# metaclasses construct the new classes\u001b[39;00m\n\u001b[1;32m      <a href='vscode-notebook-cell:/storage/projects/notes/metaprogramming/metaclasses.ipynb#ch0000034?line=1'>2</a>\u001b[0m \u001b[39m# __new__ creates a new CLASS, NOT AN INSTANCE\u001b[39;00m\n\u001b[1;32m      <a href='vscode-notebook-cell:/storage/projects/notes/metaprogramming/metaclasses.ipynb#ch0000034?line=2'>3</a>\u001b[0m \n\u001b[0;32m   (...)\u001b[0m\n\u001b[1;32m     <a href='vscode-notebook-cell:/storage/projects/notes/metaprogramming/metaclasses.ipynb#ch0000034?line=11'>12</a>\u001b[0m \u001b[39m#     def bar(self,):\u001b[39;00m\n\u001b[1;32m     <a href='vscode-notebook-cell:/storage/projects/notes/metaprogramming/metaclasses.ipynb#ch0000034?line=12'>13</a>\u001b[0m \u001b[39m#         return self.baz()\u001b[39;00m\n\u001b[0;32m---> <a href='vscode-notebook-cell:/storage/projects/notes/metaprogramming/metaclasses.ipynb#ch0000034?line=13'>14</a>\u001b[0m \u001b[39mfrom\u001b[39;00m \u001b[39mlibrary\u001b[39;00m \u001b[39mimport\u001b[39;00m Base\n\u001b[1;32m     <a href='vscode-notebook-cell:/storage/projects/notes/metaprogramming/metaclasses.ipynb#ch0000034?line=15'>16</a>\u001b[0m \u001b[39mclass\u001b[39;00m \u001b[39mDerived\u001b[39;00m(Base):\n\u001b[1;32m     <a href='vscode-notebook-cell:/storage/projects/notes/metaprogramming/metaclasses.ipynb#ch0000034?line=16'>17</a>\u001b[0m     \u001b[39mdef\u001b[39;00m \u001b[39mbaz\u001b[39m(\u001b[39mself\u001b[39m, ):\n",
      "File \u001b[0;32m/storage/projects/notes/metaprogramming/library.py:8\u001b[0m, in \u001b[0;36m<module>\u001b[0;34m\u001b[0m\n\u001b[1;32m      5\u001b[0m             \u001b[39mraise\u001b[39;00m \u001b[39mTypeError\u001b[39;00m()\n\u001b[1;32m      6\u001b[0m         \u001b[39mreturn\u001b[39;00m \u001b[39msuper\u001b[39m()\u001b[39m.\u001b[39m\u001b[39m__new__\u001b[39m(\u001b[39mcls\u001b[39m, name, bases, body)\n\u001b[0;32m----> 8\u001b[0m \u001b[39mclass\u001b[39;00m \u001b[39mBase\u001b[39;00m(metaclass\u001b[39m=\u001b[39mBaseMeta):\n\u001b[1;32m      9\u001b[0m     \u001b[39mdef\u001b[39;00m \u001b[39mbar\u001b[39m(\u001b[39mself\u001b[39m,):\n\u001b[1;32m     10\u001b[0m         \u001b[39mreturn\u001b[39;00m \u001b[39mself\u001b[39m\u001b[39m.\u001b[39mbaz()\n",
      "File \u001b[0;32m/storage/projects/notes/metaprogramming/library.py:5\u001b[0m, in \u001b[0;36mBaseMeta.__new__\u001b[0;34m(cls, name, bases, body)\u001b[0m\n\u001b[1;32m      2\u001b[0m \u001b[39mdef\u001b[39;00m \u001b[39m__new__\u001b[39m(\u001b[39mcls\u001b[39m, name, bases, body):\n\u001b[1;32m      3\u001b[0m     \u001b[39m# example\u001b[39;00m\n\u001b[1;32m      4\u001b[0m     \u001b[39mif\u001b[39;00m \u001b[39m'\u001b[39m\u001b[39mbaz\u001b[39m\u001b[39m'\u001b[39m \u001b[39mnot\u001b[39;00m \u001b[39min\u001b[39;00m body:\n\u001b[0;32m----> 5\u001b[0m         \u001b[39mraise\u001b[39;00m \u001b[39mTypeError\u001b[39;00m()\n\u001b[1;32m      6\u001b[0m     \u001b[39mreturn\u001b[39;00m \u001b[39msuper\u001b[39m()\u001b[39m.\u001b[39m\u001b[39m__new__\u001b[39m(\u001b[39mcls\u001b[39m, name, bases, body)\n",
      "\u001b[0;31mTypeError\u001b[0m: "
     ]
    }
   ],
   "source": [
    "# metaclasses construct the new classes\n",
    "# __new__ creates a new CLASS, NOT AN INSTANCE\n",
    "\n",
    "# class BaseMeta(type):\n",
    "#     def __new__(cls, name, bases, body):\n",
    "#         # example\n",
    "#         if 'baz' not in body:\n",
    "#             raise TypeError()\n",
    "#         return super().__new__(cls, name, bases, body)\n",
    "\n",
    "# class Base(metaclass=BaseMeta):\n",
    "#     def bar(self,):\n",
    "#         return self.baz()\n",
    "from library import Base\n",
    "\n",
    "class Derived(Base):\n",
    "    def baz(self, ):\n",
    "        return 'baz'"
   ]
  },
  {
   "cell_type": "code",
   "execution_count": 1,
   "metadata": {},
   "outputs": [
    {
     "name": "stdout",
     "output_type": "stream",
     "text": [
      "Help on function namedtuple in module collections:\n",
      "\n",
      "namedtuple(typename, field_names, *, rename=False, defaults=None, module=None)\n",
      "    Returns a new subclass of tuple with named fields.\n",
      "    \n",
      "    >>> Point = namedtuple('Point', ['x', 'y'])\n",
      "    >>> Point.__doc__                   # docstring for the new class\n",
      "    'Point(x, y)'\n",
      "    >>> p = Point(11, y=22)             # instantiate with positional args or keywords\n",
      "    >>> p[0] + p[1]                     # indexable like a plain tuple\n",
      "    33\n",
      "    >>> x, y = p                        # unpack like a regular tuple\n",
      "    >>> x, y\n",
      "    (11, 22)\n",
      "    >>> p.x + p.y                       # fields also accessible by name\n",
      "    33\n",
      "    >>> d = p._asdict()                 # convert to a dictionary\n",
      "    >>> d['x']\n",
      "    11\n",
      "    >>> Point(**d)                      # convert from a dictionary\n",
      "    Point(x=11, y=22)\n",
      "    >>> p._replace(x=100)               # _replace() is like str.replace() but targets named fields\n",
      "    Point(x=100, y=22)\n",
      "\n"
     ]
    }
   ],
   "source": [
    "from collections import namedtuple\n",
    "\n",
    "help(namedtuple)"
   ]
  },
  {
   "cell_type": "code",
   "execution_count": 3,
   "metadata": {},
   "outputs": [
    {
     "data": {
      "text/plain": [
       "Person(name='A', age=12, dob='1994-04-04')"
      ]
     },
     "execution_count": 3,
     "metadata": {},
     "output_type": "execute_result"
    }
   ],
   "source": [
    "Person = namedtuple('Person', 'name age dob')\n",
    "\n",
    "Person('A', 12, '1994-04-04')"
   ]
  },
  {
   "cell_type": "code",
   "execution_count": 5,
   "metadata": {},
   "outputs": [
    {
     "data": {
      "text/plain": [
       "__main__.NEW_CLASS"
      ]
     },
     "execution_count": 5,
     "metadata": {},
     "output_type": "execute_result"
    }
   ],
   "source": [
    "field_names = tuple()\n",
    "def __init__(self, *args, **kwargs):\n",
    "    attrs = dict(zip(self.__slots__, args))\n",
    "    attrs.update(kwargs)\n",
    "    for name, value in attrs.items():\n",
    "        setattr(self, name, value)\n",
    "def __iter__(self):\n",
    "    for name in self.__slots__:\n",
    "        yield getattr(self, name)\n",
    "def __repr__(self):\n",
    "    values = ', '.join('{}={!r}'.format(*i) for i in zip(self.__slots__, self))\n",
    "    return '{}({})'.format(self.__class__.__name__, values)\n",
    "\n",
    "cls_attrs = dict(\n",
    "    __slots__ = field_names,\n",
    "    __init__ = __init__,\n",
    "    __iter__ = __iter__,\n",
    "    __repr__ = __repr__)\n",
    "\n",
    "# how to make a class\n",
    "cls_name='NEW_CLASS'\n",
    "type(cls_name, (object, ), cls_attrs)"
   ]
  },
  {
   "cell_type": "code",
   "execution_count": 7,
   "metadata": {},
   "outputs": [
    {
     "data": {
      "text/plain": [
       "str"
      ]
     },
     "execution_count": 7,
     "metadata": {},
     "output_type": "execute_result"
    }
   ],
   "source": [
    "'str'.__class__"
   ]
  },
  {
   "cell_type": "code",
   "execution_count": 8,
   "metadata": {},
   "outputs": [
    {
     "data": {
      "text/plain": [
       "type"
      ]
     },
     "execution_count": 8,
     "metadata": {},
     "output_type": "execute_result"
    }
   ],
   "source": [
    "str.__class__"
   ]
  },
  {
   "cell_type": "code",
   "execution_count": 12,
   "metadata": {},
   "outputs": [
    {
     "data": {
      "text/plain": [
       "True"
      ]
     },
     "execution_count": 12,
     "metadata": {},
     "output_type": "execute_result"
    }
   ],
   "source": [
    "# classes are objects, therefore each class must be an instance of some other class 🤯\n",
    "type.__class__ is type(type)"
   ]
  },
  {
   "cell_type": "code",
   "execution_count": 11,
   "metadata": {},
   "outputs": [
    {
     "ename": "SyntaxError",
     "evalue": "invalid character '🤯' (U+1F92F) (4168230873.py, line 1)",
     "output_type": "error",
     "traceback": [
      "\u001b[0;36m  Input \u001b[0;32mIn [11]\u001b[0;36m\u001b[0m\n\u001b[0;31m    🤯\u001b[0m\n\u001b[0m    ^\u001b[0m\n\u001b[0;31mSyntaxError\u001b[0m\u001b[0;31m:\u001b[0m invalid character '🤯' (U+1F92F)\n"
     ]
    }
   ],
   "source": []
  },
  {
   "cell_type": "code",
   "execution_count": 14,
   "metadata": {},
   "outputs": [
    {
     "data": {
      "text/plain": [
       "(type, type)"
      ]
     },
     "execution_count": 14,
     "metadata": {},
     "output_type": "execute_result"
    }
   ],
   "source": [
    "type(object), type(type) # object is an instance of type, type is a subclass of object, type is an instance of itself!! #wtf"
   ]
  },
  {
   "cell_type": "code",
   "execution_count": 19,
   "metadata": {},
   "outputs": [
    {
     "data": {
      "text/plain": [
       "abc.ABCMeta"
      ]
     },
     "execution_count": 19,
     "metadata": {},
     "output_type": "execute_result"
    }
   ],
   "source": [
    "# ONLY metaclasses are BOTH instances AND SUBClASSES of type\n",
    "# all other classes are just isntances\n",
    "import collections \n",
    "\n",
    "collections.abc.Iterable.__class__"
   ]
  },
  {
   "cell_type": "code",
   "execution_count": 20,
   "metadata": {},
   "outputs": [
    {
     "name": "stdout",
     "output_type": "stream",
     "text": [
      "<[100]> evalsupport module start\n",
      "<[400]> MetaAleph body\n",
      "<[700]> evalsupport module end\n"
     ]
    }
   ],
   "source": [
    "# an exmample\n",
    "print('<[100]> evalsupport module start')\n",
    "\n",
    "def deco_alpha(cls):\n",
    "    print('<[200]> deco_alpha')\n",
    "    \n",
    "    def inner_1(self):\n",
    "        print('<[300]> deco_alpha:inner_1')\n",
    "        \n",
    "    cls.method_y = inner_1\n",
    "    return cls\n",
    "\n",
    "class MetaAleph(type):\n",
    "    print('<[400]> MetaAleph body')\n",
    "\n",
    "    # same argument inputs as type()\n",
    "    def __init__(cls, name, bases, dic):\n",
    "        print('<[500]> MetaAleph.__init__')\n",
    "        \n",
    "        def inner_2(self):\n",
    "            print('<[600]> MetaAleph.__init__:inner_2')\n",
    "            \n",
    "        cls.method_z = inner_2\n",
    "        \n",
    "print('<[700]> evalsupport module end')"
   ]
  },
  {
   "cell_type": "code",
   "execution_count": 21,
   "metadata": {},
   "outputs": [
    {
     "name": "stdout",
     "output_type": "stream",
     "text": [
      "ClassFive body\n",
      "<[500]> MetaAleph.__init__\n"
     ]
    }
   ],
   "source": [
    "class ClassFive(metaclass=MetaAleph):\n",
    "    print('ClassFive body')\n",
    "\n",
    "    def __init__(self, ):\n",
    "        print('classfive init')\n",
    "\n",
    "    def method_z(self, ):\n",
    "        print('ClassFive.method_z')\n",
    "    "
   ]
  },
  {
   "cell_type": "code",
   "execution_count": 22,
   "metadata": {},
   "outputs": [
    {
     "name": "stdout",
     "output_type": "stream",
     "text": [
      "classfive init\n",
      "<[600]> MetaAleph.__init__:inner_2\n"
     ]
    }
   ],
   "source": [
    "c = ClassFive()\n",
    "c.method_z()"
   ]
  },
  {
   "cell_type": "code",
   "execution_count": 25,
   "metadata": {},
   "outputs": [],
   "source": [
    "# prepare happens before new, which happens before init\n",
    "from typing import Any, Mapping\n",
    "\n",
    "class Meta(type):\n",
    "    @classmethod\n",
    "    def __prepare__(\n",
    "        metacls,\n",
    "         __name: str,\n",
    "          __bases: tuple[type, ...], \n",
    "          **kwds: Any) -> Mapping[str, object]:\n",
    "\n",
    "        # return super().__prepare__(__name, __bases, **kwds) # default\n",
    "        return collections.OrderedDict()\n",
    "\n",
    "    def __init__(cls, __name, __bases, __attr_dict):\n",
    "        super().__init__(__name, __bases, __attr_dict)\n",
    "        cls._field_names = []\n",
    "        \n",
    "        for key, attr in __attr_dict.items():\n",
    "            if isinstance(attr, Validated):\n",
    "                type_name = type(attr).__name__\n",
    "                "
   ]
  },
  {
   "cell_type": "markdown",
   "metadata": {},
   "source": [
    "# Example Usages\n",
    "[Pandas Library: to register holidays](https://github.com/pandas-dev/pandas/blob/2be9661853f4e425e00e3a32d265fe889b242f44/pandas/tseries/holiday.py)  \n",
    "[cuDF overriding methods](https://github.com/rapidsai/cudf/blob/6ca2ceb8e200d55f1f681a4ca086614a28d67ad1/python/cudf/cudf/core/index.py)  \n",
    "[cuML for fixing init](https://github.com/rapidsai/cuml/blob/50716cf98c4103aa8dbbcc4ea64897ccb7a70722/python/cuml/internals/base_helpers.py)"
   ]
  }
 ],
 "metadata": {
  "kernelspec": {
   "display_name": "Python 3.9.5 ('base')",
   "language": "python",
   "name": "python3"
  },
  "language_info": {
   "codemirror_mode": {
    "name": "ipython",
    "version": 3
   },
   "file_extension": ".py",
   "mimetype": "text/x-python",
   "name": "python",
   "nbconvert_exporter": "python",
   "pygments_lexer": "ipython3",
   "version": "3.9.5"
  },
  "orig_nbformat": 4,
  "vscode": {
   "interpreter": {
    "hash": "71e8b1f6f3495059fce097d5c6575812dc5dac8fbff18ce1c88517378c99d58f"
   }
  }
 },
 "nbformat": 4,
 "nbformat_minor": 2
}
