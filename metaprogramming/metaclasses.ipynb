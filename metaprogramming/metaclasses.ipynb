{
 "cells": [
  {
   "cell_type": "markdown",
   "metadata": {},
   "source": []
  },
  {
   "cell_type": "code",
   "execution_count": 2,
   "metadata": {},
   "outputs": [
    {
     "data": {
      "text/plain": [
       "type"
      ]
     },
     "execution_count": 2,
     "metadata": {},
     "output_type": "execute_result"
    }
   ],
   "source": [
    "class Parent:\n",
    "    pass\n",
    "\n",
    "type(Parent)"
   ]
  },
  {
   "cell_type": "code",
   "execution_count": 3,
   "metadata": {},
   "outputs": [
    {
     "data": {
      "text/plain": [
       "(type, type, type)"
      ]
     },
     "execution_count": 3,
     "metadata": {},
     "output_type": "execute_result"
    }
   ],
   "source": [
    "type(int), type(list), type(object)"
   ]
  },
  {
   "cell_type": "code",
   "execution_count": 4,
   "metadata": {},
   "outputs": [
    {
     "data": {
      "text/plain": [
       "type"
      ]
     },
     "execution_count": 4,
     "metadata": {},
     "output_type": "execute_result"
    }
   ],
   "source": [
    "type(type)"
   ]
  },
  {
   "cell_type": "markdown",
   "metadata": {},
   "source": [
    "Superclass of `metaclass` is `type`"
   ]
  },
  {
   "cell_type": "markdown",
   "metadata": {},
   "source": [
    "`__init__` vs `__new__`\n",
    "\n",
    "`__new__()` is intended mainly to allow subclasses of immutable types (like int, str, or tuple) to customize instance creation. It is also commonly overridden in custom metaclasses in order to customize class creation.\n",
    "\n",
    "Because `__new__()` and `__init__()` work together in constructing objects (`__new__()` to create it, and `__init__()` to customize it), no non-None value may be returned by __init__(); doing so will cause a TypeError to be raised at runtime."
   ]
  },
  {
   "cell_type": "code",
   "execution_count": null,
   "metadata": {},
   "outputs": [],
   "source": []
  },
  {
   "cell_type": "code",
   "execution_count": 9,
   "metadata": {},
   "outputs": [],
   "source": [
    "class MetaClassOne(type):\n",
    "    def __new__(cls, *args):\n",
    "        print(cls)\n",
    "        print(args)\n",
    "\n",
    "        # this line ensures the cls __init__ is called\n",
    "        return type.__new__(cls, *args)"
   ]
  },
  {
   "cell_type": "code",
   "execution_count": 10,
   "metadata": {},
   "outputs": [
    {
     "name": "stdout",
     "output_type": "stream",
     "text": [
      "<class '__main__.MetaClassOne'>\n",
      "('ExampleClass', (), {'__module__': '__main__', '__qualname__': 'ExampleClass', 'int1': 123, 'test': <function ExampleClass.test at 0x7f60be27e310>})\n"
     ]
    }
   ],
   "source": [
    "class ExampleClass(metaclass=MetaClassOne):\n",
    "    int1 = 123\n",
    "\n",
    "    def test():\n",
    "        print('test')"
   ]
  },
  {
   "cell_type": "markdown",
   "metadata": {},
   "source": [
    "An object’s type determines the operations that the object supports (e.g., “does it have a length?”) and also defines the possible values for objects of that type\n",
    "\n"
   ]
  },
  {
   "cell_type": "markdown",
   "metadata": {},
   "source": [
    "# Overloading\n",
    "\n",
    "Classes allow you to make instances of the class (i.e. new objects), but classes are objects\n",
    "\n",
    "What is `type` of class?\n",
    " Class definition is a syntactic way of creating a new type\n",
    "\n",
    "Metclasses help customise what happens in the `prepare` method or the `__init__`/`__new__` methods.\n",
    "A.f()\n",
    "\n",
    "Metaclasses are inheritable"
   ]
  },
  {
   "cell_type": "code",
   "execution_count": 15,
   "metadata": {},
   "outputs": [
    {
     "data": {
      "text/plain": [
       "type"
      ]
     },
     "execution_count": 15,
     "metadata": {},
     "output_type": "execute_result"
    }
   ],
   "source": [
    "class A:\n",
    "    pass\n",
    "\n",
    "type(A)"
   ]
  },
  {
   "cell_type": "code",
   "execution_count": 16,
   "metadata": {},
   "outputs": [
    {
     "name": "stdout",
     "output_type": "stream",
     "text": [
      "B=<class '__main__.B'>\n"
     ]
    }
   ],
   "source": [
    "B = type('B', (), {}) # no difference between type and class\n",
    "print(f'{B=}')"
   ]
  },
  {
   "cell_type": "code",
   "execution_count": 26,
   "metadata": {},
   "outputs": [],
   "source": [
    "# either\n",
    "class A:\n",
    "    pass\n",
    "\n",
    "# OR \n",
    "def make_A():\n",
    "    name = 'A'\n",
    "    bases = ()\n",
    "\n",
    "    a = 1\n",
    "    b = 'hello'\n",
    "\n",
    "    def f(self):\n",
    "        return 117\n",
    "\n",
    "    namespace = type.__prepare__(name, bases)\n",
    "    body = (\n",
    "'''\n",
    "a = 1\n",
    "b = 'hello'\n",
    "\n",
    "def f(self,):\n",
    "    return 117\n",
    "'''\n",
    "    )\n",
    "    exec(body, globals(), namespace)\n",
    "\n",
    "    A = type(name, bases, namespace)\n",
    "    return A"
   ]
  },
  {
   "cell_type": "code",
   "execution_count": 28,
   "metadata": {},
   "outputs": [],
   "source": [
    "A = make_A()"
   ]
  },
  {
   "cell_type": "code",
   "execution_count": 29,
   "metadata": {},
   "outputs": [],
   "source": [
    "a = A()"
   ]
  },
  {
   "cell_type": "code",
   "execution_count": 30,
   "metadata": {},
   "outputs": [
    {
     "data": {
      "text/plain": [
       "117"
      ]
     },
     "execution_count": 30,
     "metadata": {},
     "output_type": "execute_result"
    }
   ],
   "source": [
    "a.f()"
   ]
  },
  {
   "cell_type": "markdown",
   "metadata": {},
   "source": [
    "When class created, the various functions are defined and stored in some diciontary. Can edit this dictionary by overriding default `__prepare__` method"
   ]
  },
  {
   "cell_type": "code",
   "execution_count": 7,
   "metadata": {},
   "outputs": [
    {
     "ename": "TypeError",
     "evalue": "type.__new__() argument 2 must be tuple, not type",
     "output_type": "error",
     "traceback": [
      "\u001b[0;31m---------------------------------------------------------------------------\u001b[0m",
      "\u001b[0;31mTypeError\u001b[0m                                 Traceback (most recent call last)",
      "\u001b[1;32m/storage/projects/notes/metaprogramming/metaclasses.ipynb Cell 18'\u001b[0m in \u001b[0;36m<cell line: 6>\u001b[0;34m()\u001b[0m\n\u001b[1;32m      <a href='vscode-notebook-cell:/storage/projects/notes/metaprogramming/metaclasses.ipynb#ch0000017?line=2'>3</a>\u001b[0m \u001b[39mclass\u001b[39;00m \u001b[39mC\u001b[39;00m:\n\u001b[1;32m      <a href='vscode-notebook-cell:/storage/projects/notes/metaprogramming/metaclasses.ipynb#ch0000017?line=3'>4</a>\u001b[0m     \u001b[39mpass\u001b[39;00m\n\u001b[0;32m----> <a href='vscode-notebook-cell:/storage/projects/notes/metaprogramming/metaclasses.ipynb#ch0000017?line=5'>6</a>\u001b[0m \u001b[39mtype\u001b[39;49m(\u001b[39m'\u001b[39;49m\u001b[39mA\u001b[39;49m\u001b[39m'\u001b[39;49m, ((C)), {})\n",
      "\u001b[0;31mTypeError\u001b[0m: type.__new__() argument 2 must be tuple, not type"
     ]
    }
   ],
   "source": [
    "# creating a class is calling type()\n",
    "# type(name, bases, namespace)\n",
    "class C:\n",
    "    pass\n",
    "\n",
    "type('A', (), {})"
   ]
  },
  {
   "cell_type": "markdown",
   "metadata": {},
   "source": [
    "When a class definition is executed, the following steps occur:\n",
    "- MRO entries are resolved;\n",
    "- the appropriate metaclass is determined;\n",
    "- the class namespace is prepared;\n",
    "- the class body is executed;\n",
    "- the class object is created.\n",
    "\n",
    "Namespaces in Python. A namespace is a collection of currently defined symbolic names along with information about the object that each name references. You can think of a namespace as a dictionary in which the keys are the object names and the values are the objects themselves"
   ]
  },
  {
   "cell_type": "code",
   "execution_count": 9,
   "metadata": {},
   "outputs": [
    {
     "data": {
      "text/plain": [
       "(__main__.A, object)"
      ]
     },
     "execution_count": 9,
     "metadata": {},
     "output_type": "execute_result"
    }
   ],
   "source": [
    "class A:\n",
    "    pass\n",
    "A.__mro__"
   ]
  },
  {
   "cell_type": "code",
   "execution_count": 10,
   "metadata": {},
   "outputs": [
    {
     "name": "stdout",
     "output_type": "stream",
     "text": [
      "Help on built-in function exec in module builtins:\n",
      "\n",
      "exec(source, globals=None, locals=None, /)\n",
      "    Execute the given source in the context of globals and locals.\n",
      "    \n",
      "    The source may be a string representing one or more Python statements\n",
      "    or a code object as returned by compile().\n",
      "    The globals must be a dictionary and locals can be any mapping,\n",
      "    defaulting to the current globals and locals.\n",
      "    If only globals is given, locals defaults to it.\n",
      "\n"
     ]
    }
   ],
   "source": [
    "help(exec)"
   ]
  },
  {
   "cell_type": "code",
   "execution_count": 12,
   "metadata": {},
   "outputs": [
    {
     "data": {
      "text/plain": [
       "(True, True)"
      ]
     },
     "execution_count": 12,
     "metadata": {},
     "output_type": "execute_result"
    }
   ],
   "source": [
    "a = A()\n",
    "isinstance(a, A), isinstance(A, type)"
   ]
  },
  {
   "cell_type": "markdown",
   "metadata": {},
   "source": [
    "- `Metaclass.__prepare__` just returns the namespace object (a dictionary-like object as explained before).\n",
    "- `Metaclass.__new__` returns the Class object.\n",
    "- `Metaclass.__call__` returns whatever Metaclass.__new__ returned (and if it returned an instance of Metaclass it will also call Metaclass.__init__ on it)."
   ]
  },
  {
   "cell_type": "code",
   "execution_count": 16,
   "metadata": {},
   "outputs": [
    {
     "data": {
      "text/plain": [
       "{}"
      ]
     },
     "execution_count": 16,
     "metadata": {},
     "output_type": "execute_result"
    }
   ],
   "source": [
    "import pandas as pd \n",
    "type.__prepare__('A', ())"
   ]
  },
  {
   "cell_type": "code",
   "execution_count": 17,
   "metadata": {},
   "outputs": [],
   "source": [
    "class Base:\n",
    "    __slots__ = 'foo', 'bar'"
   ]
  },
  {
   "cell_type": "code",
   "execution_count": 20,
   "metadata": {},
   "outputs": [
    {
     "name": "stdout",
     "output_type": "stream",
     "text": [
      "Help on wrapper_descriptor:\n",
      "\n",
      "__call__(self, /, *args, **kwargs)\n",
      "    Call self as a function.\n",
      "\n"
     ]
    }
   ],
   "source": [
    "help(type.__call__)"
   ]
  },
  {
   "cell_type": "code",
   "execution_count": 21,
   "metadata": {},
   "outputs": [
    {
     "name": "stdout",
     "output_type": "stream",
     "text": [
      "<class '__main__.Meta'>\n"
     ]
    }
   ],
   "source": [
    "# metaclass\n",
    "class Meta(type):\n",
    "    def __new__(cls, classname, bases, attributes):\n",
    "        print(cls)\n",
    "\n",
    "        return type.__new__(cls, classname, bases, attributes)\n",
    "\n",
    "class A(metaclass=Meta):\n",
    "    pass"
   ]
  },
  {
   "cell_type": "code",
   "execution_count": 22,
   "metadata": {},
   "outputs": [],
   "source": [
    "a = A()"
   ]
  },
  {
   "cell_type": "code",
   "execution_count": 25,
   "metadata": {},
   "outputs": [
    {
     "ename": "NameError",
     "evalue": "name '__file__' is not defined",
     "output_type": "error",
     "traceback": [
      "\u001b[0;31m---------------------------------------------------------------------------\u001b[0m",
      "\u001b[0;31mNameError\u001b[0m                                 Traceback (most recent call last)",
      "\u001b[1;32m/storage/projects/notes/metaprogramming/metaclasses.ipynb Cell 29'\u001b[0m in \u001b[0;36m<cell line: 1>\u001b[0;34m()\u001b[0m\n\u001b[0;32m----> <a href='vscode-notebook-cell:/storage/projects/notes/metaprogramming/metaclasses.ipynb#ch0000030?line=0'>1</a>\u001b[0m \u001b[39m__file__\u001b[39;49m\n",
      "\u001b[0;31mNameError\u001b[0m: name '__file__' is not defined"
     ]
    }
   ],
   "source": []
  },
  {
   "cell_type": "code",
   "execution_count": 26,
   "metadata": {},
   "outputs": [],
   "source": [
    "# not meta\n",
    "from tracemalloc import start, take_snapshot\n",
    "\n",
    "start()\n",
    "before = take_snapshot()\n",
    "a = A()\n",
    "after = take_snapshot()\n",
    "\n",
    "for stat in (stat for stat in after.compare_to(before, 'lineno') if stat.traceback[0].filename == 'metaclasses.ipynb'):\n",
    "    print(stat)"
   ]
  },
  {
   "cell_type": "markdown",
   "metadata": {},
   "source": [
    "# Example \n",
    "\n",
    "From [James Powell: Advanced Metaphors in Coding with Python](https://www.youtube.com/watch?v=R2ipPgrWypI&t=446s)"
   ]
  },
  {
   "cell_type": "code",
   "execution_count": 28,
   "metadata": {},
   "outputs": [],
   "source": [
    "class Base:\n",
    "    def bar(self, ):\n",
    "        return 'bar'\n",
    "\n",
    "assert hasattr(Base, 'bar')\n",
    "# OR using a unit test that\n",
    "def test_Base():\n",
    "    # this fulfills all implicit assumptions about my code if it passes\n",
    "    b = Base()\n",
    "    b.bar"
   ]
  },
  {
   "cell_type": "code",
   "execution_count": 29,
   "metadata": {},
   "outputs": [
    {
     "name": "stdout",
     "output_type": "stream",
     "text": [
      "  2           0 LOAD_BUILD_CLASS\n",
      "              2 LOAD_CONST               1 (<code object Foo at 0x7f3486598ea0, file \"/tmp/ipykernel_510800/2346271759.py\", line 2>)\n",
      "              4 LOAD_CONST               2 ('Foo')\n",
      "              6 MAKE_FUNCTION            0\n",
      "              8 LOAD_CONST               2 ('Foo')\n",
      "             10 CALL_FUNCTION            2\n",
      "             12 STORE_FAST               0 (Foo)\n",
      "             14 LOAD_CONST               0 (None)\n",
      "             16 RETURN_VALUE\n",
      "\n",
      "Disassembly of <code object Foo at 0x7f3486598ea0, file \"/tmp/ipykernel_510800/2346271759.py\", line 2>:\n",
      "  2           0 LOAD_NAME                0 (__name__)\n",
      "              2 STORE_NAME               1 (__module__)\n",
      "              4 LOAD_CONST               0 ('f.<locals>.Foo')\n",
      "              6 STORE_NAME               2 (__qualname__)\n",
      "\n",
      "  3           8 LOAD_CONST               1 (None)\n",
      "             10 RETURN_VALUE\n"
     ]
    }
   ],
   "source": [
    "# python has \"hooks\" due to its rich runtime\n",
    "def f():\n",
    "    class Foo: # this is executable code\n",
    "        pass\n",
    "from dis import dis\n",
    "\n",
    "dis(f)"
   ]
  },
  {
   "cell_type": "code",
   "execution_count": 32,
   "metadata": {},
   "outputs": [
    {
     "name": "stdout",
     "output_type": "stream",
     "text": [
      "Help on built-in function __build_class__ in module builtins:\n",
      "\n",
      "__build_class__(...)\n",
      "    __build_class__(func, name, /, *bases, [metaclass], **kwds) -> class\n",
      "    \n",
      "    Internal helper function used by the class statement.\n",
      "\n"
     ]
    }
   ],
   "source": [
    "import builtins\n",
    "# __build_class__ is called for building classes\n",
    "help(__build_class__) # (cls, name, bases)"
   ]
  },
  {
   "cell_type": "markdown",
   "metadata": {},
   "source": [
    "Look into `__init_subclass__` as well"
   ]
  },
  {
   "cell_type": "code",
   "execution_count": 37,
   "metadata": {},
   "outputs": [
    {
     "ename": "TypeError",
     "evalue": "",
     "output_type": "error",
     "traceback": [
      "\u001b[0;31m---------------------------------------------------------------------------\u001b[0m",
      "\u001b[0;31mTypeError\u001b[0m                                 Traceback (most recent call last)",
      "\u001b[1;32m/storage/projects/notes/metaprogramming/metaclasses.ipynb Cell 35'\u001b[0m in \u001b[0;36m<cell line: 14>\u001b[0;34m()\u001b[0m\n\u001b[1;32m      <a href='vscode-notebook-cell:/storage/projects/notes/metaprogramming/metaclasses.ipynb#ch0000034?line=0'>1</a>\u001b[0m \u001b[39m# metaclasses construct the new classes\u001b[39;00m\n\u001b[1;32m      <a href='vscode-notebook-cell:/storage/projects/notes/metaprogramming/metaclasses.ipynb#ch0000034?line=1'>2</a>\u001b[0m \u001b[39m# __new__ creates a new CLASS, NOT AN INSTANCE\u001b[39;00m\n\u001b[1;32m      <a href='vscode-notebook-cell:/storage/projects/notes/metaprogramming/metaclasses.ipynb#ch0000034?line=2'>3</a>\u001b[0m \n\u001b[0;32m   (...)\u001b[0m\n\u001b[1;32m     <a href='vscode-notebook-cell:/storage/projects/notes/metaprogramming/metaclasses.ipynb#ch0000034?line=11'>12</a>\u001b[0m \u001b[39m#     def bar(self,):\u001b[39;00m\n\u001b[1;32m     <a href='vscode-notebook-cell:/storage/projects/notes/metaprogramming/metaclasses.ipynb#ch0000034?line=12'>13</a>\u001b[0m \u001b[39m#         return self.baz()\u001b[39;00m\n\u001b[0;32m---> <a href='vscode-notebook-cell:/storage/projects/notes/metaprogramming/metaclasses.ipynb#ch0000034?line=13'>14</a>\u001b[0m \u001b[39mfrom\u001b[39;00m \u001b[39mlibrary\u001b[39;00m \u001b[39mimport\u001b[39;00m Base\n\u001b[1;32m     <a href='vscode-notebook-cell:/storage/projects/notes/metaprogramming/metaclasses.ipynb#ch0000034?line=15'>16</a>\u001b[0m \u001b[39mclass\u001b[39;00m \u001b[39mDerived\u001b[39;00m(Base):\n\u001b[1;32m     <a href='vscode-notebook-cell:/storage/projects/notes/metaprogramming/metaclasses.ipynb#ch0000034?line=16'>17</a>\u001b[0m     \u001b[39mdef\u001b[39;00m \u001b[39mbaz\u001b[39m(\u001b[39mself\u001b[39m, ):\n",
      "File \u001b[0;32m/storage/projects/notes/metaprogramming/library.py:8\u001b[0m, in \u001b[0;36m<module>\u001b[0;34m\u001b[0m\n\u001b[1;32m      5\u001b[0m             \u001b[39mraise\u001b[39;00m \u001b[39mTypeError\u001b[39;00m()\n\u001b[1;32m      6\u001b[0m         \u001b[39mreturn\u001b[39;00m \u001b[39msuper\u001b[39m()\u001b[39m.\u001b[39m\u001b[39m__new__\u001b[39m(\u001b[39mcls\u001b[39m, name, bases, body)\n\u001b[0;32m----> 8\u001b[0m \u001b[39mclass\u001b[39;00m \u001b[39mBase\u001b[39;00m(metaclass\u001b[39m=\u001b[39mBaseMeta):\n\u001b[1;32m      9\u001b[0m     \u001b[39mdef\u001b[39;00m \u001b[39mbar\u001b[39m(\u001b[39mself\u001b[39m,):\n\u001b[1;32m     10\u001b[0m         \u001b[39mreturn\u001b[39;00m \u001b[39mself\u001b[39m\u001b[39m.\u001b[39mbaz()\n",
      "File \u001b[0;32m/storage/projects/notes/metaprogramming/library.py:5\u001b[0m, in \u001b[0;36mBaseMeta.__new__\u001b[0;34m(cls, name, bases, body)\u001b[0m\n\u001b[1;32m      2\u001b[0m \u001b[39mdef\u001b[39;00m \u001b[39m__new__\u001b[39m(\u001b[39mcls\u001b[39m, name, bases, body):\n\u001b[1;32m      3\u001b[0m     \u001b[39m# example\u001b[39;00m\n\u001b[1;32m      4\u001b[0m     \u001b[39mif\u001b[39;00m \u001b[39m'\u001b[39m\u001b[39mbaz\u001b[39m\u001b[39m'\u001b[39m \u001b[39mnot\u001b[39;00m \u001b[39min\u001b[39;00m body:\n\u001b[0;32m----> 5\u001b[0m         \u001b[39mraise\u001b[39;00m \u001b[39mTypeError\u001b[39;00m()\n\u001b[1;32m      6\u001b[0m     \u001b[39mreturn\u001b[39;00m \u001b[39msuper\u001b[39m()\u001b[39m.\u001b[39m\u001b[39m__new__\u001b[39m(\u001b[39mcls\u001b[39m, name, bases, body)\n",
      "\u001b[0;31mTypeError\u001b[0m: "
     ]
    }
   ],
   "source": [
    "# metaclasses construct the new classes\n",
    "# __new__ creates a new CLASS, NOT AN INSTANCE\n",
    "\n",
    "# class BaseMeta(type):\n",
    "#     def __new__(cls, name, bases, body):\n",
    "#         # example\n",
    "#         if 'baz' not in body:\n",
    "#             raise TypeError()\n",
    "#         return super().__new__(cls, name, bases, body)\n",
    "\n",
    "# class Base(metaclass=BaseMeta):\n",
    "#     def bar(self,):\n",
    "#         return self.baz()\n",
    "from library import Base\n",
    "\n",
    "class Derived(Base):\n",
    "    def baz(self, ):\n",
    "        return 'baz'"
   ]
  },
  {
   "cell_type": "code",
   "execution_count": 1,
   "metadata": {},
   "outputs": [
    {
     "name": "stdout",
     "output_type": "stream",
     "text": [
      "Help on function namedtuple in module collections:\n",
      "\n",
      "namedtuple(typename, field_names, *, rename=False, defaults=None, module=None)\n",
      "    Returns a new subclass of tuple with named fields.\n",
      "    \n",
      "    >>> Point = namedtuple('Point', ['x', 'y'])\n",
      "    >>> Point.__doc__                   # docstring for the new class\n",
      "    'Point(x, y)'\n",
      "    >>> p = Point(11, y=22)             # instantiate with positional args or keywords\n",
      "    >>> p[0] + p[1]                     # indexable like a plain tuple\n",
      "    33\n",
      "    >>> x, y = p                        # unpack like a regular tuple\n",
      "    >>> x, y\n",
      "    (11, 22)\n",
      "    >>> p.x + p.y                       # fields also accessible by name\n",
      "    33\n",
      "    >>> d = p._asdict()                 # convert to a dictionary\n",
      "    >>> d['x']\n",
      "    11\n",
      "    >>> Point(**d)                      # convert from a dictionary\n",
      "    Point(x=11, y=22)\n",
      "    >>> p._replace(x=100)               # _replace() is like str.replace() but targets named fields\n",
      "    Point(x=100, y=22)\n",
      "\n"
     ]
    }
   ],
   "source": [
    "from collections import namedtuple\n",
    "\n",
    "help(namedtuple)"
   ]
  },
  {
   "cell_type": "code",
   "execution_count": 3,
   "metadata": {},
   "outputs": [
    {
     "data": {
      "text/plain": [
       "Person(name='A', age=12, dob='1994-04-04')"
      ]
     },
     "execution_count": 3,
     "metadata": {},
     "output_type": "execute_result"
    }
   ],
   "source": [
    "Person = namedtuple('Person', 'name age dob')\n",
    "\n",
    "Person('A', 12, '1994-04-04')"
   ]
  },
  {
   "cell_type": "code",
   "execution_count": 5,
   "metadata": {},
   "outputs": [
    {
     "data": {
      "text/plain": [
       "__main__.NEW_CLASS"
      ]
     },
     "execution_count": 5,
     "metadata": {},
     "output_type": "execute_result"
    }
   ],
   "source": [
    "field_names = tuple()\n",
    "def __init__(self, *args, **kwargs):\n",
    "    attrs = dict(zip(self.__slots__, args))\n",
    "    attrs.update(kwargs)\n",
    "    for name, value in attrs.items():\n",
    "        setattr(self, name, value)\n",
    "def __iter__(self):\n",
    "    for name in self.__slots__:\n",
    "        yield getattr(self, name)\n",
    "def __repr__(self):\n",
    "    values = ', '.join('{}={!r}'.format(*i) for i in zip(self.__slots__, self))\n",
    "    return '{}({})'.format(self.__class__.__name__, values)\n",
    "\n",
    "cls_attrs = dict(\n",
    "    __slots__ = field_names,\n",
    "    __init__ = __init__,\n",
    "    __iter__ = __iter__,\n",
    "    __repr__ = __repr__)\n",
    "\n",
    "# how to make a class\n",
    "cls_name='NEW_CLASS'\n",
    "type(cls_name, (object, ), cls_attrs)"
   ]
  },
  {
   "cell_type": "code",
   "execution_count": 7,
   "metadata": {},
   "outputs": [
    {
     "data": {
      "text/plain": [
       "str"
      ]
     },
     "execution_count": 7,
     "metadata": {},
     "output_type": "execute_result"
    }
   ],
   "source": [
    "'str'.__class__"
   ]
  },
  {
   "cell_type": "code",
   "execution_count": 8,
   "metadata": {},
   "outputs": [
    {
     "data": {
      "text/plain": [
       "type"
      ]
     },
     "execution_count": 8,
     "metadata": {},
     "output_type": "execute_result"
    }
   ],
   "source": [
    "str.__class__"
   ]
  },
  {
   "cell_type": "code",
   "execution_count": 12,
   "metadata": {},
   "outputs": [
    {
     "data": {
      "text/plain": [
       "True"
      ]
     },
     "execution_count": 12,
     "metadata": {},
     "output_type": "execute_result"
    }
   ],
   "source": [
    "# classes are objects, therefore each class must be an instance of some other class 🤯\n",
    "type.__class__ is type(type)"
   ]
  },
  {
   "cell_type": "code",
   "execution_count": 11,
   "metadata": {},
   "outputs": [
    {
     "ename": "SyntaxError",
     "evalue": "invalid character '🤯' (U+1F92F) (4168230873.py, line 1)",
     "output_type": "error",
     "traceback": [
      "\u001b[0;36m  Input \u001b[0;32mIn [11]\u001b[0;36m\u001b[0m\n\u001b[0;31m    🤯\u001b[0m\n\u001b[0m    ^\u001b[0m\n\u001b[0;31mSyntaxError\u001b[0m\u001b[0;31m:\u001b[0m invalid character '🤯' (U+1F92F)\n"
     ]
    }
   ],
   "source": []
  },
  {
   "cell_type": "code",
   "execution_count": 14,
   "metadata": {},
   "outputs": [
    {
     "data": {
      "text/plain": [
       "(type, type)"
      ]
     },
     "execution_count": 14,
     "metadata": {},
     "output_type": "execute_result"
    }
   ],
   "source": [
    "type(object), type(type) # object is an instance of type, type is a subclass of object, type is an instance of itself!! #wtf"
   ]
  },
  {
   "cell_type": "code",
   "execution_count": 19,
   "metadata": {},
   "outputs": [
    {
     "data": {
      "text/plain": [
       "abc.ABCMeta"
      ]
     },
     "execution_count": 19,
     "metadata": {},
     "output_type": "execute_result"
    }
   ],
   "source": [
    "# ONLY metaclasses are BOTH instances AND SUBClASSES of type\n",
    "# all other classes are just isntances\n",
    "import collections \n",
    "\n",
    "collections.abc.Iterable.__class__"
   ]
  },
  {
   "cell_type": "code",
   "execution_count": 20,
   "metadata": {},
   "outputs": [
    {
     "name": "stdout",
     "output_type": "stream",
     "text": [
      "<[100]> evalsupport module start\n",
      "<[400]> MetaAleph body\n",
      "<[700]> evalsupport module end\n"
     ]
    }
   ],
   "source": [
    "# an exmample\n",
    "print('<[100]> evalsupport module start')\n",
    "\n",
    "def deco_alpha(cls):\n",
    "    print('<[200]> deco_alpha')\n",
    "    \n",
    "    def inner_1(self):\n",
    "        print('<[300]> deco_alpha:inner_1')\n",
    "        \n",
    "    cls.method_y = inner_1\n",
    "    return cls\n",
    "\n",
    "class MetaAleph(type):\n",
    "    print('<[400]> MetaAleph body')\n",
    "\n",
    "    # same argument inputs as type()\n",
    "    def __init__(cls, name, bases, dic):\n",
    "        print('<[500]> MetaAleph.__init__')\n",
    "        \n",
    "        def inner_2(self):\n",
    "            print('<[600]> MetaAleph.__init__:inner_2')\n",
    "            \n",
    "        cls.method_z = inner_2\n",
    "        \n",
    "print('<[700]> evalsupport module end')"
   ]
  },
  {
   "cell_type": "code",
   "execution_count": 21,
   "metadata": {},
   "outputs": [
    {
     "name": "stdout",
     "output_type": "stream",
     "text": [
      "ClassFive body\n",
      "<[500]> MetaAleph.__init__\n"
     ]
    }
   ],
   "source": [
    "class ClassFive(metaclass=MetaAleph):\n",
    "    print('ClassFive body')\n",
    "\n",
    "    def __init__(self, ):\n",
    "        print('classfive init')\n",
    "\n",
    "    def method_z(self, ):\n",
    "        print('ClassFive.method_z')\n",
    "    "
   ]
  },
  {
   "cell_type": "code",
   "execution_count": 22,
   "metadata": {},
   "outputs": [
    {
     "name": "stdout",
     "output_type": "stream",
     "text": [
      "classfive init\n",
      "<[600]> MetaAleph.__init__:inner_2\n"
     ]
    }
   ],
   "source": [
    "c = ClassFive()\n",
    "c.method_z()"
   ]
  },
  {
   "cell_type": "code",
   "execution_count": 25,
   "metadata": {},
   "outputs": [],
   "source": [
    "# prepare happens before new, which happens before init\n",
    "from typing import Any, Mapping\n",
    "\n",
    "class Meta(type):\n",
    "    @classmethod\n",
    "    def __prepare__(\n",
    "        metacls,\n",
    "        __name: str,\n",
    "        __bases: tuple[type, ...], \n",
    "        **kwds: Any) -> Mapping[str, object]:\n",
    "\n",
    "        # return super().__prepare__(__name, __bases, **kwds) # default\n",
    "        return collections.OrderedDict()\n",
    "\n",
    "    def __init__(cls, __name, __bases, __attr_dict):\n",
    "        super().__init__(__name, __bases, __attr_dict)\n",
    "        cls._field_names = []\n",
    "        \n",
    "        for key, attr in __attr_dict.items():\n",
    "            if isinstance(attr, Validated):\n",
    "                type_name = type(attr).__name__\n",
    "                "
   ]
  },
  {
   "cell_type": "markdown",
   "metadata": {},
   "source": [
    "# PEP 487\n",
    "\n",
    "Replaced metaclass, used `__init_subclass__` hook in class body and ahook to initizlie attributes"
   ]
  },
  {
   "cell_type": "code",
   "execution_count": 6,
   "metadata": {},
   "outputs": [
    {
     "name": "stdout",
     "output_type": "stream",
     "text": [
      "Help on built-in function __init_subclass__:\n",
      "\n",
      "__init_subclass__(...) method of builtins.type instance\n",
      "    This method is called when a class is subclassed.\n",
      "    \n",
      "    The default implementation does nothing. It may be\n",
      "    overridden to extend subclasses.\n",
      "\n"
     ]
    }
   ],
   "source": [
    "help(object.__init_subclass__)"
   ]
  },
  {
   "cell_type": "code",
   "execution_count": 23,
   "metadata": {},
   "outputs": [
    {
     "data": {
      "text/plain": [
       "False"
      ]
     },
     "execution_count": 23,
     "metadata": {},
     "output_type": "execute_result"
    }
   ],
   "source": [
    "class A:\n",
    "    initialized = False\n",
    "    def __init_subclass__(cls, **kwargs):\n",
    "        # cls is the subclass here\n",
    "        super().__init_subclass__(**kwargs) # this ensures all subclases down are initialized\n",
    "        cls.initialized = True\n",
    "        cls.kwargs = kwargs\n",
    "\n",
    "class B(A, x=3):\n",
    "    pass\n",
    "\n",
    "a = A()\n",
    "a.initialized\n"
   ]
  },
  {
   "cell_type": "code",
   "execution_count": 24,
   "metadata": {},
   "outputs": [],
   "source": [
    "def print_info_for_cls(cls, super):\n",
    "    print('    cls                   =', cls)\n",
    "    print('    cls.__mro__           =', cls.__mro__)\n",
    "    print('    cls.__bases__         =', cls.__bases__)\n",
    "    print('    cls.__base__          =', cls.__base__)\n",
    "    print('    super()               =', super)\n",
    "    print('    super().__thisclass__ =', super.__thisclass__)\n",
    "\n",
    "\n",
    "def print_info_for_self(self, super):\n",
    "    print('    self                     =', self)\n",
    "    print('    self.__class__           =', self.__class__)\n",
    "    print('    self.__class__.__mro__   =', self.__class__.__mro__)\n",
    "    print('    self.__class__.__bases__ =', self.__class__.__bases__)\n",
    "    print('    self.__class__.__base__  =', self.__class__.__base__)\n",
    "    print('    super()                  =', super)\n",
    "    print('    super().__thisclass__    =', super.__thisclass__)\n",
    "# --------------------------------------------------\n"
   ]
  },
  {
   "cell_type": "code",
   "execution_count": 49,
   "metadata": {},
   "outputs": [],
   "source": [
    "class Base:\n",
    "    def __init__(self, ):\n",
    "        print('Base __init__')\n",
    "        print_info_for_self(self, super())\n",
    "        super().__init__()\n",
    "\n",
    "    def __init_subclass__(cls, **kwargs):\n",
    "        print('Base.__init_subclass__')\n",
    "        print('kwargs', kwargs)\n",
    "        print_info_for_cls(cls, super())\n",
    "        super().__init_subclass__()"
   ]
  },
  {
   "cell_type": "code",
   "execution_count": 50,
   "metadata": {},
   "outputs": [],
   "source": [
    "class MixinA:\n",
    "    def __init__(self):\n",
    "        print('< MixinA.__init__')\n",
    "        print_info_for_self(self=self, super=super())\n",
    "        super().__init__()\n",
    "        print('> MixinA.__init__')\n",
    "\n",
    "    @classmethod\n",
    "    def __init_subclass__(cls):\n",
    "        print('< MixinA.__init_subclass__')\n",
    "        print_info_for_cls(cls=cls, super=super())\n",
    "        super().__init_subclass__()\n",
    "        print('> MixinA.__init_subclass_')\n",
    "\n",
    "\n",
    "class MixinB:\n",
    "    def __init__(self):\n",
    "        print('< MixinB.__init__')\n",
    "        print_info_for_self(self=self, super=super())\n",
    "        super().__init__()\n",
    "        print('> MixinB.__init__')\n",
    "\n",
    "    @classmethod\n",
    "    def __init_subclass__(cls):\n",
    "        print('< MixinB.__init_subclass__')\n",
    "        print_info_for_cls(cls=cls, super=super())\n",
    "        super().__init_subclass__()\n",
    "        print('> MixinB.__init_subclass__')\n"
   ]
  },
  {
   "cell_type": "code",
   "execution_count": 51,
   "metadata": {},
   "outputs": [
    {
     "name": "stdout",
     "output_type": "stream",
     "text": [
      "Base.__init_subclass__\n",
      "kwargs {'x': 3}\n",
      "    cls                   = <class '__main__.MyClass'>\n",
      "    cls.__mro__           = (<class '__main__.MyClass'>, <class '__main__.Base'>, <class '__main__.MixinA'>, <class 'object'>)\n",
      "    cls.__bases__         = (<class '__main__.Base'>, <class '__main__.MixinA'>)\n",
      "    cls.__base__          = <class '__main__.Base'>\n",
      "    super()               = <super: <class 'Base'>, <MyClass object>>\n",
      "    super().__thisclass__ = <class '__main__.Base'>\n",
      "< MixinA.__init_subclass__\n",
      "    cls                   = <class '__main__.MyClass'>\n",
      "    cls.__mro__           = (<class '__main__.MyClass'>, <class '__main__.Base'>, <class '__main__.MixinA'>, <class 'object'>)\n",
      "    cls.__bases__         = (<class '__main__.Base'>, <class '__main__.MixinA'>)\n",
      "    cls.__base__          = <class '__main__.Base'>\n",
      "    super()               = <super: <class 'MixinA'>, <MyClass object>>\n",
      "    super().__thisclass__ = <class '__main__.MixinA'>\n",
      "> MixinA.__init_subclass_\n"
     ]
    }
   ],
   "source": [
    "class MyClass(Base, MixinA, x=3): # any kwargs here are passed to the parent's __init_subclass__\n",
    "    def __init__(self):\n",
    "        print('< MyClass.__init__')\n",
    "        print_info_for_self(self=self, super=super())\n",
    "        super().__init__()\n",
    "        print('> MyClass.__init__')\n"
   ]
  },
  {
   "cell_type": "code",
   "execution_count": 81,
   "metadata": {},
   "outputs": [
    {
     "name": "stdout",
     "output_type": "stream",
     "text": [
      "(<class '__main__.Meta'>, 'MyClass', (), {'__module__': '__main__', '__qualname__': 'MyClass'})\n"
     ]
    }
   ],
   "source": [
    "class Meta(type):\n",
    "    def __new__(cls, name, bases, class_dict):\n",
    "        print((cls, name, bases, class_dict))\n",
    "\n",
    "        return type.__new__(cls, name, bases, class_dict)\n",
    "\n",
    "\n",
    "\n",
    "class MyClass(metaclass=Meta):\n",
    "    pass\n",
    "\n",
    "# this is output AT TIME OF CLASS CREATION, NOT INSTANCE CREATION, at this stage the metaclass's __new__ is called"
   ]
  },
  {
   "cell_type": "code",
   "execution_count": 79,
   "metadata": {},
   "outputs": [
    {
     "ename": "TypeError",
     "evalue": "Can't instantiate abstract class ConcreteChild with abstract method must_implement_this_method",
     "output_type": "error",
     "traceback": [
      "\u001b[0;31m---------------------------------------------------------------------------\u001b[0m",
      "\u001b[0;31mTypeError\u001b[0m                                 Traceback (most recent call last)",
      "\u001b[1;32m/storage/projects/notes/metaprogramming/metaclasses.ipynb Cell 58\u001b[0m in \u001b[0;36m<cell line: 13>\u001b[0;34m()\u001b[0m\n\u001b[1;32m     <a href='vscode-notebook-cell:/storage/projects/notes/metaprogramming/metaclasses.ipynb#Y114sZmlsZQ%3D%3D?line=9'>10</a>\u001b[0m \u001b[39mclass\u001b[39;00m \u001b[39mConcreteChild\u001b[39;00m(AbstractBase):\n\u001b[1;32m     <a href='vscode-notebook-cell:/storage/projects/notes/metaprogramming/metaclasses.ipynb#Y114sZmlsZQ%3D%3D?line=10'>11</a>\u001b[0m     \u001b[39mpass\u001b[39;00m\n\u001b[0;32m---> <a href='vscode-notebook-cell:/storage/projects/notes/metaprogramming/metaclasses.ipynb#Y114sZmlsZQ%3D%3D?line=12'>13</a>\u001b[0m d \u001b[39m=\u001b[39m ConcreteChild()\n",
      "\u001b[0;31mTypeError\u001b[0m: Can't instantiate abstract class ConcreteChild with abstract method must_implement_this_method"
     ]
    }
   ],
   "source": [
    "import abc\n",
    "\n",
    "\n",
    "class AbstractBase(metaclass=abc.ABCMeta):\n",
    "    @abc.abstractmethod\n",
    "    def must_implement_this_method(self):\n",
    "        raise NotImplementedError()\n",
    "\n",
    "\n",
    "class ConcreteChild(AbstractBase):\n",
    "    pass\n",
    "\n",
    "d = ConcreteChild()"
   ]
  },
  {
   "cell_type": "code",
   "execution_count": 88,
   "metadata": {},
   "outputs": [
    {
     "name": "stdout",
     "output_type": "stream",
     "text": [
      "False\n"
     ]
    }
   ],
   "source": [
    "from abc import abstractmethod\n",
    "\n",
    "class BaseClass:\n",
    "    def __init_subclass__(cls, **kwargs):\n",
    "        print(getattr(cls().foo, '__isabstractmethod__', False))\n",
    "        super().__init_subclass__(**kwargs)\n",
    "\n",
    "    @abstractmethod\n",
    "    def foo(self, ):\n",
    "        raise NotImplementedError\n",
    "\n",
    "class Class(BaseClass):\n",
    "    def foo(self, x):\n",
    "        return x**2"
   ]
  },
  {
   "cell_type": "code",
   "execution_count": 84,
   "metadata": {},
   "outputs": [
    {
     "ename": "AttributeError",
     "evalue": "__abstractmethods__",
     "output_type": "error",
     "traceback": [
      "\u001b[0;31m---------------------------------------------------------------------------\u001b[0m",
      "\u001b[0;31mAttributeError\u001b[0m                            Traceback (most recent call last)",
      "\u001b[1;32m/storage/projects/notes/metaprogramming/metaclasses.ipynb Cell 60\u001b[0m in \u001b[0;36m<cell line: 1>\u001b[0;34m()\u001b[0m\n\u001b[0;32m----> <a href='vscode-notebook-cell:/storage/projects/notes/metaprogramming/metaclasses.ipynb#Y112sZmlsZQ%3D%3D?line=0'>1</a>\u001b[0m Base\u001b[39m.\u001b[39;49m__abstractmethods__\n",
      "\u001b[0;31mAttributeError\u001b[0m: __abstractmethods__"
     ]
    }
   ],
   "source": [
    "Base.__abstractmethods__"
   ]
  },
  {
   "cell_type": "markdown",
   "metadata": {},
   "source": [
    "# PEP 3115"
   ]
  },
  {
   "cell_type": "code",
   "execution_count": 1,
   "metadata": {},
   "outputs": [],
   "source": [
    "# __prepaer__ invoked as a function before class body evaluation\n",
    "# takes two arguments (cls, bases)"
   ]
  },
  {
   "cell_type": "markdown",
   "metadata": {},
   "source": [
    "# Example Usages\n",
    "[Pandas Library: to register holidays](https://github.com/pandas-dev/pandas/blob/2be9661853f4e425e00e3a32d265fe889b242f44/pandas/tseries/holiday.py)  \n",
    "[cuDF overriding methods](https://github.com/rapidsai/cudf/blob/6ca2ceb8e200d55f1f681a4ca086614a28d67ad1/python/cudf/cudf/core/index.py)  \n",
    "[cuML for fixing init](https://github.com/rapidsai/cuml/blob/50716cf98c4103aa8dbbcc4ea64897ccb7a70722/python/cuml/internals/base_helpers.py)"
   ]
  },
  {
   "cell_type": "markdown",
   "metadata": {},
   "source": [
    "# Using `__init_subclass__` to enforce function implementation"
   ]
  },
  {
   "cell_type": "markdown",
   "metadata": {},
   "source": [
    "This is going to get very weird, very quickly. When you create a class in Python, it looks about like the following:"
   ]
  },
  {
   "cell_type": "code",
   "execution_count": 89,
   "metadata": {},
   "outputs": [],
   "source": [
    "class MyClass:\n",
    "    pass"
   ]
  },
  {
   "cell_type": "markdown",
   "metadata": {},
   "source": [
    "Now, let's say I create some really cool class, with a set of cool functions, but I expect my users to implement some of the functions:"
   ]
  },
  {
   "cell_type": "code",
   "execution_count": 90,
   "metadata": {},
   "outputs": [],
   "source": [
    "from abc import abstractmethod\n",
    "\n",
    "class BaseClass:\n",
    "    @abstractmethod\n",
    "    def foo(self,):\n",
    "        raise NotImplementedError"
   ]
  },
  {
   "cell_type": "markdown",
   "metadata": {},
   "source": [
    "So the intention is, when my user inherits the above class, they do the following:"
   ]
  },
  {
   "cell_type": "code",
   "execution_count": 91,
   "metadata": {},
   "outputs": [],
   "source": [
    "class UserClass(BaseClass):\n",
    "    def foo(self, *args, **kwargs):\n",
    "        # actual functionality\n",
    "        pass"
   ]
  },
  {
   "cell_type": "markdown",
   "metadata": {},
   "source": [
    "That's all well and good, but what happens if my user *forgets* to implement `foo`? The above ran just fine, and even instantiation works!"
   ]
  },
  {
   "cell_type": "code",
   "execution_count": 98,
   "metadata": {},
   "outputs": [],
   "source": [
    "class BaseClass:\n",
    "    @abstractmethod\n",
    "    def foo(self,):\n",
    "        raise NotImplementedError\n",
    "\n",
    "class UserClass(BaseClass):\n",
    "    pass\n",
    "\n",
    "user_instance = UserClass()"
   ]
  },
  {
   "cell_type": "markdown",
   "metadata": {},
   "source": [
    "Now, this is a problem. Suppose this class were deployed to some production system, which attempts to call `foo`..."
   ]
  },
  {
   "cell_type": "code",
   "execution_count": 100,
   "metadata": {},
   "outputs": [
    {
     "ename": "NotImplementedError",
     "evalue": "",
     "output_type": "error",
     "traceback": [
      "\u001b[0;31m---------------------------------------------------------------------------\u001b[0m",
      "\u001b[0;31mNotImplementedError\u001b[0m                       Traceback (most recent call last)",
      "\u001b[1;32m/storage/projects/notes/metaprogramming/metaclasses.ipynb Cell 72\u001b[0m in \u001b[0;36m<cell line: 1>\u001b[0;34m()\u001b[0m\n\u001b[0;32m----> <a href='vscode-notebook-cell:/storage/projects/notes/metaprogramming/metaclasses.ipynb#Y141sZmlsZQ%3D%3D?line=0'>1</a>\u001b[0m user_instance\u001b[39m.\u001b[39;49mfoo()\n",
      "\u001b[1;32m/storage/projects/notes/metaprogramming/metaclasses.ipynb Cell 72\u001b[0m in \u001b[0;36mBaseClass.foo\u001b[0;34m(self)\u001b[0m\n\u001b[1;32m      <a href='vscode-notebook-cell:/storage/projects/notes/metaprogramming/metaclasses.ipynb#Y141sZmlsZQ%3D%3D?line=1'>2</a>\u001b[0m \u001b[39m@abstractmethod\u001b[39m\n\u001b[1;32m      <a href='vscode-notebook-cell:/storage/projects/notes/metaprogramming/metaclasses.ipynb#Y141sZmlsZQ%3D%3D?line=2'>3</a>\u001b[0m \u001b[39mdef\u001b[39;00m \u001b[39mfoo\u001b[39m(\u001b[39mself\u001b[39m,):\n\u001b[0;32m----> <a href='vscode-notebook-cell:/storage/projects/notes/metaprogramming/metaclasses.ipynb#Y141sZmlsZQ%3D%3D?line=3'>4</a>\u001b[0m     \u001b[39mraise\u001b[39;00m \u001b[39mNotImplementedError\u001b[39;00m\n",
      "\u001b[0;31mNotImplementedError\u001b[0m: "
     ]
    }
   ],
   "source": [
    "user_instance.foo()"
   ]
  },
  {
   "cell_type": "markdown",
   "metadata": {},
   "source": [
    "That's a problem! Any code that will fail should fail *at compile time*, NOT only after it's deployed. So how do you ensure that, given you write a class, users of your class actually implement the function?\n",
    "\n",
    "Enter PEP 487: this PEP proposed a hook (Python's runtime is quite rich, an a hook is a concrete method in an abstract class that can be overridden by subclasses) for easing the customization of class creation:"
   ]
  },
  {
   "cell_type": "code",
   "execution_count": 114,
   "metadata": {},
   "outputs": [
    {
     "name": "stdout",
     "output_type": "stream",
     "text": [
      "__init_subclass__ run <class '__main__.MyClass'>\n"
     ]
    }
   ],
   "source": [
    "from dis import dis\n",
    "\n",
    "class Base:\n",
    "    def __init_subclass__(cls, **kwargs):\n",
    "        print('__init_subclass__ run', cls)\n",
    "\n",
    "        super().__init_subclass__(**kwargs)\n",
    "\n",
    "class MyClass(Base):\n",
    "    def __init__(self, ):\n",
    "        return "
   ]
  },
  {
   "cell_type": "markdown",
   "metadata": {},
   "source": [
    "From the above, we can see the `__init_subclass__` is run *at time of class creation*. This is going to be useful to check for whether or not a user overrides my abstract function.\n",
    "\n",
    "So let's try this again, in the `__init_subclass__`, we check whether or not the method `foo` is still abstract or not. In this case, methods decorated with `@abstractmethod` have an attribute `__isabstractmethod__` which can be pulled:"
   ]
  },
  {
   "cell_type": "code",
   "execution_count": 121,
   "metadata": {},
   "outputs": [],
   "source": [
    "class BaseClass: # this is the class I would write\n",
    "    def __init_subclass__(cls, **kwargs):\n",
    "        # if attribute foo of the class cls is still abstract, raise an error\n",
    "        if getattr(cls().foo, '__isabstractmethod__', False): \n",
    "            raise NotImplementedError('Function foo must be implemented')\n",
    "\n",
    "        super().__init_subclass__(**kwargs)\n",
    "\n",
    "    @abstractmethod\n",
    "    def foo(self, ):\n",
    "        raise NotImplementedError"
   ]
  },
  {
   "cell_type": "markdown",
   "metadata": {},
   "source": [
    "Now if the above was set up correctly, any classes inheriting from `BaseClass` should fail to be created at all at time of **class** creation, NOT instance creation!"
   ]
  },
  {
   "cell_type": "code",
   "execution_count": 129,
   "metadata": {},
   "outputs": [
    {
     "data": {
      "text/plain": [
       "9"
      ]
     },
     "execution_count": 129,
     "metadata": {},
     "output_type": "execute_result"
    }
   ],
   "source": [
    "class MyGoodUserClass(BaseClass):\n",
    "    def foo(self, x):\n",
    "        return x**2\n",
    "\n",
    "user_instance = MyGoodUserClass()\n",
    "user_instance.foo(x=3)"
   ]
  },
  {
   "cell_type": "markdown",
   "metadata": {},
   "source": [
    "The above works fine, the method `foo` was successfully overridden and implemented; but the best-case scenario is fairly uninteresting. What happens when a user *forgets* to implement/override `foo`?"
   ]
  },
  {
   "cell_type": "code",
   "execution_count": 130,
   "metadata": {},
   "outputs": [
    {
     "ename": "NotImplementedError",
     "evalue": "Function foo must be implemented",
     "output_type": "error",
     "traceback": [
      "\u001b[0;31m---------------------------------------------------------------------------\u001b[0m",
      "\u001b[0;31mNotImplementedError\u001b[0m                       Traceback (most recent call last)",
      "\u001b[1;32m/storage/projects/notes/metaprogramming/metaclasses.ipynb Cell 80\u001b[0m in \u001b[0;36m<cell line: 1>\u001b[0;34m()\u001b[0m\n\u001b[0;32m----> <a href='vscode-notebook-cell:/storage/projects/notes/metaprogramming/metaclasses.ipynb#Y154sZmlsZQ%3D%3D?line=0'>1</a>\u001b[0m \u001b[39mclass\u001b[39;00m \u001b[39mMyBadUserClass\u001b[39;00m(BaseClass):\n\u001b[1;32m      <a href='vscode-notebook-cell:/storage/projects/notes/metaprogramming/metaclasses.ipynb#Y154sZmlsZQ%3D%3D?line=1'>2</a>\u001b[0m     \u001b[39mpass\u001b[39;00m\n",
      "\u001b[1;32m/storage/projects/notes/metaprogramming/metaclasses.ipynb Cell 80\u001b[0m in \u001b[0;36mBaseClass.__init_subclass__\u001b[0;34m(cls, **kwargs)\u001b[0m\n\u001b[1;32m      <a href='vscode-notebook-cell:/storage/projects/notes/metaprogramming/metaclasses.ipynb#Y154sZmlsZQ%3D%3D?line=1'>2</a>\u001b[0m \u001b[39mdef\u001b[39;00m \u001b[39m__init_subclass__\u001b[39m(\u001b[39mcls\u001b[39m, \u001b[39m*\u001b[39m\u001b[39m*\u001b[39mkwargs):\n\u001b[1;32m      <a href='vscode-notebook-cell:/storage/projects/notes/metaprogramming/metaclasses.ipynb#Y154sZmlsZQ%3D%3D?line=2'>3</a>\u001b[0m     \u001b[39m# if attribute foo of the class cls is still abstract, raise an error\u001b[39;00m\n\u001b[1;32m      <a href='vscode-notebook-cell:/storage/projects/notes/metaprogramming/metaclasses.ipynb#Y154sZmlsZQ%3D%3D?line=3'>4</a>\u001b[0m     \u001b[39mif\u001b[39;00m \u001b[39mgetattr\u001b[39m(\u001b[39mcls\u001b[39m()\u001b[39m.\u001b[39mfoo, \u001b[39m'\u001b[39m\u001b[39m__isabstractmethod__\u001b[39m\u001b[39m'\u001b[39m, \u001b[39mFalse\u001b[39;00m): \n\u001b[0;32m----> <a href='vscode-notebook-cell:/storage/projects/notes/metaprogramming/metaclasses.ipynb#Y154sZmlsZQ%3D%3D?line=4'>5</a>\u001b[0m         \u001b[39mraise\u001b[39;00m \u001b[39mNotImplementedError\u001b[39;00m(\u001b[39m'\u001b[39m\u001b[39mFunction foo must be implemented\u001b[39m\u001b[39m'\u001b[39m)\n\u001b[1;32m      <a href='vscode-notebook-cell:/storage/projects/notes/metaprogramming/metaclasses.ipynb#Y154sZmlsZQ%3D%3D?line=6'>7</a>\u001b[0m     \u001b[39msuper\u001b[39m()\u001b[39m.\u001b[39m__init_subclass__(\u001b[39m*\u001b[39m\u001b[39m*\u001b[39mkwargs)\n",
      "\u001b[0;31mNotImplementedError\u001b[0m: Function foo must be implemented"
     ]
    }
   ],
   "source": [
    "class MyBadUserClass(BaseClass):\n",
    "    pass"
   ]
  },
  {
   "cell_type": "markdown",
   "metadata": {},
   "source": [
    "That's right, **class** creation fails up-front, exactly where it's supposed to fail! "
   ]
  },
  {
   "cell_type": "markdown",
   "metadata": {},
   "source": [
    "## An Actual Example\n",
    "Okay that was quite meta (pun intended), let's see an example; Let's say, I have a parent class that does data transformations, but I expect the user to implement their own cost function, so the function should take two inputs and return the similarity between them:"
   ]
  },
  {
   "cell_type": "code",
   "execution_count": 138,
   "metadata": {},
   "outputs": [],
   "source": [
    "import math\n",
    "from abc import abstractmethod\n",
    "\n",
    "class TransformData:\n",
    "    def __init_subclass__(cls, **kwargs):\n",
    "        if getattr(cls().cost , '__isabstractmethod__', False):\n",
    "            raise NotImplementedError('Implement cost function!')\n",
    "\n",
    "        super().__init_subclass__(**kwargs)\n",
    "\n",
    "    # assume some useful functions here\n",
    "    def exponent(self, x):\n",
    "        return math.exp(x) \n",
    "\n",
    "    def factorial(self, x):\n",
    "        return math.factorial(x)\n",
    "    \n",
    "    @abstractmethod\n",
    "    def cost(self, a, b):\n",
    "        raise NotImplementedError\n"
   ]
  },
  {
   "cell_type": "markdown",
   "metadata": {},
   "source": [
    "Now, my user, by means of subclassing `TransformData`, must implement their own cost function. If they don't:"
   ]
  },
  {
   "cell_type": "code",
   "execution_count": 140,
   "metadata": {},
   "outputs": [
    {
     "ename": "NotImplementedError",
     "evalue": "Implement cost function!",
     "output_type": "error",
     "traceback": [
      "\u001b[0;31m---------------------------------------------------------------------------\u001b[0m",
      "\u001b[0;31mNotImplementedError\u001b[0m                       Traceback (most recent call last)",
      "\u001b[1;32m/storage/projects/notes/metaprogramming/metaclasses.ipynb Cell 85\u001b[0m in \u001b[0;36m<cell line: 1>\u001b[0;34m()\u001b[0m\n\u001b[0;32m----> <a href='vscode-notebook-cell:/storage/projects/notes/metaprogramming/metaclasses.ipynb#Y161sZmlsZQ%3D%3D?line=0'>1</a>\u001b[0m \u001b[39mclass\u001b[39;00m \u001b[39mUserTransforms\u001b[39;00m(TransformData):\n\u001b[1;32m      <a href='vscode-notebook-cell:/storage/projects/notes/metaprogramming/metaclasses.ipynb#Y161sZmlsZQ%3D%3D?line=1'>2</a>\u001b[0m     \u001b[39mpass\u001b[39;00m\n",
      "\u001b[1;32m/storage/projects/notes/metaprogramming/metaclasses.ipynb Cell 85\u001b[0m in \u001b[0;36mTransformData.__init_subclass__\u001b[0;34m(cls, **kwargs)\u001b[0m\n\u001b[1;32m      <a href='vscode-notebook-cell:/storage/projects/notes/metaprogramming/metaclasses.ipynb#Y161sZmlsZQ%3D%3D?line=4'>5</a>\u001b[0m \u001b[39mdef\u001b[39;00m \u001b[39m__init_subclass__\u001b[39m(\u001b[39mcls\u001b[39m, \u001b[39m*\u001b[39m\u001b[39m*\u001b[39mkwargs):\n\u001b[1;32m      <a href='vscode-notebook-cell:/storage/projects/notes/metaprogramming/metaclasses.ipynb#Y161sZmlsZQ%3D%3D?line=5'>6</a>\u001b[0m     \u001b[39mif\u001b[39;00m \u001b[39mgetattr\u001b[39m(\u001b[39mcls\u001b[39m()\u001b[39m.\u001b[39mcost , \u001b[39m'\u001b[39m\u001b[39m__isabstractmethod__\u001b[39m\u001b[39m'\u001b[39m, \u001b[39mFalse\u001b[39;00m):\n\u001b[0;32m----> <a href='vscode-notebook-cell:/storage/projects/notes/metaprogramming/metaclasses.ipynb#Y161sZmlsZQ%3D%3D?line=6'>7</a>\u001b[0m         \u001b[39mraise\u001b[39;00m \u001b[39mNotImplementedError\u001b[39;00m(\u001b[39m'\u001b[39m\u001b[39mImplement cost function!\u001b[39m\u001b[39m'\u001b[39m)\n\u001b[1;32m      <a href='vscode-notebook-cell:/storage/projects/notes/metaprogramming/metaclasses.ipynb#Y161sZmlsZQ%3D%3D?line=8'>9</a>\u001b[0m     \u001b[39msuper\u001b[39m()\u001b[39m.\u001b[39m__init_subclass__(\u001b[39m*\u001b[39m\u001b[39m*\u001b[39mkwargs)\n",
      "\u001b[0;31mNotImplementedError\u001b[0m: Implement cost function!"
     ]
    }
   ],
   "source": [
    "class UserTransforms(TransformData):\n",
    "    pass"
   ]
  },
  {
   "cell_type": "markdown",
   "metadata": {},
   "source": [
    "And if they do:  "
   ]
  },
  {
   "cell_type": "code",
   "execution_count": 141,
   "metadata": {},
   "outputs": [],
   "source": [
    "class UserTransforms(TransformData):\n",
    "    def cost(self, a, b):\n",
    "        return a - b "
   ]
  },
  {
   "cell_type": "markdown",
   "metadata": {},
   "source": [
    "It goes without saying, this is for sake of example, and not *every* abstract method need necessarily be implemented. This is for mission-critical functionality where the entire purpose of the class is negated without implementation. "
   ]
  }
 ],
 "metadata": {
  "kernelspec": {
   "display_name": "Python 3.9.5 ('base')",
   "language": "python",
   "name": "python3"
  },
  "language_info": {
   "codemirror_mode": {
    "name": "ipython",
    "version": 3
   },
   "file_extension": ".py",
   "mimetype": "text/x-python",
   "name": "python",
   "nbconvert_exporter": "python",
   "pygments_lexer": "ipython3",
   "version": "3.9.12"
  },
  "orig_nbformat": 4,
  "vscode": {
   "interpreter": {
    "hash": "71e8b1f6f3495059fce097d5c6575812dc5dac8fbff18ce1c88517378c99d58f"
   }
  }
 },
 "nbformat": 4,
 "nbformat_minor": 2
}
