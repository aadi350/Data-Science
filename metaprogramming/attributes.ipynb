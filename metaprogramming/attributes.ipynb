{
 "cells": [
  {
   "cell_type": "code",
   "execution_count": 18,
   "metadata": {},
   "outputs": [],
   "source": [
    "class Descriptor:\n",
    "    attribute_name: str\n",
    "    def __init__(self, attribute_name):\n",
    "        self.attribute_name = attribute_name \n",
    "\n",
    "    def __set__(self, instance, value):\n",
    "        '''\n",
    "            self is the descriptor instance (this class)\n",
    "            instance is the MANAGED insance \n",
    "            Descriptors should store values in managed instances\n",
    "\n",
    "            E.g of what NOT to do, show what happens if I do\n",
    "                self.__dict__[self.attribute_name] = value\n",
    "            this modifies the class attribute for ALL Descriptor classes!\n",
    "        '''\n",
    "        if value < 0:\n",
    "            raise ValueError\n",
    "        instance.__dict__[self.attribute_name] = value\n"
   ]
  },
  {
   "cell_type": "code",
   "execution_count": 19,
   "metadata": {},
   "outputs": [],
   "source": [
    "d =Descriptor('some_name')"
   ]
  },
  {
   "cell_type": "code",
   "execution_count": 20,
   "metadata": {},
   "outputs": [],
   "source": [
    "class ManagedClass:\n",
    "    attr = Descriptor('attr')\n",
    "\n",
    "    def __init__(self, attr):\n",
    "        self.attr = attr\n"
   ]
  },
  {
   "cell_type": "code",
   "execution_count": 26,
   "metadata": {},
   "outputs": [
    {
     "ename": "ValueError",
     "evalue": "",
     "output_type": "error",
     "traceback": [
      "\u001b[0;31m---------------------------------------------------------------------------\u001b[0m",
      "\u001b[0;31mValueError\u001b[0m                                Traceback (most recent call last)",
      "\u001b[1;32m/storage/projects/notes/metaprogramming/attributes.ipynb Cell 4\u001b[0m in \u001b[0;36m<module>\u001b[0;34m\u001b[0m\n\u001b[0;32m----> <a href='vscode-notebook-cell:/storage/projects/notes/metaprogramming/attributes.ipynb#W3sZmlsZQ%3D%3D?line=0'>1</a>\u001b[0m m \u001b[39m=\u001b[39m ManagedClass(\u001b[39m-\u001b[39;49m\u001b[39m10\u001b[39;49m)\n",
      "\u001b[1;32m/storage/projects/notes/metaprogramming/attributes.ipynb Cell 4\u001b[0m in \u001b[0;36mManagedClass.__init__\u001b[0;34m(self, attr)\u001b[0m\n\u001b[1;32m      <a href='vscode-notebook-cell:/storage/projects/notes/metaprogramming/attributes.ipynb#W3sZmlsZQ%3D%3D?line=3'>4</a>\u001b[0m \u001b[39mdef\u001b[39;00m \u001b[39m__init__\u001b[39m(\u001b[39mself\u001b[39m, attr):\n\u001b[0;32m----> <a href='vscode-notebook-cell:/storage/projects/notes/metaprogramming/attributes.ipynb#W3sZmlsZQ%3D%3D?line=4'>5</a>\u001b[0m     \u001b[39mself\u001b[39m\u001b[39m.\u001b[39mattr \u001b[39m=\u001b[39m attr\n",
      "\u001b[1;32m/storage/projects/notes/metaprogramming/attributes.ipynb Cell 4\u001b[0m in \u001b[0;36mDescriptor.__set__\u001b[0;34m(self, instance, value)\u001b[0m\n\u001b[1;32m      <a href='vscode-notebook-cell:/storage/projects/notes/metaprogramming/attributes.ipynb#W3sZmlsZQ%3D%3D?line=5'>6</a>\u001b[0m \u001b[39mdef\u001b[39;00m \u001b[39m__set__\u001b[39m(\u001b[39mself\u001b[39m, instance, value):\n\u001b[1;32m      <a href='vscode-notebook-cell:/storage/projects/notes/metaprogramming/attributes.ipynb#W3sZmlsZQ%3D%3D?line=6'>7</a>\u001b[0m     \u001b[39mif\u001b[39;00m value \u001b[39m<\u001b[39m \u001b[39m0\u001b[39m:\n\u001b[0;32m----> <a href='vscode-notebook-cell:/storage/projects/notes/metaprogramming/attributes.ipynb#W3sZmlsZQ%3D%3D?line=7'>8</a>\u001b[0m         \u001b[39mraise\u001b[39;00m \u001b[39mValueError\u001b[39;00m\n\u001b[1;32m      <a href='vscode-notebook-cell:/storage/projects/notes/metaprogramming/attributes.ipynb#W3sZmlsZQ%3D%3D?line=8'>9</a>\u001b[0m     instance\u001b[39m.\u001b[39m\u001b[39m__dict__\u001b[39m[\u001b[39mself\u001b[39m\u001b[39m.\u001b[39mattribute_name] \u001b[39m=\u001b[39m value\n",
      "\u001b[0;31mValueError\u001b[0m: "
     ]
    }
   ],
   "source": [
    "m = ManagedClass(-10)"
   ]
  },
  {
   "cell_type": "code",
   "execution_count": 27,
   "metadata": {},
   "outputs": [
    {
     "ename": "NameError",
     "evalue": "name 'm' is not defined",
     "output_type": "error",
     "traceback": [
      "\u001b[0;31m---------------------------------------------------------------------------\u001b[0m",
      "\u001b[0;31mNameError\u001b[0m                                 Traceback (most recent call last)",
      "\u001b[1;32m/storage/projects/notes/metaprogramming/attributes.ipynb Cell 5\u001b[0m in \u001b[0;36m<module>\u001b[0;34m\u001b[0m\n\u001b[0;32m----> <a href='vscode-notebook-cell:/storage/projects/notes/metaprogramming/attributes.ipynb#W4sZmlsZQ%3D%3D?line=0'>1</a>\u001b[0m m\u001b[39m.\u001b[39mattr\n",
      "\u001b[0;31mNameError\u001b[0m: name 'm' is not defined"
     ]
    }
   ],
   "source": [
    "# Doing it without repeating names\n",
    "\n",
    "class Quantity:\n",
    "    __numinstance = 0 # class attribute across ALL instances\n",
    "\n",
    "    def __init__(self, ):\n",
    "        cls = self.__class__ # cls refers to the Quantity class\n",
    "        prefix = cls.__name__\n",
    "        index = cls.__numinstance\n",
    "\n",
    "        self.attr_name = f'_{prefix}#{index}' # unique!\n",
    "        cls.__numinstance += 1 \n",
    "\n",
    "    def __get__(self, instance, owner):\n",
    "        return getattr(instance, self.attr_name) # need to implement this because name of managed attribute is NOT the same as the attr_name\n",
    "        # getattr used here bc names are different, will not trigger infinite loop\n",
    "\n",
    "    def __set__(self, instance, value):\n",
    "        setattr(instance, self.attr_name, value)\n"
   ]
  },
  {
   "cell_type": "code",
   "execution_count": null,
   "metadata": {},
   "outputs": [],
   "source": [
    "# have a parent Quantity\n",
    "\n",
    "# create a Validated abstract class\n",
    "import abc\n",
    "\n",
    "class Validated(abc.ABC, Quantity):\n",
    "    def __set__(self, instance, value):\n",
    "        value = self.validate(instance, value)\n",
    "        super().__set__(instance, value) # THIS performans the actual storage, in this case the set method in Quantity\n",
    "\n",
    "    @abc.abstractmethod\n",
    "    def validate(self, instance, value):\n",
    "        '''Allows subclasses to implement their own validation'''\n",
    "\n",
    "class ValidationOne(Validated):\n",
    "    '''no numbers outsize 0 to 1'''\n",
    "    def validate(self, instance, value):\n",
    "        if value < 0 or value > 1:\n",
    "            raise ValueError\n",
    "        return value\n",
    "\n",
    "class ValidationTwo(Validated):\n",
    "    '''No non-integers'''\n",
    "    def validate(self, instance, value):\n",
    "        if not isinstance(value, int):\n",
    "            raise ValueError\n",
    "\n",
    "# Important thing is that USERS do NOT need to know the internals, they just get validated (idiot-proof) attributes with useful error messages\n"
   ]
  }
 ],
 "metadata": {
  "kernelspec": {
   "display_name": "Python 3.10.2 ('basic-clean')",
   "language": "python",
   "name": "python3"
  },
  "language_info": {
   "codemirror_mode": {
    "name": "ipython",
    "version": 3
   },
   "file_extension": ".py",
   "mimetype": "text/x-python",
   "name": "python",
   "nbconvert_exporter": "python",
   "pygments_lexer": "ipython3",
   "version": "3.10.2"
  },
  "orig_nbformat": 4,
  "vscode": {
   "interpreter": {
    "hash": "9bf3bb841695be7aff2ab74ad2a00f0258f8e42252ef76bbd05fbbd0eec907f6"
   }
  }
 },
 "nbformat": 4,
 "nbformat_minor": 2
}
