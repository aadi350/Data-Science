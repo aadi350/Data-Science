{
 "cells": [
  {
   "cell_type": "markdown",
   "metadata": {},
   "source": [
    "# `__new__`\n",
    "\n",
    "\n",
    "`object.__new__(cls[, ...])`  \n",
    "`__new__` is called to create a new instance of class `cls`. It is a static method, which takes the class of which an instances was requested as its first argument. Remaining are arguments passed into the constructor. The return value should be **a** new object instance (if this is not returned, the instance is not created)\n",
    "\n",
    "\n",
    "\n",
    "Typically call `super().__new(cls[, ...])`. \n",
    "\n",
    "`__init__` vs `__new__`  \n",
    "\n",
    "According to the python docs, `__new__` was for customizing instance creation when subclassing built-int types. Since it's invoked before `__init__`, it is called with the CLASS as it's first argument (whereas `__init__` is called with an instance as its first and doesn't return anything)\n",
    "\n",
    "`__new__()` is intended mainly to allow subclasses of immutable types (like int, str, or tuple) to customize instance creation. It is also commonly overridden in custom metaclasses in order to customize class creation.\n",
    "\n",
    "Because `__new__()` and `__init__()` work together in constructing objects (`__new__()` to create it, and `__init__()` to customize it), no non-None value may be returned by `__init__`; doing so will cause a TypeError to be raised at runtime.\n",
    "\n",
    "Concisely:\n",
    "`__new__` simply allocates memory for the object. The instance variables of an object needs memory to hold it, and this is what the step `__new__` would do.\n",
    "\n",
    "`__init__` initialize the internal variables of the object to specific values (could be default).\n"
   ]
  },
  {
   "cell_type": "code",
   "execution_count": 34,
   "metadata": {},
   "outputs": [
    {
     "name": "stdout",
     "output_type": "stream",
     "text": [
      "<class '__main__.A'>.__new__\n",
      "args: ()\n",
      "kwargs: {}\n",
      "<__main__.A object at 0x7f84ecf9fc70>.__init__\n",
      "args: ()\n",
      "kwargs: {}\n"
     ]
    }
   ],
   "source": [
    "# making the call-order of __init__ and __new__ clear\n",
    "class A:\n",
    "    def __new__(cls: type,*args, **kwargs):\n",
    "        print(f'{cls}.__new__')\n",
    "        print(f'args: {args}')\n",
    "        print(f'kwargs: {kwargs}')\n",
    "        # actually creates the object\n",
    "        return object().__new__(A, **kwargs)\n",
    "\n",
    "    def __init__(self, *args, **kwargs) -> None:\n",
    "        # at this point the object is already created\n",
    "        print(f'{self}.__init__')\n",
    "        print(f'args: {args}')\n",
    "        print(f'kwargs: {kwargs}')\n",
    "\n",
    "a = A()\n"
   ]
  },
  {
   "cell_type": "markdown",
   "metadata": {},
   "source": [
    "Exploring the execution order without using the `class` keyword "
   ]
  },
  {
   "cell_type": "code",
   "execution_count": 36,
   "metadata": {},
   "outputs": [
    {
     "data": {
      "text/plain": [
       "(__main__.A, type, type)"
      ]
     },
     "execution_count": 36,
     "metadata": {},
     "output_type": "execute_result"
    }
   ],
   "source": [
    "type(a), type(type(a)), type(type(type(a))) # hmm"
   ]
  },
  {
   "cell_type": "code",
   "execution_count": 24,
   "metadata": {},
   "outputs": [
    {
     "ename": "TypeError",
     "evalue": "don't know how to disassemble wrapper_descriptor objects",
     "output_type": "error",
     "traceback": [
      "\u001b[0;31m---------------------------------------------------------------------------\u001b[0m",
      "\u001b[0;31mTypeError\u001b[0m                                 Traceback (most recent call last)",
      "Cell \u001b[0;32mIn [24], line 1\u001b[0m\n\u001b[0;32m----> 1\u001b[0m dis(A\u001b[39m.\u001b[39;49m\u001b[39m__init__\u001b[39;49m)\n",
      "File \u001b[0;32m~/miniconda3/envs/basic_clean/lib/python3.8/dis.py:85\u001b[0m, in \u001b[0;36mdis\u001b[0;34m(x, file, depth)\u001b[0m\n\u001b[1;32m     83\u001b[0m     _disassemble_str(x, file\u001b[39m=\u001b[39mfile, depth\u001b[39m=\u001b[39mdepth)\n\u001b[1;32m     84\u001b[0m \u001b[39melse\u001b[39;00m:\n\u001b[0;32m---> 85\u001b[0m     \u001b[39mraise\u001b[39;00m \u001b[39mTypeError\u001b[39;00m(\u001b[39m\"\u001b[39m\u001b[39mdon\u001b[39m\u001b[39m'\u001b[39m\u001b[39mt know how to disassemble \u001b[39m\u001b[39m%s\u001b[39;00m\u001b[39m objects\u001b[39m\u001b[39m\"\u001b[39m \u001b[39m%\u001b[39m\n\u001b[1;32m     86\u001b[0m                     \u001b[39mtype\u001b[39m(x)\u001b[39m.\u001b[39m\u001b[39m__name__\u001b[39m)\n",
      "\u001b[0;31mTypeError\u001b[0m: don't know how to disassemble wrapper_descriptor objects"
     ]
    }
   ],
   "source": [
    "dis(A.__init__)"
   ]
  },
  {
   "cell_type": "markdown",
   "metadata": {},
   "source": [
    "If we use the `type` function to create a new class (EXACTLY the same as above), since `class` is syntactic sugar for doing something similar to the following:"
   ]
  },
  {
   "cell_type": "code",
   "execution_count": 40,
   "metadata": {},
   "outputs": [
    {
     "name": "stdout",
     "output_type": "stream",
     "text": [
      "<class '__main__.A'>.__new__\n",
      "args: ()\n",
      "kwargs: {}\n",
      "<__main__.A object at 0x7f84ece00ac0>.__init__\n",
      "args: ()\n",
      "kwargs: {}\n"
     ]
    }
   ],
   "source": [
    "# creating classes without using the word class\n",
    "\n",
    "# set the functions to create class\n",
    "def __new__(cls: type,*args, **kwargs):\n",
    "    print(f'{cls}.__new__')\n",
    "    print(f'args: {args}')\n",
    "    print(f'kwargs: {kwargs}')\n",
    "    # actually creates the object\n",
    "    return object().__new__(A, **kwargs)\n",
    "\n",
    "def __init__(self, *args, **kwargs) -> None:\n",
    "    # at this point the object is already created\n",
    "    print(f'{self}.__init__')\n",
    "    print(f'args: {args}')\n",
    "    print(f'kwargs: {kwargs}')\n",
    "\n",
    "name = 'A'\n",
    "bases = ()\n",
    "namespace = {\n",
    "\n",
    "        '__init__': __init__,\n",
    "        '__new__': __new__\n",
    "}\n",
    "\n",
    "A = type(name, bases, namespace) # THIS is how classes are created\n",
    "# since every class is an instance of type\n",
    "\n",
    "# creating an instance\n",
    "a = A() # same as with the class keyword"
   ]
  },
  {
   "cell_type": "markdown",
   "metadata": {},
   "source": [
    "# Implementing the Factory Pattern\n",
    "\n",
    "the `__new__` function determines what `type` of object to return based on the inputs. This is important, since if it was done in `__init__`, the object would have been created *prior*.  \n",
    "\n"
   ]
  },
  {
   "cell_type": "markdown",
   "metadata": {},
   "source": [
    "## Basic Example \n",
    "\n",
    "Let's say we wanted to create an Index based on the type of data input. (This is essentially replicating `pandas` default functionality and something that arises very frequently: creating some instance based on input values):"
   ]
  },
  {
   "cell_type": "code",
   "execution_count": 10,
   "metadata": {},
   "outputs": [
    {
     "data": {
      "text/plain": [
       "pandas.core.indexes.numeric.Float64Index"
      ]
     },
     "execution_count": 10,
     "metadata": {},
     "output_type": "execute_result"
    }
   ],
   "source": [
    "import numpy as np\n",
    "import pandas as pd\n",
    "\n",
    "normal_index_data = np.linspace(1, 5, 5)\n",
    "index = pd.Index(normal_index_data)\n",
    "\n",
    "type(index) # It automatically created the Float64Index"
   ]
  },
  {
   "cell_type": "code",
   "execution_count": 11,
   "metadata": {},
   "outputs": [
    {
     "data": {
      "text/plain": [
       "pandas.core.indexes.datetimes.DatetimeIndex"
      ]
     },
     "execution_count": 11,
     "metadata": {},
     "output_type": "execute_result"
    }
   ],
   "source": [
    "datetime_index_data = [np.datetime64('2022-12-01'), np.datetime64('2023-01-01'),np.datetime64('2023-02-01') ]\n",
    "\n",
    "index = pd.Index(datetime_index_data)\n",
    "type(index) # It detected that the datatype was of datetime64 and adjusted accordingly"
   ]
  },
  {
   "cell_type": "code",
   "execution_count": 8,
   "metadata": {},
   "outputs": [],
   "source": [
    "from typing import TypeVar, Generic, List, Union, overload\n",
    "from typing_extensions import Protocol\n",
    "from datetime import datetime\n",
    "from numpy import datetime64\n",
    "from pandas import DatetimeIndex\n",
    "from typing import overload\n",
    "\n",
    "T = TypeVar(\"T\", covariant=True)\n",
    "S = TypeVar(\"S\")\n",
    "\n",
    "class Index:\n",
    "    def __new__(cls, values):\n",
    "        if type(values[0]) in (datetime, datetime64):\n",
    "            cls = DatetimeIndex\n",
    "        else:\n",
    "            cls = DefaultIndex\n",
    "        return object.__new__(cls)\n",
    "\n",
    "\n",
    "class DefaultIndex(Index, Generic[S]):\n",
    "    def __init__(self, values: List[S]):\n",
    "        self.values = values\n",
    "\n",
    "    def first(self):\n",
    "        return self.values[0]\n",
    "\n"
   ]
  },
  {
   "cell_type": "code",
   "execution_count": 13,
   "metadata": {},
   "outputs": [
    {
     "data": {
      "text/plain": [
       "(__main__.DefaultIndex, pandas.core.indexes.datetimes.DatetimeIndex)"
      ]
     },
     "execution_count": 13,
     "metadata": {},
     "output_type": "execute_result"
    }
   ],
   "source": [
    "index, dt_index = DefaultIndex(normal_index_data), DefaultIndex(datetime_index_data)\n",
    "\n",
    "# It detected the typye of data input\n",
    "type(index), type(dt_index)"
   ]
  },
  {
   "cell_type": "markdown",
   "metadata": {},
   "source": [
    "In the above, the `__new__` method intercepts the arguments to `__init__` and customized the *type* of object being returned. Since the object is created in `__new__` **not `__init__`**, then doing this in `__init__` would be too late in the object-creation process, also `__init__` cannot return anything except `None`, so the following straight-up does not work"
   ]
  },
  {
   "cell_type": "code",
   "execution_count": 15,
   "metadata": {},
   "outputs": [
    {
     "ename": "TypeError",
     "evalue": "__init__() should return None, not 'DatetimeIndex'",
     "output_type": "error",
     "traceback": [
      "\u001b[0;31m---------------------------------------------------------------------------\u001b[0m",
      "\u001b[0;31mTypeError\u001b[0m                                 Traceback (most recent call last)",
      "Cell \u001b[0;32mIn [15], line 8\u001b[0m\n\u001b[1;32m      5\u001b[0m         \u001b[39melse\u001b[39;00m:\n\u001b[1;32m      6\u001b[0m             \u001b[39mreturn\u001b[39;00m DefaultIndex(values)\n\u001b[0;32m----> 8\u001b[0m bad_index \u001b[39m=\u001b[39m BadDefaultIndex(datetime_index_data)\n",
      "\u001b[0;31mTypeError\u001b[0m: __init__() should return None, not 'DatetimeIndex'"
     ]
    }
   ],
   "source": [
    "class BadDefaultIndex:\n",
    "    def __init__(self, values: list):\n",
    "        if type(values[0]) in (datetime, datetime64):\n",
    "            return DatetimeIndex(values)\n",
    "        else:\n",
    "            return DefaultIndex(values)\n",
    "\n",
    "bad_index = BadDefaultIndex(datetime_index_data)"
   ]
  },
  {
   "cell_type": "markdown",
   "metadata": {},
   "source": [
    "## A Not-so-Basic Example\n",
    "\n",
    "A LOT of the information/ideas for this section comes from [this StackOverflow answer](https://stackoverflow.com/questions/28035685/improper-use-of-new-to-generate-class-instances/28076300#28076300) \n",
    "\n",
    "Let's say you wanted to implement a series of classes to handle different types of file-sysmtems (e.g. `UFS`, `NFS`, local-drive etc), and you wanted to implement a single Base class with common functionality to be subclassed. The issue is, we wish to return a class whose `type` is determined by the input string to the parent class, which again can **not** be done via `__init__` since this is too late in the python object model "
   ]
  },
  {
   "cell_type": "code",
   "execution_count": 42,
   "metadata": {},
   "outputs": [],
   "source": [
    "import os\n",
    "import re\n",
    "\n",
    "# this is the parent class\n",
    "class FileSystem(object):\n",
    "\n",
    "    # Pattern for matching \"xxx://\"  # x is any non-whitespace character except for \":\".\n",
    "    _PATH_PREFIX_PATTERN = re.compile(r'\\s*([^:]+)://')\n",
    "    # Registered subclasses.\n",
    "    _registry = {}  \n",
    "\n",
    "    @classmethod\n",
    "    def __init_subclass__(cls, **kwargs):\n",
    "        '''\n",
    "            We use __init_subclass__ to instantiate subclasses AND\n",
    "            add subclasses to a registry depending on the type of filesystem\n",
    "        '''\n",
    "        super().__init_subclass__(**kwargs)\n",
    "        cls._registry[cls._path_prefix] = cls  # Add class to registry.\n",
    "\n",
    "    @classmethod\n",
    "    def _get_prefix(cls, s):\n",
    "        '''Extract any file system prefix at beginning of string s and\n",
    "            return a lowercase version of it or None when there isn't one.\n",
    "        ''' \n",
    "        match = cls._PATH_PREFIX_PATTERN.match(s)\n",
    "        return match.group(1).lower() if match else None\n",
    "\n",
    "    def __new__(cls, path):\n",
    "        '''This is where the magic happens!'''\n",
    "        # Firstly, get the prefix of the path passed in\n",
    "        path_prefix = cls._get_prefix(path)\n",
    "\n",
    "        # get the appropriate subclass from the registry\n",
    "        subclass = cls._registry.get(path_prefix)\n",
    "        # if the subclass exists, return a new instance of it\n",
    "        if subclass:\n",
    "            # use object.__new__ to prevent infinite recursion\n",
    "            return object.__new__(subclass)\n",
    "        else:  \n",
    "            # No subclass with matching prefix found (and no default).\n",
    "            raise Exception('Invalid file path input')\n",
    "\n",
    "    # define additional, general functionality\n",
    "    def foo(self, *args, **kwargs):\n",
    "        pass\n",
    "\n",
    "    def bar(self, *args, **kwargs):\n",
    "        pass\n",
    "\n",
    "    def baz(self, *args, **kwargs):\n",
    "        pass\n",
    "\n",
    "\n",
    "# create subclasses\n",
    "# path_prefix is passed to __init_subclass__ in the parent\n",
    "class UFS(FileSystem):\n",
    "    _path_prefix='ufs'\n",
    "    def __init__(self, path):\n",
    "        pass\n",
    "\n",
    "class NFS(FileSystem):\n",
    "    _path_prefix='nfs'\n",
    "    def __init__(self, path):\n",
    "        pass"
   ]
  },
  {
   "cell_type": "markdown",
   "metadata": {},
   "source": [
    "Now, we can create filesystem objects, whose type depends on the input string: "
   ]
  },
  {
   "cell_type": "code",
   "execution_count": 43,
   "metadata": {},
   "outputs": [
    {
     "data": {
      "text/plain": [
       "(__main__.UFS, __main__.NFS)"
      ]
     },
     "execution_count": 43,
     "metadata": {},
     "output_type": "execute_result"
    }
   ],
   "source": [
    "fs1 = FileSystem('ufs://192.168.0.1')\n",
    "fs2 = FileSystem('nfs://192.168.0.1')\n",
    "\n",
    "type(fs1), type(fs2) "
   ]
  },
  {
   "cell_type": "markdown",
   "metadata": {},
   "source": [
    "there's a slightly-different implementation, where the `__init_subclass__` method was used with a keyword-argument to define the `path_prefix`, but as the default implementation of this new hook *does not natively support kwargs*, the above implementation using class attributes is instead preferred "
   ]
  },
  {
   "cell_type": "markdown",
   "metadata": {},
   "source": [
    "# Implementing the Flyweight Pattern\n",
    "\n",
    "*warning, this is NOT data-science specific*  "
   ]
  },
  {
   "cell_type": "markdown",
   "metadata": {},
   "source": [
    "The flyweight pattern is designed for conserving memory; if we have hundreds of thousands of similar objects, combining similar properties into a flyweight can have an enormous impact on memory consumption. It is common for programming solutions that optimize CPU, memory, or disk space result in more complicated code than their unoptimized brethren. \n",
    "\n",
    "It is therefore important to weigh up the tradeoffs when deciding between code maintainability and optimization.\n",
    "\n",
    "The Gang Of Four (GoF) book lists the following requirements that need to be satisfied\n",
    "to effectively use the Flyweight Pattern [GOF95, page 221]:\n",
    "- The application needs to use a large number of objects.\n",
    "- There are so many objects that it's too expensive to store/render them. Once the mutable state is removed (because if it is required, it should be passed explicitly to Flyweight by the client code), many groups of distinct objects can be replaced by relatively few shared objects.\n",
    "- Object identity is not important for the application. We cannot rely on object identity because object sharing causes identity comparisons to fail (objects that appear different to the client code, end up having the same identity).\n",
    "\n",
    "(At this point I'd make a joke about \"premature optimization affecting 1 in 10 Python programmers blah blah\" since it can introduce un-warrented complexity at early stages, but I digress..)\n",
    "\n",
    "This example is taken from *Python: Master the Art of Design Patterns* by Phillips.\n",
    "The idea is that, we have a basic parent class for Cars, and we only wish to have as many instances as there are car types. So if we call `CarModel('CRV')` for the FIRST time, we create a new `CarModel` instance with all the custom attributes input, but if we call `CarModel('Taycan')` 7 times in a row, a new instance is only created once.\n",
    "\n",
    "Again, this is an edge-case design pattern, and should never be the first thing to reach for"
   ]
  },
  {
   "cell_type": "code",
   "execution_count": 1,
   "metadata": {},
   "outputs": [],
   "source": [
    "import weakref\n",
    "class CarModel:\n",
    "\n",
    "    _models = weakref.WeakValueDictionary()\n",
    "\n",
    "    def __new__(cls, model_name, *args, **kwargs):\n",
    "        model = cls._models.get(model_name)\n",
    "\n",
    "        if not model:\n",
    "            print('new instance created!')\n",
    "            model = super().__new__(cls)\n",
    "        cls._models[model_name] = model\n",
    "        return model\n",
    "\n",
    "    \n",
    "    def __init__(self, model_name, air=False, tilt=False,\n",
    "        cruise_control=False, power_locks=False,\n",
    "        alloy_wheels=False, usb_charger=False):\n",
    "        if not hasattr(self, \"initted\"):\n",
    "            self.model_name = model_name\n",
    "            self.air = air\n",
    "            self.tilt = tilt\n",
    "            self.cruise_control = cruise_control\n",
    "            self.power_locks = power_locks\n",
    "            self.alloy_wheels = alloy_wheels\n",
    "            self.usb_charger = usb_charger\n",
    "            self.initted=True"
   ]
  },
  {
   "cell_type": "code",
   "execution_count": 2,
   "metadata": {},
   "outputs": [
    {
     "name": "stdout",
     "output_type": "stream",
     "text": [
      "new instance created!\n"
     ]
    },
    {
     "data": {
      "text/plain": [
       "True"
      ]
     },
     "execution_count": 2,
     "metadata": {},
     "output_type": "execute_result"
    }
   ],
   "source": [
    "c = CarModel('CRV', usb_charger=True)\n",
    "hasattr(c, 'initted')"
   ]
  },
  {
   "cell_type": "code",
   "execution_count": 3,
   "metadata": {},
   "outputs": [
    {
     "name": "stdout",
     "output_type": "stream",
     "text": [
      "new instance created!\n"
     ]
    },
    {
     "data": {
      "text/plain": [
       "<__main__.CarModel at 0x7f6ac6c29bb0>"
      ]
     },
     "execution_count": 3,
     "metadata": {},
     "output_type": "execute_result"
    }
   ],
   "source": [
    "CarModel('Porsche Taycan') # instance created here"
   ]
  },
  {
   "cell_type": "code",
   "execution_count": 4,
   "metadata": {},
   "outputs": [
    {
     "data": {
      "text/plain": [
       "<__main__.CarModel at 0x7f6ac6c29bb0>"
      ]
     },
     "execution_count": 4,
     "metadata": {},
     "output_type": "execute_result"
    }
   ],
   "source": [
    "CarModel('Porsche Taycan') # but not here"
   ]
  },
  {
   "cell_type": "code",
   "execution_count": 7,
   "metadata": {},
   "outputs": [
    {
     "data": {
      "text/plain": [
       "[('CRV', <__main__.CarModel at 0x7f6ac6c29fd0>),\n",
       " ('Porsche Taycan', <__main__.CarModel at 0x7f6ac6c29bb0>)]"
      ]
     },
     "execution_count": 7,
     "metadata": {},
     "output_type": "execute_result"
    }
   ],
   "source": [
    "# if we look at CarModel _models, we see single examples of each model \n",
    "list(CarModel._models.items())"
   ]
  },
  {
   "cell_type": "markdown",
   "metadata": {},
   "source": [
    "# A Non-Example\n",
    "\n",
    "I think this is useful, but I haven't as yet found an application that warrants this complexity. In the following example, we can *dynamically define the `__init__` function within __new__*, and customize the initialization of classes based on input arguments"
   ]
  },
  {
   "cell_type": "code",
   "execution_count": 51,
   "metadata": {},
   "outputs": [],
   "source": [
    "class MyClass:\n",
    "  def __new__(cls, *args, **kwargs):\n",
    "    # Define the __init__ method as a string\n",
    "    init_str = \"\"\"def __init__(self, *args, **kwargs):\n",
    "        # Initialize instance variables here\n",
    "        self.var1 = args[0]\n",
    "        self.var2 = args[1]\n",
    "        # Perform setup tasks here\n",
    "        print(\"Initializing instance of MyClass\")\n",
    "    \"\"\"\n",
    "\n",
    "    # Execute the __init__ method code\n",
    "    exec(init_str, locals(), locals())\n",
    "\n",
    "    # Return a new instance of the class\n",
    "    return super().__new__(cls)"
   ]
  }
 ],
 "metadata": {
  "kernelspec": {
   "display_name": "Python 3.10.6 ('usr')",
   "language": "python",
   "name": "python3"
  },
  "language_info": {
   "codemirror_mode": {
    "name": "ipython",
    "version": 3
   },
   "file_extension": ".py",
   "mimetype": "text/x-python",
   "name": "python",
   "nbconvert_exporter": "python",
   "pygments_lexer": "ipython3",
   "version": "3.10.6"
  },
  "orig_nbformat": 4,
  "vscode": {
   "interpreter": {
    "hash": "767d51c1340bd893661ea55ea3124f6de3c7a262a8b4abca0554b478b1e2ff90"
   }
  }
 },
 "nbformat": 4,
 "nbformat_minor": 2
}
