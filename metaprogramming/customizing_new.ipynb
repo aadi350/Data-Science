{
 "cells": [
  {
   "cell_type": "markdown",
   "metadata": {},
   "source": [
    "# `__new__`\n",
    "\n",
    "\n",
    "`object.__new__(cls[, ...])`  \n",
    "`__new__` is called to create a new instance of class `cls`. It is a static method, which takes the class of which an instances was requested as its first argument. Remaining are arguments passed into the constructor. The return value should be **a** new object instance (if this is not returned, the instance is not created)\n",
    "\n",
    "\n",
    "\n",
    "Typically call `super().__new(cls[, ...])`. \n",
    "\n",
    "`__init__` vs `__new__`  \n",
    "\n",
    "According to the python docs, `__new__` was for customizing instance creation when subclassing built-int types. Since it's invoked before `__init__`, it is called with the CLASS as it's first argument (whereas `__init__` is called with an instance as its first and doesn't return anything)\n",
    "\n",
    "`__new__()` is intended mainly to allow subclasses of immutable types (like int, str, or tuple) to customize instance creation. It is also commonly overridden in custom metaclasses in order to customize class creation.\n",
    "\n",
    "Because `__new__()` and `__init__()` work together in constructing objects (`__new__()` to create it, and `__init__()` to customize it), no non-None value may be returned by `__init__`; doing so will cause a TypeError to be raised at runtime.\n"
   ]
  },
  {
   "cell_type": "code",
   "execution_count": 34,
   "metadata": {},
   "outputs": [
    {
     "name": "stdout",
     "output_type": "stream",
     "text": [
      "<class '__main__.A'>.__new__\n",
      "args: ()\n",
      "kwargs: {}\n",
      "<__main__.A object at 0x7f84ecf9fc70>.__init__\n",
      "args: ()\n",
      "kwargs: {}\n"
     ]
    }
   ],
   "source": [
    "# making the call-order of __init__ and __new__ clear\n",
    "class A:\n",
    "    def __new__(cls: type,*args, **kwargs):\n",
    "        print(f'{cls}.__new__')\n",
    "        print(f'args: {args}')\n",
    "        print(f'kwargs: {kwargs}')\n",
    "        # actually creates the object\n",
    "        return object().__new__(A, **kwargs)\n",
    "\n",
    "    def __init__(self, *args, **kwargs) -> None:\n",
    "        # at this point the object is already created\n",
    "        print(f'{self}.__init__')\n",
    "        print(f'args: {args}')\n",
    "        print(f'kwargs: {kwargs}')\n",
    "\n",
    "a = A()\n"
   ]
  },
  {
   "cell_type": "markdown",
   "metadata": {},
   "source": [
    "Exploring the execution order without using the `class` keyword "
   ]
  },
  {
   "cell_type": "code",
   "execution_count": 36,
   "metadata": {},
   "outputs": [
    {
     "data": {
      "text/plain": [
       "(__main__.A, type, type)"
      ]
     },
     "execution_count": 36,
     "metadata": {},
     "output_type": "execute_result"
    }
   ],
   "source": [
    "type(a), type(type(a)), type(type(type(a))) # hmm"
   ]
  },
  {
   "cell_type": "markdown",
   "metadata": {},
   "source": [
    "If we use the `type` function to create a new class (EXACTLY the same as above), since `class` is syntactic sugar for doing something similar to the following:"
   ]
  },
  {
   "cell_type": "code",
   "execution_count": 40,
   "metadata": {},
   "outputs": [
    {
     "name": "stdout",
     "output_type": "stream",
     "text": [
      "<class '__main__.A'>.__new__\n",
      "args: ()\n",
      "kwargs: {}\n",
      "<__main__.A object at 0x7f84ece00ac0>.__init__\n",
      "args: ()\n",
      "kwargs: {}\n"
     ]
    }
   ],
   "source": [
    "# creating classes without using the word class\n",
    "\n",
    "# set the functions to create class\n",
    "def __new__(cls: type,*args, **kwargs):\n",
    "    print(f'{cls}.__new__')\n",
    "    print(f'args: {args}')\n",
    "    print(f'kwargs: {kwargs}')\n",
    "    # actually creates the object\n",
    "    return object().__new__(A, **kwargs)\n",
    "\n",
    "def __init__(self, *args, **kwargs) -> None:\n",
    "    # at this point the object is already created\n",
    "    print(f'{self}.__init__')\n",
    "    print(f'args: {args}')\n",
    "    print(f'kwargs: {kwargs}')\n",
    "\n",
    "name = 'A'\n",
    "bases = ()\n",
    "namespace = {\n",
    "\n",
    "        '__init__': __init__,\n",
    "        '__new__': __new__\n",
    "}\n",
    "\n",
    "A = type(name, bases, namespace) # THIS is how classes are created\n",
    "# since every class is an instance of type\n",
    "\n",
    "# creating an instance\n",
    "a = A() # same as with the class keyword"
   ]
  },
  {
   "cell_type": "markdown",
   "metadata": {},
   "source": [
    "# Implementing the Factory Pattern\n",
    "\n",
    "the `__new__` function determines what `type` of object to return based on the inputs. This is important, since if it was done in `__init__`, the object would have been created *prior*.  "
   ]
  },
  {
   "cell_type": "code",
   "execution_count": 49,
   "metadata": {},
   "outputs": [],
   "source": [
    "from typing import TypeVar, Generic, List, Union, overload\n",
    "from typing_extensions import Protocol\n",
    "from datetime import datetime\n",
    "from numpy import datetime64\n",
    "from pandas import DatetimeIndex\n",
    "from typing import overload\n",
    "\n",
    "T = TypeVar(\"T\", covariant=True)\n",
    "S = TypeVar(\"S\")\n",
    "\n",
    "class Index:\n",
    "\n",
    "    @overload\n",
    "    def __new__(cls, values: List[datetime64]) -> DatetimeIndex: ...\n",
    "    @overload\n",
    "    def __new__(cls, values: List[datetime]) -> DatetimeIndex: ...\n",
    "    @overload\n",
    "    def __new__(cls, values: List[S]) -> DefaultIndex: ...\n",
    "\n",
    "    def __new__(cls, values):\n",
    "        if type(values[0]) in (datetime, datetime64):\n",
    "            print('DateTime __new__')\n",
    "            cls = DatetimeIndex\n",
    "        else:\n",
    "            print('Default __new__')\n",
    "            cls = DefaultIndex\n",
    "        return object.__new__(cls)\n",
    "\n",
    "\n",
    "class DefaultIndex(Index, Generic[S]):\n",
    "    def __init__(self, values: List[S]):\n",
    "        self.values = values\n",
    "\n",
    "    def first(self):\n",
    "        return self.values[0]\n",
    "\n"
   ]
  },
  {
   "cell_type": "code",
   "execution_count": 52,
   "metadata": {},
   "outputs": [
    {
     "name": "stdout",
     "output_type": "stream",
     "text": [
      "DateTime __new__\n"
     ]
    },
    {
     "data": {
      "text/plain": [
       "pandas.core.indexes.datetimes.DatetimeIndex"
      ]
     },
     "execution_count": 52,
     "metadata": {},
     "output_type": "execute_result"
    }
   ],
   "source": [
    "from numpy import datetime64\n",
    "from datetime import date\n",
    "\n",
    "di = DefaultIndex([datetime64('2022-01-01')])\n",
    "\n",
    "type(di)"
   ]
  },
  {
   "cell_type": "code",
   "execution_count": 35,
   "metadata": {},
   "outputs": [],
   "source": [
    "# order of execution\n",
    "\n",
    "class BaseClass:\n",
    "    def __init__(self, *args, **kwargs):\n",
    "        print('init')\n",
    "        for k in kwargs.keys():\n",
    "            self.k = kwargs[k] \n",
    "\n",
    "    def __new__(cls, *args, **kwargs):\n",
    "        print('new')\n",
    "        super().__init__(BaseClass)\n",
    "\n",
    "    def __prepare__(metacls, name, bases):\n",
    "        print('prepare')\n",
    "        return dict()"
   ]
  },
  {
   "cell_type": "code",
   "execution_count": 41,
   "metadata": {},
   "outputs": [
    {
     "ename": "TypeError",
     "evalue": "__new__() missing 3 required positional arguments: 'name', 'bases', and 'namespaces'",
     "output_type": "error",
     "traceback": [
      "\u001b[0;31m---------------------------------------------------------------------------\u001b[0m",
      "\u001b[0;31mTypeError\u001b[0m                                 Traceback (most recent call last)",
      "Cell \u001b[0;32mIn [41], line 7\u001b[0m\n\u001b[1;32m      4\u001b[0m         namespaces[\u001b[39m'\u001b[39m\u001b[39m__annotations__\u001b[39m\u001b[39m'\u001b[39m] \u001b[39m=\u001b[39m annotations\n\u001b[1;32m      5\u001b[0m         \u001b[39mreturn\u001b[39;00m \u001b[39msuper\u001b[39m()\u001b[39m.\u001b[39m\u001b[39m__new__\u001b[39m(\u001b[39mcls\u001b[39m, name, bases, namespaces, \u001b[39m*\u001b[39m\u001b[39m*\u001b[39mkwargs)\n\u001b[0;32m----> 7\u001b[0m A()\n",
      "\u001b[0;31mTypeError\u001b[0m: __new__() missing 3 required positional arguments: 'name', 'bases', and 'namespaces'"
     ]
    }
   ],
   "source": [
    "class A:\n",
    "    def __new__(cls, name, bases, namespaces, **kwargs):\n",
    "        annotations = namespaces.get('__annotations__', {})\n",
    "        namespaces['__annotations__'] = annotations\n",
    "        return super().__new__(cls, name, bases, namespaces, **kwargs)\n",
    "\n",
    "A()"
   ]
  },
  {
   "cell_type": "code",
   "execution_count": 16,
   "metadata": {},
   "outputs": [],
   "source": [
    "# example from GPT\n",
    "\n",
    "class Shape:\n",
    "    def __new__(cls, *args, **kwargs):\n",
    "        shape_type = kwargs['shape_type']\n",
    "        print(f'__new__: {cls}, {args}, {kwargs}')\n",
    "        if shape_type == 'circle':\n",
    "            return Circle(*args, **kwargs)\n",
    "        elif shape_type == 'square':\n",
    "            return Square(*args, **kwargs)\n",
    "        else:\n",
    "            raise ValueError('Invalid Shape type')\n",
    "\n",
    "    def __init__(self, *args, **kwargs):\n",
    "        pass\n",
    "\n",
    "class Circle(Shape):\n",
    "    def __init__(self, radius):\n",
    "        self.radius = radius\n",
    "\n",
    "class Square(Shape):\n",
    "    def __init__(self, side):\n",
    "        self.side= side \n",
    "\n"
   ]
  },
  {
   "cell_type": "markdown",
   "metadata": {},
   "source": [
    "# Implementing the Flyweight Pattern"
   ]
  },
  {
   "cell_type": "markdown",
   "metadata": {},
   "source": [
    "The flyweight pattern\n",
    "is designed for conserving memory; if we have hundreds of thousands of similar\n",
    "objects, combining similar properties into a flyweight can have an enormous impact\n",
    "on memory consumption. It is common for programming solutions that optimize\n",
    "CPU, memory, or disk space result in more complicated code than their unoptimized\n",
    "brethren. It is therefore important to weigh up the tradeoffs when deciding between\n",
    "code maintainability and optimization. When choosing optimization, try to use\n",
    "patterns such as flyweight to ensure that the complexity introduced by optimization\n",
    "is confined to a single (well documented) section of the code"
   ]
  },
  {
   "cell_type": "code",
   "execution_count": 27,
   "metadata": {},
   "outputs": [],
   "source": [
    "import weakref\n",
    "class CarModel:\n",
    "\n",
    "    _models = weakref.WeakValueDictionary()\n",
    "\n",
    "    def __new__(cls, model_name, *args, **kwargs):\n",
    "        model = cls._models.get(model_name)\n",
    "\n",
    "        if not model:\n",
    "            model = super().__new__(cls)\n",
    "        cls._models[model_name] = model\n",
    "        return model\n",
    "\n",
    "    \n",
    "    def __init__(self, model_name, air=False, tilt=False,\n",
    "        cruise_control=False, power_locks=False,\n",
    "        alloy_wheels=False, usb_charger=False):\n",
    "        if not hasattr(self, \"initted\"):\n",
    "            self.model_name = model_name\n",
    "            self.air = air\n",
    "            self.tilt = tilt\n",
    "            self.cruise_control = cruise_control\n",
    "            self.power_locks = power_locks\n",
    "            self.alloy_wheels = alloy_wheels\n",
    "            self.usb_charger = usb_charger\n",
    "            self.initted=True"
   ]
  },
  {
   "cell_type": "code",
   "execution_count": 29,
   "metadata": {},
   "outputs": [
    {
     "data": {
      "text/plain": [
       "True"
      ]
     },
     "execution_count": 29,
     "metadata": {},
     "output_type": "execute_result"
    }
   ],
   "source": [
    "c = CarModel('CRV', usb_charger=True)\n",
    "hasattr(c, 'initted')"
   ]
  },
  {
   "cell_type": "code",
   "execution_count": null,
   "metadata": {},
   "outputs": [],
   "source": []
  }
 ],
 "metadata": {
  "kernelspec": {
   "display_name": "Python 3.8.15 ('basic_clean')",
   "language": "python",
   "name": "python3"
  },
  "language_info": {
   "codemirror_mode": {
    "name": "ipython",
    "version": 3
   },
   "file_extension": ".py",
   "mimetype": "text/x-python",
   "name": "python",
   "nbconvert_exporter": "python",
   "pygments_lexer": "ipython3",
   "version": "3.8.15"
  },
  "orig_nbformat": 4,
  "vscode": {
   "interpreter": {
    "hash": "def76ed885bc94f182c997508dd94bdc1bafad87e7bfd4e70b216ce388e01bfe"
   }
  }
 },
 "nbformat": 4,
 "nbformat_minor": 2
}
