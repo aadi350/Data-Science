{
 "cells": [
  {
   "cell_type": "code",
   "execution_count": null,
   "metadata": {},
   "outputs": [],
   "source": []
  },
  {
   "cell_type": "markdown",
   "metadata": {},
   "source": [
    "# Decorators\n",
    "*Why use decorators instead of (e.g.) asserts*\n",
    "1. Clutters functions with error-checking logic\n",
    "2. If validation logic needs to change, many inline copies need to be found and updated "
   ]
  },
  {
   "cell_type": "markdown",
   "metadata": {},
   "source": [
    "## Anatomy of a Decorator\n",
    "\n",
    "```python\n",
    "def decorator(input_fn):\n",
    "    def _decorate(*args, **kwargs):\n",
    "        print('decorating')\n",
    "\n",
    "        return input_fn(*args, **kwargs)\n",
    "\n",
    "    return _decorate\n",
    "```"
   ]
  },
  {
   "cell_type": "code",
   "execution_count": 7,
   "metadata": {},
   "outputs": [],
   "source": [
    "def fndecorator(input_fn):\n",
    "    def decorator():\n",
    "        print('This is from decorator')\n",
    "\n",
    "        return input_fn()\n",
    "\n",
    "    return decorator \n",
    "\n",
    "\n",
    "@fndecorator\n",
    "def new_fn():\n",
    "    print('from original function')"
   ]
  },
  {
   "cell_type": "code",
   "execution_count": 8,
   "metadata": {},
   "outputs": [
    {
     "name": "stdout",
     "output_type": "stream",
     "text": [
      "This is from decorator\n",
      "from original function\n"
     ]
    }
   ],
   "source": [
    "new_fn()"
   ]
  },
  {
   "cell_type": "code",
   "execution_count": 9,
   "metadata": {},
   "outputs": [],
   "source": [
    "def manager_albany(*args):\n",
    "    BLUE = '\\033[94m'\n",
    "    BOLD = '\\33[5m'\n",
    "    SELECT = '\\33[7m'\n",
    "    for arg in args:\n",
    "        print(BLUE + BOLD + SELECT + str(arg))"
   ]
  },
  {
   "cell_type": "code",
   "execution_count": 16,
   "metadata": {},
   "outputs": [],
   "source": [
    "def function_with_input(*args):\n",
    "    for arg in args:\n",
    "        print(arg)\n",
    "\n",
    "def add_line_function(function_with_input):\n",
    "    def add_line(*args):\n",
    "        print('ADDED LINE')\n",
    "        return function_with_input(*args)\n",
    "    return add_line"
   ]
  },
  {
   "cell_type": "code",
   "execution_count": 17,
   "metadata": {},
   "outputs": [],
   "source": [
    "@add_line_function\n",
    "def fn(*args):\n",
    "    for arg in args:\n",
    "        print(arg)"
   ]
  },
  {
   "cell_type": "code",
   "execution_count": 18,
   "metadata": {},
   "outputs": [
    {
     "name": "stdout",
     "output_type": "stream",
     "text": [
      "ADDED LINE\n",
      "a\n",
      "b\n",
      "c\n"
     ]
    }
   ],
   "source": [
    "fn('a', 'b', 'c')"
   ]
  },
  {
   "cell_type": "code",
   "execution_count": 23,
   "metadata": {},
   "outputs": [],
   "source": [
    "def decorator(input_fn):\n",
    "    def _decorate(*args, **kwargs):\n",
    "        print('decorating')\n",
    "\n",
    "        return input_fn(*args, **kwargs)\n",
    "\n",
    "    return _decorate"
   ]
  },
  {
   "cell_type": "code",
   "execution_count": 24,
   "metadata": {},
   "outputs": [],
   "source": [
    "@decorator\n",
    "def fn(input_arg):\n",
    "    print(input_arg)\n",
    "    "
   ]
  },
  {
   "cell_type": "code",
   "execution_count": 26,
   "metadata": {},
   "outputs": [],
   "source": [
    "def datefixer(fn):\n",
    "    import datetime\n",
    "    def decorator(*args):\n",
    "        newargs = []\n",
    "        for arg in args:\n",
    "            if isinstance(arg, datetime.date):\n",
    "                arg = arg.weekday(), arg.day, arg.month, arg.year\n",
    "            newargs.append(arg)\n",
    "        return fn(*newargs)\n",
    "    return decorator\n"
   ]
  },
  {
   "cell_type": "code",
   "execution_count": 27,
   "metadata": {},
   "outputs": [],
   "source": [
    "@datefixer\n",
    "def set_holidays(*args):\n",
    "    return args[0]"
   ]
  },
  {
   "cell_type": "code",
   "execution_count": 28,
   "metadata": {},
   "outputs": [
    {
     "data": {
      "text/plain": [
       "datetime.datetime(2022, 12, 25, 0, 0)"
      ]
     },
     "execution_count": 28,
     "metadata": {},
     "output_type": "execute_result"
    }
   ],
   "source": [
    "from datetime import datetime as dt\n",
    "\n",
    "some_date = dt.strptime('2022-12-25', '%Y-%m-%d')\n",
    "some_date"
   ]
  },
  {
   "cell_type": "code",
   "execution_count": 29,
   "metadata": {},
   "outputs": [
    {
     "data": {
      "text/plain": [
       "(6, 25, 12, 2022)"
      ]
     },
     "execution_count": 29,
     "metadata": {},
     "output_type": "execute_result"
    }
   ],
   "source": [
    "set_holidays(some_date)"
   ]
  },
  {
   "cell_type": "code",
   "execution_count": 202,
   "metadata": {},
   "outputs": [
    {
     "data": {
      "text/html": [
       "<div>\n",
       "<style scoped>\n",
       "    .dataframe tbody tr th:only-of-type {\n",
       "        vertical-align: middle;\n",
       "    }\n",
       "\n",
       "    .dataframe tbody tr th {\n",
       "        vertical-align: top;\n",
       "    }\n",
       "\n",
       "    .dataframe thead th {\n",
       "        text-align: right;\n",
       "    }\n",
       "</style>\n",
       "<table border=\"1\" class=\"dataframe\">\n",
       "  <thead>\n",
       "    <tr style=\"text-align: right;\">\n",
       "      <th></th>\n",
       "      <th>american</th>\n",
       "      <th>monthname</th>\n",
       "      <th>julian</th>\n",
       "      <th>inversejulian</th>\n",
       "    </tr>\n",
       "  </thead>\n",
       "  <tbody>\n",
       "    <tr>\n",
       "      <th>0</th>\n",
       "      <td>06/07/2022</td>\n",
       "      <td>06/July/2022</td>\n",
       "      <td>1997/310</td>\n",
       "      <td>310/1997</td>\n",
       "    </tr>\n",
       "  </tbody>\n",
       "</table>\n",
       "</div>"
      ],
      "text/plain": [
       "     american     monthname    julian inversejulian\n",
       "0  06/07/2022  06/July/2022  1997/310      310/1997"
      ]
     },
     "execution_count": 202,
     "metadata": {},
     "output_type": "execute_result"
    }
   ],
   "source": [
    "import pandas as pd\n",
    "from pyspark.sql import SparkSession\n",
    "\n",
    "sc = SparkSession.builder.appName('decorators').getOrCreate()\n",
    "\n",
    "data = pd.DataFrame({\n",
    "    'american': ['06/07/2022'],\n",
    "    'monthname': ['06/July/2022'],\n",
    "    'julian': ['1997/310'],\n",
    "    'inversejulian': ['310/1997'],\n",
    "\n",
    "})\n",
    "\n",
    "data"
   ]
  },
  {
   "cell_type": "code",
   "execution_count": 203,
   "metadata": {},
   "outputs": [
    {
     "name": "stdout",
     "output_type": "stream",
     "text": [
      "+----------+------------+--------+-------------+\n",
      "|  american|   monthname|  julian|inversejulian|\n",
      "+----------+------------+--------+-------------+\n",
      "|06/07/2022|06/July/2022|1997/310|     310/1997|\n",
      "+----------+------------+--------+-------------+\n",
      "\n"
     ]
    }
   ],
   "source": [
    "df = sc.createDataFrame(data)\n",
    "df.show()"
   ]
  },
  {
   "cell_type": "code",
   "execution_count": 204,
   "metadata": {},
   "outputs": [
    {
     "name": "stdout",
     "output_type": "stream",
     "text": [
      "+----------+------------+--------+-------------+\n",
      "|  american|   monthname|  julian|inversejulian|\n",
      "+----------+------------+--------+-------------+\n",
      "|2022-07-06|06/July/2022|1997/310|     310/1997|\n",
      "+----------+------------+--------+-------------+\n",
      "\n"
     ]
    }
   ],
   "source": [
    "from pyspark.sql import functions as F \n",
    "df.withColumn('american', F.to_date('american', 'dd/MM/yyyy')).show()"
   ]
  },
  {
   "cell_type": "code",
   "execution_count": 205,
   "metadata": {},
   "outputs": [
    {
     "name": "stdout",
     "output_type": "stream",
     "text": [
      "+----------+------------+----------+-------------+\n",
      "|  american|   monthname|    julian|inversejulian|\n",
      "+----------+------------+----------+-------------+\n",
      "|06/07/2022|06/July/2022|1997-11-06|     310/1997|\n",
      "+----------+------------+----------+-------------+\n",
      "\n"
     ]
    }
   ],
   "source": [
    "\n",
    "df.withColumn('julian', F.to_date('julian', 'yyyy/DDD')).show()"
   ]
  },
  {
   "cell_type": "code",
   "execution_count": 206,
   "metadata": {},
   "outputs": [
    {
     "name": "stdout",
     "output_type": "stream",
     "text": [
      "+----------+------------+--------+-------------+\n",
      "|  american|   monthname|  julian|inversejulian|\n",
      "+----------+------------+--------+-------------+\n",
      "|06/07/2022|06/July/2022|1997/310|   1997-11-06|\n",
      "+----------+------------+--------+-------------+\n",
      "\n"
     ]
    }
   ],
   "source": [
    "\n",
    "df.withColumn('inversejulian', F.to_date('inversejulian', 'DDD/yyyy')).show()"
   ]
  },
  {
   "cell_type": "code",
   "execution_count": 207,
   "metadata": {},
   "outputs": [
    {
     "name": "stdout",
     "output_type": "stream",
     "text": [
      "+----------+---------+--------+-------------+\n",
      "|  american|monthname|  julian|inversejulian|\n",
      "+----------+---------+--------+-------------+\n",
      "|06/07/2022|     null|1997/310|     310/1997|\n",
      "+----------+---------+--------+-------------+\n",
      "\n"
     ]
    }
   ],
   "source": [
    "df.withColumn('monthname', F.to_date('monthname', 'dd/LL/yyyy')).show()"
   ]
  },
  {
   "cell_type": "code",
   "execution_count": 127,
   "metadata": {},
   "outputs": [],
   "source": [
    "import functools\n",
    "\n",
    "\n",
    "date_cols = {\n",
    "    'american': ['american', 'american1'],\n",
    "    'julian': ['julian']\n",
    "}\n",
    "\n",
    "\n",
    "def datefixer(dateconf):\n",
    "    import pyspark\n",
    "    def _datefixer(func):\n",
    "\n",
    "        @functools.wraps(func)\n",
    "        def wrapper(df, *args, **kwargs):\n",
    "            df_dateconf = {}\n",
    "            for key, values in dateconf.items():\n",
    "                df_dateconf[key] = [i for i in df.columns if i in values]\n",
    "\n",
    "\n",
    "            for dateformat in df_dateconf.keys():\n",
    "                for datecolumn in df_dateconf[dateformat]:\n",
    "                    print('converting', dateformat)\n",
    "                    if dateformat == 'american':\n",
    "                        df = df.withColumn(datecolumn, F.to_date(datecolumn, 'dd/MM/yyyy'))\n",
    "                    if dateformat == 'julian':\n",
    "                        df = df.withColumn(datecolumn, F.to_date(datecolumn, 'yyyy/DDD'))\n",
    "            return func(df, *args, **kwargs)\n",
    "\n",
    "        return wrapper\n",
    "\n",
    "    return _datefixer"
   ]
  },
  {
   "cell_type": "code",
   "execution_count": null,
   "metadata": {},
   "outputs": [],
   "source": []
  },
  {
   "cell_type": "code",
   "execution_count": 128,
   "metadata": {},
   "outputs": [],
   "source": [
    "@datefixer(dateconf=date_cols)\n",
    "def test(df):\n",
    "\n",
    "    return df \n",
    "\n",
    "        "
   ]
  },
  {
   "cell_type": "code",
   "execution_count": 129,
   "metadata": {},
   "outputs": [
    {
     "name": "stdout",
     "output_type": "stream",
     "text": [
      "+----------+--------+-------------+\n",
      "|  american|  julian|inversejulian|\n",
      "+----------+--------+-------------+\n",
      "|06/07/2022|1997/310|     310/1997|\n",
      "+----------+--------+-------------+\n",
      "\n",
      "converting american\n",
      "converting julian\n",
      "+----------+----------+-------------+\n",
      "|  american|    julian|inversejulian|\n",
      "+----------+----------+-------------+\n",
      "|2022-07-06|1997-11-06|     310/1997|\n",
      "+----------+----------+-------------+\n",
      "\n"
     ]
    }
   ],
   "source": [
    "df.show()\n",
    "test(df=df).show()"
   ]
  },
  {
   "cell_type": "code",
   "execution_count": 154,
   "metadata": {},
   "outputs": [],
   "source": [
    "import pyspark \n",
    "def fn(*args, **kwargs):\n",
    "    for k, v in kwargs.items():\n",
    "        if isinstance(v, pyspark.sql.DataFrame):\n",
    "            kwargs[k] = kwargs[k].withColumn('new', F.lit(0))\n",
    "    return kwargs \n",
    "    print(kwargs)\n"
   ]
  },
  {
   "cell_type": "code",
   "execution_count": 179,
   "metadata": {},
   "outputs": [],
   "source": [
    "def datefixer(conf):\n",
    "    import pyspark\n",
    "    def _datefixer(func):\n",
    "\n",
    "        @functools.wraps(func)\n",
    "        def wrapper(*args, **kwargs):\n",
    "            for k, v in kwargs.items():\n",
    "                if isinstance(v, pyspark.sql.DataFrame):\n",
    "                    print('found a dataframe')\n",
    "                    kwargs[k] = kwargs[k].withColumn('col', F.lit(0))\n",
    "\n",
    "            return func(*args, **kwargs)\n",
    "\n",
    "        return wrapper\n",
    "\n",
    "    return _datefixer\n",
    "        "
   ]
  },
  {
   "cell_type": "code",
   "execution_count": 180,
   "metadata": {},
   "outputs": [],
   "source": [
    "@datefixer(conf=None)\n",
    "def process(df):\n",
    "    return df"
   ]
  },
  {
   "cell_type": "code",
   "execution_count": 181,
   "metadata": {},
   "outputs": [
    {
     "name": "stdout",
     "output_type": "stream",
     "text": [
      "found a dataframe\n",
      "+----------+--------+-------------+---+\n",
      "|  american|  julian|inversejulian|col|\n",
      "+----------+--------+-------------+---+\n",
      "|06/07/2022|1997/310|     310/1997|  0|\n",
      "+----------+--------+-------------+---+\n",
      "\n"
     ]
    }
   ],
   "source": [
    "process(df=df).show()"
   ]
  },
  {
   "cell_type": "code",
   "execution_count": null,
   "metadata": {},
   "outputs": [],
   "source": []
  }
 ],
 "metadata": {
  "kernelspec": {
   "display_name": "Python 3.8.12 ('pyspark_env')",
   "language": "python",
   "name": "python3"
  },
  "language_info": {
   "codemirror_mode": {
    "name": "ipython",
    "version": 3
   },
   "file_extension": ".py",
   "mimetype": "text/x-python",
   "name": "python",
   "nbconvert_exporter": "python",
   "pygments_lexer": "ipython3",
   "version": "3.8.13"
  },
  "orig_nbformat": 4,
  "vscode": {
   "interpreter": {
    "hash": "c381e67c3557bc3722f390a24d9b4637bf98cf80995ba2adfe7961e7381da7d4"
   }
  }
 },
 "nbformat": 4,
 "nbformat_minor": 2
}
