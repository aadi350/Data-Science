{
 "cells": [
  {
   "attachments": {},
   "cell_type": "markdown",
   "metadata": {},
   "source": [
    "Replaced metaclass, used `__init_subclass__` hook in class body and ahook to initizlie attributes\n",
    "\n",
    "`__init_subclass__` was introduced in [PEP 487](https://peps.python.org/pep-0487/) and [according to James Powell](https://twitter.com/dontusethiscode/status/1466773372910587904?s=20) covers every use that was previously done in metaclasses (with the one exception being implementation of protocols on types). It's main purpose was to customize subclass creation\n",
    "\n",
    "Just to get it out of the way, let's see the order in which these functions are called (the other functions being `__new__` and `__init__`)"
   ]
  },
  {
   "cell_type": "code",
   "execution_count": 4,
   "metadata": {},
   "outputs": [
    {
     "name": "stdout",
     "output_type": "stream",
     "text": [
      "__init_subclass__\n"
     ]
    }
   ],
   "source": [
    "class Parent:\n",
    "    def __init__(self, *args, **kwargs) -> None:\n",
    "        print('Parent __init__')\n",
    "\n",
    "    def __new__(cls, *args, **kwargs):\n",
    "        print('Parent __new__')\n",
    "        return super().__new__(cls, *args, **kwargs)\n",
    "\n",
    "    def __init_subclass__(cls):\n",
    "        print('__init_subclass__')\n",
    "\n",
    "class Child(Parent):\n",
    "    def __init__(self, *args, **kwargs):\n",
    "        print('Child __init__')\n",
    "        super().__init__(*args, **kwargs)"
   ]
  },
  {
   "cell_type": "markdown",
   "metadata": {},
   "source": [
    "We see that `__init_subclass__` is run at time of *child* **class** creation, NOT instance creation\n",
    "\n",
    "Now if I create an instance of `Child`:"
   ]
  },
  {
   "cell_type": "code",
   "execution_count": 5,
   "metadata": {},
   "outputs": [
    {
     "name": "stdout",
     "output_type": "stream",
     "text": [
      "Parent __new__\n",
      "Child __init__\n",
      "Parent __init__\n"
     ]
    }
   ],
   "source": [
    "child_instance = Child()"
   ]
  },
  {
   "cell_type": "markdown",
   "metadata": {},
   "source": [
    "A deeper example:"
   ]
  },
  {
   "cell_type": "code",
   "execution_count": 1,
   "metadata": {},
   "outputs": [
    {
     "name": "stdout",
     "output_type": "stream",
     "text": [
      "<class '__main__.SubClass'> __init_subclass__\n",
      "Calling class :<class '__main__.B'>\n",
      "Calling name:a\n",
      "Calling class :<class '__main__.B'>\n",
      "Calling name:b\n",
      "Calling class :<class '__main__.B'>\n",
      "Calling name:c\n"
     ]
    },
    {
     "data": {
      "text/plain": [
       "\"\\nOutput:\\nCalling class :<class '__main__.B'>\\nCalling name:a\\nCalling class :<class '__main__.B'>\\nCalling name:b\\nCalling class :<class '__main__.B'>\\nCalling name:c\\n\""
      ]
     },
     "execution_count": 1,
     "metadata": {},
     "output_type": "execute_result"
    }
   ],
   "source": [
    "import os\n",
    "\n",
    "'''\n",
    "initsubclass so that we don't need metaclass\n",
    "'''\n",
    "\n",
    "class BaseClass:\n",
    "    def __init_subclass__(cls, **kwargs):\n",
    "        # does some initialization \n",
    "        print(f'{cls} __init_subclass__')\n",
    "        super().__init_subclass__(**kwargs)\n",
    "\n",
    "class SubClass(BaseClass):\n",
    "    pass\n",
    "\n",
    "import weakref\n",
    "\n",
    "class WeakAttribute:\n",
    "    def __init__(self, *args, **kwargs):\n",
    "        print('WeakAttribute __init__')\n",
    "        super().__init__(*args, **kwargs)\n",
    "\n",
    "    def __get__(self, instance, owner):\n",
    "        return instance.__dict__[self.name]()\n",
    "\n",
    "    def __set__(self, instance, value):\n",
    "        instance.__dict__[self.name] = weakref.ref(value)\n",
    "\n",
    "    def __set_name__(self, owner, name):\n",
    "        print(self, owner, name)\n",
    "        self.name = name\n",
    "\n",
    "'''\n",
    "The __set_name__ magic method lets you know \n",
    "where instances of this class are used and \n",
    "what attribute they are assigned to. \n",
    "The owner field is the class where it is used. \n",
    "The name field is the attribute name it is assigned \n",
    "to\n",
    "'''\n",
    "\n",
    "class A:\n",
    "    def __set_name__(self, owner, name):\n",
    "        print(f'Calling class :{owner}')\n",
    "        print(f'Calling name:{name}')\n",
    "\n",
    "class B:\n",
    "    a = A()\n",
    "    b = A()\n",
    "    c = A()\n"
   ]
  },
  {
   "cell_type": "code",
   "execution_count": 7,
   "metadata": {},
   "outputs": [
    {
     "name": "stdout",
     "output_type": "stream",
     "text": [
      "<function A.__init__ at 0x7f7b5a703160>\n",
      "<class 'int'>\n",
      "<class 'inspect._empty'>\n",
      "<function Base.__set_name__ at 0x7f7b5a703ee0>\n",
      "<class 'int'>\n",
      "<class 'inspect._empty'>\n",
      "<function A.branch_function at 0x7f7b5a7035e0>\n",
      "<class 'int'>\n",
      "<class 'inspect._empty'>\n"
     ]
    }
   ],
   "source": [
    "import inspect\n",
    "\n",
    "class Base:\n",
    "    @classmethod # put implicitly if left out\n",
    "    def __init_subclass__(cls, /, *args,  **kwargs) -> None:\n",
    "        for func_name, func in inspect.getmembers(cls, predicate=inspect.isfunction):\n",
    "            print(func)\n",
    "            for arg_name, parameter in list(inspect.signature(cls.branch_function).parameters.items())[1:]:\n",
    "                print(parameter.annotation)\n",
    "\n",
    "        super().__init_subclass__()\n",
    "\n",
    "    def __set_name__(self, owner, name):\n",
    "        print('__set_name__')\n",
    "        super().__set_name__(owner, name)\n",
    "\n",
    "\n",
    "class A(Base, a=1):\n",
    "    a: int \n",
    "    b: str \n",
    "\n",
    "    def branch_function(self, a:int, b):\n",
    "        pass\n",
    "\n",
    "    def __init__(self, a:int, b:str) -> None:\n",
    "        pass"
   ]
  },
  {
   "cell_type": "markdown",
   "metadata": {},
   "source": [
    "# Concrete Examples"
   ]
  },
  {
   "cell_type": "markdown",
   "metadata": {},
   "source": [
    "## Enforcing Type Hints\n",
    "\n",
    "We can use `__init_subclass__` to enforce that all methods in child classes use type hints (which can be further used for customizing method creation, better documentation, etc)\n",
    "\n",
    "We can extract functions from a class using `inspect.getmembers` and passing `isfunction` as its predicate:"
   ]
  },
  {
   "cell_type": "code",
   "execution_count": 8,
   "metadata": {},
   "outputs": [
    {
     "data": {
      "text/plain": [
       "<function __main__.A.__init__(self, a: int, b: str) -> None>"
      ]
     },
     "execution_count": 8,
     "metadata": {},
     "output_type": "execute_result"
    }
   ],
   "source": [
    "from optparse import OptionParser\n",
    "import inspect\n",
    "\n",
    "\n",
    "\n",
    "_, func= inspect.getmembers(A, predicate=inspect.isfunction)[0] # gets functions from class\n",
    "\n",
    "func\n"
   ]
  },
  {
   "cell_type": "markdown",
   "metadata": {},
   "source": [
    "In the following, in line 3, we get all functions and iterate through the function list. Line 7 is where we test for whether or not there's a type annotation, and raises an error on the first case of non-hinted parameters"
   ]
  },
  {
   "cell_type": "code",
   "execution_count": 40,
   "metadata": {},
   "outputs": [],
   "source": [
    "class EnforceTypeHints:\n",
    "    def __init_subclass__(cls) -> None:\n",
    "        method_list = inspect.getmembers(cls, predicate=inspect.isfunction)\n",
    "        for func_name, func in method_list: \n",
    "            for arg_name, parameter in list(inspect.signature(func).parameters.items())[1:]:\n",
    "                t = parameter.annotation\n",
    "                if t == inspect._empty: raise ValueError(f'Argument {arg_name} needs a type annotation')\n",
    "\n",
    "class TypeHinted(EnforceTypeHints):\n",
    "    def __init__(self, a: int) -> None:\n",
    "        super().__init__()\n"
   ]
  },
  {
   "cell_type": "markdown",
   "metadata": {},
   "source": [
    "like this"
   ]
  },
  {
   "cell_type": "code",
   "execution_count": 37,
   "metadata": {},
   "outputs": [
    {
     "ename": "ValueError",
     "evalue": "Argument a needs a type annotation",
     "output_type": "error",
     "traceback": [
      "\u001b[0;31m---------------------------------------------------------------------------\u001b[0m",
      "\u001b[0;31mValueError\u001b[0m                                Traceback (most recent call last)",
      "Cell \u001b[0;32mIn [37], line 1\u001b[0m\n\u001b[0;32m----> 1\u001b[0m \u001b[39mclass\u001b[39;00m \u001b[39mNotTypeHinted\u001b[39;00m(EnforceTypeHints):\n\u001b[1;32m      2\u001b[0m     \u001b[39mdef\u001b[39;00m \u001b[39m__init__\u001b[39m(\u001b[39mself\u001b[39m, a) \u001b[39m-\u001b[39m\u001b[39m>\u001b[39m \u001b[39mNone\u001b[39;00m:\n\u001b[1;32m      3\u001b[0m         \u001b[39msuper\u001b[39m()\u001b[39m.\u001b[39m\u001b[39m__init__\u001b[39m()\n",
      "Cell \u001b[0;32mIn [36], line 10\u001b[0m, in \u001b[0;36mEnforceTypeHints.__init_subclass__\u001b[0;34m(cls)\u001b[0m\n\u001b[1;32m      8\u001b[0m \u001b[39mfor\u001b[39;00m arg_name, parameter \u001b[39min\u001b[39;00m \u001b[39mlist\u001b[39m(inspect\u001b[39m.\u001b[39msignature(func)\u001b[39m.\u001b[39mparameters\u001b[39m.\u001b[39mitems())[\u001b[39m1\u001b[39m:]:\n\u001b[1;32m      9\u001b[0m     t \u001b[39m=\u001b[39m parameter\u001b[39m.\u001b[39mannotation\n\u001b[0;32m---> 10\u001b[0m     \u001b[39mif\u001b[39;00m t \u001b[39m==\u001b[39m inspect\u001b[39m.\u001b[39m_empty: \u001b[39mraise\u001b[39;00m \u001b[39mValueError\u001b[39;00m(\u001b[39mf\u001b[39m\u001b[39m'\u001b[39m\u001b[39mArgument \u001b[39m\u001b[39m{\u001b[39;00marg_name\u001b[39m}\u001b[39;00m\u001b[39m needs a type annotation\u001b[39m\u001b[39m'\u001b[39m)\n",
      "\u001b[0;31mValueError\u001b[0m: Argument a needs a type annotation"
     ]
    }
   ],
   "source": [
    "class NotTypeHinted(EnforceTypeHints):\n",
    "    def __init__(self, a) -> None:\n",
    "        super().__init__()"
   ]
  },
  {
   "cell_type": "markdown",
   "metadata": {},
   "source": [
    "## Subclass Registry\n",
    "\n",
    "This has few uses, two of which are for dynamic child-class generation and implementing the [plugin design pattern](https://stackoverflow.com/questions/51217271/the-plugin-design-pattern-explained-as-described-by-martin-fowler). In this case, a class attribute `subclasses` is used to store everychild class implemented"
   ]
  },
  {
   "cell_type": "code",
   "execution_count": 42,
   "metadata": {},
   "outputs": [],
   "source": [
    "class BaseClass:\n",
    "    subclasses = []\n",
    "\n",
    "    def __init_subclass__(cls, **kwargs) -> None:\n",
    "        super().__init_subclass__(**kwargs)\n",
    "        cls.subclasses.append(cls)\n",
    "\n",
    "class A(BaseClass):\n",
    "    pass\n",
    "\n",
    "class B(BaseClass):\n",
    "    pass "
   ]
  },
  {
   "cell_type": "code",
   "execution_count": 43,
   "metadata": {},
   "outputs": [
    {
     "data": {
      "text/plain": [
       "[__main__.A, __main__.B]"
      ]
     },
     "execution_count": 43,
     "metadata": {},
     "output_type": "execute_result"
    }
   ],
   "source": [
    "BaseClass.subclasses"
   ]
  },
  {
   "cell_type": "markdown",
   "metadata": {},
   "source": [
    "## Ensuring Method Implementation\n",
    "\n",
    "This is very useful, for example in ensuring that the interface of child classes matches what we wish it to be. For example, ensuring `transform` and `fit` are implemented in an sklearn-like transformer or `predict` and `evaluate` are implemented for a tensorflow-like model,\n",
    "\n",
    "In line 10, we iterate through the required-methods and use `hasattr` to test for method existence"
   ]
  },
  {
   "cell_type": "code",
   "execution_count": 44,
   "metadata": {},
   "outputs": [],
   "source": [
    "class Transformer:\n",
    "    subclasses = {}\n",
    "    required_methods = ['transform', 'fit']\n",
    "\n",
    "\n",
    "    def __init_subclass__(cls, **kwargs) -> None:\n",
    "        super().__init_subclass__(**kwargs)\n",
    "        cls.subclasses[cls.__name__] = cls\n",
    "\n",
    "        for method in Transformer.required_methods:\n",
    "            if not hasattr(cls, method):\n",
    "                raise NotImplementedError(f'Subclass of Transformer must implement the {method} method')\n",
    "\n",
    "class GoodTransformer(Transformer):\n",
    "    def transform(self, ):\n",
    "        pass\n",
    "\n",
    "    def fit(self, ):\n",
    "        pass\n",
    "    \n",
    "    "
   ]
  },
  {
   "cell_type": "markdown",
   "metadata": {},
   "source": [
    "If the methods are not implemented, we raise an error"
   ]
  },
  {
   "cell_type": "code",
   "execution_count": 45,
   "metadata": {},
   "outputs": [
    {
     "ename": "NotImplementedError",
     "evalue": "Subclass of Transformer must implement the transform method",
     "output_type": "error",
     "traceback": [
      "\u001b[0;31m---------------------------------------------------------------------------\u001b[0m",
      "\u001b[0;31mNotImplementedError\u001b[0m                       Traceback (most recent call last)",
      "Cell \u001b[0;32mIn [45], line 1\u001b[0m\n\u001b[0;32m----> 1\u001b[0m \u001b[39mclass\u001b[39;00m \u001b[39mBadTransformer\u001b[39;00m(Transformer):\n\u001b[1;32m      2\u001b[0m     \u001b[39mpass\u001b[39;00m\n",
      "Cell \u001b[0;32mIn [44], line 12\u001b[0m, in \u001b[0;36mTransformer.__init_subclass__\u001b[0;34m(cls, **kwargs)\u001b[0m\n\u001b[1;32m     10\u001b[0m \u001b[39mfor\u001b[39;00m method \u001b[39min\u001b[39;00m Transformer\u001b[39m.\u001b[39mrequired_methods:\n\u001b[1;32m     11\u001b[0m     \u001b[39mif\u001b[39;00m \u001b[39mnot\u001b[39;00m \u001b[39mhasattr\u001b[39m(\u001b[39mcls\u001b[39m, method):\n\u001b[0;32m---> 12\u001b[0m         \u001b[39mraise\u001b[39;00m \u001b[39mNotImplementedError\u001b[39;00m(\u001b[39mf\u001b[39m\u001b[39m'\u001b[39m\u001b[39mSubclass of Transformer must implement the \u001b[39m\u001b[39m{\u001b[39;00mmethod\u001b[39m}\u001b[39;00m\u001b[39m method\u001b[39m\u001b[39m'\u001b[39m)\n",
      "\u001b[0;31mNotImplementedError\u001b[0m: Subclass of Transformer must implement the transform method"
     ]
    }
   ],
   "source": [
    "class BadTransformer(Transformer):\n",
    "    pass"
   ]
  },
  {
   "attachments": {},
   "cell_type": "markdown",
   "metadata": {},
   "source": [
    "Better explained version of the previous:\n",
    "Now, let's say I create some really cool class, with a set of cool functions, but I expect my users to implement some of the functions:"
   ]
  },
  {
   "cell_type": "code",
   "execution_count": 2,
   "metadata": {},
   "outputs": [],
   "source": [
    "class MyClass:\n",
    "    pass"
   ]
  },
  {
   "cell_type": "code",
   "execution_count": 3,
   "metadata": {},
   "outputs": [],
   "source": [
    "from abc import abstractmethod\n",
    "\n",
    "class BaseClass:\n",
    "    @abstractmethod\n",
    "    def foo(self,):\n",
    "        raise NotImplementedError"
   ]
  },
  {
   "attachments": {},
   "cell_type": "markdown",
   "metadata": {},
   "source": [
    "So the intention is, when my user inherits the above class, they do the following:"
   ]
  },
  {
   "cell_type": "code",
   "execution_count": 4,
   "metadata": {},
   "outputs": [],
   "source": [
    "class UserClass(BaseClass):\n",
    "    def foo(self, *args, **kwargs):\n",
    "        # actual functionality\n",
    "        pass"
   ]
  },
  {
   "attachments": {},
   "cell_type": "markdown",
   "metadata": {},
   "source": [
    "That's all well and good, but what happens if my user *forgets* to implement `foo`? The above ran just fine, and even instantiation works!"
   ]
  },
  {
   "cell_type": "code",
   "execution_count": 5,
   "metadata": {},
   "outputs": [],
   "source": [
    "class BaseClass:\n",
    "    @abstractmethod\n",
    "    def foo(self,):\n",
    "        raise NotImplementedError\n",
    "\n",
    "class UserClass(BaseClass):\n",
    "    pass\n",
    "\n",
    "user_instance = UserClass()"
   ]
  },
  {
   "attachments": {},
   "cell_type": "markdown",
   "metadata": {},
   "source": [
    "Now, this is a problem. Suppose this class were deployed to some production system, which attempts to call `foo`..."
   ]
  },
  {
   "cell_type": "code",
   "execution_count": 6,
   "metadata": {},
   "outputs": [
    {
     "ename": "NotImplementedError",
     "evalue": "",
     "output_type": "error",
     "traceback": [
      "\u001b[0;31m---------------------------------------------------------------------------\u001b[0m",
      "\u001b[0;31mNotImplementedError\u001b[0m                       Traceback (most recent call last)",
      "Cell \u001b[0;32mIn [6], line 1\u001b[0m\n\u001b[0;32m----> 1\u001b[0m user_instance\u001b[39m.\u001b[39;49mfoo()\n",
      "Cell \u001b[0;32mIn [5], line 4\u001b[0m, in \u001b[0;36mBaseClass.foo\u001b[0;34m(self)\u001b[0m\n\u001b[1;32m      2\u001b[0m \u001b[39m@abstractmethod\u001b[39m\n\u001b[1;32m      3\u001b[0m \u001b[39mdef\u001b[39;00m \u001b[39mfoo\u001b[39m(\u001b[39mself\u001b[39m,):\n\u001b[0;32m----> 4\u001b[0m     \u001b[39mraise\u001b[39;00m \u001b[39mNotImplementedError\u001b[39;00m\n",
      "\u001b[0;31mNotImplementedError\u001b[0m: "
     ]
    }
   ],
   "source": [
    "user_instance.foo()"
   ]
  },
  {
   "attachments": {},
   "cell_type": "markdown",
   "metadata": {},
   "source": [
    "That's a problem! Any code that will fail should fail *at compile time*, NOT only after it's deployed. So how do you ensure that, given you write a class, users of your class actually implement the function?\n",
    "\n",
    "Enter PEP 487: this PEP proposed a hook (Python's runtime is quite rich, an a hook is a concrete method in an abstract class that can be overridden by subclasses) for easing the customization of class creation:"
   ]
  },
  {
   "cell_type": "code",
   "execution_count": 8,
   "metadata": {},
   "outputs": [
    {
     "name": "stdout",
     "output_type": "stream",
     "text": [
      "__init_subclass__ run <class '__main__.MyClass'>\n"
     ]
    }
   ],
   "source": [
    "from dis import dis\n",
    "\n",
    "class Base:\n",
    "    def __init_subclass__(cls, **kwargs):\n",
    "        print('__init_subclass__ run', cls)\n",
    "\n",
    "        super().__init_subclass__(**kwargs)\n",
    "\n",
    "class MyClass(Base):\n",
    "    def __init__(self, ):\n",
    "        return "
   ]
  },
  {
   "attachments": {},
   "cell_type": "markdown",
   "metadata": {},
   "source": [
    "From the above, we can see the `__init_subclass__` is run *at time of class creation*. This is going to be useful to check for whether or not a user overrides my abstract function.\n",
    "\n",
    "So let's try this again, in the `__init_subclass__`, we check whether or not the method `foo` is still abstract or not. In this case, methods decorated with `@abstractmethod` have an attribute `__isabstractmethod__` which can be pulled:"
   ]
  },
  {
   "cell_type": "code",
   "execution_count": 9,
   "metadata": {},
   "outputs": [],
   "source": [
    "class BaseClass: # this is the class I would write\n",
    "    def __init_subclass__(cls, **kwargs):\n",
    "        # if attribute foo of the class cls is still abstract, raise an error\n",
    "        if getattr(cls().foo, '__isabstractmethod__', False): \n",
    "            raise NotImplementedError('Function foo must be implemented')\n",
    "\n",
    "        super().__init_subclass__(**kwargs)\n",
    "\n",
    "    @abstractmethod\n",
    "    def foo(self, ):\n",
    "        raise NotImplementedError"
   ]
  },
  {
   "attachments": {},
   "cell_type": "markdown",
   "metadata": {},
   "source": [
    "Now if the above was set up correctly, any classes inheriting from `BaseClass` should fail to be created at all at time of **class** creation, NOT instance creation!"
   ]
  },
  {
   "cell_type": "code",
   "execution_count": 10,
   "metadata": {},
   "outputs": [
    {
     "data": {
      "text/plain": [
       "9"
      ]
     },
     "execution_count": 10,
     "metadata": {},
     "output_type": "execute_result"
    }
   ],
   "source": [
    "class MyGoodUserClass(BaseClass):\n",
    "    def foo(self, x):\n",
    "        return x**2\n",
    "\n",
    "user_instance = MyGoodUserClass()\n",
    "user_instance.foo(x=3)"
   ]
  },
  {
   "attachments": {},
   "cell_type": "markdown",
   "metadata": {},
   "source": [
    "The above works fine, the method `foo` was successfully overridden and implemented; but the best-case scenario is fairly uninteresting. What happens when a user *forgets* to implement/override `foo`?"
   ]
  },
  {
   "cell_type": "code",
   "execution_count": 11,
   "metadata": {},
   "outputs": [
    {
     "ename": "NotImplementedError",
     "evalue": "Function foo must be implemented",
     "output_type": "error",
     "traceback": [
      "\u001b[0;31m---------------------------------------------------------------------------\u001b[0m",
      "\u001b[0;31mNotImplementedError\u001b[0m                       Traceback (most recent call last)",
      "Cell \u001b[0;32mIn [11], line 1\u001b[0m\n\u001b[0;32m----> 1\u001b[0m \u001b[39mclass\u001b[39;00m \u001b[39mMyBadUserClass\u001b[39;00m(BaseClass):\n\u001b[1;32m      2\u001b[0m     \u001b[39mpass\u001b[39;00m\n",
      "Cell \u001b[0;32mIn [9], line 5\u001b[0m, in \u001b[0;36mBaseClass.__init_subclass__\u001b[0;34m(cls, **kwargs)\u001b[0m\n\u001b[1;32m      2\u001b[0m \u001b[39mdef\u001b[39;00m \u001b[39m__init_subclass__\u001b[39m(\u001b[39mcls\u001b[39m, \u001b[39m*\u001b[39m\u001b[39m*\u001b[39mkwargs):\n\u001b[1;32m      3\u001b[0m     \u001b[39m# if attribute foo of the class cls is still abstract, raise an error\u001b[39;00m\n\u001b[1;32m      4\u001b[0m     \u001b[39mif\u001b[39;00m \u001b[39mgetattr\u001b[39m(\u001b[39mcls\u001b[39m()\u001b[39m.\u001b[39mfoo, \u001b[39m'\u001b[39m\u001b[39m__isabstractmethod__\u001b[39m\u001b[39m'\u001b[39m, \u001b[39mFalse\u001b[39;00m): \n\u001b[0;32m----> 5\u001b[0m         \u001b[39mraise\u001b[39;00m \u001b[39mNotImplementedError\u001b[39;00m(\u001b[39m'\u001b[39m\u001b[39mFunction foo must be implemented\u001b[39m\u001b[39m'\u001b[39m)\n\u001b[1;32m      7\u001b[0m     \u001b[39msuper\u001b[39m()\u001b[39m.\u001b[39m__init_subclass__(\u001b[39m*\u001b[39m\u001b[39m*\u001b[39mkwargs)\n",
      "\u001b[0;31mNotImplementedError\u001b[0m: Function foo must be implemented"
     ]
    }
   ],
   "source": [
    "class MyBadUserClass(BaseClass):\n",
    "    pass"
   ]
  },
  {
   "attachments": {},
   "cell_type": "markdown",
   "metadata": {},
   "source": [
    "That's right, **class** creation fails up-front, exactly where it's supposed to fail! "
   ]
  },
  {
   "attachments": {},
   "cell_type": "markdown",
   "metadata": {},
   "source": [
    "\n",
    "### Using `abc`"
   ]
  },
  {
   "attachments": {},
   "cell_type": "markdown",
   "metadata": {},
   "source": [
    "```python\n",
    "import abc\n",
    "\n",
    "\n",
    "class AbstractBase(metaclass=abc.ABCMeta):\n",
    "    @abc.abstractmethod\n",
    "    def must_implement_this_method(self):\n",
    "        raise NotImplementedError()\n",
    "\n",
    "\n",
    "class ConcreteChild(AbstractBase):\n",
    "    pass\n",
    "\n",
    "d = ConcreteChild()\n",
    "```"
   ]
  },
  {
   "cell_type": "markdown",
   "metadata": {},
   "source": [
    "## Customizing Methods for Prediction\n",
    "\n",
    "In this example, the Model class uses `__init_subclass__` to create a custom predict method for each subclass based on the input data type. The predict method checks the type of the input data and calls the appropriate implementation method based on the type. This can be useful in cases where you want to allow users to create models that can handle multiple data types, but you want to abstract away the details of how the data is processed from the user."
   ]
  },
  {
   "cell_type": "code",
   "execution_count": 1,
   "metadata": {},
   "outputs": [],
   "source": [
    "import cudf\n",
    "import pandas as pd\n",
    "\n",
    "class Model:\n",
    "    def __init_subclass__(cls, **kwargs):\n",
    "        super().__init_subclass__(**kwargs)\n",
    "        \n",
    "        # Create a custom \"predict\" method for each subclass based on the input data type\n",
    "        def predict(self, data):\n",
    "            if isinstance(data, pd.DataFrame):\n",
    "                return self._predict_df(data)\n",
    "            elif isinstance(data, pd.Series):\n",
    "                return self._predict_series(data)\n",
    "            else:\n",
    "                raise TypeError(\"Unsupported data type for prediction.\")\n",
    "        cls.predict = predict\n",
    "        \n",
    "        # Ensure that the subclass implements the required methods\n",
    "        required_methods = [\"_predict_df\", \"_predict_series\"]\n",
    "        for method in required_methods:\n",
    "            if not hasattr(cls, method):\n",
    "                raise NotImplementedError(f\"Subclass of Model must implement the '{method}' method.\")\n",
    "\n",
    "class CustomModel(Model):\n",
    "    def _predict_df(self, data):\n",
    "        # Implement prediction logic for DataFrames here\n",
    "        pass\n",
    "    \n",
    "    def _predict_series(self, data):\n",
    "        # Implement prediction logic for Series here\n",
    "        pass\n",
    "\n",
    "# Create an instance of the CustomModel\n",
    "model = CustomModel()\n",
    "\n",
    "# Predict using a DataFrame\n",
    "predictions = model.predict(pd.DataFrame({\"col1\": [1, 2, 3], \"col2\": [4, 5, 6]}))\n",
    "\n",
    "# Predict using a Series\n",
    "prediction = model.predict(pd.Series([1, 2, 3]))\n"
   ]
  },
  {
   "cell_type": "markdown",
   "metadata": {},
   "source": [
    "## Documenting Subclasses\n",
    "\n",
    "This was an unusual idea suggested by OpenAI's ChatGPT. In this example we can generate fancy documentation for all child-classes near automatically"
   ]
  },
  {
   "cell_type": "code",
   "execution_count": 3,
   "metadata": {},
   "outputs": [
    {
     "name": "stdout",
     "output_type": "stream",
     "text": [
      "SubClassA\n",
      "\n",
      "Attributes:\n",
      "- value: 1\n",
      "- method: <function SubClassA.method at 0x7f7a73d4e280>\n",
      "\n",
      "Methods:\n",
      "- method:\n",
      "  Documentation for method\n",
      "\n"
     ]
    }
   ],
   "source": [
    "class BaseClass:\n",
    "    def __init_subclass__(cls, **kwargs):\n",
    "        super().__init_subclass__(**kwargs)\n",
    "        \n",
    "        # Generate documentation for the subclass based on its attributes and methods\n",
    "        doc = f\"{cls.__name__}\\n\\n\"\n",
    "        doc += \"Attributes:\\n\"\n",
    "        for attr in cls.__dict__:\n",
    "            if not attr.startswith(\"__\"):\n",
    "                doc += f\"- {attr}: {getattr(cls, attr)}\\n\"\n",
    "        doc += \"\\nMethods:\\n\"\n",
    "        for method in cls.__dict__:\n",
    "            if callable(getattr(cls, method)) and not method.startswith(\"__\"):\n",
    "                doc += f\"- {method}:\\n\"\n",
    "                doc += f\"  {getattr(cls, method).__doc__}\\n\"\n",
    "        cls.__doc__ = doc\n",
    "\n",
    "class SubClassA(BaseClass):\n",
    "    \"\"\"Documentation for SubClassA\"\"\"\n",
    "    value = 1\n",
    "    \n",
    "    def method(self):\n",
    "        \"\"\"Documentation for method\"\"\"\n",
    "        pass\n",
    "\n",
    "print(SubClassA.__doc__)"
   ]
  },
  {
   "attachments": {},
   "cell_type": "markdown",
   "metadata": {},
   "source": [
    "# An Overly Drawn-Out Example of Execution Order"
   ]
  },
  {
   "cell_type": "code",
   "execution_count": 1,
   "metadata": {},
   "outputs": [
    {
     "name": "stdout",
     "output_type": "stream",
     "text": [
      "Base.__init_subclass__\n",
      "kwargs {'x': 3}\n",
      "    cls                   = <class '__main__.MyClass'>\n",
      "    cls.__mro__           = (<class '__main__.MyClass'>, <class '__main__.Base'>, <class '__main__.MixinA'>, <class 'object'>)\n",
      "    cls.__bases__         = (<class '__main__.Base'>, <class '__main__.MixinA'>)\n",
      "    cls.__base__          = <class '__main__.Base'>\n",
      "    super()               = <super: <class 'Base'>, <MyClass object>>\n",
      "    super().__thisclass__ = <class '__main__.Base'>\n",
      "< MixinA.__init_subclass__\n",
      "    cls                   = <class '__main__.MyClass'>\n",
      "    cls.__mro__           = (<class '__main__.MyClass'>, <class '__main__.Base'>, <class '__main__.MixinA'>, <class 'object'>)\n",
      "    cls.__bases__         = (<class '__main__.Base'>, <class '__main__.MixinA'>)\n",
      "    cls.__base__          = <class '__main__.Base'>\n",
      "    super()               = <super: <class 'MixinA'>, <MyClass object>>\n",
      "    super().__thisclass__ = <class '__main__.MixinA'>\n",
      "> MixinA.__init_subclass_\n"
     ]
    }
   ],
   "source": [
    "def print_info_for_cls(cls, super):\n",
    "    print('    cls                   =', cls)\n",
    "    print('    cls.__mro__           =', cls.__mro__)\n",
    "    print('    cls.__bases__         =', cls.__bases__)\n",
    "    print('    cls.__base__          =', cls.__base__)\n",
    "    print('    super()               =', super)\n",
    "    print('    super().__thisclass__ =', super.__thisclass__)\n",
    "\n",
    "\n",
    "def print_info_for_self(self, super):\n",
    "    print('    self                     =', self)\n",
    "    print('    self.__class__           =', self.__class__)\n",
    "    print('    self.__class__.__mro__   =', self.__class__.__mro__)\n",
    "    print('    self.__class__.__bases__ =', self.__class__.__bases__)\n",
    "    print('    self.__class__.__base__  =', self.__class__.__base__)\n",
    "    print('    super()                  =', super)\n",
    "    print('    super().__thisclass__    =', super.__thisclass__)\n",
    "# --------------------------------------------------\n",
    "class Base:\n",
    "    def __init__(self, ):\n",
    "        print('Base __init__')\n",
    "        print_info_for_self(self, super())\n",
    "        super().__init__()\n",
    "\n",
    "    def __init_subclass__(cls, **kwargs):\n",
    "        print('Base.__init_subclass__')\n",
    "        print('kwargs', kwargs)\n",
    "        print_info_for_cls(cls, super())\n",
    "        super().__init_subclass__()\n",
    "\n",
    "class MixinA:\n",
    "    def __init__(self):\n",
    "        print('< MixinA.__init__')\n",
    "        print_info_for_self(self=self, super=super())\n",
    "        super().__init__()\n",
    "        print('> MixinA.__init__')\n",
    "\n",
    "    @classmethod\n",
    "    def __init_subclass__(cls):\n",
    "        print('< MixinA.__init_subclass__')\n",
    "        print_info_for_cls(cls=cls, super=super())\n",
    "        super().__init_subclass__()\n",
    "        print('> MixinA.__init_subclass_')\n",
    "\n",
    "\n",
    "class MixinB:\n",
    "    def __init__(self):\n",
    "        print('< MixinB.__init__')\n",
    "        print_info_for_self(self=self, super=super())\n",
    "        super().__init__()\n",
    "        print('> MixinB.__init__')\n",
    "\n",
    "    @classmethod\n",
    "    def __init_subclass__(cls):\n",
    "        print('< MixinB.__init_subclass__')\n",
    "        print_info_for_cls(cls=cls, super=super())\n",
    "        super().__init_subclass__()\n",
    "        print('> MixinB.__init_subclass__')\n",
    "\n",
    "class MyClass(Base, MixinA, x=3): # any kwargs here are passed to the parent's __init_subclass__\n",
    "    def __init__(self):\n",
    "        print('< MyClass.__init__')\n",
    "        print_info_for_self(self=self, super=super())\n",
    "        super().__init__()\n",
    "        print('> MyClass.__init__')\n",
    "\n"
   ]
  },
  {
   "cell_type": "code",
   "execution_count": null,
   "metadata": {},
   "outputs": [],
   "source": []
  }
 ],
 "metadata": {
  "kernelspec": {
   "display_name": "basic_clean",
   "language": "python",
   "name": "python3"
  },
  "language_info": {
   "codemirror_mode": {
    "name": "ipython",
    "version": 3
   },
   "file_extension": ".py",
   "mimetype": "text/x-python",
   "name": "python",
   "nbconvert_exporter": "python",
   "pygments_lexer": "ipython3",
   "version": "3.8.15"
  },
  "orig_nbformat": 4,
  "vscode": {
   "interpreter": {
    "hash": "def76ed885bc94f182c997508dd94bdc1bafad87e7bfd4e70b216ce388e01bfe"
   }
  }
 },
 "nbformat": 4,
 "nbformat_minor": 2
}
