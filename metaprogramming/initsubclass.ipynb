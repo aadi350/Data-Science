{
 "cells": [
  {
   "cell_type": "markdown",
   "metadata": {},
   "source": [
    "`__init_subclass__` was introduced in [PEP 487](https://peps.python.org/pep-0487/) and [according to James Powell](https://twitter.com/dontusethiscode/status/1466773372910587904?s=20) covers every use that was previously done in metaclasses (with the one exception being implementation of protocols on types). It's main purpose was to customize subclass creation\n",
    "\n",
    "Just to get it out of the way, let's see the order in which these functions are called (the other functions being `__new__` and `__init__`)"
   ]
  },
  {
   "cell_type": "code",
   "execution_count": 4,
   "metadata": {},
   "outputs": [
    {
     "name": "stdout",
     "output_type": "stream",
     "text": [
      "__init_subclass__\n"
     ]
    }
   ],
   "source": [
    "class Parent:\n",
    "    def __init__(self, *args, **kwargs) -> None:\n",
    "        print('Parent __init__')\n",
    "\n",
    "    def __new__(cls, *args, **kwargs):\n",
    "        print('Parent __new__')\n",
    "        return super().__new__(cls, *args, **kwargs)\n",
    "\n",
    "    def __init_subclass__(cls):\n",
    "        print('__init_subclass__')\n",
    "\n",
    "class Child(Parent):\n",
    "    def __init__(self, *args, **kwargs):\n",
    "        print('Child __init__')\n",
    "        super().__init__(*args, **kwargs)"
   ]
  },
  {
   "cell_type": "markdown",
   "metadata": {},
   "source": [
    "We see that `__init_subclass__` is run at time of *child* **class** creation, NOT instance creation\n",
    "\n",
    "Now if I create an instance of `Child`:"
   ]
  },
  {
   "cell_type": "code",
   "execution_count": 5,
   "metadata": {},
   "outputs": [
    {
     "name": "stdout",
     "output_type": "stream",
     "text": [
      "Parent __new__\n",
      "Child __init__\n",
      "Parent __init__\n"
     ]
    }
   ],
   "source": [
    "child_instance = Child()"
   ]
  },
  {
   "cell_type": "markdown",
   "metadata": {},
   "source": [
    "A deeper example:"
   ]
  },
  {
   "cell_type": "code",
   "execution_count": 1,
   "metadata": {},
   "outputs": [
    {
     "name": "stdout",
     "output_type": "stream",
     "text": [
      "<class '__main__.SubClass'> __init_subclass__\n",
      "Calling class :<class '__main__.B'>\n",
      "Calling name:a\n",
      "Calling class :<class '__main__.B'>\n",
      "Calling name:b\n",
      "Calling class :<class '__main__.B'>\n",
      "Calling name:c\n"
     ]
    },
    {
     "data": {
      "text/plain": [
       "\"\\nOutput:\\nCalling class :<class '__main__.B'>\\nCalling name:a\\nCalling class :<class '__main__.B'>\\nCalling name:b\\nCalling class :<class '__main__.B'>\\nCalling name:c\\n\""
      ]
     },
     "execution_count": 1,
     "metadata": {},
     "output_type": "execute_result"
    }
   ],
   "source": [
    "import os\n",
    "\n",
    "'''\n",
    "initsubclass so that we don't need metaclass\n",
    "'''\n",
    "\n",
    "class BaseClass:\n",
    "    def __init_subclass__(cls, **kwargs):\n",
    "        # does some initialization \n",
    "        print(f'{cls} __init_subclass__')\n",
    "        super().__init_subclass__(**kwargs)\n",
    "\n",
    "class SubClass(BaseClass):\n",
    "    pass\n",
    "\n",
    "import weakref\n",
    "\n",
    "class WeakAttribute:\n",
    "    def __init__(self, *args, **kwargs):\n",
    "        print('WeakAttribute __init__')\n",
    "        super().__init__(*args, **kwargs)\n",
    "\n",
    "    def __get__(self, instance, owner):\n",
    "        return instance.__dict__[self.name]()\n",
    "\n",
    "    def __set__(self, instance, value):\n",
    "        instance.__dict__[self.name] = weakref.ref(value)\n",
    "\n",
    "    def __set_name__(self, owner, name):\n",
    "        print(self, owner, name)\n",
    "        self.name = name\n",
    "\n",
    "'''\n",
    "The __set_name__ magic method lets you know \n",
    "where instances of this class are used and \n",
    "what attribute they are assigned to. \n",
    "The owner field is the class where it is used. \n",
    "The name field is the attribute name it is assigned \n",
    "to\n",
    "'''\n",
    "\n",
    "class A:\n",
    "    def __set_name__(self, owner, name):\n",
    "        print(f'Calling class :{owner}')\n",
    "        print(f'Calling name:{name}')\n",
    "\n",
    "class B:\n",
    "    a = A()\n",
    "    b = A()\n",
    "    c = A()\n"
   ]
  },
  {
   "cell_type": "code",
   "execution_count": 7,
   "metadata": {},
   "outputs": [
    {
     "name": "stdout",
     "output_type": "stream",
     "text": [
      "<function A.__init__ at 0x7f7b5a703160>\n",
      "<class 'int'>\n",
      "<class 'inspect._empty'>\n",
      "<function Base.__set_name__ at 0x7f7b5a703ee0>\n",
      "<class 'int'>\n",
      "<class 'inspect._empty'>\n",
      "<function A.branch_function at 0x7f7b5a7035e0>\n",
      "<class 'int'>\n",
      "<class 'inspect._empty'>\n"
     ]
    }
   ],
   "source": [
    "import inspect\n",
    "\n",
    "class Base:\n",
    "    @classmethod # put implicitly if left out\n",
    "    def __init_subclass__(cls, /, *args,  **kwargs) -> None:\n",
    "        for func_name, func in inspect.getmembers(cls, predicate=inspect.isfunction):\n",
    "            print(func)\n",
    "            for arg_name, parameter in list(inspect.signature(cls.branch_function).parameters.items())[1:]:\n",
    "                print(parameter.annotation)\n",
    "\n",
    "        super().__init_subclass__()\n",
    "\n",
    "    def __set_name__(self, owner, name):\n",
    "        print('__set_name__')\n",
    "        super().__set_name__(owner, name)\n",
    "\n",
    "\n",
    "class A(Base, a=1):\n",
    "    a: int \n",
    "    b: str \n",
    "\n",
    "    def branch_function(self, a:int, b):\n",
    "        pass\n",
    "\n",
    "    def __init__(self, a:int, b:str) -> None:\n",
    "        pass"
   ]
  },
  {
   "cell_type": "markdown",
   "metadata": {},
   "source": [
    "# Concrete Examples"
   ]
  },
  {
   "cell_type": "markdown",
   "metadata": {},
   "source": [
    "## Enforcing Type Hints\n",
    "\n",
    "We can use `__init_subclass__` to enforce that all methods in child classes use type hints (which can be further used for customizing method creation, better documentation, etc)\n",
    "\n",
    "We can extract functions from a class using `inspect.getmembers` and passing `isfunction` as its predicate:"
   ]
  },
  {
   "cell_type": "code",
   "execution_count": 8,
   "metadata": {},
   "outputs": [
    {
     "data": {
      "text/plain": [
       "<function __main__.A.__init__(self, a: int, b: str) -> None>"
      ]
     },
     "execution_count": 8,
     "metadata": {},
     "output_type": "execute_result"
    }
   ],
   "source": [
    "from optparse import OptionParser\n",
    "import inspect\n",
    "\n",
    "\n",
    "\n",
    "_, func= inspect.getmembers(A, predicate=inspect.isfunction)[0] # gets functions from class\n",
    "\n",
    "func\n"
   ]
  },
  {
   "cell_type": "markdown",
   "metadata": {},
   "source": [
    "In the following, in line 3, we get all functions and iterate through the function list. Line 7 is where we test for whether or not there's a type annotation, and raises an error on the first case of non-hinted parameters"
   ]
  },
  {
   "cell_type": "code",
   "execution_count": 40,
   "metadata": {},
   "outputs": [],
   "source": [
    "class EnforceTypeHints:\n",
    "    def __init_subclass__(cls) -> None:\n",
    "        method_list = inspect.getmembers(cls, predicate=inspect.isfunction)\n",
    "        for func_name, func in method_list: \n",
    "            for arg_name, parameter in list(inspect.signature(func).parameters.items())[1:]:\n",
    "                t = parameter.annotation\n",
    "                if t == inspect._empty: raise ValueError(f'Argument {arg_name} needs a type annotation')\n",
    "\n",
    "class TypeHinted(EnforceTypeHints):\n",
    "    def __init__(self, a: int) -> None:\n",
    "        super().__init__()\n"
   ]
  },
  {
   "cell_type": "markdown",
   "metadata": {},
   "source": [
    "like this"
   ]
  },
  {
   "cell_type": "code",
   "execution_count": 37,
   "metadata": {},
   "outputs": [
    {
     "ename": "ValueError",
     "evalue": "Argument a needs a type annotation",
     "output_type": "error",
     "traceback": [
      "\u001b[0;31m---------------------------------------------------------------------------\u001b[0m",
      "\u001b[0;31mValueError\u001b[0m                                Traceback (most recent call last)",
      "Cell \u001b[0;32mIn [37], line 1\u001b[0m\n\u001b[0;32m----> 1\u001b[0m \u001b[39mclass\u001b[39;00m \u001b[39mNotTypeHinted\u001b[39;00m(EnforceTypeHints):\n\u001b[1;32m      2\u001b[0m     \u001b[39mdef\u001b[39;00m \u001b[39m__init__\u001b[39m(\u001b[39mself\u001b[39m, a) \u001b[39m-\u001b[39m\u001b[39m>\u001b[39m \u001b[39mNone\u001b[39;00m:\n\u001b[1;32m      3\u001b[0m         \u001b[39msuper\u001b[39m()\u001b[39m.\u001b[39m\u001b[39m__init__\u001b[39m()\n",
      "Cell \u001b[0;32mIn [36], line 10\u001b[0m, in \u001b[0;36mEnforceTypeHints.__init_subclass__\u001b[0;34m(cls)\u001b[0m\n\u001b[1;32m      8\u001b[0m \u001b[39mfor\u001b[39;00m arg_name, parameter \u001b[39min\u001b[39;00m \u001b[39mlist\u001b[39m(inspect\u001b[39m.\u001b[39msignature(func)\u001b[39m.\u001b[39mparameters\u001b[39m.\u001b[39mitems())[\u001b[39m1\u001b[39m:]:\n\u001b[1;32m      9\u001b[0m     t \u001b[39m=\u001b[39m parameter\u001b[39m.\u001b[39mannotation\n\u001b[0;32m---> 10\u001b[0m     \u001b[39mif\u001b[39;00m t \u001b[39m==\u001b[39m inspect\u001b[39m.\u001b[39m_empty: \u001b[39mraise\u001b[39;00m \u001b[39mValueError\u001b[39;00m(\u001b[39mf\u001b[39m\u001b[39m'\u001b[39m\u001b[39mArgument \u001b[39m\u001b[39m{\u001b[39;00marg_name\u001b[39m}\u001b[39;00m\u001b[39m needs a type annotation\u001b[39m\u001b[39m'\u001b[39m)\n",
      "\u001b[0;31mValueError\u001b[0m: Argument a needs a type annotation"
     ]
    }
   ],
   "source": [
    "class NotTypeHinted(EnforceTypeHints):\n",
    "    def __init__(self, a) -> None:\n",
    "        super().__init__()"
   ]
  },
  {
   "cell_type": "markdown",
   "metadata": {},
   "source": [
    "## Subclass Registry\n",
    "\n",
    "This has few uses, two of which are for dynamic child-class generation and implementing the [plugin design pattern](https://stackoverflow.com/questions/51217271/the-plugin-design-pattern-explained-as-described-by-martin-fowler). In this case, a class attribute `subclasses` is used to store everychild class implemented"
   ]
  },
  {
   "cell_type": "code",
   "execution_count": 42,
   "metadata": {},
   "outputs": [],
   "source": [
    "class BaseClass:\n",
    "    subclasses = []\n",
    "\n",
    "    def __init_subclass__(cls, **kwargs) -> None:\n",
    "        super().__init_subclass__(**kwargs)\n",
    "        cls.subclasses.append(cls)\n",
    "\n",
    "class A(BaseClass):\n",
    "    pass\n",
    "\n",
    "class B(BaseClass):\n",
    "    pass "
   ]
  },
  {
   "cell_type": "code",
   "execution_count": 43,
   "metadata": {},
   "outputs": [
    {
     "data": {
      "text/plain": [
       "[__main__.A, __main__.B]"
      ]
     },
     "execution_count": 43,
     "metadata": {},
     "output_type": "execute_result"
    }
   ],
   "source": [
    "BaseClass.subclasses"
   ]
  },
  {
   "cell_type": "markdown",
   "metadata": {},
   "source": [
    "## Ensuring Method Implementation\n",
    "\n",
    "This is very useful, for example in ensuring that the interface of child classes matches what we wish it to be. For example, ensuring `transform` and `fit` are implemented in an sklearn-like transformer or `predict` and `evaluate` are implemented for a tensorflow-like model,\n",
    "\n",
    "In line 10, we iterate through the required-methods and use `hasattr` to test for method existence"
   ]
  },
  {
   "cell_type": "code",
   "execution_count": 44,
   "metadata": {},
   "outputs": [],
   "source": [
    "class Transformer:\n",
    "    subclasses = {}\n",
    "    required_methods = ['transform', 'fit']\n",
    "\n",
    "\n",
    "    def __init_subclass__(cls, **kwargs) -> None:\n",
    "        super().__init_subclass__(**kwargs)\n",
    "        cls.subclasses[cls.__name__] = cls\n",
    "\n",
    "        for method in Transformer.required_methods:\n",
    "            if not hasattr(cls, method):\n",
    "                raise NotImplementedError(f'Subclass of Transformer must implement the {method} method')\n",
    "\n",
    "class GoodTransformer(Transformer):\n",
    "    def transform(self, ):\n",
    "        pass\n",
    "\n",
    "    def fit(self, ):\n",
    "        pass\n",
    "    \n",
    "    "
   ]
  },
  {
   "cell_type": "markdown",
   "metadata": {},
   "source": [
    "If the methods are not implemented, we raise an error"
   ]
  },
  {
   "cell_type": "code",
   "execution_count": 45,
   "metadata": {},
   "outputs": [
    {
     "ename": "NotImplementedError",
     "evalue": "Subclass of Transformer must implement the transform method",
     "output_type": "error",
     "traceback": [
      "\u001b[0;31m---------------------------------------------------------------------------\u001b[0m",
      "\u001b[0;31mNotImplementedError\u001b[0m                       Traceback (most recent call last)",
      "Cell \u001b[0;32mIn [45], line 1\u001b[0m\n\u001b[0;32m----> 1\u001b[0m \u001b[39mclass\u001b[39;00m \u001b[39mBadTransformer\u001b[39;00m(Transformer):\n\u001b[1;32m      2\u001b[0m     \u001b[39mpass\u001b[39;00m\n",
      "Cell \u001b[0;32mIn [44], line 12\u001b[0m, in \u001b[0;36mTransformer.__init_subclass__\u001b[0;34m(cls, **kwargs)\u001b[0m\n\u001b[1;32m     10\u001b[0m \u001b[39mfor\u001b[39;00m method \u001b[39min\u001b[39;00m Transformer\u001b[39m.\u001b[39mrequired_methods:\n\u001b[1;32m     11\u001b[0m     \u001b[39mif\u001b[39;00m \u001b[39mnot\u001b[39;00m \u001b[39mhasattr\u001b[39m(\u001b[39mcls\u001b[39m, method):\n\u001b[0;32m---> 12\u001b[0m         \u001b[39mraise\u001b[39;00m \u001b[39mNotImplementedError\u001b[39;00m(\u001b[39mf\u001b[39m\u001b[39m'\u001b[39m\u001b[39mSubclass of Transformer must implement the \u001b[39m\u001b[39m{\u001b[39;00mmethod\u001b[39m}\u001b[39;00m\u001b[39m method\u001b[39m\u001b[39m'\u001b[39m)\n",
      "\u001b[0;31mNotImplementedError\u001b[0m: Subclass of Transformer must implement the transform method"
     ]
    }
   ],
   "source": [
    "class BadTransformer(Transformer):\n",
    "    pass"
   ]
  },
  {
   "cell_type": "markdown",
   "metadata": {},
   "source": [
    "## Customizing Methods for Prediction\n",
    "\n",
    "In this example, the Model class uses `__init_subclass__` to create a custom predict method for each subclass based on the input data type. The predict method checks the type of the input data and calls the appropriate implementation method based on the type. This can be useful in cases where you want to allow users to create models that can handle multiple data types, but you want to abstract away the details of how the data is processed from the user."
   ]
  },
  {
   "cell_type": "code",
   "execution_count": 1,
   "metadata": {},
   "outputs": [],
   "source": [
    "import cudf\n",
    "import pandas as pd\n",
    "\n",
    "class Model:\n",
    "    def __init_subclass__(cls, **kwargs):\n",
    "        super().__init_subclass__(**kwargs)\n",
    "        \n",
    "        # Create a custom \"predict\" method for each subclass based on the input data type\n",
    "        def predict(self, data):\n",
    "            if isinstance(data, pd.DataFrame):\n",
    "                return self._predict_df(data)\n",
    "            elif isinstance(data, pd.Series):\n",
    "                return self._predict_series(data)\n",
    "            else:\n",
    "                raise TypeError(\"Unsupported data type for prediction.\")\n",
    "        cls.predict = predict\n",
    "        \n",
    "        # Ensure that the subclass implements the required methods\n",
    "        required_methods = [\"_predict_df\", \"_predict_series\"]\n",
    "        for method in required_methods:\n",
    "            if not hasattr(cls, method):\n",
    "                raise NotImplementedError(f\"Subclass of Model must implement the '{method}' method.\")\n",
    "\n",
    "class CustomModel(Model):\n",
    "    def _predict_df(self, data):\n",
    "        # Implement prediction logic for DataFrames here\n",
    "        pass\n",
    "    \n",
    "    def _predict_series(self, data):\n",
    "        # Implement prediction logic for Series here\n",
    "        pass\n",
    "\n",
    "# Create an instance of the CustomModel\n",
    "model = CustomModel()\n",
    "\n",
    "# Predict using a DataFrame\n",
    "predictions = model.predict(pd.DataFrame({\"col1\": [1, 2, 3], \"col2\": [4, 5, 6]}))\n",
    "\n",
    "# Predict using a Series\n",
    "prediction = model.predict(pd.Series([1, 2, 3]))\n"
   ]
  },
  {
   "cell_type": "markdown",
   "metadata": {},
   "source": [
    "## Documenting Subclasses\n",
    "\n",
    "This was an unusual idea suggested by OpenAI's ChatGPT. In this example we can generate fancy documentation for all child-classes near automatically"
   ]
  },
  {
   "cell_type": "code",
   "execution_count": 3,
   "metadata": {},
   "outputs": [
    {
     "name": "stdout",
     "output_type": "stream",
     "text": [
      "SubClassA\n",
      "\n",
      "Attributes:\n",
      "- value: 1\n",
      "- method: <function SubClassA.method at 0x7f7a73d4e280>\n",
      "\n",
      "Methods:\n",
      "- method:\n",
      "  Documentation for method\n",
      "\n"
     ]
    }
   ],
   "source": [
    "class BaseClass:\n",
    "    def __init_subclass__(cls, **kwargs):\n",
    "        super().__init_subclass__(**kwargs)\n",
    "        \n",
    "        # Generate documentation for the subclass based on its attributes and methods\n",
    "        doc = f\"{cls.__name__}\\n\\n\"\n",
    "        doc += \"Attributes:\\n\"\n",
    "        for attr in cls.__dict__:\n",
    "            if not attr.startswith(\"__\"):\n",
    "                doc += f\"- {attr}: {getattr(cls, attr)}\\n\"\n",
    "        doc += \"\\nMethods:\\n\"\n",
    "        for method in cls.__dict__:\n",
    "            if callable(getattr(cls, method)) and not method.startswith(\"__\"):\n",
    "                doc += f\"- {method}:\\n\"\n",
    "                doc += f\"  {getattr(cls, method).__doc__}\\n\"\n",
    "        cls.__doc__ = doc\n",
    "\n",
    "class SubClassA(BaseClass):\n",
    "    \"\"\"Documentation for SubClassA\"\"\"\n",
    "    value = 1\n",
    "    \n",
    "    def method(self):\n",
    "        \"\"\"Documentation for method\"\"\"\n",
    "        pass\n",
    "\n",
    "print(SubClassA.__doc__)"
   ]
  }
 ],
 "metadata": {
  "kernelspec": {
   "display_name": "Python 3.9.13",
   "language": "python",
   "name": "python3"
  },
  "language_info": {
   "codemirror_mode": {
    "name": "ipython",
    "version": 3
   },
   "file_extension": ".py",
   "mimetype": "text/x-python",
   "name": "python",
   "nbconvert_exporter": "python",
   "pygments_lexer": "ipython3",
   "version": "3.9.13"
  },
  "orig_nbformat": 4,
  "vscode": {
   "interpreter": {
    "hash": "bf637861670536ddfb39eaaade84c9af25b9a5f9c737dcb31ec9715892d682eb"
   }
  }
 },
 "nbformat": 4,
 "nbformat_minor": 2
}
