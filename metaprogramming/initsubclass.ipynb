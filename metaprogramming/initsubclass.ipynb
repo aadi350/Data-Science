{
 "cells": [
  {
   "cell_type": "code",
   "execution_count": 1,
   "metadata": {},
   "outputs": [
    {
     "name": "stdout",
     "output_type": "stream",
     "text": [
      "<class '__main__.SubClass'> __init_subclass__\n",
      "Calling class :<class '__main__.B'>\n",
      "Calling name:a\n",
      "Calling class :<class '__main__.B'>\n",
      "Calling name:b\n",
      "Calling class :<class '__main__.B'>\n",
      "Calling name:c\n"
     ]
    },
    {
     "data": {
      "text/plain": [
       "\"\\nOutput:\\nCalling class :<class '__main__.B'>\\nCalling name:a\\nCalling class :<class '__main__.B'>\\nCalling name:b\\nCalling class :<class '__main__.B'>\\nCalling name:c\\n\""
      ]
     },
     "execution_count": 1,
     "metadata": {},
     "output_type": "execute_result"
    }
   ],
   "source": [
    "import os\n",
    "\n",
    "'''\n",
    "initsubclass so that we don't need metaclass\n",
    "'''\n",
    "\n",
    "class BaseClass:\n",
    "    def __init_subclass__(cls, **kwargs):\n",
    "        # does some initialization \n",
    "        print(f'{cls} __init_subclass__')\n",
    "        super().__init_subclass__(**kwargs)\n",
    "\n",
    "class SubClass(BaseClass):\n",
    "    pass\n",
    "\n",
    "import weakref\n",
    "\n",
    "class WeakAttribute:\n",
    "    def __init__(self, *args, **kwargs):\n",
    "        print('WeakAttribute __init__')\n",
    "        super().__init__(*args, **kwargs)\n",
    "\n",
    "    def __get__(self, instance, owner):\n",
    "        return instance.__dict__[self.name]()\n",
    "\n",
    "    def __set__(self, instance, value):\n",
    "        instance.__dict__[self.name] = weakref.ref(value)\n",
    "\n",
    "    def __set_name__(self, owner, name):\n",
    "        print(self, owner, name)\n",
    "        self.name = name\n",
    "\n",
    "'''\n",
    "The __set_name__ magic method lets you know \n",
    "where instances of this class are used and \n",
    "what attribute they are assigned to. \n",
    "The owner field is the class where it is used. \n",
    "The name field is the attribute name it is assigned \n",
    "to\n",
    "'''\n",
    "\n",
    "class A:\n",
    "    def __set_name__(self, owner, name):\n",
    "        print(f'Calling class :{owner}')\n",
    "        print(f'Calling name:{name}')\n",
    "\n",
    "class B:\n",
    "    a = A()\n",
    "    b = A()\n",
    "    c = A()\n",
    "\n",
    "'''\n",
    "Output:\n",
    "Calling class :<class '__main__.B'>\n",
    "Calling name:a\n",
    "Calling class :<class '__main__.B'>\n",
    "Calling name:b\n",
    "Calling class :<class '__main__.B'>\n",
    "Calling name:c\n",
    "'''\n"
   ]
  },
  {
   "cell_type": "code",
   "execution_count": 20,
   "metadata": {},
   "outputs": [
    {
     "name": "stdout",
     "output_type": "stream",
     "text": [
      "init_subclass run:  <class '__main__.A'>\n",
      "attrs:  ('a', 'b')\n"
     ]
    }
   ],
   "source": [
    "class Base:\n",
    "    def __init_subclass__(cls, **kwargs) -> None:\n",
    "        super().__init_subclass__()\n",
    "        attrs = tuple(cls.__annotations__.keys())\n",
    "        print('init_subclass run: ', cls)\n",
    "        print('attrs: ', attrs)\n",
    "\n",
    "\n",
    "class A(Base):\n",
    "    a: int \n",
    "    b: str \n",
    "\n",
    "    def __init__(self, a:int, b:str) -> None:\n",
    "        pass"
   ]
  },
  {
   "cell_type": "code",
   "execution_count": 21,
   "metadata": {},
   "outputs": [
    {
     "data": {
      "text/plain": [
       "<__main__.A at 0x7fa3dda25130>"
      ]
     },
     "execution_count": 21,
     "metadata": {},
     "output_type": "execute_result"
    }
   ],
   "source": [
    "A(1, 2)"
   ]
  },
  {
   "cell_type": "code",
   "execution_count": null,
   "metadata": {},
   "outputs": [],
   "source": [
    "A.__set"
   ]
  }
 ],
 "metadata": {
  "kernelspec": {
   "display_name": "Python 3.8.15 ('basic_clean')",
   "language": "python",
   "name": "python3"
  },
  "language_info": {
   "codemirror_mode": {
    "name": "ipython",
    "version": 3
   },
   "file_extension": ".py",
   "mimetype": "text/x-python",
   "name": "python",
   "nbconvert_exporter": "python",
   "pygments_lexer": "ipython3",
   "version": "3.8.15"
  },
  "orig_nbformat": 4,
  "vscode": {
   "interpreter": {
    "hash": "def76ed885bc94f182c997508dd94bdc1bafad87e7bfd4e70b216ce388e01bfe"
   }
  }
 },
 "nbformat": 4,
 "nbformat_minor": 2
}
