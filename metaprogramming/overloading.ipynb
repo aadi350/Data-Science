{
 "cells": [
  {
   "cell_type": "code",
   "execution_count": 2,
   "metadata": {},
   "outputs": [],
   "source": [
    "import abc"
   ]
  },
  {
   "cell_type": "code",
   "execution_count": 12,
   "metadata": {},
   "outputs": [],
   "source": [
    "def overload(f):\n",
    "    f.__overload__ = True\n",
    "    return f\n",
    "\n",
    "_MISSING = object()\n",
    "\n",
    "class OverloadList(list):\n",
    "    pass\n",
    "\n",
    "class OverloadDict(dict):\n",
    "    def __setitem__(self, __key, __value) -> None:\n",
    "\n",
    "\n",
    "        prior_value = self.get(__key, _MISSING)\n",
    "        overloaded = getattr(__value, '__overload__', False) \n",
    "\n",
    "        if prior_value is _MISSING:\n",
    "            insert_val = OverloadList([__value]) if overloaded else __value\n",
    "            super().__setitem__(__key, insert_val)\n",
    "        \n",
    "        elif isinstance(prior_value, OverloadList):\n",
    "            if not overloaded:\n",
    "                raise AttributeError \n",
    "            prior_value.append(__value)\n",
    "        else:\n",
    "            if overloaded:\n",
    "                raise AttributeError\n",
    "            \n",
    "            super().__setitem__(__key, __value)"
   ]
  },
  {
   "cell_type": "code",
   "execution_count": 27,
   "metadata": {},
   "outputs": [
    {
     "data": {
      "text/plain": [
       "__main__.OverloadList"
      ]
     },
     "execution_count": 27,
     "metadata": {},
     "output_type": "execute_result"
    }
   ],
   "source": [
    "@overload\n",
    "def foo():\n",
    "    print('test')\n",
    "\n",
    "\n",
    "\n",
    "o = OverloadDict()\n",
    "o['a'] = 1\n",
    "o['f'] = foo\n",
    "o['f'] = foo\n",
    "\n"
   ]
  },
  {
   "cell_type": "code",
   "execution_count": 23,
   "metadata": {},
   "outputs": [],
   "source": [
    "from typing import Any, Mapping\n",
    "\n",
    "class OverloadMeta(type):\n",
    "    @classmethod\n",
    "    def __prepare__(cls, __name: str, __bases: tuple, **kwds: Any) -> Mapping[str, object]:\n",
    "        return OverloadDict()\n",
    "\n",
    "    def __new__(cls, name, bases, namespace, **kwargs):\n",
    "        overload_namespace = {\n",
    "            key: Overload(val) if isinstance(val, OverloadList) else val for key, val in namespace.items()\n",
    "        }\n",
    "\n",
    "        return super().__new__(cls, name, bases, overload_namespace, **kwargs)"
   ]
  },
  {
   "cell_type": "code",
   "execution_count": 44,
   "metadata": {},
   "outputs": [
    {
     "name": "stdout",
     "output_type": "stream",
     "text": [
      "cls: <class '__main__.DummyMeta'>\n",
      "name: TestClass\n",
      "bases: ()\n",
      "namespace: {'__module__': '__main__', '__qualname__': 'TestClass', '__init__': <function TestClass.__init__ at 0x7fdf4135f310>, '__set_name__': <function TestClass.__set_name__ at 0x7fdf41a105e0>, 'foo': <function TestClass.foo at 0x7fdf42690f70>, 'baz': <function TestClass.baz at 0x7fdf42690ee0>}\n"
     ]
    }
   ],
   "source": [
    "class DummyMeta(type):\n",
    "    def __new__(cls, name, bases, namespace, **kwargs):\n",
    "        print(f'cls: {cls}')\n",
    "        print(f'name: {name}')\n",
    "        print(f'bases: {bases}')\n",
    "        print(f'namespace: {namespace}')\n",
    "\n",
    "        return super().__new__(cls, name, bases, namespace, **kwargs)\n",
    "\n",
    "\n",
    "\n",
    "class TestClass(metaclass=DummyMeta):\n",
    "    \n",
    "    def __init__(self) -> None:\n",
    "        pass\n",
    "\n",
    "    def __set_name__(self, owner, name):\n",
    "        print(f'__set_name__: {owner}, {name}')\n",
    "        self.name = name\n",
    "        self.owner = owner\n",
    "\n",
    "    def foo(self, a:str):\n",
    "        print('foo')\n",
    "\n",
    "    def baz(self, b:int):\n",
    "        print(b)"
   ]
  },
  {
   "cell_type": "code",
   "execution_count": 46,
   "metadata": {},
   "outputs": [
    {
     "data": {
      "text/plain": [
       "<bound method TestClass.__set_name__ of <__main__.TestClass object at 0x7fdf41459f70>>"
      ]
     },
     "execution_count": 46,
     "metadata": {},
     "output_type": "execute_result"
    }
   ],
   "source": [
    "t = TestClass()"
   ]
  },
  {
   "cell_type": "code",
   "execution_count": 22,
   "metadata": {},
   "outputs": [
    {
     "data": {
      "text/plain": [
       "<Signature (a: int, b: str) -> list>"
      ]
     },
     "execution_count": 22,
     "metadata": {},
     "output_type": "execute_result"
    }
   ],
   "source": [
    "import inspect\n",
    "\n",
    "def foo(a:int, b:str) -> list:\n",
    "    return []\n",
    "\n",
    "inspect.signature(foo)"
   ]
  },
  {
   "cell_type": "code",
   "execution_count": 36,
   "metadata": {},
   "outputs": [
    {
     "data": {
      "text/plain": [
       "{'f': [<function __main__.foo(a, b)>, <function __main__.foo(a, b, c)>]}"
      ]
     },
     "execution_count": 36,
     "metadata": {},
     "output_type": "execute_result"
    }
   ],
   "source": [
    "\n",
    "o = OverloadDict()\n",
    "\n",
    "@overload\n",
    "def foo(a, b):\n",
    "    return 'test'\n",
    "\n",
    "o['f'] = foo\n",
    "\n",
    "@overload\n",
    "def foo(a, b, c):\n",
    "    return 'test2'\n",
    "\n",
    "o['f'] = foo\n",
    "\n",
    "o"
   ]
  },
  {
   "cell_type": "code",
   "execution_count": 37,
   "metadata": {},
   "outputs": [
    {
     "data": {
      "text/plain": [
       "[<function __main__.foo(a, b)>, <function __main__.foo(a, b, c)>]"
      ]
     },
     "execution_count": 37,
     "metadata": {},
     "output_type": "execute_result"
    }
   ],
   "source": [
    "(overload_list := o['f'])"
   ]
  },
  {
   "cell_type": "code",
   "execution_count": 47,
   "metadata": {},
   "outputs": [
    {
     "data": {
      "text/plain": [
       "[<Signature (a, b)>, <Signature (a, b, c)>]"
      ]
     },
     "execution_count": 47,
     "metadata": {},
     "output_type": "execute_result"
    }
   ],
   "source": [
    "(signatures := [inspect.signature(f) for f in overload_list]) # THIS IS HOW WE MATCH"
   ]
  },
  {
   "cell_type": "code",
   "execution_count": 49,
   "metadata": {},
   "outputs": [
    {
     "name": "stdout",
     "output_type": "stream",
     "text": [
      "Help on method bind in module inspect:\n",
      "\n",
      "bind(*args, **kwargs) method of inspect.Signature instance\n",
      "    Get a BoundArguments object, that maps the passed `args`\n",
      "    and `kwargs` to the function's signature.  Raises `TypeError`\n",
      "    if the passed arguments can not be bound.\n",
      "\n"
     ]
    }
   ],
   "source": [
    "help(inspect.signature(overload_list[0]).bind)"
   ]
  },
  {
   "cell_type": "code",
   "execution_count": 51,
   "metadata": {},
   "outputs": [],
   "source": [
    "def _type_hint_matches(obj, hint):\n",
    "    # only works with concrete types, not things like Optional\n",
    "    return hint is inspect.Parameter.empty or isinstance(obj, hint)\n",
    "\n",
    "\n",
    "def _signature_matches(sig: inspect.Signature,\n",
    "                       bound_args: inspect.BoundArguments):\n",
    "    # doesn't handle type hints on *args or **kwargs\n",
    "    for name, arg in bound_args.arguments.items():\n",
    "        param = sig.parameters[name]\n",
    "        hint = param.annotation\n",
    "        if not _type_hint_matches(arg, hint):\n",
    "            return False\n",
    "    return True\n",
    "\n",
    "\n",
    "class NoMatchingOverload(Exception):\n",
    "    pass\n",
    "\n",
    "\n",
    "class BoundOverloadDispatcher:\n",
    "    def __init__(self, instance, owner_cls, name, overload_list, signatures):\n",
    "        self.instance = instance\n",
    "        self.owner_cls = owner_cls\n",
    "        self.name = name\n",
    "        self.overload_list = overload_list\n",
    "        self.signatures = signatures\n",
    "\n",
    "    def best_match(self, *args, **kwargs):\n",
    "        for f, sig in zip(self.overload_list, self.signatures):\n",
    "            try:\n",
    "                bound_args = sig.bind(self.instance, *args, **kwargs)\n",
    "            except TypeError:\n",
    "                pass  # missing/extra/unexpected args or kwargs\n",
    "            else:\n",
    "                bound_args.apply_defaults()\n",
    "                # just for demonstration, use the first one that matches\n",
    "                if _signature_matches(sig, bound_args):\n",
    "                    return f\n",
    "\n",
    "        raise NoMatchingOverload()\n",
    "\n",
    "    def __call__(self, *args, **kwargs):\n",
    "        try:\n",
    "            f = self.best_match(*args, **kwargs)\n",
    "        except NoMatchingOverload:\n",
    "            pass\n",
    "        else:\n",
    "            return f(self.instance, *args, **kwargs)\n",
    "\n",
    "        # no matching overload in owner class, check next in line\n",
    "        super_instance = super(self.owner_cls, self.instance)\n",
    "        super_call = getattr(super_instance, self.name, _MISSING)\n",
    "        if super_call is not _MISSING:\n",
    "            return super_call(*args, **kwargs)\n",
    "        else:\n",
    "            raise NoMatchingOverload()\n"
   ]
  },
  {
   "cell_type": "code",
   "execution_count": 62,
   "metadata": {},
   "outputs": [],
   "source": [
    "class Overload:\n",
    "    def __init__(self, overload_list) -> None:\n",
    "        self.overload_list = overload_list\n",
    "        self.signatures = [inspect.signature(f) for f in overload_list]\n",
    "\n",
    "    def __set_name__(self, owner, name):\n",
    "        self.owner = owner\n",
    "        self.name = name\n",
    "\n",
    "    def __get__(self, instance, _owner=None):\n",
    "        print(f'Overload: __get__ instance: {instance}, owner: {self.owner}')\n",
    "        if instance is None:\n",
    "            return self\n",
    "\n",
    "     \n",
    "        return BoundOverloadDispatcher(instance, self.owner, self.name, self.overload_list, self.signatures)"
   ]
  },
  {
   "cell_type": "code",
   "execution_count": 71,
   "metadata": {},
   "outputs": [],
   "source": [
    "class OverloadMeta(type):\n",
    "\n",
    "    @classmethod\n",
    "    def __prepare__(mcs, name, bases):\n",
    "        return OverloadDict()\n",
    "\n",
    "    def __new__(mcs, name, bases, namespace, **kwargs):\n",
    "        print('namespace: ', namespace)\n",
    "        overload_namespace = {\n",
    "            key: Overload(val) if isinstance(val, OverloadList) else val\n",
    "            for key, val in namespace.items()\n",
    "        }\n",
    "        return super().__new__(mcs, name, bases, overload_namespace, **kwargs)\n"
   ]
  },
  {
   "cell_type": "code",
   "execution_count": 72,
   "metadata": {},
   "outputs": [
    {
     "name": "stdout",
     "output_type": "stream",
     "text": [
      "namespace:  {'__module__': '__main__', '__qualname__': 'A', 'f': [<function A.f at 0x7fdf41b9cca0>, <function A.f at 0x7fdf41b9c5e0>]}\n"
     ]
    }
   ],
   "source": [
    "class A(metaclass=OverloadMeta):\n",
    "    @overload\n",
    "    def f(self, x:int):\n",
    "        print(f'A.f int overload', self, x)\n",
    "\n",
    "    @overload\n",
    "    def f(self, x:str):\n",
    "        print(f'A.f str overload', self, x)"
   ]
  },
  {
   "cell_type": "code",
   "execution_count": 69,
   "metadata": {},
   "outputs": [],
   "source": [
    "a = A()"
   ]
  },
  {
   "cell_type": "code",
   "execution_count": 70,
   "metadata": {},
   "outputs": [
    {
     "name": "stdout",
     "output_type": "stream",
     "text": [
      "Overload: __get__ instance: <__main__.A object at 0x7fdf40fa7160>, owner: <class '__main__.A'>\n",
      "A.f int overload <__main__.A object at 0x7fdf40fa7160> 1\n",
      "Overload: __get__ instance: <__main__.A object at 0x7fdf40fa7160>, owner: <class '__main__.A'>\n",
      "A.f str overload <__main__.A object at 0x7fdf40fa7160> 1\n"
     ]
    }
   ],
   "source": [
    "a.f(1)\n",
    "a.f('1')"
   ]
  },
  {
   "cell_type": "code",
   "execution_count": null,
   "metadata": {},
   "outputs": [],
   "source": []
  }
 ],
 "metadata": {
  "kernelspec": {
   "display_name": "Python 3.8.15 ('basic_clean')",
   "language": "python",
   "name": "python3"
  },
  "language_info": {
   "codemirror_mode": {
    "name": "ipython",
    "version": 3
   },
   "file_extension": ".py",
   "mimetype": "text/x-python",
   "name": "python",
   "nbconvert_exporter": "python",
   "pygments_lexer": "ipython3",
   "version": "3.8.15 (default, Nov  4 2022, 20:59:55) \n[GCC 11.2.0]"
  },
  "orig_nbformat": 4,
  "vscode": {
   "interpreter": {
    "hash": "def76ed885bc94f182c997508dd94bdc1bafad87e7bfd4e70b216ce388e01bfe"
   }
  }
 },
 "nbformat": 4,
 "nbformat_minor": 2
}
