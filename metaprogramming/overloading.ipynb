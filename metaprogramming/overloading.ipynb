{
 "cells": [
  {
   "attachments": {},
   "cell_type": "markdown",
   "metadata": {},
   "source": [
    "# Function Overloading\n",
    "## Within a Class"
   ]
  },
  {
   "cell_type": "code",
   "execution_count": 1,
   "metadata": {},
   "outputs": [],
   "source": [
    "import abc"
   ]
  },
  {
   "cell_type": "code",
   "execution_count": 2,
   "metadata": {},
   "outputs": [],
   "source": [
    "def overload(f):\n",
    "    f.__overload__ = True\n",
    "    return f\n",
    "\n",
    "_MISSING = object()\n",
    "\n",
    "class OverloadList(list):\n",
    "    pass\n",
    "\n",
    "class OverloadDict(dict):\n",
    "    def __setitem__(self, __key, __value) -> None:\n",
    "\n",
    "\n",
    "        prior_value = self.get(__key, _MISSING)\n",
    "        overloaded = getattr(__value, '__overload__', False) \n",
    "\n",
    "        if prior_value is _MISSING:\n",
    "            insert_val = OverloadList([__value]) if overloaded else __value\n",
    "            super().__setitem__(__key, insert_val)\n",
    "        \n",
    "        elif isinstance(prior_value, OverloadList):\n",
    "            if not overloaded:\n",
    "                raise AttributeError \n",
    "            prior_value.append(__value)\n",
    "        else:\n",
    "            if overloaded:\n",
    "                raise AttributeError\n",
    "            \n",
    "            super().__setitem__(__key, __value)"
   ]
  },
  {
   "cell_type": "code",
   "execution_count": 3,
   "metadata": {},
   "outputs": [],
   "source": [
    "@overload\n",
    "def foo():\n",
    "    print('test')\n",
    "\n",
    "\n",
    "\n",
    "o = OverloadDict()\n",
    "o['a'] = 1\n",
    "o['f'] = foo\n",
    "o['f'] = foo\n",
    "\n"
   ]
  },
  {
   "cell_type": "code",
   "execution_count": 4,
   "metadata": {},
   "outputs": [],
   "source": [
    "from typing import Any, Mapping\n",
    "\n",
    "class OverloadMeta(type):\n",
    "    @classmethod\n",
    "    def __prepare__(cls, __name: str, __bases: tuple, **kwds: Any) -> Mapping[str, object]:\n",
    "        return OverloadDict()\n",
    "\n",
    "    def __new__(cls, name, bases, namespace, **kwargs):\n",
    "        overload_namespace = {\n",
    "            key: Overload(val) if isinstance(val, OverloadList) else val for key, val in namespace.items()\n",
    "        }\n",
    "\n",
    "        return super().__new__(cls, name, bases, overload_namespace, **kwargs)"
   ]
  },
  {
   "cell_type": "code",
   "execution_count": 10,
   "metadata": {},
   "outputs": [
    {
     "ename": "NameError",
     "evalue": "name 'Overload' is not defined",
     "output_type": "error",
     "traceback": [
      "\u001b[0;31m---------------------------------------------------------------------------\u001b[0m",
      "\u001b[0;31mNameError\u001b[0m                                 Traceback (most recent call last)",
      "Cell \u001b[0;32mIn[10], line 12\u001b[0m\n\u001b[1;32m      6\u001b[0m         \u001b[39mprint\u001b[39m(\u001b[39mf\u001b[39m\u001b[39m'\u001b[39m\u001b[39mnamespace: \u001b[39m\u001b[39m{\u001b[39;00mnamespace\u001b[39m}\u001b[39;00m\u001b[39m'\u001b[39m)\n\u001b[1;32m      8\u001b[0m         \u001b[39mreturn\u001b[39;00m \u001b[39msuper\u001b[39m()\u001b[39m.\u001b[39m\u001b[39m__new__\u001b[39m(\u001b[39mcls\u001b[39m, name, bases, namespace, \u001b[39m*\u001b[39m\u001b[39m*\u001b[39mkwargs)\n\u001b[0;32m---> 12\u001b[0m \u001b[39mclass\u001b[39;00m \u001b[39mTestClass\u001b[39;00m(metaclass\u001b[39m=\u001b[39mOverloadMeta):\n\u001b[1;32m     14\u001b[0m     \u001b[39mdef\u001b[39;00m \u001b[39m__init__\u001b[39m(\u001b[39mself\u001b[39m) \u001b[39m-\u001b[39m\u001b[39m>\u001b[39m \u001b[39mNone\u001b[39;00m:\n\u001b[1;32m     15\u001b[0m         \u001b[39mpass\u001b[39;00m\n",
      "Cell \u001b[0;32mIn[4], line 9\u001b[0m, in \u001b[0;36mOverloadMeta.__new__\u001b[0;34m(cls, name, bases, namespace, **kwargs)\u001b[0m\n\u001b[1;32m      8\u001b[0m \u001b[39mdef\u001b[39;00m \u001b[39m__new__\u001b[39m(\u001b[39mcls\u001b[39m, name, bases, namespace, \u001b[39m*\u001b[39m\u001b[39m*\u001b[39mkwargs):\n\u001b[0;32m----> 9\u001b[0m     overload_namespace \u001b[39m=\u001b[39m {\n\u001b[1;32m     10\u001b[0m         key: Overload(val) \u001b[39mif\u001b[39;00m \u001b[39misinstance\u001b[39m(val, OverloadList) \u001b[39melse\u001b[39;00m val \u001b[39mfor\u001b[39;00m key, val \u001b[39min\u001b[39;00m namespace\u001b[39m.\u001b[39mitems()\n\u001b[1;32m     11\u001b[0m     }\n\u001b[1;32m     13\u001b[0m     \u001b[39mreturn\u001b[39;00m \u001b[39msuper\u001b[39m()\u001b[39m.\u001b[39m\u001b[39m__new__\u001b[39m(\u001b[39mcls\u001b[39m, name, bases, overload_namespace, \u001b[39m*\u001b[39m\u001b[39m*\u001b[39mkwargs)\n",
      "Cell \u001b[0;32mIn[4], line 10\u001b[0m, in \u001b[0;36m<dictcomp>\u001b[0;34m(.0)\u001b[0m\n\u001b[1;32m      8\u001b[0m \u001b[39mdef\u001b[39;00m \u001b[39m__new__\u001b[39m(\u001b[39mcls\u001b[39m, name, bases, namespace, \u001b[39m*\u001b[39m\u001b[39m*\u001b[39mkwargs):\n\u001b[1;32m      9\u001b[0m     overload_namespace \u001b[39m=\u001b[39m {\n\u001b[0;32m---> 10\u001b[0m         key: Overload(val) \u001b[39mif\u001b[39;00m \u001b[39misinstance\u001b[39m(val, OverloadList) \u001b[39melse\u001b[39;00m val \u001b[39mfor\u001b[39;00m key, val \u001b[39min\u001b[39;00m namespace\u001b[39m.\u001b[39mitems()\n\u001b[1;32m     11\u001b[0m     }\n\u001b[1;32m     13\u001b[0m     \u001b[39mreturn\u001b[39;00m \u001b[39msuper\u001b[39m()\u001b[39m.\u001b[39m\u001b[39m__new__\u001b[39m(\u001b[39mcls\u001b[39m, name, bases, overload_namespace, \u001b[39m*\u001b[39m\u001b[39m*\u001b[39mkwargs)\n",
      "\u001b[0;31mNameError\u001b[0m: name 'Overload' is not defined"
     ]
    }
   ],
   "source": [
    "class DummyMeta(type):\n",
    "    def __new__(cls, name, bases, namespace, **kwargs):\n",
    "        print(f'cls: {cls}')\n",
    "        print(f'name: {name}')\n",
    "        print(f'bases: {bases}')\n",
    "        print(f'namespace: {namespace}')\n",
    "\n",
    "        return super().__new__(cls, name, bases, namespace, **kwargs)\n",
    "\n",
    "\n",
    "\n",
    "class TestClass(metaclass=OverloadMeta):\n",
    "    \n",
    "    def __init__(self) -> None:\n",
    "        pass\n",
    "\n",
    "    def __set_name__(self, owner, name):\n",
    "        print(f'__set_name__: {owner}, {name}')\n",
    "        self.name = name\n",
    "        self.owner = owner\n",
    "\n",
    "    @overload\n",
    "    def foo(self, a:str):\n",
    "        print('foo')\n",
    "\n",
    "    @overload\n",
    "    def foo(self, b:int):\n",
    "        print(b)"
   ]
  },
  {
   "cell_type": "code",
   "execution_count": 8,
   "metadata": {},
   "outputs": [],
   "source": [
    "t = TestClass()"
   ]
  },
  {
   "cell_type": "code",
   "execution_count": 22,
   "metadata": {},
   "outputs": [
    {
     "data": {
      "text/plain": [
       "<Signature (a: int, b: str) -> list>"
      ]
     },
     "execution_count": 22,
     "metadata": {},
     "output_type": "execute_result"
    }
   ],
   "source": [
    "import inspect\n",
    "\n",
    "def foo(a:int, b:str) -> list:\n",
    "    return []\n",
    "\n",
    "inspect.signature(foo)"
   ]
  },
  {
   "cell_type": "code",
   "execution_count": 36,
   "metadata": {},
   "outputs": [
    {
     "data": {
      "text/plain": [
       "{'f': [<function __main__.foo(a, b)>, <function __main__.foo(a, b, c)>]}"
      ]
     },
     "execution_count": 36,
     "metadata": {},
     "output_type": "execute_result"
    }
   ],
   "source": [
    "\n",
    "o = OverloadDict()\n",
    "\n",
    "@overload\n",
    "def foo(a, b):\n",
    "    return 'test'\n",
    "\n",
    "o['f'] = foo\n",
    "\n",
    "@overload\n",
    "def foo(a, b, c):\n",
    "    return 'test2'\n",
    "\n",
    "o['f'] = foo\n",
    "\n",
    "o"
   ]
  },
  {
   "cell_type": "code",
   "execution_count": 37,
   "metadata": {},
   "outputs": [
    {
     "data": {
      "text/plain": [
       "[<function __main__.foo(a, b)>, <function __main__.foo(a, b, c)>]"
      ]
     },
     "execution_count": 37,
     "metadata": {},
     "output_type": "execute_result"
    }
   ],
   "source": [
    "(overload_list := o['f'])"
   ]
  },
  {
   "cell_type": "code",
   "execution_count": 47,
   "metadata": {},
   "outputs": [
    {
     "data": {
      "text/plain": [
       "[<Signature (a, b)>, <Signature (a, b, c)>]"
      ]
     },
     "execution_count": 47,
     "metadata": {},
     "output_type": "execute_result"
    }
   ],
   "source": [
    "(signatures := [inspect.signature(f) for f in overload_list]) # THIS IS HOW WE MATCH"
   ]
  },
  {
   "cell_type": "code",
   "execution_count": 49,
   "metadata": {},
   "outputs": [
    {
     "name": "stdout",
     "output_type": "stream",
     "text": [
      "Help on method bind in module inspect:\n",
      "\n",
      "bind(*args, **kwargs) method of inspect.Signature instance\n",
      "    Get a BoundArguments object, that maps the passed `args`\n",
      "    and `kwargs` to the function's signature.  Raises `TypeError`\n",
      "    if the passed arguments can not be bound.\n",
      "\n"
     ]
    }
   ],
   "source": [
    "help(inspect.signature(overload_list[0]).bind)"
   ]
  },
  {
   "cell_type": "code",
   "execution_count": 51,
   "metadata": {},
   "outputs": [],
   "source": [
    "def _type_hint_matches(obj, hint):\n",
    "    # only works with concrete types, not things like Optional\n",
    "    return hint is inspect.Parameter.empty or isinstance(obj, hint)\n",
    "\n",
    "\n",
    "def _signature_matches(sig: inspect.Signature,\n",
    "                       bound_args: inspect.BoundArguments):\n",
    "    # doesn't handle type hints on *args or **kwargs\n",
    "    for name, arg in bound_args.arguments.items():\n",
    "        param = sig.parameters[name]\n",
    "        hint = param.annotation\n",
    "        if not _type_hint_matches(arg, hint):\n",
    "            return False\n",
    "    return True\n",
    "\n",
    "\n",
    "class NoMatchingOverload(Exception):\n",
    "    pass\n",
    "\n",
    "\n",
    "class BoundOverloadDispatcher:\n",
    "    def __init__(self, instance, owner_cls, name, overload_list, signatures):\n",
    "        self.instance = instance\n",
    "        self.owner_cls = owner_cls\n",
    "        self.name = name\n",
    "        self.overload_list = overload_list\n",
    "        self.signatures = signatures\n",
    "\n",
    "    def best_match(self, *args, **kwargs):\n",
    "        for f, sig in zip(self.overload_list, self.signatures):\n",
    "            try:\n",
    "                bound_args = sig.bind(self.instance, *args, **kwargs)\n",
    "            except TypeError:\n",
    "                pass  # missing/extra/unexpected args or kwargs\n",
    "            else:\n",
    "                bound_args.apply_defaults()\n",
    "                # just for demonstration, use the first one that matches\n",
    "                if _signature_matches(sig, bound_args):\n",
    "                    return f\n",
    "\n",
    "        raise NoMatchingOverload()\n",
    "\n",
    "    def __call__(self, *args, **kwargs):\n",
    "        try:\n",
    "            f = self.best_match(*args, **kwargs)\n",
    "        except NoMatchingOverload:\n",
    "            pass\n",
    "        else:\n",
    "            return f(self.instance, *args, **kwargs)\n",
    "\n",
    "        # no matching overload in owner class, check next in line\n",
    "        super_instance = super(self.owner_cls, self.instance)\n",
    "        super_call = getattr(super_instance, self.name, _MISSING)\n",
    "        if super_call is not _MISSING:\n",
    "            return super_call(*args, **kwargs)\n",
    "        else:\n",
    "            raise NoMatchingOverload()\n"
   ]
  },
  {
   "cell_type": "code",
   "execution_count": 62,
   "metadata": {},
   "outputs": [],
   "source": [
    "class Overload:\n",
    "    def __init__(self, overload_list) -> None:\n",
    "        self.overload_list = overload_list\n",
    "        self.signatures = [inspect.signature(f) for f in overload_list]\n",
    "\n",
    "    def __set_name__(self, owner, name):\n",
    "        self.owner = owner\n",
    "        self.name = name\n",
    "\n",
    "    def __get__(self, instance, _owner=None):\n",
    "        print(f'Overload: __get__ instance: {instance}, owner: {self.owner}')\n",
    "        if instance is None:\n",
    "            return self\n",
    "\n",
    "     \n",
    "        return BoundOverloadDispatcher(instance, self.owner, self.name, self.overload_list, self.signatures)"
   ]
  },
  {
   "cell_type": "code",
   "execution_count": 71,
   "metadata": {},
   "outputs": [],
   "source": [
    "class OverloadMeta(type):\n",
    "\n",
    "    @classmethod\n",
    "    def __prepare__(mcs, name, bases):\n",
    "        return OverloadDict()\n",
    "\n",
    "    def __new__(mcs, name, bases, namespace, **kwargs):\n",
    "        print('namespace: ', namespace)\n",
    "        overload_namespace = {\n",
    "            key: Overload(val) if isinstance(val, OverloadList) else val\n",
    "            for key, val in namespace.items()\n",
    "        }\n",
    "        return super().__new__(mcs, name, bases, overload_namespace, **kwargs)\n"
   ]
  },
  {
   "cell_type": "code",
   "execution_count": 72,
   "metadata": {},
   "outputs": [
    {
     "name": "stdout",
     "output_type": "stream",
     "text": [
      "namespace:  {'__module__': '__main__', '__qualname__': 'A', 'f': [<function A.f at 0x7fdf41b9cca0>, <function A.f at 0x7fdf41b9c5e0>]}\n"
     ]
    }
   ],
   "source": [
    "class A(metaclass=OverloadMeta):\n",
    "    @overload\n",
    "    def f(self, x:int):\n",
    "        print(f'A.f int overload', self, x)\n",
    "\n",
    "    @overload\n",
    "    def f(self, x:str):\n",
    "        print(f'A.f str overload', self, x)"
   ]
  },
  {
   "cell_type": "code",
   "execution_count": 69,
   "metadata": {},
   "outputs": [],
   "source": [
    "a = A()"
   ]
  },
  {
   "attachments": {},
   "cell_type": "markdown",
   "metadata": {},
   "source": [
    "## Globally?"
   ]
  },
  {
   "cell_type": "code",
   "execution_count": 26,
   "metadata": {},
   "outputs": [],
   "source": [
    "from dis import dis\n",
    "#restart kernel here\n",
    "def foo():\n",
    "    print('foo') \n"
   ]
  },
  {
   "cell_type": "code",
   "execution_count": 27,
   "metadata": {},
   "outputs": [
    {
     "name": "stdout",
     "output_type": "stream",
     "text": [
      "Help on built-in function globals in module builtins:\n",
      "\n",
      "globals()\n",
      "    Return the dictionary containing the current scope's global variables.\n",
      "    \n",
      "    NOTE: Updates to this dictionary *will* affect name lookups in the current\n",
      "    global scope and vice-versa.\n",
      "\n"
     ]
    }
   ],
   "source": [
    "help(globals)"
   ]
  },
  {
   "cell_type": "code",
   "execution_count": 28,
   "metadata": {},
   "outputs": [],
   "source": [
    "def overload(f):\n",
    "    globals().update"
   ]
  },
  {
   "cell_type": "code",
   "execution_count": 29,
   "metadata": {},
   "outputs": [
    {
     "name": "stdout",
     "output_type": "stream",
     "text": [
      "foo\n"
     ]
    },
    {
     "data": {
      "text/plain": [
       "(None, 'foo')"
      ]
     },
     "execution_count": 29,
     "metadata": {},
     "output_type": "execute_result"
    }
   ],
   "source": [
    "foo(), foo.__name__"
   ]
  },
  {
   "cell_type": "code",
   "execution_count": 30,
   "metadata": {},
   "outputs": [],
   "source": [
    "def not_foo():\n",
    "    print('not foo')\n",
    "globals().update({'foo': not_foo})"
   ]
  },
  {
   "cell_type": "code",
   "execution_count": 31,
   "metadata": {},
   "outputs": [
    {
     "name": "stdout",
     "output_type": "stream",
     "text": [
      "not foo\n"
     ]
    }
   ],
   "source": [
    "foo() # OMG IT WORKED"
   ]
  },
  {
   "cell_type": "code",
   "execution_count": 32,
   "metadata": {},
   "outputs": [
    {
     "data": {
      "text/plain": [
       "'not_foo'"
      ]
     },
     "execution_count": 32,
     "metadata": {},
     "output_type": "execute_result"
    }
   ],
   "source": [
    "foo.__name__"
   ]
  },
  {
   "cell_type": "code",
   "execution_count": 43,
   "metadata": {},
   "outputs": [
    {
     "data": {
      "text/plain": [
       "<function __main__.not_foo()>"
      ]
     },
     "execution_count": 43,
     "metadata": {},
     "output_type": "execute_result"
    }
   ],
   "source": [
    "globals().__getitem__('not_foo')"
   ]
  },
  {
   "cell_type": "code",
   "execution_count": 51,
   "metadata": {},
   "outputs": [
    {
     "ename": "AttributeError",
     "evalue": "'dict' object has no attribute 'foo'",
     "output_type": "error",
     "traceback": [
      "\u001b[0;31m---------------------------------------------------------------------------\u001b[0m",
      "\u001b[0;31mAttributeError\u001b[0m                            Traceback (most recent call last)",
      "Cell \u001b[0;32mIn[51], line 11\u001b[0m\n\u001b[1;32m      5\u001b[0m     \u001b[39mprint\u001b[39m(\u001b[39m'\u001b[39m\u001b[39mnot_foo\u001b[39m\u001b[39m'\u001b[39m)\n\u001b[1;32m      7\u001b[0m d \u001b[39m=\u001b[39m {\n\u001b[1;32m      8\u001b[0m     \u001b[39m'\u001b[39m\u001b[39mfoo\u001b[39m\u001b[39m'\u001b[39m: foo,\n\u001b[1;32m      9\u001b[0m     \u001b[39m'\u001b[39m\u001b[39mnot_foo\u001b[39m\u001b[39m'\u001b[39m: not_foo,\n\u001b[1;32m     10\u001b[0m }\n\u001b[0;32m---> 11\u001b[0m d\u001b[39m.\u001b[39;49m\u001b[39m__getattribute__\u001b[39;49m(\u001b[39m'\u001b[39;49m\u001b[39mfoo\u001b[39;49m\u001b[39m'\u001b[39;49m)\n",
      "\u001b[0;31mAttributeError\u001b[0m: 'dict' object has no attribute 'foo'"
     ]
    }
   ],
   "source": [
    "def foo():\n",
    "    print('foo')\n",
    "\n",
    "def not_foo():\n",
    "    print('not_foo')\n",
    "\n",
    "d = {\n",
    "    'foo': foo,\n",
    "    'not_foo': not_foo,\n",
    "}\n",
    "d.__getattribute__('foo'.__getattribute__('foo')"
   ]
  },
  {
   "cell_type": "code",
   "execution_count": 56,
   "metadata": {},
   "outputs": [
    {
     "ename": "TypeError",
     "evalue": "don't know how to disassemble wrapper_descriptor objects",
     "output_type": "error",
     "traceback": [
      "\u001b[0;31m---------------------------------------------------------------------------\u001b[0m",
      "\u001b[0;31mTypeError\u001b[0m                                 Traceback (most recent call last)",
      "Cell \u001b[0;32mIn[56], line 7\u001b[0m\n\u001b[1;32m      1\u001b[0m \u001b[39mclass\u001b[39;00m \u001b[39mA\u001b[39;00m:\n\u001b[1;32m      2\u001b[0m     b \u001b[39m=\u001b[39m \u001b[39m10\u001b[39m\n\u001b[0;32m----> 7\u001b[0m dis(A\u001b[39m.\u001b[39;49m\u001b[39m__getattribute__\u001b[39;49m)\n",
      "File \u001b[0;32m~/miniconda3/envs/basic_clean/lib/python3.10/dis.py:85\u001b[0m, in \u001b[0;36mdis\u001b[0;34m(x, file, depth)\u001b[0m\n\u001b[1;32m     83\u001b[0m     _disassemble_str(x, file\u001b[39m=\u001b[39mfile, depth\u001b[39m=\u001b[39mdepth)\n\u001b[1;32m     84\u001b[0m \u001b[39melse\u001b[39;00m:\n\u001b[0;32m---> 85\u001b[0m     \u001b[39mraise\u001b[39;00m \u001b[39mTypeError\u001b[39;00m(\u001b[39m\"\u001b[39m\u001b[39mdon\u001b[39m\u001b[39m'\u001b[39m\u001b[39mt know how to disassemble \u001b[39m\u001b[39m%s\u001b[39;00m\u001b[39m objects\u001b[39m\u001b[39m\"\u001b[39m \u001b[39m%\u001b[39m\n\u001b[1;32m     86\u001b[0m                     \u001b[39mtype\u001b[39m(x)\u001b[39m.\u001b[39m\u001b[39m__name__\u001b[39m)\n",
      "\u001b[0;31mTypeError\u001b[0m: don't know how to disassemble wrapper_descriptor objects"
     ]
    }
   ],
   "source": [
    "class A:\n",
    "    b = 10\n",
    "\n",
    "\n",
    "\n",
    "\n",
    "dis(A.__getattribute__)"
   ]
  },
  {
   "cell_type": "code",
   "execution_count": 1,
   "metadata": {},
   "outputs": [
    {
     "data": {
      "text/plain": [
       "{'__name__': '__main__',\n",
       " '__doc__': 'Automatically created module for IPython interactive environment',\n",
       " '__package__': None,\n",
       " '__loader__': None,\n",
       " '__spec__': None,\n",
       " '__builtin__': <module 'builtins' (built-in)>,\n",
       " '__builtins__': <module 'builtins' (built-in)>,\n",
       " '_ih': ['', 'globals()'],\n",
       " '_oh': {},\n",
       " '_dh': [PosixPath('/storage/projects/notes/metaprogramming'),\n",
       "  PosixPath('/storage/projects/notes/metaprogramming')],\n",
       " 'In': ['', 'globals()'],\n",
       " 'Out': {},\n",
       " 'get_ipython': <bound method InteractiveShell.get_ipython of <ipykernel.zmqshell.ZMQInteractiveShell object at 0x7f027062b2e0>>,\n",
       " 'exit': <IPython.core.autocall.ZMQExitAutocall at 0x7f0270629750>,\n",
       " 'quit': <IPython.core.autocall.ZMQExitAutocall at 0x7f0270629750>,\n",
       " 'open': <function io.open(file, mode='r', buffering=-1, encoding=None, errors=None, newline=None, closefd=True, opener=None)>,\n",
       " '_': '',\n",
       " '__': '',\n",
       " '___': '',\n",
       " 'sys': <module 'sys' (built-in)>,\n",
       " 'os': <module 'os' from '/home/aadi/miniconda3/envs/basic_clean/lib/python3.10/os.py'>,\n",
       " '__vsc_ipynb_file__': '/storage/projects/notes/metaprogramming/overloading.ipynb',\n",
       " '_i': '',\n",
       " '_ii': '',\n",
       " '_iii': '',\n",
       " '_i1': 'globals()'}"
      ]
     },
     "execution_count": 1,
     "metadata": {},
     "output_type": "execute_result"
    }
   ],
   "source": [
    "globals()"
   ]
  },
  {
   "cell_type": "code",
   "execution_count": 2,
   "metadata": {},
   "outputs": [],
   "source": [
    "def foo():\n",
    "    print('foo')"
   ]
  },
  {
   "cell_type": "code",
   "execution_count": 3,
   "metadata": {},
   "outputs": [
    {
     "data": {
      "text/plain": [
       "{'__name__': '__main__',\n",
       " '__doc__': 'Automatically created module for IPython interactive environment',\n",
       " '__package__': None,\n",
       " '__loader__': None,\n",
       " '__spec__': None,\n",
       " '__builtin__': <module 'builtins' (built-in)>,\n",
       " '__builtins__': <module 'builtins' (built-in)>,\n",
       " '_ih': ['', 'globals()', \"def foo():\\n    print('foo')\", 'globals()'],\n",
       " '_oh': {1: {...}},\n",
       " '_dh': [PosixPath('/storage/projects/notes/metaprogramming'),\n",
       "  PosixPath('/storage/projects/notes/metaprogramming')],\n",
       " 'In': ['', 'globals()', \"def foo():\\n    print('foo')\", 'globals()'],\n",
       " 'Out': {1: {...}},\n",
       " 'get_ipython': <bound method InteractiveShell.get_ipython of <ipykernel.zmqshell.ZMQInteractiveShell object at 0x7f027062b2e0>>,\n",
       " 'exit': <IPython.core.autocall.ZMQExitAutocall at 0x7f0270629750>,\n",
       " 'quit': <IPython.core.autocall.ZMQExitAutocall at 0x7f0270629750>,\n",
       " 'open': <function io.open(file, mode='r', buffering=-1, encoding=None, errors=None, newline=None, closefd=True, opener=None)>,\n",
       " '_': {...},\n",
       " '__': '',\n",
       " '___': '',\n",
       " 'sys': <module 'sys' (built-in)>,\n",
       " 'os': <module 'os' from '/home/aadi/miniconda3/envs/basic_clean/lib/python3.10/os.py'>,\n",
       " '__vsc_ipynb_file__': '/storage/projects/notes/metaprogramming/overloading.ipynb',\n",
       " '_i': \"def foo():\\n    print('foo')\",\n",
       " '_ii': 'globals()',\n",
       " '_iii': '',\n",
       " '_i1': 'globals()',\n",
       " '_1': {...},\n",
       " '_i2': \"def foo():\\n    print('foo')\",\n",
       " 'foo': <function __main__.foo()>,\n",
       " '_i3': 'globals()'}"
      ]
     },
     "execution_count": 3,
     "metadata": {},
     "output_type": "execute_result"
    }
   ],
   "source": [
    "globals()"
   ]
  },
  {
   "cell_type": "code",
   "execution_count": 6,
   "metadata": {},
   "outputs": [
    {
     "name": "stdout",
     "output_type": "stream",
     "text": [
      "1 2\n"
     ]
    }
   ],
   "source": [
    "def foo(a):\n",
    "    print(a)\n",
    "\n",
    "def foo(a, b):\n",
    "    print(a, b)\n",
    "\n",
    "globals().__getitem__('foo')(1, 2)"
   ]
  },
  {
   "cell_type": "code",
   "execution_count": 7,
   "metadata": {},
   "outputs": [],
   "source": [
    "foo.__overload__ = True"
   ]
  },
  {
   "cell_type": "code",
   "execution_count": 1,
   "metadata": {},
   "outputs": [
    {
     "name": "stdout",
     "output_type": "stream",
     "text": [
      "foo\n"
     ]
    }
   ],
   "source": [
    "def foo():\n",
    "    print('foo')\n",
    "\n",
    "foo()"
   ]
  },
  {
   "cell_type": "code",
   "execution_count": 3,
   "metadata": {},
   "outputs": [],
   "source": [
    "def not_foo():\n",
    "    print('not foo')\n",
    "\n",
    "globals().update({'foo': not_foo})"
   ]
  },
  {
   "cell_type": "code",
   "execution_count": 4,
   "metadata": {},
   "outputs": [
    {
     "name": "stdout",
     "output_type": "stream",
     "text": [
      "not foo\n"
     ]
    }
   ],
   "source": [
    "foo()"
   ]
  },
  {
   "cell_type": "code",
   "execution_count": null,
   "metadata": {},
   "outputs": [],
   "source": [
    "def predict(data):\n",
    "    # eepxtec pandasbb\n",
    "    pass\n",
    "def predict(data):\n",
    "    # expects pyarp\n",
    "    pass\n",
    "\n"
   ]
  }
 ],
 "metadata": {
  "kernelspec": {
   "display_name": "Python 3.8.15 ('basic_clean')",
   "language": "python",
   "name": "python3"
  },
  "language_info": {
   "codemirror_mode": {
    "name": "ipython",
    "version": 3
   },
   "file_extension": ".py",
   "mimetype": "text/x-python",
   "name": "python",
   "nbconvert_exporter": "python",
   "pygments_lexer": "ipython3",
   "version": "3.10.8"
  },
  "orig_nbformat": 4,
  "vscode": {
   "interpreter": {
    "hash": "def76ed885bc94f182c997508dd94bdc1bafad87e7bfd4e70b216ce388e01bfe"
   }
  }
 },
 "nbformat": 4,
 "nbformat_minor": 2
}
