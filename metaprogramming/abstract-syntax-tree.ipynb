{
 "cells": [
  {
   "cell_type": "code",
   "execution_count": 2,
   "metadata": {},
   "outputs": [],
   "source": [
    "import ast"
   ]
  },
  {
   "cell_type": "code",
   "execution_count": 4,
   "metadata": {},
   "outputs": [
    {
     "data": {
      "text/plain": [
       "\"name = 'iPhone'\""
      ]
     },
     "execution_count": 4,
     "metadata": {},
     "output_type": "execute_result"
    }
   ],
   "source": [
    "a = \"name = 'iPhone'\"\n",
    "a"
   ]
  },
  {
   "cell_type": "code",
   "execution_count": 9,
   "metadata": {},
   "outputs": [
    {
     "name": "stdout",
     "output_type": "stream",
     "text": [
      "Module(\n",
      "  body=[\n",
      "    Assign(\n",
      "      targets=[\n",
      "        Name(id='name', ctx=Store())],\n",
      "      value=Constant(value='iPhone'))],\n",
      "  type_ignores=[])\n"
     ]
    }
   ],
   "source": [
    "a_tree = ast.parse(a)\n",
    "print(ast.dump(a_tree, indent=2))"
   ]
  },
  {
   "cell_type": "code",
   "execution_count": 10,
   "metadata": {},
   "outputs": [
    {
     "name": "stdout",
     "output_type": "stream",
     "text": [
      "Module(\n",
      "  body=[\n",
      "    Assign(\n",
      "      targets=[\n",
      "        Name(id='a', ctx=Store())],\n",
      "      value=Constant(value=1024)),\n",
      "    Assign(\n",
      "      targets=[\n",
      "        Name(id='b', ctx=Store())],\n",
      "      value=Constant(value=2032)),\n",
      "    Assign(\n",
      "      targets=[\n",
      "        Name(id='c', ctx=Store())],\n",
      "      value=BinOp(\n",
      "        left=Name(id='a', ctx=Load()),\n",
      "        op=Add(),\n",
      "        right=Name(id='b', ctx=Load()))),\n",
      "    Expr(\n",
      "      value=Call(\n",
      "        func=Name(id='print', ctx=Load()),\n",
      "        args=[\n",
      "          Name(id='c', ctx=Load())],\n",
      "        keywords=[]))],\n",
      "  type_ignores=[])\n"
     ]
    }
   ],
   "source": [
    "addfunc = '''\n",
    "a = 1024\n",
    "b = 2032\n",
    "c = a + b\n",
    "print(c)\n",
    "'''\n",
    "add_tree = ast.parse(addfunc)\n",
    "print(ast.dump(add_tree, indent=2))"
   ]
  },
  {
   "cell_type": "code",
   "execution_count": 11,
   "metadata": {},
   "outputs": [
    {
     "name": "stdout",
     "output_type": "stream",
     "text": [
      "3056\n"
     ]
    }
   ],
   "source": [
    "add_code = compile(add_tree, 'add_tree', 'exec')\n",
    "exec(add_code)"
   ]
  },
  {
   "cell_type": "code",
   "execution_count": 18,
   "metadata": {},
   "outputs": [
    {
     "name": "stdout",
     "output_type": "stream",
     "text": [
      "Module(\n",
      "  body=[\n",
      "    Assign(\n",
      "      targets=[\n",
      "        Name(id='a', ctx=Store())],\n",
      "      value=Constant(value=1024)),\n",
      "    Assign(\n",
      "      targets=[\n",
      "        Name(id='b', ctx=Store())],\n",
      "      value=Constant(value=2032)),\n",
      "    Assign(\n",
      "      targets=[\n",
      "        Name(id='c', ctx=Store())],\n",
      "      value=BinOp(\n",
      "        left=Name(id='a', ctx=Load()),\n",
      "        op=Add(),\n",
      "        right=Name(id='b', ctx=Load()))),\n",
      "    Expr(\n",
      "      value=Call(\n",
      "        func=Name(id='print', ctx=Load()),\n",
      "        args=[\n",
      "          Name(id='c', ctx=Load())],\n",
      "        keywords=[]))],\n",
      "  type_ignores=[])\n"
     ]
    }
   ],
   "source": [
    "import pprint\n",
    "print(ast.dump(add_tree,indent=2))"
   ]
  },
  {
   "cell_type": "code",
   "execution_count": 20,
   "metadata": {},
   "outputs": [
    {
     "name": "stdout",
     "output_type": "stream",
     "text": [
      "Module(\n",
      "  body=[\n",
      "    Assign(\n",
      "      targets=[\n",
      "        Name(id='a', ctx=Store())],\n",
      "      value=Constant(value=1024)),\n",
      "    Assign(\n",
      "      targets=[\n",
      "        Name(id='b', ctx=Store())],\n",
      "      value=Constant(value=2032)),\n",
      "    Assign(\n",
      "      targets=[\n",
      "        Name(id='c', ctx=Store())],\n",
      "      value=BinOp(\n",
      "        left=Name(id='a', ctx=Load()),\n",
      "        op=Mult(),\n",
      "        right=Name(id='b', ctx=Load()))),\n",
      "    Expr(\n",
      "      value=Call(\n",
      "        func=Name(id='print', ctx=Load()),\n",
      "        args=[\n",
      "          Name(id='c', ctx=Load())],\n",
      "        keywords=[]))],\n",
      "  type_ignores=[])\n"
     ]
    }
   ],
   "source": [
    "add_tree.body[2].value.op # this is the add\n",
    "add_tree.body[2].value.op = ast.Mult()\n",
    "print(ast.dump(add_tree, indent=2))"
   ]
  },
  {
   "cell_type": "code",
   "execution_count": 21,
   "metadata": {},
   "outputs": [
    {
     "name": "stdout",
     "output_type": "stream",
     "text": [
      "2080768\n"
     ]
    }
   ],
   "source": [
    "add_code = compile(add_tree, 'add_tree', 'exec')\n",
    "exec(add_code) # it multiplied!"
   ]
  },
  {
   "cell_type": "code",
   "execution_count": 25,
   "metadata": {},
   "outputs": [
    {
     "name": "stdout",
     "output_type": "stream",
     "text": [
      "Module(\n",
      "  body=[\n",
      "    ClassDef(\n",
      "      name='MyClass',\n",
      "      bases=[],\n",
      "      keywords=[],\n",
      "      body=[\n",
      "        Assign(\n",
      "          targets=[\n",
      "            Name(id='class_id', ctx=Store())],\n",
      "          value=Constant(value=1001)),\n",
      "        FunctionDef(\n",
      "          name='get_something',\n",
      "          args=arguments(\n",
      "            posonlyargs=[],\n",
      "            args=[\n",
      "              arg(arg='self')],\n",
      "            kwonlyargs=[],\n",
      "            kw_defaults=[],\n",
      "            defaults=[]),\n",
      "          body=[\n",
      "            Return(\n",
      "              value=Constant(value='thing'))],\n",
      "          decorator_list=[\n",
      "            Name(id='staticmethod', ctx=Load())])],\n",
      "      decorator_list=[])],\n",
      "  type_ignores=[])\n"
     ]
    }
   ],
   "source": [
    "class_code = \"\"\" \n",
    "class MyClass:  \n",
    "    class_id = 1001\n",
    "    @staticmethod\n",
    "    def get_something(self, ):\n",
    "        return 'thing'\n",
    "\"\"\"\n",
    "\n",
    "class_tree = ast.parse(class_code)\n",
    "print(ast.dump(class_tree, indent=2))"
   ]
  },
  {
   "cell_type": "code",
   "execution_count": 26,
   "metadata": {},
   "outputs": [
    {
     "name": "stdout",
     "output_type": "stream",
     "text": [
      "Module(\n",
      "    body=[\n",
      "        Assign(\n",
      "            targets=[\n",
      "                Name(id='instance', ctx=Store())],\n",
      "            value=Call(\n",
      "                func=Name(id='MyClass', ctx=Load()),\n",
      "                args=[],\n",
      "                keywords=[]))],\n",
      "    type_ignores=[])\n"
     ]
    }
   ],
   "source": [
    "instance_code = \"\"\"instance = MyClass()\"\"\"\n",
    "instance_tree = ast.parse(instance_code)\n",
    "print(ast.dump(instance_tree, indent=4))"
   ]
  },
  {
   "cell_type": "code",
   "execution_count": 27,
   "metadata": {},
   "outputs": [
    {
     "name": "stdout",
     "output_type": "stream",
     "text": [
      "instance = MyClass()\n"
     ]
    }
   ],
   "source": [
    "print(ast.unparse(instance_tree))"
   ]
  },
  {
   "cell_type": "code",
   "execution_count": 28,
   "metadata": {},
   "outputs": [],
   "source": [
    "from ast import NodeTransformer"
   ]
  },
  {
   "cell_type": "code",
   "execution_count": 29,
   "metadata": {},
   "outputs": [],
   "source": [
    "class ModifyVegCounter(NodeTransformer):\n",
    "    def visit_Constant(self, node):\n",
    "\n",
    "\n",
    "        modifiedValue = ast.Constant('item:' + str(node.\n",
    "                                           value))\n",
    "        return modifiedValue\n"
   ]
  },
  {
   "cell_type": "code",
   "execution_count": 55,
   "metadata": {},
   "outputs": [],
   "source": [
    "import sys\n",
    "from ast import parse, dump\n",
    "\n",
    "def parseprint(code, filename=\"<string>\", mode=\"exec\", type_comments=False,\n",
    "               **kwargs):\n",
    "    \"\"\"Parse some code from a string and pretty-print it.\"\"\"\n",
    "    if sys.version_info >= (3, 8):\n",
    "        node = parse(code, mode=mode, type_comments=type_comments)\n",
    "    else:\n",
    "        node = parse(code, mode=mode)   # An ode to the code\n",
    "    print(dump(node, **kwargs, indent=2))\n"
   ]
  },
  {
   "cell_type": "code",
   "execution_count": 56,
   "metadata": {},
   "outputs": [
    {
     "name": "stdout",
     "output_type": "stream",
     "text": [
      "Module(\n",
      "  body=[\n",
      "    Expr(\n",
      "      value=Call(\n",
      "        func=Name(id='func', ctx=Load()),\n",
      "        args=[\n",
      "          Name(id='a', ctx=Load()),\n",
      "          Starred(\n",
      "            value=Name(id='d', ctx=Load()),\n",
      "            ctx=Load())],\n",
      "        keywords=[\n",
      "          keyword(\n",
      "            arg='b',\n",
      "            value=Name(id='c', ctx=Load())),\n",
      "          keyword(\n",
      "            value=Name(id='e', ctx=Load()))]))],\n",
      "  type_ignores=[])\n"
     ]
    }
   ],
   "source": [
    "parseprint(\"func(a, b=c, *d, **e)\")\n"
   ]
  },
  {
   "cell_type": "markdown",
   "metadata": {},
   "source": [
    "# With Pandas"
   ]
  },
  {
   "cell_type": "code",
   "execution_count": 32,
   "metadata": {},
   "outputs": [
    {
     "data": {
      "text/html": [
       "<div>\n",
       "<style scoped>\n",
       "    .dataframe tbody tr th:only-of-type {\n",
       "        vertical-align: middle;\n",
       "    }\n",
       "\n",
       "    .dataframe tbody tr th {\n",
       "        vertical-align: top;\n",
       "    }\n",
       "\n",
       "    .dataframe thead th {\n",
       "        text-align: right;\n",
       "    }\n",
       "</style>\n",
       "<table border=\"1\" class=\"dataframe\">\n",
       "  <thead>\n",
       "    <tr style=\"text-align: right;\">\n",
       "      <th></th>\n",
       "      <th>id</th>\n",
       "      <th>list_column</th>\n",
       "    </tr>\n",
       "  </thead>\n",
       "  <tbody>\n",
       "    <tr>\n",
       "      <th>0</th>\n",
       "      <td>a</td>\n",
       "      <td>[1, 2, 3]</td>\n",
       "    </tr>\n",
       "    <tr>\n",
       "      <th>1</th>\n",
       "      <td>b</td>\n",
       "      <td>[4, 5, 6]</td>\n",
       "    </tr>\n",
       "  </tbody>\n",
       "</table>\n",
       "</div>"
      ],
      "text/plain": [
       "  id list_column\n",
       "0  a   [1, 2, 3]\n",
       "1  b   [4, 5, 6]"
      ]
     },
     "execution_count": 32,
     "metadata": {},
     "output_type": "execute_result"
    }
   ],
   "source": [
    "from pandas import DataFrame, Series\n",
    "\n",
    "df = DataFrame({\n",
    "    'id': ['a', 'b'],\n",
    "    'list_column': ['[1, 2, 3]', '[4, 5, 6]']\n",
    "})\n",
    "df.head()"
   ]
  },
  {
   "cell_type": "code",
   "execution_count": 33,
   "metadata": {},
   "outputs": [
    {
     "data": {
      "text/plain": [
       "0    [1, 2, 3]\n",
       "1    [4, 5, 6]\n",
       "Name: list_column, dtype: object"
      ]
     },
     "execution_count": 33,
     "metadata": {},
     "output_type": "execute_result"
    }
   ],
   "source": [
    "df['list_column'].apply(ast.literal_eval)"
   ]
  },
  {
   "cell_type": "markdown",
   "metadata": {},
   "source": [
    "# Visiting Nodes\n",
    " \n",
    "From greentreesnakes:   \n",
    "`ast.NodeVisitor` is the primary tool for ‘scanning’ the tree. To use it, subclass it and override methods visit_Foo, corresponding to the node classes (see Meet the Nodes).\n",
    "\n",
    "For example, this visitor will print the names of any functions defined in the given code, including methods and functions defined within other functions:"
   ]
  },
  {
   "cell_type": "code",
   "execution_count": 50,
   "metadata": {},
   "outputs": [
    {
     "name": "stdout",
     "output_type": "stream",
     "text": [
      "get_something\n"
     ]
    }
   ],
   "source": [
    "class FuncLister(ast.NodeVisitor):\n",
    "    def visit_FunctionDef(self, node):\n",
    "        print(node.name)\n",
    "        self.generic_visit(node)\n",
    "\n",
    "FuncLister().visit(class_tree) # OH\n"
   ]
  },
  {
   "cell_type": "code",
   "execution_count": null,
   "metadata": {},
   "outputs": [],
   "source": []
  }
 ],
 "metadata": {
  "kernelspec": {
   "display_name": "Python 3.10.2 ('basic-clean')",
   "language": "python",
   "name": "python3"
  },
  "language_info": {
   "codemirror_mode": {
    "name": "ipython",
    "version": 3
   },
   "file_extension": ".py",
   "mimetype": "text/x-python",
   "name": "python",
   "nbconvert_exporter": "python",
   "pygments_lexer": "ipython3",
   "version": "3.10.5"
  },
  "orig_nbformat": 4,
  "vscode": {
   "interpreter": {
    "hash": "9bf3bb841695be7aff2ab74ad2a00f0258f8e42252ef76bbd05fbbd0eec907f6"
   }
  }
 },
 "nbformat": 4,
 "nbformat_minor": 2
}
