{
 "cells": [
  {
   "cell_type": "markdown",
   "metadata": {
    "slideshow": {
     "slide_type": "slide"
    }
   },
   "source": [
    "# Metaclasses\n",
    "\n",
    "Superclass of `metaclass` is `type`, ONLY metaclasses are BOTH instances AND subclasses of type, all other classes are just instances\n",
    "\n",
    "## `__init__` vs `__new__`\n",
    "\n",
    "`__new__()` is intended mainly to allow subclasses of immutable types (like int, str, or tuple) to customize instance creation. It is also commonly overridden in custom metaclasses in order to customize class creation.\n",
    "\n",
    "Because `__new__()` and `__init__()` work together in constructing objects (`__new__()` to create it, and `__init__()` to customize it), no non-None value may be returned by __init__(); doing so will cause a TypeError to be raised at runtime.\n",
    "\n",
    "Function signatures:  \n",
    "Metaclass `__new__`:  \n",
    "`__new__(cls, classname, bases, namespace)`  \n",
    "\n",
    "## Metaclass Methods\n",
    "- `Metaclass.__prepare__` just returns the namespace object (a dictionary-like object as explained before).\n",
    "- `Metaclass.__new__` returns the Class object.\n",
    "- `Metaclass.__call__` returns whatever Metaclass.__new__ returned (and if it returned an instance of Metaclass it will also call Metaclass.__init__ on it).\n",
    "\n",
    "## Types\n",
    "Classes allow you to make instances of the class (i.e. new objects), but classes are objects\n",
    "\n",
    "What is `type` of class?\n",
    " Class definition is a syntactic way of creating a new type\n",
    "\n",
    "Metclasses help customise what happens in the `prepare` method or the `__init__`/`__new__` methods.\n",
    "\n",
    "Metaclasses are inheritable\n",
    "\n",
    "An object’s type determines the operations that the object supports (e.g., “does it have a length?”) and also defines the possible values for objects of that type"
   ]
  },
  {
   "cell_type": "code",
   "execution_count": 1,
   "metadata": {
    "slideshow": {
     "slide_type": "slide"
    }
   },
   "outputs": [
    {
     "data": {
      "text/plain": [
       "type"
      ]
     },
     "execution_count": 1,
     "metadata": {},
     "output_type": "execute_result"
    }
   ],
   "source": [
    "class Parent:\n",
    "    pass\n",
    "\n",
    "class Child(Parent):\n",
    "    pass\n",
    "\n",
    "type(Child)"
   ]
  },
  {
   "cell_type": "code",
   "execution_count": null,
   "metadata": {
    "slideshow": {
     "slide_type": "subslide"
    }
   },
   "outputs": [],
   "source": [
    "type(object), type(type) # object is an instance of type, type is a subclass of object, type is an instance of itself!! #wtf"
   ]
  },
  {
   "cell_type": "code",
   "execution_count": null,
   "metadata": {
    "slideshow": {
     "slide_type": "subslide"
    }
   },
   "outputs": [],
   "source": [
    "# classes are objects, therefore each class must be an instance of some other class 🤯\n",
    "type.__class__ is type(type)"
   ]
  },
  {
   "cell_type": "markdown",
   "metadata": {
    "slideshow": {
     "slide_type": "slide"
    }
   },
   "source": [
    "`__new__` must always return an object instance by calling `type.__new__`, else the object is not created:"
   ]
  },
  {
   "cell_type": "code",
   "execution_count": 2,
   "metadata": {
    "slideshow": {
     "slide_type": "slide"
    }
   },
   "outputs": [
    {
     "name": "stdout",
     "output_type": "stream",
     "text": [
      "<class '__main__.MetaClassOne'>\n",
      "('ExampleClass', (), {'__module__': '__main__', '__qualname__': 'ExampleClass', 'int1': 123, 'test': <function ExampleClass.test at 0x7fbc384eb3a0>})\n"
     ]
    }
   ],
   "source": [
    "class MetaClassOne(type):\n",
    "    def __new__(cls, *args):\n",
    "        print(cls)\n",
    "        print(args)\n",
    "\n",
    "        # this line ensures the cls __init__ is called\n",
    "        return type.__new__(cls, *args)\n",
    "\n",
    "\n",
    "# this is here to show the execution order\n",
    "class ExampleClass(metaclass=MetaClassOne):\n",
    "    int1 = 123\n",
    "\n",
    "    def test():\n",
    "        print('test')\n",
    "\n",
    "# this output is at time of CLASS creation NOT instance creation!!"
   ]
  },
  {
   "cell_type": "markdown",
   "metadata": {
    "slideshow": {
     "slide_type": "slide"
    }
   },
   "source": [
    "# Class Creation\n",
    "\n",
    "When a class definition is executed, the following steps occur:\n",
    "- MRO entries are resolved;\n",
    "- the appropriate metaclass is determined;\n",
    "- the class namespace is prepared;\n",
    "- the class body is executed;\n",
    "- the class object is created.\n"
   ]
  },
  {
   "cell_type": "code",
   "execution_count": 3,
   "metadata": {
    "slideshow": {
     "slide_type": "fragment"
    }
   },
   "outputs": [
    {
     "name": "stdout",
     "output_type": "stream",
     "text": [
      "B=<class '__main__.B'>\n"
     ]
    }
   ],
   "source": [
    "# signature is type(classname, bases, namespace)\n",
    "B = type('B', (), {}) # no difference between type and class\n",
    "print(f'{B=}')"
   ]
  },
  {
   "cell_type": "markdown",
   "metadata": {
    "slideshow": {
     "slide_type": "subslide"
    }
   },
   "source": [
    "The following methods are equivalent for creating a class"
   ]
  },
  {
   "cell_type": "code",
   "execution_count": 4,
   "metadata": {},
   "outputs": [
    {
     "data": {
      "text/plain": [
       "117"
      ]
     },
     "execution_count": 4,
     "metadata": {},
     "output_type": "execute_result"
    }
   ],
   "source": [
    "# either\n",
    "class A:\n",
    "    pass\n",
    "\n",
    "# OR \n",
    "def make_A():\n",
    "    name = 'A'\n",
    "    bases = ()\n",
    "\n",
    "    a = 1\n",
    "    b = 'hello'\n",
    "\n",
    "\n",
    "    namespace = type.__prepare__(name, bases)\n",
    "    body = (\n",
    "'''\n",
    "a = 1\n",
    "b = 'hello'\n",
    "\n",
    "def f(self,):\n",
    "    return 117\n",
    "'''\n",
    "    )\n",
    "    exec(body, globals(), namespace)\n",
    "\n",
    "    A = type(name, bases, namespace)\n",
    "    return A\n",
    "\n",
    "A = make_A()\n",
    "a = A()\n",
    "a.f()"
   ]
  },
  {
   "cell_type": "markdown",
   "metadata": {},
   "source": [
    "More details:"
   ]
  },
  {
   "cell_type": "code",
   "execution_count": null,
   "metadata": {},
   "outputs": [],
   "source": [
    "field_names = tuple()\n",
    "def __init__(self, *args, **kwargs):\n",
    "    attrs = dict(zip(self.__slots__, args))\n",
    "    attrs.update(kwargs)\n",
    "    for name, value in attrs.items():\n",
    "        setattr(self, name, value)\n",
    "def __iter__(self):\n",
    "    for name in self.__slots__:\n",
    "        yield getattr(self, name)\n",
    "def __repr__(self):\n",
    "    values = ', '.join('{}={!r}'.format(*i) for i in zip(self.__slots__, self))\n",
    "    return '{}({})'.format(self.__class__.__name__, values)\n",
    "\n",
    "cls_attrs = dict(\n",
    "    __slots__ = field_names,\n",
    "    __init__ = __init__,\n",
    "    __iter__ = __iter__,\n",
    "    __repr__ = __repr__)\n",
    "\n",
    "# how to make a class\n",
    "cls_name='NEW_CLASS'\n",
    "type(cls_name, (object, ), cls_attrs)"
   ]
  },
  {
   "cell_type": "markdown",
   "metadata": {},
   "source": [
    "### Using `dis` for class creation\n",
    "\n",
    "Still can't find `BUILD_CLASS` in CPython code"
   ]
  },
  {
   "cell_type": "code",
   "execution_count": null,
   "metadata": {},
   "outputs": [],
   "source": [
    "from dis import dis\n",
    "\n",
    "class A: pass\n",
    "\n",
    "def create_A():\n",
    "    class MyClass(A):\n",
    "        def __init__(self, a, *args, **kwargs) -> None:\n",
    "            self.a = a\n",
    "\n",
    "            MyClass.__init__(*args, **kwargs)\n",
    "dis(create_A)\n"
   ]
  },
  {
   "cell_type": "markdown",
   "metadata": {},
   "source": [
    "## Using Set Methods on Classes\n",
    "\n",
    "From https://www.youtube.com/watch?v=ur-vdFXOS9o\n",
    "\n",
    "We can extend/create our own object system, imagine we wish to compose/dynamically create attributes that classes may have"
   ]
  },
  {
   "cell_type": "code",
   "execution_count": 13,
   "metadata": {},
   "outputs": [],
   "source": [
    " class metaclass(type):\n",
    "    def __init__(self, name, bases, body):\n",
    "        self.body = body\n",
    "\n",
    "    def __iter__(self, ):\n",
    "        return iter(set(self.body) - set(['__module__']))\n",
    "\n",
    "    def __and__(self, other):\n",
    "        def wrap(error): raise error\n",
    "        class_name = f'{self}_{other}' \n",
    "\n",
    "        return type(class_name, (self, other), {attr: property(lambda *_: wrap(AttributeError(\"Attribute Error: {class_name} object has no attribute 'asdf'\"))) for attr in set(self).symmetric_difference(other)})\n",
    "\n",
    "    def __or__(self, other):\n",
    "        return type(f'{self}_{other}', (self, other), {attr: getattr(self, attr, getattr(other, attr, None)) for attr in set(self) | set(other)})\n",
    "\n",
    "class object_wacky(object, metaclass=metaclass):\n",
    "    pass\n",
    "\n",
    "class Foo(object_wacky):\n",
    "    x, y, z = 10, 20, 30\n",
    "\n",
    "class Bar(object_wacky):\n",
    "    a, b, c = 'ten', 'twenty', 'thirty'\n",
    "\n",
    "class Baz(object_wacky):\n",
    "    x, a = 'ecks', 'a'\n",
    "\n",
    "Derived = (Foo | Bar) & Baz"
   ]
  },
  {
   "cell_type": "code",
   "execution_count": 15,
   "metadata": {},
   "outputs": [
    {
     "data": {
      "text/plain": [
       "(10, 'ten')"
      ]
     },
     "execution_count": 15,
     "metadata": {},
     "output_type": "execute_result"
    }
   ],
   "source": [
    "Derived.x, Derived.a"
   ]
  },
  {
   "cell_type": "markdown",
   "metadata": {},
   "source": [
    "## Namespaces / PEP 3115\n",
    "\n",
    "When class created, the various functions are defined and stored in some diciontary. Can edit this dictionary by overriding default `__prepare__` method\n",
    "\n",
    "Namespaces in Python. A namespace is a collection of currently defined symbolic names along with information about the object that each name references. You can think of a namespace as a dictionary in which the keys are the object names and the values are the objects themselves"
   ]
  },
  {
   "cell_type": "code",
   "execution_count": null,
   "metadata": {},
   "outputs": [],
   "source": [
    "# prepare happens before new, which happens before init\n",
    "from typing import Any, Mapping\n",
    "\n",
    "class Meta(type):\n",
    "    @classmethod\n",
    "    def __prepare__(\n",
    "        metacls,\n",
    "        __name: str,\n",
    "        __bases: tuple[type, ...], \n",
    "        **kwds: Any) -> Mapping[str, object]:\n",
    "\n",
    "        # return super().__prepare__(__name, __bases, **kwds) # default\n",
    "        return collections.OrderedDict()\n",
    "\n",
    "    def __init__(cls, __name, __bases, __attr_dict):\n",
    "        super().__init__(__name, __bases, __attr_dict)\n",
    "        cls._field_names = []\n",
    "        \n",
    "        for key, attr in __attr_dict.items():\n",
    "            if isinstance(attr, Validated):\n",
    "                type_name = type(attr).__name__"
   ]
  },
  {
   "cell_type": "markdown",
   "metadata": {},
   "source": [
    "Example usages of `__prepare__`:   \n",
    "[Pandas Library: to register holidays](https://github.com/pandas-dev/pandas/blob/2be9661853f4e425e00e3a32d265fe889b242f44/pandas/tseries/holiday.py)  \n",
    "[cuDF overriding methods](https://github.com/rapidsai/cudf/blob/6ca2ceb8e200d55f1f681a4ca086614a28d67ad1/python/cudf/cudf/core/index.py)  \n",
    "[cuML for fixing init](https://github.com/rapidsai/cuml/blob/50716cf98c4103aa8dbbcc4ea64897ccb7a70722/python/cuml/internals/base_helpers.py)"
   ]
  },
  {
   "cell_type": "markdown",
   "metadata": {},
   "source": [
    "# Example Usages\n",
    "\n",
    "## Enforcing Function Implementation\n",
    "From [James Powell: Advanced Metaphors in Coding with Python](https://www.youtube.com/watch?v=R2ipPgrWypI&t=446s)"
   ]
  },
  {
   "cell_type": "code",
   "execution_count": 7,
   "metadata": {},
   "outputs": [],
   "source": [
    "# OPTION I: Testing for method existence using assert\n",
    "class Base:\n",
    "    def bar(self, ):\n",
    "        return 'bar'\n",
    "\n",
    "assert hasattr(Base, 'bar')\n",
    "# OR using a unit test that\n",
    "def test_Base():\n",
    "    # this fulfills all implicit assumptions about my code if it passes\n",
    "    b = Base()\n",
    "    b.bar\n",
    "\n",
    "# OPTION II: With a Metaclass\n",
    "# metaclasses construct the new classes\n",
    "# __new__ creates a new CLASS, NOT AN INSTANCE\n",
    "\n",
    "class BaseMeta(type):\n",
    "    def __new__(cls, name, bases, body):\n",
    "        # example\n",
    "        if 'baz' not in body:\n",
    "            raise TypeError('baz method must be implemented')\n",
    "        return super().__new__(cls, name, bases, body)\n",
    "\n",
    "class Base(metaclass=BaseMeta):\n",
    "    def baz(self, ):\n",
    "        pass\n",
    "\n",
    "    def bar(self,):\n",
    "        return self.baz()"
   ]
  },
  {
   "cell_type": "markdown",
   "metadata": {},
   "source": [
    "## MetaBunch\n",
    "\n",
    "From Python in a Nutshell"
   ]
  },
  {
   "cell_type": "code",
   "execution_count": null,
   "metadata": {},
   "outputs": [],
   "source": [
    "# Example 4-1. The MetaBunch metaclass\n",
    "import collections\n",
    "import warnings\n",
    "class MetaBunch(type):\n",
    "    \"\"\"\n",
    "    Metaclass for new and improved \"Bunch\": implicitly defines\n",
    "    __slots__, __init__ and __repr__ from variables bound in\n",
    "    class scope.\n",
    "    A class statement for an instance of MetaBunch (i.e., for a\n",
    "    class whose metaclass is MetaBunch) must define only\n",
    "    class-scope data attributes (and possibly special methods, but\n",
    "    NOT __init__ and __repr__). MetaBunch removes the data\n",
    "    attributes from class scope, snuggles them instead as items in\n",
    "    a class-scope dict named __dflts__, and puts in the class a\n",
    "    __slots__ with those attributes' names, an __init__ that takes\n",
    "    as optional named arguments each of them (using the values in\n",
    "    __dflts__ as defaults for missing ones), and a __repr__ that\n",
    "    shows the repr of each attribute that differs from its default\n",
    "    value (the output of __repr__ can be passed to __eval__ to make\n",
    "    an equal instance, as per usual convention in the matter, if\n",
    "    each non-default-valued attribute respects the convention too).\n",
    "    In v3, the order of data attributes remains the same as in the\n",
    "    class body; in v2, there is no such guarantee.\n",
    "    \"\"\"\n",
    "    def __prepare__(name, *bases, **kwargs):\n",
    "        # precious in v3—harmless although useless in v2\n",
    "        return collections.OrderedDict()\n",
    "\n",
    "    def __new__(mcl, classname, bases, classdict):\n",
    "        \"\"\" Everything needs to be done in __new__, since\n",
    "        type.__new__ is where __slots__ are taken into account.\n",
    "        \"\"\"\n",
    "        # define as local functions the __init__ and __repr__ that\n",
    "        # we'll use in the new class\n",
    "        def __init__(self, **kw):\n",
    "            \"\"\" Simplistic __init__: first set all attributes to\n",
    "            default values, then override those explicitly\n",
    "            passed in kw.\n",
    "            \"\"\"\n",
    "            for k in self.__dflts__:\n",
    "                setattr(self, k, self.__dflts__[k])\n",
    "            for k in kw:\n",
    "                setattr(self, k, kw[k])\n",
    "\n",
    "        def __repr__(self):\n",
    "            \"\"\" Clever __repr__: show only attributes that differ\n",
    "            from default values, for compactness.\n",
    "            \"\"\"\n",
    "            rep = ['{}={!r}'.format(k, getattr(self, k))\n",
    "            for k in self.__dflts__\n",
    "            if getattr(self, k) != self.__dflts__[k]\n",
    "            ]\n",
    "            return '{}({})'.format(classname, ', '.join(rep))\n",
    "\n",
    "        # build the newdict that we'll use as class-dict for the\n",
    "        # new class\n",
    "        newdict = { '__slots__':[],\n",
    "        '__dflts__':collections.OrderedDict(),\n",
    "        '__init__':__init__, '__repr__':__repr__, }\n",
    "        for k in classdict:\n",
    "            if k.startswith('__') and k.endswith('__'):\n",
    "                # dunder methods: copy to newdict, or warn\n",
    "                # about conflicts\n",
    "                if k in newdict:\n",
    "                    warnings.warn(\"Can't set attr {!r} in bunch-class {!r}\".format(k, classname))\n",
    "                else:\n",
    "                    newdict[k] = classdict[k]\n",
    "            else:\n",
    "                # class variables, store name in __slots__, and\n",
    "                # name and value as an item in __dflts__\n",
    "                newdict['__slots__'].append(k)\n",
    "                newdict['__dflts__'][k] = classdict[k]\n",
    "        # finally delegate the rest of the work to type.__new__\n",
    "        return super(MetaBunch, mcl).__new__(mcl, classname, bases, newdict)\n",
    "\n",
    "class Bunch(metaclass=MetaBunch):\n",
    "    pass"
   ]
  },
  {
   "cell_type": "markdown",
   "metadata": {},
   "source": [
    "## Registry for Neural Network Layers"
   ]
  },
  {
   "cell_type": "markdown",
   "metadata": {},
   "source": [
    "In this example, the LayerMetaclass is used to create a custom neural network layer class. The LayerMetaclass adds the custom layer class to a registry of available layers, which can be used to easily create instances of the custom layer in a neural network model. The custom layer class itself defines the forward and backward methods that perform the forward and backward passes for the layer, respectively.\n",
    "\n",
    "This is just one example of how metaclasses can be used in machine learning, but there are many other potential applications for this powerful feature of Python."
   ]
  },
  {
   "cell_type": "code",
   "execution_count": null,
   "metadata": {},
   "outputs": [],
   "source": [
    "# Define a metaclass for creating custom neural network layers\n",
    "class LayerMetaclass(type):\n",
    "    def __new__(cls, name, bases, attrs):\n",
    "        # Create a new class for the layer\n",
    "        layer_class = super(LayerMetaclass, cls).__new__(cls, name, bases, attrs)\n",
    "\n",
    "        # Add the layer class to a registry of available layers\n",
    "        LAYER_REGISTRY[name] = layer_class\n",
    "\n",
    "        return layer_class\n",
    "\n",
    "# Define a base class for neural network layers\n",
    "class Layer(metaclass=LayerMetaclass):\n",
    "    def __init__(self, **kwargs):\n",
    "        # Initialize the layer with any provided keyword arguments\n",
    "        self.params = kwargs\n",
    "\n",
    "    def forward(self, inputs):\n",
    "        # Perform the forward pass for the layer\n",
    "        raise NotImplementedError()\n",
    "\n",
    "    def backward(self, grads):\n",
    "        # Perform the backward pass for the layer\n",
    "        raise NotImplementedError()\n",
    "\n",
    "# Define a custom neural network layer\n",
    "class MyCustomLayer(Layer):\n",
    "    def forward(self, inputs):\n",
    "        # Perform the forward pass for the layer\n",
    "        return inputs * self.params['scale']\n",
    "\n",
    "    def backward(self, grads):\n",
    "        # Perform the backward pass for the layer\n",
    "        return grads * self.params['scale']\n",
    "\n",
    "# Create an instance of the custom layer\n",
    "my_layer = MyCustomLayer(scale=2.0)\n",
    "\n",
    "# Use the layer in a neural network model\n",
    "outputs = my_layer.forward(inputs)"
   ]
  },
  {
   "cell_type": "markdown",
   "metadata": {},
   "source": [
    "## Singleton"
   ]
  },
  {
   "cell_type": "code",
   "execution_count": 8,
   "metadata": {},
   "outputs": [],
   "source": [
    "# Define a metaclass for creating singleton classes\n",
    "class SingletonMetaclass(type):\n",
    "    def __new__(cls, name, bases, attrs):\n",
    "        # Create a new class for the singleton\n",
    "        singleton_class = super(SingletonMetaclass, cls).__new__(cls, name, bases, attrs)\n",
    "\n",
    "        # Create a class variable for storing the singleton instance\n",
    "        singleton_class.instance = None\n",
    "\n",
    "        return singleton_class\n",
    "\n",
    "    def __call__(cls, *args, **kwargs):\n",
    "        # Return the singleton instance if it exists, otherwise create it\n",
    "        if cls.instance is None:\n",
    "            cls.instance = super(SingletonMetaclass, cls).__call__(*args, **kwargs)\n",
    "        return cls.instance\n",
    "\n",
    "# Define a base class for singletons\n",
    "class Singleton(metaclass=SingletonMetaclass):\n",
    "    pass\n",
    "\n",
    "# Define a custom singleton class\n",
    "class MyCustomSingleton(Singleton):\n",
    "    def __init__(self, value):\n",
    "        self.value = value\n",
    "\n",
    "# Create multiple instances of the custom singleton class\n",
    "s1 = MyCustomSingleton(1)\n",
    "s2 = MyCustomSingleton(2)\n",
    "s3 = MyCustomSingleton(3)\n",
    "\n",
    "# All instances of the singleton class will be the same\n",
    "assert s1 == s2 == s3\n"
   ]
  },
  {
   "cell_type": "markdown",
   "metadata": {},
   "source": [
    "## Logging\n",
    "\n",
    "Adds logs to EVERY method, or add decorators to every method, \n",
    "\n",
    "NEED TO FIX THIS"
   ]
  },
  {
   "cell_type": "code",
   "execution_count": 3,
   "metadata": {},
   "outputs": [
    {
     "ename": "AttributeError",
     "evalue": "type object 'MyCustomObject' has no attribute 'method'",
     "output_type": "error",
     "traceback": [
      "\u001b[0;31m---------------------------------------------------------------------------\u001b[0m",
      "\u001b[0;31mAttributeError\u001b[0m                            Traceback (most recent call last)",
      "Cell \u001b[0;32mIn[3], line 24\u001b[0m\n\u001b[1;32m     21\u001b[0m     \u001b[39mpass\u001b[39;00m\n\u001b[1;32m     23\u001b[0m \u001b[39m# Define a custom class with logging\u001b[39;00m\n\u001b[0;32m---> 24\u001b[0m \u001b[39mclass\u001b[39;00m \u001b[39mMyCustomObject\u001b[39;00m(LoggingObject):\n\u001b[1;32m     25\u001b[0m     \u001b[39mdef\u001b[39;00m \u001b[39mmy_method\u001b[39m(\u001b[39mself\u001b[39m, arg1, arg2):\n\u001b[1;32m     26\u001b[0m         \u001b[39mprint\u001b[39m(\u001b[39m'\u001b[39m\u001b[39mInside my_method with arguments \u001b[39m\u001b[39m{}\u001b[39;00m\u001b[39m, \u001b[39m\u001b[39m{}\u001b[39;00m\u001b[39m'\u001b[39m\u001b[39m.\u001b[39mformat(arg1, arg2))\n",
      "Cell \u001b[0;32mIn[3], line 15\u001b[0m, in \u001b[0;36mLoggingMetaclass.__new__\u001b[0;34m(cls, name, bases, attrs)\u001b[0m\n\u001b[1;32m     13\u001b[0m \u001b[39mfor\u001b[39;00m method_name, method \u001b[39min\u001b[39;00m attrs\u001b[39m.\u001b[39mitems():\n\u001b[1;32m     14\u001b[0m     \u001b[39mif\u001b[39;00m callable(method):\n\u001b[0;32m---> 15\u001b[0m         \u001b[39msetattr\u001b[39m(logging_class\u001b[39m.\u001b[39;49mmethod, method_name, log_method_call)\n\u001b[1;32m     17\u001b[0m \u001b[39mreturn\u001b[39;00m logging_class\n",
      "\u001b[0;31mAttributeError\u001b[0m: type object 'MyCustomObject' has no attribute 'method'"
     ]
    }
   ],
   "source": [
    "\n",
    "# Define a metaclass for creating classes with logging\n",
    "class LoggingMetaclass(type):\n",
    "    def __new__(cls, name, bases, attrs):\n",
    "        # Create a new class for the object\n",
    "        logging_class = super(LoggingMetaclass, cls).__new__(cls, name, bases, attrs)\n",
    "\n",
    "        # Add a method for logging method calls\n",
    "        def log_method_call(self, method_name, *args, **kwargs):\n",
    "            print('Calling method {} with arguments {}, {}'.format(method_name, args, kwargs))\n",
    "            return method(*args, **kwargs)\n",
    "\n",
    "        # Override each method in the class with a logged version of the method\n",
    "        for method_name, method in attrs.items():\n",
    "            if callable(method):\n",
    "                setattr(logging_class.method, method_name, log_method_call)\n",
    "\n",
    "        return logging_class\n",
    "\n",
    "# Define a base class for objects with logging\n",
    "class LoggingObject(metaclass=LoggingMetaclass):\n",
    "    pass\n",
    "\n",
    "# Define a custom class with logging\n",
    "class MyCustomObject(LoggingObject):\n",
    "    def my_method(self, arg1, arg2):\n",
    "        print('Inside my_method with arguments {}, {}'.format(arg1, arg2))\n",
    "\n",
    "# Create an instance of the custom class\n",
    "my_object = MyCustomObject()\n",
    "\n",
    "# Call the method on the object\n",
    "my_object.my_method(arg1=1, arg2=2)"
   ]
  },
  {
   "cell_type": "markdown",
   "metadata": {},
   "source": [
    "## Auto-Property"
   ]
  },
  {
   "cell_type": "code",
   "execution_count": 6,
   "metadata": {},
   "outputs": [
    {
     "data": {
      "text/plain": [
       "0"
      ]
     },
     "execution_count": 6,
     "metadata": {},
     "output_type": "execute_result"
    }
   ],
   "source": [
    "import inspect\n",
    "\n",
    "property_signature = inspect.FullArgSpec(\n",
    "    args=['self'], varargs=None, varkw=None, defaults=None,\n",
    "    kwonlyargs=[], kwonlydefaults=None, annotations={}\n",
    ")\n",
    "\n",
    "# automatically convert anything with property signature into a property\n",
    "class AutoPropertyMeta(type):\n",
    "    def __new__(cls, name, bases, attrs):\n",
    "        for name, class_attr in attrs.items():\n",
    "            try: \n",
    "                signature = inspect.getfullargspec(class_attr)\n",
    "            except TypeError:\n",
    "                continue\n",
    "\n",
    "            if signature == property_signature:\n",
    "                attrs[name] = property(class_attr)\n",
    "            \n",
    "        return type.__new__(cls, name, bases, attrs)\n",
    "\n",
    "class Foo(metaclass=AutoPropertyMeta):\n",
    "    def size(self, ):\n",
    "        return 0\n",
    "\n",
    "f = Foo()\n",
    "f.size"
   ]
  },
  {
   "cell_type": "markdown",
   "metadata": {},
   "source": [
    "## NamedTuple"
   ]
  },
  {
   "cell_type": "code",
   "execution_count": 14,
   "metadata": {},
   "outputs": [
    {
     "data": {
      "text/plain": [
       "Person(name='Anakin', age=27)"
      ]
     },
     "execution_count": 14,
     "metadata": {},
     "output_type": "execute_result"
    }
   ],
   "source": [
    "_class_template = '''\n",
    "class {typename}(tuple):\n",
    "    def __new__(_cls, {arg_list}):\n",
    "        return tuple.__new__(_cls, ({arg_list}))\n",
    "\n",
    "    def __repr__(self,):\n",
    "        return self.__class__.__name__ + '({repr_fmt})' % self\n",
    "\n",
    "{field_defs}\n",
    "'''\n",
    "\n",
    "def simple_namedtuple(typename, field_names):\n",
    "    class_def = _class_template.format(\n",
    "        typename=typename,\n",
    "        num_fields=len(field_names),\n",
    "        arg_list=repr(tuple(field_names)).replace(\"'\", \"\")[1:-1],\n",
    "        repr_fmt=', '.join(\n",
    "            '{name}=%r'.format(name=name) for name in field_names\n",
    "        ),\n",
    "        field_defs='\\n'.join(\n",
    "            '{name} = property(lambda t: t[{index:d}])'.format(\n",
    "                index=index,\n",
    "                name=name\n",
    "            ) for index, name in enumerate(field_names)\n",
    "        )\n",
    "    )\n",
    "\n",
    "    namespace = {}\n",
    "    exec(class_def, namespace)\n",
    "    result = namespace[typename]\n",
    "\n",
    "    return result\n",
    "\n",
    "Person = simple_namedtuple('Person', ['name', 'age'])\n",
    "\n",
    "p = Person(name='Anakin', age=27)\n",
    "p"
   ]
  },
  {
   "cell_type": "markdown",
   "metadata": {},
   "source": [
    "ChatGPT uses:\n",
    "Here are ten potential uses for custom metaclasses in Python:\n",
    "\n",
    "- Creating registry classes for storing and accessing instances of other classes.\n",
    "- Implementing the Singleton design pattern to ensure that only one instance of a class is created.\n",
    "- Automatically logging method calls to track the behavior of an object.\n",
    "- Enforcing constraints on the attributes and methods of a class.\n",
    "- Providing default implementations for common methods in a class hierarchy.\n",
    "- Creating DSLs (domain-specific languages) for specific problem domains.\n",
    "- Implementing the decorator pattern for modifying the behavior of class methods.\n",
    "- Implementing the factory pattern for creating instances of classes based on specified criteria.\n",
    "- Creating classes that can be easily serialized and deserialized for storage or communication.\n",
    "- Creating classes with custom behavior when they are used in arithmetic operations.\n",
    "- Creating classes that can be easily extended with additional functionality using mixins.\n",
    "- Implementing the observer pattern for automatically updating dependent objects when the state of an object changes.\n",
    "- Generating boilerplate code for common class patterns, such as getters and setters for attributes.\n",
    "- Creating classes that can be easily subclassed and customized by other developers.\n",
    "- Creating classes that automatically cache the results of expensive computations.\n",
    "- Implementing the command pattern for creating objects that represent actions that can be executed and undone.\n",
    "- Creating classes that automatically register themselves with a central registry or manager.\n",
    "- Implementing the template method pattern for defining a common algorithm that can be customized by subclasses.\n",
    "- Creating classes that can be easily serialized to and deserialized from a specific data format, such as JSON or XML.\n",
    "- Creating classes that automatically generate and update documentation for their attributes and methods."
   ]
  }
 ],
 "metadata": {
  "celltoolbar": "Slideshow",
  "kernelspec": {
   "display_name": "Python 3 (ipykernel)",
   "language": "python",
   "name": "python3"
  },
  "language_info": {
   "codemirror_mode": {
    "name": "ipython",
    "version": 3
   },
   "file_extension": ".py",
   "mimetype": "text/x-python",
   "name": "python",
   "nbconvert_exporter": "python",
   "pygments_lexer": "ipython3",
   "version": "3.10.9"
  },
  "vscode": {
   "interpreter": {
    "hash": "def76ed885bc94f182c997508dd94bdc1bafad87e7bfd4e70b216ce388e01bfe"
   }
  }
 },
 "nbformat": 4,
 "nbformat_minor": 2
}
