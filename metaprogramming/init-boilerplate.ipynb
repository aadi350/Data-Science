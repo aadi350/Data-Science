{
 "cells": [
  {
   "cell_type": "markdown",
   "metadata": {},
   "source": [
    "Point is to define a metaclass which does all the initialization, so instead of \n",
    "```python\n",
    "class A:\n",
    "    def __init__(self, a, b, c, d, e, f, g):\n",
    "        self.a\n",
    "        self.b\n",
    "        self.c\n",
    "        self.d\n",
    "        self.e\n",
    "        self.f\n",
    "        self.g\n",
    "```\n",
    "\n",
    "that boiler could be done via the metaclass"
   ]
  },
  {
   "cell_type": "code",
   "execution_count": 182,
   "metadata": {},
   "outputs": [],
   "source": [
    "class InitMeta(type):\n",
    "    '''MetaClass to reduce boilerplate\n",
    "    \n",
    "    Example usage:\n",
    "    \n",
    "        Instea of defining a clas initializer with explicity initialization\n",
    "        class A:\n",
    "            def __init__(self, a, b, c, d):\n",
    "                self.a = a\n",
    "                self.b = b\n",
    "                self.c = c\n",
    "                self.d = d\n",
    "\n",
    "        specifying the metaclass as InitMeta modifies the original init\n",
    "            adding class-initialization boilerplate\n",
    "        class A(metaclass=InitMeta):\n",
    "            def __init__(self, a, b, c, d):\n",
    "\n",
    "                print(self.a) # This works even though self.a was not explicitly set\n",
    "\n",
    "        This reduces the clutter when multiple attributes are passed in to the class constructor\n",
    "\n",
    "        Raises:\n",
    "            RuntimeError: if __init__ is not defined \n",
    "    '''\n",
    "\n",
    "\n",
    "\n",
    "    import inspect\n",
    "\n",
    "    def __new__(cls, name, bases, attributes):\n",
    "        if not (cls_init := attributes.get('__init__', None)):\n",
    "            raise RuntimeError('__init__ must be specified')\n",
    "\n",
    "        init_args = list(InitMeta.inspect.signature(cls_init).parameters.keys())[1:]\n",
    "\n",
    "        def meta_init(self, *args, **kwargs):\n",
    "            # set kwargs first, else non-kwarg is overritten by get() returning None\n",
    "            for arg in init_args:\n",
    "                setattr(self, arg, kwargs.get(arg))\n",
    "\n",
    "            for arg_name, arg in zip(init_args, args):\n",
    "                setattr(self, arg_name, arg)\n",
    "\n",
    "\n",
    "            cls_init(self, *args, **kwargs)\n",
    "\n",
    "        attributes['__init__'] = meta_init\n",
    "\n",
    "        return super(InitMeta, cls).__new__(cls, name, bases, attributes)\n",
    "\n",
    "\n",
    "class A(metaclass=InitMeta):\n",
    "    def __init__(self, a, b):\n",
    "\n",
    "        print(self.a)"
   ]
  },
  {
   "cell_type": "code",
   "execution_count": 183,
   "metadata": {},
   "outputs": [
    {
     "name": "stdout",
     "output_type": "stream",
     "text": [
      "1\n",
      "4\n"
     ]
    }
   ],
   "source": [
    "a = A(1, 2)\n",
    "b = A(a=4, b=5)"
   ]
  },
  {
   "cell_type": "code",
   "execution_count": 179,
   "metadata": {},
   "outputs": [
    {
     "data": {
      "text/plain": [
       "(1, 2, 4, 5)"
      ]
     },
     "execution_count": 179,
     "metadata": {},
     "output_type": "execute_result"
    }
   ],
   "source": [
    "a.a, a.b, b.a, b.b"
   ]
  },
  {
   "cell_type": "code",
   "execution_count": null,
   "metadata": {},
   "outputs": [],
   "source": []
  }
 ],
 "metadata": {
  "kernelspec": {
   "display_name": "Python 3.8.15 ('basic_clean')",
   "language": "python",
   "name": "python3"
  },
  "language_info": {
   "codemirror_mode": {
    "name": "ipython",
    "version": 3
   },
   "file_extension": ".py",
   "mimetype": "text/x-python",
   "name": "python",
   "nbconvert_exporter": "python",
   "pygments_lexer": "ipython3",
   "version": "3.8.15"
  },
  "orig_nbformat": 4,
  "vscode": {
   "interpreter": {
    "hash": "def76ed885bc94f182c997508dd94bdc1bafad87e7bfd4e70b216ce388e01bfe"
   }
  }
 },
 "nbformat": 4,
 "nbformat_minor": 2
}
