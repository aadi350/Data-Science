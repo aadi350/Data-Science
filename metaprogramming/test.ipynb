{
 "cells": [
  {
   "cell_type": "code",
   "execution_count": 2,
   "metadata": {},
   "outputs": [
    {
     "ename": "TypeError",
     "evalue": "don't know how to disassemble method-wrapper objects",
     "output_type": "error",
     "traceback": [
      "\u001b[0;31m---------------------------------------------------------------------------\u001b[0m",
      "\u001b[0;31mTypeError\u001b[0m                                 Traceback (most recent call last)",
      "Cell \u001b[0;32mIn [2], line 4\u001b[0m\n\u001b[1;32m      1\u001b[0m \u001b[39mfrom\u001b[39;00m \u001b[39mdis\u001b[39;00m \u001b[39mimport\u001b[39;00m dis\n\u001b[1;32m      3\u001b[0m \u001b[39m'\u001b[39m\u001b[39m1\u001b[39m\u001b[39m'\u001b[39m \u001b[39m+\u001b[39m \u001b[39m'\u001b[39m\u001b[39m2\u001b[39m\u001b[39m'\u001b[39m\n\u001b[0;32m----> 4\u001b[0m dis(\u001b[39m'\u001b[39;49m\u001b[39m1\u001b[39;49m\u001b[39m'\u001b[39;49m\u001b[39m.\u001b[39;49m\u001b[39m__add__\u001b[39;49m)\n",
      "File \u001b[0;32m~/miniconda3/envs/basic_clean/lib/python3.8/dis.py:85\u001b[0m, in \u001b[0;36mdis\u001b[0;34m(x, file, depth)\u001b[0m\n\u001b[1;32m     83\u001b[0m     _disassemble_str(x, file\u001b[39m=\u001b[39mfile, depth\u001b[39m=\u001b[39mdepth)\n\u001b[1;32m     84\u001b[0m \u001b[39melse\u001b[39;00m:\n\u001b[0;32m---> 85\u001b[0m     \u001b[39mraise\u001b[39;00m \u001b[39mTypeError\u001b[39;00m(\u001b[39m\"\u001b[39m\u001b[39mdon\u001b[39m\u001b[39m'\u001b[39m\u001b[39mt know how to disassemble \u001b[39m\u001b[39m%s\u001b[39;00m\u001b[39m objects\u001b[39m\u001b[39m\"\u001b[39m \u001b[39m%\u001b[39m\n\u001b[1;32m     86\u001b[0m                     \u001b[39mtype\u001b[39m(x)\u001b[39m.\u001b[39m\u001b[39m__name__\u001b[39m)\n",
      "\u001b[0;31mTypeError\u001b[0m: don't know how to disassemble method-wrapper objects"
     ]
    }
   ],
   "source": [
    "from dis import dis\n",
    "\n",
    "'1' + '2'\n",
    "dis('1'.__add__)"
   ]
  },
  {
   "cell_type": "code",
   "execution_count": 5,
   "metadata": {},
   "outputs": [
    {
     "data": {
      "text/plain": [
       "5"
      ]
     },
     "execution_count": 5,
     "metadata": {},
     "output_type": "execute_result"
    }
   ],
   "source": [
    "(2).__add__(3)"
   ]
  },
  {
   "cell_type": "code",
   "execution_count": 7,
   "metadata": {},
   "outputs": [
    {
     "data": {
      "text/plain": [
       "'23'"
      ]
     },
     "execution_count": 7,
     "metadata": {},
     "output_type": "execute_result"
    }
   ],
   "source": [
    "('2').__add__('3')"
   ]
  },
  {
   "attachments": {},
   "cell_type": "markdown",
   "metadata": {},
   "source": [
    "https://github.com/python/cpython/blob/main/Objects/longobject.c\n",
    "\n",
    "```C\n",
    "/* Add the absolute values of two integers. */\n",
    "\n",
    "static PyLongObject *\n",
    "x_add(PyLongObject *a, PyLongObject *b)\n",
    "{\n",
    "    Py_ssize_t size_a = Py_ABS(Py_SIZE(a)), size_b = Py_ABS(Py_SIZE(b));\n",
    "    PyLongObject *z;\n",
    "    Py_ssize_t i;\n",
    "    digit carry = 0;\n",
    "\n",
    "    /* Ensure a is the larger of the two: */\n",
    "    if (size_a < size_b) {\n",
    "        { PyLongObject *temp = a; a = b; b = temp; }\n",
    "        { Py_ssize_t size_temp = size_a;\n",
    "            size_a = size_b;\n",
    "            size_b = size_temp; }\n",
    "    }\n",
    "    z = _PyLong_New(size_a+1);\n",
    "    if (z == NULL)\n",
    "        return NULL;\n",
    "    for (i = 0; i < size_b; ++i) {\n",
    "        carry += a->ob_digit[i] + b->ob_digit[i];\n",
    "        z->ob_digit[i] = carry & PyLong_MASK;\n",
    "        carry >>= PyLong_SHIFT;\n",
    "    }\n",
    "    for (; i < size_a; ++i) {\n",
    "        carry += a->ob_digit[i];\n",
    "        z->ob_digit[i] = carry & PyLong_MASK;\n",
    "        carry >>= PyLong_SHIFT;\n",
    "    }\n",
    "    z->ob_digit[i] = carry;\n",
    "    return long_normalize(z);\n",
    "}\n",
    "```\n",
    "\n",
    "for `str`\n",
    "```C\n",
    "static PyObject *\n",
    "string_add(PyObject *self, PyObject *other)\n",
    "{\n",
    "    if (!PyUnicode_Check(other)) {\n",
    "        PyErr_Format(PyExc_TypeError,\n",
    "                     \"can only concatenate str (not \\\"%s\\\") to str\",\n",
    "                     Py_TYPE(other)->tp_name);\n",
    "        return NULL;\n",
    "    }\n",
    "    return PyUnicode_Concat(self, other);\n",
    "}\n",
    "```"
   ]
  }
 ],
 "metadata": {
  "kernelspec": {
   "display_name": "basic_clean",
   "language": "python",
   "name": "python3"
  },
  "language_info": {
   "codemirror_mode": {
    "name": "ipython",
    "version": 3
   },
   "file_extension": ".py",
   "mimetype": "text/x-python",
   "name": "python",
   "nbconvert_exporter": "python",
   "pygments_lexer": "ipython3",
   "version": "3.8.15 (default, Nov  4 2022, 20:59:55) \n[GCC 11.2.0]"
  },
  "orig_nbformat": 4,
  "vscode": {
   "interpreter": {
    "hash": "def76ed885bc94f182c997508dd94bdc1bafad87e7bfd4e70b216ce388e01bfe"
   }
  }
 },
 "nbformat": 4,
 "nbformat_minor": 2
}
