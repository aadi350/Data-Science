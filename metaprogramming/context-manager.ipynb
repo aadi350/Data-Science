{
 "cells": [
  {
   "cell_type": "code",
   "execution_count": 18,
   "metadata": {},
   "outputs": [],
   "source": [
    "from sqlite3 import connect\n",
    "\n",
    "class ctxman:\n",
    "    def __init__(self, con):\n",
    "        self.con = con\n",
    "\n",
    "    def __enter__(self, ):\n",
    "        # do some initialization here\n",
    "        print(f'{self} __enter__ run')\n",
    "        self.con.execute(('create table points(x int, y int);'))\n",
    "\n",
    "    def __exit__(self, *args):\n",
    "        print(f'{self} __exit__ run')\n",
    "        print(args)\n",
    "\n",
    "        self.con.execute('drop table points')\n"
   ]
  },
  {
   "cell_type": "code",
   "execution_count": 21,
   "metadata": {},
   "outputs": [
    {
     "name": "stdout",
     "output_type": "stream",
     "text": [
      "<__main__.ctxman object at 0x7efe5839e7d0> __enter__ run\n",
      "<__main__.ctxman object at 0x7efe5839e7d0> __exit__ run\n",
      "(<class 'NameError'>, NameError(\"name 'con' is not defined\"), <traceback object at 0x7efe43089e40>)\n"
     ]
    },
    {
     "ename": "NameError",
     "evalue": "name 'con' is not defined",
     "output_type": "error",
     "traceback": [
      "\u001b[0;31m---------------------------------------------------------------------------\u001b[0m",
      "\u001b[0;31mNameError\u001b[0m                                 Traceback (most recent call last)",
      "Cell \u001b[0;32mIn [21], line 3\u001b[0m\n\u001b[1;32m      1\u001b[0m \u001b[39mwith\u001b[39;00m connect(\u001b[39m'\u001b[39m\u001b[39mtest.db\u001b[39m\u001b[39m'\u001b[39m) \u001b[39mas\u001b[39;00m conn:\n\u001b[1;32m      2\u001b[0m     \u001b[39mwith\u001b[39;00m ctxman(conn\u001b[39m.\u001b[39mcursor()):\n\u001b[0;32m----> 3\u001b[0m         con\u001b[39m.\u001b[39mexecute\n",
      "\u001b[0;31mNameError\u001b[0m: name 'con' is not defined"
     ]
    }
   ],
   "source": [
    "with connect('test.db') as conn:\n",
    "    with ctxman(conn.cursor()):\n",
    "        con.execute # hmm"
   ]
  },
  {
   "cell_type": "code",
   "execution_count": null,
   "metadata": {},
   "outputs": [],
   "source": []
  }
 ],
 "metadata": {
  "kernelspec": {
   "display_name": "Python 3.10.6 ('usr')",
   "language": "python",
   "name": "python3"
  },
  "language_info": {
   "codemirror_mode": {
    "name": "ipython",
    "version": 3
   },
   "file_extension": ".py",
   "mimetype": "text/x-python",
   "name": "python",
   "nbconvert_exporter": "python",
   "pygments_lexer": "ipython3",
   "version": "3.10.6"
  },
  "orig_nbformat": 4,
  "vscode": {
   "interpreter": {
    "hash": "767d51c1340bd893661ea55ea3124f6de3c7a262a8b4abca0554b478b1e2ff90"
   }
  }
 },
 "nbformat": 4,
 "nbformat_minor": 2
}
